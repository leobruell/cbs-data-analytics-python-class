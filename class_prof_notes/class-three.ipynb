{
 "cells": [
  {
   "cell_type": "markdown",
   "metadata": {},
   "source": [
    "<h2>Pandas datareader</h2>\n",
    "<li><span style=\"color:blue\">pandas_datareader</span> is a python library that gets financial data from various sources on the web and returns the data in the form of a dataframe</li>\n",
    "<li><a href=\"https://pandas-datareader.readthedocs.io/en/latest/remote_data.html\">documented sources</a>, but also others like <span style=\"color:blue\">yahoo finance</span></li>\n",
    "<li><a href=\"http://pandas-datareader.readthedocs.io/en/latest/\">http://pandas-datareader.readthedocs.io/en/latest/</a></h2>\n"
   ]
  },
  {
   "cell_type": "code",
   "execution_count": null,
   "metadata": {},
   "outputs": [],
   "source": [
    "#!pip install pandas --upgrade\n",
    "#!pip install pandas-datareader --upgrade"
   ]
  },
  {
   "cell_type": "code",
   "execution_count": null,
   "metadata": {},
   "outputs": [],
   "source": [
    "import pandas as pd\n",
    "import pandas_datareader\n",
    "print(pd.__version__)\n",
    "print(pandas_datareader.__version__)"
   ]
  },
  {
   "cell_type": "code",
   "execution_count": null,
   "metadata": {},
   "outputs": [],
   "source": [
    "import pandas as pd #pandas library\n",
    "from pandas_datareader import data as pdr #data readers (yahoo, tingo, etc.)\n",
    "import numpy as np\n",
    "import matplotlib.pyplot as plt #Plotting library\n",
    "import datetime #library for time support"
   ]
  },
  {
   "cell_type": "code",
   "execution_count": null,
   "metadata": {},
   "outputs": [],
   "source": []
  },
  {
   "cell_type": "markdown",
   "metadata": {},
   "source": [
    "<h1>Pandas and Timeseries data</h1>"
   ]
  },
  {
   "cell_type": "markdown",
   "metadata": {},
   "source": [
    "<h2>Getting historical stock prices from yahoo finance</h2>\n",
    "Usage: DataReader(ticker,source,startdate,enddate)<br>\n",
    "\n",
    "<h2><b>datetime</b>: Python library for reasoning about time</h2>\n",
    "<li><b>datetime.datetime</b>: functions and objects for time (date+time)</li>\n",
    "<li><b>datetime.date</b>: functions and objects for date (not time, days only)</li>\n",
    "<li><b>datetime.timedelta</b>: functions and objects for time differences</li>\n",
    "<li>The function <b>datetime.datetime.strptime</b> converts a text string into a datetime object</li>\n",
    "<li>The function <b>datetime.datetime.strftime</b> converts a datetime object into an appropriately formatted text string (formatted printing, saving to a file)</li>"
   ]
  },
  {
   "cell_type": "code",
   "execution_count": null,
   "metadata": {},
   "outputs": [],
   "source": [
    "import datetime\n",
    "today = datetime.date(2023,1,31) #datetime.date object\n",
    "yesterday = datetime.date(2023,1,30) #datetime.date object\n",
    "diff = today - yesterday #datetime.timedelta object\n",
    "print(today,yesterday,diff)\n",
    "print(type(diff))"
   ]
  },
  {
   "cell_type": "code",
   "execution_count": null,
   "metadata": {},
   "outputs": [],
   "source": [
    "now = datetime.datetime.now() #datetime.datetime object\n",
    "then = datetime.datetime(2000,1,1,0,0,0) #datetime.datetime object\n",
    "diff = now - then #datetime.timedelta object\n",
    "print(now, then, diff)"
   ]
  },
  {
   "cell_type": "markdown",
   "metadata": {},
   "source": [
    "<h3>strptime and strftime</h3>\n",
    "<li>strptime and strftime handle conversions between datetime objects and locale (the standard used in your locale) formats</li>\n",
    "<li>Useful when you read time from a file as a string and need to convert it into a datatime object (or vice versa)</li>\n",
    "<li>See https://pubs.opengroup.org/onlinepubs/007904875/functions/strptime.html for formats</li>\n"
   ]
  },
  {
   "cell_type": "code",
   "execution_count": null,
   "metadata": {},
   "outputs": [],
   "source": [
    "start_time = \"01/01/2000 10:26:44 AM\"\n",
    "end_time = \"Monday, Sep 26 2024 15:25:21\"\n",
    "dt_start_time = datetime.datetime.strptime(start_time,\"%m/%d/%Y %I:%M:%S %p\")\n",
    "dt_end_time = datetime.datetime.strptime(end_time,\"%A, %b %d %Y %H:%M:%S\")\n",
    "time_to_completion = dt_end_time - dt_start_time\n",
    "europe_end_time = datetime.datetime.strftime(dt_end_time,\"%d/%m/%Y %H:%M:%S\")\n",
    "print(dt_start_time)\n",
    "print(dt_end_time)\n",
    "print(time_to_completion)\n",
    "print(europe_end_time)"
   ]
  },
  {
   "cell_type": "markdown",
   "metadata": {},
   "source": [
    "<h2>Getting data from Pandas Datareader</h2>\n",
    "<li>Datareader, typically, takes upto 5 arguments</li>\n",
    "<ul>\n",
    "    <li>A ticker (or other identifier) or a list of tickers (identifiers)</li>\n",
    "    <li>The source (tiingo, fred, etc.)</li>\n",
    "    <li>The start date for the data (optional, defaults to 5 years)</li>\n",
    "    <li>The end date for the data (optional, defaults to now)</li>\n",
    "    <li>Any additional parameters (optional, e.g., API keys, databases, etc.)"
   ]
  },
  {
   "cell_type": "code",
   "execution_count": null,
   "metadata": {},
   "outputs": [],
   "source": [
    "#Example GDP data from FRED\n",
    "pdr.DataReader(\"GDP\",'fred')"
   ]
  },
  {
   "cell_type": "markdown",
   "metadata": {},
   "source": [
    "<h3>Stock data from tiingo</h3>\n",
    "<li>Needs an API key</li>\n",
    "<li>https://api.tiingo.com/</li>"
   ]
  },
  {
   "cell_type": "code",
   "execution_count": null,
   "metadata": {},
   "outputs": [],
   "source": [
    "with open('../credentials/tiingo','r') as f:\n",
    "    TIINGO_API_KEY = f.read().strip()\n",
    "    \n"
   ]
  },
  {
   "cell_type": "code",
   "execution_count": null,
   "metadata": {},
   "outputs": [],
   "source": [
    "from pandas_datareader import data as pdr\n",
    "import datetime\n",
    "start=datetime.datetime(2000, 1, 1)\n",
    "end=datetime.datetime.today()\n",
    "print(start,end)\n",
    "\n",
    "df = pdr.DataReader([\"IBM\"], 'tiingo', start, end,api_key=TIINGO_API_KEY).loc[\"IBM\"]"
   ]
  },
  {
   "cell_type": "code",
   "execution_count": null,
   "metadata": {},
   "outputs": [],
   "source": [
    "df"
   ]
  },
  {
   "cell_type": "markdown",
   "metadata": {},
   "source": [
    "<h2>Timeseries data in Pandas</h2>\n",
    "<li>DataFrames can be organized for timeseries data</li>\n",
    "<li>Typically, the index is time and the columns are the data objects</li>\n",
    "<li>The index may be a simple ordering or may contain time enabled data (DatetimeIndex in Pandas)</li>\n",
    "<li>Pandas datareader returns an index already in DatetimeIndex format</li>"
   ]
  },
  {
   "cell_type": "code",
   "execution_count": null,
   "metadata": {},
   "outputs": [],
   "source": [
    "df.info()"
   ]
  },
  {
   "cell_type": "markdown",
   "metadata": {},
   "source": [
    "<h3>Working with a timeseries data frame</h3>\n",
    "<li>The data is organized with time as an index</li>\n",
    "<li>And <span style=\"color:blue\">time based</span> reasoning is possible</li>\n"
   ]
  },
  {
   "cell_type": "code",
   "execution_count": null,
   "metadata": {
    "scrolled": true
   },
   "outputs": [],
   "source": [
    "#Get me the data for August 2010\n",
    "df.loc[\"August 2010\"]\n"
   ]
  },
  {
   "cell_type": "markdown",
   "metadata": {},
   "source": [
    "<h4>Calculate percent changes</h4>\n",
    "<li>The function pct_change computes a percent change between successive rows (times in  timeseries data)\n",
    "<li>Defaults to a single time delta\n",
    "<li>With an argument, the time delta can be changed\n",
    "<li>provides nan support\n",
    "<li><a href=\"https://pandas.pydata.org/pandas-docs/stable/reference/api/pandas.DataFrame.pct_change.html\">https://pandas.pydata.org/pandas-docs/stable/reference/api/pandas.DataFrame.pct_change.html</a>"
   ]
  },
  {
   "cell_type": "code",
   "execution_count": null,
   "metadata": {},
   "outputs": [],
   "source": [
    "p_change = df['adjClose'].pct_change() #One timeperiod percent change\n",
    "p_change"
   ]
  },
  {
   "cell_type": "code",
   "execution_count": null,
   "metadata": {},
   "outputs": [],
   "source": [
    "pct_chg_2 = df.adjClose.pct_change(2) #two time period (t(i) - t(i-2))/t(i-2)\n",
    "pct_chg_2"
   ]
  },
  {
   "cell_type": "markdown",
   "metadata": {},
   "source": [
    "<li>Time enabled reasoning lets us reason about different segments of time</li>\n",
    "<li>The function <span style=\"color:blue\">resample</span> changes the time frame</li>\n",
    "<li><a href=\"https://pandas.pydata.org/docs/user_guide/timeseries.html#timeseries-offset-aliases\">resampling offset guide</a></li>"
   ]
  },
  {
   "cell_type": "code",
   "execution_count": null,
   "metadata": {},
   "outputs": [],
   "source": [
    "#Get the average adjClose for each month that IBM has traded since 2000\n",
    "df.adjClose.resample(\"M\").mean()"
   ]
  },
  {
   "cell_type": "code",
   "execution_count": null,
   "metadata": {},
   "outputs": [],
   "source": [
    "#Month by month averages\n",
    "#Collects daily data for each month and computes the mean daily change for that month\n",
    "print(\"Mean daily percent change for each month: \\n\",p_change.resample('M').mean()*100.0)"
   ]
  },
  {
   "cell_type": "code",
   "execution_count": null,
   "metadata": {},
   "outputs": [],
   "source": [
    "#Yearly\n",
    "#Collects daily data for each year and computes the mean daily change for that year\n",
    "\n",
    "print(\"Mean daily percent change for each year:\\n\",p_change.resample('Y').mean()*100.0)"
   ]
  },
  {
   "cell_type": "code",
   "execution_count": null,
   "metadata": {},
   "outputs": [],
   "source": [
    "#Quarterly\n",
    "print(\"Mean daily percent change for each quarter:\\n\",p_change.resample('Q').mean())"
   ]
  },
  {
   "cell_type": "code",
   "execution_count": null,
   "metadata": {},
   "outputs": [],
   "source": [
    "#df.adjClose.loc[\"2000-04-30\"] #Key error because 4/30/2001 was not a business day\n",
    "df.adjClose.loc[\"2000-04-28\"]"
   ]
  },
  {
   "cell_type": "code",
   "execution_count": null,
   "metadata": {},
   "outputs": [],
   "source": [
    "#Get the month end prices (similarly BQ/BY)\n",
    "#Alternatives to last: first, max, min, sum, mean\n",
    "\n",
    "df.adjClose.resample('BM',).apply({'Adj Close':'last'})"
   ]
  },
  {
   "cell_type": "markdown",
   "metadata": {},
   "source": [
    "<h3>shift a series n-time periods</h3>"
   ]
  },
  {
   "cell_type": "code",
   "execution_count": null,
   "metadata": {},
   "outputs": [],
   "source": [
    "df.adjClose"
   ]
  },
  {
   "cell_type": "code",
   "execution_count": null,
   "metadata": {},
   "outputs": [],
   "source": [
    "df.adjClose.shift(1,freq='D')"
   ]
  },
  {
   "cell_type": "markdown",
   "metadata": {},
   "source": [
    "<li>A <span style=\"color:blue\">DatetimeIndex</span> dataframe automatically treats the index as time on the x-axis</li>\n",
    "<li>Super useful for plotting data</li>"
   ]
  },
  {
   "cell_type": "code",
   "execution_count": null,
   "metadata": {},
   "outputs": [],
   "source": [
    "p_change.resample('Y').sum()"
   ]
  },
  {
   "cell_type": "code",
   "execution_count": null,
   "metadata": {},
   "outputs": [],
   "source": [
    "p_change.resample('Y').sum().plot()"
   ]
  },
  {
   "cell_type": "code",
   "execution_count": null,
   "metadata": {},
   "outputs": [],
   "source": [
    "#Nan's are ignored by aggregate functions\n",
    "n=13\n",
    "df.adjClose.pct_change(n).mean()"
   ]
  },
  {
   "cell_type": "markdown",
   "metadata": {},
   "source": [
    "<h3>Rolling windows</h3>\n",
    "<li>\"rolling\" function extracts rolling windows\n",
    "<li>For example, the 21 period rolling window of the 13 period percent change "
   ]
  },
  {
   "cell_type": "code",
   "execution_count": null,
   "metadata": {},
   "outputs": [],
   "source": [
    "df['close'].pct_change(1)"
   ]
  },
  {
   "cell_type": "code",
   "execution_count": null,
   "metadata": {},
   "outputs": [],
   "source": [
    "n=3\n",
    "df['close'].pct_change().rolling(n)"
   ]
  },
  {
   "cell_type": "markdown",
   "metadata": {},
   "source": [
    "<h4>Calculate something on the rolling windows</h4>"
   ]
  },
  {
   "cell_type": "markdown",
   "metadata": {},
   "source": [
    "<h4>Example: mean (the 21 day moving average of the 13 day percent change)"
   ]
  },
  {
   "cell_type": "code",
   "execution_count": null,
   "metadata": {},
   "outputs": [],
   "source": [
    "n=3\n",
    "df['close'].pct_change().rolling(n).mean()"
   ]
  },
  {
   "cell_type": "markdown",
   "metadata": {},
   "source": [
    "<h4>Calculate several moving averages and graph them</h4>"
   ]
  },
  {
   "cell_type": "code",
   "execution_count": null,
   "metadata": {},
   "outputs": [],
   "source": [
    "n=1\n",
    "ma_8 = df['close'].pct_change(n).rolling(window=8).mean()\n",
    "ma_13= df['close'].pct_change(n).rolling(window=13).mean()\n",
    "ma_21= df['close'].pct_change(n).rolling(window=21).mean()\n",
    "ma_34= df['close'].pct_change(n).rolling(window=34).mean()\n",
    "ma_55= df['close'].pct_change(n).rolling(window=55).mean()"
   ]
  },
  {
   "cell_type": "code",
   "execution_count": null,
   "metadata": {},
   "outputs": [],
   "source": [
    "ma_8[1:500].plot()\n",
    "ma_55[1:500].plot()"
   ]
  },
  {
   "cell_type": "code",
   "execution_count": null,
   "metadata": {},
   "outputs": [],
   "source": [
    "ma_8.plot()"
   ]
  },
  {
   "cell_type": "markdown",
   "metadata": {},
   "source": [
    "<h3>Numpy style boolean masks work in pandas</h3>"
   ]
  },
  {
   "cell_type": "code",
   "execution_count": null,
   "metadata": {},
   "outputs": [],
   "source": [
    "ma_8"
   ]
  },
  {
   "cell_type": "code",
   "execution_count": null,
   "metadata": {},
   "outputs": [],
   "source": [
    "ma_8 > 0.001"
   ]
  },
  {
   "cell_type": "code",
   "execution_count": null,
   "metadata": {},
   "outputs": [],
   "source": [
    "ma_13[ma_8 > ma_13].mean()"
   ]
  },
  {
   "cell_type": "markdown",
   "metadata": {},
   "source": [
    "<h3>A simple trading mean reversal trading strategy</h3>\n",
    "<b>Don't try this at home!</b>\n",
    "<li>If the stock goes up more than .5% on day 1, it will go down on day 2</li>\n",
    "<li>What is the expected return from this strategy</li>"
   ]
  },
  {
   "cell_type": "code",
   "execution_count": null,
   "metadata": {},
   "outputs": [],
   "source": [
    "up_days = df.adjClose.pct_change() > 0.005\n",
    "trade_days = up_days.shift(1,fill_value=False)\n",
    "df.adjClose.pct_change()[trade_days].mean()"
   ]
  },
  {
   "cell_type": "markdown",
   "metadata": {},
   "source": [
    "<h1>Quick analysis</h1>\n",
    "<h2>Linear regression with pandas</h2>\n",
    "<li>Example: TAN is the ticker for a solar ETF. FSLR, NEP, and SPWR are tickers of companies that build or lease solar panels. Each has a different business model. We'll use pandas to study the risk reward tradeoff between the 4 investments and also see how correlated they are</li>\n",
    "<li>We'll use Tiingo to get pricing data. Tiingo needs an API key. Sign up and get the key from <a href=\"https://api.tiingo.com/\">https://api.tiingo.com/</a></li>"
   ]
  },
  {
   "cell_type": "code",
   "execution_count": null,
   "metadata": {},
   "outputs": [],
   "source": [
    "with open('../credentials/tiingo','r') as f:\n",
    "    TIINGO_API_KEY = f.read().strip()\n",
    "    \n"
   ]
  },
  {
   "cell_type": "code",
   "execution_count": null,
   "metadata": {},
   "outputs": [],
   "source": [
    "\n",
    "import datetime\n",
    "import pandas as pd\n",
    "import pandas_datareader.data as pdr\n",
    "start = datetime.datetime(2015,7,1)\n",
    "end = datetime.date.today()\n",
    "df = pdr.get_data_tiingo(['FSLR', 'TAN','NEP','SPWR'], start,end,api_key=TIINGO_API_KEY)\n"
   ]
  },
  {
   "cell_type": "code",
   "execution_count": null,
   "metadata": {},
   "outputs": [],
   "source": [
    "df"
   ]
  },
  {
   "cell_type": "code",
   "execution_count": null,
   "metadata": {},
   "outputs": [],
   "source": []
  },
  {
   "cell_type": "code",
   "execution_count": null,
   "metadata": {},
   "outputs": [],
   "source": [
    "df.index.unique('symbol')"
   ]
  },
  {
   "cell_type": "code",
   "execution_count": null,
   "metadata": {},
   "outputs": [],
   "source": [
    "solar_df = pd.DataFrame()\n",
    "for ind in df.index.unique('symbol'):\n",
    "    solar_df[ind] = df['adjClose'].loc[ind]\n"
   ]
  },
  {
   "cell_type": "code",
   "execution_count": null,
   "metadata": {},
   "outputs": [],
   "source": [
    "solar_df"
   ]
  },
  {
   "cell_type": "markdown",
   "metadata": {},
   "source": [
    "<h4>Let's calculate returns (the 1 day percent change)</h4>"
   ]
  },
  {
   "cell_type": "code",
   "execution_count": null,
   "metadata": {},
   "outputs": [],
   "source": [
    "rets = solar_df.pct_change()\n",
    "print(rets)"
   ]
  },
  {
   "cell_type": "markdown",
   "metadata": {},
   "source": [
    "<h4>Let's visualize the relationship between each stock and the ETF</h4>"
   ]
  },
  {
   "cell_type": "code",
   "execution_count": null,
   "metadata": {},
   "outputs": [],
   "source": [
    "import matplotlib.pyplot as plt\n",
    "plt.scatter(rets.FSLR,rets.TAN)"
   ]
  },
  {
   "cell_type": "code",
   "execution_count": null,
   "metadata": {},
   "outputs": [],
   "source": [
    "plt.scatter(rets.NEP,rets.TAN)"
   ]
  },
  {
   "cell_type": "code",
   "execution_count": null,
   "metadata": {},
   "outputs": [],
   "source": [
    "plt.scatter(rets.SPWR,rets.TAN)"
   ]
  },
  {
   "cell_type": "markdown",
   "metadata": {},
   "source": [
    "<h4>The correlation matrix</h4>"
   ]
  },
  {
   "cell_type": "code",
   "execution_count": null,
   "metadata": {},
   "outputs": [],
   "source": [
    "solar_corr = rets.corr()\n",
    "print(solar_corr)"
   ]
  },
  {
   "cell_type": "markdown",
   "metadata": {},
   "source": [
    "<h3>Basic risk analysis</h3>\n",
    "<h4>We'll plot the mean and std or returns for each ticker to get a sense of the risk return profile</h4>\n",
    "<li>And add labels and formatting to each (mean,std) pair for readability</li>\n",
    "<li>See <a href=\"https://matplotlib.org/3.3.2/api/_as_gen/matplotlib.pyplot.annotate.html\">matplotlib annotate</a></li>"
   ]
  },
  {
   "cell_type": "code",
   "execution_count": null,
   "metadata": {},
   "outputs": [],
   "source": [
    "plt.scatter(rets.mean(), rets.std())\n",
    "plt.xlabel('Expected returns')\n",
    "plt.ylabel('Standard deviations')\n"
   ]
  },
  {
   "cell_type": "code",
   "execution_count": null,
   "metadata": {},
   "outputs": [],
   "source": [
    "list(zip(rets.columns, rets.mean(), rets.std()))"
   ]
  },
  {
   "cell_type": "code",
   "execution_count": null,
   "metadata": {},
   "outputs": [],
   "source": [
    "plt.scatter(rets.mean(), rets.std())\n",
    "plt.xlabel('Expected returns')\n",
    "plt.ylabel('Standard deviations')\n",
    "for label, x, y in zip(rets.columns, rets.mean(), rets.std()):\n",
    "    plt.annotate(\n",
    "        label,                                                        #annotation text\n",
    "        xy = (x, y),                                                  #point being annotated\n",
    "        xytext = (20, -30),\n",
    "        textcoords = 'offset points',                                 #text coord fmt (offset points from xy)\n",
    "        ha = 'right',                                                 #horizontal alignment\n",
    "        va = 'bottom',                                                #vertical alignment\n",
    "        bbox = dict(boxstyle = 'round,pad=0.5', fc = 'yellow', alpha = 0.5),  #A yellow box around the text\n",
    "        arrowprops = dict(arrowstyle = '->', connectionstyle = 'arc3,rad=0')) #arrow to the box\n",
    "plt.show()\n"
   ]
  },
  {
   "cell_type": "markdown",
   "metadata": {},
   "source": [
    "<h2>Regressions</h2>\n",
    "<li><a href=\"https://www.statsmodels.org/stable/api.html\">statsmodels</a> is a python library for estimating different statistical models</li>\n",
    "<li>We'll use the <a href=\"https://www.statsmodels.org/stable/generated/statsmodels.regression.linear_model.OLS.html#statsmodels.regression.linear_model.OLS\">OLS</a> package to run a linear regression with daily returns on the ETF as the dependent variable and daily returns on the component stocks as independent variables</li> \n"
   ]
  },
  {
   "cell_type": "markdown",
   "metadata": {},
   "source": [
    "<h3>Steps for regression</h3>\n",
    "<li>Construct y (dependent variable series)\n",
    "<li>Construct matrix (dataframe) of X (independent variable series)\n",
    "<li>Add intercept\n",
    "<li>Model the regression\n",
    "<li>Get the results\n",
    "<h3>The statsmodels library contains various regression packages. We'll use the OLS (Ordinary Least Squares) model"
   ]
  },
  {
   "cell_type": "code",
   "execution_count": null,
   "metadata": {},
   "outputs": [],
   "source": [
    "rets = solar_df.pct_change()\n",
    "rets"
   ]
  },
  {
   "cell_type": "code",
   "execution_count": null,
   "metadata": {},
   "outputs": [],
   "source": [
    "import numpy as np\n",
    "import statsmodels.api as sm\n",
    "X=rets[['FSLR','NEP','SPWR']] #The independent variables data\n",
    "X = sm.add_constant(X) #Add a constant (alpha)\n",
    "y=rets['TAN'] #The dependent variable\n",
    "model = sm.OLS(y,X,missing='drop') #Build the model (drop missing values)\n",
    "result = model.fit() #fit the data to the model\n",
    "print(result.summary()) #Print the results"
   ]
  },
  {
   "cell_type": "markdown",
   "metadata": {},
   "source": [
    "<h4>If we want, plot the fitted line with the actual y values"
   ]
  },
  {
   "cell_type": "code",
   "execution_count": null,
   "metadata": {},
   "outputs": [],
   "source": [
    "fig, ax = plt.subplots(figsize=(8,6))\n",
    "ax.plot(y[:100])\n",
    "ax.plot(result.fittedvalues[:100])"
   ]
  },
  {
   "cell_type": "code",
   "execution_count": null,
   "metadata": {},
   "outputs": [],
   "source": []
  }
 ],
 "metadata": {
  "kernelspec": {
   "display_name": "Python 3 (ipykernel)",
   "language": "python",
   "name": "python3"
  },
  "language_info": {
   "codemirror_mode": {
    "name": "ipython",
    "version": 3
   },
   "file_extension": ".py",
   "mimetype": "text/x-python",
   "name": "python",
   "nbconvert_exporter": "python",
   "pygments_lexer": "ipython3",
   "version": "3.9.7"
  },
  "toc": {
   "base_numbering": 1,
   "nav_menu": {},
   "number_sections": true,
   "sideBar": true,
   "skip_h1_title": false,
   "title_cell": "Table of Contents",
   "title_sidebar": "Contents",
   "toc_cell": false,
   "toc_position": {},
   "toc_section_display": true,
   "toc_window_display": false
  }
 },
 "nbformat": 4,
 "nbformat_minor": 2
}
