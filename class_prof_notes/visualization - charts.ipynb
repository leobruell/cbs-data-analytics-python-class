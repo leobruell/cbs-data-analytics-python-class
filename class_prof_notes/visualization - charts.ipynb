{
 "cells": [
  {
   "cell_type": "markdown",
   "metadata": {},
   "source": [
    "<br><br><br><br>\n",
    "<span style=\"color:red;font-size:60px\">Charts and graphs</span>\n",
    "<br><br>\n",
    "<li><span style=\"color:green\">matplotlib </span>Python's integrated plotting library</li>\n",
    "<li><span style=\"color:green\">bokeh </span>Interactive plotting library</li>\n"
   ]
  },
  {
   "cell_type": "markdown",
   "metadata": {},
   "source": [
    "<br><br><br><br>\n",
    "<span style=\"color:blue;font-size:large\">matplotlib</span>\n",
    "<li><a href=\"https://matplotlib.org\">https://matplotlib.org</a></li>\n",
    "<li>easy to use and tight coupling with pandas</li>\n"
   ]
  },
  {
   "cell_type": "markdown",
   "metadata": {},
   "source": [
    "<br><br><br><br>\n",
    "<span style=\"color:blue;font-size:large\">bokeh</span>\n",
    "<li><a href=\"https://docs.bokeh.org/en/latest/\">https://docs.bokeh.org/en/latest/</a></li>\n",
    "<li>interactive plotting, growing mapping functionality, presentation ready graphs</li>\n",
    "<li>requires a bit more work</li>\n"
   ]
  },
  {
   "cell_type": "markdown",
   "metadata": {},
   "source": [
    "<br><br><br><br>\n",
    "<span style=\"color:blue;font-size:large\">What kinds of visuals are possible</span>\n",
    "<li>Tons and tons</li>\n",
    "<li>Best approach: think of how you want to show your data or results and then google till you find the right way to do it</li>\n",
    "<li><b>Almost anything is possible!</b></li>"
   ]
  },
  {
   "cell_type": "markdown",
   "metadata": {},
   "source": [
    "<br><br><br><br>\n",
    "<span style=\"color:green;font-size:xx-large\">setup</span>\n",
    "<br><br>\n",
    "<li><b>Important</b>: We will use version 2.4.3 rather than the latest (3.0.3). The latter has bugs working with Jupyter notebooks (set to be fixed in version 3.1)</li>\n",
    "<li>!pip install bokeh</li>\n",
    "<li>OR</li>\n",
    "<li>!conda install --yes bokeh</li>\n",
    "<li>matplotlib comes pre-installed with anaconda</li>\n",
    "<li>In the notebook, select \"File --> Trust notebook\" from the menubar. Your graphs will be available when you reopen the notebook"
   ]
  },
  {
   "cell_type": "code",
   "execution_count": 1,
   "metadata": {},
   "outputs": [
    {
     "name": "stdout",
     "output_type": "stream",
     "text": [
      "Requirement already satisfied: bokeh==2.4.3 in /home/leo/anaconda3/lib/python3.9/site-packages (2.4.3)\n",
      "Requirement already satisfied: PyYAML>=3.10 in /home/leo/anaconda3/lib/python3.9/site-packages (from bokeh==2.4.3) (6.0)\n",
      "Requirement already satisfied: pillow>=7.1.0 in /home/leo/anaconda3/lib/python3.9/site-packages (from bokeh==2.4.3) (9.3.0)\n",
      "Requirement already satisfied: tornado>=5.1 in /home/leo/anaconda3/lib/python3.9/site-packages (from bokeh==2.4.3) (6.2)\n",
      "Requirement already satisfied: Jinja2>=2.9 in /home/leo/anaconda3/lib/python3.9/site-packages (from bokeh==2.4.3) (2.11.3)\n",
      "Requirement already satisfied: typing-extensions>=3.10.0 in /home/leo/anaconda3/lib/python3.9/site-packages (from bokeh==2.4.3) (4.4.0)\n",
      "Requirement already satisfied: numpy>=1.11.3 in /home/leo/anaconda3/lib/python3.9/site-packages (from bokeh==2.4.3) (1.24.1)\n",
      "Requirement already satisfied: packaging>=16.8 in /home/leo/anaconda3/lib/python3.9/site-packages (from bokeh==2.4.3) (22.0)\n",
      "Requirement already satisfied: MarkupSafe>=0.23 in /home/leo/anaconda3/lib/python3.9/site-packages (from Jinja2>=2.9->bokeh==2.4.3) (2.0.1)\n"
     ]
    }
   ],
   "source": [
    "!pip install bokeh==2.4.3"
   ]
  },
  {
   "cell_type": "code",
   "execution_count": 2,
   "metadata": {},
   "outputs": [
    {
     "data": {
      "text/plain": [
       "'2.4.3'"
      ]
     },
     "execution_count": 2,
     "metadata": {},
     "output_type": "execute_result"
    }
   ],
   "source": [
    "import bokeh\n",
    "bokeh.__version__ "
   ]
  },
  {
   "cell_type": "markdown",
   "metadata": {},
   "source": [
    "<br><br><br><br>\n",
    "<span style=\"color:green;font-size:50px\">Interactive charts with bokeh</span>\n",
    "<br><br>"
   ]
  },
  {
   "cell_type": "markdown",
   "metadata": {},
   "source": [
    "<br><br><br><br>\n",
    "<span style=\"color:blue;font-size:large\">bokeh</span>\n",
    "<li>import libraries</li>\n",
    "<li>run output_notebook() to display charts inline</li>\n",
    "<li>output_notebook() should say \"BokehJS 2.4.3 successfully loaded.\" (or something went wrong!)</li>"
   ]
  },
  {
   "cell_type": "code",
   "execution_count": 3,
   "metadata": {},
   "outputs": [],
   "source": [
    "#output_notebook for inline charts in a notebook\n",
    "#show to show a chart\n",
    "from bokeh.io import output_notebook, show \n",
    "from bokeh.plotting import figure"
   ]
  },
  {
   "cell_type": "code",
   "execution_count": 4,
   "metadata": {},
   "outputs": [
    {
     "data": {
      "text/html": [
       "<div class=\"bk-root\">\n",
       "        <a href=\"https://bokeh.org\" target=\"_blank\" class=\"bk-logo bk-logo-small bk-logo-notebook\"></a>\n",
       "        <span id=\"1002\">Loading BokehJS ...</span>\n",
       "    </div>\n"
      ]
     },
     "metadata": {},
     "output_type": "display_data"
    },
    {
     "data": {
      "application/javascript": "(function(root) {\n  function now() {\n    return new Date();\n  }\n\n  const force = true;\n\n  if (typeof root._bokeh_onload_callbacks === \"undefined\" || force === true) {\n    root._bokeh_onload_callbacks = [];\n    root._bokeh_is_loading = undefined;\n  }\n\nconst JS_MIME_TYPE = 'application/javascript';\n  const HTML_MIME_TYPE = 'text/html';\n  const EXEC_MIME_TYPE = 'application/vnd.bokehjs_exec.v0+json';\n  const CLASS_NAME = 'output_bokeh rendered_html';\n\n  /**\n   * Render data to the DOM node\n   */\n  function render(props, node) {\n    const script = document.createElement(\"script\");\n    node.appendChild(script);\n  }\n\n  /**\n   * Handle when an output is cleared or removed\n   */\n  function handleClearOutput(event, handle) {\n    const cell = handle.cell;\n\n    const id = cell.output_area._bokeh_element_id;\n    const server_id = cell.output_area._bokeh_server_id;\n    // Clean up Bokeh references\n    if (id != null && id in Bokeh.index) {\n      Bokeh.index[id].model.document.clear();\n      delete Bokeh.index[id];\n    }\n\n    if (server_id !== undefined) {\n      // Clean up Bokeh references\n      const cmd_clean = \"from bokeh.io.state import curstate; print(curstate().uuid_to_server['\" + server_id + \"'].get_sessions()[0].document.roots[0]._id)\";\n      cell.notebook.kernel.execute(cmd_clean, {\n        iopub: {\n          output: function(msg) {\n            const id = msg.content.text.trim();\n            if (id in Bokeh.index) {\n              Bokeh.index[id].model.document.clear();\n              delete Bokeh.index[id];\n            }\n          }\n        }\n      });\n      // Destroy server and session\n      const cmd_destroy = \"import bokeh.io.notebook as ion; ion.destroy_server('\" + server_id + \"')\";\n      cell.notebook.kernel.execute(cmd_destroy);\n    }\n  }\n\n  /**\n   * Handle when a new output is added\n   */\n  function handleAddOutput(event, handle) {\n    const output_area = handle.output_area;\n    const output = handle.output;\n\n    // limit handleAddOutput to display_data with EXEC_MIME_TYPE content only\n    if ((output.output_type != \"display_data\") || (!Object.prototype.hasOwnProperty.call(output.data, EXEC_MIME_TYPE))) {\n      return\n    }\n\n    const toinsert = output_area.element.find(\".\" + CLASS_NAME.split(' ')[0]);\n\n    if (output.metadata[EXEC_MIME_TYPE][\"id\"] !== undefined) {\n      toinsert[toinsert.length - 1].firstChild.textContent = output.data[JS_MIME_TYPE];\n      // store reference to embed id on output_area\n      output_area._bokeh_element_id = output.metadata[EXEC_MIME_TYPE][\"id\"];\n    }\n    if (output.metadata[EXEC_MIME_TYPE][\"server_id\"] !== undefined) {\n      const bk_div = document.createElement(\"div\");\n      bk_div.innerHTML = output.data[HTML_MIME_TYPE];\n      const script_attrs = bk_div.children[0].attributes;\n      for (let i = 0; i < script_attrs.length; i++) {\n        toinsert[toinsert.length - 1].firstChild.setAttribute(script_attrs[i].name, script_attrs[i].value);\n        toinsert[toinsert.length - 1].firstChild.textContent = bk_div.children[0].textContent\n      }\n      // store reference to server id on output_area\n      output_area._bokeh_server_id = output.metadata[EXEC_MIME_TYPE][\"server_id\"];\n    }\n  }\n\n  function register_renderer(events, OutputArea) {\n\n    function append_mime(data, metadata, element) {\n      // create a DOM node to render to\n      const toinsert = this.create_output_subarea(\n        metadata,\n        CLASS_NAME,\n        EXEC_MIME_TYPE\n      );\n      this.keyboard_manager.register_events(toinsert);\n      // Render to node\n      const props = {data: data, metadata: metadata[EXEC_MIME_TYPE]};\n      render(props, toinsert[toinsert.length - 1]);\n      element.append(toinsert);\n      return toinsert\n    }\n\n    /* Handle when an output is cleared or removed */\n    events.on('clear_output.CodeCell', handleClearOutput);\n    events.on('delete.Cell', handleClearOutput);\n\n    /* Handle when a new output is added */\n    events.on('output_added.OutputArea', handleAddOutput);\n\n    /**\n     * Register the mime type and append_mime function with output_area\n     */\n    OutputArea.prototype.register_mime_type(EXEC_MIME_TYPE, append_mime, {\n      /* Is output safe? */\n      safe: true,\n      /* Index of renderer in `output_area.display_order` */\n      index: 0\n    });\n  }\n\n  // register the mime type if in Jupyter Notebook environment and previously unregistered\n  if (root.Jupyter !== undefined) {\n    const events = require('base/js/events');\n    const OutputArea = require('notebook/js/outputarea').OutputArea;\n\n    if (OutputArea.prototype.mime_types().indexOf(EXEC_MIME_TYPE) == -1) {\n      register_renderer(events, OutputArea);\n    }\n  }\n  if (typeof (root._bokeh_timeout) === \"undefined\" || force === true) {\n    root._bokeh_timeout = Date.now() + 5000;\n    root._bokeh_failed_load = false;\n  }\n\n  const NB_LOAD_WARNING = {'data': {'text/html':\n     \"<div style='background-color: #fdd'>\\n\"+\n     \"<p>\\n\"+\n     \"BokehJS does not appear to have successfully loaded. If loading BokehJS from CDN, this \\n\"+\n     \"may be due to a slow or bad network connection. Possible fixes:\\n\"+\n     \"</p>\\n\"+\n     \"<ul>\\n\"+\n     \"<li>re-rerun `output_notebook()` to attempt to load from CDN again, or</li>\\n\"+\n     \"<li>use INLINE resources instead, as so:</li>\\n\"+\n     \"</ul>\\n\"+\n     \"<code>\\n\"+\n     \"from bokeh.resources import INLINE\\n\"+\n     \"output_notebook(resources=INLINE)\\n\"+\n     \"</code>\\n\"+\n     \"</div>\"}};\n\n  function display_loaded() {\n    const el = document.getElementById(\"1002\");\n    if (el != null) {\n      el.textContent = \"BokehJS is loading...\";\n    }\n    if (root.Bokeh !== undefined) {\n      if (el != null) {\n        el.textContent = \"BokehJS \" + root.Bokeh.version + \" successfully loaded.\";\n      }\n    } else if (Date.now() < root._bokeh_timeout) {\n      setTimeout(display_loaded, 100)\n    }\n  }\n\n  function run_callbacks() {\n    try {\n      root._bokeh_onload_callbacks.forEach(function(callback) {\n        if (callback != null)\n          callback();\n      });\n    } finally {\n      delete root._bokeh_onload_callbacks\n    }\n    console.debug(\"Bokeh: all callbacks have finished\");\n  }\n\n  function load_libs(css_urls, js_urls, callback) {\n    if (css_urls == null) css_urls = [];\n    if (js_urls == null) js_urls = [];\n\n    root._bokeh_onload_callbacks.push(callback);\n    if (root._bokeh_is_loading > 0) {\n      console.debug(\"Bokeh: BokehJS is being loaded, scheduling callback at\", now());\n      return null;\n    }\n    if (js_urls == null || js_urls.length === 0) {\n      run_callbacks();\n      return null;\n    }\n    console.debug(\"Bokeh: BokehJS not loaded, scheduling load and callback at\", now());\n    root._bokeh_is_loading = css_urls.length + js_urls.length;\n\n    function on_load() {\n      root._bokeh_is_loading--;\n      if (root._bokeh_is_loading === 0) {\n        console.debug(\"Bokeh: all BokehJS libraries/stylesheets loaded\");\n        run_callbacks()\n      }\n    }\n\n    function on_error(url) {\n      console.error(\"failed to load \" + url);\n    }\n\n    for (let i = 0; i < css_urls.length; i++) {\n      const url = css_urls[i];\n      const element = document.createElement(\"link\");\n      element.onload = on_load;\n      element.onerror = on_error.bind(null, url);\n      element.rel = \"stylesheet\";\n      element.type = \"text/css\";\n      element.href = url;\n      console.debug(\"Bokeh: injecting link tag for BokehJS stylesheet: \", url);\n      document.body.appendChild(element);\n    }\n\n    for (let i = 0; i < js_urls.length; i++) {\n      const url = js_urls[i];\n      const element = document.createElement('script');\n      element.onload = on_load;\n      element.onerror = on_error.bind(null, url);\n      element.async = false;\n      element.src = url;\n      console.debug(\"Bokeh: injecting script tag for BokehJS library: \", url);\n      document.head.appendChild(element);\n    }\n  };\n\n  function inject_raw_css(css) {\n    const element = document.createElement(\"style\");\n    element.appendChild(document.createTextNode(css));\n    document.body.appendChild(element);\n  }\n\n  const js_urls = [\"https://cdn.bokeh.org/bokeh/release/bokeh-2.4.3.min.js\", \"https://cdn.bokeh.org/bokeh/release/bokeh-gl-2.4.3.min.js\", \"https://cdn.bokeh.org/bokeh/release/bokeh-widgets-2.4.3.min.js\", \"https://cdn.bokeh.org/bokeh/release/bokeh-tables-2.4.3.min.js\", \"https://cdn.bokeh.org/bokeh/release/bokeh-mathjax-2.4.3.min.js\"];\n  const css_urls = [];\n\n  const inline_js = [    function(Bokeh) {\n      Bokeh.set_log_level(\"info\");\n    },\nfunction(Bokeh) {\n    }\n  ];\n\n  function run_inline_js() {\n    if (root.Bokeh !== undefined || force === true) {\n          for (let i = 0; i < inline_js.length; i++) {\n      inline_js[i].call(root, root.Bokeh);\n    }\nif (force === true) {\n        display_loaded();\n      }} else if (Date.now() < root._bokeh_timeout) {\n      setTimeout(run_inline_js, 100);\n    } else if (!root._bokeh_failed_load) {\n      console.log(\"Bokeh: BokehJS failed to load within specified timeout.\");\n      root._bokeh_failed_load = true;\n    } else if (force !== true) {\n      const cell = $(document.getElementById(\"1002\")).parents('.cell').data().cell;\n      cell.output_area.append_execute_result(NB_LOAD_WARNING)\n    }\n  }\n\n  if (root._bokeh_is_loading === 0) {\n    console.debug(\"Bokeh: BokehJS loaded, going straight to plotting\");\n    run_inline_js();\n  } else {\n    load_libs(css_urls, js_urls, function() {\n      console.debug(\"Bokeh: BokehJS plotting callback run at\", now());\n      run_inline_js();\n    });\n  }\n}(window));",
      "application/vnd.bokehjs_load.v0+json": ""
     },
     "metadata": {},
     "output_type": "display_data"
    }
   ],
   "source": [
    "output_notebook()"
   ]
  },
  {
   "cell_type": "markdown",
   "metadata": {},
   "source": [
    "<br><br><br><br>\n",
    "<span style=\"color:blue;font-size:large\">Construct a figure</span>\n",
    "<li>specify labels</li>\n",
    "<li>specify legend</li>\n",
    "<li>give a title</li>"
   ]
  },
  {
   "cell_type": "markdown",
   "metadata": {},
   "source": [
    "<br><br><br><br>\n",
    "<span style=\"color:blue;font-size:large\">A simple single line plot</span>\n",
    "<li>first create a figure object</li>\n",
    "<li>create a line object in the figure object</li>\n",
    "<li>the line object must contain both axes! Bokeh does not make good use of pandas series</li>\n",
    "<li>then show the figure\n"
   ]
  },
  {
   "cell_type": "markdown",
   "metadata": {},
   "source": [
    "<h3 style=\"color:blue\">The data</h3>\n",
    "<li>The NYC 311 data subset that we used for maps</li>"
   ]
  },
  {
   "cell_type": "code",
   "execution_count": 5,
   "metadata": {},
   "outputs": [
    {
     "name": "stdout",
     "output_type": "stream",
     "text": [
      "<class 'pandas.core.frame.DataFrame'>\n",
      "RangeIndex: 1000000 entries, 0 to 999999\n",
      "Data columns (total 8 columns):\n",
      " #   Column           Non-Null Count    Dtype         \n",
      "---  ------           --------------    -----         \n",
      " 0   Created Date     1000000 non-null  datetime64[ns]\n",
      " 1   Closed Date      1000000 non-null  datetime64[ns]\n",
      " 2   Agency           1000000 non-null  object        \n",
      " 3   Incident Zip     1000000 non-null  int64         \n",
      " 4   Borough          1000000 non-null  object        \n",
      " 5   Latitude         1000000 non-null  float64       \n",
      " 6   Longitude        1000000 non-null  float64       \n",
      " 7   processing_days  1000000 non-null  float64       \n",
      "dtypes: datetime64[ns](2), float64(3), int64(1), object(2)\n",
      "memory usage: 61.0+ MB\n"
     ]
    }
   ],
   "source": [
    "import pandas as pd\n",
    "df = pd.read_csv(\"../class-datasets/nyc_311_clean.csv\",nrows=1000000)\n",
    "df['Created Date'] = pd.to_datetime(df['Created Date'],format=\"%Y-%m-%d %H:%M:%S\")\n",
    "df['Closed Date'] = pd.to_datetime(df['Closed Date'],format=\"%Y-%m-%d %H:%M:%S\")\n",
    "df.info(show_counts=True)"
   ]
  },
  {
   "cell_type": "markdown",
   "metadata": {},
   "source": [
    "<h3>Calculate mean processing time by month and day of week</h3>\n",
    "<li>Pandas <b>Grouper</b> constructs a groupby instruction for groupby</li>\n",
    "<li>Useful when dealing with timeseries data</li>\n",
    "<li>https://pandas.pydata.org/docs/reference/api/pandas.Grouper.html</li>"
   ]
  },
  {
   "cell_type": "code",
   "execution_count": 6,
   "metadata": {},
   "outputs": [],
   "source": [
    "import pandas as pd\n",
    "\n",
    "month_groups = df.groupby(pd.Grouper(freq='M',key=\"Created Date\"))\n",
    "months_mean = month_groups.mean(numeric_only=True)['processing_days']\n"
   ]
  },
  {
   "cell_type": "code",
   "execution_count": 7,
   "metadata": {},
   "outputs": [
    {
     "data": {
      "text/plain": [
       "Created Date\n",
       "2010-04-30    4436.334722\n",
       "2010-05-31    4351.531250\n",
       "2010-06-30    4301.313889\n",
       "2010-07-31    4382.207407\n",
       "2010-08-31            NaN\n",
       "                 ...     \n",
       "2022-02-28       7.989502\n",
       "2022-03-31       6.005059\n",
       "2022-04-30       5.280882\n",
       "2022-05-31       4.910923\n",
       "2022-06-30       5.406646\n",
       "Freq: M, Name: processing_days, Length: 147, dtype: float64"
      ]
     },
     "execution_count": 7,
     "metadata": {},
     "output_type": "execute_result"
    }
   ],
   "source": [
    "months_mean"
   ]
  },
  {
   "cell_type": "code",
   "execution_count": 13,
   "metadata": {},
   "outputs": [
    {
     "data": {
      "text/plain": [
       "Created Date\n",
       "0    7.272320\n",
       "1    7.345536\n",
       "2    8.150530\n",
       "3    7.595277\n",
       "4    7.388034\n",
       "5    5.666127\n",
       "6    4.096463\n",
       "Name: processing_days, dtype: float64"
      ]
     },
     "execution_count": 13,
     "metadata": {},
     "output_type": "execute_result"
    }
   ],
   "source": [
    "day_of_week_groups = df.groupby(df[\"Created Date\"].dt.dayofweek)\n",
    "day_of_week_mean = day_of_week_groups.mean(numeric_only=True)['processing_days']\n",
    "day_of_week_mean"
   ]
  },
  {
   "cell_type": "markdown",
   "metadata": {},
   "source": [
    "<h3>Graph month means and day of week means</h3>"
   ]
  },
  {
   "cell_type": "code",
   "execution_count": 8,
   "metadata": {},
   "outputs": [
    {
     "data": {
      "text/html": [
       "\n",
       "  <div class=\"bk-root\" id=\"f967d8f9-e6bb-4540-840f-0cbbd45d0f74\" data-root-id=\"1003\"></div>\n"
      ]
     },
     "metadata": {},
     "output_type": "display_data"
    },
    {
     "data": {
      "application/javascript": "(function(root) {\n  function embed_document(root) {\n  const docs_json = {\"f688173b-6a18-4a70-ae0e-46af0cf2bf32\":{\"defs\":[],\"roots\":{\"references\":[{\"attributes\":{\"below\":[{\"id\":\"1014\"}],\"center\":[{\"id\":\"1017\"},{\"id\":\"1021\"}],\"left\":[{\"id\":\"1018\"}],\"renderers\":[{\"id\":\"1040\"}],\"title\":{\"id\":\"1004\"},\"toolbar\":{\"id\":\"1029\"},\"x_range\":{\"id\":\"1006\"},\"x_scale\":{\"id\":\"1010\"},\"y_range\":{\"id\":\"1008\"},\"y_scale\":{\"id\":\"1012\"}},\"id\":\"1003\",\"subtype\":\"Figure\",\"type\":\"Plot\"},{\"attributes\":{\"coordinates\":null,\"data_source\":{\"id\":\"1036\"},\"glyph\":{\"id\":\"1037\"},\"group\":null,\"hover_glyph\":null,\"muted_glyph\":{\"id\":\"1039\"},\"nonselection_glyph\":{\"id\":\"1038\"},\"view\":{\"id\":\"1041\"}},\"id\":\"1040\",\"type\":\"GlyphRenderer\"},{\"attributes\":{\"line_color\":\"red\",\"line_width\":8,\"x\":{\"field\":\"x\"},\"y\":{\"field\":\"y\"}},\"id\":\"1037\",\"type\":\"Line\"},{\"attributes\":{},\"id\":\"1049\",\"type\":\"UnionRenderers\"},{\"attributes\":{},\"id\":\"1050\",\"type\":\"Selection\"},{\"attributes\":{},\"id\":\"1010\",\"type\":\"LinearScale\"},{\"attributes\":{},\"id\":\"1006\",\"type\":\"DataRange1d\"},{\"attributes\":{\"bottom_units\":\"screen\",\"coordinates\":null,\"fill_alpha\":0.5,\"fill_color\":\"lightgrey\",\"group\":null,\"left_units\":\"screen\",\"level\":\"overlay\",\"line_alpha\":1.0,\"line_color\":\"black\",\"line_dash\":[4,4],\"line_width\":2,\"right_units\":\"screen\",\"syncable\":false,\"top_units\":\"screen\"},\"id\":\"1028\",\"type\":\"BoxAnnotation\"},{\"attributes\":{\"axis\":{\"id\":\"1018\"},\"coordinates\":null,\"dimension\":1,\"group\":null,\"ticker\":null},\"id\":\"1021\",\"type\":\"Grid\"},{\"attributes\":{},\"id\":\"1026\",\"type\":\"ResetTool\"},{\"attributes\":{\"line_alpha\":0.2,\"line_color\":\"red\",\"line_width\":8,\"x\":{\"field\":\"x\"},\"y\":{\"field\":\"y\"}},\"id\":\"1039\",\"type\":\"Line\"},{\"attributes\":{},\"id\":\"1025\",\"type\":\"SaveTool\"},{\"attributes\":{\"overlay\":{\"id\":\"1028\"}},\"id\":\"1024\",\"type\":\"BoxZoomTool\"},{\"attributes\":{\"data\":{\"x\":{\"__ndarray__\":\"AADAM8CEckIAAACGuo5yQgAAgHJimHJCAADAxFyickIAAAAXV6xyQgAAgAP/tXJCAADAVfm/ckIAAEBCoclyQgAAgJSb03JCAADA5pXdckIAAMAHmeZyQgAAAFqT8HJCAACARjv6ckIAAMCYNQRzQgAAQIXdDXNCAACA19cXc0IAAMAp0iFzQgAAQBZ6K3NCAACAaHQ1c0IAAABVHD9zQgAAQKcWSXNCAACA+RBTc0IAAECAZlxzQgAAgNJgZnNCAAAAvwhwc0IAAEARA3pzQgAAwP2qg3NCAAAAUKWNc0IAAECin5dzQgAAwI5HoXNCAAAA4UGrc0IAAIDN6bRzQgAAwB/kvnNCAAAAct7Ic0IAAACT4dFzQgAAQOXb23NCAADA0YPlc0IAAAAkfu9zQgAAgBAm+XNCAADAYiADdEIAAAC1Gg10QgAAgKHCFnRCAADA87wgdEIAAEDgZCp0QgAAgDJfNHRCAADAhFk+dEIAAMClXEd0QgAAAPhWUXRCAACA5P5adEIAAMA2+WR0QgAAQCOhbnRCAACAdZt4dEIAAMDHlYJ0QgAAQLQ9jHRCAACABjiWdEIAAADz3590QgAAQEXaqXRCAACAl9SzdEIAAIC417x0QgAAwArSxnRCAABA93nQdEIAAIBJdNp0QgAAADYc5HRCAABAiBbudEIAAIDaEPh0QgAAAMe4AXVCAABAGbMLdUIAAMAFWxV1QgAAAFhVH3VCAABAqk8pdUIAAAAxpTJ1QgAAQIOfPHVCAADAb0dGdUIAAADCQVB1QgAAgK7pWXVCAADAAORjdUIAAABT3m11QgAAgD+Gd3VCAADAkYCBdUIAAEB+KIt1QgAAgNAilXVCAADAIh2fdUIAAMBDIKh1QgAAAJYasnVCAACAgsK7dUIAAMDUvMV1QgAAQMFkz3VCAACAE1/ZdUIAAMBlWeN1QgAAQFIB7XVCAACApPv2dUIAAACRowB2QgAAQOOdCnZCAACANZgUdkIAAIBWmx12QgAAwKiVJ3ZCAABAlT0xdkIAAIDnNzt2QgAAANTfRHZCAABAJtpOdkIAAIB41Fh2QgAAAGV8YnZCAABAt3ZsdkIAAMCjHnZ2QgAAAPYYgHZCAABASBOKdkIAAEBpFpN2QgAAgLsQnXZCAAAAqLimdkIAAED6srB2QgAAwOZaunZCAAAAOVXEdkIAAECLT852QgAAwHf313ZCAAAAyvHhdkIAAIC2met2QgAAwAiU9XZCAAAAW47/dkIAAMDh4wh3QgAAADTeEndCAACAIIYcd0IAAMBygCZ3QgAAQF8oMHdCAACAsSI6d0IAAMADHUR3QgAAQPDETXdCAACAQr9Xd0IAAAAvZ2F3QgAAQIFha3dCAACA01t1d0IAAID0Xn53QgAAwEZZiHdCAABAMwGSd0IAAICF+5t3QgAAAHKjpXdCAABAxJ2vd0IAAIAWmLl3QgAAAANAw3dCAABAVTrNd0IAAMBB4tZ3QgAAAJTc4HdCAABA5tbqd0IAAEAH2vN3QgAAgFnU/XdCAAAARnwHeEIAAECYdhF4QgAAwIQeG3hC\",\"dtype\":\"float64\",\"order\":\"little\",\"shape\":[147]},\"y\":{\"__ndarray__\":\"sAVbsFVUsUAAAAAAiP+wQFuwBVtQzbBAw9+mGDUesUAAAAAAAAD4fxzHcRyPMrBAAAAAAAAA+H9Kn/RJd+6wQCl90icdw69AAAAAAAAA+H8AAAAAAAD4fwAAAAAAAPh/AAAAAAAA+H9Kn/RJP42vQAAAAAAAAPh/AAAAAAAA+H/1SZ/0+UqvQAAAAAAAAPh/AAAAAAAA+H8AAAAAAAD4fwAAAAAAAPh/LtiCLZjQrUAAAAAAAAD4fwAAAAAAAPh/+qRP+oQMrUCTPumTBhiuQMAWbMHGfKxAAAAAAAAA+H8AAAAAAAD4f5qZmZm9M6xARERERISGq0BKn/RJH4OrQAAAAAAAAPh/AAAAAAAA+H8AAAAAAAD4fwAAAAAAAPh/AAAAAAAA+H8AAAAAAAD4fwZbsAUbRalAAAAAAAAA+H8AAAAAAAD4fwAAAAAAAPh/AAAAAAAA+H8AAAAAAAD4fwAAAAAAAPh/AAAAAAAA+H8AAAAAAAD4fy7Ygi04FalAAAAAAAAA+H8LtmALhvKmQAAAAAAAAPh/wRZswWbVp0CJiIiIuFqmQAAAAAAAAPh/AAAAAJBgpUAAAAAAAAD4fwAAAAAAAPh/AAAAAAAA+H8AAAAAAAD4f3d3d3cHiaRA5QunEybupEAzMzMzo3CkQBzHcRwbsKNAtmALtgico0AiIiIignyjQLy7u7urTqNA+qRP+vxRo0AAAAAAAAD4f83MzMy4LaNAgAZogMaiokAT2ktoX/miQC+hvYTizKFAYQu2YIvDoUCivIbyOrGhQGdzNmeru6FAaC+hvfSWoUA5juM47uWfQAAAAAAAAPh/LtiCLRgtoEAAAAAAAAD4f0YCvnmV255Agy3Ygo1ZnkDIcRzHwaedQKqqqqr67Z1A9Emf9Dkim0AXbMEWPDmdQBQLHfnAHJ1AftInffrAnECg9EmfNMKaQC3Ygi0YBptAUPqkT+KKm0AAAAAAIKGaQHIcx3G80ZdAAAAAAAAA+H/1SZ/0CW2YQAAAAAAAAPh/F2zBFgx1l0DcFKOGv8KWQHh3d3c3DJZAF2zBFgxVlkA2guoZ+0SWQEYjAd/cn5NAfdInfdKxlEBswRZsIVWTQH3SJ33as5NAAAAAAAAA+H9TjBr+prOSQHBTjBoe95NAj+M4jsPTkEBttziT0nmRQBhLfrHEX5FA7+7u7i4+k0C3YQy3oRaRQC7Ygi3QwpFAQS2KA+ShikAAAAAAAAD4f5/0SZ/034tAbMEWbCHqkEBr+NsUI02JQIMt2IJtZJBA5DiO43hQiEAAAAAAAAD4f5ti1PD3yYVAwRZswdZYhEDNzMzMDBCHQPEc4BI/bFtAFOwGRaiVM0CGC6kOGZ0nQGFPSMlxczJAPOj8ln78MEDikqXQATkyQGRnH82ANjRA1w8lGRCgQEA17c1+uGc0QNAQw5EnASNAIrmTJv5oK0AZ/yboEDcmQD2OviC4MCpAxd+VkGssI0DVaBKaq/0KQP1hDgh3BBtAZ0uf+vc0G0A+ld/sP/UfQBMJWTEuBRhALCRQqJ8fFUD8XIruyKQTQBQuO7JnoBVA\",\"dtype\":\"float64\",\"order\":\"little\",\"shape\":[147]}},\"selected\":{\"id\":\"1050\"},\"selection_policy\":{\"id\":\"1049\"}},\"id\":\"1036\",\"type\":\"ColumnDataSource\"},{\"attributes\":{\"tools\":[{\"id\":\"1022\"},{\"id\":\"1023\"},{\"id\":\"1024\"},{\"id\":\"1025\"},{\"id\":\"1026\"},{\"id\":\"1027\"}]},\"id\":\"1029\",\"type\":\"Toolbar\"},{\"attributes\":{},\"id\":\"1027\",\"type\":\"HelpTool\"},{\"attributes\":{\"axis_label\":\"Processing Time\",\"coordinates\":null,\"formatter\":{\"id\":\"1044\"},\"group\":null,\"major_label_policy\":{\"id\":\"1045\"},\"ticker\":{\"id\":\"1019\"}},\"id\":\"1018\",\"type\":\"LinearAxis\"},{\"attributes\":{},\"id\":\"1015\",\"type\":\"BasicTicker\"},{\"attributes\":{\"coordinates\":null,\"group\":null,\"text\":\"Monthly Processing Time Averages\"},\"id\":\"1004\",\"type\":\"Title\"},{\"attributes\":{},\"id\":\"1023\",\"type\":\"WheelZoomTool\"},{\"attributes\":{},\"id\":\"1008\",\"type\":\"DataRange1d\"},{\"attributes\":{},\"id\":\"1012\",\"type\":\"LinearScale\"},{\"attributes\":{},\"id\":\"1044\",\"type\":\"BasicTickFormatter\"},{\"attributes\":{\"axis_label\":\"Month\",\"coordinates\":null,\"formatter\":{\"id\":\"1047\"},\"group\":null,\"major_label_policy\":{\"id\":\"1048\"},\"ticker\":{\"id\":\"1015\"}},\"id\":\"1014\",\"type\":\"LinearAxis\"},{\"attributes\":{\"axis\":{\"id\":\"1014\"},\"coordinates\":null,\"group\":null,\"ticker\":null},\"id\":\"1017\",\"type\":\"Grid\"},{\"attributes\":{},\"id\":\"1045\",\"type\":\"AllLabels\"},{\"attributes\":{},\"id\":\"1022\",\"type\":\"PanTool\"},{\"attributes\":{\"source\":{\"id\":\"1036\"}},\"id\":\"1041\",\"type\":\"CDSView\"},{\"attributes\":{\"line_alpha\":0.1,\"line_color\":\"red\",\"line_width\":8,\"x\":{\"field\":\"x\"},\"y\":{\"field\":\"y\"}},\"id\":\"1038\",\"type\":\"Line\"},{\"attributes\":{},\"id\":\"1047\",\"type\":\"BasicTickFormatter\"},{\"attributes\":{},\"id\":\"1048\",\"type\":\"AllLabels\"},{\"attributes\":{},\"id\":\"1019\",\"type\":\"BasicTicker\"}],\"root_ids\":[\"1003\"]},\"title\":\"Bokeh Application\",\"version\":\"2.4.3\"}};\n  const render_items = [{\"docid\":\"f688173b-6a18-4a70-ae0e-46af0cf2bf32\",\"root_ids\":[\"1003\"],\"roots\":{\"1003\":\"f967d8f9-e6bb-4540-840f-0cbbd45d0f74\"}}];\n  root.Bokeh.embed.embed_items_notebook(docs_json, render_items);\n  }\n  if (root.Bokeh !== undefined) {\n    embed_document(root);\n  } else {\n    let attempts = 0;\n    const timer = setInterval(function(root) {\n      if (root.Bokeh !== undefined) {\n        clearInterval(timer);\n        embed_document(root);\n      } else {\n        attempts++;\n        if (attempts > 100) {\n          clearInterval(timer);\n          console.log(\"Bokeh: ERROR: Unable to run BokehJS code because BokehJS library is missing\");\n        }\n      }\n    }, 10, root)\n  }\n})(window);",
      "application/vnd.bokehjs_exec.v0+json": ""
     },
     "metadata": {
      "application/vnd.bokehjs_exec.v0+json": {
       "id": "1003"
      }
     },
     "output_type": "display_data"
    }
   ],
   "source": [
    "p = figure(title=\"Monthly Processing Time Averages\", x_axis_label='Month', y_axis_label='Processing Time')\n",
    "p.line(months_mean.index,months_mean,line_width=8,line_color=\"red\")\n",
    "show(p)"
   ]
  },
  {
   "cell_type": "markdown",
   "metadata": {},
   "source": [
    "<li>bokeh treats ticks as discrete points and doesn't automatically draw a continuous line</li>\n",
    "<li>we need three steps for a basic graph rather than one (more complicated than matplotlib)</li>\n",
    "<li>but we get some nice interactive features along with the graph</li>\n",
    "<li>we'll need to do some more customization</li>"
   ]
  },
  {
   "cell_type": "markdown",
   "metadata": {},
   "source": [
    "<li>bokeh can handle time nicely. Convert x-axis into time</li>\n",
    "<li>tell bokeh that the x-axis is of datetime type. bokeh will assume it is continuous</li>\n",
    "<li>add gizmos to make the graph look nice</li>"
   ]
  },
  {
   "cell_type": "code",
   "execution_count": null,
   "metadata": {},
   "outputs": [],
   "source": [
    "months_mean.index"
   ]
  },
  {
   "cell_type": "code",
   "execution_count": 9,
   "metadata": {},
   "outputs": [
    {
     "data": {
      "text/html": [
       "\n",
       "  <div class=\"bk-root\" id=\"6c8a7d28-fd03-4607-ad95-c589ddc74cce\" data-root-id=\"1102\"></div>\n"
      ]
     },
     "metadata": {},
     "output_type": "display_data"
    },
    {
     "data": {
      "application/javascript": "(function(root) {\n  function embed_document(root) {\n  const docs_json = {\"cc629234-8844-4d65-a8eb-b7d70b2f025e\":{\"defs\":[],\"roots\":{\"references\":[{\"attributes\":{\"below\":[{\"id\":\"1113\"}],\"center\":[{\"id\":\"1116\"},{\"id\":\"1120\"},{\"id\":\"1163\"}],\"height\":400,\"left\":[{\"id\":\"1117\"}],\"renderers\":[{\"id\":\"1139\"}],\"title\":{\"id\":\"1103\"},\"toolbar\":{\"id\":\"1128\"},\"x_range\":{\"id\":\"1105\"},\"x_scale\":{\"id\":\"1109\"},\"y_range\":{\"id\":\"1107\"},\"y_scale\":{\"id\":\"1111\"}},\"id\":\"1102\",\"subtype\":\"Figure\",\"type\":\"Plot\"},{\"attributes\":{},\"id\":\"1109\",\"type\":\"LinearScale\"},{\"attributes\":{},\"id\":\"1149\",\"type\":\"Selection\"},{\"attributes\":{},\"id\":\"1125\",\"type\":\"ResetTool\"},{\"attributes\":{},\"id\":\"1124\",\"type\":\"SaveTool\"},{\"attributes\":{\"overlay\":{\"id\":\"1127\"}},\"id\":\"1123\",\"type\":\"BoxZoomTool\"},{\"attributes\":{},\"id\":\"1121\",\"type\":\"PanTool\"},{\"attributes\":{},\"id\":\"1126\",\"type\":\"HelpTool\"},{\"attributes\":{\"tools\":[{\"id\":\"1121\"},{\"id\":\"1122\"},{\"id\":\"1123\"},{\"id\":\"1124\"},{\"id\":\"1125\"},{\"id\":\"1126\"}]},\"id\":\"1128\",\"type\":\"Toolbar\"},{\"attributes\":{\"mantissas\":[1,2,5],\"max_interval\":500.0,\"num_minor_ticks\":0},\"id\":\"1151\",\"type\":\"AdaptiveTicker\"},{\"attributes\":{\"line_alpha\":0.1,\"line_color\":\"red\",\"line_width\":8,\"x\":{\"field\":\"x\"},\"y\":{\"field\":\"y\"}},\"id\":\"1137\",\"type\":\"Line\"},{\"attributes\":{\"coordinates\":null,\"group\":null,\"items\":[{\"id\":\"1164\"}]},\"id\":\"1163\",\"type\":\"Legend\"},{\"attributes\":{\"base\":60,\"mantissas\":[1,2,5,10,15,20,30],\"max_interval\":1800000.0,\"min_interval\":1000.0,\"num_minor_ticks\":0},\"id\":\"1152\",\"type\":\"AdaptiveTicker\"},{\"attributes\":{},\"id\":\"1147\",\"type\":\"AllLabels\"},{\"attributes\":{},\"id\":\"1162\",\"type\":\"YearsTicker\"},{\"attributes\":{\"base\":24,\"mantissas\":[1,2,4,6,8,12],\"max_interval\":43200000.0,\"min_interval\":3600000.0,\"num_minor_ticks\":0},\"id\":\"1153\",\"type\":\"AdaptiveTicker\"},{\"attributes\":{\"months\":[0,1,2,3,4,5,6,7,8,9,10,11]},\"id\":\"1158\",\"type\":\"MonthsTicker\"},{\"attributes\":{\"days\":[1,15]},\"id\":\"1157\",\"type\":\"DaysTicker\"},{\"attributes\":{\"days\":[1,2,3,4,5,6,7,8,9,10,11,12,13,14,15,16,17,18,19,20,21,22,23,24,25,26,27,28,29,30,31]},\"id\":\"1154\",\"type\":\"DaysTicker\"},{\"attributes\":{\"days\":[1,4,7,10,13,16,19,22,25,28]},\"id\":\"1155\",\"type\":\"DaysTicker\"},{\"attributes\":{\"source\":{\"id\":\"1135\"}},\"id\":\"1140\",\"type\":\"CDSView\"},{\"attributes\":{\"days\":[1,8,15,22]},\"id\":\"1156\",\"type\":\"DaysTicker\"},{\"attributes\":{},\"id\":\"1122\",\"type\":\"WheelZoomTool\"},{\"attributes\":{\"months\":[0,6]},\"id\":\"1161\",\"type\":\"MonthsTicker\"},{\"attributes\":{\"axis\":{\"id\":\"1113\"},\"coordinates\":null,\"group\":null,\"ticker\":null},\"id\":\"1116\",\"type\":\"Grid\"},{\"attributes\":{\"line_color\":\"red\",\"line_width\":8,\"x\":{\"field\":\"x\"},\"y\":{\"field\":\"y\"}},\"id\":\"1136\",\"type\":\"Line\"},{\"attributes\":{\"months\":[0,2,4,6,8,10]},\"id\":\"1159\",\"type\":\"MonthsTicker\"},{\"attributes\":{},\"id\":\"1107\",\"type\":\"DataRange1d\"},{\"attributes\":{\"months\":[0,4,8]},\"id\":\"1160\",\"type\":\"MonthsTicker\"},{\"attributes\":{},\"id\":\"1144\",\"type\":\"AllLabels\"},{\"attributes\":{\"axis_label\":\"months\",\"coordinates\":null,\"formatter\":{\"id\":\"1146\"},\"group\":null,\"major_label_policy\":{\"id\":\"1147\"},\"ticker\":{\"id\":\"1114\"}},\"id\":\"1113\",\"type\":\"DatetimeAxis\"},{\"attributes\":{\"data\":{\"x\":{\"__ndarray__\":\"AADAM8CEckIAAACGuo5yQgAAgHJimHJCAADAxFyickIAAAAXV6xyQgAAgAP/tXJCAADAVfm/ckIAAEBCoclyQgAAgJSb03JCAADA5pXdckIAAMAHmeZyQgAAAFqT8HJCAACARjv6ckIAAMCYNQRzQgAAQIXdDXNCAACA19cXc0IAAMAp0iFzQgAAQBZ6K3NCAACAaHQ1c0IAAABVHD9zQgAAQKcWSXNCAACA+RBTc0IAAECAZlxzQgAAgNJgZnNCAAAAvwhwc0IAAEARA3pzQgAAwP2qg3NCAAAAUKWNc0IAAECin5dzQgAAwI5HoXNCAAAA4UGrc0IAAIDN6bRzQgAAwB/kvnNCAAAAct7Ic0IAAACT4dFzQgAAQOXb23NCAADA0YPlc0IAAAAkfu9zQgAAgBAm+XNCAADAYiADdEIAAAC1Gg10QgAAgKHCFnRCAADA87wgdEIAAEDgZCp0QgAAgDJfNHRCAADAhFk+dEIAAMClXEd0QgAAAPhWUXRCAACA5P5adEIAAMA2+WR0QgAAQCOhbnRCAACAdZt4dEIAAMDHlYJ0QgAAQLQ9jHRCAACABjiWdEIAAADz3590QgAAQEXaqXRCAACAl9SzdEIAAIC417x0QgAAwArSxnRCAABA93nQdEIAAIBJdNp0QgAAADYc5HRCAABAiBbudEIAAIDaEPh0QgAAAMe4AXVCAABAGbMLdUIAAMAFWxV1QgAAAFhVH3VCAABAqk8pdUIAAAAxpTJ1QgAAQIOfPHVCAADAb0dGdUIAAADCQVB1QgAAgK7pWXVCAADAAORjdUIAAABT3m11QgAAgD+Gd3VCAADAkYCBdUIAAEB+KIt1QgAAgNAilXVCAADAIh2fdUIAAMBDIKh1QgAAAJYasnVCAACAgsK7dUIAAMDUvMV1QgAAQMFkz3VCAACAE1/ZdUIAAMBlWeN1QgAAQFIB7XVCAACApPv2dUIAAACRowB2QgAAQOOdCnZCAACANZgUdkIAAIBWmx12QgAAwKiVJ3ZCAABAlT0xdkIAAIDnNzt2QgAAANTfRHZCAABAJtpOdkIAAIB41Fh2QgAAAGV8YnZCAABAt3ZsdkIAAMCjHnZ2QgAAAPYYgHZCAABASBOKdkIAAEBpFpN2QgAAgLsQnXZCAAAAqLimdkIAAED6srB2QgAAwOZaunZCAAAAOVXEdkIAAECLT852QgAAwHf313ZCAAAAyvHhdkIAAIC2met2QgAAwAiU9XZCAAAAW47/dkIAAMDh4wh3QgAAADTeEndCAACAIIYcd0IAAMBygCZ3QgAAQF8oMHdCAACAsSI6d0IAAMADHUR3QgAAQPDETXdCAACAQr9Xd0IAAAAvZ2F3QgAAQIFha3dCAACA01t1d0IAAID0Xn53QgAAwEZZiHdCAABAMwGSd0IAAICF+5t3QgAAAHKjpXdCAABAxJ2vd0IAAIAWmLl3QgAAAANAw3dCAABAVTrNd0IAAMBB4tZ3QgAAAJTc4HdCAABA5tbqd0IAAEAH2vN3QgAAgFnU/XdCAAAARnwHeEIAAECYdhF4QgAAwIQeG3hC\",\"dtype\":\"float64\",\"order\":\"little\",\"shape\":[147]},\"y\":{\"__ndarray__\":\"sAVbsFVUsUAAAAAAiP+wQFuwBVtQzbBAw9+mGDUesUAAAAAAAAD4fxzHcRyPMrBAAAAAAAAA+H9Kn/RJd+6wQCl90icdw69AAAAAAAAA+H8AAAAAAAD4fwAAAAAAAPh/AAAAAAAA+H9Kn/RJP42vQAAAAAAAAPh/AAAAAAAA+H/1SZ/0+UqvQAAAAAAAAPh/AAAAAAAA+H8AAAAAAAD4fwAAAAAAAPh/LtiCLZjQrUAAAAAAAAD4fwAAAAAAAPh/+qRP+oQMrUCTPumTBhiuQMAWbMHGfKxAAAAAAAAA+H8AAAAAAAD4f5qZmZm9M6xARERERISGq0BKn/RJH4OrQAAAAAAAAPh/AAAAAAAA+H8AAAAAAAD4fwAAAAAAAPh/AAAAAAAA+H8AAAAAAAD4fwZbsAUbRalAAAAAAAAA+H8AAAAAAAD4fwAAAAAAAPh/AAAAAAAA+H8AAAAAAAD4fwAAAAAAAPh/AAAAAAAA+H8AAAAAAAD4fy7Ygi04FalAAAAAAAAA+H8LtmALhvKmQAAAAAAAAPh/wRZswWbVp0CJiIiIuFqmQAAAAAAAAPh/AAAAAJBgpUAAAAAAAAD4fwAAAAAAAPh/AAAAAAAA+H8AAAAAAAD4f3d3d3cHiaRA5QunEybupEAzMzMzo3CkQBzHcRwbsKNAtmALtgico0AiIiIignyjQLy7u7urTqNA+qRP+vxRo0AAAAAAAAD4f83MzMy4LaNAgAZogMaiokAT2ktoX/miQC+hvYTizKFAYQu2YIvDoUCivIbyOrGhQGdzNmeru6FAaC+hvfSWoUA5juM47uWfQAAAAAAAAPh/LtiCLRgtoEAAAAAAAAD4f0YCvnmV255Agy3Ygo1ZnkDIcRzHwaedQKqqqqr67Z1A9Emf9Dkim0AXbMEWPDmdQBQLHfnAHJ1AftInffrAnECg9EmfNMKaQC3Ygi0YBptAUPqkT+KKm0AAAAAAIKGaQHIcx3G80ZdAAAAAAAAA+H/1SZ/0CW2YQAAAAAAAAPh/F2zBFgx1l0DcFKOGv8KWQHh3d3c3DJZAF2zBFgxVlkA2guoZ+0SWQEYjAd/cn5NAfdInfdKxlEBswRZsIVWTQH3SJ33as5NAAAAAAAAA+H9TjBr+prOSQHBTjBoe95NAj+M4jsPTkEBttziT0nmRQBhLfrHEX5FA7+7u7i4+k0C3YQy3oRaRQC7Ygi3QwpFAQS2KA+ShikAAAAAAAAD4f5/0SZ/034tAbMEWbCHqkEBr+NsUI02JQIMt2IJtZJBA5DiO43hQiEAAAAAAAAD4f5ti1PD3yYVAwRZswdZYhEDNzMzMDBCHQPEc4BI/bFtAFOwGRaiVM0CGC6kOGZ0nQGFPSMlxczJAPOj8ln78MEDikqXQATkyQGRnH82ANjRA1w8lGRCgQEA17c1+uGc0QNAQw5EnASNAIrmTJv5oK0AZ/yboEDcmQD2OviC4MCpAxd+VkGssI0DVaBKaq/0KQP1hDgh3BBtAZ0uf+vc0G0A+ld/sP/UfQBMJWTEuBRhALCRQqJ8fFUD8XIruyKQTQBQuO7JnoBVA\",\"dtype\":\"float64\",\"order\":\"little\",\"shape\":[147]}},\"selected\":{\"id\":\"1149\"},\"selection_policy\":{\"id\":\"1148\"}},\"id\":\"1135\",\"type\":\"ColumnDataSource\"},{\"attributes\":{\"coordinates\":null,\"group\":null,\"text\":\"Mean Processing Time (monthly)\"},\"id\":\"1103\",\"type\":\"Title\"},{\"attributes\":{\"line_alpha\":0.2,\"line_color\":\"red\",\"line_width\":8,\"x\":{\"field\":\"x\"},\"y\":{\"field\":\"y\"}},\"id\":\"1138\",\"type\":\"Line\"},{\"attributes\":{},\"id\":\"1148\",\"type\":\"UnionRenderers\"},{\"attributes\":{},\"id\":\"1105\",\"type\":\"DataRange1d\"},{\"attributes\":{},\"id\":\"1143\",\"type\":\"BasicTickFormatter\"},{\"attributes\":{},\"id\":\"1146\",\"type\":\"DatetimeTickFormatter\"},{\"attributes\":{\"bottom_units\":\"screen\",\"coordinates\":null,\"fill_alpha\":0.5,\"fill_color\":\"lightgrey\",\"group\":null,\"left_units\":\"screen\",\"level\":\"overlay\",\"line_alpha\":1.0,\"line_color\":\"black\",\"line_dash\":[4,4],\"line_width\":2,\"right_units\":\"screen\",\"syncable\":false,\"top_units\":\"screen\"},\"id\":\"1127\",\"type\":\"BoxAnnotation\"},{\"attributes\":{\"num_minor_ticks\":5,\"tickers\":[{\"id\":\"1151\"},{\"id\":\"1152\"},{\"id\":\"1153\"},{\"id\":\"1154\"},{\"id\":\"1155\"},{\"id\":\"1156\"},{\"id\":\"1157\"},{\"id\":\"1158\"},{\"id\":\"1159\"},{\"id\":\"1160\"},{\"id\":\"1161\"},{\"id\":\"1162\"}]},\"id\":\"1114\",\"type\":\"DatetimeTicker\"},{\"attributes\":{\"axis_label\":\"time\",\"coordinates\":null,\"formatter\":{\"id\":\"1143\"},\"group\":null,\"major_label_policy\":{\"id\":\"1144\"},\"ticker\":{\"id\":\"1118\"}},\"id\":\"1117\",\"type\":\"LinearAxis\"},{\"attributes\":{\"coordinates\":null,\"data_source\":{\"id\":\"1135\"},\"glyph\":{\"id\":\"1136\"},\"group\":null,\"hover_glyph\":null,\"muted_glyph\":{\"id\":\"1138\"},\"nonselection_glyph\":{\"id\":\"1137\"},\"view\":{\"id\":\"1140\"}},\"id\":\"1139\",\"type\":\"GlyphRenderer\"},{\"attributes\":{\"axis\":{\"id\":\"1117\"},\"coordinates\":null,\"dimension\":1,\"group\":null,\"ticker\":null},\"id\":\"1120\",\"type\":\"Grid\"},{\"attributes\":{\"label\":{\"value\":\"monthly mean\"},\"renderers\":[{\"id\":\"1139\"}]},\"id\":\"1164\",\"type\":\"LegendItem\"},{\"attributes\":{},\"id\":\"1118\",\"type\":\"BasicTicker\"},{\"attributes\":{},\"id\":\"1111\",\"type\":\"LinearScale\"}],\"root_ids\":[\"1102\"]},\"title\":\"Bokeh Application\",\"version\":\"2.4.3\"}};\n  const render_items = [{\"docid\":\"cc629234-8844-4d65-a8eb-b7d70b2f025e\",\"root_ids\":[\"1102\"],\"roots\":{\"1102\":\"6c8a7d28-fd03-4607-ad95-c589ddc74cce\"}}];\n  root.Bokeh.embed.embed_items_notebook(docs_json, render_items);\n  }\n  if (root.Bokeh !== undefined) {\n    embed_document(root);\n  } else {\n    let attempts = 0;\n    const timer = setInterval(function(root) {\n      if (root.Bokeh !== undefined) {\n        clearInterval(timer);\n        embed_document(root);\n      } else {\n        attempts++;\n        if (attempts > 100) {\n          clearInterval(timer);\n          console.log(\"Bokeh: ERROR: Unable to run BokehJS code because BokehJS library is missing\");\n        }\n      }\n    }, 10, root)\n  }\n})(window);",
      "application/vnd.bokehjs_exec.v0+json": ""
     },
     "metadata": {
      "application/vnd.bokehjs_exec.v0+json": {
       "id": "1102"
      }
     },
     "output_type": "display_data"
    }
   ],
   "source": [
    "import pandas as pd\n",
    "p = figure(title=\"Mean Processing Time (monthly)\",plot_width=600, plot_height=400,\n",
    "          x_axis_label = \"months\",y_axis_label = \"time\",x_axis_type=\"datetime\")\n",
    "\n",
    "p.line(months_mean.index,#pd.to_datetime(months_mean.index,format=\"%Y%m\"), \n",
    "       months_mean,\n",
    "       legend_label=\"monthly mean\",\n",
    "      line_color = \"red\",\n",
    "      line_width = 8)\n",
    "\n",
    "show(p)"
   ]
  },
  {
   "cell_type": "markdown",
   "metadata": {},
   "source": [
    "<br><br><br><br>\n",
    "<span style=\"color:blue;font-size:large\">tools</span>\n",
    "<li>bokeh provides a number of interactive tools</li>\n",
    "<li>in the above two graphs, we let it pick the tools (defaults), but we can control the tools list</li>\n",
    "<li><a href=\"https://docs.bokeh.org/en/latest/docs/user_guide/tools.html\">tool configuration</a>"
   ]
  },
  {
   "cell_type": "code",
   "execution_count": 10,
   "metadata": {},
   "outputs": [
    {
     "data": {
      "text/html": [
       "\n",
       "  <div class=\"bk-root\" id=\"750b56db-7a30-4b6d-9c03-cf4f0cc44575\" data-root-id=\"1307\"></div>\n"
      ]
     },
     "metadata": {},
     "output_type": "display_data"
    },
    {
     "data": {
      "application/javascript": "(function(root) {\n  function embed_document(root) {\n  const docs_json = {\"aab86006-b7c4-4f4e-92f6-7b222d94906a\":{\"defs\":[],\"roots\":{\"references\":[{\"attributes\":{\"below\":[{\"id\":\"1318\"}],\"center\":[{\"id\":\"1321\"},{\"id\":\"1325\"},{\"id\":\"1366\"}],\"height\":400,\"left\":[{\"id\":\"1322\"}],\"renderers\":[{\"id\":\"1342\"}],\"title\":{\"id\":\"1308\"},\"toolbar\":{\"id\":\"1332\"},\"x_range\":{\"id\":\"1310\"},\"x_scale\":{\"id\":\"1314\"},\"y_range\":{\"id\":\"1312\"},\"y_scale\":{\"id\":\"1316\"}},\"id\":\"1307\",\"subtype\":\"Figure\",\"type\":\"Plot\"},{\"attributes\":{},\"id\":\"1347\",\"type\":\"AllLabels\"},{\"attributes\":{\"axis\":{\"id\":\"1318\"},\"coordinates\":null,\"group\":null,\"ticker\":null},\"id\":\"1321\",\"type\":\"Grid\"},{\"attributes\":{\"data\":{\"x\":{\"__ndarray__\":\"AADAM8CEckIAAACGuo5yQgAAgHJimHJCAADAxFyickIAAAAXV6xyQgAAgAP/tXJCAADAVfm/ckIAAEBCoclyQgAAgJSb03JCAADA5pXdckIAAMAHmeZyQgAAAFqT8HJCAACARjv6ckIAAMCYNQRzQgAAQIXdDXNCAACA19cXc0IAAMAp0iFzQgAAQBZ6K3NCAACAaHQ1c0IAAABVHD9zQgAAQKcWSXNCAACA+RBTc0IAAECAZlxzQgAAgNJgZnNCAAAAvwhwc0IAAEARA3pzQgAAwP2qg3NCAAAAUKWNc0IAAECin5dzQgAAwI5HoXNCAAAA4UGrc0IAAIDN6bRzQgAAwB/kvnNCAAAAct7Ic0IAAACT4dFzQgAAQOXb23NCAADA0YPlc0IAAAAkfu9zQgAAgBAm+XNCAADAYiADdEIAAAC1Gg10QgAAgKHCFnRCAADA87wgdEIAAEDgZCp0QgAAgDJfNHRCAADAhFk+dEIAAMClXEd0QgAAAPhWUXRCAACA5P5adEIAAMA2+WR0QgAAQCOhbnRCAACAdZt4dEIAAMDHlYJ0QgAAQLQ9jHRCAACABjiWdEIAAADz3590QgAAQEXaqXRCAACAl9SzdEIAAIC417x0QgAAwArSxnRCAABA93nQdEIAAIBJdNp0QgAAADYc5HRCAABAiBbudEIAAIDaEPh0QgAAAMe4AXVCAABAGbMLdUIAAMAFWxV1QgAAAFhVH3VCAABAqk8pdUIAAAAxpTJ1QgAAQIOfPHVCAADAb0dGdUIAAADCQVB1QgAAgK7pWXVCAADAAORjdUIAAABT3m11QgAAgD+Gd3VCAADAkYCBdUIAAEB+KIt1QgAAgNAilXVCAADAIh2fdUIAAMBDIKh1QgAAAJYasnVCAACAgsK7dUIAAMDUvMV1QgAAQMFkz3VCAACAE1/ZdUIAAMBlWeN1QgAAQFIB7XVCAACApPv2dUIAAACRowB2QgAAQOOdCnZCAACANZgUdkIAAIBWmx12QgAAwKiVJ3ZCAABAlT0xdkIAAIDnNzt2QgAAANTfRHZCAABAJtpOdkIAAIB41Fh2QgAAAGV8YnZCAABAt3ZsdkIAAMCjHnZ2QgAAAPYYgHZCAABASBOKdkIAAEBpFpN2QgAAgLsQnXZCAAAAqLimdkIAAED6srB2QgAAwOZaunZCAAAAOVXEdkIAAECLT852QgAAwHf313ZCAAAAyvHhdkIAAIC2met2QgAAwAiU9XZCAAAAW47/dkIAAMDh4wh3QgAAADTeEndCAACAIIYcd0IAAMBygCZ3QgAAQF8oMHdCAACAsSI6d0IAAMADHUR3QgAAQPDETXdCAACAQr9Xd0IAAAAvZ2F3QgAAQIFha3dCAACA01t1d0IAAID0Xn53QgAAwEZZiHdCAABAMwGSd0IAAICF+5t3QgAAAHKjpXdCAABAxJ2vd0IAAIAWmLl3QgAAAANAw3dCAABAVTrNd0IAAMBB4tZ3QgAAAJTc4HdCAABA5tbqd0IAAEAH2vN3QgAAgFnU/XdCAAAARnwHeEIAAECYdhF4QgAAwIQeG3hC\",\"dtype\":\"float64\",\"order\":\"little\",\"shape\":[147]},\"y\":{\"__ndarray__\":\"sAVbsFVUsUAAAAAAiP+wQFuwBVtQzbBAw9+mGDUesUAAAAAAAAD4fxzHcRyPMrBAAAAAAAAA+H9Kn/RJd+6wQCl90icdw69AAAAAAAAA+H8AAAAAAAD4fwAAAAAAAPh/AAAAAAAA+H9Kn/RJP42vQAAAAAAAAPh/AAAAAAAA+H/1SZ/0+UqvQAAAAAAAAPh/AAAAAAAA+H8AAAAAAAD4fwAAAAAAAPh/LtiCLZjQrUAAAAAAAAD4fwAAAAAAAPh/+qRP+oQMrUCTPumTBhiuQMAWbMHGfKxAAAAAAAAA+H8AAAAAAAD4f5qZmZm9M6xARERERISGq0BKn/RJH4OrQAAAAAAAAPh/AAAAAAAA+H8AAAAAAAD4fwAAAAAAAPh/AAAAAAAA+H8AAAAAAAD4fwZbsAUbRalAAAAAAAAA+H8AAAAAAAD4fwAAAAAAAPh/AAAAAAAA+H8AAAAAAAD4fwAAAAAAAPh/AAAAAAAA+H8AAAAAAAD4fy7Ygi04FalAAAAAAAAA+H8LtmALhvKmQAAAAAAAAPh/wRZswWbVp0CJiIiIuFqmQAAAAAAAAPh/AAAAAJBgpUAAAAAAAAD4fwAAAAAAAPh/AAAAAAAA+H8AAAAAAAD4f3d3d3cHiaRA5QunEybupEAzMzMzo3CkQBzHcRwbsKNAtmALtgico0AiIiIignyjQLy7u7urTqNA+qRP+vxRo0AAAAAAAAD4f83MzMy4LaNAgAZogMaiokAT2ktoX/miQC+hvYTizKFAYQu2YIvDoUCivIbyOrGhQGdzNmeru6FAaC+hvfSWoUA5juM47uWfQAAAAAAAAPh/LtiCLRgtoEAAAAAAAAD4f0YCvnmV255Agy3Ygo1ZnkDIcRzHwaedQKqqqqr67Z1A9Emf9Dkim0AXbMEWPDmdQBQLHfnAHJ1AftInffrAnECg9EmfNMKaQC3Ygi0YBptAUPqkT+KKm0AAAAAAIKGaQHIcx3G80ZdAAAAAAAAA+H/1SZ/0CW2YQAAAAAAAAPh/F2zBFgx1l0DcFKOGv8KWQHh3d3c3DJZAF2zBFgxVlkA2guoZ+0SWQEYjAd/cn5NAfdInfdKxlEBswRZsIVWTQH3SJ33as5NAAAAAAAAA+H9TjBr+prOSQHBTjBoe95NAj+M4jsPTkEBttziT0nmRQBhLfrHEX5FA7+7u7i4+k0C3YQy3oRaRQC7Ygi3QwpFAQS2KA+ShikAAAAAAAAD4f5/0SZ/034tAbMEWbCHqkEBr+NsUI02JQIMt2IJtZJBA5DiO43hQiEAAAAAAAAD4f5ti1PD3yYVAwRZswdZYhEDNzMzMDBCHQPEc4BI/bFtAFOwGRaiVM0CGC6kOGZ0nQGFPSMlxczJAPOj8ln78MEDikqXQATkyQGRnH82ANjRA1w8lGRCgQEA17c1+uGc0QNAQw5EnASNAIrmTJv5oK0AZ/yboEDcmQD2OviC4MCpAxd+VkGssI0DVaBKaq/0KQP1hDgh3BBtAZ0uf+vc0G0A+ld/sP/UfQBMJWTEuBRhALCRQqJ8fFUD8XIruyKQTQBQuO7JnoBVA\",\"dtype\":\"float64\",\"order\":\"little\",\"shape\":[147]}},\"selected\":{\"id\":\"1352\"},\"selection_policy\":{\"id\":\"1351\"}},\"id\":\"1338\",\"type\":\"ColumnDataSource\"},{\"attributes\":{},\"id\":\"1312\",\"type\":\"DataRange1d\"},{\"attributes\":{\"line_alpha\":0.2,\"line_color\":\"red\",\"line_width\":8,\"x\":{\"field\":\"x\"},\"y\":{\"field\":\"y\"}},\"id\":\"1341\",\"type\":\"Line\"},{\"attributes\":{\"line_alpha\":0.1,\"line_color\":\"red\",\"line_width\":8,\"x\":{\"field\":\"x\"},\"y\":{\"field\":\"y\"}},\"id\":\"1340\",\"type\":\"Line\"},{\"attributes\":{},\"id\":\"1349\",\"type\":\"DatetimeTickFormatter\"},{\"attributes\":{\"mantissas\":[1,2,5],\"max_interval\":500.0,\"num_minor_ticks\":0},\"id\":\"1354\",\"type\":\"AdaptiveTicker\"},{\"attributes\":{\"line_color\":\"red\",\"line_width\":8,\"x\":{\"field\":\"x\"},\"y\":{\"field\":\"y\"}},\"id\":\"1339\",\"type\":\"Line\"},{\"attributes\":{\"axis_label\":\"time\",\"coordinates\":null,\"formatter\":{\"id\":\"1346\"},\"group\":null,\"major_label_policy\":{\"id\":\"1347\"},\"ticker\":{\"id\":\"1323\"}},\"id\":\"1322\",\"type\":\"LinearAxis\"},{\"attributes\":{},\"id\":\"1310\",\"type\":\"DataRange1d\"},{\"attributes\":{\"label\":{\"value\":\"monthly mean\"},\"renderers\":[{\"id\":\"1342\"}]},\"id\":\"1367\",\"type\":\"LegendItem\"},{\"attributes\":{\"base\":60,\"mantissas\":[1,2,5,10,15,20,30],\"max_interval\":1800000.0,\"min_interval\":1000.0,\"num_minor_ticks\":0},\"id\":\"1355\",\"type\":\"AdaptiveTicker\"},{\"attributes\":{},\"id\":\"1350\",\"type\":\"AllLabels\"},{\"attributes\":{\"base\":24,\"mantissas\":[1,2,4,6,8,12],\"max_interval\":43200000.0,\"min_interval\":3600000.0,\"num_minor_ticks\":0},\"id\":\"1356\",\"type\":\"AdaptiveTicker\"},{\"attributes\":{\"axis\":{\"id\":\"1322\"},\"coordinates\":null,\"dimension\":1,\"group\":null,\"ticker\":null},\"id\":\"1325\",\"type\":\"Grid\"},{\"attributes\":{},\"id\":\"1323\",\"type\":\"BasicTicker\"},{\"attributes\":{\"coordinates\":null,\"data_source\":{\"id\":\"1338\"},\"glyph\":{\"id\":\"1339\"},\"group\":null,\"hover_glyph\":null,\"muted_glyph\":{\"id\":\"1341\"},\"nonselection_glyph\":{\"id\":\"1340\"},\"view\":{\"id\":\"1343\"}},\"id\":\"1342\",\"type\":\"GlyphRenderer\"},{\"attributes\":{\"num_minor_ticks\":5,\"tickers\":[{\"id\":\"1354\"},{\"id\":\"1355\"},{\"id\":\"1356\"},{\"id\":\"1357\"},{\"id\":\"1358\"},{\"id\":\"1359\"},{\"id\":\"1360\"},{\"id\":\"1361\"},{\"id\":\"1362\"},{\"id\":\"1363\"},{\"id\":\"1364\"},{\"id\":\"1365\"}]},\"id\":\"1319\",\"type\":\"DatetimeTicker\"},{\"attributes\":{},\"id\":\"1365\",\"type\":\"YearsTicker\"},{\"attributes\":{\"source\":{\"id\":\"1338\"}},\"id\":\"1343\",\"type\":\"CDSView\"},{\"attributes\":{\"axis_label\":\"months\",\"coordinates\":null,\"formatter\":{\"id\":\"1349\"},\"group\":null,\"major_label_policy\":{\"id\":\"1350\"},\"ticker\":{\"id\":\"1319\"}},\"id\":\"1318\",\"type\":\"DatetimeAxis\"},{\"attributes\":{\"months\":[0,1,2,3,4,5,6,7,8,9,10,11]},\"id\":\"1361\",\"type\":\"MonthsTicker\"},{\"attributes\":{\"days\":[1,15]},\"id\":\"1360\",\"type\":\"DaysTicker\"},{\"attributes\":{\"coordinates\":null,\"group\":null,\"items\":[{\"id\":\"1367\"}]},\"id\":\"1366\",\"type\":\"Legend\"},{\"attributes\":{\"days\":[1,2,3,4,5,6,7,8,9,10,11,12,13,14,15,16,17,18,19,20,21,22,23,24,25,26,27,28,29,30,31]},\"id\":\"1357\",\"type\":\"DaysTicker\"},{\"attributes\":{\"days\":[1,4,7,10,13,16,19,22,25,28]},\"id\":\"1358\",\"type\":\"DaysTicker\"},{\"attributes\":{\"days\":[1,8,15,22]},\"id\":\"1359\",\"type\":\"DaysTicker\"},{\"attributes\":{\"months\":[0,6]},\"id\":\"1364\",\"type\":\"MonthsTicker\"},{\"attributes\":{\"overlay\":{\"id\":\"1331\"}},\"id\":\"1327\",\"type\":\"BoxZoomTool\"},{\"attributes\":{\"months\":[0,2,4,6,8,10]},\"id\":\"1362\",\"type\":\"MonthsTicker\"},{\"attributes\":{},\"id\":\"1351\",\"type\":\"UnionRenderers\"},{\"attributes\":{\"months\":[0,4,8]},\"id\":\"1363\",\"type\":\"MonthsTicker\"},{\"attributes\":{},\"id\":\"1352\",\"type\":\"Selection\"},{\"attributes\":{\"bottom_units\":\"screen\",\"coordinates\":null,\"fill_alpha\":0.5,\"fill_color\":\"lightgrey\",\"group\":null,\"left_units\":\"screen\",\"level\":\"overlay\",\"line_alpha\":1.0,\"line_color\":\"black\",\"line_dash\":[4,4],\"line_width\":2,\"right_units\":\"screen\",\"syncable\":false,\"top_units\":\"screen\"},\"id\":\"1331\",\"type\":\"BoxAnnotation\"},{\"attributes\":{\"tools\":[{\"id\":\"1326\"},{\"id\":\"1327\"},{\"id\":\"1328\"},{\"id\":\"1329\"},{\"id\":\"1330\"}]},\"id\":\"1332\",\"type\":\"Toolbar\"},{\"attributes\":{},\"id\":\"1330\",\"type\":\"SaveTool\"},{\"attributes\":{},\"id\":\"1326\",\"type\":\"PanTool\"},{\"attributes\":{\"coordinates\":null,\"group\":null,\"text\":\"Mean Processing Time (monthly)\"},\"id\":\"1308\",\"type\":\"Title\"},{\"attributes\":{},\"id\":\"1316\",\"type\":\"LinearScale\"},{\"attributes\":{},\"id\":\"1328\",\"type\":\"CrosshairTool\"},{\"attributes\":{},\"id\":\"1329\",\"type\":\"ResetTool\"},{\"attributes\":{},\"id\":\"1346\",\"type\":\"BasicTickFormatter\"},{\"attributes\":{},\"id\":\"1314\",\"type\":\"LinearScale\"}],\"root_ids\":[\"1307\"]},\"title\":\"Bokeh Application\",\"version\":\"2.4.3\"}};\n  const render_items = [{\"docid\":\"aab86006-b7c4-4f4e-92f6-7b222d94906a\",\"root_ids\":[\"1307\"],\"roots\":{\"1307\":\"750b56db-7a30-4b6d-9c03-cf4f0cc44575\"}}];\n  root.Bokeh.embed.embed_items_notebook(docs_json, render_items);\n  }\n  if (root.Bokeh !== undefined) {\n    embed_document(root);\n  } else {\n    let attempts = 0;\n    const timer = setInterval(function(root) {\n      if (root.Bokeh !== undefined) {\n        clearInterval(timer);\n        embed_document(root);\n      } else {\n        attempts++;\n        if (attempts > 100) {\n          clearInterval(timer);\n          console.log(\"Bokeh: ERROR: Unable to run BokehJS code because BokehJS library is missing\");\n        }\n      }\n    }, 10, root)\n  }\n})(window);",
      "application/vnd.bokehjs_exec.v0+json": ""
     },
     "metadata": {
      "application/vnd.bokehjs_exec.v0+json": {
       "id": "1307"
      }
     },
     "output_type": "display_data"
    }
   ],
   "source": [
    "import pandas as pd\n",
    "p = figure(title=\"Mean Processing Time (monthly)\",plot_width=600, plot_height=400,\n",
    "          x_axis_label = \"months\",y_axis_label = \"time\",x_axis_type=\"datetime\",\n",
    "          tools=\"pan,box_zoom, crosshair,reset, save\")\n",
    "\n",
    "p.line(pd.to_datetime(months_mean.index,format=\"%Y%m\"), \n",
    "       months_mean,\n",
    "       legend_label=\"monthly mean\",\n",
    "      line_color = \"red\",\n",
    "      line_width = 8)\n",
    "\n",
    "show(p)\n",
    "\n"
   ]
  },
  {
   "cell_type": "markdown",
   "metadata": {},
   "source": [
    "<br><br><br><br>\n",
    "<span style=\"color:blue;font-size:large\">The bar chart</span>\n",
    "<li><a href=\"https://docs.bokeh.org/en/latest/docs/reference/models/glyphs/vbar.html\">vbar</a> for vertical bars (hbar for horizontal bars)</li>\n",
    "<li>x axis labels need to be of type string</li>\n",
    "<li>We can convert the day numbers to str or just create the label list</li>\n"
   ]
  },
  {
   "cell_type": "code",
   "execution_count": 14,
   "metadata": {},
   "outputs": [
    {
     "data": {
      "text/plain": [
       "Created Date\n",
       "0    7.272320\n",
       "1    7.345536\n",
       "2    8.150530\n",
       "3    7.595277\n",
       "4    7.388034\n",
       "5    5.666127\n",
       "6    4.096463\n",
       "Name: processing_days, dtype: float64"
      ]
     },
     "execution_count": 14,
     "metadata": {},
     "output_type": "execute_result"
    }
   ],
   "source": [
    "day_of_week_mean"
   ]
  },
  {
   "cell_type": "code",
   "execution_count": 19,
   "metadata": {
    "scrolled": true
   },
   "outputs": [
    {
     "data": {
      "text/html": [
       "\n",
       "  <div class=\"bk-root\" id=\"a2a83fc3-d2a4-4cca-a0b2-bad95a0a9dfc\" data-root-id=\"2274\"></div>\n"
      ]
     },
     "metadata": {},
     "output_type": "display_data"
    },
    {
     "data": {
      "application/javascript": "(function(root) {\n  function embed_document(root) {\n  const docs_json = {\"303f327d-41c1-4c1c-a264-bcab3b5761e0\":{\"defs\":[],\"roots\":{\"references\":[{\"attributes\":{\"below\":[{\"id\":\"2283\"}],\"center\":[{\"id\":\"2285\"},{\"id\":\"2289\"},{\"id\":\"2321\"}],\"height\":300,\"left\":[{\"id\":\"2286\"}],\"renderers\":[{\"id\":\"2308\"}],\"title\":{\"id\":\"2310\"},\"toolbar\":{\"id\":\"2297\"},\"x_range\":{\"id\":\"2275\"},\"x_scale\":{\"id\":\"2279\"},\"y_range\":{\"id\":\"2277\"},\"y_scale\":{\"id\":\"2281\"}},\"id\":\"2274\",\"subtype\":\"Figure\",\"type\":\"Plot\"},{\"attributes\":{},\"id\":\"2294\",\"type\":\"ResetTool\"},{\"attributes\":{},\"id\":\"2295\",\"type\":\"HelpTool\"},{\"attributes\":{},\"id\":\"2313\",\"type\":\"BasicTickFormatter\"},{\"attributes\":{\"label\":{\"value\":\"means\"},\"renderers\":[{\"id\":\"2308\"}]},\"id\":\"2322\",\"type\":\"LegendItem\"},{\"attributes\":{\"coordinates\":null,\"formatter\":{\"id\":\"2313\"},\"group\":null,\"major_label_policy\":{\"id\":\"2314\"},\"ticker\":{\"id\":\"2287\"}},\"id\":\"2286\",\"type\":\"LinearAxis\"},{\"attributes\":{\"bottom_units\":\"screen\",\"coordinates\":null,\"fill_alpha\":0.5,\"fill_color\":\"lightgrey\",\"group\":null,\"left_units\":\"screen\",\"level\":\"overlay\",\"line_alpha\":1.0,\"line_color\":\"black\",\"line_dash\":[4,4],\"line_width\":2,\"right_units\":\"screen\",\"syncable\":false,\"top_units\":\"screen\"},\"id\":\"2296\",\"type\":\"BoxAnnotation\"},{\"attributes\":{\"axis\":{\"id\":\"2286\"},\"coordinates\":null,\"dimension\":1,\"group\":null,\"ticker\":null},\"id\":\"2289\",\"type\":\"Grid\"},{\"attributes\":{\"coordinates\":null,\"group\":null,\"items\":[{\"id\":\"2322\"}]},\"id\":\"2321\",\"type\":\"Legend\"},{\"attributes\":{},\"id\":\"2293\",\"type\":\"SaveTool\"},{\"attributes\":{\"coordinates\":null,\"formatter\":{\"id\":\"2316\"},\"group\":null,\"major_label_policy\":{\"id\":\"2317\"},\"ticker\":{\"id\":\"2284\"}},\"id\":\"2283\",\"type\":\"CategoricalAxis\"},{\"attributes\":{},\"id\":\"2318\",\"type\":\"UnionRenderers\"},{\"attributes\":{},\"id\":\"2284\",\"type\":\"CategoricalTicker\"},{\"attributes\":{\"tools\":[{\"id\":\"2290\"},{\"id\":\"2291\"},{\"id\":\"2292\"},{\"id\":\"2293\"},{\"id\":\"2294\"},{\"id\":\"2295\"}]},\"id\":\"2297\",\"type\":\"Toolbar\"},{\"attributes\":{},\"id\":\"2291\",\"type\":\"WheelZoomTool\"},{\"attributes\":{\"coordinates\":null,\"group\":null},\"id\":\"2310\",\"type\":\"Title\"},{\"attributes\":{},\"id\":\"2281\",\"type\":\"LinearScale\"},{\"attributes\":{},\"id\":\"2290\",\"type\":\"PanTool\"},{\"attributes\":{\"fill_alpha\":{\"value\":0.2},\"fill_color\":{\"value\":\"blue\"},\"hatch_alpha\":{\"value\":0.2},\"hatch_color\":{\"value\":\"blue\"},\"line_alpha\":{\"value\":0.2},\"line_color\":{\"value\":\"blue\"},\"top\":{\"field\":\"top\"},\"width\":{\"value\":0.6},\"x\":{\"field\":\"x\"}},\"id\":\"2307\",\"type\":\"VBar\"},{\"attributes\":{},\"id\":\"2317\",\"type\":\"AllLabels\"},{\"attributes\":{},\"id\":\"2287\",\"type\":\"BasicTicker\"},{\"attributes\":{},\"id\":\"2316\",\"type\":\"CategoricalTickFormatter\"},{\"attributes\":{\"coordinates\":null,\"data_source\":{\"id\":\"2304\"},\"glyph\":{\"id\":\"2305\"},\"group\":null,\"hover_glyph\":null,\"muted_glyph\":{\"id\":\"2307\"},\"nonselection_glyph\":{\"id\":\"2306\"},\"view\":{\"id\":\"2309\"}},\"id\":\"2308\",\"type\":\"GlyphRenderer\"},{\"attributes\":{},\"id\":\"2279\",\"type\":\"CategoricalScale\"},{\"attributes\":{},\"id\":\"2319\",\"type\":\"Selection\"},{\"attributes\":{\"fill_alpha\":{\"value\":0.1},\"fill_color\":{\"value\":\"blue\"},\"hatch_alpha\":{\"value\":0.1},\"hatch_color\":{\"value\":\"blue\"},\"line_alpha\":{\"value\":0.1},\"line_color\":{\"value\":\"blue\"},\"top\":{\"field\":\"top\"},\"width\":{\"value\":0.6},\"x\":{\"field\":\"x\"}},\"id\":\"2306\",\"type\":\"VBar\"},{\"attributes\":{\"factors\":[\"Monday\",\"Tuesday\",\"Wednesday\",\"Thursday\",\"Friday\",\"Saturday\",\"Sunday\"]},\"id\":\"2275\",\"type\":\"FactorRange\"},{\"attributes\":{},\"id\":\"2314\",\"type\":\"AllLabels\"},{\"attributes\":{\"overlay\":{\"id\":\"2296\"}},\"id\":\"2292\",\"type\":\"BoxZoomTool\"},{\"attributes\":{\"source\":{\"id\":\"2304\"}},\"id\":\"2309\",\"type\":\"CDSView\"},{\"attributes\":{\"fill_color\":{\"value\":\"blue\"},\"hatch_color\":{\"value\":\"blue\"},\"line_color\":{\"value\":\"blue\"},\"top\":{\"field\":\"top\"},\"width\":{\"value\":0.6},\"x\":{\"field\":\"x\"}},\"id\":\"2305\",\"type\":\"VBar\"},{\"attributes\":{\"end\":25},\"id\":\"2277\",\"type\":\"Range1d\"},{\"attributes\":{\"data\":{\"top\":{\"__ndarray__\":\"jR+K/doWHUCQPMUk1GEdQD1CVE4STSBAFYOQRZBhHkAGRe/AWI0dQOgMhRcdqhZADMyCEcdiEEA=\",\"dtype\":\"float64\",\"order\":\"little\",\"shape\":[7]},\"x\":[\"Monday\",\"Tuesday\",\"Wednesday\",\"Thursday\",\"Friday\",\"Saturday\",\"Sunday\"]},\"selected\":{\"id\":\"2319\"},\"selection_policy\":{\"id\":\"2318\"}},\"id\":\"2304\",\"type\":\"ColumnDataSource\"},{\"attributes\":{\"axis\":{\"id\":\"2283\"},\"coordinates\":null,\"group\":null,\"ticker\":null},\"id\":\"2285\",\"type\":\"Grid\"}],\"root_ids\":[\"2274\"]},\"title\":\"Bokeh Application\",\"version\":\"2.4.3\"}};\n  const render_items = [{\"docid\":\"303f327d-41c1-4c1c-a264-bcab3b5761e0\",\"root_ids\":[\"2274\"],\"roots\":{\"2274\":\"a2a83fc3-d2a4-4cca-a0b2-bad95a0a9dfc\"}}];\n  root.Bokeh.embed.embed_items_notebook(docs_json, render_items);\n  }\n  if (root.Bokeh !== undefined) {\n    embed_document(root);\n  } else {\n    let attempts = 0;\n    const timer = setInterval(function(root) {\n      if (root.Bokeh !== undefined) {\n        clearInterval(timer);\n        embed_document(root);\n      } else {\n        attempts++;\n        if (attempts > 100) {\n          clearInterval(timer);\n          console.log(\"Bokeh: ERROR: Unable to run BokehJS code because BokehJS library is missing\");\n        }\n      }\n    }, 10, root)\n  }\n})(window);",
      "application/vnd.bokehjs_exec.v0+json": ""
     },
     "metadata": {
      "application/vnd.bokehjs_exec.v0+json": {
       "id": "2274"
      }
     },
     "output_type": "display_data"
    }
   ],
   "source": [
    "number_labels = [str(day) for day in day_of_week_mean.index] #But we'll use text_labels\n",
    "text_labels = [\"Monday\",\"Tuesday\",\"Wednesday\",\"Thursday\",\"Friday\",\"Saturday\",\"Sunday\"]\n",
    "value = day_of_week_mean\n",
    "\n",
    "p = figure(x_range=text_labels, y_range=(0, 25),plot_width=600, plot_height=300)\n",
    "\n",
    "p.vbar(x=text_labels, top=value , width=0.6, color = \"blue\",legend_label=\"means\")\n",
    "\n",
    "show(p)\n"
   ]
  },
  {
   "cell_type": "markdown",
   "metadata": {},
   "source": [
    "<br><br><br><br>\n",
    "<span style=\"color:blue;font-size:large\">Grid plots in bokeh</span>\n",
    "<li>define each figure separately</li>\n",
    "<li>use gridplot to create a grid</li>\n",
    "<li>gridplot takes a matrix of plots as its input</li>"
   ]
  },
  {
   "cell_type": "code",
   "execution_count": 20,
   "metadata": {},
   "outputs": [
    {
     "data": {
      "text/html": [
       "\n",
       "  <div class=\"bk-root\" id=\"2d87e2f1-686d-4fdc-8072-4ddbffdcb46a\" data-root-id=\"2635\"></div>\n"
      ]
     },
     "metadata": {},
     "output_type": "display_data"
    },
    {
     "data": {
      "application/javascript": "(function(root) {\n  function embed_document(root) {\n  const docs_json = {\"8a268397-f839-486c-af9b-855c37006b2e\":{\"defs\":[],\"roots\":{\"references\":[{\"attributes\":{\"children\":[{\"id\":\"2634\"},{\"id\":\"2632\"}],\"sizing_mode\":\"scale_both\"},\"id\":\"2635\",\"type\":\"Column\"},{\"attributes\":{\"toolbar\":{\"id\":\"2633\"},\"toolbar_location\":\"above\"},\"id\":\"2634\",\"type\":\"ToolbarBox\"},{\"attributes\":{\"axis\":{\"id\":\"2498\"},\"coordinates\":null,\"group\":null,\"ticker\":null},\"id\":\"2501\",\"type\":\"Grid\"},{\"attributes\":{\"data\":{\"top\":{\"__ndarray__\":\"jR+K/doWHUCQPMUk1GEdQD1CVE4STSBAFYOQRZBhHkAGRe/AWI0dQOgMhRcdqhZADMyCEcdiEEA=\",\"dtype\":\"float64\",\"order\":\"little\",\"shape\":[7]},\"x\":[\"Monday\",\"Tuesday\",\"Wednesday\",\"Thursday\",\"Friday\",\"Saturday\",\"Sunday\"]},\"selected\":{\"id\":\"2593\"},\"selection_policy\":{\"id\":\"2592\"}},\"id\":\"2578\",\"type\":\"ColumnDataSource\"},{\"attributes\":{\"source\":{\"id\":\"2518\"}},\"id\":\"2523\",\"type\":\"CDSView\"},{\"attributes\":{\"toolbars\":[{\"id\":\"2512\"},{\"id\":\"2571\"}],\"tools\":[{\"id\":\"2506\"},{\"id\":\"2507\"},{\"id\":\"2508\"},{\"id\":\"2509\"},{\"id\":\"2510\"},{\"id\":\"2564\"},{\"id\":\"2565\"},{\"id\":\"2566\"},{\"id\":\"2567\"},{\"id\":\"2568\"},{\"id\":\"2569\"}]},\"id\":\"2633\",\"type\":\"ProxyToolbar\"},{\"attributes\":{\"axis_label\":\"time\",\"coordinates\":null,\"formatter\":{\"id\":\"2526\"},\"group\":null,\"major_label_policy\":{\"id\":\"2527\"},\"ticker\":{\"id\":\"2503\"}},\"id\":\"2502\",\"type\":\"LinearAxis\"},{\"attributes\":{\"bottom_units\":\"screen\",\"coordinates\":null,\"fill_alpha\":0.5,\"fill_color\":\"lightgrey\",\"group\":null,\"left_units\":\"screen\",\"level\":\"overlay\",\"line_alpha\":1.0,\"line_color\":\"black\",\"line_dash\":[4,4],\"line_width\":2,\"right_units\":\"screen\",\"syncable\":false,\"top_units\":\"screen\"},\"id\":\"2511\",\"type\":\"BoxAnnotation\"},{\"attributes\":{\"line_color\":\"red\",\"line_width\":8,\"x\":{\"field\":\"x\"},\"y\":{\"field\":\"y\"}},\"id\":\"2519\",\"type\":\"Line\"},{\"attributes\":{\"line_alpha\":0.1,\"line_color\":\"red\",\"line_width\":8,\"x\":{\"field\":\"x\"},\"y\":{\"field\":\"y\"}},\"id\":\"2520\",\"type\":\"Line\"},{\"attributes\":{\"below\":[{\"id\":\"2498\"}],\"center\":[{\"id\":\"2501\"},{\"id\":\"2505\"},{\"id\":\"2546\"}],\"height\":400,\"left\":[{\"id\":\"2502\"}],\"renderers\":[{\"id\":\"2522\"}],\"sizing_mode\":\"scale_both\",\"title\":{\"id\":\"2488\"},\"toolbar\":{\"id\":\"2512\"},\"toolbar_location\":null,\"x_range\":{\"id\":\"2490\"},\"x_scale\":{\"id\":\"2494\"},\"y_range\":{\"id\":\"2492\"},\"y_scale\":{\"id\":\"2496\"}},\"id\":\"2487\",\"subtype\":\"Figure\",\"type\":\"Plot\"},{\"attributes\":{\"axis\":{\"id\":\"2502\"},\"coordinates\":null,\"dimension\":1,\"group\":null,\"ticker\":null},\"id\":\"2505\",\"type\":\"Grid\"},{\"attributes\":{\"line_alpha\":0.2,\"line_color\":\"red\",\"line_width\":8,\"x\":{\"field\":\"x\"},\"y\":{\"field\":\"y\"}},\"id\":\"2521\",\"type\":\"Line\"},{\"attributes\":{},\"id\":\"2490\",\"type\":\"DataRange1d\"},{\"attributes\":{},\"id\":\"2492\",\"type\":\"DataRange1d\"},{\"attributes\":{\"coordinates\":null,\"data_source\":{\"id\":\"2518\"},\"glyph\":{\"id\":\"2519\"},\"group\":null,\"hover_glyph\":null,\"muted_glyph\":{\"id\":\"2521\"},\"nonselection_glyph\":{\"id\":\"2520\"},\"view\":{\"id\":\"2523\"}},\"id\":\"2522\",\"type\":\"GlyphRenderer\"},{\"attributes\":{\"data\":{\"x\":{\"__ndarray__\":\"AADAM8CEckIAAACGuo5yQgAAgHJimHJCAADAxFyickIAAAAXV6xyQgAAgAP/tXJCAADAVfm/ckIAAEBCoclyQgAAgJSb03JCAADA5pXdckIAAMAHmeZyQgAAAFqT8HJCAACARjv6ckIAAMCYNQRzQgAAQIXdDXNCAACA19cXc0IAAMAp0iFzQgAAQBZ6K3NCAACAaHQ1c0IAAABVHD9zQgAAQKcWSXNCAACA+RBTc0IAAECAZlxzQgAAgNJgZnNCAAAAvwhwc0IAAEARA3pzQgAAwP2qg3NCAAAAUKWNc0IAAECin5dzQgAAwI5HoXNCAAAA4UGrc0IAAIDN6bRzQgAAwB/kvnNCAAAAct7Ic0IAAACT4dFzQgAAQOXb23NCAADA0YPlc0IAAAAkfu9zQgAAgBAm+XNCAADAYiADdEIAAAC1Gg10QgAAgKHCFnRCAADA87wgdEIAAEDgZCp0QgAAgDJfNHRCAADAhFk+dEIAAMClXEd0QgAAAPhWUXRCAACA5P5adEIAAMA2+WR0QgAAQCOhbnRCAACAdZt4dEIAAMDHlYJ0QgAAQLQ9jHRCAACABjiWdEIAAADz3590QgAAQEXaqXRCAACAl9SzdEIAAIC417x0QgAAwArSxnRCAABA93nQdEIAAIBJdNp0QgAAADYc5HRCAABAiBbudEIAAIDaEPh0QgAAAMe4AXVCAABAGbMLdUIAAMAFWxV1QgAAAFhVH3VCAABAqk8pdUIAAAAxpTJ1QgAAQIOfPHVCAADAb0dGdUIAAADCQVB1QgAAgK7pWXVCAADAAORjdUIAAABT3m11QgAAgD+Gd3VCAADAkYCBdUIAAEB+KIt1QgAAgNAilXVCAADAIh2fdUIAAMBDIKh1QgAAAJYasnVCAACAgsK7dUIAAMDUvMV1QgAAQMFkz3VCAACAE1/ZdUIAAMBlWeN1QgAAQFIB7XVCAACApPv2dUIAAACRowB2QgAAQOOdCnZCAACANZgUdkIAAIBWmx12QgAAwKiVJ3ZCAABAlT0xdkIAAIDnNzt2QgAAANTfRHZCAABAJtpOdkIAAIB41Fh2QgAAAGV8YnZCAABAt3ZsdkIAAMCjHnZ2QgAAAPYYgHZCAABASBOKdkIAAEBpFpN2QgAAgLsQnXZCAAAAqLimdkIAAED6srB2QgAAwOZaunZCAAAAOVXEdkIAAECLT852QgAAwHf313ZCAAAAyvHhdkIAAIC2met2QgAAwAiU9XZCAAAAW47/dkIAAMDh4wh3QgAAADTeEndCAACAIIYcd0IAAMBygCZ3QgAAQF8oMHdCAACAsSI6d0IAAMADHUR3QgAAQPDETXdCAACAQr9Xd0IAAAAvZ2F3QgAAQIFha3dCAACA01t1d0IAAID0Xn53QgAAwEZZiHdCAABAMwGSd0IAAICF+5t3QgAAAHKjpXdCAABAxJ2vd0IAAIAWmLl3QgAAAANAw3dCAABAVTrNd0IAAMBB4tZ3QgAAAJTc4HdCAABA5tbqd0IAAEAH2vN3QgAAgFnU/XdCAAAARnwHeEIAAECYdhF4QgAAwIQeG3hC\",\"dtype\":\"float64\",\"order\":\"little\",\"shape\":[147]},\"y\":{\"__ndarray__\":\"sAVbsFVUsUAAAAAAiP+wQFuwBVtQzbBAw9+mGDUesUAAAAAAAAD4fxzHcRyPMrBAAAAAAAAA+H9Kn/RJd+6wQCl90icdw69AAAAAAAAA+H8AAAAAAAD4fwAAAAAAAPh/AAAAAAAA+H9Kn/RJP42vQAAAAAAAAPh/AAAAAAAA+H/1SZ/0+UqvQAAAAAAAAPh/AAAAAAAA+H8AAAAAAAD4fwAAAAAAAPh/LtiCLZjQrUAAAAAAAAD4fwAAAAAAAPh/+qRP+oQMrUCTPumTBhiuQMAWbMHGfKxAAAAAAAAA+H8AAAAAAAD4f5qZmZm9M6xARERERISGq0BKn/RJH4OrQAAAAAAAAPh/AAAAAAAA+H8AAAAAAAD4fwAAAAAAAPh/AAAAAAAA+H8AAAAAAAD4fwZbsAUbRalAAAAAAAAA+H8AAAAAAAD4fwAAAAAAAPh/AAAAAAAA+H8AAAAAAAD4fwAAAAAAAPh/AAAAAAAA+H8AAAAAAAD4fy7Ygi04FalAAAAAAAAA+H8LtmALhvKmQAAAAAAAAPh/wRZswWbVp0CJiIiIuFqmQAAAAAAAAPh/AAAAAJBgpUAAAAAAAAD4fwAAAAAAAPh/AAAAAAAA+H8AAAAAAAD4f3d3d3cHiaRA5QunEybupEAzMzMzo3CkQBzHcRwbsKNAtmALtgico0AiIiIignyjQLy7u7urTqNA+qRP+vxRo0AAAAAAAAD4f83MzMy4LaNAgAZogMaiokAT2ktoX/miQC+hvYTizKFAYQu2YIvDoUCivIbyOrGhQGdzNmeru6FAaC+hvfSWoUA5juM47uWfQAAAAAAAAPh/LtiCLRgtoEAAAAAAAAD4f0YCvnmV255Agy3Ygo1ZnkDIcRzHwaedQKqqqqr67Z1A9Emf9Dkim0AXbMEWPDmdQBQLHfnAHJ1AftInffrAnECg9EmfNMKaQC3Ygi0YBptAUPqkT+KKm0AAAAAAIKGaQHIcx3G80ZdAAAAAAAAA+H/1SZ/0CW2YQAAAAAAAAPh/F2zBFgx1l0DcFKOGv8KWQHh3d3c3DJZAF2zBFgxVlkA2guoZ+0SWQEYjAd/cn5NAfdInfdKxlEBswRZsIVWTQH3SJ33as5NAAAAAAAAA+H9TjBr+prOSQHBTjBoe95NAj+M4jsPTkEBttziT0nmRQBhLfrHEX5FA7+7u7i4+k0C3YQy3oRaRQC7Ygi3QwpFAQS2KA+ShikAAAAAAAAD4f5/0SZ/034tAbMEWbCHqkEBr+NsUI02JQIMt2IJtZJBA5DiO43hQiEAAAAAAAAD4f5ti1PD3yYVAwRZswdZYhEDNzMzMDBCHQPEc4BI/bFtAFOwGRaiVM0CGC6kOGZ0nQGFPSMlxczJAPOj8ln78MEDikqXQATkyQGRnH82ANjRA1w8lGRCgQEA17c1+uGc0QNAQw5EnASNAIrmTJv5oK0AZ/yboEDcmQD2OviC4MCpAxd+VkGssI0DVaBKaq/0KQP1hDgh3BBtAZ0uf+vc0G0A+ld/sP/UfQBMJWTEuBRhALCRQqJ8fFUD8XIruyKQTQBQuO7JnoBVA\",\"dtype\":\"float64\",\"order\":\"little\",\"shape\":[147]}},\"selected\":{\"id\":\"2532\"},\"selection_policy\":{\"id\":\"2531\"}},\"id\":\"2518\",\"type\":\"ColumnDataSource\"},{\"attributes\":{\"children\":[[{\"id\":\"2487\"},0,0],[{\"id\":\"2548\"},0,1]]},\"id\":\"2632\",\"type\":\"GridBox\"},{\"attributes\":{\"tools\":[{\"id\":\"2506\"},{\"id\":\"2507\"},{\"id\":\"2508\"},{\"id\":\"2509\"},{\"id\":\"2510\"}]},\"id\":\"2512\",\"type\":\"Toolbar\"},{\"attributes\":{\"fill_color\":{\"value\":\"cyan\"},\"hatch_color\":{\"value\":\"cyan\"},\"line_color\":{\"value\":\"cyan\"},\"top\":{\"field\":\"top\"},\"width\":{\"value\":0.5},\"x\":{\"field\":\"x\"}},\"id\":\"2579\",\"type\":\"VBar\"},{\"attributes\":{\"coordinates\":null,\"group\":null,\"text\":\"Mean Processing Time (monthly)\"},\"id\":\"2488\",\"type\":\"Title\"},{\"attributes\":{},\"id\":\"2503\",\"type\":\"BasicTicker\"},{\"attributes\":{},\"id\":\"2496\",\"type\":\"LinearScale\"},{\"attributes\":{\"factors\":[\"Monday\",\"Tuesday\",\"Wednesday\",\"Thursday\",\"Friday\",\"Saturday\",\"Sunday\"]},\"id\":\"2549\",\"type\":\"FactorRange\"},{\"attributes\":{\"num_minor_ticks\":5,\"tickers\":[{\"id\":\"2534\"},{\"id\":\"2535\"},{\"id\":\"2536\"},{\"id\":\"2537\"},{\"id\":\"2538\"},{\"id\":\"2539\"},{\"id\":\"2540\"},{\"id\":\"2541\"},{\"id\":\"2542\"},{\"id\":\"2543\"},{\"id\":\"2544\"},{\"id\":\"2545\"}]},\"id\":\"2499\",\"type\":\"DatetimeTicker\"},{\"attributes\":{\"overlay\":{\"id\":\"2511\"}},\"id\":\"2507\",\"type\":\"BoxZoomTool\"},{\"attributes\":{},\"id\":\"2494\",\"type\":\"LinearScale\"},{\"attributes\":{\"below\":[{\"id\":\"2557\"}],\"center\":[{\"id\":\"2559\"},{\"id\":\"2563\"},{\"id\":\"2595\"}],\"height\":400,\"left\":[{\"id\":\"2560\"}],\"renderers\":[{\"id\":\"2582\"}],\"sizing_mode\":\"scale_both\",\"title\":{\"id\":\"2584\"},\"toolbar\":{\"id\":\"2571\"},\"toolbar_location\":null,\"x_range\":{\"id\":\"2549\"},\"x_scale\":{\"id\":\"2553\"},\"y_range\":{\"id\":\"2551\"},\"y_scale\":{\"id\":\"2555\"}},\"id\":\"2548\",\"subtype\":\"Figure\",\"type\":\"Plot\"},{\"attributes\":{\"axis_label\":\"months\",\"coordinates\":null,\"formatter\":{\"id\":\"2529\"},\"group\":null,\"major_label_policy\":{\"id\":\"2530\"},\"ticker\":{\"id\":\"2499\"}},\"id\":\"2498\",\"type\":\"DatetimeAxis\"},{\"attributes\":{},\"id\":\"2510\",\"type\":\"SaveTool\"},{\"attributes\":{},\"id\":\"2506\",\"type\":\"PanTool\"},{\"attributes\":{},\"id\":\"2508\",\"type\":\"CrosshairTool\"},{\"attributes\":{},\"id\":\"2509\",\"type\":\"ResetTool\"},{\"attributes\":{},\"id\":\"2593\",\"type\":\"Selection\"},{\"attributes\":{\"coordinates\":null,\"group\":null,\"items\":[{\"id\":\"2596\"}]},\"id\":\"2595\",\"type\":\"Legend\"},{\"attributes\":{\"coordinates\":null,\"data_source\":{\"id\":\"2578\"},\"glyph\":{\"id\":\"2579\"},\"group\":null,\"hover_glyph\":null,\"muted_glyph\":{\"id\":\"2581\"},\"nonselection_glyph\":{\"id\":\"2580\"},\"view\":{\"id\":\"2583\"}},\"id\":\"2582\",\"type\":\"GlyphRenderer\"},{\"attributes\":{\"coordinates\":null,\"group\":null},\"id\":\"2584\",\"type\":\"Title\"},{\"attributes\":{\"source\":{\"id\":\"2578\"}},\"id\":\"2583\",\"type\":\"CDSView\"},{\"attributes\":{\"label\":{\"value\":\"means\"},\"renderers\":[{\"id\":\"2582\"}]},\"id\":\"2596\",\"type\":\"LegendItem\"},{\"attributes\":{},\"id\":\"2532\",\"type\":\"Selection\"},{\"attributes\":{},\"id\":\"2531\",\"type\":\"UnionRenderers\"},{\"attributes\":{\"mantissas\":[1,2,5],\"max_interval\":500.0,\"num_minor_ticks\":0},\"id\":\"2534\",\"type\":\"AdaptiveTicker\"},{\"attributes\":{\"base\":60,\"mantissas\":[1,2,5,10,15,20,30],\"max_interval\":1800000.0,\"min_interval\":1000.0,\"num_minor_ticks\":0},\"id\":\"2535\",\"type\":\"AdaptiveTicker\"},{\"attributes\":{},\"id\":\"2558\",\"type\":\"CategoricalTicker\"},{\"attributes\":{\"months\":[0,6]},\"id\":\"2544\",\"type\":\"MonthsTicker\"},{\"attributes\":{\"axis\":{\"id\":\"2560\"},\"coordinates\":null,\"dimension\":1,\"group\":null,\"ticker\":null},\"id\":\"2563\",\"type\":\"Grid\"},{\"attributes\":{},\"id\":\"2565\",\"type\":\"WheelZoomTool\"},{\"attributes\":{},\"id\":\"2555\",\"type\":\"LinearScale\"},{\"attributes\":{},\"id\":\"2553\",\"type\":\"CategoricalScale\"},{\"attributes\":{\"fill_alpha\":{\"value\":0.2},\"fill_color\":{\"value\":\"cyan\"},\"hatch_alpha\":{\"value\":0.2},\"hatch_color\":{\"value\":\"cyan\"},\"line_alpha\":{\"value\":0.2},\"line_color\":{\"value\":\"cyan\"},\"top\":{\"field\":\"top\"},\"width\":{\"value\":0.5},\"x\":{\"field\":\"x\"}},\"id\":\"2581\",\"type\":\"VBar\"},{\"attributes\":{\"coordinates\":null,\"formatter\":{\"id\":\"2590\"},\"group\":null,\"major_label_policy\":{\"id\":\"2591\"},\"ticker\":{\"id\":\"2558\"}},\"id\":\"2557\",\"type\":\"CategoricalAxis\"},{\"attributes\":{},\"id\":\"2530\",\"type\":\"AllLabels\"},{\"attributes\":{\"base\":24,\"mantissas\":[1,2,4,6,8,12],\"max_interval\":43200000.0,\"min_interval\":3600000.0,\"num_minor_ticks\":0},\"id\":\"2536\",\"type\":\"AdaptiveTicker\"},{\"attributes\":{},\"id\":\"2529\",\"type\":\"DatetimeTickFormatter\"},{\"attributes\":{\"overlay\":{\"id\":\"2570\"}},\"id\":\"2566\",\"type\":\"BoxZoomTool\"},{\"attributes\":{},\"id\":\"2591\",\"type\":\"AllLabels\"},{\"attributes\":{},\"id\":\"2569\",\"type\":\"HelpTool\"},{\"attributes\":{},\"id\":\"2561\",\"type\":\"BasicTicker\"},{\"attributes\":{\"coordinates\":null,\"group\":null,\"items\":[{\"id\":\"2547\"}]},\"id\":\"2546\",\"type\":\"Legend\"},{\"attributes\":{\"months\":[0,2,4,6,8,10]},\"id\":\"2542\",\"type\":\"MonthsTicker\"},{\"attributes\":{\"bottom_units\":\"screen\",\"coordinates\":null,\"fill_alpha\":0.5,\"fill_color\":\"lightgrey\",\"group\":null,\"left_units\":\"screen\",\"level\":\"overlay\",\"line_alpha\":1.0,\"line_color\":\"black\",\"line_dash\":[4,4],\"line_width\":2,\"right_units\":\"screen\",\"syncable\":false,\"top_units\":\"screen\"},\"id\":\"2570\",\"type\":\"BoxAnnotation\"},{\"attributes\":{\"months\":[0,4,8]},\"id\":\"2543\",\"type\":\"MonthsTicker\"},{\"attributes\":{},\"id\":\"2567\",\"type\":\"SaveTool\"},{\"attributes\":{\"days\":[1,4,7,10,13,16,19,22,25,28]},\"id\":\"2538\",\"type\":\"DaysTicker\"},{\"attributes\":{},\"id\":\"2568\",\"type\":\"ResetTool\"},{\"attributes\":{},\"id\":\"2564\",\"type\":\"PanTool\"},{\"attributes\":{\"label\":{\"value\":\"monthly mean\"},\"renderers\":[{\"id\":\"2522\"}]},\"id\":\"2547\",\"type\":\"LegendItem\"},{\"attributes\":{\"days\":[1,2,3,4,5,6,7,8,9,10,11,12,13,14,15,16,17,18,19,20,21,22,23,24,25,26,27,28,29,30,31]},\"id\":\"2537\",\"type\":\"DaysTicker\"},{\"attributes\":{\"days\":[1,8,15,22]},\"id\":\"2539\",\"type\":\"DaysTicker\"},{\"attributes\":{},\"id\":\"2545\",\"type\":\"YearsTicker\"},{\"attributes\":{\"tools\":[{\"id\":\"2564\"},{\"id\":\"2565\"},{\"id\":\"2566\"},{\"id\":\"2567\"},{\"id\":\"2568\"},{\"id\":\"2569\"}]},\"id\":\"2571\",\"type\":\"Toolbar\"},{\"attributes\":{\"end\":25},\"id\":\"2551\",\"type\":\"Range1d\"},{\"attributes\":{\"fill_alpha\":{\"value\":0.1},\"fill_color\":{\"value\":\"cyan\"},\"hatch_alpha\":{\"value\":0.1},\"hatch_color\":{\"value\":\"cyan\"},\"line_alpha\":{\"value\":0.1},\"line_color\":{\"value\":\"cyan\"},\"top\":{\"field\":\"top\"},\"width\":{\"value\":0.5},\"x\":{\"field\":\"x\"}},\"id\":\"2580\",\"type\":\"VBar\"},{\"attributes\":{},\"id\":\"2590\",\"type\":\"CategoricalTickFormatter\"},{\"attributes\":{\"coordinates\":null,\"formatter\":{\"id\":\"2587\"},\"group\":null,\"major_label_policy\":{\"id\":\"2588\"},\"ticker\":{\"id\":\"2561\"}},\"id\":\"2560\",\"type\":\"LinearAxis\"},{\"attributes\":{\"axis\":{\"id\":\"2557\"},\"coordinates\":null,\"group\":null,\"ticker\":null},\"id\":\"2559\",\"type\":\"Grid\"},{\"attributes\":{},\"id\":\"2526\",\"type\":\"BasicTickFormatter\"},{\"attributes\":{},\"id\":\"2588\",\"type\":\"AllLabels\"},{\"attributes\":{},\"id\":\"2527\",\"type\":\"AllLabels\"},{\"attributes\":{},\"id\":\"2587\",\"type\":\"BasicTickFormatter\"},{\"attributes\":{\"days\":[1,15]},\"id\":\"2540\",\"type\":\"DaysTicker\"},{\"attributes\":{\"months\":[0,1,2,3,4,5,6,7,8,9,10,11]},\"id\":\"2541\",\"type\":\"MonthsTicker\"},{\"attributes\":{},\"id\":\"2592\",\"type\":\"UnionRenderers\"}],\"root_ids\":[\"2635\"]},\"title\":\"Bokeh Application\",\"version\":\"2.4.3\"}};\n  const render_items = [{\"docid\":\"8a268397-f839-486c-af9b-855c37006b2e\",\"root_ids\":[\"2635\"],\"roots\":{\"2635\":\"2d87e2f1-686d-4fdc-8072-4ddbffdcb46a\"}}];\n  root.Bokeh.embed.embed_items_notebook(docs_json, render_items);\n  }\n  if (root.Bokeh !== undefined) {\n    embed_document(root);\n  } else {\n    let attempts = 0;\n    const timer = setInterval(function(root) {\n      if (root.Bokeh !== undefined) {\n        clearInterval(timer);\n        embed_document(root);\n      } else {\n        attempts++;\n        if (attempts > 100) {\n          clearInterval(timer);\n          console.log(\"Bokeh: ERROR: Unable to run BokehJS code because BokehJS library is missing\");\n        }\n      }\n    }, 10, root)\n  }\n})(window);",
      "application/vnd.bokehjs_exec.v0+json": ""
     },
     "metadata": {
      "application/vnd.bokehjs_exec.v0+json": {
       "id": "2635"
      }
     },
     "output_type": "display_data"
    }
   ],
   "source": [
    "from bokeh.io import output_notebook, show\n",
    "from bokeh.layouts import gridplot\n",
    "from bokeh.plotting import figure\n",
    "import pandas as pd\n",
    "\n",
    "\n",
    "p1 = figure(title=\"Mean Processing Time (monthly)\",plot_width=600, plot_height=400,\n",
    "          x_axis_label = \"months\",y_axis_label = \"time\",x_axis_type=\"datetime\",\n",
    "          tools=\"pan,box_zoom, crosshair,reset, save\")\n",
    "\n",
    "p1.line(pd.to_datetime(months_mean.index,format=\"%Y%m\"), \n",
    "       months_mean,\n",
    "       legend_label=\"monthly mean\",\n",
    "      line_color = \"red\",\n",
    "      line_width = 8)\n",
    "\n",
    "\n",
    "\n",
    "text_labels = [\"Monday\",\"Tuesday\",\"Wednesday\",\"Thursday\",\"Friday\",\"Saturday\",\"Sunday\"]\n",
    "values = day_of_week_mean\n",
    "\n",
    "p2 = figure(x_range=text_labels, y_range=(0, 25),plot_width=600, plot_height=400)\n",
    "\n",
    "p2.vbar(x=text_labels, top=values , width=0.5, color = \"cyan\",legend_label=\"means\")\n",
    "\n",
    "\n",
    "\n",
    "\n",
    "grid = gridplot([[p1,p2]],sizing_mode=\"scale_both\",merge_tools=True)\n",
    "\n",
    "\n",
    "\n",
    "show(grid)\n",
    "\n",
    "\n",
    "\n"
   ]
  },
  {
   "cell_type": "markdown",
   "metadata": {},
   "source": [
    "<h2>Pie charts</h2>\n",
    "<span style=\"color:blue;font-size:large\">Breakdown of complaints by Borough</span>\n",
    "<li>We might be interested in seeing if there are differences in complaint percent across boroughs</li>\n",
    "<li>Let's make a set of 5 piecharts, one for each borough, that shows the relative number of complaints by agency</li>"
   ]
  },
  {
   "cell_type": "markdown",
   "metadata": {},
   "source": [
    "<li>roup the data by borough and then, within each borough, by agency, and get the size of each group</li>\n"
   ]
  },
  {
   "cell_type": "code",
   "execution_count": 21,
   "metadata": {},
   "outputs": [
    {
     "data": {
      "text/plain": [
       "Borough        Agency\n",
       "BRONX          DCA         387\n",
       "               DEP        3286\n",
       "               DHS         290\n",
       "               DOB        4098\n",
       "               DOE          83\n",
       "                         ...  \n",
       "STATEN ISLAND  DPR        1834\n",
       "               DSNY      14354\n",
       "               HPD        2824\n",
       "               NYPD      13988\n",
       "               OTI           1\n",
       "Length: 61, dtype: int64"
      ]
     },
     "execution_count": 21,
     "metadata": {},
     "output_type": "execute_result"
    }
   ],
   "source": [
    "df.groupby(['Borough','Agency']).size()"
   ]
  },
  {
   "cell_type": "markdown",
   "metadata": {},
   "source": [
    "<li>this gives us a series with a two-layered index</li>\n",
    "<li>the <a href=\"https://pandas.pydata.org/docs/reference/api/pandas.DataFrame.unstack.html\">unstack</a> function takes a two layered index and converts it into a dataframe</li>\n",
    "<li>the outer index is the index of the new dataframe</li>\n",
    "<li>the inner index becomes the columns of the new dataframe</li>\n",
    "<li>We need to remove the agencies with a NaN in the data (FDNY)</li>"
   ]
  },
  {
   "cell_type": "code",
   "execution_count": 22,
   "metadata": {},
   "outputs": [
    {
     "data": {
      "text/html": [
       "<div>\n",
       "<style scoped>\n",
       "    .dataframe tbody tr th:only-of-type {\n",
       "        vertical-align: middle;\n",
       "    }\n",
       "\n",
       "    .dataframe tbody tr th {\n",
       "        vertical-align: top;\n",
       "    }\n",
       "\n",
       "    .dataframe thead th {\n",
       "        text-align: right;\n",
       "    }\n",
       "</style>\n",
       "<table border=\"1\" class=\"dataframe\">\n",
       "  <thead>\n",
       "    <tr style=\"text-align: right;\">\n",
       "      <th>Agency</th>\n",
       "      <th>DCA</th>\n",
       "      <th>DEP</th>\n",
       "      <th>DHS</th>\n",
       "      <th>DOB</th>\n",
       "      <th>DOE</th>\n",
       "      <th>DOHMH</th>\n",
       "      <th>DOT</th>\n",
       "      <th>DPR</th>\n",
       "      <th>DSNY</th>\n",
       "      <th>HPD</th>\n",
       "      <th>NYPD</th>\n",
       "      <th>OTI</th>\n",
       "      <th>TLC</th>\n",
       "    </tr>\n",
       "    <tr>\n",
       "      <th>Borough</th>\n",
       "      <th></th>\n",
       "      <th></th>\n",
       "      <th></th>\n",
       "      <th></th>\n",
       "      <th></th>\n",
       "      <th></th>\n",
       "      <th></th>\n",
       "      <th></th>\n",
       "      <th></th>\n",
       "      <th></th>\n",
       "      <th></th>\n",
       "      <th></th>\n",
       "      <th></th>\n",
       "    </tr>\n",
       "  </thead>\n",
       "  <tbody>\n",
       "    <tr>\n",
       "      <th>BRONX</th>\n",
       "      <td>387.0</td>\n",
       "      <td>3286.0</td>\n",
       "      <td>290.0</td>\n",
       "      <td>4098.0</td>\n",
       "      <td>83.0</td>\n",
       "      <td>2884.0</td>\n",
       "      <td>13024.0</td>\n",
       "      <td>2112.0</td>\n",
       "      <td>12694.0</td>\n",
       "      <td>59131.0</td>\n",
       "      <td>142141.0</td>\n",
       "      <td>2.0</td>\n",
       "      <td>NaN</td>\n",
       "    </tr>\n",
       "    <tr>\n",
       "      <th>BROOKLYN</th>\n",
       "      <td>522.0</td>\n",
       "      <td>7373.0</td>\n",
       "      <td>1925.0</td>\n",
       "      <td>11737.0</td>\n",
       "      <td>104.0</td>\n",
       "      <td>7077.0</td>\n",
       "      <td>20677.0</td>\n",
       "      <td>5788.0</td>\n",
       "      <td>41712.0</td>\n",
       "      <td>48550.0</td>\n",
       "      <td>153693.0</td>\n",
       "      <td>5.0</td>\n",
       "      <td>NaN</td>\n",
       "    </tr>\n",
       "    <tr>\n",
       "      <th>MANHATTAN</th>\n",
       "      <td>470.0</td>\n",
       "      <td>4996.0</td>\n",
       "      <td>4087.0</td>\n",
       "      <td>7225.0</td>\n",
       "      <td>158.0</td>\n",
       "      <td>5578.0</td>\n",
       "      <td>11883.0</td>\n",
       "      <td>1952.0</td>\n",
       "      <td>13871.0</td>\n",
       "      <td>34887.0</td>\n",
       "      <td>97912.0</td>\n",
       "      <td>12.0</td>\n",
       "      <td>1.0</td>\n",
       "    </tr>\n",
       "    <tr>\n",
       "      <th>QUEENS</th>\n",
       "      <td>572.0</td>\n",
       "      <td>6148.0</td>\n",
       "      <td>692.0</td>\n",
       "      <td>7214.0</td>\n",
       "      <td>63.0</td>\n",
       "      <td>3933.0</td>\n",
       "      <td>22152.0</td>\n",
       "      <td>4768.0</td>\n",
       "      <td>31814.0</td>\n",
       "      <td>20527.0</td>\n",
       "      <td>135630.0</td>\n",
       "      <td>3.0</td>\n",
       "      <td>NaN</td>\n",
       "    </tr>\n",
       "    <tr>\n",
       "      <th>STATEN ISLAND</th>\n",
       "      <td>72.0</td>\n",
       "      <td>1994.0</td>\n",
       "      <td>76.0</td>\n",
       "      <td>1173.0</td>\n",
       "      <td>58.0</td>\n",
       "      <td>784.0</td>\n",
       "      <td>6999.0</td>\n",
       "      <td>1834.0</td>\n",
       "      <td>14354.0</td>\n",
       "      <td>2824.0</td>\n",
       "      <td>13988.0</td>\n",
       "      <td>1.0</td>\n",
       "      <td>NaN</td>\n",
       "    </tr>\n",
       "  </tbody>\n",
       "</table>\n",
       "</div>"
      ],
      "text/plain": [
       "Agency           DCA     DEP     DHS      DOB    DOE   DOHMH      DOT     DPR  \\\n",
       "Borough                                                                         \n",
       "BRONX          387.0  3286.0   290.0   4098.0   83.0  2884.0  13024.0  2112.0   \n",
       "BROOKLYN       522.0  7373.0  1925.0  11737.0  104.0  7077.0  20677.0  5788.0   \n",
       "MANHATTAN      470.0  4996.0  4087.0   7225.0  158.0  5578.0  11883.0  1952.0   \n",
       "QUEENS         572.0  6148.0   692.0   7214.0   63.0  3933.0  22152.0  4768.0   \n",
       "STATEN ISLAND   72.0  1994.0    76.0   1173.0   58.0   784.0   6999.0  1834.0   \n",
       "\n",
       "Agency            DSNY      HPD      NYPD   OTI  TLC  \n",
       "Borough                                               \n",
       "BRONX          12694.0  59131.0  142141.0   2.0  NaN  \n",
       "BROOKLYN       41712.0  48550.0  153693.0   5.0  NaN  \n",
       "MANHATTAN      13871.0  34887.0   97912.0  12.0  1.0  \n",
       "QUEENS         31814.0  20527.0  135630.0   3.0  NaN  \n",
       "STATEN ISLAND  14354.0   2824.0   13988.0   1.0  NaN  "
      ]
     },
     "execution_count": 22,
     "metadata": {},
     "output_type": "execute_result"
    }
   ],
   "source": [
    "df.groupby(['Borough','Agency']).size().unstack()"
   ]
  },
  {
   "cell_type": "code",
   "execution_count": 23,
   "metadata": {},
   "outputs": [
    {
     "data": {
      "text/html": [
       "<div>\n",
       "<style scoped>\n",
       "    .dataframe tbody tr th:only-of-type {\n",
       "        vertical-align: middle;\n",
       "    }\n",
       "\n",
       "    .dataframe tbody tr th {\n",
       "        vertical-align: top;\n",
       "    }\n",
       "\n",
       "    .dataframe thead th {\n",
       "        text-align: right;\n",
       "    }\n",
       "</style>\n",
       "<table border=\"1\" class=\"dataframe\">\n",
       "  <thead>\n",
       "    <tr style=\"text-align: right;\">\n",
       "      <th>Agency</th>\n",
       "      <th>DCA</th>\n",
       "      <th>DEP</th>\n",
       "      <th>DHS</th>\n",
       "      <th>DOB</th>\n",
       "      <th>DOE</th>\n",
       "      <th>DOHMH</th>\n",
       "      <th>DOT</th>\n",
       "      <th>DPR</th>\n",
       "      <th>DSNY</th>\n",
       "      <th>HPD</th>\n",
       "      <th>NYPD</th>\n",
       "      <th>OTI</th>\n",
       "    </tr>\n",
       "    <tr>\n",
       "      <th>Borough</th>\n",
       "      <th></th>\n",
       "      <th></th>\n",
       "      <th></th>\n",
       "      <th></th>\n",
       "      <th></th>\n",
       "      <th></th>\n",
       "      <th></th>\n",
       "      <th></th>\n",
       "      <th></th>\n",
       "      <th></th>\n",
       "      <th></th>\n",
       "      <th></th>\n",
       "    </tr>\n",
       "  </thead>\n",
       "  <tbody>\n",
       "    <tr>\n",
       "      <th>BRONX</th>\n",
       "      <td>387.0</td>\n",
       "      <td>3286.0</td>\n",
       "      <td>290.0</td>\n",
       "      <td>4098.0</td>\n",
       "      <td>83.0</td>\n",
       "      <td>2884.0</td>\n",
       "      <td>13024.0</td>\n",
       "      <td>2112.0</td>\n",
       "      <td>12694.0</td>\n",
       "      <td>59131.0</td>\n",
       "      <td>142141.0</td>\n",
       "      <td>2.0</td>\n",
       "    </tr>\n",
       "    <tr>\n",
       "      <th>BROOKLYN</th>\n",
       "      <td>522.0</td>\n",
       "      <td>7373.0</td>\n",
       "      <td>1925.0</td>\n",
       "      <td>11737.0</td>\n",
       "      <td>104.0</td>\n",
       "      <td>7077.0</td>\n",
       "      <td>20677.0</td>\n",
       "      <td>5788.0</td>\n",
       "      <td>41712.0</td>\n",
       "      <td>48550.0</td>\n",
       "      <td>153693.0</td>\n",
       "      <td>5.0</td>\n",
       "    </tr>\n",
       "    <tr>\n",
       "      <th>MANHATTAN</th>\n",
       "      <td>470.0</td>\n",
       "      <td>4996.0</td>\n",
       "      <td>4087.0</td>\n",
       "      <td>7225.0</td>\n",
       "      <td>158.0</td>\n",
       "      <td>5578.0</td>\n",
       "      <td>11883.0</td>\n",
       "      <td>1952.0</td>\n",
       "      <td>13871.0</td>\n",
       "      <td>34887.0</td>\n",
       "      <td>97912.0</td>\n",
       "      <td>12.0</td>\n",
       "    </tr>\n",
       "    <tr>\n",
       "      <th>QUEENS</th>\n",
       "      <td>572.0</td>\n",
       "      <td>6148.0</td>\n",
       "      <td>692.0</td>\n",
       "      <td>7214.0</td>\n",
       "      <td>63.0</td>\n",
       "      <td>3933.0</td>\n",
       "      <td>22152.0</td>\n",
       "      <td>4768.0</td>\n",
       "      <td>31814.0</td>\n",
       "      <td>20527.0</td>\n",
       "      <td>135630.0</td>\n",
       "      <td>3.0</td>\n",
       "    </tr>\n",
       "    <tr>\n",
       "      <th>STATEN ISLAND</th>\n",
       "      <td>72.0</td>\n",
       "      <td>1994.0</td>\n",
       "      <td>76.0</td>\n",
       "      <td>1173.0</td>\n",
       "      <td>58.0</td>\n",
       "      <td>784.0</td>\n",
       "      <td>6999.0</td>\n",
       "      <td>1834.0</td>\n",
       "      <td>14354.0</td>\n",
       "      <td>2824.0</td>\n",
       "      <td>13988.0</td>\n",
       "      <td>1.0</td>\n",
       "    </tr>\n",
       "  </tbody>\n",
       "</table>\n",
       "</div>"
      ],
      "text/plain": [
       "Agency           DCA     DEP     DHS      DOB    DOE   DOHMH      DOT     DPR  \\\n",
       "Borough                                                                         \n",
       "BRONX          387.0  3286.0   290.0   4098.0   83.0  2884.0  13024.0  2112.0   \n",
       "BROOKLYN       522.0  7373.0  1925.0  11737.0  104.0  7077.0  20677.0  5788.0   \n",
       "MANHATTAN      470.0  4996.0  4087.0   7225.0  158.0  5578.0  11883.0  1952.0   \n",
       "QUEENS         572.0  6148.0   692.0   7214.0   63.0  3933.0  22152.0  4768.0   \n",
       "STATEN ISLAND   72.0  1994.0    76.0   1173.0   58.0   784.0   6999.0  1834.0   \n",
       "\n",
       "Agency            DSNY      HPD      NYPD   OTI  \n",
       "Borough                                          \n",
       "BRONX          12694.0  59131.0  142141.0   2.0  \n",
       "BROOKLYN       41712.0  48550.0  153693.0   5.0  \n",
       "MANHATTAN      13871.0  34887.0   97912.0  12.0  \n",
       "QUEENS         31814.0  20527.0  135630.0   3.0  \n",
       "STATEN ISLAND  14354.0   2824.0   13988.0   1.0  "
      ]
     },
     "execution_count": 23,
     "metadata": {},
     "output_type": "execute_result"
    }
   ],
   "source": [
    "#dropna(axis=1) drops any column that has a nan in it\n",
    "size_df = df.groupby(['Borough','Agency']).size().unstack().dropna(axis=1)\n",
    "size_df"
   ]
  },
  {
   "cell_type": "markdown",
   "metadata": {},
   "source": [
    "<li>each row of the df will correspond to one piechart and we will have 5 piecharts in all</li>"
   ]
  },
  {
   "cell_type": "markdown",
   "metadata": {},
   "source": [
    "<br><br><br><br>\n",
    "<span style=\"color:blue;font-size:large\">The pie chart</span>\n",
    "<li>Drawing a piechart involves specifying each slice of the pie</li>\n",
    "<li>The <span style=\"color:blue\">color</span> of the slices is defined by importing a <a href=\"https://docs.bokeh.org/en/latest/docs/reference/palettes.html\">color palette</a></li>\n",
    "<li>We need to use a <a href=\"https://docs.bokeh.org/en/latest/docs/user_guide/data.html\">ColumnDataSource</a> object to store the data:</li>\n",
    "<ul>\n",
    "    <li>The data repository for a bokeh chart</li>\n",
    "    <li>Bokeh can directly reference named columns in this source</li>\n",
    "    <li>Think of it as a dedicated table that bokeh understands</li>\n",
    "</ul>\n",
    "<li><a href=\"https://docs.bokeh.org/en/latest/docs/user_guide/annotations.html\">LabelSet</a>: the set of labels that we want to display. For the piechart, these will be the fraction of cases that are associated with an agency</li>\n",
    "\n"
   ]
  },
  {
   "cell_type": "code",
   "execution_count": 24,
   "metadata": {
    "scrolled": true
   },
   "outputs": [
    {
     "data": {
      "text/html": [
       "\n",
       "  <div class=\"bk-root\" id=\"fee3fd05-ee06-4637-bc47-6e867b0a09bd\" data-root-id=\"2943\"></div>\n"
      ]
     },
     "metadata": {},
     "output_type": "display_data"
    },
    {
     "data": {
      "application/javascript": "(function(root) {\n  function embed_document(root) {\n  const docs_json = {\"5525d016-5386-4c50-ad39-9960d941d585\":{\"defs\":[],\"roots\":{\"references\":[{\"attributes\":{\"below\":[{\"id\":\"2954\"}],\"center\":[{\"id\":\"2957\"},{\"id\":\"2961\"},{\"id\":\"2983\"},{\"id\":\"2987\"}],\"height\":500,\"left\":[{\"id\":\"2958\"}],\"renderers\":[{\"id\":\"2972\"}],\"title\":{\"id\":\"2944\"},\"toolbar\":{\"id\":\"2963\"},\"x_range\":{\"id\":\"2946\"},\"x_scale\":{\"id\":\"2950\"},\"y_range\":{\"id\":\"2948\"},\"y_scale\":{\"id\":\"2952\"}},\"id\":\"2943\",\"subtype\":\"Figure\",\"type\":\"Plot\"},{\"attributes\":{},\"id\":\"2979\",\"type\":\"BasicTickFormatter\"},{\"attributes\":{\"coordinates\":null,\"formatter\":{\"id\":\"2979\"},\"group\":null,\"major_label_policy\":{\"id\":\"2980\"},\"ticker\":{\"id\":\"2955\"},\"visible\":false},\"id\":\"2954\",\"type\":\"LinearAxis\"},{\"attributes\":{\"coordinates\":null,\"formatter\":{\"id\":\"2976\"},\"group\":null,\"major_label_policy\":{\"id\":\"2977\"},\"ticker\":{\"id\":\"2959\"},\"visible\":false},\"id\":\"2958\",\"type\":\"LinearAxis\"},{\"attributes\":{},\"id\":\"2952\",\"type\":\"LinearScale\"},{\"attributes\":{\"coordinates\":null,\"group\":null,\"text\":\"Cases by Agency: BRONX\"},\"id\":\"2944\",\"type\":\"Title\"},{\"attributes\":{\"start\":-0.5},\"id\":\"2946\",\"type\":\"Range1d\"},{\"attributes\":{\"data\":{\"Agency\":[\"DCA\",\"DEP\",\"DHS\",\"DOB\",\"DOE\",\"DOHMH\",\"DOT\",\"DPR\",\"DSNY\",\"HPD\",\"NYPD\",\"OTI\"],\"angle\":{\"__ndarray__\":\"6Ondtj6XhD9bhLkf4Qm2P9zeTBLe4n4/fHZMyA2Cuz/c3kwS3uJeP0oLcMvKTbM/nOqUYxvM1T+gIXE79k+sPyxI8EtERtU/8UVVpNHA+D8zTmEwT8ENQAAAAAAAAAAA\",\"dtype\":\"float64\",\"order\":\"little\",\"shape\":[12]},\"color\":[\"#3182bd\",\"#6baed6\",\"#9ecae1\",\"#c6dbef\",\"#e6550d\",\"#fd8d3c\",\"#fdae6b\",\"#fdd0a2\",\"#31a354\",\"#74c476\",\"#a1d99b\",\"#c7e9c0\"],\"index\":[0,1,2,3,4,5,6,7,8,9,10,11],\"pct\":{\"__ndarray__\":\"exSuR+F6xD/sUbgehev1P7gehetRuL4/XI/C9Shc+z+4HoXrUbiePzMzMzMzM/M/rkfhehSuFUApXI/C9SjsPylcj8L1KBVAH4XrUbieOEC4HoXrUZhNQAAAAAAAAAAA\",\"dtype\":\"float64\",\"order\":\"little\",\"shape\":[12]},\"value\":{\"__ndarray__\":\"AAAAAAAweEAAAAAAAKypQAAAAAAAIHJAAAAAAAACsEAAAAAAAMBUQAAAAAAAiKZAAAAAAABwyUAAAAAAAICgQAAAAAAAy8hAAAAAAGDf7EAAAAAA6FkBQQAAAAAAAABA\",\"dtype\":\"float64\",\"order\":\"little\",\"shape\":[12]}},\"selected\":{\"id\":\"2982\"},\"selection_policy\":{\"id\":\"2981\"}},\"id\":\"2967\",\"type\":\"ColumnDataSource\"},{\"attributes\":{\"coordinates\":null,\"data_source\":{\"id\":\"2967\"},\"glyph\":{\"id\":\"2969\"},\"group\":null,\"hover_glyph\":null,\"muted_glyph\":{\"id\":\"2971\"},\"nonselection_glyph\":{\"id\":\"2970\"},\"view\":{\"id\":\"2973\"}},\"id\":\"2972\",\"type\":\"GlyphRenderer\"},{\"attributes\":{},\"id\":\"2959\",\"type\":\"BasicTicker\"},{\"attributes\":{\"axis\":{\"id\":\"2954\"},\"coordinates\":null,\"grid_line_color\":null,\"group\":null,\"ticker\":null},\"id\":\"2957\",\"type\":\"Grid\"},{\"attributes\":{},\"id\":\"2950\",\"type\":\"LinearScale\"},{\"attributes\":{},\"id\":\"2948\",\"type\":\"DataRange1d\"},{\"attributes\":{},\"id\":\"2981\",\"type\":\"UnionRenderers\"},{\"attributes\":{\"data\":{\"Agency\":[\"DCA\",\"DEP\",\"DHS\",\"DOB\",\"DOE\",\"DOHMH\",\"DOT\",\"DPR\",\"DSNY\",\"HPD\",\"NYPD\",\"OTI\"],\"angle\":{\"__ndarray__\":\"6Ondtj6XhD9bhLkf4Qm2P9zeTBLe4n4/fHZMyA2Cuz/c3kwS3uJeP0oLcMvKTbM/nOqUYxvM1T+gIXE79k+sPyxI8EtERtU/8UVVpNHA+D8zTmEwT8ENQAAAAAAAAAAA\",\"dtype\":\"float64\",\"order\":\"little\",\"shape\":[12]},\"color\":[\"#3182bd\",\"#6baed6\",\"#9ecae1\",\"#c6dbef\",\"#e6550d\",\"#fd8d3c\",\"#fdae6b\",\"#fdd0a2\",\"#31a354\",\"#74c476\",\"#a1d99b\",\"#c7e9c0\"],\"index\":[0,1,2,3,4,5,6,7,8,9,10,11],\"label_vals\":[\"\",\"\",\"\",\"\",\"\",\"\",\"                               5.42\",\"\",\"                               5.29\",\"                              24.62\",\"                              59.19\",\"\"],\"pct\":{\"__ndarray__\":\"exSuR+F6xD/sUbgehev1P7gehetRuL4/XI/C9Shc+z+4HoXrUbiePzMzMzMzM/M/rkfhehSuFUApXI/C9SjsPylcj8L1KBVAH4XrUbieOEC4HoXrUZhNQAAAAAAAAAAA\",\"dtype\":\"float64\",\"order\":\"little\",\"shape\":[12]},\"value\":{\"__ndarray__\":\"AAAAAAAweEAAAAAAAKypQAAAAAAAIHJAAAAAAAACsEAAAAAAAMBUQAAAAAAAiKZAAAAAAABwyUAAAAAAAICgQAAAAAAAy8hAAAAAAGDf7EAAAAAA6FkBQQAAAAAAAABA\",\"dtype\":\"float64\",\"order\":\"little\",\"shape\":[12]}},\"selected\":{\"id\":\"3141\"},\"selection_policy\":{\"id\":\"3140\"}},\"id\":\"2986\",\"type\":\"ColumnDataSource\"},{\"attributes\":{\"end_angle\":{\"expr\":{\"id\":\"2966\"}},\"fill_alpha\":{\"value\":0.2},\"fill_color\":{\"field\":\"color\"},\"hatch_alpha\":{\"value\":0.2},\"line_alpha\":{\"value\":0.2},\"line_color\":{\"value\":\"white\"},\"radius\":{\"value\":0.4},\"start_angle\":{\"expr\":{\"id\":\"2965\"}},\"x\":{\"value\":0},\"y\":{\"value\":1}},\"id\":\"2971\",\"type\":\"Wedge\"},{\"attributes\":{\"end_angle\":{\"expr\":{\"id\":\"2966\"}},\"fill_alpha\":{\"value\":0.1},\"fill_color\":{\"field\":\"color\"},\"hatch_alpha\":{\"value\":0.1},\"line_alpha\":{\"value\":0.1},\"line_color\":{\"value\":\"white\"},\"radius\":{\"value\":0.4},\"start_angle\":{\"expr\":{\"id\":\"2965\"}},\"x\":{\"value\":0},\"y\":{\"value\":1}},\"id\":\"2970\",\"type\":\"Wedge\"},{\"attributes\":{\"tools\":[{\"id\":\"2962\"}]},\"id\":\"2963\",\"type\":\"Toolbar\"},{\"attributes\":{\"end_angle\":{\"expr\":{\"id\":\"2966\"}},\"fill_color\":{\"field\":\"color\"},\"line_color\":{\"value\":\"white\"},\"radius\":{\"value\":0.4},\"start_angle\":{\"expr\":{\"id\":\"2965\"}},\"x\":{\"value\":0},\"y\":{\"value\":1}},\"id\":\"2969\",\"type\":\"Wedge\"},{\"attributes\":{\"angle\":{\"expr\":{\"id\":\"2985\"}},\"coordinates\":null,\"group\":null,\"source\":{\"id\":\"2986\"},\"text\":{\"field\":\"label_vals\"},\"x\":{\"value\":0},\"y\":{\"value\":1}},\"id\":\"2987\",\"type\":\"LabelSet\"},{\"attributes\":{\"field\":\"angle\"},\"id\":\"2966\",\"type\":\"CumSum\"},{\"attributes\":{\"source\":{\"id\":\"2967\"}},\"id\":\"2973\",\"type\":\"CDSView\"},{\"attributes\":{},\"id\":\"2982\",\"type\":\"Selection\"},{\"attributes\":{},\"id\":\"2955\",\"type\":\"BasicTicker\"},{\"attributes\":{},\"id\":\"2977\",\"type\":\"AllLabels\"},{\"attributes\":{\"field\":\"angle\",\"include_zero\":true},\"id\":\"2965\",\"type\":\"CumSum\"},{\"attributes\":{\"field\":\"angle\",\"include_zero\":true},\"id\":\"2985\",\"type\":\"CumSum\"},{\"attributes\":{\"label\":{\"field\":\"Agency\"},\"renderers\":[{\"id\":\"2972\"}]},\"id\":\"2984\",\"type\":\"LegendItem\"},{\"attributes\":{},\"id\":\"2976\",\"type\":\"BasicTickFormatter\"},{\"attributes\":{},\"id\":\"2980\",\"type\":\"AllLabels\"},{\"attributes\":{},\"id\":\"3141\",\"type\":\"Selection\"},{\"attributes\":{\"callback\":null,\"tooltips\":\"@Agency: @pct\"},\"id\":\"2962\",\"type\":\"HoverTool\"},{\"attributes\":{\"axis\":{\"id\":\"2958\"},\"coordinates\":null,\"dimension\":1,\"grid_line_color\":null,\"group\":null,\"ticker\":null},\"id\":\"2961\",\"type\":\"Grid\"},{\"attributes\":{\"coordinates\":null,\"group\":null,\"items\":[{\"id\":\"2984\"}]},\"id\":\"2983\",\"type\":\"Legend\"},{\"attributes\":{},\"id\":\"3140\",\"type\":\"UnionRenderers\"}],\"root_ids\":[\"2943\"]},\"title\":\"Bokeh Application\",\"version\":\"2.4.3\"}};\n  const render_items = [{\"docid\":\"5525d016-5386-4c50-ad39-9960d941d585\",\"root_ids\":[\"2943\"],\"roots\":{\"2943\":\"fee3fd05-ee06-4637-bc47-6e867b0a09bd\"}}];\n  root.Bokeh.embed.embed_items_notebook(docs_json, render_items);\n  }\n  if (root.Bokeh !== undefined) {\n    embed_document(root);\n  } else {\n    let attempts = 0;\n    const timer = setInterval(function(root) {\n      if (root.Bokeh !== undefined) {\n        clearInterval(timer);\n        embed_document(root);\n      } else {\n        attempts++;\n        if (attempts > 100) {\n          clearInterval(timer);\n          console.log(\"Bokeh: ERROR: Unable to run BokehJS code because BokehJS library is missing\");\n        }\n      }\n    }, 10, root)\n  }\n})(window);",
      "application/vnd.bokehjs_exec.v0+json": ""
     },
     "metadata": {
      "application/vnd.bokehjs_exec.v0+json": {
       "id": "2943"
      }
     },
     "output_type": "display_data"
    }
   ],
   "source": [
    "from math import pi #Need this - a pie chart is a circle\n",
    "import pandas as pd\n",
    "import numpy as np\n",
    "from bokeh.palettes import Category20c #The color palette\n",
    "from bokeh.models import LabelSet, ColumnDataSource\n",
    "from bokeh.transform import cumsum #a bokeh function that cumulatively sums the angle column in a column data source\n",
    "\n",
    "borough = \"BRONX\"\n",
    "\n",
    "#Create a dataframe with an Agency column and a value column for the borough\n",
    "data = size_df.loc[borough].reset_index(name='value')\n",
    "\n",
    "#We'll restrict the size of the string for Agencies. One Agency is way too long!\n",
    "data['Agency'] = data['Agency'].str.slice(0,8)\n",
    "\n",
    "#Calculate a percent column (the fraction of cases for each agency)\n",
    "data['pct'] = (data['value']/sum(data['value'])*100).round(2)\n",
    "\n",
    "#Calculate an angle column (the fraction of 360 degrees for each slice)\n",
    "#Note that data['pct'].sum() should be approx 100.0\n",
    "#The angle is calculated in radians. 360degrees = 2*pi (approx 6.28)\n",
    "data['angle'] = data['pct']/(data['pct'].sum()) * 2*pi\n",
    "\n",
    "#Specify the color palette\n",
    "#Category20c[len(data)] returns the necessary number of colors from the 20C palette\n",
    "data['color'] = Category20c[len(data)]\n",
    "\n",
    "#Define a figure object\n",
    "#tooltips maps to the ColumnDataSource object\n",
    "#We haven't created it yet but Agency will map to the Agency column and pct to the pct\n",
    "#And we'll see NYPD; 50.18 when we hover over the NYPD slice in the piechart\n",
    "p = figure(plot_height=500, title=\"Cases by Agency: \" + borough, \n",
    "        tools=\"hover\", tooltips=\"@Agency: @pct\",x_range=(-0.5, 1.0))\n",
    "\n",
    "#Add the definition of each wedge\n",
    "#Each wedge, starting with 0 degrees, will be at the sum of the angles upto that wedge\n",
    "\n",
    "p.wedge(x=0, y=1, radius=0.4, #x,y specifies the location of the center of the pie\n",
    "        start_angle=cumsum('angle', include_zero=True), end_angle=cumsum('angle'), #the start and end angle of each slice\n",
    "        line_color=\"white\", fill_color='color', legend_field='Agency', source=data) #source is our data (can be a df or a CDS)\n",
    "\n",
    "#Since there are way too many small slices, we'll only label slices with pct > 5\n",
    "data[\"label_vals\"] = np.where(data[\"pct\"]>=5,data[\"pct\"],0)                              \n",
    "data[\"label_vals\"]=data[\"label_vals\"].astype(str).str.pad(35, side = \"left\") #pad will move the labels out toward the circumference\n",
    "data[\"label_vals\"]=data[\"label_vals\"].apply(lambda x: \"\" if x.strip()==\"0.0\" else x)\n",
    "\n",
    "#LabelSet is the set of labels. Either a value or nothing\n",
    "labels = LabelSet(x=0, y=1, text='label_vals',\n",
    "        angle=cumsum('angle', include_zero=True), source=ColumnDataSource(data), render_mode='canvas')\n",
    "\n",
    "#Add the labels\n",
    "p.add_layout(labels)\n",
    "\n",
    "\n",
    "p.axis.axis_label=None #Piechart. No axes\n",
    "p.axis.visible=False #We don't want to see the axes\n",
    "p.grid.grid_line_color = None #If you want grid lines, specify a color\n",
    "\n",
    "#Show the chart\n",
    "show(p)\n",
    "\n"
   ]
  },
  {
   "cell_type": "markdown",
   "metadata": {},
   "source": [
    "<br><br><br><br>\n",
    "<span style=\"color:blue;font-size:large\">Grid plots in bokeh</span>\n",
    "<li>define each figure separately</li>\n",
    "<li>use gridplot to create a grid</li>\n",
    "<li>gridplot takes a matrix of plots as its input</li>"
   ]
  },
  {
   "cell_type": "markdown",
   "metadata": {},
   "source": [
    "<br><br><br><br>\n",
    "<span style=\"color:blue;font-size:large\">Piecharts for all boroughs in a grid</span>\n",
    "<li>pyplot has a \"grid\" feature</li>\n",
    "<li>create grid specifications</li>\n",
    "<li>add charts to each grid cell (they could be of different types)</li>\n",
    "<li>We'll write a function that creates a piechart for each borough</li>"
   ]
  },
  {
   "cell_type": "code",
   "execution_count": 25,
   "metadata": {},
   "outputs": [],
   "source": [
    "def create_bokeh_pi(df,row):\n",
    "    from math import pi #Need this - a pie chart is a circle\n",
    "    import pandas as pd\n",
    "\n",
    "    from bokeh.palettes import Category20c #The color palette\n",
    "    from bokeh.models import LabelSet, ColumnDataSource\n",
    "    from bokeh.transform import cumsum #a bokeh function that cumulatively sums the angle column in a column data source\n",
    "    borough = row\n",
    "\n",
    "    #Create a dataframe with an Agency column and a value column for the borough\n",
    "    data = size_df.loc[borough].reset_index(name='value')\n",
    "\n",
    "    #We'll restrict the size of the string for Agencies. One Agency is way too long!\n",
    "    data['Agency'] = data['Agency'].str.slice(0,8)\n",
    "\n",
    "    #Calculate a percent column (the fraction of cases for each agency)\n",
    "    data['pct'] = (data['value']/sum(data['value'])*100).round(2)\n",
    "\n",
    "    #Calculate an angel column (the fraction of 360 degrees for each slice)\n",
    "    data['angle'] = data['pct']/(data['pct'].sum()) * 2*pi\n",
    "\n",
    "    #Specify the color palette\n",
    "    data['color'] = Category20c[len(data)]\n",
    "\n",
    "    #Define a figure object\n",
    "    p = figure(plot_height=350, title=\"Cases by Agency: \" + borough, \n",
    "            tools=\"hover\", tooltips=\"@Agency: @pct\",x_range=(-0.5, 1.0))\n",
    "\n",
    "    #Add the definition of each wedge\n",
    "    #Each wedge, starting with 0 degrees, will be at the sum of the angles upto that wedge\n",
    "\n",
    "    p.wedge(x=0, y=1, radius=0.4, #x,y specifies the location of the center of the pie\n",
    "            start_angle=cumsum('angle', include_zero=True), end_angle=cumsum('angle'), #the start and end angle of each slice\n",
    "            line_color=\"white\", fill_color='color', legend_field='Agency', source=data,) #source is our data (can be a df or a CDS)\n",
    "            \n",
    "    #Since there are way too many small slices, we'll only label slices with pct > 5\n",
    "    data[\"label_vals\"] = np.where(data[\"pct\"]>5,data[\"pct\"],0)                              \n",
    "    data[\"label_vals\"]=data[\"label_vals\"].astype(str).str.pad(20, side = \"left\") #pad will move the labels out toward the circumference\n",
    "    data[\"label_vals\"]=data[\"label_vals\"].apply(lambda x: \"\" if x.strip()==\"0.0\" else x)\n",
    "\n",
    "    #LabelSet is the set of labels. Either a value or nothing\n",
    "    labels = LabelSet(x=0, y=1, text='label_vals',\n",
    "            angle=cumsum('angle', include_zero=True), source=ColumnDataSource(data), render_mode='canvas')\n",
    "\n",
    "    #Add the labels\n",
    "    p.add_layout(labels)\n",
    "\n",
    "\n",
    "    p.axis.axis_label=None #Piechart. No axes\n",
    "    p.axis.visible=False #We don't want to see the axes\n",
    "    p.grid.grid_line_color = None #If you want grid lines, specify a color\n",
    "\n",
    "    #Show the chart\n",
    "    return p\n",
    "\n"
   ]
  },
  {
   "cell_type": "code",
   "execution_count": 26,
   "metadata": {},
   "outputs": [
    {
     "data": {
      "text/html": [
       "\n",
       "  <div class=\"bk-root\" id=\"fc3d6f1c-14ed-47ba-9c05-f775aa7006be\" data-root-id=\"3490\"></div>\n"
      ]
     },
     "metadata": {},
     "output_type": "display_data"
    },
    {
     "data": {
      "application/javascript": "(function(root) {\n  function embed_document(root) {\n  const docs_json = {\"24aaeb4f-6c01-49ba-9b97-d6a123cd64c2\":{\"defs\":[],\"roots\":{\"references\":[{\"attributes\":{\"children\":[{\"id\":\"3489\"},{\"id\":\"3487\"}],\"sizing_mode\":\"scale_both\"},\"id\":\"3490\",\"type\":\"Column\"},{\"attributes\":{\"coordinates\":null,\"formatter\":{\"id\":\"3414\"},\"group\":null,\"major_label_policy\":{\"id\":\"3415\"},\"ticker\":{\"id\":\"3397\"},\"visible\":false},\"id\":\"3396\",\"type\":\"LinearAxis\"},{\"attributes\":{},\"id\":\"3388\",\"type\":\"LinearScale\"},{\"attributes\":{\"angle\":{\"expr\":{\"id\":\"3285\"}},\"coordinates\":null,\"group\":null,\"source\":{\"id\":\"3286\"},\"text\":{\"field\":\"label_vals\"},\"x\":{\"value\":0},\"y\":{\"value\":1}},\"id\":\"3287\",\"type\":\"LabelSet\"},{\"attributes\":{\"axis\":{\"id\":\"3396\"},\"coordinates\":null,\"dimension\":1,\"grid_line_color\":null,\"group\":null,\"ticker\":null},\"id\":\"3399\",\"type\":\"Grid\"},{\"attributes\":{\"coordinates\":null,\"formatter\":{\"id\":\"3417\"},\"group\":null,\"major_label_policy\":{\"id\":\"3418\"},\"ticker\":{\"id\":\"3393\"},\"visible\":false},\"id\":\"3392\",\"type\":\"LinearAxis\"},{\"attributes\":{\"coordinates\":null,\"formatter\":{\"id\":\"3325\"},\"group\":null,\"major_label_policy\":{\"id\":\"3326\"},\"ticker\":{\"id\":\"3301\"},\"visible\":false},\"id\":\"3300\",\"type\":\"LinearAxis\"},{\"attributes\":{},\"id\":\"3419\",\"type\":\"UnionRenderers\"},{\"attributes\":{},\"id\":\"3281\",\"type\":\"UnionRenderers\"},{\"attributes\":{},\"id\":\"3420\",\"type\":\"Selection\"},{\"attributes\":{\"angle\":{\"expr\":{\"id\":\"3331\"}},\"coordinates\":null,\"group\":null,\"source\":{\"id\":\"3332\"},\"text\":{\"field\":\"label_vals\"},\"x\":{\"value\":0},\"y\":{\"value\":1}},\"id\":\"3333\",\"type\":\"LabelSet\"},{\"attributes\":{},\"id\":\"3390\",\"type\":\"LinearScale\"},{\"attributes\":{\"field\":\"angle\",\"include_zero\":true},\"id\":\"3423\",\"type\":\"CumSum\"},{\"attributes\":{\"coordinates\":null,\"data_source\":{\"id\":\"3313\"},\"glyph\":{\"id\":\"3315\"},\"group\":null,\"hover_glyph\":null,\"muted_glyph\":{\"id\":\"3317\"},\"nonselection_glyph\":{\"id\":\"3316\"},\"view\":{\"id\":\"3319\"}},\"id\":\"3318\",\"type\":\"GlyphRenderer\"},{\"attributes\":{\"field\":\"angle\",\"include_zero\":true},\"id\":\"3331\",\"type\":\"CumSum\"},{\"attributes\":{},\"id\":\"3397\",\"type\":\"BasicTicker\"},{\"attributes\":{\"coordinates\":null,\"formatter\":{\"id\":\"3276\"},\"group\":null,\"major_label_policy\":{\"id\":\"3277\"},\"ticker\":{\"id\":\"3259\"},\"visible\":false},\"id\":\"3258\",\"type\":\"LinearAxis\"},{\"attributes\":{\"end_angle\":{\"expr\":{\"id\":\"3404\"}},\"fill_alpha\":{\"value\":0.2},\"fill_color\":{\"field\":\"color\"},\"hatch_alpha\":{\"value\":0.2},\"line_alpha\":{\"value\":0.2},\"line_color\":{\"value\":\"white\"},\"radius\":{\"value\":0.4},\"start_angle\":{\"expr\":{\"id\":\"3403\"}},\"x\":{\"value\":0},\"y\":{\"value\":1}},\"id\":\"3409\",\"type\":\"Wedge\"},{\"attributes\":{\"coordinates\":null,\"group\":null,\"text\":\"Cases by Agency: STATEN ISLAND\"},\"id\":\"3382\",\"type\":\"Title\"},{\"attributes\":{\"callback\":null,\"tooltips\":\"@Agency: @pct\"},\"id\":\"3400\",\"type\":\"HoverTool\"},{\"attributes\":{\"coordinates\":null,\"group\":null,\"text\":\"Cases by Agency: MANHATTAN\"},\"id\":\"3290\",\"type\":\"Title\"},{\"attributes\":{\"coordinates\":null,\"group\":null,\"items\":[{\"id\":\"3330\"}]},\"id\":\"3329\",\"type\":\"Legend\"},{\"attributes\":{\"axis\":{\"id\":\"3392\"},\"coordinates\":null,\"grid_line_color\":null,\"group\":null,\"ticker\":null},\"id\":\"3395\",\"type\":\"Grid\"},{\"attributes\":{\"coordinates\":null,\"formatter\":{\"id\":\"3322\"},\"group\":null,\"major_label_policy\":{\"id\":\"3323\"},\"ticker\":{\"id\":\"3305\"},\"visible\":false},\"id\":\"3304\",\"type\":\"LinearAxis\"},{\"attributes\":{},\"id\":\"3393\",\"type\":\"BasicTicker\"},{\"attributes\":{\"below\":[{\"id\":\"3300\"}],\"center\":[{\"id\":\"3303\"},{\"id\":\"3307\"},{\"id\":\"3329\"},{\"id\":\"3333\"}],\"height\":350,\"left\":[{\"id\":\"3304\"}],\"renderers\":[{\"id\":\"3318\"}],\"sizing_mode\":\"scale_both\",\"title\":{\"id\":\"3290\"},\"toolbar\":{\"id\":\"3309\"},\"toolbar_location\":null,\"x_range\":{\"id\":\"3292\"},\"x_scale\":{\"id\":\"3296\"},\"y_range\":{\"id\":\"3294\"},\"y_scale\":{\"id\":\"3298\"}},\"id\":\"3289\",\"subtype\":\"Figure\",\"type\":\"Plot\"},{\"attributes\":{},\"id\":\"3250\",\"type\":\"LinearScale\"},{\"attributes\":{},\"id\":\"3248\",\"type\":\"DataRange1d\"},{\"attributes\":{\"field\":\"angle\",\"include_zero\":true},\"id\":\"3311\",\"type\":\"CumSum\"},{\"attributes\":{},\"id\":\"3301\",\"type\":\"BasicTicker\"},{\"attributes\":{\"coordinates\":null,\"group\":null,\"text\":\"Cases by Agency: BROOKLYN\"},\"id\":\"3244\",\"type\":\"Title\"},{\"attributes\":{\"data\":{\"Agency\":[\"DCA\",\"DEP\",\"DHS\",\"DOB\",\"DOE\",\"DOHMH\",\"DOT\",\"DPR\",\"DSNY\",\"HPD\",\"NYPD\",\"OTI\"],\"angle\":{\"__ndarray__\":\"IaLKedHhhT+DNAiwWcrDP9PU3K5MmKQ/4yXCazWJzz89P0sGc+RePwhx4v3+EMM/Own/fYvL2z/m+Kifow2/P7mfC2RUCew/KUETxTFS8D+q1A2sQdQJQAAAAAAAAAAA\",\"dtype\":\"float64\",\"order\":\"little\",\"shape\":[12]},\"color\":[\"#3182bd\",\"#6baed6\",\"#9ecae1\",\"#c6dbef\",\"#e6550d\",\"#fd8d3c\",\"#fdae6b\",\"#fdd0a2\",\"#31a354\",\"#74c476\",\"#a1d99b\",\"#c7e9c0\"],\"index\":[0,1,2,3,4,5,6,7,8,9,10,11],\"label_vals\":[\"\",\"\",\"\",\"\",\"\",\"\",\"                6.91\",\"\",\"               13.94\",\"               16.23\",\"               51.37\",\"\"],\"pct\":{\"__ndarray__\":\"w/UoXI/CxT+uR+F6FK4DQHsUrkfheuQ/XI/C9ShcD0C4HoXrUbieP/YoXI/C9QJApHA9CtejG0DhehSuR+H+P+F6FK5H4StAexSuR+E6MECPwvUoXK9JQAAAAAAAAAAA\",\"dtype\":\"float64\",\"order\":\"little\",\"shape\":[12]},\"value\":{\"__ndarray__\":\"AAAAAABQgEAAAAAAAM28QAAAAAAAFJ5AAAAAAIDsxkAAAAAAAABaQAAAAAAApbtAAAAAAEAx1EAAAAAAAJy2QAAAAAAAXuRAAAAAAMC050AAAAAA6MICQQAAAAAAABRA\",\"dtype\":\"float64\",\"order\":\"little\",\"shape\":[12]}},\"selected\":{\"id\":\"3449\"},\"selection_policy\":{\"id\":\"3448\"}},\"id\":\"3286\",\"type\":\"ColumnDataSource\"},{\"attributes\":{},\"id\":\"3296\",\"type\":\"LinearScale\"},{\"attributes\":{\"axis\":{\"id\":\"3300\"},\"coordinates\":null,\"grid_line_color\":null,\"group\":null,\"ticker\":null},\"id\":\"3303\",\"type\":\"Grid\"},{\"attributes\":{\"below\":[{\"id\":\"3392\"}],\"center\":[{\"id\":\"3395\"},{\"id\":\"3399\"},{\"id\":\"3421\"},{\"id\":\"3425\"}],\"height\":350,\"left\":[{\"id\":\"3396\"}],\"renderers\":[{\"id\":\"3410\"}],\"sizing_mode\":\"scale_both\",\"title\":{\"id\":\"3382\"},\"toolbar\":{\"id\":\"3401\"},\"toolbar_location\":null,\"x_range\":{\"id\":\"3384\"},\"x_scale\":{\"id\":\"3388\"},\"y_range\":{\"id\":\"3386\"},\"y_scale\":{\"id\":\"3390\"}},\"id\":\"3381\",\"subtype\":\"Figure\",\"type\":\"Plot\"},{\"attributes\":{},\"id\":\"3282\",\"type\":\"Selection\"},{\"attributes\":{\"coordinates\":null,\"data_source\":{\"id\":\"3405\"},\"glyph\":{\"id\":\"3407\"},\"group\":null,\"hover_glyph\":null,\"muted_glyph\":{\"id\":\"3409\"},\"nonselection_glyph\":{\"id\":\"3408\"},\"view\":{\"id\":\"3411\"}},\"id\":\"3410\",\"type\":\"GlyphRenderer\"},{\"attributes\":{\"tools\":[{\"id\":\"3400\"}]},\"id\":\"3401\",\"type\":\"Toolbar\"},{\"attributes\":{\"start\":-0.5},\"id\":\"3246\",\"type\":\"Range1d\"},{\"attributes\":{\"label\":{\"field\":\"Agency\"},\"renderers\":[{\"id\":\"3318\"}]},\"id\":\"3330\",\"type\":\"LegendItem\"},{\"attributes\":{\"source\":{\"id\":\"3405\"}},\"id\":\"3411\",\"type\":\"CDSView\"},{\"attributes\":{\"end_angle\":{\"expr\":{\"id\":\"3404\"}},\"fill_color\":{\"field\":\"color\"},\"line_color\":{\"value\":\"white\"},\"radius\":{\"value\":0.4},\"start_angle\":{\"expr\":{\"id\":\"3403\"}},\"x\":{\"value\":0},\"y\":{\"value\":1}},\"id\":\"3407\",\"type\":\"Wedge\"},{\"attributes\":{\"axis\":{\"id\":\"3258\"},\"coordinates\":null,\"dimension\":1,\"grid_line_color\":null,\"group\":null,\"ticker\":null},\"id\":\"3261\",\"type\":\"Grid\"},{\"attributes\":{},\"id\":\"3294\",\"type\":\"DataRange1d\"},{\"attributes\":{\"end_angle\":{\"expr\":{\"id\":\"3312\"}},\"fill_color\":{\"field\":\"color\"},\"line_color\":{\"value\":\"white\"},\"radius\":{\"value\":0.4},\"start_angle\":{\"expr\":{\"id\":\"3311\"}},\"x\":{\"value\":0},\"y\":{\"value\":1}},\"id\":\"3315\",\"type\":\"Wedge\"},{\"attributes\":{\"start\":-0.5},\"id\":\"3292\",\"type\":\"Range1d\"},{\"attributes\":{\"below\":[{\"id\":\"3208\"}],\"center\":[{\"id\":\"3211\"},{\"id\":\"3215\"},{\"id\":\"3237\"},{\"id\":\"3241\"}],\"height\":350,\"left\":[{\"id\":\"3212\"}],\"renderers\":[{\"id\":\"3226\"}],\"sizing_mode\":\"scale_both\",\"title\":{\"id\":\"3198\"},\"toolbar\":{\"id\":\"3217\"},\"toolbar_location\":null,\"x_range\":{\"id\":\"3200\"},\"x_scale\":{\"id\":\"3204\"},\"y_range\":{\"id\":\"3202\"},\"y_scale\":{\"id\":\"3206\"}},\"id\":\"3197\",\"subtype\":\"Figure\",\"type\":\"Plot\"},{\"attributes\":{\"axis\":{\"id\":\"3254\"},\"coordinates\":null,\"grid_line_color\":null,\"group\":null,\"ticker\":null},\"id\":\"3257\",\"type\":\"Grid\"},{\"attributes\":{\"below\":[{\"id\":\"3254\"}],\"center\":[{\"id\":\"3257\"},{\"id\":\"3261\"},{\"id\":\"3283\"},{\"id\":\"3287\"}],\"height\":350,\"left\":[{\"id\":\"3258\"}],\"renderers\":[{\"id\":\"3272\"}],\"sizing_mode\":\"scale_both\",\"title\":{\"id\":\"3244\"},\"toolbar\":{\"id\":\"3263\"},\"toolbar_location\":null,\"x_range\":{\"id\":\"3246\"},\"x_scale\":{\"id\":\"3250\"},\"y_range\":{\"id\":\"3248\"},\"y_scale\":{\"id\":\"3252\"}},\"id\":\"3243\",\"subtype\":\"Figure\",\"type\":\"Plot\"},{\"attributes\":{},\"id\":\"3415\",\"type\":\"AllLabels\"},{\"attributes\":{},\"id\":\"3255\",\"type\":\"BasicTicker\"},{\"attributes\":{},\"id\":\"3417\",\"type\":\"BasicTickFormatter\"},{\"attributes\":{\"field\":\"angle\"},\"id\":\"3312\",\"type\":\"CumSum\"},{\"attributes\":{\"label\":{\"field\":\"Agency\"},\"renderers\":[{\"id\":\"3272\"}]},\"id\":\"3284\",\"type\":\"LegendItem\"},{\"attributes\":{\"source\":{\"id\":\"3313\"}},\"id\":\"3319\",\"type\":\"CDSView\"},{\"attributes\":{},\"id\":\"3418\",\"type\":\"AllLabels\"},{\"attributes\":{\"axis\":{\"id\":\"3304\"},\"coordinates\":null,\"dimension\":1,\"grid_line_color\":null,\"group\":null,\"ticker\":null},\"id\":\"3307\",\"type\":\"Grid\"},{\"attributes\":{},\"id\":\"3298\",\"type\":\"LinearScale\"},{\"attributes\":{\"data\":{\"Agency\":[\"DCA\",\"DEP\",\"DHS\",\"DOB\",\"DOE\",\"DOHMH\",\"DOT\",\"DPR\",\"DSNY\",\"HPD\",\"NYPD\",\"OTI\"],\"angle\":{\"__ndarray__\":\"VVuD2jCWhD+h9ucglyzSPwuRK+iT34U/53wMww5kxT81uoqxB7qAPwSr3u/boLw/H9I5Hnnd7z+IeB2ZvK/QPw4ib+b0VgBALDIkEb272T9JMQOSU9j/PwAAAAAAAAAA\",\"dtype\":\"float64\",\"order\":\"little\",\"shape\":[12]},\"color\":[\"#3182bd\",\"#6baed6\",\"#9ecae1\",\"#c6dbef\",\"#e6550d\",\"#fd8d3c\",\"#fdae6b\",\"#fdd0a2\",\"#31a354\",\"#74c476\",\"#a1d99b\",\"#c7e9c0\"],\"index\":[0,1,2,3,4,5,6,7,8,9,10,11],\"pct\":{\"__ndarray__\":\"exSuR+F6xD8UrkfhehQSQMP1KFyPwsU/SOF6FK5HBUCkcD0K16PAP3sUrkfhevw/MzMzMzOzL0CamZmZmZkQQOF6FK5HQUBAmpmZmZmZGUCuR+F6FK4/QAAAAAAAAAAA\",\"dtype\":\"float64\",\"order\":\"little\",\"shape\":[12]},\"value\":{\"__ndarray__\":\"AAAAAAAAUkAAAAAAACifQAAAAAAAAFNAAAAAAABUkkAAAAAAAABNQAAAAAAAgIhAAAAAAABXu0AAAAAAAKicQAAAAAAACcxAAAAAAAAQpkAAAAAAAFLLQAAAAAAAAPA/\",\"dtype\":\"float64\",\"order\":\"little\",\"shape\":[12]}},\"selected\":{\"id\":\"3420\"},\"selection_policy\":{\"id\":\"3419\"}},\"id\":\"3405\",\"type\":\"ColumnDataSource\"},{\"attributes\":{},\"id\":\"3305\",\"type\":\"BasicTicker\"},{\"attributes\":{\"callback\":null,\"tooltips\":\"@Agency: @pct\"},\"id\":\"3262\",\"type\":\"HoverTool\"},{\"attributes\":{\"toolbars\":[{\"id\":\"3217\"},{\"id\":\"3263\"},{\"id\":\"3309\"},{\"id\":\"3355\"},{\"id\":\"3401\"}],\"tools\":[{\"id\":\"3216\"},{\"id\":\"3262\"},{\"id\":\"3308\"},{\"id\":\"3354\"},{\"id\":\"3400\"}]},\"id\":\"3488\",\"type\":\"ProxyToolbar\"},{\"attributes\":{},\"id\":\"3252\",\"type\":\"LinearScale\"},{\"attributes\":{},\"id\":\"3414\",\"type\":\"BasicTickFormatter\"},{\"attributes\":{\"field\":\"angle\",\"include_zero\":true},\"id\":\"3219\",\"type\":\"CumSum\"},{\"attributes\":{\"coordinates\":null,\"formatter\":{\"id\":\"3279\"},\"group\":null,\"major_label_policy\":{\"id\":\"3280\"},\"ticker\":{\"id\":\"3255\"},\"visible\":false},\"id\":\"3254\",\"type\":\"LinearAxis\"},{\"attributes\":{\"angle\":{\"expr\":{\"id\":\"3423\"}},\"coordinates\":null,\"group\":null,\"source\":{\"id\":\"3424\"},\"text\":{\"field\":\"label_vals\"},\"x\":{\"value\":0},\"y\":{\"value\":1}},\"id\":\"3425\",\"type\":\"LabelSet\"},{\"attributes\":{\"end_angle\":{\"expr\":{\"id\":\"3404\"}},\"fill_alpha\":{\"value\":0.1},\"fill_color\":{\"field\":\"color\"},\"hatch_alpha\":{\"value\":0.1},\"line_alpha\":{\"value\":0.1},\"line_color\":{\"value\":\"white\"},\"radius\":{\"value\":0.4},\"start_angle\":{\"expr\":{\"id\":\"3403\"}},\"x\":{\"value\":0},\"y\":{\"value\":1}},\"id\":\"3408\",\"type\":\"Wedge\"},{\"attributes\":{\"callback\":null,\"tooltips\":\"@Agency: @pct\"},\"id\":\"3308\",\"type\":\"HoverTool\"},{\"attributes\":{\"field\":\"angle\",\"include_zero\":true},\"id\":\"3285\",\"type\":\"CumSum\"},{\"attributes\":{\"end_angle\":{\"expr\":{\"id\":\"3312\"}},\"fill_alpha\":{\"value\":0.1},\"fill_color\":{\"field\":\"color\"},\"hatch_alpha\":{\"value\":0.1},\"line_alpha\":{\"value\":0.1},\"line_color\":{\"value\":\"white\"},\"radius\":{\"value\":0.4},\"start_angle\":{\"expr\":{\"id\":\"3311\"}},\"x\":{\"value\":0},\"y\":{\"value\":1}},\"id\":\"3316\",\"type\":\"Wedge\"},{\"attributes\":{\"angle\":{\"expr\":{\"id\":\"3239\"}},\"coordinates\":null,\"group\":null,\"source\":{\"id\":\"3240\"},\"text\":{\"field\":\"label_vals\"},\"x\":{\"value\":0},\"y\":{\"value\":1}},\"id\":\"3241\",\"type\":\"LabelSet\"},{\"attributes\":{\"coordinates\":null,\"group\":null,\"items\":[{\"id\":\"3422\"}]},\"id\":\"3421\",\"type\":\"Legend\"},{\"attributes\":{},\"id\":\"3259\",\"type\":\"BasicTicker\"},{\"attributes\":{\"end_angle\":{\"expr\":{\"id\":\"3312\"}},\"fill_alpha\":{\"value\":0.2},\"fill_color\":{\"field\":\"color\"},\"hatch_alpha\":{\"value\":0.2},\"line_alpha\":{\"value\":0.2},\"line_color\":{\"value\":\"white\"},\"radius\":{\"value\":0.4},\"start_angle\":{\"expr\":{\"id\":\"3311\"}},\"x\":{\"value\":0},\"y\":{\"value\":1}},\"id\":\"3317\",\"type\":\"Wedge\"},{\"attributes\":{\"data\":{\"Agency\":[\"DCA\",\"DEP\",\"DHS\",\"DOB\",\"DOE\",\"DOHMH\",\"DOT\",\"DPR\",\"DSNY\",\"HPD\",\"NYPD\",\"OTI\"],\"angle\":{\"__ndarray__\":\"NbqKsQe6kD9lFAYZKvTFP49sWI7U7sE/7a0oYb3Dzz+/xtP19ih3P89/VjTwhsg/RYH77GAY2j9ZzqnWjDWxPzd4gFNaet4/v79c98Yo8z82qlusYuIKQFRbg9owlkQ/\",\"dtype\":\"float64\",\"order\":\"little\",\"shape\":[12]},\"color\":[\"#3182bd\",\"#6baed6\",\"#9ecae1\",\"#c6dbef\",\"#e6550d\",\"#fd8d3c\",\"#fdae6b\",\"#fdd0a2\",\"#31a354\",\"#74c476\",\"#a1d99b\",\"#c7e9c0\"],\"index\":[0,1,2,3,4,5,6,7,8,9,10,11],\"pct\":{\"__ndarray__\":\"pHA9Ctej0D/Xo3A9CtcFQNejcD0K1wFAmpmZmZmZD0AK16NwPQq3P2ZmZmZmZghA9ihcj8L1GUAfhetRuB7xP1K4HoXrUR5Aj8L1KFwPM0AfhetRuL5KQHsUrkfheoQ/\",\"dtype\":\"float64\",\"order\":\"little\",\"shape\":[12]},\"value\":{\"__ndarray__\":\"AAAAAABgfUAAAAAAAISzQAAAAAAA7q9AAAAAAAA5vEAAAAAAAMBjQAAAAAAAyrVAAAAAAIA1x0AAAAAAAICeQAAAAACAF8tAAAAAAOAI4UAAAAAAgOf3QAAAAAAAAChA\",\"dtype\":\"float64\",\"order\":\"little\",\"shape\":[12]}},\"selected\":{\"id\":\"3328\"},\"selection_policy\":{\"id\":\"3327\"}},\"id\":\"3313\",\"type\":\"ColumnDataSource\"},{\"attributes\":{\"label\":{\"field\":\"Agency\"},\"renderers\":[{\"id\":\"3410\"}]},\"id\":\"3422\",\"type\":\"LegendItem\"},{\"attributes\":{},\"id\":\"3437\",\"type\":\"Selection\"},{\"attributes\":{},\"id\":\"3448\",\"type\":\"UnionRenderers\"},{\"attributes\":{\"end_angle\":{\"expr\":{\"id\":\"3358\"}},\"fill_color\":{\"field\":\"color\"},\"line_color\":{\"value\":\"white\"},\"radius\":{\"value\":0.4},\"start_angle\":{\"expr\":{\"id\":\"3357\"}},\"x\":{\"value\":0},\"y\":{\"value\":1}},\"id\":\"3361\",\"type\":\"Wedge\"},{\"attributes\":{},\"id\":\"3436\",\"type\":\"UnionRenderers\"},{\"attributes\":{},\"id\":\"3449\",\"type\":\"Selection\"},{\"attributes\":{\"tools\":[{\"id\":\"3308\"}]},\"id\":\"3309\",\"type\":\"Toolbar\"},{\"attributes\":{\"data\":{\"Agency\":[\"DCA\",\"DEP\",\"DHS\",\"DOB\",\"DOE\",\"DOHMH\",\"DOT\",\"DPR\",\"DSNY\",\"HPD\",\"NYPD\",\"OTI\"],\"angle\":{\"__ndarray__\":\"NbqKsQe6kD9lFAYZKvTFP49sWI7U7sE/7a0oYb3Dzz+/xtP19ih3P89/VjTwhsg/RYH77GAY2j9ZzqnWjDWxPzd4gFNaet4/v79c98Yo8z82qlusYuIKQFRbg9owlkQ/\",\"dtype\":\"float64\",\"order\":\"little\",\"shape\":[12]},\"color\":[\"#3182bd\",\"#6baed6\",\"#9ecae1\",\"#c6dbef\",\"#e6550d\",\"#fd8d3c\",\"#fdae6b\",\"#fdd0a2\",\"#31a354\",\"#74c476\",\"#a1d99b\",\"#c7e9c0\"],\"index\":[0,1,2,3,4,5,6,7,8,9,10,11],\"label_vals\":[\"\",\"\",\"\",\"\",\"\",\"\",\"                6.49\",\"\",\"                7.58\",\"               19.06\",\"               53.49\",\"\"],\"pct\":{\"__ndarray__\":\"pHA9Ctej0D/Xo3A9CtcFQNejcD0K1wFAmpmZmZmZD0AK16NwPQq3P2ZmZmZmZghA9ihcj8L1GUAfhetRuB7xP1K4HoXrUR5Aj8L1KFwPM0AfhetRuL5KQHsUrkfheoQ/\",\"dtype\":\"float64\",\"order\":\"little\",\"shape\":[12]},\"value\":{\"__ndarray__\":\"AAAAAABgfUAAAAAAAISzQAAAAAAA7q9AAAAAAAA5vEAAAAAAAMBjQAAAAAAAyrVAAAAAAIA1x0AAAAAAAICeQAAAAACAF8tAAAAAAOAI4UAAAAAAgOf3QAAAAAAAAChA\",\"dtype\":\"float64\",\"order\":\"little\",\"shape\":[12]}},\"selected\":{\"id\":\"3461\"},\"selection_policy\":{\"id\":\"3460\"}},\"id\":\"3332\",\"type\":\"ColumnDataSource\"},{\"attributes\":{\"data\":{\"Agency\":[\"DCA\",\"DEP\",\"DHS\",\"DOB\",\"DOE\",\"DOHMH\",\"DOT\",\"DPR\",\"DSNY\",\"HPD\",\"NYPD\",\"OTI\"],\"angle\":{\"__ndarray__\":\"IaLKedHhhT+DNAiwWcrDP9PU3K5MmKQ/4yXCazWJzz89P0sGc+RePwhx4v3+EMM/Own/fYvL2z/m+Kifow2/P7mfC2RUCew/KUETxTFS8D+q1A2sQdQJQAAAAAAAAAAA\",\"dtype\":\"float64\",\"order\":\"little\",\"shape\":[12]},\"color\":[\"#3182bd\",\"#6baed6\",\"#9ecae1\",\"#c6dbef\",\"#e6550d\",\"#fd8d3c\",\"#fdae6b\",\"#fdd0a2\",\"#31a354\",\"#74c476\",\"#a1d99b\",\"#c7e9c0\"],\"index\":[0,1,2,3,4,5,6,7,8,9,10,11],\"pct\":{\"__ndarray__\":\"w/UoXI/CxT+uR+F6FK4DQHsUrkfheuQ/XI/C9ShcD0C4HoXrUbieP/YoXI/C9QJApHA9CtejG0DhehSuR+H+P+F6FK5H4StAexSuR+E6MECPwvUoXK9JQAAAAAAAAAAA\",\"dtype\":\"float64\",\"order\":\"little\",\"shape\":[12]},\"value\":{\"__ndarray__\":\"AAAAAABQgEAAAAAAAM28QAAAAAAAFJ5AAAAAAIDsxkAAAAAAAABaQAAAAAAApbtAAAAAAEAx1EAAAAAAAJy2QAAAAAAAXuRAAAAAAMC050AAAAAA6MICQQAAAAAAABRA\",\"dtype\":\"float64\",\"order\":\"little\",\"shape\":[12]}},\"selected\":{\"id\":\"3282\"},\"selection_policy\":{\"id\":\"3281\"}},\"id\":\"3267\",\"type\":\"ColumnDataSource\"},{\"attributes\":{\"end_angle\":{\"expr\":{\"id\":\"3220\"}},\"fill_alpha\":{\"value\":0.2},\"fill_color\":{\"field\":\"color\"},\"hatch_alpha\":{\"value\":0.2},\"line_alpha\":{\"value\":0.2},\"line_color\":{\"value\":\"white\"},\"radius\":{\"value\":0.4},\"start_angle\":{\"expr\":{\"id\":\"3219\"}},\"x\":{\"value\":0},\"y\":{\"value\":1}},\"id\":\"3225\",\"type\":\"Wedge\"},{\"attributes\":{\"end_angle\":{\"expr\":{\"id\":\"3266\"}},\"fill_alpha\":{\"value\":0.1},\"fill_color\":{\"field\":\"color\"},\"hatch_alpha\":{\"value\":0.1},\"line_alpha\":{\"value\":0.1},\"line_color\":{\"value\":\"white\"},\"radius\":{\"value\":0.4},\"start_angle\":{\"expr\":{\"id\":\"3265\"}},\"x\":{\"value\":0},\"y\":{\"value\":1}},\"id\":\"3270\",\"type\":\"Wedge\"},{\"attributes\":{},\"id\":\"3368\",\"type\":\"BasicTickFormatter\"},{\"attributes\":{\"data\":{\"Agency\":[\"DCA\",\"DEP\",\"DHS\",\"DOB\",\"DOE\",\"DOHMH\",\"DOT\",\"DPR\",\"DSNY\",\"HPD\",\"NYPD\",\"OTI\"],\"angle\":{\"__ndarray__\":\"6Ondtj6XhD9bhLkf4Qm2P9zeTBLe4n4/fHZMyA2Cuz/c3kwS3uJeP0oLcMvKTbM/nOqUYxvM1T+gIXE79k+sPyxI8EtERtU/8UVVpNHA+D8zTmEwT8ENQAAAAAAAAAAA\",\"dtype\":\"float64\",\"order\":\"little\",\"shape\":[12]},\"color\":[\"#3182bd\",\"#6baed6\",\"#9ecae1\",\"#c6dbef\",\"#e6550d\",\"#fd8d3c\",\"#fdae6b\",\"#fdd0a2\",\"#31a354\",\"#74c476\",\"#a1d99b\",\"#c7e9c0\"],\"index\":[0,1,2,3,4,5,6,7,8,9,10,11],\"label_vals\":[\"\",\"\",\"\",\"\",\"\",\"\",\"                5.42\",\"\",\"                5.29\",\"               24.62\",\"               59.19\",\"\"],\"pct\":{\"__ndarray__\":\"exSuR+F6xD/sUbgehev1P7gehetRuL4/XI/C9Shc+z+4HoXrUbiePzMzMzMzM/M/rkfhehSuFUApXI/C9SjsPylcj8L1KBVAH4XrUbieOEC4HoXrUZhNQAAAAAAAAAAA\",\"dtype\":\"float64\",\"order\":\"little\",\"shape\":[12]},\"value\":{\"__ndarray__\":\"AAAAAAAweEAAAAAAAKypQAAAAAAAIHJAAAAAAAACsEAAAAAAAMBUQAAAAAAAiKZAAAAAAABwyUAAAAAAAICgQAAAAAAAy8hAAAAAAGDf7EAAAAAA6FkBQQAAAAAAAABA\",\"dtype\":\"float64\",\"order\":\"little\",\"shape\":[12]}},\"selected\":{\"id\":\"3437\"},\"selection_policy\":{\"id\":\"3436\"}},\"id\":\"3240\",\"type\":\"ColumnDataSource\"},{\"attributes\":{\"coordinates\":null,\"formatter\":{\"id\":\"3230\"},\"group\":null,\"major_label_policy\":{\"id\":\"3231\"},\"ticker\":{\"id\":\"3213\"},\"visible\":false},\"id\":\"3212\",\"type\":\"LinearAxis\"},{\"attributes\":{\"start\":-0.5},\"id\":\"3200\",\"type\":\"Range1d\"},{\"attributes\":{},\"id\":\"3369\",\"type\":\"AllLabels\"},{\"attributes\":{\"field\":\"angle\",\"include_zero\":true},\"id\":\"3265\",\"type\":\"CumSum\"},{\"attributes\":{\"field\":\"angle\"},\"id\":\"3358\",\"type\":\"CumSum\"},{\"attributes\":{\"source\":{\"id\":\"3221\"}},\"id\":\"3227\",\"type\":\"CDSView\"},{\"attributes\":{},\"id\":\"3351\",\"type\":\"BasicTicker\"},{\"attributes\":{},\"id\":\"3371\",\"type\":\"BasicTickFormatter\"},{\"attributes\":{\"axis\":{\"id\":\"3350\"},\"coordinates\":null,\"dimension\":1,\"grid_line_color\":null,\"group\":null,\"ticker\":null},\"id\":\"3353\",\"type\":\"Grid\"},{\"attributes\":{\"coordinates\":null,\"formatter\":{\"id\":\"3371\"},\"group\":null,\"major_label_policy\":{\"id\":\"3372\"},\"ticker\":{\"id\":\"3347\"},\"visible\":false},\"id\":\"3346\",\"type\":\"LinearAxis\"},{\"attributes\":{},\"id\":\"3372\",\"type\":\"AllLabels\"},{\"attributes\":{\"tools\":[{\"id\":\"3262\"}]},\"id\":\"3263\",\"type\":\"Toolbar\"},{\"attributes\":{\"coordinates\":null,\"formatter\":{\"id\":\"3233\"},\"group\":null,\"major_label_policy\":{\"id\":\"3234\"},\"ticker\":{\"id\":\"3209\"},\"visible\":false},\"id\":\"3208\",\"type\":\"LinearAxis\"},{\"attributes\":{},\"id\":\"3344\",\"type\":\"LinearScale\"},{\"attributes\":{\"field\":\"angle\"},\"id\":\"3220\",\"type\":\"CumSum\"},{\"attributes\":{\"coordinates\":null,\"group\":null,\"items\":[{\"id\":\"3238\"}]},\"id\":\"3237\",\"type\":\"Legend\"},{\"attributes\":{\"coordinates\":null,\"data_source\":{\"id\":\"3221\"},\"glyph\":{\"id\":\"3223\"},\"group\":null,\"hover_glyph\":null,\"muted_glyph\":{\"id\":\"3225\"},\"nonselection_glyph\":{\"id\":\"3224\"},\"view\":{\"id\":\"3227\"}},\"id\":\"3226\",\"type\":\"GlyphRenderer\"},{\"attributes\":{\"callback\":null,\"tooltips\":\"@Agency: @pct\"},\"id\":\"3216\",\"type\":\"HoverTool\"},{\"attributes\":{\"coordinates\":null,\"group\":null,\"text\":\"Cases by Agency: QUEENS\"},\"id\":\"3336\",\"type\":\"Title\"},{\"attributes\":{},\"id\":\"3460\",\"type\":\"UnionRenderers\"},{\"attributes\":{\"coordinates\":null,\"formatter\":{\"id\":\"3368\"},\"group\":null,\"major_label_policy\":{\"id\":\"3369\"},\"ticker\":{\"id\":\"3351\"},\"visible\":false},\"id\":\"3350\",\"type\":\"LinearAxis\"},{\"attributes\":{\"below\":[{\"id\":\"3346\"}],\"center\":[{\"id\":\"3349\"},{\"id\":\"3353\"},{\"id\":\"3375\"},{\"id\":\"3379\"}],\"height\":350,\"left\":[{\"id\":\"3350\"}],\"renderers\":[{\"id\":\"3364\"}],\"sizing_mode\":\"scale_both\",\"title\":{\"id\":\"3336\"},\"toolbar\":{\"id\":\"3355\"},\"toolbar_location\":null,\"x_range\":{\"id\":\"3338\"},\"x_scale\":{\"id\":\"3342\"},\"y_range\":{\"id\":\"3340\"},\"y_scale\":{\"id\":\"3344\"}},\"id\":\"3335\",\"subtype\":\"Figure\",\"type\":\"Plot\"},{\"attributes\":{\"end_angle\":{\"expr\":{\"id\":\"3220\"}},\"fill_alpha\":{\"value\":0.1},\"fill_color\":{\"field\":\"color\"},\"hatch_alpha\":{\"value\":0.1},\"line_alpha\":{\"value\":0.1},\"line_color\":{\"value\":\"white\"},\"radius\":{\"value\":0.4},\"start_angle\":{\"expr\":{\"id\":\"3219\"}},\"x\":{\"value\":0},\"y\":{\"value\":1}},\"id\":\"3224\",\"type\":\"Wedge\"},{\"attributes\":{},\"id\":\"3322\",\"type\":\"BasicTickFormatter\"},{\"attributes\":{},\"id\":\"3461\",\"type\":\"Selection\"},{\"attributes\":{\"field\":\"angle\",\"include_zero\":true},\"id\":\"3357\",\"type\":\"CumSum\"},{\"attributes\":{\"data\":{\"Agency\":[\"DCA\",\"DEP\",\"DHS\",\"DOB\",\"DOE\",\"DOHMH\",\"DOT\",\"DPR\",\"DSNY\",\"HPD\",\"NYPD\",\"OTI\"],\"angle\":{\"__ndarray__\":\"6Ondtj6XhD9bhLkf4Qm2P9zeTBLe4n4/fHZMyA2Cuz/c3kwS3uJeP0oLcMvKTbM/nOqUYxvM1T+gIXE79k+sPyxI8EtERtU/8UVVpNHA+D8zTmEwT8ENQAAAAAAAAAAA\",\"dtype\":\"float64\",\"order\":\"little\",\"shape\":[12]},\"color\":[\"#3182bd\",\"#6baed6\",\"#9ecae1\",\"#c6dbef\",\"#e6550d\",\"#fd8d3c\",\"#fdae6b\",\"#fdd0a2\",\"#31a354\",\"#74c476\",\"#a1d99b\",\"#c7e9c0\"],\"index\":[0,1,2,3,4,5,6,7,8,9,10,11],\"pct\":{\"__ndarray__\":\"exSuR+F6xD/sUbgehev1P7gehetRuL4/XI/C9Shc+z+4HoXrUbiePzMzMzMzM/M/rkfhehSuFUApXI/C9SjsPylcj8L1KBVAH4XrUbieOEC4HoXrUZhNQAAAAAAAAAAA\",\"dtype\":\"float64\",\"order\":\"little\",\"shape\":[12]},\"value\":{\"__ndarray__\":\"AAAAAAAweEAAAAAAAKypQAAAAAAAIHJAAAAAAAACsEAAAAAAAMBUQAAAAAAAiKZAAAAAAABwyUAAAAAAAICgQAAAAAAAy8hAAAAAAGDf7EAAAAAA6FkBQQAAAAAAAABA\",\"dtype\":\"float64\",\"order\":\"little\",\"shape\":[12]}},\"selected\":{\"id\":\"3236\"},\"selection_policy\":{\"id\":\"3235\"}},\"id\":\"3221\",\"type\":\"ColumnDataSource\"},{\"attributes\":{},\"id\":\"3347\",\"type\":\"BasicTicker\"},{\"attributes\":{},\"id\":\"3235\",\"type\":\"UnionRenderers\"},{\"attributes\":{\"coordinates\":null,\"group\":null,\"text\":\"Cases by Agency: BRONX\"},\"id\":\"3198\",\"type\":\"Title\"},{\"attributes\":{},\"id\":\"3277\",\"type\":\"AllLabels\"},{\"attributes\":{},\"id\":\"3323\",\"type\":\"AllLabels\"},{\"attributes\":{},\"id\":\"3373\",\"type\":\"UnionRenderers\"},{\"attributes\":{},\"id\":\"3342\",\"type\":\"LinearScale\"},{\"attributes\":{\"field\":\"angle\",\"include_zero\":true},\"id\":\"3239\",\"type\":\"CumSum\"},{\"attributes\":{\"field\":\"angle\"},\"id\":\"3266\",\"type\":\"CumSum\"},{\"attributes\":{\"axis\":{\"id\":\"3346\"},\"coordinates\":null,\"grid_line_color\":null,\"group\":null,\"ticker\":null},\"id\":\"3349\",\"type\":\"Grid\"},{\"attributes\":{},\"id\":\"3325\",\"type\":\"BasicTickFormatter\"},{\"attributes\":{},\"id\":\"3374\",\"type\":\"Selection\"},{\"attributes\":{\"coordinates\":null,\"data_source\":{\"id\":\"3267\"},\"glyph\":{\"id\":\"3269\"},\"group\":null,\"hover_glyph\":null,\"muted_glyph\":{\"id\":\"3271\"},\"nonselection_glyph\":{\"id\":\"3270\"},\"view\":{\"id\":\"3273\"}},\"id\":\"3272\",\"type\":\"GlyphRenderer\"},{\"attributes\":{},\"id\":\"3209\",\"type\":\"BasicTicker\"},{\"attributes\":{},\"id\":\"3326\",\"type\":\"AllLabels\"},{\"attributes\":{},\"id\":\"3279\",\"type\":\"BasicTickFormatter\"},{\"attributes\":{},\"id\":\"3340\",\"type\":\"DataRange1d\"},{\"attributes\":{},\"id\":\"3280\",\"type\":\"AllLabels\"},{\"attributes\":{\"start\":-0.5},\"id\":\"3338\",\"type\":\"Range1d\"},{\"attributes\":{\"end_angle\":{\"expr\":{\"id\":\"3220\"}},\"fill_color\":{\"field\":\"color\"},\"line_color\":{\"value\":\"white\"},\"radius\":{\"value\":0.4},\"start_angle\":{\"expr\":{\"id\":\"3219\"}},\"x\":{\"value\":0},\"y\":{\"value\":1}},\"id\":\"3223\",\"type\":\"Wedge\"},{\"attributes\":{\"end_angle\":{\"expr\":{\"id\":\"3358\"}},\"fill_alpha\":{\"value\":0.1},\"fill_color\":{\"field\":\"color\"},\"hatch_alpha\":{\"value\":0.1},\"line_alpha\":{\"value\":0.1},\"line_color\":{\"value\":\"white\"},\"radius\":{\"value\":0.4},\"start_angle\":{\"expr\":{\"id\":\"3357\"}},\"x\":{\"value\":0},\"y\":{\"value\":1}},\"id\":\"3362\",\"type\":\"Wedge\"},{\"attributes\":{\"callback\":null,\"tooltips\":\"@Agency: @pct\"},\"id\":\"3354\",\"type\":\"HoverTool\"},{\"attributes\":{\"source\":{\"id\":\"3267\"}},\"id\":\"3273\",\"type\":\"CDSView\"},{\"attributes\":{},\"id\":\"3204\",\"type\":\"LinearScale\"},{\"attributes\":{},\"id\":\"3327\",\"type\":\"UnionRenderers\"},{\"attributes\":{},\"id\":\"3472\",\"type\":\"UnionRenderers\"},{\"attributes\":{\"axis\":{\"id\":\"3208\"},\"coordinates\":null,\"grid_line_color\":null,\"group\":null,\"ticker\":null},\"id\":\"3211\",\"type\":\"Grid\"},{\"attributes\":{},\"id\":\"3206\",\"type\":\"LinearScale\"},{\"attributes\":{},\"id\":\"3328\",\"type\":\"Selection\"},{\"attributes\":{},\"id\":\"3473\",\"type\":\"Selection\"},{\"attributes\":{},\"id\":\"3202\",\"type\":\"DataRange1d\"},{\"attributes\":{\"label\":{\"field\":\"Agency\"},\"renderers\":[{\"id\":\"3226\"}]},\"id\":\"3238\",\"type\":\"LegendItem\"},{\"attributes\":{},\"id\":\"3236\",\"type\":\"Selection\"},{\"attributes\":{\"children\":[[{\"id\":\"3197\"},0,0],[{\"id\":\"3243\"},0,1],[{\"id\":\"3289\"},1,0],[{\"id\":\"3335\"},1,1],[{\"id\":\"3381\"},2,0]]},\"id\":\"3487\",\"type\":\"GridBox\"},{\"attributes\":{\"field\":\"angle\",\"include_zero\":true},\"id\":\"3377\",\"type\":\"CumSum\"},{\"attributes\":{\"tools\":[{\"id\":\"3354\"}]},\"id\":\"3355\",\"type\":\"Toolbar\"},{\"attributes\":{\"end_angle\":{\"expr\":{\"id\":\"3266\"}},\"fill_alpha\":{\"value\":0.2},\"fill_color\":{\"field\":\"color\"},\"hatch_alpha\":{\"value\":0.2},\"line_alpha\":{\"value\":0.2},\"line_color\":{\"value\":\"white\"},\"radius\":{\"value\":0.4},\"start_angle\":{\"expr\":{\"id\":\"3265\"}},\"x\":{\"value\":0},\"y\":{\"value\":1}},\"id\":\"3271\",\"type\":\"Wedge\"},{\"attributes\":{\"data\":{\"Agency\":[\"DCA\",\"DEP\",\"DHS\",\"DOB\",\"DOE\",\"DOHMH\",\"DOT\",\"DPR\",\"DSNY\",\"HPD\",\"NYPD\",\"OTI\"],\"angle\":{\"__ndarray__\":\"3N5MEt7ijj9N+91tYSfFP0oLcMvKTZM/Vdu5so7ayD/c3kwS3uJePwBDA1CCBrs/Bin53ioV4z9l1rj5hWjAP50pOuoqY+s/iP14FdSs4T+sqkztdTINQAAAAAAAAAAA\",\"dtype\":\"float64\",\"order\":\"little\",\"shape\":[12]},\"color\":[\"#3182bd\",\"#6baed6\",\"#9ecae1\",\"#c6dbef\",\"#e6550d\",\"#fd8d3c\",\"#fdae6b\",\"#fdd0a2\",\"#31a354\",\"#74c476\",\"#a1d99b\",\"#c7e9c0\"],\"index\":[0,1,2,3,4,5,6,7,8,9,10,11],\"pct\":{\"__ndarray__\":\"uB6F61G4zj8K16NwPQoFQDMzMzMzM9M/uB6F61G4CEC4HoXrUbieP+F6FK5H4fo/exSuR+H6IkBSuB6F61EAQD0K16NwPStAFK5H4XqUIUAK16NwPQpNQAAAAAAAAAAA\",\"dtype\":\"float64\",\"order\":\"little\",\"shape\":[12]},\"value\":{\"__ndarray__\":\"AAAAAADggUAAAAAAAAS4QAAAAAAAoIVAAAAAAAAuvEAAAAAAAIBPQAAAAAAAuq5AAAAAAACi1UAAAAAAAKCyQAAAAACAEd9AAAAAAMAL1EAAAAAAcI4AQQAAAAAAAAhA\",\"dtype\":\"float64\",\"order\":\"little\",\"shape\":[12]}},\"selected\":{\"id\":\"3374\"},\"selection_policy\":{\"id\":\"3373\"}},\"id\":\"3359\",\"type\":\"ColumnDataSource\"},{\"attributes\":{\"data\":{\"Agency\":[\"DCA\",\"DEP\",\"DHS\",\"DOB\",\"DOE\",\"DOHMH\",\"DOT\",\"DPR\",\"DSNY\",\"HPD\",\"NYPD\",\"OTI\"],\"angle\":{\"__ndarray__\":\"3N5MEt7ijj9N+91tYSfFP0oLcMvKTZM/Vdu5so7ayD/c3kwS3uJePwBDA1CCBrs/Bin53ioV4z9l1rj5hWjAP50pOuoqY+s/iP14FdSs4T+sqkztdTINQAAAAAAAAAAA\",\"dtype\":\"float64\",\"order\":\"little\",\"shape\":[12]},\"color\":[\"#3182bd\",\"#6baed6\",\"#9ecae1\",\"#c6dbef\",\"#e6550d\",\"#fd8d3c\",\"#fdae6b\",\"#fdd0a2\",\"#31a354\",\"#74c476\",\"#a1d99b\",\"#c7e9c0\"],\"index\":[0,1,2,3,4,5,6,7,8,9,10,11],\"label_vals\":[\"\",\"\",\"\",\"\",\"\",\"\",\"                9.49\",\"\",\"               13.62\",\"                8.79\",\"               58.08\",\"\"],\"pct\":{\"__ndarray__\":\"uB6F61G4zj8K16NwPQoFQDMzMzMzM9M/uB6F61G4CEC4HoXrUbieP+F6FK5H4fo/exSuR+H6IkBSuB6F61EAQD0K16NwPStAFK5H4XqUIUAK16NwPQpNQAAAAAAAAAAA\",\"dtype\":\"float64\",\"order\":\"little\",\"shape\":[12]},\"value\":{\"__ndarray__\":\"AAAAAADggUAAAAAAAAS4QAAAAAAAoIVAAAAAAAAuvEAAAAAAAIBPQAAAAAAAuq5AAAAAAACi1UAAAAAAAKCyQAAAAACAEd9AAAAAAMAL1EAAAAAAcI4AQQAAAAAAAAhA\",\"dtype\":\"float64\",\"order\":\"little\",\"shape\":[12]}},\"selected\":{\"id\":\"3473\"},\"selection_policy\":{\"id\":\"3472\"}},\"id\":\"3378\",\"type\":\"ColumnDataSource\"},{\"attributes\":{\"angle\":{\"expr\":{\"id\":\"3377\"}},\"coordinates\":null,\"group\":null,\"source\":{\"id\":\"3378\"},\"text\":{\"field\":\"label_vals\"},\"x\":{\"value\":0},\"y\":{\"value\":1}},\"id\":\"3379\",\"type\":\"LabelSet\"},{\"attributes\":{},\"id\":\"3230\",\"type\":\"BasicTickFormatter\"},{\"attributes\":{},\"id\":\"3233\",\"type\":\"BasicTickFormatter\"},{\"attributes\":{},\"id\":\"3276\",\"type\":\"BasicTickFormatter\"},{\"attributes\":{\"coordinates\":null,\"data_source\":{\"id\":\"3359\"},\"glyph\":{\"id\":\"3361\"},\"group\":null,\"hover_glyph\":null,\"muted_glyph\":{\"id\":\"3363\"},\"nonselection_glyph\":{\"id\":\"3362\"},\"view\":{\"id\":\"3365\"}},\"id\":\"3364\",\"type\":\"GlyphRenderer\"},{\"attributes\":{\"label\":{\"field\":\"Agency\"},\"renderers\":[{\"id\":\"3364\"}]},\"id\":\"3376\",\"type\":\"LegendItem\"},{\"attributes\":{\"end_angle\":{\"expr\":{\"id\":\"3266\"}},\"fill_color\":{\"field\":\"color\"},\"line_color\":{\"value\":\"white\"},\"radius\":{\"value\":0.4},\"start_angle\":{\"expr\":{\"id\":\"3265\"}},\"x\":{\"value\":0},\"y\":{\"value\":1}},\"id\":\"3269\",\"type\":\"Wedge\"},{\"attributes\":{\"source\":{\"id\":\"3359\"}},\"id\":\"3365\",\"type\":\"CDSView\"},{\"attributes\":{},\"id\":\"3484\",\"type\":\"UnionRenderers\"},{\"attributes\":{\"end_angle\":{\"expr\":{\"id\":\"3358\"}},\"fill_alpha\":{\"value\":0.2},\"fill_color\":{\"field\":\"color\"},\"hatch_alpha\":{\"value\":0.2},\"line_alpha\":{\"value\":0.2},\"line_color\":{\"value\":\"white\"},\"radius\":{\"value\":0.4},\"start_angle\":{\"expr\":{\"id\":\"3357\"}},\"x\":{\"value\":0},\"y\":{\"value\":1}},\"id\":\"3363\",\"type\":\"Wedge\"},{\"attributes\":{},\"id\":\"3485\",\"type\":\"Selection\"},{\"attributes\":{},\"id\":\"3234\",\"type\":\"AllLabels\"},{\"attributes\":{\"coordinates\":null,\"group\":null,\"items\":[{\"id\":\"3284\"}]},\"id\":\"3283\",\"type\":\"Legend\"},{\"attributes\":{\"tools\":[{\"id\":\"3216\"}]},\"id\":\"3217\",\"type\":\"Toolbar\"},{\"attributes\":{\"coordinates\":null,\"group\":null,\"items\":[{\"id\":\"3376\"}]},\"id\":\"3375\",\"type\":\"Legend\"},{\"attributes\":{\"axis\":{\"id\":\"3212\"},\"coordinates\":null,\"dimension\":1,\"grid_line_color\":null,\"group\":null,\"ticker\":null},\"id\":\"3215\",\"type\":\"Grid\"},{\"attributes\":{},\"id\":\"3386\",\"type\":\"DataRange1d\"},{\"attributes\":{},\"id\":\"3231\",\"type\":\"AllLabels\"},{\"attributes\":{\"field\":\"angle\"},\"id\":\"3404\",\"type\":\"CumSum\"},{\"attributes\":{\"toolbar\":{\"id\":\"3488\"},\"toolbar_location\":\"above\"},\"id\":\"3489\",\"type\":\"ToolbarBox\"},{\"attributes\":{\"data\":{\"Agency\":[\"DCA\",\"DEP\",\"DHS\",\"DOB\",\"DOE\",\"DOHMH\",\"DOT\",\"DPR\",\"DSNY\",\"HPD\",\"NYPD\",\"OTI\"],\"angle\":{\"__ndarray__\":\"VVuD2jCWhD+h9ucglyzSPwuRK+iT34U/53wMww5kxT81uoqxB7qAPwSr3u/boLw/H9I5Hnnd7z+IeB2ZvK/QPw4ib+b0VgBALDIkEb272T9JMQOSU9j/PwAAAAAAAAAA\",\"dtype\":\"float64\",\"order\":\"little\",\"shape\":[12]},\"color\":[\"#3182bd\",\"#6baed6\",\"#9ecae1\",\"#c6dbef\",\"#e6550d\",\"#fd8d3c\",\"#fdae6b\",\"#fdd0a2\",\"#31a354\",\"#74c476\",\"#a1d99b\",\"#c7e9c0\"],\"index\":[0,1,2,3,4,5,6,7,8,9,10,11],\"label_vals\":[\"\",\"\",\"\",\"\",\"\",\"\",\"               15.85\",\"\",\"               32.51\",\"                 6.4\",\"               31.68\",\"\"],\"pct\":{\"__ndarray__\":\"exSuR+F6xD8UrkfhehQSQMP1KFyPwsU/SOF6FK5HBUCkcD0K16PAP3sUrkfhevw/MzMzMzOzL0CamZmZmZkQQOF6FK5HQUBAmpmZmZmZGUCuR+F6FK4/QAAAAAAAAAAA\",\"dtype\":\"float64\",\"order\":\"little\",\"shape\":[12]},\"value\":{\"__ndarray__\":\"AAAAAAAAUkAAAAAAACifQAAAAAAAAFNAAAAAAABUkkAAAAAAAABNQAAAAAAAgIhAAAAAAABXu0AAAAAAAKicQAAAAAAACcxAAAAAAAAQpkAAAAAAAFLLQAAAAAAAAPA/\",\"dtype\":\"float64\",\"order\":\"little\",\"shape\":[12]}},\"selected\":{\"id\":\"3485\"},\"selection_policy\":{\"id\":\"3484\"}},\"id\":\"3424\",\"type\":\"ColumnDataSource\"},{\"attributes\":{\"field\":\"angle\",\"include_zero\":true},\"id\":\"3403\",\"type\":\"CumSum\"},{\"attributes\":{\"start\":-0.5},\"id\":\"3384\",\"type\":\"Range1d\"},{\"attributes\":{},\"id\":\"3213\",\"type\":\"BasicTicker\"}],\"root_ids\":[\"3490\"]},\"title\":\"Bokeh Application\",\"version\":\"2.4.3\"}};\n  const render_items = [{\"docid\":\"24aaeb4f-6c01-49ba-9b97-d6a123cd64c2\",\"root_ids\":[\"3490\"],\"roots\":{\"3490\":\"fc3d6f1c-14ed-47ba-9c05-f775aa7006be\"}}];\n  root.Bokeh.embed.embed_items_notebook(docs_json, render_items);\n  }\n  if (root.Bokeh !== undefined) {\n    embed_document(root);\n  } else {\n    let attempts = 0;\n    const timer = setInterval(function(root) {\n      if (root.Bokeh !== undefined) {\n        clearInterval(timer);\n        embed_document(root);\n      } else {\n        attempts++;\n        if (attempts > 100) {\n          clearInterval(timer);\n          console.log(\"Bokeh: ERROR: Unable to run BokehJS code because BokehJS library is missing\");\n        }\n      }\n    }, 10, root)\n  }\n})(window);",
      "application/vnd.bokehjs_exec.v0+json": ""
     },
     "metadata": {
      "application/vnd.bokehjs_exec.v0+json": {
       "id": "3490"
      }
     },
     "output_type": "display_data"
    }
   ],
   "source": [
    "plots=list()\n",
    "for borough in size_df.index:\n",
    "    plots.append(create_bokeh_pi(size_df,borough))\n",
    "grid = gridplot(plots,sizing_mode=\"scale_both\",merge_tools=True,ncols=2)\n",
    "show(grid)"
   ]
  },
  {
   "cell_type": "markdown",
   "metadata": {},
   "source": [
    "<br><br><br><br><br><br>\n",
    "<span style=\"color:green;font-size:60px\">Interactive charting</span>\n",
    "<br><br>"
   ]
  },
  {
   "cell_type": "markdown",
   "metadata": {},
   "source": [
    "<li>bokeh graphs are interactive</li>\n",
    "<li>passive interaction (the graph does not change with user input) (e.g., the piechart above)</li>\n",
    "<li>active interaction (the graph changes with user input)</li>"
   ]
  },
  {
   "cell_type": "markdown",
   "metadata": {},
   "source": [
    "<br><br><br><br>\n",
    "<span style=\"color:blue;font-size:x-large\">distribution of processing time</span>\n",
    "<li>We've looked at mean processing times over months and days</li>\n",
    "<li>Let's get a sense of the distribution of processing times</li>"
   ]
  },
  {
   "cell_type": "markdown",
   "metadata": {},
   "source": [
    "<br><br><br><br>\n",
    "<span style=\"color:blue;font-size:large\">Histogram of processing times</h2>\n",
    "<li>We'll only keep data for which the processing duration is greater than .5 and less than 1 day </li>\n",
    "<li>Why? No particular reason other than graph aesthetics!</li>\n",
    "<li>And divide the data into ten bins</li>\n",
    "<li>and use <a href=\"https://numpy.org/doc/stable/reference/generated/numpy.histogram.html\">np.histogram</a> to create the histogram</li>"
   ]
  },
  {
   "cell_type": "code",
   "execution_count": 29,
   "metadata": {},
   "outputs": [
    {
     "name": "stdout",
     "output_type": "stream",
     "text": [
      "<class 'pandas.core.frame.DataFrame'>\n",
      "RangeIndex: 1000000 entries, 0 to 999999\n",
      "Data columns (total 8 columns):\n",
      " #   Column           Non-Null Count    Dtype         \n",
      "---  ------           --------------    -----         \n",
      " 0   Created Date     1000000 non-null  datetime64[ns]\n",
      " 1   Closed Date      1000000 non-null  datetime64[ns]\n",
      " 2   Agency           1000000 non-null  object        \n",
      " 3   Incident Zip     1000000 non-null  int64         \n",
      " 4   Borough          1000000 non-null  object        \n",
      " 5   Latitude         1000000 non-null  float64       \n",
      " 6   Longitude        1000000 non-null  float64       \n",
      " 7   processing_days  1000000 non-null  float64       \n",
      "dtypes: datetime64[ns](2), float64(3), int64(1), object(2)\n",
      "memory usage: 61.0+ MB\n"
     ]
    }
   ],
   "source": [
    "#Load the data\n",
    "import pandas as pd\n",
    "import numpy as np\n",
    "df = pd.read_csv(\"../class-datasets/nyc_311_clean.csv\",header=0, nrows=1000000)\n",
    "df['Created Date'] = pd.to_datetime(df[\"Created Date\"],format=\"%Y-%m-%d %H:%M:%S\")\n",
    "df['Closed Date'] = pd.to_datetime(df[\"Closed Date\"],format=\"%Y-%m-%d %H:%M:%S\")\n",
    "\n",
    "df.info()"
   ]
  },
  {
   "cell_type": "code",
   "execution_count": 30,
   "metadata": {},
   "outputs": [],
   "source": [
    "import numpy as np\n",
    "import pandas as pd\n",
    "df2 = df[(df['processing_days']>0.5) & (df['processing_days']<1)]\n",
    "nbins=10\n",
    "histogram,boundaries = np.histogram(df2['processing_days'],bins=nbins)\n",
    "hist_df = pd.DataFrame({'cases': histogram, \n",
    "                       'left': boundaries[:-1]*24*60, \n",
    "                       'right': boundaries[1:]*24*60})"
   ]
  },
  {
   "cell_type": "code",
   "execution_count": 31,
   "metadata": {},
   "outputs": [
    {
     "data": {
      "text/plain": [
       "array([0.5000463 , 0.55004051, 0.60003472, 0.65002894, 0.70002315,\n",
       "       0.75001736, 0.80001157, 0.85000579, 0.9       , 0.94999421,\n",
       "       0.99998843])"
      ]
     },
     "execution_count": 31,
     "metadata": {},
     "output_type": "execute_result"
    }
   ],
   "source": [
    "boundaries"
   ]
  },
  {
   "cell_type": "code",
   "execution_count": 32,
   "metadata": {},
   "outputs": [
    {
     "data": {
      "text/plain": [
       "array([3218, 3166, 2919, 2848, 3306, 3451, 3853, 4299, 4605, 4477])"
      ]
     },
     "execution_count": 32,
     "metadata": {},
     "output_type": "execute_result"
    }
   ],
   "source": [
    "histogram"
   ]
  },
  {
   "cell_type": "code",
   "execution_count": 33,
   "metadata": {},
   "outputs": [
    {
     "data": {
      "text/html": [
       "<div>\n",
       "<style scoped>\n",
       "    .dataframe tbody tr th:only-of-type {\n",
       "        vertical-align: middle;\n",
       "    }\n",
       "\n",
       "    .dataframe tbody tr th {\n",
       "        vertical-align: top;\n",
       "    }\n",
       "\n",
       "    .dataframe thead th {\n",
       "        text-align: right;\n",
       "    }\n",
       "</style>\n",
       "<table border=\"1\" class=\"dataframe\">\n",
       "  <thead>\n",
       "    <tr style=\"text-align: right;\">\n",
       "      <th></th>\n",
       "      <th>cases</th>\n",
       "      <th>left</th>\n",
       "      <th>right</th>\n",
       "    </tr>\n",
       "  </thead>\n",
       "  <tbody>\n",
       "    <tr>\n",
       "      <th>0</th>\n",
       "      <td>3218</td>\n",
       "      <td>720.066667</td>\n",
       "      <td>792.058333</td>\n",
       "    </tr>\n",
       "    <tr>\n",
       "      <th>1</th>\n",
       "      <td>3166</td>\n",
       "      <td>792.058333</td>\n",
       "      <td>864.050000</td>\n",
       "    </tr>\n",
       "    <tr>\n",
       "      <th>2</th>\n",
       "      <td>2919</td>\n",
       "      <td>864.050000</td>\n",
       "      <td>936.041667</td>\n",
       "    </tr>\n",
       "    <tr>\n",
       "      <th>3</th>\n",
       "      <td>2848</td>\n",
       "      <td>936.041667</td>\n",
       "      <td>1008.033333</td>\n",
       "    </tr>\n",
       "    <tr>\n",
       "      <th>4</th>\n",
       "      <td>3306</td>\n",
       "      <td>1008.033333</td>\n",
       "      <td>1080.025000</td>\n",
       "    </tr>\n",
       "    <tr>\n",
       "      <th>5</th>\n",
       "      <td>3451</td>\n",
       "      <td>1080.025000</td>\n",
       "      <td>1152.016667</td>\n",
       "    </tr>\n",
       "    <tr>\n",
       "      <th>6</th>\n",
       "      <td>3853</td>\n",
       "      <td>1152.016667</td>\n",
       "      <td>1224.008333</td>\n",
       "    </tr>\n",
       "    <tr>\n",
       "      <th>7</th>\n",
       "      <td>4299</td>\n",
       "      <td>1224.008333</td>\n",
       "      <td>1296.000000</td>\n",
       "    </tr>\n",
       "    <tr>\n",
       "      <th>8</th>\n",
       "      <td>4605</td>\n",
       "      <td>1296.000000</td>\n",
       "      <td>1367.991667</td>\n",
       "    </tr>\n",
       "    <tr>\n",
       "      <th>9</th>\n",
       "      <td>4477</td>\n",
       "      <td>1367.991667</td>\n",
       "      <td>1439.983333</td>\n",
       "    </tr>\n",
       "  </tbody>\n",
       "</table>\n",
       "</div>"
      ],
      "text/plain": [
       "   cases         left        right\n",
       "0   3218   720.066667   792.058333\n",
       "1   3166   792.058333   864.050000\n",
       "2   2919   864.050000   936.041667\n",
       "3   2848   936.041667  1008.033333\n",
       "4   3306  1008.033333  1080.025000\n",
       "5   3451  1080.025000  1152.016667\n",
       "6   3853  1152.016667  1224.008333\n",
       "7   4299  1224.008333  1296.000000\n",
       "8   4605  1296.000000  1367.991667\n",
       "9   4477  1367.991667  1439.983333"
      ]
     },
     "execution_count": 33,
     "metadata": {},
     "output_type": "execute_result"
    }
   ],
   "source": [
    "hist_df"
   ]
  },
  {
   "cell_type": "markdown",
   "metadata": {},
   "source": [
    "<br><br><br>\n",
    "<span style=\"color:blue;font-size:x-large\">Creating an interactive bokeh bar chart</span>\n",
    "<li>We'll convert the dataframe into a ColumnDataSource object</li>\n",
    "<li>Create a <span style=\"color:blue\">tooltips</span> dictionary (for the data that will be shown when hovering)</li>\n",
    "<li>Center the bar chart to the median bar size</li>\n",
    "<li>Use a <a href=\"https://docs.bokeh.org/en/latest/docs/reference/models/glyphs/quad.html\">quad glyph</a> to construct each bar. Quad = Quadrilateral</li>"
   ]
  },
  {
   "cell_type": "code",
   "execution_count": 34,
   "metadata": {},
   "outputs": [
    {
     "data": {
      "text/html": [
       "<div class=\"bk-root\">\n",
       "        <a href=\"https://bokeh.org\" target=\"_blank\" class=\"bk-logo bk-logo-small bk-logo-notebook\"></a>\n",
       "        <span id=\"3974\">Loading BokehJS ...</span>\n",
       "    </div>\n"
      ]
     },
     "metadata": {},
     "output_type": "display_data"
    },
    {
     "data": {
      "application/javascript": "(function(root) {\n  function now() {\n    return new Date();\n  }\n\n  const force = true;\n\n  if (typeof root._bokeh_onload_callbacks === \"undefined\" || force === true) {\n    root._bokeh_onload_callbacks = [];\n    root._bokeh_is_loading = undefined;\n  }\n\nconst JS_MIME_TYPE = 'application/javascript';\n  const HTML_MIME_TYPE = 'text/html';\n  const EXEC_MIME_TYPE = 'application/vnd.bokehjs_exec.v0+json';\n  const CLASS_NAME = 'output_bokeh rendered_html';\n\n  /**\n   * Render data to the DOM node\n   */\n  function render(props, node) {\n    const script = document.createElement(\"script\");\n    node.appendChild(script);\n  }\n\n  /**\n   * Handle when an output is cleared or removed\n   */\n  function handleClearOutput(event, handle) {\n    const cell = handle.cell;\n\n    const id = cell.output_area._bokeh_element_id;\n    const server_id = cell.output_area._bokeh_server_id;\n    // Clean up Bokeh references\n    if (id != null && id in Bokeh.index) {\n      Bokeh.index[id].model.document.clear();\n      delete Bokeh.index[id];\n    }\n\n    if (server_id !== undefined) {\n      // Clean up Bokeh references\n      const cmd_clean = \"from bokeh.io.state import curstate; print(curstate().uuid_to_server['\" + server_id + \"'].get_sessions()[0].document.roots[0]._id)\";\n      cell.notebook.kernel.execute(cmd_clean, {\n        iopub: {\n          output: function(msg) {\n            const id = msg.content.text.trim();\n            if (id in Bokeh.index) {\n              Bokeh.index[id].model.document.clear();\n              delete Bokeh.index[id];\n            }\n          }\n        }\n      });\n      // Destroy server and session\n      const cmd_destroy = \"import bokeh.io.notebook as ion; ion.destroy_server('\" + server_id + \"')\";\n      cell.notebook.kernel.execute(cmd_destroy);\n    }\n  }\n\n  /**\n   * Handle when a new output is added\n   */\n  function handleAddOutput(event, handle) {\n    const output_area = handle.output_area;\n    const output = handle.output;\n\n    // limit handleAddOutput to display_data with EXEC_MIME_TYPE content only\n    if ((output.output_type != \"display_data\") || (!Object.prototype.hasOwnProperty.call(output.data, EXEC_MIME_TYPE))) {\n      return\n    }\n\n    const toinsert = output_area.element.find(\".\" + CLASS_NAME.split(' ')[0]);\n\n    if (output.metadata[EXEC_MIME_TYPE][\"id\"] !== undefined) {\n      toinsert[toinsert.length - 1].firstChild.textContent = output.data[JS_MIME_TYPE];\n      // store reference to embed id on output_area\n      output_area._bokeh_element_id = output.metadata[EXEC_MIME_TYPE][\"id\"];\n    }\n    if (output.metadata[EXEC_MIME_TYPE][\"server_id\"] !== undefined) {\n      const bk_div = document.createElement(\"div\");\n      bk_div.innerHTML = output.data[HTML_MIME_TYPE];\n      const script_attrs = bk_div.children[0].attributes;\n      for (let i = 0; i < script_attrs.length; i++) {\n        toinsert[toinsert.length - 1].firstChild.setAttribute(script_attrs[i].name, script_attrs[i].value);\n        toinsert[toinsert.length - 1].firstChild.textContent = bk_div.children[0].textContent\n      }\n      // store reference to server id on output_area\n      output_area._bokeh_server_id = output.metadata[EXEC_MIME_TYPE][\"server_id\"];\n    }\n  }\n\n  function register_renderer(events, OutputArea) {\n\n    function append_mime(data, metadata, element) {\n      // create a DOM node to render to\n      const toinsert = this.create_output_subarea(\n        metadata,\n        CLASS_NAME,\n        EXEC_MIME_TYPE\n      );\n      this.keyboard_manager.register_events(toinsert);\n      // Render to node\n      const props = {data: data, metadata: metadata[EXEC_MIME_TYPE]};\n      render(props, toinsert[toinsert.length - 1]);\n      element.append(toinsert);\n      return toinsert\n    }\n\n    /* Handle when an output is cleared or removed */\n    events.on('clear_output.CodeCell', handleClearOutput);\n    events.on('delete.Cell', handleClearOutput);\n\n    /* Handle when a new output is added */\n    events.on('output_added.OutputArea', handleAddOutput);\n\n    /**\n     * Register the mime type and append_mime function with output_area\n     */\n    OutputArea.prototype.register_mime_type(EXEC_MIME_TYPE, append_mime, {\n      /* Is output safe? */\n      safe: true,\n      /* Index of renderer in `output_area.display_order` */\n      index: 0\n    });\n  }\n\n  // register the mime type if in Jupyter Notebook environment and previously unregistered\n  if (root.Jupyter !== undefined) {\n    const events = require('base/js/events');\n    const OutputArea = require('notebook/js/outputarea').OutputArea;\n\n    if (OutputArea.prototype.mime_types().indexOf(EXEC_MIME_TYPE) == -1) {\n      register_renderer(events, OutputArea);\n    }\n  }\n  if (typeof (root._bokeh_timeout) === \"undefined\" || force === true) {\n    root._bokeh_timeout = Date.now() + 5000;\n    root._bokeh_failed_load = false;\n  }\n\n  const NB_LOAD_WARNING = {'data': {'text/html':\n     \"<div style='background-color: #fdd'>\\n\"+\n     \"<p>\\n\"+\n     \"BokehJS does not appear to have successfully loaded. If loading BokehJS from CDN, this \\n\"+\n     \"may be due to a slow or bad network connection. Possible fixes:\\n\"+\n     \"</p>\\n\"+\n     \"<ul>\\n\"+\n     \"<li>re-rerun `output_notebook()` to attempt to load from CDN again, or</li>\\n\"+\n     \"<li>use INLINE resources instead, as so:</li>\\n\"+\n     \"</ul>\\n\"+\n     \"<code>\\n\"+\n     \"from bokeh.resources import INLINE\\n\"+\n     \"output_notebook(resources=INLINE)\\n\"+\n     \"</code>\\n\"+\n     \"</div>\"}};\n\n  function display_loaded() {\n    const el = document.getElementById(\"3974\");\n    if (el != null) {\n      el.textContent = \"BokehJS is loading...\";\n    }\n    if (root.Bokeh !== undefined) {\n      if (el != null) {\n        el.textContent = \"BokehJS \" + root.Bokeh.version + \" successfully loaded.\";\n      }\n    } else if (Date.now() < root._bokeh_timeout) {\n      setTimeout(display_loaded, 100)\n    }\n  }\n\n  function run_callbacks() {\n    try {\n      root._bokeh_onload_callbacks.forEach(function(callback) {\n        if (callback != null)\n          callback();\n      });\n    } finally {\n      delete root._bokeh_onload_callbacks\n    }\n    console.debug(\"Bokeh: all callbacks have finished\");\n  }\n\n  function load_libs(css_urls, js_urls, callback) {\n    if (css_urls == null) css_urls = [];\n    if (js_urls == null) js_urls = [];\n\n    root._bokeh_onload_callbacks.push(callback);\n    if (root._bokeh_is_loading > 0) {\n      console.debug(\"Bokeh: BokehJS is being loaded, scheduling callback at\", now());\n      return null;\n    }\n    if (js_urls == null || js_urls.length === 0) {\n      run_callbacks();\n      return null;\n    }\n    console.debug(\"Bokeh: BokehJS not loaded, scheduling load and callback at\", now());\n    root._bokeh_is_loading = css_urls.length + js_urls.length;\n\n    function on_load() {\n      root._bokeh_is_loading--;\n      if (root._bokeh_is_loading === 0) {\n        console.debug(\"Bokeh: all BokehJS libraries/stylesheets loaded\");\n        run_callbacks()\n      }\n    }\n\n    function on_error(url) {\n      console.error(\"failed to load \" + url);\n    }\n\n    for (let i = 0; i < css_urls.length; i++) {\n      const url = css_urls[i];\n      const element = document.createElement(\"link\");\n      element.onload = on_load;\n      element.onerror = on_error.bind(null, url);\n      element.rel = \"stylesheet\";\n      element.type = \"text/css\";\n      element.href = url;\n      console.debug(\"Bokeh: injecting link tag for BokehJS stylesheet: \", url);\n      document.body.appendChild(element);\n    }\n\n    for (let i = 0; i < js_urls.length; i++) {\n      const url = js_urls[i];\n      const element = document.createElement('script');\n      element.onload = on_load;\n      element.onerror = on_error.bind(null, url);\n      element.async = false;\n      element.src = url;\n      console.debug(\"Bokeh: injecting script tag for BokehJS library: \", url);\n      document.head.appendChild(element);\n    }\n  };\n\n  function inject_raw_css(css) {\n    const element = document.createElement(\"style\");\n    element.appendChild(document.createTextNode(css));\n    document.body.appendChild(element);\n  }\n\n  const js_urls = [\"https://cdn.bokeh.org/bokeh/release/bokeh-2.4.3.min.js\", \"https://cdn.bokeh.org/bokeh/release/bokeh-gl-2.4.3.min.js\", \"https://cdn.bokeh.org/bokeh/release/bokeh-widgets-2.4.3.min.js\", \"https://cdn.bokeh.org/bokeh/release/bokeh-tables-2.4.3.min.js\", \"https://cdn.bokeh.org/bokeh/release/bokeh-mathjax-2.4.3.min.js\"];\n  const css_urls = [];\n\n  const inline_js = [    function(Bokeh) {\n      Bokeh.set_log_level(\"info\");\n    },\nfunction(Bokeh) {\n    }\n  ];\n\n  function run_inline_js() {\n    if (root.Bokeh !== undefined || force === true) {\n          for (let i = 0; i < inline_js.length; i++) {\n      inline_js[i].call(root, root.Bokeh);\n    }\nif (force === true) {\n        display_loaded();\n      }} else if (Date.now() < root._bokeh_timeout) {\n      setTimeout(run_inline_js, 100);\n    } else if (!root._bokeh_failed_load) {\n      console.log(\"Bokeh: BokehJS failed to load within specified timeout.\");\n      root._bokeh_failed_load = true;\n    } else if (force !== true) {\n      const cell = $(document.getElementById(\"3974\")).parents('.cell').data().cell;\n      cell.output_area.append_execute_result(NB_LOAD_WARNING)\n    }\n  }\n\n  if (root._bokeh_is_loading === 0) {\n    console.debug(\"Bokeh: BokehJS loaded, going straight to plotting\");\n    run_inline_js();\n  } else {\n    load_libs(css_urls, js_urls, function() {\n      console.debug(\"Bokeh: BokehJS plotting callback run at\", now());\n      run_inline_js();\n    });\n  }\n}(window));",
      "application/vnd.bokehjs_load.v0+json": ""
     },
     "metadata": {},
     "output_type": "display_data"
    }
   ],
   "source": [
    "from bokeh.io import output_notebook, show\n",
    "from bokeh.plotting import figure\n",
    "from bokeh.models import ColumnDataSource\n",
    "\n",
    "output_notebook()"
   ]
  },
  {
   "cell_type": "code",
   "execution_count": 35,
   "metadata": {},
   "outputs": [
    {
     "data": {
      "text/html": [
       "\n",
       "  <div class=\"bk-root\" id=\"13571013-5956-4500-a63c-52b90b050c85\" data-root-id=\"3976\"></div>\n"
      ]
     },
     "metadata": {},
     "output_type": "display_data"
    },
    {
     "data": {
      "application/javascript": "(function(root) {\n  function embed_document(root) {\n  const docs_json = {\"e5216bf6-45f7-43cb-9681-67489179fc36\":{\"defs\":[],\"roots\":{\"references\":[{\"attributes\":{\"below\":[{\"id\":\"3987\"}],\"center\":[{\"id\":\"3990\"},{\"id\":\"3994\"}],\"left\":[{\"id\":\"3991\"}],\"renderers\":[{\"id\":\"4016\"}],\"title\":{\"id\":\"3977\"},\"toolbar\":{\"id\":\"4003\"},\"x_range\":{\"id\":\"3979\"},\"x_scale\":{\"id\":\"3983\"},\"y_range\":{\"id\":\"3981\"},\"y_scale\":{\"id\":\"3985\"}},\"id\":\"3976\",\"subtype\":\"Figure\",\"type\":\"Plot\"},{\"attributes\":{\"callback\":null,\"tooltips\":[[\"number of cases\",\"@cases\"],[\"left (minutes)\",\"@left{s}\"],[\"right (minutes)\",\"@right{s}\"]]},\"id\":\"4002\",\"type\":\"HoverTool\"},{\"attributes\":{},\"id\":\"4228\",\"type\":\"BasicTickFormatter\"},{\"attributes\":{},\"id\":\"3996\",\"type\":\"WheelZoomTool\"},{\"attributes\":{\"bottom\":{\"value\":3378.5},\"fill_alpha\":{\"value\":0.95},\"fill_color\":{\"value\":\"red\"},\"left\":{\"field\":\"left\"},\"right\":{\"field\":\"right\"},\"top\":{\"field\":\"cases\"}},\"id\":\"4012\",\"type\":\"Quad\"},{\"attributes\":{},\"id\":\"4229\",\"type\":\"AllLabels\"},{\"attributes\":{\"axis_label\":\"number of cases\",\"coordinates\":null,\"formatter\":{\"id\":\"4228\"},\"group\":null,\"major_label_policy\":{\"id\":\"4229\"},\"ticker\":{\"id\":\"3992\"}},\"id\":\"3991\",\"type\":\"LinearAxis\"},{\"attributes\":{\"source\":{\"id\":\"3975\"}},\"id\":\"4017\",\"type\":\"CDSView\"},{\"attributes\":{\"axis\":{\"id\":\"3991\"},\"coordinates\":null,\"dimension\":1,\"group\":null,\"ticker\":null},\"id\":\"3994\",\"type\":\"Grid\"},{\"attributes\":{},\"id\":\"3992\",\"type\":\"BasicTicker\"},{\"attributes\":{},\"id\":\"4231\",\"type\":\"BasicTickFormatter\"},{\"attributes\":{\"tools\":[{\"id\":\"3995\"},{\"id\":\"3996\"},{\"id\":\"3997\"},{\"id\":\"3998\"},{\"id\":\"3999\"},{\"id\":\"4000\"},{\"id\":\"4002\"}]},\"id\":\"4003\",\"type\":\"Toolbar\"},{\"attributes\":{\"data\":{\"cases\":[3218,3166,2919,2848,3306,3451,3853,4299,4605,4477],\"index\":[0,1,2,3,4,5,6,7,8,9],\"left\":{\"__ndarray__\":\"iYiIiIiAhkB4d3d3d8CIQGZmZmZmAItAVFVVVVVAjUBERERERICPQJqZmZkZ4JBAEREREREAkkCJiIiICCCTQAAAAAAAQJRAeHd3d/dflUA=\",\"dtype\":\"float64\",\"order\":\"little\",\"shape\":[10]},\"right\":{\"__ndarray__\":\"eHd3d3fAiEBmZmZmZgCLQFRVVVVVQI1ARERERESAj0CamZmZGeCQQBERERERAJJAiYiIiAggk0AAAAAAAECUQHh3d3f3X5VA8O7u7u5/lkA=\",\"dtype\":\"float64\",\"order\":\"little\",\"shape\":[10]}},\"selected\":{\"id\":\"4234\"},\"selection_policy\":{\"id\":\"4233\"}},\"id\":\"3975\",\"type\":\"ColumnDataSource\"},{\"attributes\":{},\"id\":\"4232\",\"type\":\"AllLabels\"},{\"attributes\":{},\"id\":\"4000\",\"type\":\"HelpTool\"},{\"attributes\":{},\"id\":\"3995\",\"type\":\"PanTool\"},{\"attributes\":{\"overlay\":{\"id\":\"4001\"}},\"id\":\"3997\",\"type\":\"BoxZoomTool\"},{\"attributes\":{},\"id\":\"3981\",\"type\":\"DataRange1d\"},{\"attributes\":{},\"id\":\"3998\",\"type\":\"SaveTool\"},{\"attributes\":{},\"id\":\"3999\",\"type\":\"ResetTool\"},{\"attributes\":{},\"id\":\"3983\",\"type\":\"LinearScale\"},{\"attributes\":{\"bottom_units\":\"screen\",\"coordinates\":null,\"fill_alpha\":0.5,\"fill_color\":\"lightgrey\",\"group\":null,\"left_units\":\"screen\",\"level\":\"overlay\",\"line_alpha\":1.0,\"line_color\":\"black\",\"line_dash\":[4,4],\"line_width\":2,\"right_units\":\"screen\",\"syncable\":false,\"top_units\":\"screen\"},\"id\":\"4001\",\"type\":\"BoxAnnotation\"},{\"attributes\":{\"bottom\":{\"value\":3378.5},\"fill_color\":{\"value\":\"orange\"},\"left\":{\"field\":\"left\"},\"right\":{\"field\":\"right\"},\"top\":{\"field\":\"cases\"}},\"id\":\"4014\",\"type\":\"Quad\"},{\"attributes\":{},\"id\":\"3979\",\"type\":\"DataRange1d\"},{\"attributes\":{},\"id\":\"4233\",\"type\":\"UnionRenderers\"},{\"attributes\":{},\"id\":\"3985\",\"type\":\"LinearScale\"},{\"attributes\":{},\"id\":\"4234\",\"type\":\"Selection\"},{\"attributes\":{\"bottom\":{\"value\":3378.5},\"fill_alpha\":{\"value\":0.2},\"fill_color\":{\"value\":\"red\"},\"hatch_alpha\":{\"value\":0.2},\"left\":{\"field\":\"left\"},\"line_alpha\":{\"value\":0.2},\"right\":{\"field\":\"right\"},\"top\":{\"field\":\"cases\"}},\"id\":\"4015\",\"type\":\"Quad\"},{\"attributes\":{\"coordinates\":null,\"data_source\":{\"id\":\"3975\"},\"glyph\":{\"id\":\"4012\"},\"group\":null,\"hover_glyph\":{\"id\":\"4014\"},\"muted_glyph\":{\"id\":\"4015\"},\"nonselection_glyph\":{\"id\":\"4013\"},\"view\":{\"id\":\"4017\"}},\"id\":\"4016\",\"type\":\"GlyphRenderer\"},{\"attributes\":{\"axis_label\":\"time buckets\",\"coordinates\":null,\"formatter\":{\"id\":\"4231\"},\"group\":null,\"major_label_policy\":{\"id\":\"4232\"},\"ticker\":{\"id\":\"3988\"}},\"id\":\"3987\",\"type\":\"LinearAxis\"},{\"attributes\":{\"coordinates\":null,\"group\":null,\"text\":\"Histogram of cases by processing times\"},\"id\":\"3977\",\"type\":\"Title\"},{\"attributes\":{\"bottom\":{\"value\":3378.5},\"fill_alpha\":{\"value\":0.1},\"fill_color\":{\"value\":\"red\"},\"hatch_alpha\":{\"value\":0.1},\"left\":{\"field\":\"left\"},\"line_alpha\":{\"value\":0.1},\"right\":{\"field\":\"right\"},\"top\":{\"field\":\"cases\"}},\"id\":\"4013\",\"type\":\"Quad\"},{\"attributes\":{},\"id\":\"3988\",\"type\":\"BasicTicker\"},{\"attributes\":{\"axis\":{\"id\":\"3987\"},\"coordinates\":null,\"group\":null,\"ticker\":null},\"id\":\"3990\",\"type\":\"Grid\"}],\"root_ids\":[\"3976\"]},\"title\":\"Bokeh Application\",\"version\":\"2.4.3\"}};\n  const render_items = [{\"docid\":\"e5216bf6-45f7-43cb-9681-67489179fc36\",\"root_ids\":[\"3976\"],\"roots\":{\"3976\":\"13571013-5956-4500-a63c-52b90b050c85\"}}];\n  root.Bokeh.embed.embed_items_notebook(docs_json, render_items);\n  }\n  if (root.Bokeh !== undefined) {\n    embed_document(root);\n  } else {\n    let attempts = 0;\n    const timer = setInterval(function(root) {\n      if (root.Bokeh !== undefined) {\n        clearInterval(timer);\n        embed_document(root);\n      } else {\n        attempts++;\n        if (attempts > 100) {\n          clearInterval(timer);\n          console.log(\"Bokeh: ERROR: Unable to run BokehJS code because BokehJS library is missing\");\n        }\n      }\n    }, 10, root)\n  }\n})(window);",
      "application/vnd.bokehjs_exec.v0+json": ""
     },
     "metadata": {
      "application/vnd.bokehjs_exec.v0+json": {
       "id": "3976"
      }
     },
     "output_type": "display_data"
    }
   ],
   "source": [
    "#Place the data into a ColumnDataSource object\n",
    "src = ColumnDataSource(hist_df)\n",
    "\n",
    "#create the tooltips \n",
    "#whatever you put in here will be shown when hovering\n",
    "#the @ tells bokeh to use data from the columns of the columndatasource\n",
    "#formatting goes in curly braces\n",
    "tooltips = [\n",
    "    (\"number of cases\", \"@cases\"),\n",
    "    (\"left (minutes)\", \"@left{s}\"),\n",
    "    (\"right (minutes)\", \"@right{s}\"),\n",
    "]\n",
    "\n",
    "\"\"\"\n",
    "tooltips = {\n",
    "    \"number of cases\": \"@cases\",\n",
    "    \"left (minutes)\": \"@left{s}\",\n",
    "    \"right (minutes)\": \"@right{s}\",\n",
    "}\n",
    "\"\"\"\n",
    "#get the median for centering the x-axis\n",
    "import statistics\n",
    "median = statistics.median(src.data['cases'])\n",
    "\n",
    "#Create the figure\n",
    "p = figure(plot_height = 600, plot_width = 600, \n",
    "           title = 'Histogram of cases by processing times',\n",
    "          x_axis_label = 'time buckets', \n",
    "           y_axis_label = 'number of cases',tooltips=tooltips)\n",
    "\n",
    "# Add a quad glyph (https://docs.bokeh.org/en/latest/docs/reference/models/glyphs/quad.html)\n",
    "#we'll use the source argument to attach the columndatasource to the chart\n",
    "r = p.quad(bottom=median, #location of the x-axis\n",
    "           top='cases',  #the data that will determine the height of the bar\n",
    "           left='left', #CDS column for the left value of the bar\n",
    "           right='right', #CDS column for the right value of the bar\n",
    "           source=src,  #The ColumnDataSource (CDS)\n",
    "           fill_color='red', \n",
    "           line_color='black',\n",
    "           fill_alpha = 0.95,\n",
    "           hover_fill_alpha = 1.0, \n",
    "           hover_fill_color = 'orange')\n",
    "\n",
    "\n",
    "\n",
    "# Show the plot\n",
    "show(p)"
   ]
  },
  {
   "cell_type": "code",
   "execution_count": null,
   "metadata": {},
   "outputs": [],
   "source": [
    "p,r"
   ]
  },
  {
   "cell_type": "markdown",
   "metadata": {},
   "source": [
    "<br><br><br>\n",
    "<span style=\"color:blue;font-size:x-large\">let's functionalize this</span>\n",
    "<li>the function will return p (the plot)</li>\n",
    "<li>and the \"glyphrenderer\" object</li>\n",
    "<li>the glyphrenderer contains the data used by p</li>\n",
    "<li>updating the data will result in the graph being updated which will be useful later</li>"
   ]
  },
  {
   "cell_type": "markdown",
   "metadata": {},
   "source": [
    "<br><br><br>\n",
    "<span style=\"color:green;font-size:xx-large\">Active interactions</span>\n",
    "<li>active interactions allow the user to delve into the data by selecting parameters</li>\n",
    "<li>example, the user may want to bin by Agency (or Borough)</li>\n",
    "<li>or select bin sizes rather than rely on our 500 minute window</li>\n",
    "<li>or select periods of time and see how the histogram changes</li>"
   ]
  },
  {
   "cell_type": "markdown",
   "metadata": {},
   "source": [
    "<li>In this example, we'll let the user:</li>\n",
    "<ol>\n",
    "    <li>select an agency from a list of agencies</li>\n",
    "    <li>show binned processing time only for that agency</li>\n",
    "</ol>\n",
    "<li>the graph will change with each change in agency selection</li>"
   ]
  },
  {
   "cell_type": "markdown",
   "metadata": {},
   "source": [
    "<br><br><br>\n",
    "<span style=\"color:blue;font-size:x-large\">JavaScript callbacks</span>\n",
    "<li>changes to a page in a browser are made using JavaScript</li>\n",
    "<li>we can include javascript widgets directly in the chart using bokeh's callback feature</li>\n",
    "<li>the complication is that we can't call python functions from javascript</li>\n",
    "<li>nor can we refer to a dataframe from JavaScript because there is no json equivalent</li>\n",
    "<li>ColumnDataSource objects are fine though because they can be converted into JSON objects and arrays</li>\n",
    "<li>And these json objects/arrays can be passed to a javascript function</li>"
   ]
  },
  {
   "cell_type": "markdown",
   "metadata": {},
   "source": [
    "<b>Note:</b> While JavaScript is a full fledged language in its own right, we'll just use enough to make our graph interactive while keeping the process simple!"
   ]
  },
  {
   "cell_type": "markdown",
   "metadata": {},
   "source": [
    "<br><br><br>\n",
    "<span style=\"color:blue;font-size:x-large\">columndatasource</span>\n",
    "<li>each user selection (agency/bin size) requires data in a columndatasource object</li>\n",
    "<li>so we need a function that creates this columndatasource given an agency and a bin size</li>\n"
   ]
  },
  {
   "cell_type": "markdown",
   "metadata": {},
   "source": [
    "<br><br><br>\n",
    "<span style=\"color:blue;font-size:x-large\">dataframe for columndatasource</span>\n",
    "<li>Create a dataframe that will be converted into a bokeh ColumnDataSource object</li>\n",
    "<li>Each row corresponds to a bucket of the histogram</li>\n",
    "<li>Columns correspond to agencies</li>\n",
    "<li>Plus two additional columns for the left and right bin values for each bin</li>"
   ]
  },
  {
   "cell_type": "code",
   "execution_count": 36,
   "metadata": {},
   "outputs": [],
   "source": [
    "#Create a dataframe for conversion to ColumnDataSource\n",
    "#Upper and lower define the processing time bounds (aesthetic reasons!)\n",
    "\n",
    "def prepareDataForCDS(df,upper=1,lower=0.5,nbins=10):\n",
    "    df = df[(df['processing_days']<upper) & (df['processing_days']>lower)]\n",
    "    agencies = df['Agency'].unique()\n",
    "    \n",
    "    #get a common set of bins for all agencies\n",
    "\n",
    "    hist,bounds = np.histogram(df['processing_days'],bins=nbins)\n",
    "    left = bounds[:-1]\n",
    "    right = bounds[1:]\n",
    "    \n",
    "    #construct the initial dataframe with bin boundaries\n",
    "    #the index for this df is 0,1,..,nbins-1\n",
    "    #Initially, all it contains is columns for the left and right values\n",
    "    #We'll add each agency column to this data frame\n",
    "    final_df = pd.DataFrame({'left':left*24*60,'right':right*24*60})\n",
    "\n",
    "\n",
    "    #for each agency, compute the number of cases in each bin\n",
    "    #and concat this into final_df with the agency name as the column name\n",
    "    #note that the index will be 0,1,...,nbins-1 therefore concat will use indices\n",
    "    for agency in agencies:\n",
    "        #print(final_df.info())\n",
    "        a_df = df[df['Agency']==agency]\n",
    "        hist,bounds = np.histogram(a_df['processing_days'],bins=nbins)\n",
    "        hist_df = pd.DataFrame({agency: hist})\n",
    "        final_df = pd.concat([final_df,hist_df],axis=1)\n",
    "        \n",
    "    return final_df\n",
    "\n"
   ]
  },
  {
   "cell_type": "code",
   "execution_count": 37,
   "metadata": {},
   "outputs": [
    {
     "data": {
      "text/html": [
       "<div>\n",
       "<style scoped>\n",
       "    .dataframe tbody tr th:only-of-type {\n",
       "        vertical-align: middle;\n",
       "    }\n",
       "\n",
       "    .dataframe tbody tr th {\n",
       "        vertical-align: top;\n",
       "    }\n",
       "\n",
       "    .dataframe thead th {\n",
       "        text-align: right;\n",
       "    }\n",
       "</style>\n",
       "<table border=\"1\" class=\"dataframe\">\n",
       "  <thead>\n",
       "    <tr style=\"text-align: right;\">\n",
       "      <th></th>\n",
       "      <th>left</th>\n",
       "      <th>right</th>\n",
       "      <th>DHS</th>\n",
       "      <th>DOT</th>\n",
       "      <th>HPD</th>\n",
       "      <th>DSNY</th>\n",
       "      <th>NYPD</th>\n",
       "      <th>DEP</th>\n",
       "      <th>DOB</th>\n",
       "      <th>DPR</th>\n",
       "      <th>DCA</th>\n",
       "      <th>DOHMH</th>\n",
       "      <th>DOE</th>\n",
       "      <th>OTI</th>\n",
       "      <th>TLC</th>\n",
       "    </tr>\n",
       "  </thead>\n",
       "  <tbody>\n",
       "    <tr>\n",
       "      <th>0</th>\n",
       "      <td>720.066667</td>\n",
       "      <td>792.058333</td>\n",
       "      <td>125</td>\n",
       "      <td>476</td>\n",
       "      <td>809</td>\n",
       "      <td>135</td>\n",
       "      <td>729</td>\n",
       "      <td>282</td>\n",
       "      <td>464</td>\n",
       "      <td>35</td>\n",
       "      <td>29</td>\n",
       "      <td>138</td>\n",
       "      <td>1</td>\n",
       "      <td>1</td>\n",
       "      <td>0</td>\n",
       "    </tr>\n",
       "    <tr>\n",
       "      <th>1</th>\n",
       "      <td>792.058333</td>\n",
       "      <td>864.050000</td>\n",
       "      <td>119</td>\n",
       "      <td>553</td>\n",
       "      <td>769</td>\n",
       "      <td>194</td>\n",
       "      <td>512</td>\n",
       "      <td>292</td>\n",
       "      <td>474</td>\n",
       "      <td>49</td>\n",
       "      <td>44</td>\n",
       "      <td>158</td>\n",
       "      <td>1</td>\n",
       "      <td>1</td>\n",
       "      <td>0</td>\n",
       "    </tr>\n",
       "    <tr>\n",
       "      <th>2</th>\n",
       "      <td>864.050000</td>\n",
       "      <td>936.041667</td>\n",
       "      <td>105</td>\n",
       "      <td>649</td>\n",
       "      <td>728</td>\n",
       "      <td>244</td>\n",
       "      <td>297</td>\n",
       "      <td>319</td>\n",
       "      <td>307</td>\n",
       "      <td>90</td>\n",
       "      <td>60</td>\n",
       "      <td>116</td>\n",
       "      <td>5</td>\n",
       "      <td>0</td>\n",
       "      <td>0</td>\n",
       "    </tr>\n",
       "    <tr>\n",
       "      <th>3</th>\n",
       "      <td>936.041667</td>\n",
       "      <td>1008.033333</td>\n",
       "      <td>84</td>\n",
       "      <td>650</td>\n",
       "      <td>839</td>\n",
       "      <td>328</td>\n",
       "      <td>157</td>\n",
       "      <td>366</td>\n",
       "      <td>121</td>\n",
       "      <td>108</td>\n",
       "      <td>67</td>\n",
       "      <td>129</td>\n",
       "      <td>5</td>\n",
       "      <td>0</td>\n",
       "      <td>0</td>\n",
       "    </tr>\n",
       "    <tr>\n",
       "      <th>4</th>\n",
       "      <td>1008.033333</td>\n",
       "      <td>1080.025000</td>\n",
       "      <td>126</td>\n",
       "      <td>848</td>\n",
       "      <td>935</td>\n",
       "      <td>469</td>\n",
       "      <td>147</td>\n",
       "      <td>334</td>\n",
       "      <td>46</td>\n",
       "      <td>158</td>\n",
       "      <td>97</td>\n",
       "      <td>129</td>\n",
       "      <td>2</td>\n",
       "      <td>0</td>\n",
       "      <td>0</td>\n",
       "    </tr>\n",
       "    <tr>\n",
       "      <th>5</th>\n",
       "      <td>1080.025000</td>\n",
       "      <td>1152.016667</td>\n",
       "      <td>103</td>\n",
       "      <td>968</td>\n",
       "      <td>985</td>\n",
       "      <td>592</td>\n",
       "      <td>79</td>\n",
       "      <td>334</td>\n",
       "      <td>8</td>\n",
       "      <td>126</td>\n",
       "      <td>133</td>\n",
       "      <td>115</td>\n",
       "      <td>7</td>\n",
       "      <td>0</td>\n",
       "      <td>1</td>\n",
       "    </tr>\n",
       "    <tr>\n",
       "      <th>6</th>\n",
       "      <td>1152.016667</td>\n",
       "      <td>1224.008333</td>\n",
       "      <td>80</td>\n",
       "      <td>1023</td>\n",
       "      <td>1175</td>\n",
       "      <td>709</td>\n",
       "      <td>97</td>\n",
       "      <td>431</td>\n",
       "      <td>7</td>\n",
       "      <td>114</td>\n",
       "      <td>117</td>\n",
       "      <td>87</td>\n",
       "      <td>6</td>\n",
       "      <td>1</td>\n",
       "      <td>0</td>\n",
       "    </tr>\n",
       "    <tr>\n",
       "      <th>7</th>\n",
       "      <td>1224.008333</td>\n",
       "      <td>1296.000000</td>\n",
       "      <td>74</td>\n",
       "      <td>1081</td>\n",
       "      <td>1385</td>\n",
       "      <td>808</td>\n",
       "      <td>178</td>\n",
       "      <td>409</td>\n",
       "      <td>7</td>\n",
       "      <td>130</td>\n",
       "      <td>133</td>\n",
       "      <td>86</td>\n",
       "      <td>10</td>\n",
       "      <td>1</td>\n",
       "      <td>0</td>\n",
       "    </tr>\n",
       "    <tr>\n",
       "      <th>8</th>\n",
       "      <td>1296.000000</td>\n",
       "      <td>1367.991667</td>\n",
       "      <td>53</td>\n",
       "      <td>1168</td>\n",
       "      <td>1505</td>\n",
       "      <td>960</td>\n",
       "      <td>65</td>\n",
       "      <td>437</td>\n",
       "      <td>28</td>\n",
       "      <td>156</td>\n",
       "      <td>130</td>\n",
       "      <td>96</td>\n",
       "      <td>5</td>\n",
       "      <td>0</td>\n",
       "      <td>0</td>\n",
       "    </tr>\n",
       "    <tr>\n",
       "      <th>9</th>\n",
       "      <td>1367.991667</td>\n",
       "      <td>1439.983333</td>\n",
       "      <td>56</td>\n",
       "      <td>960</td>\n",
       "      <td>1710</td>\n",
       "      <td>951</td>\n",
       "      <td>80</td>\n",
       "      <td>356</td>\n",
       "      <td>27</td>\n",
       "      <td>155</td>\n",
       "      <td>112</td>\n",
       "      <td>71</td>\n",
       "      <td>4</td>\n",
       "      <td>2</td>\n",
       "      <td>0</td>\n",
       "    </tr>\n",
       "  </tbody>\n",
       "</table>\n",
       "</div>"
      ],
      "text/plain": [
       "          left        right  DHS   DOT   HPD  DSNY  NYPD  DEP  DOB  DPR  DCA  \\\n",
       "0   720.066667   792.058333  125   476   809   135   729  282  464   35   29   \n",
       "1   792.058333   864.050000  119   553   769   194   512  292  474   49   44   \n",
       "2   864.050000   936.041667  105   649   728   244   297  319  307   90   60   \n",
       "3   936.041667  1008.033333   84   650   839   328   157  366  121  108   67   \n",
       "4  1008.033333  1080.025000  126   848   935   469   147  334   46  158   97   \n",
       "5  1080.025000  1152.016667  103   968   985   592    79  334    8  126  133   \n",
       "6  1152.016667  1224.008333   80  1023  1175   709    97  431    7  114  117   \n",
       "7  1224.008333  1296.000000   74  1081  1385   808   178  409    7  130  133   \n",
       "8  1296.000000  1367.991667   53  1168  1505   960    65  437   28  156  130   \n",
       "9  1367.991667  1439.983333   56   960  1710   951    80  356   27  155  112   \n",
       "\n",
       "   DOHMH  DOE  OTI  TLC  \n",
       "0    138    1    1    0  \n",
       "1    158    1    1    0  \n",
       "2    116    5    0    0  \n",
       "3    129    5    0    0  \n",
       "4    129    2    0    0  \n",
       "5    115    7    0    1  \n",
       "6     87    6    1    0  \n",
       "7     86   10    1    0  \n",
       "8     96    5    0    0  \n",
       "9     71    4    2    0  "
      ]
     },
     "execution_count": 37,
     "metadata": {},
     "output_type": "execute_result"
    }
   ],
   "source": [
    "prepareDataForCDS(df,upper=1,lower=0.5,nbins=10)"
   ]
  },
  {
   "cell_type": "markdown",
   "metadata": {},
   "source": [
    "<br><br><br>\n",
    "<span style=\"color:blue;font-size:x-large\">Interactivity</span>\n",
    "<li>Requires a dropdown box to get the user selection</li>\n",
    "<li>Requires JavaScript code to change the underlying data when the user selects a new agency</li>\n",
    "<li>The way this works is as follows:</li>\n",
    "<ul>\n",
    "    <li>Specify a column that contains the data to be displayed</li>\n",
    "    <li>display this column</li>\n",
    "    <li>when the user selects a new column, copy the contents of the new column into the display column</li>\n",
    "    <li>and tell the graph to reflect the changed values</li>\n",
    "</ul>\n",
    "<li>We'll add a new column <span style=\"color:blue\">display</span> for storing data to be displayed</li>\n",
    "<li>We'll use the <span style=\"color:green\">dropdown</span> widget to display the selectable list of agencies. Many more <a href=\"https://docs.bokeh.org/en/latest/docs/user_guide/interaction/widgets.html\">widgets are available</a></li>"
   ]
  },
  {
   "cell_type": "code",
   "execution_count": 43,
   "metadata": {
    "scrolled": true
   },
   "outputs": [
    {
     "data": {
      "text/html": [
       "\n",
       "  <div class=\"bk-root\" id=\"f45af0f5-97bd-49bc-a7c7-9c5d14eb6391\" data-root-id=\"6051\"></div>\n"
      ]
     },
     "metadata": {},
     "output_type": "display_data"
    },
    {
     "data": {
      "application/javascript": "(function(root) {\n  function embed_document(root) {\n  const docs_json = {\"b841a2e8-7cc7-41b4-96f5-7da193229d47\":{\"defs\":[],\"roots\":{\"references\":[{\"attributes\":{\"children\":[{\"id\":\"6007\"},{\"id\":\"6050\"}]},\"id\":\"6051\",\"type\":\"Row\"},{\"attributes\":{\"callback\":null,\"tooltips\":[[\"number of cases\",\"@display\"],[\"left (minutes)\",\"@left{s}\"],[\"right (minutes)\",\"@right{s}\"]]},\"id\":\"6033\",\"type\":\"HoverTool\"},{\"attributes\":{\"coordinates\":null,\"data_source\":{\"id\":\"6006\"},\"glyph\":{\"id\":\"6043\"},\"group\":null,\"hover_glyph\":{\"id\":\"6045\"},\"muted_glyph\":{\"id\":\"6046\"},\"nonselection_glyph\":{\"id\":\"6044\"},\"view\":{\"id\":\"6048\"}},\"id\":\"6047\",\"type\":\"GlyphRenderer\"},{\"attributes\":{},\"id\":\"6328\",\"type\":\"Selection\"},{\"attributes\":{},\"id\":\"6031\",\"type\":\"HelpTool\"},{\"attributes\":{\"axis\":{\"id\":\"6022\"},\"coordinates\":null,\"dimension\":1,\"group\":null,\"ticker\":null},\"id\":\"6025\",\"type\":\"Grid\"},{\"attributes\":{\"axis\":{\"id\":\"6018\"},\"coordinates\":null,\"group\":null,\"ticker\":null},\"id\":\"6021\",\"type\":\"Grid\"},{\"attributes\":{},\"id\":\"6322\",\"type\":\"BasicTickFormatter\"},{\"attributes\":{\"axis_label\":\"number of cases\",\"coordinates\":null,\"formatter\":{\"id\":\"6322\"},\"group\":null,\"major_label_policy\":{\"id\":\"6323\"},\"ticker\":{\"id\":\"6023\"}},\"id\":\"6022\",\"type\":\"LinearAxis\"},{\"attributes\":{},\"id\":\"6027\",\"type\":\"WheelZoomTool\"},{\"attributes\":{},\"id\":\"6030\",\"type\":\"ResetTool\"},{\"attributes\":{\"bottom\":{\"value\":0},\"fill_alpha\":{\"value\":0.2},\"fill_color\":{\"value\":\"red\"},\"hatch_alpha\":{\"value\":0.2},\"left\":{\"field\":\"left\"},\"line_alpha\":{\"value\":0.2},\"right\":{\"field\":\"right\"},\"top\":{\"field\":\"display\"}},\"id\":\"6046\",\"type\":\"Quad\"},{\"attributes\":{},\"id\":\"6023\",\"type\":\"BasicTicker\"},{\"attributes\":{},\"id\":\"6325\",\"type\":\"BasicTickFormatter\"},{\"attributes\":{},\"id\":\"6019\",\"type\":\"BasicTicker\"},{\"attributes\":{\"button_type\":\"primary\",\"icon\":null,\"js_event_callbacks\":{\"menu_item_click\":[{\"id\":\"6049\"}]},\"label\":\"select agency\",\"menu\":[[\"Agency NYPD\",\"NYPD\"],[\"Agency DOT\",\"DOT\"],[\"Agency DEP\",\"DEP\"],[\"Agency DOB\",\"DOB\"],[\"Agency HPD\",\"HPD\"],[\"Agency DPR\",\"DPR\"],[\"Agency DHS\",\"DHS\"],[\"Agency DSNY\",\"DSNY\"],[\"Agency DOHMH\",\"DOHMH\"],[\"Agency DOE\",\"DOE\"],[\"Agency DCA\",\"DCA\"],[\"Agency OTI\",\"OTI\"],[\"Agency TLC\",\"TLC\"]]},\"id\":\"6050\",\"type\":\"Dropdown\"},{\"attributes\":{},\"id\":\"6323\",\"type\":\"AllLabels\"},{\"attributes\":{\"bottom_units\":\"screen\",\"coordinates\":null,\"fill_alpha\":0.5,\"fill_color\":\"lightgrey\",\"group\":null,\"left_units\":\"screen\",\"level\":\"overlay\",\"line_alpha\":1.0,\"line_color\":\"black\",\"line_dash\":[4,4],\"line_width\":2,\"right_units\":\"screen\",\"syncable\":false,\"top_units\":\"screen\"},\"id\":\"6032\",\"type\":\"BoxAnnotation\"},{\"attributes\":{\"below\":[{\"id\":\"6018\"}],\"center\":[{\"id\":\"6021\"},{\"id\":\"6025\"}],\"height\":300,\"left\":[{\"id\":\"6022\"}],\"renderers\":[{\"id\":\"6047\"}],\"title\":{\"id\":\"6008\"},\"toolbar\":{\"id\":\"6034\"},\"x_range\":{\"id\":\"6010\"},\"x_scale\":{\"id\":\"6014\"},\"y_range\":{\"id\":\"6012\"},\"y_scale\":{\"id\":\"6016\"}},\"id\":\"6007\",\"subtype\":\"Figure\",\"type\":\"Plot\"},{\"attributes\":{},\"id\":\"6026\",\"type\":\"PanTool\"},{\"attributes\":{\"data\":{\"DCA\":[29,44,60,67,97,133,117,133,130,112],\"DEP\":[282,292,319,366,334,334,431,409,437,356],\"DHS\":[125,119,105,84,126,103,80,74,53,56],\"DOB\":[464,474,307,121,46,8,7,7,28,27],\"DOE\":[1,1,5,5,2,7,6,10,5,4],\"DOHMH\":[138,158,116,129,129,115,87,86,96,71],\"DOT\":[476,553,649,650,848,968,1023,1081,1168,960],\"DPR\":[35,49,90,108,158,126,114,130,156,155],\"DSNY\":[135,194,244,328,469,592,709,808,960,951],\"HPD\":[809,769,728,839,935,985,1175,1385,1505,1710],\"NYPD\":[729,512,297,157,147,79,97,178,65,80],\"OTI\":[1,1,0,0,0,0,1,1,0,2],\"TLC\":[0,0,0,0,0,1,0,0,0,0],\"display\":[476,553,649,650,848,968,1023,1081,1168,960],\"index\":[0,1,2,3,4,5,6,7,8,9],\"left\":{\"__ndarray__\":\"iYiIiIiAhkB4d3d3d8CIQGZmZmZmAItAVFVVVVVAjUBERERERICPQJqZmZkZ4JBAEREREREAkkCJiIiICCCTQAAAAAAAQJRAeHd3d/dflUA=\",\"dtype\":\"float64\",\"order\":\"little\",\"shape\":[10]},\"right\":{\"__ndarray__\":\"eHd3d3fAiEBmZmZmZgCLQFRVVVVVQI1ARERERESAj0CamZmZGeCQQBERERERAJJAiYiIiAggk0AAAAAAAECUQHh3d3f3X5VA8O7u7u5/lkA=\",\"dtype\":\"float64\",\"order\":\"little\",\"shape\":[10]}},\"selected\":{\"id\":\"6328\"},\"selection_policy\":{\"id\":\"6327\"}},\"id\":\"6006\",\"type\":\"ColumnDataSource\"},{\"attributes\":{\"overlay\":{\"id\":\"6032\"}},\"id\":\"6028\",\"type\":\"BoxZoomTool\"},{\"attributes\":{\"tools\":[{\"id\":\"6026\"},{\"id\":\"6027\"},{\"id\":\"6028\"},{\"id\":\"6029\"},{\"id\":\"6030\"},{\"id\":\"6031\"},{\"id\":\"6033\"}]},\"id\":\"6034\",\"type\":\"Toolbar\"},{\"attributes\":{\"args\":{\"srce\":{\"id\":\"6006\"}},\"code\":\"\\n        // widget. this.item is the selected value\\n        // We can print it on the JavaScript console\\n        // Chrome windows/linux: Ctrl - Shift - J\\n        // Chrome mac: Cmd - Option - J\\n        // Safari: Option - Cmd - C\\n        \\n        //console.log logs (prints) in the JavaScript console\\n        console.log(' changed selected option', this.item);\\n\\n        //data is the variable containing all the data\\n        //source was passed in as an argument\\n        let data = srce.data;\\n\\n        // allocate the selected column to the field for the y values\\n        data['display'] = data[this.item];\\n\\n        // register the change \\n        srce.change.emit();\\n\"},\"id\":\"6049\",\"type\":\"CustomJS\"},{\"attributes\":{},\"id\":\"6012\",\"type\":\"DataRange1d\"},{\"attributes\":{},\"id\":\"6327\",\"type\":\"UnionRenderers\"},{\"attributes\":{\"bottom\":{\"value\":0},\"fill_alpha\":{\"value\":0.1},\"fill_color\":{\"value\":\"red\"},\"hatch_alpha\":{\"value\":0.1},\"left\":{\"field\":\"left\"},\"line_alpha\":{\"value\":0.1},\"right\":{\"field\":\"right\"},\"top\":{\"field\":\"display\"}},\"id\":\"6044\",\"type\":\"Quad\"},{\"attributes\":{},\"id\":\"6326\",\"type\":\"AllLabels\"},{\"attributes\":{},\"id\":\"6010\",\"type\":\"DataRange1d\"},{\"attributes\":{},\"id\":\"6016\",\"type\":\"LinearScale\"},{\"attributes\":{},\"id\":\"6029\",\"type\":\"SaveTool\"},{\"attributes\":{},\"id\":\"6014\",\"type\":\"LinearScale\"},{\"attributes\":{\"coordinates\":null,\"group\":null,\"text\":\"Histogram of cases by processing times\"},\"id\":\"6008\",\"type\":\"Title\"},{\"attributes\":{\"bottom\":{\"value\":0},\"fill_color\":{\"value\":\"navy\"},\"left\":{\"field\":\"left\"},\"right\":{\"field\":\"right\"},\"top\":{\"field\":\"display\"}},\"id\":\"6045\",\"type\":\"Quad\"},{\"attributes\":{\"source\":{\"id\":\"6006\"}},\"id\":\"6048\",\"type\":\"CDSView\"},{\"attributes\":{\"axis_label\":\"time buckets\",\"coordinates\":null,\"formatter\":{\"id\":\"6325\"},\"group\":null,\"major_label_policy\":{\"id\":\"6326\"},\"ticker\":{\"id\":\"6019\"}},\"id\":\"6018\",\"type\":\"LinearAxis\"},{\"attributes\":{\"bottom\":{\"value\":0},\"fill_alpha\":{\"value\":0.75},\"fill_color\":{\"value\":\"red\"},\"left\":{\"field\":\"left\"},\"right\":{\"field\":\"right\"},\"top\":{\"field\":\"display\"}},\"id\":\"6043\",\"type\":\"Quad\"}],\"root_ids\":[\"6051\"]},\"title\":\"Bokeh Application\",\"version\":\"2.4.3\"}};\n  const render_items = [{\"docid\":\"b841a2e8-7cc7-41b4-96f5-7da193229d47\",\"root_ids\":[\"6051\"],\"roots\":{\"6051\":\"f45af0f5-97bd-49bc-a7c7-9c5d14eb6391\"}}];\n  root.Bokeh.embed.embed_items_notebook(docs_json, render_items);\n  }\n  if (root.Bokeh !== undefined) {\n    embed_document(root);\n  } else {\n    let attempts = 0;\n    const timer = setInterval(function(root) {\n      if (root.Bokeh !== undefined) {\n        clearInterval(timer);\n        embed_document(root);\n      } else {\n        attempts++;\n        if (attempts > 100) {\n          clearInterval(timer);\n          console.log(\"Bokeh: ERROR: Unable to run BokehJS code because BokehJS library is missing\");\n        }\n      }\n    }, 10, root)\n  }\n})(window);",
      "application/vnd.bokehjs_exec.v0+json": ""
     },
     "metadata": {
      "application/vnd.bokehjs_exec.v0+json": {
       "id": "6051"
      }
     },
     "output_type": "display_data"
    }
   ],
   "source": [
    "#row will allow placing the graph and the widget side by side\n",
    "from bokeh.layouts import row\n",
    "\n",
    "#import the dropdown widget along with CustomJS, bokeh's JavaScript library\n",
    "from bokeh.models import CustomJS, ColumnDataSource, Dropdown\n",
    "\n",
    "list_of_agencies=df['Agency'].unique()\n",
    "\n",
    "#Get the dataframe\n",
    "interactive_df = prepareDataForCDS(df)\n",
    "\n",
    "#add a new column to the object called 'display'\n",
    "#when the user selects a new agency, we'll copy that agency's data into this column\n",
    "#the histogram will display whatever is in this column\n",
    "\n",
    "#Arbitrarly pick an agency and copy it into this column\n",
    "\n",
    "interactive_df['display'] = interactive_df['DOT']\n",
    "\n",
    "#create a ColumnDataSource object.\n",
    "#This is the source for the graph\n",
    "source = ColumnDataSource(interactive_df)\n",
    "\n",
    "#construct the graph (but don't \"show\" it)\n",
    "#note that the display column is \"display\" not \"cases\" as before\n",
    "\n",
    "tooltips = [\n",
    "    (\"number of cases\", \"@display\"),\n",
    "    (\"left (minutes)\", \"@left{s}\"),\n",
    "    (\"right (minutes)\", \"@right{s}\"),\n",
    "]\n",
    "    \n",
    "p = figure(plot_height = 300, plot_width = 600, \n",
    "           title = 'Histogram of cases by processing times',\n",
    "          x_axis_label = 'time buckets', \n",
    "           y_axis_label = 'number of cases',tooltips=tooltips)\n",
    "\n",
    "p.quad(bottom=0,\n",
    "       top='display', left='left', right='right',source=source,\n",
    "       fill_color='red', line_color='black',fill_alpha = 0.75,\n",
    "       hover_fill_alpha = 1.0, hover_fill_color = 'navy')\n",
    "\n",
    "#Create a javascript callback as a call to CustomJS\n",
    "#arguments are the data (the source)\n",
    "#and a string containing the JavaScript code\n",
    "\n",
    "#this.item is the selected value (returned by the dropdown widget)\n",
    "#\"this\" is a javascript identifier that self identifies an object (the dropdown widget)\n",
    "#'item' is the value selected in the dropdown\n",
    "#Note that different widgets may use this.value or this.some_other_name for a widget value\n",
    "#create a variable that holds the data in source\n",
    "#replace the display column in the data by the column for the selected agency\n",
    "#register the change (emit it!)\n",
    "jscallback = CustomJS(args={'srce':source},code=\"\"\"\n",
    "        // widget. this.item is the selected value\n",
    "        // We can print it on the JavaScript console\n",
    "        // Chrome windows/linux: Ctrl - Shift - J\n",
    "        // Chrome mac: Cmd - Option - J\n",
    "        // Safari: Option - Cmd - C\n",
    "        \n",
    "        //console.log logs (prints) in the JavaScript console\n",
    "        console.log(' changed selected option', this.item);\n",
    "\n",
    "        //data is the variable containing all the data\n",
    "        //source was passed in as an argument\n",
    "        let data = srce.data;\n",
    "\n",
    "        // allocate the selected column to the field for the y values\n",
    "        data['display'] = data[this.item];\n",
    "\n",
    "        // register the change \n",
    "        srce.change.emit();\n",
    "\"\"\")\n",
    "\n",
    "#Create the dropdown widget\n",
    "#the widget contains a menu in the form of a list of tuples\n",
    "#(long name, value to be returned)\n",
    "#the widget has a callback argument. Use the jscallback as the value of this argument\n",
    "\n",
    "menu = [(\"Agency \" + x,x) for x in list_of_agencies]\n",
    "\n",
    "dropdown = Dropdown(label=\"select agency\", button_type=\"primary\", menu=menu)\n",
    "\n",
    "#Note that jscallback must be defined before the button!\n",
    "dropdown.js_on_event(\"menu_item_click\", jscallback)\n",
    "\n",
    "#construct a row object containing the plot and the widget\n",
    "layout = row(p,dropdown)\n",
    "\n",
    "#show it!\n",
    "show(layout)\n",
    "\n",
    "\n",
    "\n"
   ]
  },
  {
   "cell_type": "code",
   "execution_count": null,
   "metadata": {},
   "outputs": [],
   "source": []
  }
 ],
 "metadata": {
  "kernelspec": {
   "display_name": "base",
   "language": "python",
   "name": "python3"
  },
  "language_info": {
   "codemirror_mode": {
    "name": "ipython",
    "version": 3
   },
   "file_extension": ".py",
   "mimetype": "text/x-python",
   "name": "python",
   "nbconvert_exporter": "python",
   "pygments_lexer": "ipython3",
   "version": "3.9.12"
  },
  "toc": {
   "base_numbering": 1,
   "nav_menu": {},
   "number_sections": true,
   "sideBar": true,
   "skip_h1_title": false,
   "title_cell": "Table of Contents",
   "title_sidebar": "Contents",
   "toc_cell": false,
   "toc_position": {},
   "toc_section_display": true,
   "toc_window_display": false
  },
  "vscode": {
   "interpreter": {
    "hash": "81d5b4a19a276010183013345b38f7d9b6c479ab07551a9ca40dd13abdbac5b2"
   }
  }
 },
 "nbformat": 4,
 "nbformat_minor": 2
}
