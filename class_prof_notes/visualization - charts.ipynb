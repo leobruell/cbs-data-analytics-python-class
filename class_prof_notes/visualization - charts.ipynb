{
 "cells": [
  {
   "cell_type": "markdown",
   "metadata": {},
   "source": [
    "<br><br><br><br>\n",
    "<span style=\"color:red;font-size:60px\">Charts and graphs</span>\n",
    "<br><br>\n",
    "<li><span style=\"color:green\">matplotlib </span>Python's integrated plotting library</li>\n",
    "<li><span style=\"color:green\">bokeh </span>Interactive plotting library</li>\n"
   ]
  },
  {
   "cell_type": "markdown",
   "metadata": {},
   "source": [
    "<br><br><br><br>\n",
    "<span style=\"color:blue;font-size:large\">matplotlib</span>\n",
    "<li><a href=\"https://matplotlib.org\">https://matplotlib.org</a></li>\n",
    "<li>easy to use and tight coupling with pandas</li>\n"
   ]
  },
  {
   "cell_type": "markdown",
   "metadata": {},
   "source": [
    "<br><br><br><br>\n",
    "<span style=\"color:blue;font-size:large\">bokeh</span>\n",
    "<li><a href=\"https://docs.bokeh.org/en/latest/\">https://docs.bokeh.org/en/latest/</a></li>\n",
    "<li>interactive plotting, growing mapping functionality, presentation ready graphs</li>\n",
    "<li>requires a bit more work</li>\n"
   ]
  },
  {
   "cell_type": "markdown",
   "metadata": {},
   "source": [
    "<br><br><br><br>\n",
    "<span style=\"color:blue;font-size:large\">What kinds of visuals are possible</span>\n",
    "<li>Tons and tons</li>\n",
    "<li>Best approach: think of how you want to show your data or results and then google till you find the right way to do it</li>\n",
    "<li><b>Almost anything is possible!</b></li>"
   ]
  },
  {
   "cell_type": "markdown",
   "metadata": {},
   "source": [
    "<br><br><br><br>\n",
    "<span style=\"color:green;font-size:xx-large\">setup</span>\n",
    "<br><br>\n",
    "<li><b>Important</b>: We will use version 2.4.3 rather than the latest (3.0.3). The latter has bugs working with Jupyter notebooks (set to be fixed in version 3.1)</li>\n",
    "<li>!pip install bokeh</li>\n",
    "<li>OR</li>\n",
    "<li>!conda install --yes bokeh</li>\n",
    "<li>matplotlib comes pre-installed with anaconda</li>\n",
    "<li>In the notebook, select \"File --> Trust notebook\" from the menubar. Your graphs will be available when you reopen the notebook"
   ]
  },
  {
   "cell_type": "code",
   "execution_count": 2,
   "metadata": {},
   "outputs": [
    {
     "name": "stdout",
     "output_type": "stream",
     "text": [
      "Requirement already satisfied: bokeh==2.4.3 in /home/leo/anaconda3/lib/python3.9/site-packages (2.4.3)\n",
      "Requirement already satisfied: pillow>=7.1.0 in /home/leo/anaconda3/lib/python3.9/site-packages (from bokeh==2.4.3) (9.3.0)\n",
      "Requirement already satisfied: Jinja2>=2.9 in /home/leo/anaconda3/lib/python3.9/site-packages (from bokeh==2.4.3) (2.11.3)\n",
      "Requirement already satisfied: packaging>=16.8 in /home/leo/anaconda3/lib/python3.9/site-packages (from bokeh==2.4.3) (22.0)\n",
      "Requirement already satisfied: PyYAML>=3.10 in /home/leo/anaconda3/lib/python3.9/site-packages (from bokeh==2.4.3) (6.0)\n",
      "Requirement already satisfied: tornado>=5.1 in /home/leo/anaconda3/lib/python3.9/site-packages (from bokeh==2.4.3) (6.2)\n",
      "Requirement already satisfied: numpy>=1.11.3 in /home/leo/anaconda3/lib/python3.9/site-packages (from bokeh==2.4.3) (1.24.1)\n",
      "Requirement already satisfied: typing-extensions>=3.10.0 in /home/leo/anaconda3/lib/python3.9/site-packages (from bokeh==2.4.3) (4.4.0)\n",
      "Requirement already satisfied: MarkupSafe>=0.23 in /home/leo/anaconda3/lib/python3.9/site-packages (from Jinja2>=2.9->bokeh==2.4.3) (2.0.1)\n"
     ]
    }
   ],
   "source": [
    "!pip install bokeh==2.4.3"
   ]
  },
  {
   "cell_type": "code",
   "execution_count": 3,
   "metadata": {},
   "outputs": [
    {
     "data": {
      "text/plain": [
       "'2.4.3'"
      ]
     },
     "execution_count": 3,
     "metadata": {},
     "output_type": "execute_result"
    }
   ],
   "source": [
    "import bokeh\n",
    "bokeh.__version__ "
   ]
  },
  {
   "cell_type": "markdown",
   "metadata": {},
   "source": [
    "<br><br><br><br>\n",
    "<span style=\"color:green;font-size:50px\">Interactive charts with bokeh</span>\n",
    "<br><br>"
   ]
  },
  {
   "cell_type": "markdown",
   "metadata": {},
   "source": [
    "<br><br><br><br>\n",
    "<span style=\"color:blue;font-size:large\">bokeh</span>\n",
    "<li>import libraries</li>\n",
    "<li>run output_notebook() to display charts inline</li>\n",
    "<li>output_notebook() should say \"BokehJS 2.4.3 successfully loaded.\" (or something went wrong!)</li>"
   ]
  },
  {
   "cell_type": "code",
   "execution_count": 4,
   "metadata": {},
   "outputs": [],
   "source": [
    "#output_notebook for inline charts in a notebook\n",
    "#show to show a chart\n",
    "from bokeh.io import output_notebook, show \n",
    "from bokeh.plotting import figure"
   ]
  },
  {
   "cell_type": "code",
   "execution_count": 5,
   "metadata": {},
   "outputs": [
    {
     "data": {
      "text/html": [
       "<div class=\"bk-root\">\n",
       "        <a href=\"https://bokeh.org\" target=\"_blank\" class=\"bk-logo bk-logo-small bk-logo-notebook\"></a>\n",
       "        <span id=\"1002\">Loading BokehJS ...</span>\n",
       "    </div>\n"
      ]
     },
     "metadata": {},
     "output_type": "display_data"
    },
    {
     "data": {
      "application/javascript": "(function(root) {\n  function now() {\n    return new Date();\n  }\n\n  const force = true;\n\n  if (typeof root._bokeh_onload_callbacks === \"undefined\" || force === true) {\n    root._bokeh_onload_callbacks = [];\n    root._bokeh_is_loading = undefined;\n  }\n\nconst JS_MIME_TYPE = 'application/javascript';\n  const HTML_MIME_TYPE = 'text/html';\n  const EXEC_MIME_TYPE = 'application/vnd.bokehjs_exec.v0+json';\n  const CLASS_NAME = 'output_bokeh rendered_html';\n\n  /**\n   * Render data to the DOM node\n   */\n  function render(props, node) {\n    const script = document.createElement(\"script\");\n    node.appendChild(script);\n  }\n\n  /**\n   * Handle when an output is cleared or removed\n   */\n  function handleClearOutput(event, handle) {\n    const cell = handle.cell;\n\n    const id = cell.output_area._bokeh_element_id;\n    const server_id = cell.output_area._bokeh_server_id;\n    // Clean up Bokeh references\n    if (id != null && id in Bokeh.index) {\n      Bokeh.index[id].model.document.clear();\n      delete Bokeh.index[id];\n    }\n\n    if (server_id !== undefined) {\n      // Clean up Bokeh references\n      const cmd_clean = \"from bokeh.io.state import curstate; print(curstate().uuid_to_server['\" + server_id + \"'].get_sessions()[0].document.roots[0]._id)\";\n      cell.notebook.kernel.execute(cmd_clean, {\n        iopub: {\n          output: function(msg) {\n            const id = msg.content.text.trim();\n            if (id in Bokeh.index) {\n              Bokeh.index[id].model.document.clear();\n              delete Bokeh.index[id];\n            }\n          }\n        }\n      });\n      // Destroy server and session\n      const cmd_destroy = \"import bokeh.io.notebook as ion; ion.destroy_server('\" + server_id + \"')\";\n      cell.notebook.kernel.execute(cmd_destroy);\n    }\n  }\n\n  /**\n   * Handle when a new output is added\n   */\n  function handleAddOutput(event, handle) {\n    const output_area = handle.output_area;\n    const output = handle.output;\n\n    // limit handleAddOutput to display_data with EXEC_MIME_TYPE content only\n    if ((output.output_type != \"display_data\") || (!Object.prototype.hasOwnProperty.call(output.data, EXEC_MIME_TYPE))) {\n      return\n    }\n\n    const toinsert = output_area.element.find(\".\" + CLASS_NAME.split(' ')[0]);\n\n    if (output.metadata[EXEC_MIME_TYPE][\"id\"] !== undefined) {\n      toinsert[toinsert.length - 1].firstChild.textContent = output.data[JS_MIME_TYPE];\n      // store reference to embed id on output_area\n      output_area._bokeh_element_id = output.metadata[EXEC_MIME_TYPE][\"id\"];\n    }\n    if (output.metadata[EXEC_MIME_TYPE][\"server_id\"] !== undefined) {\n      const bk_div = document.createElement(\"div\");\n      bk_div.innerHTML = output.data[HTML_MIME_TYPE];\n      const script_attrs = bk_div.children[0].attributes;\n      for (let i = 0; i < script_attrs.length; i++) {\n        toinsert[toinsert.length - 1].firstChild.setAttribute(script_attrs[i].name, script_attrs[i].value);\n        toinsert[toinsert.length - 1].firstChild.textContent = bk_div.children[0].textContent\n      }\n      // store reference to server id on output_area\n      output_area._bokeh_server_id = output.metadata[EXEC_MIME_TYPE][\"server_id\"];\n    }\n  }\n\n  function register_renderer(events, OutputArea) {\n\n    function append_mime(data, metadata, element) {\n      // create a DOM node to render to\n      const toinsert = this.create_output_subarea(\n        metadata,\n        CLASS_NAME,\n        EXEC_MIME_TYPE\n      );\n      this.keyboard_manager.register_events(toinsert);\n      // Render to node\n      const props = {data: data, metadata: metadata[EXEC_MIME_TYPE]};\n      render(props, toinsert[toinsert.length - 1]);\n      element.append(toinsert);\n      return toinsert\n    }\n\n    /* Handle when an output is cleared or removed */\n    events.on('clear_output.CodeCell', handleClearOutput);\n    events.on('delete.Cell', handleClearOutput);\n\n    /* Handle when a new output is added */\n    events.on('output_added.OutputArea', handleAddOutput);\n\n    /**\n     * Register the mime type and append_mime function with output_area\n     */\n    OutputArea.prototype.register_mime_type(EXEC_MIME_TYPE, append_mime, {\n      /* Is output safe? */\n      safe: true,\n      /* Index of renderer in `output_area.display_order` */\n      index: 0\n    });\n  }\n\n  // register the mime type if in Jupyter Notebook environment and previously unregistered\n  if (root.Jupyter !== undefined) {\n    const events = require('base/js/events');\n    const OutputArea = require('notebook/js/outputarea').OutputArea;\n\n    if (OutputArea.prototype.mime_types().indexOf(EXEC_MIME_TYPE) == -1) {\n      register_renderer(events, OutputArea);\n    }\n  }\n  if (typeof (root._bokeh_timeout) === \"undefined\" || force === true) {\n    root._bokeh_timeout = Date.now() + 5000;\n    root._bokeh_failed_load = false;\n  }\n\n  const NB_LOAD_WARNING = {'data': {'text/html':\n     \"<div style='background-color: #fdd'>\\n\"+\n     \"<p>\\n\"+\n     \"BokehJS does not appear to have successfully loaded. If loading BokehJS from CDN, this \\n\"+\n     \"may be due to a slow or bad network connection. Possible fixes:\\n\"+\n     \"</p>\\n\"+\n     \"<ul>\\n\"+\n     \"<li>re-rerun `output_notebook()` to attempt to load from CDN again, or</li>\\n\"+\n     \"<li>use INLINE resources instead, as so:</li>\\n\"+\n     \"</ul>\\n\"+\n     \"<code>\\n\"+\n     \"from bokeh.resources import INLINE\\n\"+\n     \"output_notebook(resources=INLINE)\\n\"+\n     \"</code>\\n\"+\n     \"</div>\"}};\n\n  function display_loaded() {\n    const el = document.getElementById(\"1002\");\n    if (el != null) {\n      el.textContent = \"BokehJS is loading...\";\n    }\n    if (root.Bokeh !== undefined) {\n      if (el != null) {\n        el.textContent = \"BokehJS \" + root.Bokeh.version + \" successfully loaded.\";\n      }\n    } else if (Date.now() < root._bokeh_timeout) {\n      setTimeout(display_loaded, 100)\n    }\n  }\n\n  function run_callbacks() {\n    try {\n      root._bokeh_onload_callbacks.forEach(function(callback) {\n        if (callback != null)\n          callback();\n      });\n    } finally {\n      delete root._bokeh_onload_callbacks\n    }\n    console.debug(\"Bokeh: all callbacks have finished\");\n  }\n\n  function load_libs(css_urls, js_urls, callback) {\n    if (css_urls == null) css_urls = [];\n    if (js_urls == null) js_urls = [];\n\n    root._bokeh_onload_callbacks.push(callback);\n    if (root._bokeh_is_loading > 0) {\n      console.debug(\"Bokeh: BokehJS is being loaded, scheduling callback at\", now());\n      return null;\n    }\n    if (js_urls == null || js_urls.length === 0) {\n      run_callbacks();\n      return null;\n    }\n    console.debug(\"Bokeh: BokehJS not loaded, scheduling load and callback at\", now());\n    root._bokeh_is_loading = css_urls.length + js_urls.length;\n\n    function on_load() {\n      root._bokeh_is_loading--;\n      if (root._bokeh_is_loading === 0) {\n        console.debug(\"Bokeh: all BokehJS libraries/stylesheets loaded\");\n        run_callbacks()\n      }\n    }\n\n    function on_error(url) {\n      console.error(\"failed to load \" + url);\n    }\n\n    for (let i = 0; i < css_urls.length; i++) {\n      const url = css_urls[i];\n      const element = document.createElement(\"link\");\n      element.onload = on_load;\n      element.onerror = on_error.bind(null, url);\n      element.rel = \"stylesheet\";\n      element.type = \"text/css\";\n      element.href = url;\n      console.debug(\"Bokeh: injecting link tag for BokehJS stylesheet: \", url);\n      document.body.appendChild(element);\n    }\n\n    for (let i = 0; i < js_urls.length; i++) {\n      const url = js_urls[i];\n      const element = document.createElement('script');\n      element.onload = on_load;\n      element.onerror = on_error.bind(null, url);\n      element.async = false;\n      element.src = url;\n      console.debug(\"Bokeh: injecting script tag for BokehJS library: \", url);\n      document.head.appendChild(element);\n    }\n  };\n\n  function inject_raw_css(css) {\n    const element = document.createElement(\"style\");\n    element.appendChild(document.createTextNode(css));\n    document.body.appendChild(element);\n  }\n\n  const js_urls = [\"https://cdn.bokeh.org/bokeh/release/bokeh-2.4.3.min.js\", \"https://cdn.bokeh.org/bokeh/release/bokeh-gl-2.4.3.min.js\", \"https://cdn.bokeh.org/bokeh/release/bokeh-widgets-2.4.3.min.js\", \"https://cdn.bokeh.org/bokeh/release/bokeh-tables-2.4.3.min.js\", \"https://cdn.bokeh.org/bokeh/release/bokeh-mathjax-2.4.3.min.js\"];\n  const css_urls = [];\n\n  const inline_js = [    function(Bokeh) {\n      Bokeh.set_log_level(\"info\");\n    },\nfunction(Bokeh) {\n    }\n  ];\n\n  function run_inline_js() {\n    if (root.Bokeh !== undefined || force === true) {\n          for (let i = 0; i < inline_js.length; i++) {\n      inline_js[i].call(root, root.Bokeh);\n    }\nif (force === true) {\n        display_loaded();\n      }} else if (Date.now() < root._bokeh_timeout) {\n      setTimeout(run_inline_js, 100);\n    } else if (!root._bokeh_failed_load) {\n      console.log(\"Bokeh: BokehJS failed to load within specified timeout.\");\n      root._bokeh_failed_load = true;\n    } else if (force !== true) {\n      const cell = $(document.getElementById(\"1002\")).parents('.cell').data().cell;\n      cell.output_area.append_execute_result(NB_LOAD_WARNING)\n    }\n  }\n\n  if (root._bokeh_is_loading === 0) {\n    console.debug(\"Bokeh: BokehJS loaded, going straight to plotting\");\n    run_inline_js();\n  } else {\n    load_libs(css_urls, js_urls, function() {\n      console.debug(\"Bokeh: BokehJS plotting callback run at\", now());\n      run_inline_js();\n    });\n  }\n}(window));",
      "application/vnd.bokehjs_load.v0+json": ""
     },
     "metadata": {},
     "output_type": "display_data"
    }
   ],
   "source": [
    "output_notebook()"
   ]
  },
  {
   "cell_type": "markdown",
   "metadata": {},
   "source": [
    "<br><br><br><br>\n",
    "<span style=\"color:blue;font-size:large\">Construct a figure</span>\n",
    "<li>specify labels</li>\n",
    "<li>specify legend</li>\n",
    "<li>give a title</li>"
   ]
  },
  {
   "cell_type": "markdown",
   "metadata": {},
   "source": [
    "<br><br><br><br>\n",
    "<span style=\"color:blue;font-size:large\">A simple single line plot</span>\n",
    "<li>first create a figure object</li>\n",
    "<li>create a line object in the figure object</li>\n",
    "<li>the line object must contain both axes! Bokeh does not make good use of pandas series</li>\n",
    "<li>then show the figure\n"
   ]
  },
  {
   "cell_type": "markdown",
   "metadata": {},
   "source": [
    "<h3 style=\"color:blue\">The data</h3>\n",
    "<li>The NYC 311 data subset that we used for maps</li>"
   ]
  },
  {
   "cell_type": "code",
   "execution_count": 6,
   "metadata": {},
   "outputs": [
    {
     "name": "stdout",
     "output_type": "stream",
     "text": [
      "<class 'pandas.core.frame.DataFrame'>\n",
      "RangeIndex: 1000000 entries, 0 to 999999\n",
      "Data columns (total 8 columns):\n",
      " #   Column           Non-Null Count    Dtype         \n",
      "---  ------           --------------    -----         \n",
      " 0   Created Date     1000000 non-null  datetime64[ns]\n",
      " 1   Closed Date      1000000 non-null  datetime64[ns]\n",
      " 2   Agency           1000000 non-null  object        \n",
      " 3   Incident Zip     1000000 non-null  int64         \n",
      " 4   Borough          1000000 non-null  object        \n",
      " 5   Latitude         1000000 non-null  float64       \n",
      " 6   Longitude        1000000 non-null  float64       \n",
      " 7   processing_days  1000000 non-null  float64       \n",
      "dtypes: datetime64[ns](2), float64(3), int64(1), object(2)\n",
      "memory usage: 61.0+ MB\n"
     ]
    }
   ],
   "source": [
    "import pandas as pd\n",
    "df = pd.read_csv(\"../class-datasets/nyc_311_clean.csv\",nrows=1000000)\n",
    "df['Created Date'] = pd.to_datetime(df['Created Date'],format=\"%Y-%m-%d %H:%M:%S\")\n",
    "df['Closed Date'] = pd.to_datetime(df['Closed Date'],format=\"%Y-%m-%d %H:%M:%S\")\n",
    "df.info(show_counts=True)"
   ]
  },
  {
   "cell_type": "markdown",
   "metadata": {},
   "source": [
    "<h3>Calculate mean processing time by month and day of week</h3>\n",
    "<li>Pandas <b>Grouper</b> constructs a groupby instruction for groupby</li>\n",
    "<li>Useful when dealing with timeseries data</li>\n",
    "<li>https://pandas.pydata.org/docs/reference/api/pandas.Grouper.html</li>"
   ]
  },
  {
   "cell_type": "code",
   "execution_count": 7,
   "metadata": {},
   "outputs": [],
   "source": [
    "import pandas as pd\n",
    "\n",
    "month_groups = df.groupby(pd.Grouper(freq='M',key=\"Created Date\"))\n",
    "months_mean = month_groups.mean(numeric_only=True)['processing_days']\n"
   ]
  },
  {
   "cell_type": "code",
   "execution_count": 8,
   "metadata": {},
   "outputs": [
    {
     "data": {
      "text/plain": [
       "Created Date\n",
       "2010-04-30    4436.334722\n",
       "2010-05-31    4351.531250\n",
       "2010-06-30    4301.313889\n",
       "2010-07-31    4382.207407\n",
       "2010-08-31            NaN\n",
       "                 ...     \n",
       "2022-02-28       7.989502\n",
       "2022-03-31       6.005059\n",
       "2022-04-30       5.280882\n",
       "2022-05-31       4.910923\n",
       "2022-06-30       5.406646\n",
       "Freq: M, Name: processing_days, Length: 147, dtype: float64"
      ]
     },
     "execution_count": 8,
     "metadata": {},
     "output_type": "execute_result"
    }
   ],
   "source": [
    "months_mean"
   ]
  },
  {
   "cell_type": "code",
   "execution_count": 9,
   "metadata": {},
   "outputs": [
    {
     "data": {
      "text/plain": [
       "Created Date\n",
       "0    7.272320\n",
       "1    7.345536\n",
       "2    8.150530\n",
       "3    7.595277\n",
       "4    7.388034\n",
       "5    5.666127\n",
       "6    4.096463\n",
       "Name: processing_days, dtype: float64"
      ]
     },
     "execution_count": 9,
     "metadata": {},
     "output_type": "execute_result"
    }
   ],
   "source": [
    "day_of_week_groups = df.groupby(df[\"Created Date\"].dt.dayofweek)\n",
    "day_of_week_mean = day_of_week_groups.mean(numeric_only=True)['processing_days']\n",
    "day_of_week_mean"
   ]
  },
  {
   "cell_type": "markdown",
   "metadata": {},
   "source": [
    "<h3>Graph month means and day of week means</h3>"
   ]
  },
  {
   "cell_type": "code",
   "execution_count": 10,
   "metadata": {},
   "outputs": [
    {
     "data": {
      "text/html": [
       "\n",
       "  <div class=\"bk-root\" id=\"6f08dd95-aea7-4406-b2cd-f0e897bdfd01\" data-root-id=\"1003\"></div>\n"
      ]
     },
     "metadata": {},
     "output_type": "display_data"
    },
    {
     "data": {
      "application/javascript": "(function(root) {\n  function embed_document(root) {\n  const docs_json = {\"2f6ceef1-a1b0-435f-bd34-6c1c7f902de4\":{\"defs\":[],\"roots\":{\"references\":[{\"attributes\":{\"below\":[{\"id\":\"1014\"}],\"center\":[{\"id\":\"1017\"},{\"id\":\"1021\"}],\"left\":[{\"id\":\"1018\"}],\"renderers\":[{\"id\":\"1040\"}],\"title\":{\"id\":\"1004\"},\"toolbar\":{\"id\":\"1029\"},\"x_range\":{\"id\":\"1006\"},\"x_scale\":{\"id\":\"1010\"},\"y_range\":{\"id\":\"1008\"},\"y_scale\":{\"id\":\"1012\"}},\"id\":\"1003\",\"subtype\":\"Figure\",\"type\":\"Plot\"},{\"attributes\":{},\"id\":\"1023\",\"type\":\"WheelZoomTool\"},{\"attributes\":{\"line_alpha\":0.2,\"line_color\":\"red\",\"line_width\":8,\"x\":{\"field\":\"x\"},\"y\":{\"field\":\"y\"}},\"id\":\"1039\",\"type\":\"Line\"},{\"attributes\":{},\"id\":\"1027\",\"type\":\"HelpTool\"},{\"attributes\":{\"line_alpha\":0.1,\"line_color\":\"red\",\"line_width\":8,\"x\":{\"field\":\"x\"},\"y\":{\"field\":\"y\"}},\"id\":\"1038\",\"type\":\"Line\"},{\"attributes\":{},\"id\":\"1022\",\"type\":\"PanTool\"},{\"attributes\":{},\"id\":\"1026\",\"type\":\"ResetTool\"},{\"attributes\":{\"bottom_units\":\"screen\",\"coordinates\":null,\"fill_alpha\":0.5,\"fill_color\":\"lightgrey\",\"group\":null,\"left_units\":\"screen\",\"level\":\"overlay\",\"line_alpha\":1.0,\"line_color\":\"black\",\"line_dash\":[4,4],\"line_width\":2,\"right_units\":\"screen\",\"syncable\":false,\"top_units\":\"screen\"},\"id\":\"1028\",\"type\":\"BoxAnnotation\"},{\"attributes\":{},\"id\":\"1006\",\"type\":\"DataRange1d\"},{\"attributes\":{},\"id\":\"1010\",\"type\":\"LinearScale\"},{\"attributes\":{},\"id\":\"1049\",\"type\":\"UnionRenderers\"},{\"attributes\":{\"data\":{\"x\":{\"__ndarray__\":\"AADAM8CEckIAAACGuo5yQgAAgHJimHJCAADAxFyickIAAAAXV6xyQgAAgAP/tXJCAADAVfm/ckIAAEBCoclyQgAAgJSb03JCAADA5pXdckIAAMAHmeZyQgAAAFqT8HJCAACARjv6ckIAAMCYNQRzQgAAQIXdDXNCAACA19cXc0IAAMAp0iFzQgAAQBZ6K3NCAACAaHQ1c0IAAABVHD9zQgAAQKcWSXNCAACA+RBTc0IAAECAZlxzQgAAgNJgZnNCAAAAvwhwc0IAAEARA3pzQgAAwP2qg3NCAAAAUKWNc0IAAECin5dzQgAAwI5HoXNCAAAA4UGrc0IAAIDN6bRzQgAAwB/kvnNCAAAAct7Ic0IAAACT4dFzQgAAQOXb23NCAADA0YPlc0IAAAAkfu9zQgAAgBAm+XNCAADAYiADdEIAAAC1Gg10QgAAgKHCFnRCAADA87wgdEIAAEDgZCp0QgAAgDJfNHRCAADAhFk+dEIAAMClXEd0QgAAAPhWUXRCAACA5P5adEIAAMA2+WR0QgAAQCOhbnRCAACAdZt4dEIAAMDHlYJ0QgAAQLQ9jHRCAACABjiWdEIAAADz3590QgAAQEXaqXRCAACAl9SzdEIAAIC417x0QgAAwArSxnRCAABA93nQdEIAAIBJdNp0QgAAADYc5HRCAABAiBbudEIAAIDaEPh0QgAAAMe4AXVCAABAGbMLdUIAAMAFWxV1QgAAAFhVH3VCAABAqk8pdUIAAAAxpTJ1QgAAQIOfPHVCAADAb0dGdUIAAADCQVB1QgAAgK7pWXVCAADAAORjdUIAAABT3m11QgAAgD+Gd3VCAADAkYCBdUIAAEB+KIt1QgAAgNAilXVCAADAIh2fdUIAAMBDIKh1QgAAAJYasnVCAACAgsK7dUIAAMDUvMV1QgAAQMFkz3VCAACAE1/ZdUIAAMBlWeN1QgAAQFIB7XVCAACApPv2dUIAAACRowB2QgAAQOOdCnZCAACANZgUdkIAAIBWmx12QgAAwKiVJ3ZCAABAlT0xdkIAAIDnNzt2QgAAANTfRHZCAABAJtpOdkIAAIB41Fh2QgAAAGV8YnZCAABAt3ZsdkIAAMCjHnZ2QgAAAPYYgHZCAABASBOKdkIAAEBpFpN2QgAAgLsQnXZCAAAAqLimdkIAAED6srB2QgAAwOZaunZCAAAAOVXEdkIAAECLT852QgAAwHf313ZCAAAAyvHhdkIAAIC2met2QgAAwAiU9XZCAAAAW47/dkIAAMDh4wh3QgAAADTeEndCAACAIIYcd0IAAMBygCZ3QgAAQF8oMHdCAACAsSI6d0IAAMADHUR3QgAAQPDETXdCAACAQr9Xd0IAAAAvZ2F3QgAAQIFha3dCAACA01t1d0IAAID0Xn53QgAAwEZZiHdCAABAMwGSd0IAAICF+5t3QgAAAHKjpXdCAABAxJ2vd0IAAIAWmLl3QgAAAANAw3dCAABAVTrNd0IAAMBB4tZ3QgAAAJTc4HdCAABA5tbqd0IAAEAH2vN3QgAAgFnU/XdCAAAARnwHeEIAAECYdhF4QgAAwIQeG3hC\",\"dtype\":\"float64\",\"order\":\"little\",\"shape\":[147]},\"y\":{\"__ndarray__\":\"sAVbsFVUsUAAAAAAiP+wQFuwBVtQzbBAw9+mGDUesUAAAAAAAAD4fxzHcRyPMrBAAAAAAAAA+H9Kn/RJd+6wQCl90icdw69AAAAAAAAA+H8AAAAAAAD4fwAAAAAAAPh/AAAAAAAA+H9Kn/RJP42vQAAAAAAAAPh/AAAAAAAA+H/1SZ/0+UqvQAAAAAAAAPh/AAAAAAAA+H8AAAAAAAD4fwAAAAAAAPh/LtiCLZjQrUAAAAAAAAD4fwAAAAAAAPh/+qRP+oQMrUCTPumTBhiuQMAWbMHGfKxAAAAAAAAA+H8AAAAAAAD4f5qZmZm9M6xARERERISGq0BKn/RJH4OrQAAAAAAAAPh/AAAAAAAA+H8AAAAAAAD4fwAAAAAAAPh/AAAAAAAA+H8AAAAAAAD4fwZbsAUbRalAAAAAAAAA+H8AAAAAAAD4fwAAAAAAAPh/AAAAAAAA+H8AAAAAAAD4fwAAAAAAAPh/AAAAAAAA+H8AAAAAAAD4fy7Ygi04FalAAAAAAAAA+H8LtmALhvKmQAAAAAAAAPh/wRZswWbVp0CJiIiIuFqmQAAAAAAAAPh/AAAAAJBgpUAAAAAAAAD4fwAAAAAAAPh/AAAAAAAA+H8AAAAAAAD4f3d3d3cHiaRA5QunEybupEAzMzMzo3CkQBzHcRwbsKNAtmALtgico0AiIiIignyjQLy7u7urTqNA+qRP+vxRo0AAAAAAAAD4f83MzMy4LaNAgAZogMaiokAT2ktoX/miQC+hvYTizKFAYQu2YIvDoUCivIbyOrGhQGdzNmeru6FAaC+hvfSWoUA5juM47uWfQAAAAAAAAPh/LtiCLRgtoEAAAAAAAAD4f0YCvnmV255Agy3Ygo1ZnkDIcRzHwaedQKqqqqr67Z1A9Emf9Dkim0AXbMEWPDmdQBQLHfnAHJ1AftInffrAnECg9EmfNMKaQC3Ygi0YBptAUPqkT+KKm0AAAAAAIKGaQHIcx3G80ZdAAAAAAAAA+H/1SZ/0CW2YQAAAAAAAAPh/F2zBFgx1l0DcFKOGv8KWQHh3d3c3DJZAF2zBFgxVlkA2guoZ+0SWQEYjAd/cn5NAfdInfdKxlEBswRZsIVWTQH3SJ33as5NAAAAAAAAA+H9TjBr+prOSQHBTjBoe95NAj+M4jsPTkEBttziT0nmRQBhLfrHEX5FA7+7u7i4+k0C3YQy3oRaRQC7Ygi3QwpFAQS2KA+ShikAAAAAAAAD4f5/0SZ/034tAbMEWbCHqkEBr+NsUI02JQIMt2IJtZJBA5DiO43hQiEAAAAAAAAD4f5ti1PD3yYVAwRZswdZYhEDNzMzMDBCHQPEc4BI/bFtAFOwGRaiVM0CGC6kOGZ0nQGFPSMlxczJAPOj8ln78MEDikqXQATkyQGRnH82ANjRA1w8lGRCgQEA17c1+uGc0QNAQw5EnASNAIrmTJv5oK0AZ/yboEDcmQD2OviC4MCpAxd+VkGssI0DVaBKaq/0KQP1hDgh3BBtAZ0uf+vc0G0A+ld/sP/UfQBMJWTEuBRhALCRQqJ8fFUD8XIruyKQTQBQuO7JnoBVA\",\"dtype\":\"float64\",\"order\":\"little\",\"shape\":[147]}},\"selected\":{\"id\":\"1050\"},\"selection_policy\":{\"id\":\"1049\"}},\"id\":\"1036\",\"type\":\"ColumnDataSource\"},{\"attributes\":{\"axis_label\":\"Processing Time\",\"coordinates\":null,\"formatter\":{\"id\":\"1044\"},\"group\":null,\"major_label_policy\":{\"id\":\"1045\"},\"ticker\":{\"id\":\"1019\"}},\"id\":\"1018\",\"type\":\"LinearAxis\"},{\"attributes\":{\"overlay\":{\"id\":\"1028\"}},\"id\":\"1024\",\"type\":\"BoxZoomTool\"},{\"attributes\":{},\"id\":\"1012\",\"type\":\"LinearScale\"},{\"attributes\":{\"coordinates\":null,\"data_source\":{\"id\":\"1036\"},\"glyph\":{\"id\":\"1037\"},\"group\":null,\"hover_glyph\":null,\"muted_glyph\":{\"id\":\"1039\"},\"nonselection_glyph\":{\"id\":\"1038\"},\"view\":{\"id\":\"1041\"}},\"id\":\"1040\",\"type\":\"GlyphRenderer\"},{\"attributes\":{\"coordinates\":null,\"group\":null,\"text\":\"Monthly Processing Time Averages\"},\"id\":\"1004\",\"type\":\"Title\"},{\"attributes\":{},\"id\":\"1015\",\"type\":\"BasicTicker\"},{\"attributes\":{},\"id\":\"1008\",\"type\":\"DataRange1d\"},{\"attributes\":{\"axis\":{\"id\":\"1018\"},\"coordinates\":null,\"dimension\":1,\"group\":null,\"ticker\":null},\"id\":\"1021\",\"type\":\"Grid\"},{\"attributes\":{},\"id\":\"1048\",\"type\":\"AllLabels\"},{\"attributes\":{},\"id\":\"1047\",\"type\":\"BasicTickFormatter\"},{\"attributes\":{\"source\":{\"id\":\"1036\"}},\"id\":\"1041\",\"type\":\"CDSView\"},{\"attributes\":{\"axis\":{\"id\":\"1014\"},\"coordinates\":null,\"group\":null,\"ticker\":null},\"id\":\"1017\",\"type\":\"Grid\"},{\"attributes\":{},\"id\":\"1045\",\"type\":\"AllLabels\"},{\"attributes\":{},\"id\":\"1025\",\"type\":\"SaveTool\"},{\"attributes\":{\"axis_label\":\"Month\",\"coordinates\":null,\"formatter\":{\"id\":\"1047\"},\"group\":null,\"major_label_policy\":{\"id\":\"1048\"},\"ticker\":{\"id\":\"1015\"}},\"id\":\"1014\",\"type\":\"LinearAxis\"},{\"attributes\":{\"line_color\":\"red\",\"line_width\":8,\"x\":{\"field\":\"x\"},\"y\":{\"field\":\"y\"}},\"id\":\"1037\",\"type\":\"Line\"},{\"attributes\":{},\"id\":\"1044\",\"type\":\"BasicTickFormatter\"},{\"attributes\":{\"tools\":[{\"id\":\"1022\"},{\"id\":\"1023\"},{\"id\":\"1024\"},{\"id\":\"1025\"},{\"id\":\"1026\"},{\"id\":\"1027\"}]},\"id\":\"1029\",\"type\":\"Toolbar\"},{\"attributes\":{},\"id\":\"1050\",\"type\":\"Selection\"},{\"attributes\":{},\"id\":\"1019\",\"type\":\"BasicTicker\"}],\"root_ids\":[\"1003\"]},\"title\":\"Bokeh Application\",\"version\":\"2.4.3\"}};\n  const render_items = [{\"docid\":\"2f6ceef1-a1b0-435f-bd34-6c1c7f902de4\",\"root_ids\":[\"1003\"],\"roots\":{\"1003\":\"6f08dd95-aea7-4406-b2cd-f0e897bdfd01\"}}];\n  root.Bokeh.embed.embed_items_notebook(docs_json, render_items);\n  }\n  if (root.Bokeh !== undefined) {\n    embed_document(root);\n  } else {\n    let attempts = 0;\n    const timer = setInterval(function(root) {\n      if (root.Bokeh !== undefined) {\n        clearInterval(timer);\n        embed_document(root);\n      } else {\n        attempts++;\n        if (attempts > 100) {\n          clearInterval(timer);\n          console.log(\"Bokeh: ERROR: Unable to run BokehJS code because BokehJS library is missing\");\n        }\n      }\n    }, 10, root)\n  }\n})(window);",
      "application/vnd.bokehjs_exec.v0+json": ""
     },
     "metadata": {
      "application/vnd.bokehjs_exec.v0+json": {
       "id": "1003"
      }
     },
     "output_type": "display_data"
    }
   ],
   "source": [
    "p = figure(title=\"Monthly Processing Time Averages\", x_axis_label='Month', y_axis_label='Processing Time')\n",
    "p.line(months_mean.index,months_mean,line_width=8,line_color=\"red\")\n",
    "show(p)"
   ]
  },
  {
   "cell_type": "markdown",
   "metadata": {},
   "source": [
    "<li>bokeh treats ticks as discrete points and doesn't automatically draw a continuous line</li>\n",
    "<li>we need three steps for a basic graph rather than one (more complicated than matplotlib)</li>\n",
    "<li>but we get some nice interactive features along with the graph</li>\n",
    "<li>we'll need to do some more customization</li>"
   ]
  },
  {
   "cell_type": "markdown",
   "metadata": {},
   "source": [
    "<li>bokeh can handle time nicely. Convert x-axis into time</li>\n",
    "<li>tell bokeh that the x-axis is of datetime type. bokeh will assume it is continuous</li>\n",
    "<li>add gizmos to make the graph look nice</li>"
   ]
  },
  {
   "cell_type": "code",
   "execution_count": 11,
   "metadata": {},
   "outputs": [
    {
     "data": {
      "text/plain": [
       "DatetimeIndex(['2010-04-30', '2010-05-31', '2010-06-30', '2010-07-31',\n",
       "               '2010-08-31', '2010-09-30', '2010-10-31', '2010-11-30',\n",
       "               '2010-12-31', '2011-01-31',\n",
       "               ...\n",
       "               '2021-09-30', '2021-10-31', '2021-11-30', '2021-12-31',\n",
       "               '2022-01-31', '2022-02-28', '2022-03-31', '2022-04-30',\n",
       "               '2022-05-31', '2022-06-30'],\n",
       "              dtype='datetime64[ns]', name='Created Date', length=147, freq='M')"
      ]
     },
     "execution_count": 11,
     "metadata": {},
     "output_type": "execute_result"
    }
   ],
   "source": [
    "months_mean.index"
   ]
  },
  {
   "cell_type": "code",
   "execution_count": 12,
   "metadata": {},
   "outputs": [
    {
     "data": {
      "text/html": [
       "\n",
       "  <div class=\"bk-root\" id=\"0e3c3fd5-cdab-4eb2-b454-831f571e9557\" data-root-id=\"1102\"></div>\n"
      ]
     },
     "metadata": {},
     "output_type": "display_data"
    },
    {
     "data": {
      "application/javascript": "(function(root) {\n  function embed_document(root) {\n  const docs_json = {\"70560a0d-1397-4f0e-adf2-b94a4c798fd9\":{\"defs\":[],\"roots\":{\"references\":[{\"attributes\":{\"below\":[{\"id\":\"1113\"}],\"center\":[{\"id\":\"1116\"},{\"id\":\"1120\"},{\"id\":\"1163\"}],\"height\":400,\"left\":[{\"id\":\"1117\"}],\"renderers\":[{\"id\":\"1139\"}],\"title\":{\"id\":\"1103\"},\"toolbar\":{\"id\":\"1128\"},\"x_range\":{\"id\":\"1105\"},\"x_scale\":{\"id\":\"1109\"},\"y_range\":{\"id\":\"1107\"},\"y_scale\":{\"id\":\"1111\"}},\"id\":\"1102\",\"subtype\":\"Figure\",\"type\":\"Plot\"},{\"attributes\":{\"coordinates\":null,\"data_source\":{\"id\":\"1135\"},\"glyph\":{\"id\":\"1136\"},\"group\":null,\"hover_glyph\":null,\"muted_glyph\":{\"id\":\"1138\"},\"nonselection_glyph\":{\"id\":\"1137\"},\"view\":{\"id\":\"1140\"}},\"id\":\"1139\",\"type\":\"GlyphRenderer\"},{\"attributes\":{},\"id\":\"1149\",\"type\":\"Selection\"},{\"attributes\":{},\"id\":\"1126\",\"type\":\"HelpTool\"},{\"attributes\":{},\"id\":\"1118\",\"type\":\"BasicTicker\"},{\"attributes\":{\"axis\":{\"id\":\"1117\"},\"coordinates\":null,\"dimension\":1,\"group\":null,\"ticker\":null},\"id\":\"1120\",\"type\":\"Grid\"},{\"attributes\":{},\"id\":\"1109\",\"type\":\"LinearScale\"},{\"attributes\":{\"axis\":{\"id\":\"1113\"},\"coordinates\":null,\"group\":null,\"ticker\":null},\"id\":\"1116\",\"type\":\"Grid\"},{\"attributes\":{\"tools\":[{\"id\":\"1121\"},{\"id\":\"1122\"},{\"id\":\"1123\"},{\"id\":\"1124\"},{\"id\":\"1125\"},{\"id\":\"1126\"}]},\"id\":\"1128\",\"type\":\"Toolbar\"},{\"attributes\":{\"line_alpha\":0.1,\"line_color\":\"red\",\"line_width\":8,\"x\":{\"field\":\"x\"},\"y\":{\"field\":\"y\"}},\"id\":\"1137\",\"type\":\"Line\"},{\"attributes\":{\"num_minor_ticks\":5,\"tickers\":[{\"id\":\"1151\"},{\"id\":\"1152\"},{\"id\":\"1153\"},{\"id\":\"1154\"},{\"id\":\"1155\"},{\"id\":\"1156\"},{\"id\":\"1157\"},{\"id\":\"1158\"},{\"id\":\"1159\"},{\"id\":\"1160\"},{\"id\":\"1161\"},{\"id\":\"1162\"}]},\"id\":\"1114\",\"type\":\"DatetimeTicker\"},{\"attributes\":{},\"id\":\"1111\",\"type\":\"LinearScale\"},{\"attributes\":{},\"id\":\"1146\",\"type\":\"DatetimeTickFormatter\"},{\"attributes\":{},\"id\":\"1107\",\"type\":\"DataRange1d\"},{\"attributes\":{\"axis_label\":\"months\",\"coordinates\":null,\"formatter\":{\"id\":\"1146\"},\"group\":null,\"major_label_policy\":{\"id\":\"1147\"},\"ticker\":{\"id\":\"1114\"}},\"id\":\"1113\",\"type\":\"DatetimeAxis\"},{\"attributes\":{},\"id\":\"1122\",\"type\":\"WheelZoomTool\"},{\"attributes\":{\"mantissas\":[1,2,5],\"max_interval\":500.0,\"num_minor_ticks\":0},\"id\":\"1151\",\"type\":\"AdaptiveTicker\"},{\"attributes\":{\"axis_label\":\"time\",\"coordinates\":null,\"formatter\":{\"id\":\"1143\"},\"group\":null,\"major_label_policy\":{\"id\":\"1144\"},\"ticker\":{\"id\":\"1118\"}},\"id\":\"1117\",\"type\":\"LinearAxis\"},{\"attributes\":{},\"id\":\"1143\",\"type\":\"BasicTickFormatter\"},{\"attributes\":{\"days\":[1,8,15,22]},\"id\":\"1156\",\"type\":\"DaysTicker\"},{\"attributes\":{\"base\":60,\"mantissas\":[1,2,5,10,15,20,30],\"max_interval\":1800000.0,\"min_interval\":1000.0,\"num_minor_ticks\":0},\"id\":\"1152\",\"type\":\"AdaptiveTicker\"},{\"attributes\":{\"months\":[0,2,4,6,8,10]},\"id\":\"1159\",\"type\":\"MonthsTicker\"},{\"attributes\":{},\"id\":\"1144\",\"type\":\"AllLabels\"},{\"attributes\":{\"coordinates\":null,\"group\":null,\"text\":\"Mean Processing Time (monthly)\"},\"id\":\"1103\",\"type\":\"Title\"},{\"attributes\":{\"base\":24,\"mantissas\":[1,2,4,6,8,12],\"max_interval\":43200000.0,\"min_interval\":3600000.0,\"num_minor_ticks\":0},\"id\":\"1153\",\"type\":\"AdaptiveTicker\"},{\"attributes\":{},\"id\":\"1105\",\"type\":\"DataRange1d\"},{\"attributes\":{\"months\":[0,6]},\"id\":\"1161\",\"type\":\"MonthsTicker\"},{\"attributes\":{},\"id\":\"1147\",\"type\":\"AllLabels\"},{\"attributes\":{\"days\":[1,2,3,4,5,6,7,8,9,10,11,12,13,14,15,16,17,18,19,20,21,22,23,24,25,26,27,28,29,30,31]},\"id\":\"1154\",\"type\":\"DaysTicker\"},{\"attributes\":{\"coordinates\":null,\"group\":null,\"items\":[{\"id\":\"1164\"}]},\"id\":\"1163\",\"type\":\"Legend\"},{\"attributes\":{},\"id\":\"1125\",\"type\":\"ResetTool\"},{\"attributes\":{\"days\":[1,4,7,10,13,16,19,22,25,28]},\"id\":\"1155\",\"type\":\"DaysTicker\"},{\"attributes\":{\"months\":[0,1,2,3,4,5,6,7,8,9,10,11]},\"id\":\"1158\",\"type\":\"MonthsTicker\"},{\"attributes\":{\"line_alpha\":0.2,\"line_color\":\"red\",\"line_width\":8,\"x\":{\"field\":\"x\"},\"y\":{\"field\":\"y\"}},\"id\":\"1138\",\"type\":\"Line\"},{\"attributes\":{},\"id\":\"1124\",\"type\":\"SaveTool\"},{\"attributes\":{\"data\":{\"x\":{\"__ndarray__\":\"AADAM8CEckIAAACGuo5yQgAAgHJimHJCAADAxFyickIAAAAXV6xyQgAAgAP/tXJCAADAVfm/ckIAAEBCoclyQgAAgJSb03JCAADA5pXdckIAAMAHmeZyQgAAAFqT8HJCAACARjv6ckIAAMCYNQRzQgAAQIXdDXNCAACA19cXc0IAAMAp0iFzQgAAQBZ6K3NCAACAaHQ1c0IAAABVHD9zQgAAQKcWSXNCAACA+RBTc0IAAECAZlxzQgAAgNJgZnNCAAAAvwhwc0IAAEARA3pzQgAAwP2qg3NCAAAAUKWNc0IAAECin5dzQgAAwI5HoXNCAAAA4UGrc0IAAIDN6bRzQgAAwB/kvnNCAAAAct7Ic0IAAACT4dFzQgAAQOXb23NCAADA0YPlc0IAAAAkfu9zQgAAgBAm+XNCAADAYiADdEIAAAC1Gg10QgAAgKHCFnRCAADA87wgdEIAAEDgZCp0QgAAgDJfNHRCAADAhFk+dEIAAMClXEd0QgAAAPhWUXRCAACA5P5adEIAAMA2+WR0QgAAQCOhbnRCAACAdZt4dEIAAMDHlYJ0QgAAQLQ9jHRCAACABjiWdEIAAADz3590QgAAQEXaqXRCAACAl9SzdEIAAIC417x0QgAAwArSxnRCAABA93nQdEIAAIBJdNp0QgAAADYc5HRCAABAiBbudEIAAIDaEPh0QgAAAMe4AXVCAABAGbMLdUIAAMAFWxV1QgAAAFhVH3VCAABAqk8pdUIAAAAxpTJ1QgAAQIOfPHVCAADAb0dGdUIAAADCQVB1QgAAgK7pWXVCAADAAORjdUIAAABT3m11QgAAgD+Gd3VCAADAkYCBdUIAAEB+KIt1QgAAgNAilXVCAADAIh2fdUIAAMBDIKh1QgAAAJYasnVCAACAgsK7dUIAAMDUvMV1QgAAQMFkz3VCAACAE1/ZdUIAAMBlWeN1QgAAQFIB7XVCAACApPv2dUIAAACRowB2QgAAQOOdCnZCAACANZgUdkIAAIBWmx12QgAAwKiVJ3ZCAABAlT0xdkIAAIDnNzt2QgAAANTfRHZCAABAJtpOdkIAAIB41Fh2QgAAAGV8YnZCAABAt3ZsdkIAAMCjHnZ2QgAAAPYYgHZCAABASBOKdkIAAEBpFpN2QgAAgLsQnXZCAAAAqLimdkIAAED6srB2QgAAwOZaunZCAAAAOVXEdkIAAECLT852QgAAwHf313ZCAAAAyvHhdkIAAIC2met2QgAAwAiU9XZCAAAAW47/dkIAAMDh4wh3QgAAADTeEndCAACAIIYcd0IAAMBygCZ3QgAAQF8oMHdCAACAsSI6d0IAAMADHUR3QgAAQPDETXdCAACAQr9Xd0IAAAAvZ2F3QgAAQIFha3dCAACA01t1d0IAAID0Xn53QgAAwEZZiHdCAABAMwGSd0IAAICF+5t3QgAAAHKjpXdCAABAxJ2vd0IAAIAWmLl3QgAAAANAw3dCAABAVTrNd0IAAMBB4tZ3QgAAAJTc4HdCAABA5tbqd0IAAEAH2vN3QgAAgFnU/XdCAAAARnwHeEIAAECYdhF4QgAAwIQeG3hC\",\"dtype\":\"float64\",\"order\":\"little\",\"shape\":[147]},\"y\":{\"__ndarray__\":\"sAVbsFVUsUAAAAAAiP+wQFuwBVtQzbBAw9+mGDUesUAAAAAAAAD4fxzHcRyPMrBAAAAAAAAA+H9Kn/RJd+6wQCl90icdw69AAAAAAAAA+H8AAAAAAAD4fwAAAAAAAPh/AAAAAAAA+H9Kn/RJP42vQAAAAAAAAPh/AAAAAAAA+H/1SZ/0+UqvQAAAAAAAAPh/AAAAAAAA+H8AAAAAAAD4fwAAAAAAAPh/LtiCLZjQrUAAAAAAAAD4fwAAAAAAAPh/+qRP+oQMrUCTPumTBhiuQMAWbMHGfKxAAAAAAAAA+H8AAAAAAAD4f5qZmZm9M6xARERERISGq0BKn/RJH4OrQAAAAAAAAPh/AAAAAAAA+H8AAAAAAAD4fwAAAAAAAPh/AAAAAAAA+H8AAAAAAAD4fwZbsAUbRalAAAAAAAAA+H8AAAAAAAD4fwAAAAAAAPh/AAAAAAAA+H8AAAAAAAD4fwAAAAAAAPh/AAAAAAAA+H8AAAAAAAD4fy7Ygi04FalAAAAAAAAA+H8LtmALhvKmQAAAAAAAAPh/wRZswWbVp0CJiIiIuFqmQAAAAAAAAPh/AAAAAJBgpUAAAAAAAAD4fwAAAAAAAPh/AAAAAAAA+H8AAAAAAAD4f3d3d3cHiaRA5QunEybupEAzMzMzo3CkQBzHcRwbsKNAtmALtgico0AiIiIignyjQLy7u7urTqNA+qRP+vxRo0AAAAAAAAD4f83MzMy4LaNAgAZogMaiokAT2ktoX/miQC+hvYTizKFAYQu2YIvDoUCivIbyOrGhQGdzNmeru6FAaC+hvfSWoUA5juM47uWfQAAAAAAAAPh/LtiCLRgtoEAAAAAAAAD4f0YCvnmV255Agy3Ygo1ZnkDIcRzHwaedQKqqqqr67Z1A9Emf9Dkim0AXbMEWPDmdQBQLHfnAHJ1AftInffrAnECg9EmfNMKaQC3Ygi0YBptAUPqkT+KKm0AAAAAAIKGaQHIcx3G80ZdAAAAAAAAA+H/1SZ/0CW2YQAAAAAAAAPh/F2zBFgx1l0DcFKOGv8KWQHh3d3c3DJZAF2zBFgxVlkA2guoZ+0SWQEYjAd/cn5NAfdInfdKxlEBswRZsIVWTQH3SJ33as5NAAAAAAAAA+H9TjBr+prOSQHBTjBoe95NAj+M4jsPTkEBttziT0nmRQBhLfrHEX5FA7+7u7i4+k0C3YQy3oRaRQC7Ygi3QwpFAQS2KA+ShikAAAAAAAAD4f5/0SZ/034tAbMEWbCHqkEBr+NsUI02JQIMt2IJtZJBA5DiO43hQiEAAAAAAAAD4f5ti1PD3yYVAwRZswdZYhEDNzMzMDBCHQPEc4BI/bFtAFOwGRaiVM0CGC6kOGZ0nQGFPSMlxczJAPOj8ln78MEDikqXQATkyQGRnH82ANjRA1w8lGRCgQEA17c1+uGc0QNAQw5EnASNAIrmTJv5oK0AZ/yboEDcmQD2OviC4MCpAxd+VkGssI0DVaBKaq/0KQP1hDgh3BBtAZ0uf+vc0G0A+ld/sP/UfQBMJWTEuBRhALCRQqJ8fFUD8XIruyKQTQBQuO7JnoBVA\",\"dtype\":\"float64\",\"order\":\"little\",\"shape\":[147]}},\"selected\":{\"id\":\"1149\"},\"selection_policy\":{\"id\":\"1148\"}},\"id\":\"1135\",\"type\":\"ColumnDataSource\"},{\"attributes\":{\"days\":[1,15]},\"id\":\"1157\",\"type\":\"DaysTicker\"},{\"attributes\":{},\"id\":\"1162\",\"type\":\"YearsTicker\"},{\"attributes\":{\"months\":[0,4,8]},\"id\":\"1160\",\"type\":\"MonthsTicker\"},{\"attributes\":{\"overlay\":{\"id\":\"1127\"}},\"id\":\"1123\",\"type\":\"BoxZoomTool\"},{\"attributes\":{\"source\":{\"id\":\"1135\"}},\"id\":\"1140\",\"type\":\"CDSView\"},{\"attributes\":{\"label\":{\"value\":\"monthly mean\"},\"renderers\":[{\"id\":\"1139\"}]},\"id\":\"1164\",\"type\":\"LegendItem\"},{\"attributes\":{\"bottom_units\":\"screen\",\"coordinates\":null,\"fill_alpha\":0.5,\"fill_color\":\"lightgrey\",\"group\":null,\"left_units\":\"screen\",\"level\":\"overlay\",\"line_alpha\":1.0,\"line_color\":\"black\",\"line_dash\":[4,4],\"line_width\":2,\"right_units\":\"screen\",\"syncable\":false,\"top_units\":\"screen\"},\"id\":\"1127\",\"type\":\"BoxAnnotation\"},{\"attributes\":{},\"id\":\"1148\",\"type\":\"UnionRenderers\"},{\"attributes\":{},\"id\":\"1121\",\"type\":\"PanTool\"},{\"attributes\":{\"line_color\":\"red\",\"line_width\":8,\"x\":{\"field\":\"x\"},\"y\":{\"field\":\"y\"}},\"id\":\"1136\",\"type\":\"Line\"}],\"root_ids\":[\"1102\"]},\"title\":\"Bokeh Application\",\"version\":\"2.4.3\"}};\n  const render_items = [{\"docid\":\"70560a0d-1397-4f0e-adf2-b94a4c798fd9\",\"root_ids\":[\"1102\"],\"roots\":{\"1102\":\"0e3c3fd5-cdab-4eb2-b454-831f571e9557\"}}];\n  root.Bokeh.embed.embed_items_notebook(docs_json, render_items);\n  }\n  if (root.Bokeh !== undefined) {\n    embed_document(root);\n  } else {\n    let attempts = 0;\n    const timer = setInterval(function(root) {\n      if (root.Bokeh !== undefined) {\n        clearInterval(timer);\n        embed_document(root);\n      } else {\n        attempts++;\n        if (attempts > 100) {\n          clearInterval(timer);\n          console.log(\"Bokeh: ERROR: Unable to run BokehJS code because BokehJS library is missing\");\n        }\n      }\n    }, 10, root)\n  }\n})(window);",
      "application/vnd.bokehjs_exec.v0+json": ""
     },
     "metadata": {
      "application/vnd.bokehjs_exec.v0+json": {
       "id": "1102"
      }
     },
     "output_type": "display_data"
    }
   ],
   "source": [
    "import pandas as pd\n",
    "p = figure(title=\"Mean Processing Time (monthly)\",plot_width=600, plot_height=400,\n",
    "          x_axis_label = \"months\",y_axis_label = \"time\",x_axis_type=\"datetime\")\n",
    "\n",
    "p.line(months_mean.index,#pd.to_datetime(months_mean.index,format=\"%Y%m\"), \n",
    "       months_mean,\n",
    "       legend_label=\"monthly mean\",\n",
    "      line_color = \"red\",\n",
    "      line_width = 8)\n",
    "\n",
    "show(p)"
   ]
  },
  {
   "cell_type": "markdown",
   "metadata": {},
   "source": [
    "<br><br><br><br>\n",
    "<span style=\"color:blue;font-size:large\">tools</span>\n",
    "<li>bokeh provides a number of interactive tools</li>\n",
    "<li>in the above two graphs, we let it pick the tools (defaults), but we can control the tools list</li>\n",
    "<li><a href=\"https://docs.bokeh.org/en/latest/docs/user_guide/tools.html\">tool configuration</a>"
   ]
  },
  {
   "cell_type": "code",
   "execution_count": 13,
   "metadata": {},
   "outputs": [
    {
     "data": {
      "text/html": [
       "\n",
       "  <div class=\"bk-root\" id=\"ccc1ac59-9b73-4f78-b9f9-d4ae90378c5b\" data-root-id=\"1307\"></div>\n"
      ]
     },
     "metadata": {},
     "output_type": "display_data"
    },
    {
     "data": {
      "application/javascript": "(function(root) {\n  function embed_document(root) {\n  const docs_json = {\"73143d37-ee58-4632-83c3-4b07fcb64f5e\":{\"defs\":[],\"roots\":{\"references\":[{\"attributes\":{\"below\":[{\"id\":\"1318\"}],\"center\":[{\"id\":\"1321\"},{\"id\":\"1325\"},{\"id\":\"1366\"}],\"height\":400,\"left\":[{\"id\":\"1322\"}],\"renderers\":[{\"id\":\"1342\"}],\"title\":{\"id\":\"1308\"},\"toolbar\":{\"id\":\"1332\"},\"x_range\":{\"id\":\"1310\"},\"x_scale\":{\"id\":\"1314\"},\"y_range\":{\"id\":\"1312\"},\"y_scale\":{\"id\":\"1316\"}},\"id\":\"1307\",\"subtype\":\"Figure\",\"type\":\"Plot\"},{\"attributes\":{\"months\":[0,2,4,6,8,10]},\"id\":\"1362\",\"type\":\"MonthsTicker\"},{\"attributes\":{},\"id\":\"1350\",\"type\":\"AllLabels\"},{\"attributes\":{\"months\":[0,4,8]},\"id\":\"1363\",\"type\":\"MonthsTicker\"},{\"attributes\":{\"tools\":[{\"id\":\"1326\"},{\"id\":\"1327\"},{\"id\":\"1328\"},{\"id\":\"1329\"},{\"id\":\"1330\"}]},\"id\":\"1332\",\"type\":\"Toolbar\"},{\"attributes\":{\"data\":{\"x\":{\"__ndarray__\":\"AADAM8CEckIAAACGuo5yQgAAgHJimHJCAADAxFyickIAAAAXV6xyQgAAgAP/tXJCAADAVfm/ckIAAEBCoclyQgAAgJSb03JCAADA5pXdckIAAMAHmeZyQgAAAFqT8HJCAACARjv6ckIAAMCYNQRzQgAAQIXdDXNCAACA19cXc0IAAMAp0iFzQgAAQBZ6K3NCAACAaHQ1c0IAAABVHD9zQgAAQKcWSXNCAACA+RBTc0IAAECAZlxzQgAAgNJgZnNCAAAAvwhwc0IAAEARA3pzQgAAwP2qg3NCAAAAUKWNc0IAAECin5dzQgAAwI5HoXNCAAAA4UGrc0IAAIDN6bRzQgAAwB/kvnNCAAAAct7Ic0IAAACT4dFzQgAAQOXb23NCAADA0YPlc0IAAAAkfu9zQgAAgBAm+XNCAADAYiADdEIAAAC1Gg10QgAAgKHCFnRCAADA87wgdEIAAEDgZCp0QgAAgDJfNHRCAADAhFk+dEIAAMClXEd0QgAAAPhWUXRCAACA5P5adEIAAMA2+WR0QgAAQCOhbnRCAACAdZt4dEIAAMDHlYJ0QgAAQLQ9jHRCAACABjiWdEIAAADz3590QgAAQEXaqXRCAACAl9SzdEIAAIC417x0QgAAwArSxnRCAABA93nQdEIAAIBJdNp0QgAAADYc5HRCAABAiBbudEIAAIDaEPh0QgAAAMe4AXVCAABAGbMLdUIAAMAFWxV1QgAAAFhVH3VCAABAqk8pdUIAAAAxpTJ1QgAAQIOfPHVCAADAb0dGdUIAAADCQVB1QgAAgK7pWXVCAADAAORjdUIAAABT3m11QgAAgD+Gd3VCAADAkYCBdUIAAEB+KIt1QgAAgNAilXVCAADAIh2fdUIAAMBDIKh1QgAAAJYasnVCAACAgsK7dUIAAMDUvMV1QgAAQMFkz3VCAACAE1/ZdUIAAMBlWeN1QgAAQFIB7XVCAACApPv2dUIAAACRowB2QgAAQOOdCnZCAACANZgUdkIAAIBWmx12QgAAwKiVJ3ZCAABAlT0xdkIAAIDnNzt2QgAAANTfRHZCAABAJtpOdkIAAIB41Fh2QgAAAGV8YnZCAABAt3ZsdkIAAMCjHnZ2QgAAAPYYgHZCAABASBOKdkIAAEBpFpN2QgAAgLsQnXZCAAAAqLimdkIAAED6srB2QgAAwOZaunZCAAAAOVXEdkIAAECLT852QgAAwHf313ZCAAAAyvHhdkIAAIC2met2QgAAwAiU9XZCAAAAW47/dkIAAMDh4wh3QgAAADTeEndCAACAIIYcd0IAAMBygCZ3QgAAQF8oMHdCAACAsSI6d0IAAMADHUR3QgAAQPDETXdCAACAQr9Xd0IAAAAvZ2F3QgAAQIFha3dCAACA01t1d0IAAID0Xn53QgAAwEZZiHdCAABAMwGSd0IAAICF+5t3QgAAAHKjpXdCAABAxJ2vd0IAAIAWmLl3QgAAAANAw3dCAABAVTrNd0IAAMBB4tZ3QgAAAJTc4HdCAABA5tbqd0IAAEAH2vN3QgAAgFnU/XdCAAAARnwHeEIAAECYdhF4QgAAwIQeG3hC\",\"dtype\":\"float64\",\"order\":\"little\",\"shape\":[147]},\"y\":{\"__ndarray__\":\"sAVbsFVUsUAAAAAAiP+wQFuwBVtQzbBAw9+mGDUesUAAAAAAAAD4fxzHcRyPMrBAAAAAAAAA+H9Kn/RJd+6wQCl90icdw69AAAAAAAAA+H8AAAAAAAD4fwAAAAAAAPh/AAAAAAAA+H9Kn/RJP42vQAAAAAAAAPh/AAAAAAAA+H/1SZ/0+UqvQAAAAAAAAPh/AAAAAAAA+H8AAAAAAAD4fwAAAAAAAPh/LtiCLZjQrUAAAAAAAAD4fwAAAAAAAPh/+qRP+oQMrUCTPumTBhiuQMAWbMHGfKxAAAAAAAAA+H8AAAAAAAD4f5qZmZm9M6xARERERISGq0BKn/RJH4OrQAAAAAAAAPh/AAAAAAAA+H8AAAAAAAD4fwAAAAAAAPh/AAAAAAAA+H8AAAAAAAD4fwZbsAUbRalAAAAAAAAA+H8AAAAAAAD4fwAAAAAAAPh/AAAAAAAA+H8AAAAAAAD4fwAAAAAAAPh/AAAAAAAA+H8AAAAAAAD4fy7Ygi04FalAAAAAAAAA+H8LtmALhvKmQAAAAAAAAPh/wRZswWbVp0CJiIiIuFqmQAAAAAAAAPh/AAAAAJBgpUAAAAAAAAD4fwAAAAAAAPh/AAAAAAAA+H8AAAAAAAD4f3d3d3cHiaRA5QunEybupEAzMzMzo3CkQBzHcRwbsKNAtmALtgico0AiIiIignyjQLy7u7urTqNA+qRP+vxRo0AAAAAAAAD4f83MzMy4LaNAgAZogMaiokAT2ktoX/miQC+hvYTizKFAYQu2YIvDoUCivIbyOrGhQGdzNmeru6FAaC+hvfSWoUA5juM47uWfQAAAAAAAAPh/LtiCLRgtoEAAAAAAAAD4f0YCvnmV255Agy3Ygo1ZnkDIcRzHwaedQKqqqqr67Z1A9Emf9Dkim0AXbMEWPDmdQBQLHfnAHJ1AftInffrAnECg9EmfNMKaQC3Ygi0YBptAUPqkT+KKm0AAAAAAIKGaQHIcx3G80ZdAAAAAAAAA+H/1SZ/0CW2YQAAAAAAAAPh/F2zBFgx1l0DcFKOGv8KWQHh3d3c3DJZAF2zBFgxVlkA2guoZ+0SWQEYjAd/cn5NAfdInfdKxlEBswRZsIVWTQH3SJ33as5NAAAAAAAAA+H9TjBr+prOSQHBTjBoe95NAj+M4jsPTkEBttziT0nmRQBhLfrHEX5FA7+7u7i4+k0C3YQy3oRaRQC7Ygi3QwpFAQS2KA+ShikAAAAAAAAD4f5/0SZ/034tAbMEWbCHqkEBr+NsUI02JQIMt2IJtZJBA5DiO43hQiEAAAAAAAAD4f5ti1PD3yYVAwRZswdZYhEDNzMzMDBCHQPEc4BI/bFtAFOwGRaiVM0CGC6kOGZ0nQGFPSMlxczJAPOj8ln78MEDikqXQATkyQGRnH82ANjRA1w8lGRCgQEA17c1+uGc0QNAQw5EnASNAIrmTJv5oK0AZ/yboEDcmQD2OviC4MCpAxd+VkGssI0DVaBKaq/0KQP1hDgh3BBtAZ0uf+vc0G0A+ld/sP/UfQBMJWTEuBRhALCRQqJ8fFUD8XIruyKQTQBQuO7JnoBVA\",\"dtype\":\"float64\",\"order\":\"little\",\"shape\":[147]}},\"selected\":{\"id\":\"1352\"},\"selection_policy\":{\"id\":\"1351\"}},\"id\":\"1338\",\"type\":\"ColumnDataSource\"},{\"attributes\":{},\"id\":\"1351\",\"type\":\"UnionRenderers\"},{\"attributes\":{},\"id\":\"1329\",\"type\":\"ResetTool\"},{\"attributes\":{},\"id\":\"1330\",\"type\":\"SaveTool\"},{\"attributes\":{},\"id\":\"1352\",\"type\":\"Selection\"},{\"attributes\":{\"line_color\":\"red\",\"line_width\":8,\"x\":{\"field\":\"x\"},\"y\":{\"field\":\"y\"}},\"id\":\"1339\",\"type\":\"Line\"},{\"attributes\":{},\"id\":\"1328\",\"type\":\"CrosshairTool\"},{\"attributes\":{\"bottom_units\":\"screen\",\"coordinates\":null,\"fill_alpha\":0.5,\"fill_color\":\"lightgrey\",\"group\":null,\"left_units\":\"screen\",\"level\":\"overlay\",\"line_alpha\":1.0,\"line_color\":\"black\",\"line_dash\":[4,4],\"line_width\":2,\"right_units\":\"screen\",\"syncable\":false,\"top_units\":\"screen\"},\"id\":\"1331\",\"type\":\"BoxAnnotation\"},{\"attributes\":{},\"id\":\"1326\",\"type\":\"PanTool\"},{\"attributes\":{\"axis_label\":\"months\",\"coordinates\":null,\"formatter\":{\"id\":\"1349\"},\"group\":null,\"major_label_policy\":{\"id\":\"1350\"},\"ticker\":{\"id\":\"1319\"}},\"id\":\"1318\",\"type\":\"DatetimeAxis\"},{\"attributes\":{},\"id\":\"1314\",\"type\":\"LinearScale\"},{\"attributes\":{\"coordinates\":null,\"group\":null,\"items\":[{\"id\":\"1367\"}]},\"id\":\"1366\",\"type\":\"Legend\"},{\"attributes\":{\"source\":{\"id\":\"1338\"}},\"id\":\"1343\",\"type\":\"CDSView\"},{\"attributes\":{},\"id\":\"1323\",\"type\":\"BasicTicker\"},{\"attributes\":{\"line_alpha\":0.2,\"line_color\":\"red\",\"line_width\":8,\"x\":{\"field\":\"x\"},\"y\":{\"field\":\"y\"}},\"id\":\"1341\",\"type\":\"Line\"},{\"attributes\":{\"axis\":{\"id\":\"1322\"},\"coordinates\":null,\"dimension\":1,\"group\":null,\"ticker\":null},\"id\":\"1325\",\"type\":\"Grid\"},{\"attributes\":{\"num_minor_ticks\":5,\"tickers\":[{\"id\":\"1354\"},{\"id\":\"1355\"},{\"id\":\"1356\"},{\"id\":\"1357\"},{\"id\":\"1358\"},{\"id\":\"1359\"},{\"id\":\"1360\"},{\"id\":\"1361\"},{\"id\":\"1362\"},{\"id\":\"1363\"},{\"id\":\"1364\"},{\"id\":\"1365\"}]},\"id\":\"1319\",\"type\":\"DatetimeTicker\"},{\"attributes\":{\"axis\":{\"id\":\"1318\"},\"coordinates\":null,\"group\":null,\"ticker\":null},\"id\":\"1321\",\"type\":\"Grid\"},{\"attributes\":{},\"id\":\"1349\",\"type\":\"DatetimeTickFormatter\"},{\"attributes\":{},\"id\":\"1316\",\"type\":\"LinearScale\"},{\"attributes\":{},\"id\":\"1346\",\"type\":\"BasicTickFormatter\"},{\"attributes\":{\"coordinates\":null,\"group\":null,\"text\":\"Mean Processing Time (monthly)\"},\"id\":\"1308\",\"type\":\"Title\"},{\"attributes\":{\"axis_label\":\"time\",\"coordinates\":null,\"formatter\":{\"id\":\"1346\"},\"group\":null,\"major_label_policy\":{\"id\":\"1347\"},\"ticker\":{\"id\":\"1323\"}},\"id\":\"1322\",\"type\":\"LinearAxis\"},{\"attributes\":{\"mantissas\":[1,2,5],\"max_interval\":500.0,\"num_minor_ticks\":0},\"id\":\"1354\",\"type\":\"AdaptiveTicker\"},{\"attributes\":{\"days\":[1,4,7,10,13,16,19,22,25,28]},\"id\":\"1358\",\"type\":\"DaysTicker\"},{\"attributes\":{\"coordinates\":null,\"data_source\":{\"id\":\"1338\"},\"glyph\":{\"id\":\"1339\"},\"group\":null,\"hover_glyph\":null,\"muted_glyph\":{\"id\":\"1341\"},\"nonselection_glyph\":{\"id\":\"1340\"},\"view\":{\"id\":\"1343\"}},\"id\":\"1342\",\"type\":\"GlyphRenderer\"},{\"attributes\":{},\"id\":\"1312\",\"type\":\"DataRange1d\"},{\"attributes\":{},\"id\":\"1347\",\"type\":\"AllLabels\"},{\"attributes\":{\"base\":60,\"mantissas\":[1,2,5,10,15,20,30],\"max_interval\":1800000.0,\"min_interval\":1000.0,\"num_minor_ticks\":0},\"id\":\"1355\",\"type\":\"AdaptiveTicker\"},{\"attributes\":{\"label\":{\"value\":\"monthly mean\"},\"renderers\":[{\"id\":\"1342\"}]},\"id\":\"1367\",\"type\":\"LegendItem\"},{\"attributes\":{\"base\":24,\"mantissas\":[1,2,4,6,8,12],\"max_interval\":43200000.0,\"min_interval\":3600000.0,\"num_minor_ticks\":0},\"id\":\"1356\",\"type\":\"AdaptiveTicker\"},{\"attributes\":{},\"id\":\"1365\",\"type\":\"YearsTicker\"},{\"attributes\":{},\"id\":\"1310\",\"type\":\"DataRange1d\"},{\"attributes\":{\"months\":[0,1,2,3,4,5,6,7,8,9,10,11]},\"id\":\"1361\",\"type\":\"MonthsTicker\"},{\"attributes\":{\"days\":[1,15]},\"id\":\"1360\",\"type\":\"DaysTicker\"},{\"attributes\":{\"days\":[1,2,3,4,5,6,7,8,9,10,11,12,13,14,15,16,17,18,19,20,21,22,23,24,25,26,27,28,29,30,31]},\"id\":\"1357\",\"type\":\"DaysTicker\"},{\"attributes\":{\"line_alpha\":0.1,\"line_color\":\"red\",\"line_width\":8,\"x\":{\"field\":\"x\"},\"y\":{\"field\":\"y\"}},\"id\":\"1340\",\"type\":\"Line\"},{\"attributes\":{\"overlay\":{\"id\":\"1331\"}},\"id\":\"1327\",\"type\":\"BoxZoomTool\"},{\"attributes\":{\"days\":[1,8,15,22]},\"id\":\"1359\",\"type\":\"DaysTicker\"},{\"attributes\":{\"months\":[0,6]},\"id\":\"1364\",\"type\":\"MonthsTicker\"}],\"root_ids\":[\"1307\"]},\"title\":\"Bokeh Application\",\"version\":\"2.4.3\"}};\n  const render_items = [{\"docid\":\"73143d37-ee58-4632-83c3-4b07fcb64f5e\",\"root_ids\":[\"1307\"],\"roots\":{\"1307\":\"ccc1ac59-9b73-4f78-b9f9-d4ae90378c5b\"}}];\n  root.Bokeh.embed.embed_items_notebook(docs_json, render_items);\n  }\n  if (root.Bokeh !== undefined) {\n    embed_document(root);\n  } else {\n    let attempts = 0;\n    const timer = setInterval(function(root) {\n      if (root.Bokeh !== undefined) {\n        clearInterval(timer);\n        embed_document(root);\n      } else {\n        attempts++;\n        if (attempts > 100) {\n          clearInterval(timer);\n          console.log(\"Bokeh: ERROR: Unable to run BokehJS code because BokehJS library is missing\");\n        }\n      }\n    }, 10, root)\n  }\n})(window);",
      "application/vnd.bokehjs_exec.v0+json": ""
     },
     "metadata": {
      "application/vnd.bokehjs_exec.v0+json": {
       "id": "1307"
      }
     },
     "output_type": "display_data"
    }
   ],
   "source": [
    "import pandas as pd\n",
    "p = figure(title=\"Mean Processing Time (monthly)\",plot_width=600, plot_height=400,\n",
    "          x_axis_label = \"months\",y_axis_label = \"time\",x_axis_type=\"datetime\",\n",
    "          tools=\"pan,box_zoom, crosshair,reset, save\")\n",
    "\n",
    "p.line(pd.to_datetime(months_mean.index,format=\"%Y%m\"), \n",
    "       months_mean,\n",
    "       legend_label=\"monthly mean\",\n",
    "      line_color = \"red\",\n",
    "      line_width = 8)\n",
    "\n",
    "show(p)\n",
    "\n"
   ]
  },
  {
   "cell_type": "markdown",
   "metadata": {},
   "source": [
    "<br><br><br><br>\n",
    "<span style=\"color:blue;font-size:large\">The bar chart</span>\n",
    "<li><a href=\"https://docs.bokeh.org/en/latest/docs/reference/models/glyphs/vbar.html\">vbar</a> for vertical bars (hbar for horizontal bars)</li>\n",
    "<li>x axis labels need to be of type string</li>\n",
    "<li>We can convert the day numbers to str or just create the label list</li>\n"
   ]
  },
  {
   "cell_type": "code",
   "execution_count": 14,
   "metadata": {},
   "outputs": [
    {
     "data": {
      "text/plain": [
       "Created Date\n",
       "0    7.272320\n",
       "1    7.345536\n",
       "2    8.150530\n",
       "3    7.595277\n",
       "4    7.388034\n",
       "5    5.666127\n",
       "6    4.096463\n",
       "Name: processing_days, dtype: float64"
      ]
     },
     "execution_count": 14,
     "metadata": {},
     "output_type": "execute_result"
    }
   ],
   "source": [
    "day_of_week_mean"
   ]
  },
  {
   "cell_type": "code",
   "execution_count": 15,
   "metadata": {
    "scrolled": true
   },
   "outputs": [
    {
     "data": {
      "text/html": [
       "\n",
       "  <div class=\"bk-root\" id=\"ed46e7e2-1209-449c-9018-7104ad55313a\" data-root-id=\"1532\"></div>\n"
      ]
     },
     "metadata": {},
     "output_type": "display_data"
    },
    {
     "data": {
      "application/javascript": "(function(root) {\n  function embed_document(root) {\n  const docs_json = {\"152cbb47-381e-4081-9386-4287af067e2b\":{\"defs\":[],\"roots\":{\"references\":[{\"attributes\":{\"below\":[{\"id\":\"1541\"}],\"center\":[{\"id\":\"1543\"},{\"id\":\"1547\"},{\"id\":\"1579\"}],\"height\":300,\"left\":[{\"id\":\"1544\"}],\"renderers\":[{\"id\":\"1566\"}],\"title\":{\"id\":\"1568\"},\"toolbar\":{\"id\":\"1555\"},\"x_range\":{\"id\":\"1533\"},\"x_scale\":{\"id\":\"1537\"},\"y_range\":{\"id\":\"1535\"},\"y_scale\":{\"id\":\"1539\"}},\"id\":\"1532\",\"subtype\":\"Figure\",\"type\":\"Plot\"},{\"attributes\":{\"fill_alpha\":{\"value\":0.1},\"fill_color\":{\"value\":\"blue\"},\"hatch_alpha\":{\"value\":0.1},\"hatch_color\":{\"value\":\"blue\"},\"line_alpha\":{\"value\":0.1},\"line_color\":{\"value\":\"blue\"},\"top\":{\"field\":\"top\"},\"width\":{\"value\":0.6},\"x\":{\"field\":\"x\"}},\"id\":\"1564\",\"type\":\"VBar\"},{\"attributes\":{},\"id\":\"1571\",\"type\":\"BasicTickFormatter\"},{\"attributes\":{\"source\":{\"id\":\"1562\"}},\"id\":\"1567\",\"type\":\"CDSView\"},{\"attributes\":{},\"id\":\"1551\",\"type\":\"SaveTool\"},{\"attributes\":{},\"id\":\"1552\",\"type\":\"ResetTool\"},{\"attributes\":{\"label\":{\"value\":\"means\"},\"renderers\":[{\"id\":\"1566\"}]},\"id\":\"1580\",\"type\":\"LegendItem\"},{\"attributes\":{\"overlay\":{\"id\":\"1554\"}},\"id\":\"1550\",\"type\":\"BoxZoomTool\"},{\"attributes\":{},\"id\":\"1572\",\"type\":\"AllLabels\"},{\"attributes\":{\"coordinates\":null,\"group\":null},\"id\":\"1568\",\"type\":\"Title\"},{\"attributes\":{\"coordinates\":null,\"data_source\":{\"id\":\"1562\"},\"glyph\":{\"id\":\"1563\"},\"group\":null,\"hover_glyph\":null,\"muted_glyph\":{\"id\":\"1565\"},\"nonselection_glyph\":{\"id\":\"1564\"},\"view\":{\"id\":\"1567\"}},\"id\":\"1566\",\"type\":\"GlyphRenderer\"},{\"attributes\":{},\"id\":\"1577\",\"type\":\"Selection\"},{\"attributes\":{\"axis\":{\"id\":\"1544\"},\"coordinates\":null,\"dimension\":1,\"group\":null,\"ticker\":null},\"id\":\"1547\",\"type\":\"Grid\"},{\"attributes\":{\"coordinates\":null,\"formatter\":{\"id\":\"1574\"},\"group\":null,\"major_label_policy\":{\"id\":\"1575\"},\"ticker\":{\"id\":\"1542\"}},\"id\":\"1541\",\"type\":\"CategoricalAxis\"},{\"attributes\":{},\"id\":\"1537\",\"type\":\"CategoricalScale\"},{\"attributes\":{\"axis\":{\"id\":\"1541\"},\"coordinates\":null,\"group\":null,\"ticker\":null},\"id\":\"1543\",\"type\":\"Grid\"},{\"attributes\":{\"coordinates\":null,\"group\":null,\"items\":[{\"id\":\"1580\"}]},\"id\":\"1579\",\"type\":\"Legend\"},{\"attributes\":{},\"id\":\"1542\",\"type\":\"CategoricalTicker\"},{\"attributes\":{},\"id\":\"1553\",\"type\":\"HelpTool\"},{\"attributes\":{},\"id\":\"1575\",\"type\":\"AllLabels\"},{\"attributes\":{\"factors\":[\"Monday\",\"Tuesday\",\"Wednesday\",\"Thursday\",\"Friday\",\"Saturday\",\"Sunday\"]},\"id\":\"1533\",\"type\":\"FactorRange\"},{\"attributes\":{\"bottom_units\":\"screen\",\"coordinates\":null,\"fill_alpha\":0.5,\"fill_color\":\"lightgrey\",\"group\":null,\"left_units\":\"screen\",\"level\":\"overlay\",\"line_alpha\":1.0,\"line_color\":\"black\",\"line_dash\":[4,4],\"line_width\":2,\"right_units\":\"screen\",\"syncable\":false,\"top_units\":\"screen\"},\"id\":\"1554\",\"type\":\"BoxAnnotation\"},{\"attributes\":{},\"id\":\"1548\",\"type\":\"PanTool\"},{\"attributes\":{},\"id\":\"1549\",\"type\":\"WheelZoomTool\"},{\"attributes\":{\"fill_color\":{\"value\":\"blue\"},\"hatch_color\":{\"value\":\"blue\"},\"line_color\":{\"value\":\"blue\"},\"top\":{\"field\":\"top\"},\"width\":{\"value\":0.6},\"x\":{\"field\":\"x\"}},\"id\":\"1563\",\"type\":\"VBar\"},{\"attributes\":{\"coordinates\":null,\"formatter\":{\"id\":\"1571\"},\"group\":null,\"major_label_policy\":{\"id\":\"1572\"},\"ticker\":{\"id\":\"1545\"}},\"id\":\"1544\",\"type\":\"LinearAxis\"},{\"attributes\":{\"end\":25},\"id\":\"1535\",\"type\":\"Range1d\"},{\"attributes\":{\"fill_alpha\":{\"value\":0.2},\"fill_color\":{\"value\":\"blue\"},\"hatch_alpha\":{\"value\":0.2},\"hatch_color\":{\"value\":\"blue\"},\"line_alpha\":{\"value\":0.2},\"line_color\":{\"value\":\"blue\"},\"top\":{\"field\":\"top\"},\"width\":{\"value\":0.6},\"x\":{\"field\":\"x\"}},\"id\":\"1565\",\"type\":\"VBar\"},{\"attributes\":{\"data\":{\"top\":{\"__ndarray__\":\"jR+K/doWHUCQPMUk1GEdQD1CVE4STSBAFYOQRZBhHkAGRe/AWI0dQOgMhRcdqhZADMyCEcdiEEA=\",\"dtype\":\"float64\",\"order\":\"little\",\"shape\":[7]},\"x\":[\"Monday\",\"Tuesday\",\"Wednesday\",\"Thursday\",\"Friday\",\"Saturday\",\"Sunday\"]},\"selected\":{\"id\":\"1577\"},\"selection_policy\":{\"id\":\"1576\"}},\"id\":\"1562\",\"type\":\"ColumnDataSource\"},{\"attributes\":{},\"id\":\"1574\",\"type\":\"CategoricalTickFormatter\"},{\"attributes\":{},\"id\":\"1545\",\"type\":\"BasicTicker\"},{\"attributes\":{\"tools\":[{\"id\":\"1548\"},{\"id\":\"1549\"},{\"id\":\"1550\"},{\"id\":\"1551\"},{\"id\":\"1552\"},{\"id\":\"1553\"}]},\"id\":\"1555\",\"type\":\"Toolbar\"},{\"attributes\":{},\"id\":\"1539\",\"type\":\"LinearScale\"},{\"attributes\":{},\"id\":\"1576\",\"type\":\"UnionRenderers\"}],\"root_ids\":[\"1532\"]},\"title\":\"Bokeh Application\",\"version\":\"2.4.3\"}};\n  const render_items = [{\"docid\":\"152cbb47-381e-4081-9386-4287af067e2b\",\"root_ids\":[\"1532\"],\"roots\":{\"1532\":\"ed46e7e2-1209-449c-9018-7104ad55313a\"}}];\n  root.Bokeh.embed.embed_items_notebook(docs_json, render_items);\n  }\n  if (root.Bokeh !== undefined) {\n    embed_document(root);\n  } else {\n    let attempts = 0;\n    const timer = setInterval(function(root) {\n      if (root.Bokeh !== undefined) {\n        clearInterval(timer);\n        embed_document(root);\n      } else {\n        attempts++;\n        if (attempts > 100) {\n          clearInterval(timer);\n          console.log(\"Bokeh: ERROR: Unable to run BokehJS code because BokehJS library is missing\");\n        }\n      }\n    }, 10, root)\n  }\n})(window);",
      "application/vnd.bokehjs_exec.v0+json": ""
     },
     "metadata": {
      "application/vnd.bokehjs_exec.v0+json": {
       "id": "1532"
      }
     },
     "output_type": "display_data"
    }
   ],
   "source": [
    "number_labels = [str(day) for day in day_of_week_mean.index] #But we'll use text_labels\n",
    "text_labels = [\"Monday\",\"Tuesday\",\"Wednesday\",\"Thursday\",\"Friday\",\"Saturday\",\"Sunday\"]\n",
    "value = day_of_week_mean\n",
    "\n",
    "p = figure(x_range=text_labels, y_range=(0, 25),plot_width=600, plot_height=300)\n",
    "\n",
    "p.vbar(x=text_labels, top=value , width=0.6, color = \"blue\",legend_label=\"means\")\n",
    "\n",
    "show(p)\n"
   ]
  },
  {
   "cell_type": "markdown",
   "metadata": {},
   "source": [
    "<br><br><br><br>\n",
    "<span style=\"color:blue;font-size:large\">Grid plots in bokeh</span>\n",
    "<li>define each figure separately</li>\n",
    "<li>use gridplot to create a grid</li>\n",
    "<li>gridplot takes a matrix of plots as its input</li>"
   ]
  },
  {
   "cell_type": "code",
   "execution_count": 16,
   "metadata": {},
   "outputs": [
    {
     "data": {
      "text/html": [
       "\n",
       "  <div class=\"bk-root\" id=\"b1aeb2aa-3079-49fb-8cda-505c17425da3\" data-root-id=\"1849\"></div>\n"
      ]
     },
     "metadata": {},
     "output_type": "display_data"
    },
    {
     "data": {
      "application/javascript": "(function(root) {\n  function embed_document(root) {\n  const docs_json = {\"be7c667c-cc2d-4353-8df9-412200b3d49b\":{\"defs\":[],\"roots\":{\"references\":[{\"attributes\":{\"children\":[{\"id\":\"1848\"},{\"id\":\"1846\"}],\"sizing_mode\":\"scale_both\"},\"id\":\"1849\",\"type\":\"Column\"},{\"attributes\":{\"bottom_units\":\"screen\",\"coordinates\":null,\"fill_alpha\":0.5,\"fill_color\":\"lightgrey\",\"group\":null,\"left_units\":\"screen\",\"level\":\"overlay\",\"line_alpha\":1.0,\"line_color\":\"black\",\"line_dash\":[4,4],\"line_width\":2,\"right_units\":\"screen\",\"syncable\":false,\"top_units\":\"screen\"},\"id\":\"1725\",\"type\":\"BoxAnnotation\"},{\"attributes\":{\"line_alpha\":0.1,\"line_color\":\"red\",\"line_width\":8,\"x\":{\"field\":\"x\"},\"y\":{\"field\":\"y\"}},\"id\":\"1734\",\"type\":\"Line\"},{\"attributes\":{\"label\":{\"value\":\"monthly mean\"},\"renderers\":[{\"id\":\"1736\"}]},\"id\":\"1761\",\"type\":\"LegendItem\"},{\"attributes\":{\"coordinates\":null,\"group\":null,\"items\":[{\"id\":\"1761\"}]},\"id\":\"1760\",\"type\":\"Legend\"},{\"attributes\":{\"coordinates\":null,\"data_source\":{\"id\":\"1732\"},\"glyph\":{\"id\":\"1733\"},\"group\":null,\"hover_glyph\":null,\"muted_glyph\":{\"id\":\"1735\"},\"nonselection_glyph\":{\"id\":\"1734\"},\"view\":{\"id\":\"1737\"}},\"id\":\"1736\",\"type\":\"GlyphRenderer\"},{\"attributes\":{\"source\":{\"id\":\"1732\"}},\"id\":\"1737\",\"type\":\"CDSView\"},{\"attributes\":{\"line_color\":\"red\",\"line_width\":8,\"x\":{\"field\":\"x\"},\"y\":{\"field\":\"y\"}},\"id\":\"1733\",\"type\":\"Line\"},{\"attributes\":{},\"id\":\"1724\",\"type\":\"SaveTool\"},{\"attributes\":{\"line_alpha\":0.2,\"line_color\":\"red\",\"line_width\":8,\"x\":{\"field\":\"x\"},\"y\":{\"field\":\"y\"}},\"id\":\"1735\",\"type\":\"Line\"},{\"attributes\":{\"coordinates\":null,\"group\":null,\"text\":\"Mean Processing Time (monthly)\"},\"id\":\"1702\",\"type\":\"Title\"},{\"attributes\":{\"toolbars\":[{\"id\":\"1726\"},{\"id\":\"1785\"}],\"tools\":[{\"id\":\"1720\"},{\"id\":\"1721\"},{\"id\":\"1722\"},{\"id\":\"1723\"},{\"id\":\"1724\"},{\"id\":\"1778\"},{\"id\":\"1779\"},{\"id\":\"1780\"},{\"id\":\"1781\"},{\"id\":\"1782\"},{\"id\":\"1783\"}]},\"id\":\"1847\",\"type\":\"ProxyToolbar\"},{\"attributes\":{\"fill_color\":{\"value\":\"cyan\"},\"hatch_color\":{\"value\":\"cyan\"},\"line_color\":{\"value\":\"cyan\"},\"top\":{\"field\":\"top\"},\"width\":{\"value\":0.5},\"x\":{\"field\":\"x\"}},\"id\":\"1793\",\"type\":\"VBar\"},{\"attributes\":{\"axis_label\":\"months\",\"coordinates\":null,\"formatter\":{\"id\":\"1743\"},\"group\":null,\"major_label_policy\":{\"id\":\"1744\"},\"ticker\":{\"id\":\"1713\"}},\"id\":\"1712\",\"type\":\"DatetimeAxis\"},{\"attributes\":{\"factors\":[\"Monday\",\"Tuesday\",\"Wednesday\",\"Thursday\",\"Friday\",\"Saturday\",\"Sunday\"]},\"id\":\"1763\",\"type\":\"FactorRange\"},{\"attributes\":{\"children\":[[{\"id\":\"1701\"},0,0],[{\"id\":\"1762\"},0,1]]},\"id\":\"1846\",\"type\":\"GridBox\"},{\"attributes\":{\"toolbar\":{\"id\":\"1847\"},\"toolbar_location\":\"above\"},\"id\":\"1848\",\"type\":\"ToolbarBox\"},{\"attributes\":{},\"id\":\"1769\",\"type\":\"LinearScale\"},{\"attributes\":{},\"id\":\"1783\",\"type\":\"HelpTool\"},{\"attributes\":{},\"id\":\"1708\",\"type\":\"LinearScale\"},{\"attributes\":{\"axis\":{\"id\":\"1712\"},\"coordinates\":null,\"group\":null,\"ticker\":null},\"id\":\"1715\",\"type\":\"Grid\"},{\"attributes\":{\"below\":[{\"id\":\"1712\"}],\"center\":[{\"id\":\"1715\"},{\"id\":\"1719\"},{\"id\":\"1760\"}],\"height\":400,\"left\":[{\"id\":\"1716\"}],\"renderers\":[{\"id\":\"1736\"}],\"sizing_mode\":\"scale_both\",\"title\":{\"id\":\"1702\"},\"toolbar\":{\"id\":\"1726\"},\"toolbar_location\":null,\"x_range\":{\"id\":\"1704\"},\"x_scale\":{\"id\":\"1708\"},\"y_range\":{\"id\":\"1706\"},\"y_scale\":{\"id\":\"1710\"}},\"id\":\"1701\",\"subtype\":\"Figure\",\"type\":\"Plot\"},{\"attributes\":{\"fill_alpha\":{\"value\":0.1},\"fill_color\":{\"value\":\"cyan\"},\"hatch_alpha\":{\"value\":0.1},\"hatch_color\":{\"value\":\"cyan\"},\"line_alpha\":{\"value\":0.1},\"line_color\":{\"value\":\"cyan\"},\"top\":{\"field\":\"top\"},\"width\":{\"value\":0.5},\"x\":{\"field\":\"x\"}},\"id\":\"1794\",\"type\":\"VBar\"},{\"attributes\":{\"end\":25},\"id\":\"1765\",\"type\":\"Range1d\"},{\"attributes\":{\"num_minor_ticks\":5,\"tickers\":[{\"id\":\"1748\"},{\"id\":\"1749\"},{\"id\":\"1750\"},{\"id\":\"1751\"},{\"id\":\"1752\"},{\"id\":\"1753\"},{\"id\":\"1754\"},{\"id\":\"1755\"},{\"id\":\"1756\"},{\"id\":\"1757\"},{\"id\":\"1758\"},{\"id\":\"1759\"}]},\"id\":\"1713\",\"type\":\"DatetimeTicker\"},{\"attributes\":{\"axis_label\":\"time\",\"coordinates\":null,\"formatter\":{\"id\":\"1740\"},\"group\":null,\"major_label_policy\":{\"id\":\"1741\"},\"ticker\":{\"id\":\"1717\"}},\"id\":\"1716\",\"type\":\"LinearAxis\"},{\"attributes\":{},\"id\":\"1772\",\"type\":\"CategoricalTicker\"},{\"attributes\":{},\"id\":\"1767\",\"type\":\"CategoricalScale\"},{\"attributes\":{\"coordinates\":null,\"formatter\":{\"id\":\"1804\"},\"group\":null,\"major_label_policy\":{\"id\":\"1805\"},\"ticker\":{\"id\":\"1772\"}},\"id\":\"1771\",\"type\":\"CategoricalAxis\"},{\"attributes\":{\"coordinates\":null,\"formatter\":{\"id\":\"1801\"},\"group\":null,\"major_label_policy\":{\"id\":\"1802\"},\"ticker\":{\"id\":\"1775\"}},\"id\":\"1774\",\"type\":\"LinearAxis\"},{\"attributes\":{\"axis\":{\"id\":\"1771\"},\"coordinates\":null,\"group\":null,\"ticker\":null},\"id\":\"1773\",\"type\":\"Grid\"},{\"attributes\":{\"axis\":{\"id\":\"1774\"},\"coordinates\":null,\"dimension\":1,\"group\":null,\"ticker\":null},\"id\":\"1777\",\"type\":\"Grid\"},{\"attributes\":{},\"id\":\"1775\",\"type\":\"BasicTicker\"},{\"attributes\":{\"tools\":[{\"id\":\"1720\"},{\"id\":\"1721\"},{\"id\":\"1722\"},{\"id\":\"1723\"},{\"id\":\"1724\"}]},\"id\":\"1726\",\"type\":\"Toolbar\"},{\"attributes\":{},\"id\":\"1704\",\"type\":\"DataRange1d\"},{\"attributes\":{},\"id\":\"1779\",\"type\":\"WheelZoomTool\"},{\"attributes\":{\"data\":{\"top\":{\"__ndarray__\":\"jR+K/doWHUCQPMUk1GEdQD1CVE4STSBAFYOQRZBhHkAGRe/AWI0dQOgMhRcdqhZADMyCEcdiEEA=\",\"dtype\":\"float64\",\"order\":\"little\",\"shape\":[7]},\"x\":[\"Monday\",\"Tuesday\",\"Wednesday\",\"Thursday\",\"Friday\",\"Saturday\",\"Sunday\"]},\"selected\":{\"id\":\"1807\"},\"selection_policy\":{\"id\":\"1806\"}},\"id\":\"1792\",\"type\":\"ColumnDataSource\"},{\"attributes\":{},\"id\":\"1778\",\"type\":\"PanTool\"},{\"attributes\":{\"overlay\":{\"id\":\"1784\"}},\"id\":\"1780\",\"type\":\"BoxZoomTool\"},{\"attributes\":{},\"id\":\"1781\",\"type\":\"SaveTool\"},{\"attributes\":{},\"id\":\"1782\",\"type\":\"ResetTool\"},{\"attributes\":{\"bottom_units\":\"screen\",\"coordinates\":null,\"fill_alpha\":0.5,\"fill_color\":\"lightgrey\",\"group\":null,\"left_units\":\"screen\",\"level\":\"overlay\",\"line_alpha\":1.0,\"line_color\":\"black\",\"line_dash\":[4,4],\"line_width\":2,\"right_units\":\"screen\",\"syncable\":false,\"top_units\":\"screen\"},\"id\":\"1784\",\"type\":\"BoxAnnotation\"},{\"attributes\":{\"tools\":[{\"id\":\"1778\"},{\"id\":\"1779\"},{\"id\":\"1780\"},{\"id\":\"1781\"},{\"id\":\"1782\"},{\"id\":\"1783\"}]},\"id\":\"1785\",\"type\":\"Toolbar\"},{\"attributes\":{\"overlay\":{\"id\":\"1725\"}},\"id\":\"1721\",\"type\":\"BoxZoomTool\"},{\"attributes\":{},\"id\":\"1710\",\"type\":\"LinearScale\"},{\"attributes\":{\"data\":{\"x\":{\"__ndarray__\":\"AADAM8CEckIAAACGuo5yQgAAgHJimHJCAADAxFyickIAAAAXV6xyQgAAgAP/tXJCAADAVfm/ckIAAEBCoclyQgAAgJSb03JCAADA5pXdckIAAMAHmeZyQgAAAFqT8HJCAACARjv6ckIAAMCYNQRzQgAAQIXdDXNCAACA19cXc0IAAMAp0iFzQgAAQBZ6K3NCAACAaHQ1c0IAAABVHD9zQgAAQKcWSXNCAACA+RBTc0IAAECAZlxzQgAAgNJgZnNCAAAAvwhwc0IAAEARA3pzQgAAwP2qg3NCAAAAUKWNc0IAAECin5dzQgAAwI5HoXNCAAAA4UGrc0IAAIDN6bRzQgAAwB/kvnNCAAAAct7Ic0IAAACT4dFzQgAAQOXb23NCAADA0YPlc0IAAAAkfu9zQgAAgBAm+XNCAADAYiADdEIAAAC1Gg10QgAAgKHCFnRCAADA87wgdEIAAEDgZCp0QgAAgDJfNHRCAADAhFk+dEIAAMClXEd0QgAAAPhWUXRCAACA5P5adEIAAMA2+WR0QgAAQCOhbnRCAACAdZt4dEIAAMDHlYJ0QgAAQLQ9jHRCAACABjiWdEIAAADz3590QgAAQEXaqXRCAACAl9SzdEIAAIC417x0QgAAwArSxnRCAABA93nQdEIAAIBJdNp0QgAAADYc5HRCAABAiBbudEIAAIDaEPh0QgAAAMe4AXVCAABAGbMLdUIAAMAFWxV1QgAAAFhVH3VCAABAqk8pdUIAAAAxpTJ1QgAAQIOfPHVCAADAb0dGdUIAAADCQVB1QgAAgK7pWXVCAADAAORjdUIAAABT3m11QgAAgD+Gd3VCAADAkYCBdUIAAEB+KIt1QgAAgNAilXVCAADAIh2fdUIAAMBDIKh1QgAAAJYasnVCAACAgsK7dUIAAMDUvMV1QgAAQMFkz3VCAACAE1/ZdUIAAMBlWeN1QgAAQFIB7XVCAACApPv2dUIAAACRowB2QgAAQOOdCnZCAACANZgUdkIAAIBWmx12QgAAwKiVJ3ZCAABAlT0xdkIAAIDnNzt2QgAAANTfRHZCAABAJtpOdkIAAIB41Fh2QgAAAGV8YnZCAABAt3ZsdkIAAMCjHnZ2QgAAAPYYgHZCAABASBOKdkIAAEBpFpN2QgAAgLsQnXZCAAAAqLimdkIAAED6srB2QgAAwOZaunZCAAAAOVXEdkIAAECLT852QgAAwHf313ZCAAAAyvHhdkIAAIC2met2QgAAwAiU9XZCAAAAW47/dkIAAMDh4wh3QgAAADTeEndCAACAIIYcd0IAAMBygCZ3QgAAQF8oMHdCAACAsSI6d0IAAMADHUR3QgAAQPDETXdCAACAQr9Xd0IAAAAvZ2F3QgAAQIFha3dCAACA01t1d0IAAID0Xn53QgAAwEZZiHdCAABAMwGSd0IAAICF+5t3QgAAAHKjpXdCAABAxJ2vd0IAAIAWmLl3QgAAAANAw3dCAABAVTrNd0IAAMBB4tZ3QgAAAJTc4HdCAABA5tbqd0IAAEAH2vN3QgAAgFnU/XdCAAAARnwHeEIAAECYdhF4QgAAwIQeG3hC\",\"dtype\":\"float64\",\"order\":\"little\",\"shape\":[147]},\"y\":{\"__ndarray__\":\"sAVbsFVUsUAAAAAAiP+wQFuwBVtQzbBAw9+mGDUesUAAAAAAAAD4fxzHcRyPMrBAAAAAAAAA+H9Kn/RJd+6wQCl90icdw69AAAAAAAAA+H8AAAAAAAD4fwAAAAAAAPh/AAAAAAAA+H9Kn/RJP42vQAAAAAAAAPh/AAAAAAAA+H/1SZ/0+UqvQAAAAAAAAPh/AAAAAAAA+H8AAAAAAAD4fwAAAAAAAPh/LtiCLZjQrUAAAAAAAAD4fwAAAAAAAPh/+qRP+oQMrUCTPumTBhiuQMAWbMHGfKxAAAAAAAAA+H8AAAAAAAD4f5qZmZm9M6xARERERISGq0BKn/RJH4OrQAAAAAAAAPh/AAAAAAAA+H8AAAAAAAD4fwAAAAAAAPh/AAAAAAAA+H8AAAAAAAD4fwZbsAUbRalAAAAAAAAA+H8AAAAAAAD4fwAAAAAAAPh/AAAAAAAA+H8AAAAAAAD4fwAAAAAAAPh/AAAAAAAA+H8AAAAAAAD4fy7Ygi04FalAAAAAAAAA+H8LtmALhvKmQAAAAAAAAPh/wRZswWbVp0CJiIiIuFqmQAAAAAAAAPh/AAAAAJBgpUAAAAAAAAD4fwAAAAAAAPh/AAAAAAAA+H8AAAAAAAD4f3d3d3cHiaRA5QunEybupEAzMzMzo3CkQBzHcRwbsKNAtmALtgico0AiIiIignyjQLy7u7urTqNA+qRP+vxRo0AAAAAAAAD4f83MzMy4LaNAgAZogMaiokAT2ktoX/miQC+hvYTizKFAYQu2YIvDoUCivIbyOrGhQGdzNmeru6FAaC+hvfSWoUA5juM47uWfQAAAAAAAAPh/LtiCLRgtoEAAAAAAAAD4f0YCvnmV255Agy3Ygo1ZnkDIcRzHwaedQKqqqqr67Z1A9Emf9Dkim0AXbMEWPDmdQBQLHfnAHJ1AftInffrAnECg9EmfNMKaQC3Ygi0YBptAUPqkT+KKm0AAAAAAIKGaQHIcx3G80ZdAAAAAAAAA+H/1SZ/0CW2YQAAAAAAAAPh/F2zBFgx1l0DcFKOGv8KWQHh3d3c3DJZAF2zBFgxVlkA2guoZ+0SWQEYjAd/cn5NAfdInfdKxlEBswRZsIVWTQH3SJ33as5NAAAAAAAAA+H9TjBr+prOSQHBTjBoe95NAj+M4jsPTkEBttziT0nmRQBhLfrHEX5FA7+7u7i4+k0C3YQy3oRaRQC7Ygi3QwpFAQS2KA+ShikAAAAAAAAD4f5/0SZ/034tAbMEWbCHqkEBr+NsUI02JQIMt2IJtZJBA5DiO43hQiEAAAAAAAAD4f5ti1PD3yYVAwRZswdZYhEDNzMzMDBCHQPEc4BI/bFtAFOwGRaiVM0CGC6kOGZ0nQGFPSMlxczJAPOj8ln78MEDikqXQATkyQGRnH82ANjRA1w8lGRCgQEA17c1+uGc0QNAQw5EnASNAIrmTJv5oK0AZ/yboEDcmQD2OviC4MCpAxd+VkGssI0DVaBKaq/0KQP1hDgh3BBtAZ0uf+vc0G0A+ld/sP/UfQBMJWTEuBRhALCRQqJ8fFUD8XIruyKQTQBQuO7JnoBVA\",\"dtype\":\"float64\",\"order\":\"little\",\"shape\":[147]}},\"selected\":{\"id\":\"1746\"},\"selection_policy\":{\"id\":\"1745\"}},\"id\":\"1732\",\"type\":\"ColumnDataSource\"},{\"attributes\":{\"below\":[{\"id\":\"1771\"}],\"center\":[{\"id\":\"1773\"},{\"id\":\"1777\"},{\"id\":\"1809\"}],\"height\":400,\"left\":[{\"id\":\"1774\"}],\"renderers\":[{\"id\":\"1796\"}],\"sizing_mode\":\"scale_both\",\"title\":{\"id\":\"1798\"},\"toolbar\":{\"id\":\"1785\"},\"toolbar_location\":null,\"x_range\":{\"id\":\"1763\"},\"x_scale\":{\"id\":\"1767\"},\"y_range\":{\"id\":\"1765\"},\"y_scale\":{\"id\":\"1769\"}},\"id\":\"1762\",\"subtype\":\"Figure\",\"type\":\"Plot\"},{\"attributes\":{\"axis\":{\"id\":\"1716\"},\"coordinates\":null,\"dimension\":1,\"group\":null,\"ticker\":null},\"id\":\"1719\",\"type\":\"Grid\"},{\"attributes\":{},\"id\":\"1717\",\"type\":\"BasicTicker\"},{\"attributes\":{},\"id\":\"1723\",\"type\":\"ResetTool\"},{\"attributes\":{},\"id\":\"1722\",\"type\":\"CrosshairTool\"},{\"attributes\":{},\"id\":\"1706\",\"type\":\"DataRange1d\"},{\"attributes\":{},\"id\":\"1720\",\"type\":\"PanTool\"},{\"attributes\":{},\"id\":\"1801\",\"type\":\"BasicTickFormatter\"},{\"attributes\":{\"coordinates\":null,\"data_source\":{\"id\":\"1792\"},\"glyph\":{\"id\":\"1793\"},\"group\":null,\"hover_glyph\":null,\"muted_glyph\":{\"id\":\"1795\"},\"nonselection_glyph\":{\"id\":\"1794\"},\"view\":{\"id\":\"1797\"}},\"id\":\"1796\",\"type\":\"GlyphRenderer\"},{\"attributes\":{\"fill_alpha\":{\"value\":0.2},\"fill_color\":{\"value\":\"cyan\"},\"hatch_alpha\":{\"value\":0.2},\"hatch_color\":{\"value\":\"cyan\"},\"line_alpha\":{\"value\":0.2},\"line_color\":{\"value\":\"cyan\"},\"top\":{\"field\":\"top\"},\"width\":{\"value\":0.5},\"x\":{\"field\":\"x\"}},\"id\":\"1795\",\"type\":\"VBar\"},{\"attributes\":{},\"id\":\"1740\",\"type\":\"BasicTickFormatter\"},{\"attributes\":{},\"id\":\"1741\",\"type\":\"AllLabels\"},{\"attributes\":{},\"id\":\"1743\",\"type\":\"DatetimeTickFormatter\"},{\"attributes\":{},\"id\":\"1744\",\"type\":\"AllLabels\"},{\"attributes\":{\"coordinates\":null,\"group\":null,\"items\":[{\"id\":\"1810\"}]},\"id\":\"1809\",\"type\":\"Legend\"},{\"attributes\":{},\"id\":\"1745\",\"type\":\"UnionRenderers\"},{\"attributes\":{},\"id\":\"1802\",\"type\":\"AllLabels\"},{\"attributes\":{},\"id\":\"1746\",\"type\":\"Selection\"},{\"attributes\":{},\"id\":\"1804\",\"type\":\"CategoricalTickFormatter\"},{\"attributes\":{},\"id\":\"1805\",\"type\":\"AllLabels\"},{\"attributes\":{\"mantissas\":[1,2,5],\"max_interval\":500.0,\"num_minor_ticks\":0},\"id\":\"1748\",\"type\":\"AdaptiveTicker\"},{\"attributes\":{\"base\":60,\"mantissas\":[1,2,5,10,15,20,30],\"max_interval\":1800000.0,\"min_interval\":1000.0,\"num_minor_ticks\":0},\"id\":\"1749\",\"type\":\"AdaptiveTicker\"},{\"attributes\":{\"base\":24,\"mantissas\":[1,2,4,6,8,12],\"max_interval\":43200000.0,\"min_interval\":3600000.0,\"num_minor_ticks\":0},\"id\":\"1750\",\"type\":\"AdaptiveTicker\"},{\"attributes\":{},\"id\":\"1759\",\"type\":\"YearsTicker\"},{\"attributes\":{\"months\":[0,1,2,3,4,5,6,7,8,9,10,11]},\"id\":\"1755\",\"type\":\"MonthsTicker\"},{\"attributes\":{\"days\":[1,15]},\"id\":\"1754\",\"type\":\"DaysTicker\"},{\"attributes\":{},\"id\":\"1807\",\"type\":\"Selection\"},{\"attributes\":{\"days\":[1,2,3,4,5,6,7,8,9,10,11,12,13,14,15,16,17,18,19,20,21,22,23,24,25,26,27,28,29,30,31]},\"id\":\"1751\",\"type\":\"DaysTicker\"},{\"attributes\":{\"days\":[1,4,7,10,13,16,19,22,25,28]},\"id\":\"1752\",\"type\":\"DaysTicker\"},{\"attributes\":{\"days\":[1,8,15,22]},\"id\":\"1753\",\"type\":\"DaysTicker\"},{\"attributes\":{\"months\":[0,6]},\"id\":\"1758\",\"type\":\"MonthsTicker\"},{\"attributes\":{\"months\":[0,2,4,6,8,10]},\"id\":\"1756\",\"type\":\"MonthsTicker\"},{\"attributes\":{\"months\":[0,4,8]},\"id\":\"1757\",\"type\":\"MonthsTicker\"},{\"attributes\":{},\"id\":\"1806\",\"type\":\"UnionRenderers\"},{\"attributes\":{\"coordinates\":null,\"group\":null},\"id\":\"1798\",\"type\":\"Title\"},{\"attributes\":{\"source\":{\"id\":\"1792\"}},\"id\":\"1797\",\"type\":\"CDSView\"},{\"attributes\":{\"label\":{\"value\":\"means\"},\"renderers\":[{\"id\":\"1796\"}]},\"id\":\"1810\",\"type\":\"LegendItem\"}],\"root_ids\":[\"1849\"]},\"title\":\"Bokeh Application\",\"version\":\"2.4.3\"}};\n  const render_items = [{\"docid\":\"be7c667c-cc2d-4353-8df9-412200b3d49b\",\"root_ids\":[\"1849\"],\"roots\":{\"1849\":\"b1aeb2aa-3079-49fb-8cda-505c17425da3\"}}];\n  root.Bokeh.embed.embed_items_notebook(docs_json, render_items);\n  }\n  if (root.Bokeh !== undefined) {\n    embed_document(root);\n  } else {\n    let attempts = 0;\n    const timer = setInterval(function(root) {\n      if (root.Bokeh !== undefined) {\n        clearInterval(timer);\n        embed_document(root);\n      } else {\n        attempts++;\n        if (attempts > 100) {\n          clearInterval(timer);\n          console.log(\"Bokeh: ERROR: Unable to run BokehJS code because BokehJS library is missing\");\n        }\n      }\n    }, 10, root)\n  }\n})(window);",
      "application/vnd.bokehjs_exec.v0+json": ""
     },
     "metadata": {
      "application/vnd.bokehjs_exec.v0+json": {
       "id": "1849"
      }
     },
     "output_type": "display_data"
    }
   ],
   "source": [
    "from bokeh.io import output_notebook, show\n",
    "from bokeh.layouts import gridplot\n",
    "from bokeh.plotting import figure\n",
    "import pandas as pd\n",
    "\n",
    "\n",
    "p1 = figure(title=\"Mean Processing Time (monthly)\",plot_width=600, plot_height=400,\n",
    "          x_axis_label = \"months\",y_axis_label = \"time\",x_axis_type=\"datetime\",\n",
    "          tools=\"pan,box_zoom, crosshair,reset, save\")\n",
    "\n",
    "p1.line(pd.to_datetime(months_mean.index,format=\"%Y%m\"), \n",
    "       months_mean,\n",
    "       legend_label=\"monthly mean\",\n",
    "      line_color = \"red\",\n",
    "      line_width = 8)\n",
    "\n",
    "\n",
    "\n",
    "text_labels = [\"Monday\",\"Tuesday\",\"Wednesday\",\"Thursday\",\"Friday\",\"Saturday\",\"Sunday\"]\n",
    "values = day_of_week_mean\n",
    "\n",
    "p2 = figure(x_range=text_labels, y_range=(0, 25),plot_width=600, plot_height=400)\n",
    "\n",
    "p2.vbar(x=text_labels, top=values , width=0.5, color = \"cyan\",legend_label=\"means\")\n",
    "\n",
    "\n",
    "\n",
    "\n",
    "grid = gridplot([[p1,p2]],sizing_mode=\"scale_both\",merge_tools=True)\n",
    "\n",
    "\n",
    "\n",
    "show(grid)\n",
    "\n",
    "\n",
    "\n"
   ]
  },
  {
   "cell_type": "markdown",
   "metadata": {},
   "source": [
    "<h2>Pie charts</h2>\n",
    "<span style=\"color:blue;font-size:large\">Breakdown of complaints by Borough</span>\n",
    "<li>We might be interested in seeing if there are differences in complaint percent across boroughs</li>\n",
    "<li>Let's make a set of 5 piecharts, one for each borough, that shows the relative number of complaints by agency</li>"
   ]
  },
  {
   "cell_type": "markdown",
   "metadata": {},
   "source": [
    "<li>roup the data by borough and then, within each borough, by agency, and get the size of each group</li>\n"
   ]
  },
  {
   "cell_type": "code",
   "execution_count": 17,
   "metadata": {},
   "outputs": [
    {
     "data": {
      "text/plain": [
       "Borough        Agency\n",
       "BRONX          DCA         387\n",
       "               DEP        3286\n",
       "               DHS         290\n",
       "               DOB        4098\n",
       "               DOE          83\n",
       "                         ...  \n",
       "STATEN ISLAND  DPR        1834\n",
       "               DSNY      14354\n",
       "               HPD        2824\n",
       "               NYPD      13988\n",
       "               OTI           1\n",
       "Length: 61, dtype: int64"
      ]
     },
     "execution_count": 17,
     "metadata": {},
     "output_type": "execute_result"
    }
   ],
   "source": [
    "df.groupby(['Borough','Agency']).size()"
   ]
  },
  {
   "cell_type": "markdown",
   "metadata": {},
   "source": [
    "<li>this gives us a series with a two-layered index</li>\n",
    "<li>the <a href=\"https://pandas.pydata.org/docs/reference/api/pandas.DataFrame.unstack.html\">unstack</a> function takes a two layered index and converts it into a dataframe</li>\n",
    "<li>the outer index is the index of the new dataframe</li>\n",
    "<li>the inner index becomes the columns of the new dataframe</li>\n",
    "<li>We need to remove the agencies with a NaN in the data (FDNY)</li>"
   ]
  },
  {
   "cell_type": "code",
   "execution_count": 18,
   "metadata": {},
   "outputs": [
    {
     "data": {
      "text/html": [
       "<div>\n",
       "<style scoped>\n",
       "    .dataframe tbody tr th:only-of-type {\n",
       "        vertical-align: middle;\n",
       "    }\n",
       "\n",
       "    .dataframe tbody tr th {\n",
       "        vertical-align: top;\n",
       "    }\n",
       "\n",
       "    .dataframe thead th {\n",
       "        text-align: right;\n",
       "    }\n",
       "</style>\n",
       "<table border=\"1\" class=\"dataframe\">\n",
       "  <thead>\n",
       "    <tr style=\"text-align: right;\">\n",
       "      <th>Agency</th>\n",
       "      <th>DCA</th>\n",
       "      <th>DEP</th>\n",
       "      <th>DHS</th>\n",
       "      <th>DOB</th>\n",
       "      <th>DOE</th>\n",
       "      <th>DOHMH</th>\n",
       "      <th>DOT</th>\n",
       "      <th>DPR</th>\n",
       "      <th>DSNY</th>\n",
       "      <th>HPD</th>\n",
       "      <th>NYPD</th>\n",
       "      <th>OTI</th>\n",
       "      <th>TLC</th>\n",
       "    </tr>\n",
       "    <tr>\n",
       "      <th>Borough</th>\n",
       "      <th></th>\n",
       "      <th></th>\n",
       "      <th></th>\n",
       "      <th></th>\n",
       "      <th></th>\n",
       "      <th></th>\n",
       "      <th></th>\n",
       "      <th></th>\n",
       "      <th></th>\n",
       "      <th></th>\n",
       "      <th></th>\n",
       "      <th></th>\n",
       "      <th></th>\n",
       "    </tr>\n",
       "  </thead>\n",
       "  <tbody>\n",
       "    <tr>\n",
       "      <th>BRONX</th>\n",
       "      <td>387.0</td>\n",
       "      <td>3286.0</td>\n",
       "      <td>290.0</td>\n",
       "      <td>4098.0</td>\n",
       "      <td>83.0</td>\n",
       "      <td>2884.0</td>\n",
       "      <td>13024.0</td>\n",
       "      <td>2112.0</td>\n",
       "      <td>12694.0</td>\n",
       "      <td>59131.0</td>\n",
       "      <td>142141.0</td>\n",
       "      <td>2.0</td>\n",
       "      <td>NaN</td>\n",
       "    </tr>\n",
       "    <tr>\n",
       "      <th>BROOKLYN</th>\n",
       "      <td>522.0</td>\n",
       "      <td>7373.0</td>\n",
       "      <td>1925.0</td>\n",
       "      <td>11737.0</td>\n",
       "      <td>104.0</td>\n",
       "      <td>7077.0</td>\n",
       "      <td>20677.0</td>\n",
       "      <td>5788.0</td>\n",
       "      <td>41712.0</td>\n",
       "      <td>48550.0</td>\n",
       "      <td>153693.0</td>\n",
       "      <td>5.0</td>\n",
       "      <td>NaN</td>\n",
       "    </tr>\n",
       "    <tr>\n",
       "      <th>MANHATTAN</th>\n",
       "      <td>470.0</td>\n",
       "      <td>4996.0</td>\n",
       "      <td>4087.0</td>\n",
       "      <td>7225.0</td>\n",
       "      <td>158.0</td>\n",
       "      <td>5578.0</td>\n",
       "      <td>11883.0</td>\n",
       "      <td>1952.0</td>\n",
       "      <td>13871.0</td>\n",
       "      <td>34887.0</td>\n",
       "      <td>97912.0</td>\n",
       "      <td>12.0</td>\n",
       "      <td>1.0</td>\n",
       "    </tr>\n",
       "    <tr>\n",
       "      <th>QUEENS</th>\n",
       "      <td>572.0</td>\n",
       "      <td>6148.0</td>\n",
       "      <td>692.0</td>\n",
       "      <td>7214.0</td>\n",
       "      <td>63.0</td>\n",
       "      <td>3933.0</td>\n",
       "      <td>22152.0</td>\n",
       "      <td>4768.0</td>\n",
       "      <td>31814.0</td>\n",
       "      <td>20527.0</td>\n",
       "      <td>135630.0</td>\n",
       "      <td>3.0</td>\n",
       "      <td>NaN</td>\n",
       "    </tr>\n",
       "    <tr>\n",
       "      <th>STATEN ISLAND</th>\n",
       "      <td>72.0</td>\n",
       "      <td>1994.0</td>\n",
       "      <td>76.0</td>\n",
       "      <td>1173.0</td>\n",
       "      <td>58.0</td>\n",
       "      <td>784.0</td>\n",
       "      <td>6999.0</td>\n",
       "      <td>1834.0</td>\n",
       "      <td>14354.0</td>\n",
       "      <td>2824.0</td>\n",
       "      <td>13988.0</td>\n",
       "      <td>1.0</td>\n",
       "      <td>NaN</td>\n",
       "    </tr>\n",
       "  </tbody>\n",
       "</table>\n",
       "</div>"
      ],
      "text/plain": [
       "Agency           DCA     DEP     DHS      DOB    DOE   DOHMH      DOT     DPR  \\\n",
       "Borough                                                                         \n",
       "BRONX          387.0  3286.0   290.0   4098.0   83.0  2884.0  13024.0  2112.0   \n",
       "BROOKLYN       522.0  7373.0  1925.0  11737.0  104.0  7077.0  20677.0  5788.0   \n",
       "MANHATTAN      470.0  4996.0  4087.0   7225.0  158.0  5578.0  11883.0  1952.0   \n",
       "QUEENS         572.0  6148.0   692.0   7214.0   63.0  3933.0  22152.0  4768.0   \n",
       "STATEN ISLAND   72.0  1994.0    76.0   1173.0   58.0   784.0   6999.0  1834.0   \n",
       "\n",
       "Agency            DSNY      HPD      NYPD   OTI  TLC  \n",
       "Borough                                               \n",
       "BRONX          12694.0  59131.0  142141.0   2.0  NaN  \n",
       "BROOKLYN       41712.0  48550.0  153693.0   5.0  NaN  \n",
       "MANHATTAN      13871.0  34887.0   97912.0  12.0  1.0  \n",
       "QUEENS         31814.0  20527.0  135630.0   3.0  NaN  \n",
       "STATEN ISLAND  14354.0   2824.0   13988.0   1.0  NaN  "
      ]
     },
     "execution_count": 18,
     "metadata": {},
     "output_type": "execute_result"
    }
   ],
   "source": [
    "df.groupby(['Borough','Agency']).size().unstack()"
   ]
  },
  {
   "cell_type": "code",
   "execution_count": 19,
   "metadata": {},
   "outputs": [
    {
     "data": {
      "text/html": [
       "<div>\n",
       "<style scoped>\n",
       "    .dataframe tbody tr th:only-of-type {\n",
       "        vertical-align: middle;\n",
       "    }\n",
       "\n",
       "    .dataframe tbody tr th {\n",
       "        vertical-align: top;\n",
       "    }\n",
       "\n",
       "    .dataframe thead th {\n",
       "        text-align: right;\n",
       "    }\n",
       "</style>\n",
       "<table border=\"1\" class=\"dataframe\">\n",
       "  <thead>\n",
       "    <tr style=\"text-align: right;\">\n",
       "      <th>Agency</th>\n",
       "      <th>DCA</th>\n",
       "      <th>DEP</th>\n",
       "      <th>DHS</th>\n",
       "      <th>DOB</th>\n",
       "      <th>DOE</th>\n",
       "      <th>DOHMH</th>\n",
       "      <th>DOT</th>\n",
       "      <th>DPR</th>\n",
       "      <th>DSNY</th>\n",
       "      <th>HPD</th>\n",
       "      <th>NYPD</th>\n",
       "      <th>OTI</th>\n",
       "    </tr>\n",
       "    <tr>\n",
       "      <th>Borough</th>\n",
       "      <th></th>\n",
       "      <th></th>\n",
       "      <th></th>\n",
       "      <th></th>\n",
       "      <th></th>\n",
       "      <th></th>\n",
       "      <th></th>\n",
       "      <th></th>\n",
       "      <th></th>\n",
       "      <th></th>\n",
       "      <th></th>\n",
       "      <th></th>\n",
       "    </tr>\n",
       "  </thead>\n",
       "  <tbody>\n",
       "    <tr>\n",
       "      <th>BRONX</th>\n",
       "      <td>387.0</td>\n",
       "      <td>3286.0</td>\n",
       "      <td>290.0</td>\n",
       "      <td>4098.0</td>\n",
       "      <td>83.0</td>\n",
       "      <td>2884.0</td>\n",
       "      <td>13024.0</td>\n",
       "      <td>2112.0</td>\n",
       "      <td>12694.0</td>\n",
       "      <td>59131.0</td>\n",
       "      <td>142141.0</td>\n",
       "      <td>2.0</td>\n",
       "    </tr>\n",
       "    <tr>\n",
       "      <th>BROOKLYN</th>\n",
       "      <td>522.0</td>\n",
       "      <td>7373.0</td>\n",
       "      <td>1925.0</td>\n",
       "      <td>11737.0</td>\n",
       "      <td>104.0</td>\n",
       "      <td>7077.0</td>\n",
       "      <td>20677.0</td>\n",
       "      <td>5788.0</td>\n",
       "      <td>41712.0</td>\n",
       "      <td>48550.0</td>\n",
       "      <td>153693.0</td>\n",
       "      <td>5.0</td>\n",
       "    </tr>\n",
       "    <tr>\n",
       "      <th>MANHATTAN</th>\n",
       "      <td>470.0</td>\n",
       "      <td>4996.0</td>\n",
       "      <td>4087.0</td>\n",
       "      <td>7225.0</td>\n",
       "      <td>158.0</td>\n",
       "      <td>5578.0</td>\n",
       "      <td>11883.0</td>\n",
       "      <td>1952.0</td>\n",
       "      <td>13871.0</td>\n",
       "      <td>34887.0</td>\n",
       "      <td>97912.0</td>\n",
       "      <td>12.0</td>\n",
       "    </tr>\n",
       "    <tr>\n",
       "      <th>QUEENS</th>\n",
       "      <td>572.0</td>\n",
       "      <td>6148.0</td>\n",
       "      <td>692.0</td>\n",
       "      <td>7214.0</td>\n",
       "      <td>63.0</td>\n",
       "      <td>3933.0</td>\n",
       "      <td>22152.0</td>\n",
       "      <td>4768.0</td>\n",
       "      <td>31814.0</td>\n",
       "      <td>20527.0</td>\n",
       "      <td>135630.0</td>\n",
       "      <td>3.0</td>\n",
       "    </tr>\n",
       "    <tr>\n",
       "      <th>STATEN ISLAND</th>\n",
       "      <td>72.0</td>\n",
       "      <td>1994.0</td>\n",
       "      <td>76.0</td>\n",
       "      <td>1173.0</td>\n",
       "      <td>58.0</td>\n",
       "      <td>784.0</td>\n",
       "      <td>6999.0</td>\n",
       "      <td>1834.0</td>\n",
       "      <td>14354.0</td>\n",
       "      <td>2824.0</td>\n",
       "      <td>13988.0</td>\n",
       "      <td>1.0</td>\n",
       "    </tr>\n",
       "  </tbody>\n",
       "</table>\n",
       "</div>"
      ],
      "text/plain": [
       "Agency           DCA     DEP     DHS      DOB    DOE   DOHMH      DOT     DPR  \\\n",
       "Borough                                                                         \n",
       "BRONX          387.0  3286.0   290.0   4098.0   83.0  2884.0  13024.0  2112.0   \n",
       "BROOKLYN       522.0  7373.0  1925.0  11737.0  104.0  7077.0  20677.0  5788.0   \n",
       "MANHATTAN      470.0  4996.0  4087.0   7225.0  158.0  5578.0  11883.0  1952.0   \n",
       "QUEENS         572.0  6148.0   692.0   7214.0   63.0  3933.0  22152.0  4768.0   \n",
       "STATEN ISLAND   72.0  1994.0    76.0   1173.0   58.0   784.0   6999.0  1834.0   \n",
       "\n",
       "Agency            DSNY      HPD      NYPD   OTI  \n",
       "Borough                                          \n",
       "BRONX          12694.0  59131.0  142141.0   2.0  \n",
       "BROOKLYN       41712.0  48550.0  153693.0   5.0  \n",
       "MANHATTAN      13871.0  34887.0   97912.0  12.0  \n",
       "QUEENS         31814.0  20527.0  135630.0   3.0  \n",
       "STATEN ISLAND  14354.0   2824.0   13988.0   1.0  "
      ]
     },
     "execution_count": 19,
     "metadata": {},
     "output_type": "execute_result"
    }
   ],
   "source": [
    "#dropna(axis=1) drops any column that has a nan in it\n",
    "size_df = df.groupby(['Borough','Agency']).size().unstack().dropna(axis=1)\n",
    "size_df"
   ]
  },
  {
   "cell_type": "markdown",
   "metadata": {},
   "source": [
    "<li>each row of the df will correspond to one piechart and we will have 5 piecharts in all</li>"
   ]
  },
  {
   "cell_type": "markdown",
   "metadata": {},
   "source": [
    "<br><br><br><br>\n",
    "<span style=\"color:blue;font-size:large\">The pie chart</span>\n",
    "<li>Drawing a piechart involves specifying each slice of the pie</li>\n",
    "<li>The <span style=\"color:blue\">color</span> of the slices is defined by importing a <a href=\"https://docs.bokeh.org/en/latest/docs/reference/palettes.html\">color palette</a></li>\n",
    "<li>We need to use a <a href=\"https://docs.bokeh.org/en/latest/docs/user_guide/data.html\">ColumnDataSource</a> object to store the data:</li>\n",
    "<ul>\n",
    "    <li>The data repository for a bokeh chart</li>\n",
    "    <li>Bokeh can directly reference named columns in this source</li>\n",
    "    <li>Think of it as a dedicated table that bokeh understands</li>\n",
    "</ul>\n",
    "<li><a href=\"https://docs.bokeh.org/en/latest/docs/user_guide/annotations.html\">LabelSet</a>: the set of labels that we want to display. For the piechart, these will be the fraction of cases that are associated with an agency</li>\n",
    "\n"
   ]
  },
  {
   "cell_type": "code",
   "execution_count": 34,
   "metadata": {
    "scrolled": true
   },
   "outputs": [
    {
     "data": {
      "text/html": [
       "\n",
       "  <div class=\"bk-root\" id=\"178513ab-33a4-430a-a5ac-71c959a584fb\" data-root-id=\"3604\"></div>\n"
      ]
     },
     "metadata": {},
     "output_type": "display_data"
    },
    {
     "data": {
      "application/javascript": "(function(root) {\n  function embed_document(root) {\n  const docs_json = {\"68e91c4d-9242-41fb-a39e-e4800ba31daa\":{\"defs\":[],\"roots\":{\"references\":[{\"attributes\":{\"below\":[{\"id\":\"3615\"}],\"center\":[{\"id\":\"3618\"},{\"id\":\"3622\"},{\"id\":\"3644\"},{\"id\":\"3648\"}],\"height\":500,\"left\":[{\"id\":\"3619\"}],\"renderers\":[{\"id\":\"3633\"}],\"title\":{\"id\":\"3605\"},\"toolbar\":{\"id\":\"3624\"},\"x_range\":{\"id\":\"3607\"},\"x_scale\":{\"id\":\"3611\"},\"y_range\":{\"id\":\"3609\"},\"y_scale\":{\"id\":\"3613\"}},\"id\":\"3604\",\"subtype\":\"Figure\",\"type\":\"Plot\"},{\"attributes\":{\"end_angle\":{\"expr\":{\"id\":\"3627\"}},\"fill_alpha\":{\"value\":0.1},\"fill_color\":{\"field\":\"color\"},\"hatch_alpha\":{\"value\":0.1},\"line_alpha\":{\"value\":0.1},\"line_color\":{\"value\":\"white\"},\"radius\":{\"value\":0.4},\"start_angle\":{\"expr\":{\"id\":\"3626\"}},\"x\":{\"value\":0},\"y\":{\"value\":1}},\"id\":\"3631\",\"type\":\"Wedge\"},{\"attributes\":{},\"id\":\"3611\",\"type\":\"LinearScale\"},{\"attributes\":{\"end_angle\":{\"expr\":{\"id\":\"3627\"}},\"fill_color\":{\"field\":\"color\"},\"line_color\":{\"value\":\"white\"},\"radius\":{\"value\":0.4},\"start_angle\":{\"expr\":{\"id\":\"3626\"}},\"x\":{\"value\":0},\"y\":{\"value\":1}},\"id\":\"3630\",\"type\":\"Wedge\"},{\"attributes\":{},\"id\":\"3609\",\"type\":\"DataRange1d\"},{\"attributes\":{\"tools\":[{\"id\":\"3623\"}]},\"id\":\"3624\",\"type\":\"Toolbar\"},{\"attributes\":{},\"id\":\"3642\",\"type\":\"UnionRenderers\"},{\"attributes\":{\"coordinates\":null,\"formatter\":{\"id\":\"3637\"},\"group\":null,\"major_label_policy\":{\"id\":\"3638\"},\"ticker\":{\"id\":\"3620\"},\"visible\":false},\"id\":\"3619\",\"type\":\"LinearAxis\"},{\"attributes\":{},\"id\":\"3613\",\"type\":\"LinearScale\"},{\"attributes\":{},\"id\":\"3843\",\"type\":\"UnionRenderers\"},{\"attributes\":{\"axis\":{\"id\":\"3615\"},\"coordinates\":null,\"grid_line_color\":null,\"group\":null,\"ticker\":null},\"id\":\"3618\",\"type\":\"Grid\"},{\"attributes\":{},\"id\":\"3844\",\"type\":\"Selection\"},{\"attributes\":{},\"id\":\"3616\",\"type\":\"BasicTicker\"},{\"attributes\":{\"field\":\"angle\"},\"id\":\"3627\",\"type\":\"CumSum\"},{\"attributes\":{\"coordinates\":null,\"group\":null,\"text\":\"Cases by Agency: BRONX\"},\"id\":\"3605\",\"type\":\"Title\"},{\"attributes\":{\"coordinates\":null,\"formatter\":{\"id\":\"3640\"},\"group\":null,\"major_label_policy\":{\"id\":\"3641\"},\"ticker\":{\"id\":\"3616\"},\"visible\":false},\"id\":\"3615\",\"type\":\"LinearAxis\"},{\"attributes\":{\"start\":-0.5},\"id\":\"3607\",\"type\":\"Range1d\"},{\"attributes\":{},\"id\":\"3638\",\"type\":\"AllLabels\"},{\"attributes\":{\"axis\":{\"id\":\"3619\"},\"coordinates\":null,\"dimension\":1,\"grid_line_color\":null,\"group\":null,\"ticker\":null},\"id\":\"3622\",\"type\":\"Grid\"},{\"attributes\":{},\"id\":\"3620\",\"type\":\"BasicTicker\"},{\"attributes\":{\"coordinates\":null,\"group\":null,\"items\":[{\"id\":\"3645\"}]},\"id\":\"3644\",\"type\":\"Legend\"},{\"attributes\":{\"label\":{\"field\":\"Agency\"},\"renderers\":[{\"id\":\"3633\"}]},\"id\":\"3645\",\"type\":\"LegendItem\"},{\"attributes\":{\"callback\":null,\"tooltips\":\"@Agency: @pct\"},\"id\":\"3623\",\"type\":\"HoverTool\"},{\"attributes\":{},\"id\":\"3641\",\"type\":\"AllLabels\"},{\"attributes\":{\"source\":{\"id\":\"3628\"}},\"id\":\"3634\",\"type\":\"CDSView\"},{\"attributes\":{\"field\":\"angle\",\"include_zero\":true},\"id\":\"3646\",\"type\":\"CumSum\"},{\"attributes\":{},\"id\":\"3643\",\"type\":\"Selection\"},{\"attributes\":{\"field\":\"angle\",\"include_zero\":true},\"id\":\"3626\",\"type\":\"CumSum\"},{\"attributes\":{\"coordinates\":null,\"data_source\":{\"id\":\"3628\"},\"glyph\":{\"id\":\"3630\"},\"group\":null,\"hover_glyph\":null,\"muted_glyph\":{\"id\":\"3632\"},\"nonselection_glyph\":{\"id\":\"3631\"},\"view\":{\"id\":\"3634\"}},\"id\":\"3633\",\"type\":\"GlyphRenderer\"},{\"attributes\":{\"end_angle\":{\"expr\":{\"id\":\"3627\"}},\"fill_alpha\":{\"value\":0.2},\"fill_color\":{\"field\":\"color\"},\"hatch_alpha\":{\"value\":0.2},\"line_alpha\":{\"value\":0.2},\"line_color\":{\"value\":\"white\"},\"radius\":{\"value\":0.4},\"start_angle\":{\"expr\":{\"id\":\"3626\"}},\"x\":{\"value\":0},\"y\":{\"value\":1}},\"id\":\"3632\",\"type\":\"Wedge\"},{\"attributes\":{\"angle\":{\"expr\":{\"id\":\"3646\"}},\"coordinates\":null,\"group\":null,\"source\":{\"id\":\"3647\"},\"text\":{\"field\":\"label_vals\"},\"x\":{\"value\":0},\"y\":{\"value\":1}},\"id\":\"3648\",\"type\":\"LabelSet\"},{\"attributes\":{\"data\":{\"Agency\":[\"DCA\",\"DEP\",\"DHS\",\"DOB\",\"DOE\",\"DOHMH\",\"DOT\",\"DPR\",\"DSNY\",\"HPD\",\"NYPD\",\"OTI\"],\"angle\":{\"__ndarray__\":\"6Ondtj6XhD9bhLkf4Qm2P9zeTBLe4n4/fHZMyA2Cuz/c3kwS3uJeP0oLcMvKTbM/nOqUYxvM1T+gIXE79k+sPyxI8EtERtU/8UVVpNHA+D8zTmEwT8ENQAAAAAAAAAAA\",\"dtype\":\"float64\",\"order\":\"little\",\"shape\":[12]},\"color\":[\"#3182bd\",\"#6baed6\",\"#9ecae1\",\"#c6dbef\",\"#e6550d\",\"#fd8d3c\",\"#fdae6b\",\"#fdd0a2\",\"#31a354\",\"#74c476\",\"#a1d99b\",\"#c7e9c0\"],\"index\":[0,1,2,3,4,5,6,7,8,9,10,11],\"label_vals\":[\"\",\"\",\"\",\"\",\"\",\"\",\"                               5.42\",\"\",\"                               5.29\",\"                              24.62\",\"                              59.19\",\"\"],\"pct\":{\"__ndarray__\":\"exSuR+F6xD/sUbgehev1P7gehetRuL4/XI/C9Shc+z+4HoXrUbiePzMzMzMzM/M/rkfhehSuFUApXI/C9SjsPylcj8L1KBVAH4XrUbieOEC4HoXrUZhNQAAAAAAAAAAA\",\"dtype\":\"float64\",\"order\":\"little\",\"shape\":[12]},\"value\":{\"__ndarray__\":\"AAAAAAAweEAAAAAAAKypQAAAAAAAIHJAAAAAAAACsEAAAAAAAMBUQAAAAAAAiKZAAAAAAABwyUAAAAAAAICgQAAAAAAAy8hAAAAAAGDf7EAAAAAA6FkBQQAAAAAAAABA\",\"dtype\":\"float64\",\"order\":\"little\",\"shape\":[12]}},\"selected\":{\"id\":\"3844\"},\"selection_policy\":{\"id\":\"3843\"}},\"id\":\"3647\",\"type\":\"ColumnDataSource\"},{\"attributes\":{\"data\":{\"Agency\":[\"DCA\",\"DEP\",\"DHS\",\"DOB\",\"DOE\",\"DOHMH\",\"DOT\",\"DPR\",\"DSNY\",\"HPD\",\"NYPD\",\"OTI\"],\"angle\":{\"__ndarray__\":\"6Ondtj6XhD9bhLkf4Qm2P9zeTBLe4n4/fHZMyA2Cuz/c3kwS3uJeP0oLcMvKTbM/nOqUYxvM1T+gIXE79k+sPyxI8EtERtU/8UVVpNHA+D8zTmEwT8ENQAAAAAAAAAAA\",\"dtype\":\"float64\",\"order\":\"little\",\"shape\":[12]},\"color\":[\"#3182bd\",\"#6baed6\",\"#9ecae1\",\"#c6dbef\",\"#e6550d\",\"#fd8d3c\",\"#fdae6b\",\"#fdd0a2\",\"#31a354\",\"#74c476\",\"#a1d99b\",\"#c7e9c0\"],\"index\":[0,1,2,3,4,5,6,7,8,9,10,11],\"pct\":{\"__ndarray__\":\"exSuR+F6xD/sUbgehev1P7gehetRuL4/XI/C9Shc+z+4HoXrUbiePzMzMzMzM/M/rkfhehSuFUApXI/C9SjsPylcj8L1KBVAH4XrUbieOEC4HoXrUZhNQAAAAAAAAAAA\",\"dtype\":\"float64\",\"order\":\"little\",\"shape\":[12]},\"value\":{\"__ndarray__\":\"AAAAAAAweEAAAAAAAKypQAAAAAAAIHJAAAAAAAACsEAAAAAAAMBUQAAAAAAAiKZAAAAAAABwyUAAAAAAAICgQAAAAAAAy8hAAAAAAGDf7EAAAAAA6FkBQQAAAAAAAABA\",\"dtype\":\"float64\",\"order\":\"little\",\"shape\":[12]}},\"selected\":{\"id\":\"3643\"},\"selection_policy\":{\"id\":\"3642\"}},\"id\":\"3628\",\"type\":\"ColumnDataSource\"},{\"attributes\":{},\"id\":\"3640\",\"type\":\"BasicTickFormatter\"},{\"attributes\":{},\"id\":\"3637\",\"type\":\"BasicTickFormatter\"}],\"root_ids\":[\"3604\"]},\"title\":\"Bokeh Application\",\"version\":\"2.4.3\"}};\n  const render_items = [{\"docid\":\"68e91c4d-9242-41fb-a39e-e4800ba31daa\",\"root_ids\":[\"3604\"],\"roots\":{\"3604\":\"178513ab-33a4-430a-a5ac-71c959a584fb\"}}];\n  root.Bokeh.embed.embed_items_notebook(docs_json, render_items);\n  }\n  if (root.Bokeh !== undefined) {\n    embed_document(root);\n  } else {\n    let attempts = 0;\n    const timer = setInterval(function(root) {\n      if (root.Bokeh !== undefined) {\n        clearInterval(timer);\n        embed_document(root);\n      } else {\n        attempts++;\n        if (attempts > 100) {\n          clearInterval(timer);\n          console.log(\"Bokeh: ERROR: Unable to run BokehJS code because BokehJS library is missing\");\n        }\n      }\n    }, 10, root)\n  }\n})(window);",
      "application/vnd.bokehjs_exec.v0+json": ""
     },
     "metadata": {
      "application/vnd.bokehjs_exec.v0+json": {
       "id": "3604"
      }
     },
     "output_type": "display_data"
    }
   ],
   "source": [
    "from math import pi #Need this - a pie chart is a circle\n",
    "import pandas as pd\n",
    "import numpy as np\n",
    "from bokeh.palettes import Category20c #The color palette\n",
    "from bokeh.models import LabelSet, ColumnDataSource\n",
    "from bokeh.transform import cumsum #a bokeh function that cumulatively sums the angle column in a column data source\n",
    "\n",
    "borough = \"BRONX\"\n",
    "\n",
    "#Create a dataframe with an Agency column and a value column for the borough\n",
    "data = size_df.loc[borough].reset_index(name='value')\n",
    "\n",
    "#We'll restrict the size of the string for Agencies. One Agency is way too long!\n",
    "data['Agency'] = data['Agency'].str.slice(0,8)\n",
    "\n",
    "#Calculate a percent column (the fraction of cases for each agency)\n",
    "data['pct'] = (data['value']/sum(data['value'])*100).round(2)\n",
    "\n",
    "#Calculate an angle column (the fraction of 360 degrees for each slice)\n",
    "#Note that data['pct'].sum() should be approx 100.0\n",
    "#The angle is calculated in radians. 360degrees = 2*pi (approx 6.28)\n",
    "data['angle'] = data['pct']/(data['pct'].sum()) * 2*pi\n",
    "\n",
    "#Specify the color palette\n",
    "#Category20c[len(data)] returns the necessary number of colors from the 20C palette\n",
    "data['color'] = Category20c[len(data)]\n",
    "\n",
    "#Define a figure object\n",
    "#tooltips maps to the ColumnDataSource object\n",
    "#We haven't created it yet but Agency will map to the Agency column and pct to the pct\n",
    "#And we'll see NYPD; 50.18 when we hover over the NYPD slice in the piechart\n",
    "p = figure(plot_height=500, title=\"Cases by Agency: \" + borough, \n",
    "        tools=\"hover\", tooltips=\"@Agency: @pct\",x_range=(-0.5, 1.0))\n",
    "\n",
    "#Add the definition of each wedge\n",
    "#Each wedge, starting with 0 degrees, will be at the sum of the angles upto that wedge\n",
    "\n",
    "p.wedge(x=0, y=1, radius=0.4, #x,y specifies the location of the center of the pie\n",
    "        start_angle=cumsum('angle', include_zero=True), end_angle=cumsum('angle'), #the start and end angle of each slice\n",
    "        line_color=\"white\", fill_color='color', legend_field='Agency', source=data) #source is our data (can be a df or a CDS)\n",
    "\n",
    "#Since there are way too many small slices, we'll only label slices with pct > 5\n",
    "data[\"label_vals\"] = np.where(data[\"pct\"]>=5,data[\"pct\"],0)                              \n",
    "data[\"label_vals\"]=data[\"label_vals\"].astype(str).str.pad(35, side = \"left\") #pad will move the labels out toward the circumference\n",
    "data[\"label_vals\"]=data[\"label_vals\"].apply(lambda x: \"\" if x.strip()==\"0.0\" else x)\n",
    "\n",
    "#LabelSet is the set of labels. Either a value or nothing\n",
    "labels = LabelSet(x=0, y=1, text='label_vals',\n",
    "        angle=cumsum('angle', include_zero=True), source=ColumnDataSource(data), render_mode='canvas')\n",
    "\n",
    "#Add the labels\n",
    "p.add_layout(labels)\n",
    "\n",
    "\n",
    "p.axis.axis_label=None #Piechart. No axes\n",
    "p.axis.visible=False #We don't want to see the axes\n",
    "p.grid.grid_line_color = None #If you want grid lines, specify a color\n",
    "\n",
    "#Show the chart\n",
    "show(p)\n",
    "\n"
   ]
  },
  {
   "cell_type": "markdown",
   "metadata": {},
   "source": [
    "<br><br><br><br>\n",
    "<span style=\"color:blue;font-size:large\">Grid plots in bokeh</span>\n",
    "<li>define each figure separately</li>\n",
    "<li>use gridplot to create a grid</li>\n",
    "<li>gridplot takes a matrix of plots as its input</li>"
   ]
  },
  {
   "cell_type": "markdown",
   "metadata": {},
   "source": [
    "<br><br><br><br>\n",
    "<span style=\"color:blue;font-size:large\">Piecharts for all boroughs in a grid</span>\n",
    "<li>pyplot has a \"grid\" feature</li>\n",
    "<li>create grid specifications</li>\n",
    "<li>add charts to each grid cell (they could be of different types)</li>\n",
    "<li>We'll write a function that creates a piechart for each borough</li>"
   ]
  },
  {
   "cell_type": "code",
   "execution_count": 21,
   "metadata": {},
   "outputs": [],
   "source": [
    "def create_bokeh_pi(df,row):\n",
    "    from math import pi #Need this - a pie chart is a circle\n",
    "    import pandas as pd\n",
    "\n",
    "    from bokeh.palettes import Category20c #The color palette\n",
    "    from bokeh.models import LabelSet, ColumnDataSource\n",
    "    from bokeh.transform import cumsum #a bokeh function that cumulatively sums the angle column in a column data source\n",
    "    borough = row\n",
    "\n",
    "    #Create a dataframe with an Agency column and a value column for the borough\n",
    "    data = size_df.loc[borough].reset_index(name='value')\n",
    "\n",
    "    #We'll restrict the size of the string for Agencies. One Agency is way too long!\n",
    "    data['Agency'] = data['Agency'].str.slice(0,8)\n",
    "\n",
    "    #Calculate a percent column (the fraction of cases for each agency)\n",
    "    data['pct'] = (data['value']/sum(data['value'])*100).round(2)\n",
    "\n",
    "    #Calculate an angel column (the fraction of 360 degrees for each slice)\n",
    "    data['angle'] = data['pct']/(data['pct'].sum()) * 2*pi\n",
    "\n",
    "    #Specify the color palette\n",
    "    data['color'] = Category20c[len(data)]\n",
    "\n",
    "    #Define a figure object\n",
    "    p = figure(plot_height=350, title=\"Cases by Agency: \" + borough, \n",
    "            tools=\"hover\", tooltips=\"@Agency: @pct\",x_range=(-0.5, 1.0))\n",
    "\n",
    "    #Add the definition of each wedge\n",
    "    #Each wedge, starting with 0 degrees, will be at the sum of the angles upto that wedge\n",
    "\n",
    "    p.wedge(x=0, y=1, radius=0.4, #x,y specifies the location of the center of the pie\n",
    "            start_angle=cumsum('angle', include_zero=True), end_angle=cumsum('angle'), #the start and end angle of each slice\n",
    "            line_color=\"white\", fill_color='color', legend_field='Agency', source=data,) #source is our data (can be a df or a CDS)\n",
    "            \n",
    "    #Since there are way too many small slices, we'll only label slices with pct > 5\n",
    "    data[\"label_vals\"] = np.where(data[\"pct\"]>5,data[\"pct\"],0)                              \n",
    "    data[\"label_vals\"]=data[\"label_vals\"].astype(str).str.pad(20, side = \"left\") #pad will move the labels out toward the circumference\n",
    "    data[\"label_vals\"]=data[\"label_vals\"].apply(lambda x: \"\" if x.strip()==\"0.0\" else x)\n",
    "\n",
    "    #LabelSet is the set of labels. Either a value or nothing\n",
    "    labels = LabelSet(x=0, y=1, text='label_vals',\n",
    "            angle=cumsum('angle', include_zero=True), source=ColumnDataSource(data), render_mode='canvas')\n",
    "\n",
    "    #Add the labels\n",
    "    p.add_layout(labels)\n",
    "\n",
    "\n",
    "    p.axis.axis_label=None #Piechart. No axes\n",
    "    p.axis.visible=False #We don't want to see the axes\n",
    "    p.grid.grid_line_color = None #If you want grid lines, specify a color\n",
    "\n",
    "    #Show the chart\n",
    "    return p\n",
    "\n"
   ]
  },
  {
   "cell_type": "code",
   "execution_count": 22,
   "metadata": {},
   "outputs": [
    {
     "data": {
      "text/html": [
       "\n",
       "  <div class=\"bk-root\" id=\"4e3ce6fe-880a-4164-aeb0-14058be9493a\" data-root-id=\"2616\"></div>\n"
      ]
     },
     "metadata": {},
     "output_type": "display_data"
    },
    {
     "data": {
      "application/javascript": "(function(root) {\n  function embed_document(root) {\n  const docs_json = {\"add17523-f145-46e5-8425-d3c85939e385\":{\"defs\":[],\"roots\":{\"references\":[{\"attributes\":{\"children\":[{\"id\":\"2615\"},{\"id\":\"2613\"}],\"sizing_mode\":\"scale_both\"},\"id\":\"2616\",\"type\":\"Column\"},{\"attributes\":{},\"id\":\"2541\",\"type\":\"AllLabels\"},{\"attributes\":{},\"id\":\"2408\",\"type\":\"Selection\"},{\"attributes\":{\"tools\":[{\"id\":\"2434\"}]},\"id\":\"2435\",\"type\":\"Toolbar\"},{\"attributes\":{},\"id\":\"2405\",\"type\":\"BasicTickFormatter\"},{\"attributes\":{},\"id\":\"2543\",\"type\":\"BasicTickFormatter\"},{\"attributes\":{\"coordinates\":null,\"group\":null,\"text\":\"Cases by Agency: STATEN ISLAND\"},\"id\":\"2508\",\"type\":\"Title\"},{\"attributes\":{\"field\":\"angle\",\"include_zero\":true},\"id\":\"2437\",\"type\":\"CumSum\"},{\"attributes\":{},\"id\":\"2431\",\"type\":\"BasicTicker\"},{\"attributes\":{},\"id\":\"2523\",\"type\":\"BasicTicker\"},{\"attributes\":{},\"id\":\"2574\",\"type\":\"UnionRenderers\"},{\"attributes\":{\"toolbar\":{\"id\":\"2614\"},\"toolbar_location\":\"above\"},\"id\":\"2615\",\"type\":\"ToolbarBox\"},{\"attributes\":{\"coordinates\":null,\"formatter\":{\"id\":\"2451\"},\"group\":null,\"major_label_policy\":{\"id\":\"2452\"},\"ticker\":{\"id\":\"2427\"},\"visible\":false},\"id\":\"2426\",\"type\":\"LinearAxis\"},{\"attributes\":{\"coordinates\":null,\"formatter\":{\"id\":\"2543\"},\"group\":null,\"major_label_policy\":{\"id\":\"2544\"},\"ticker\":{\"id\":\"2519\"},\"visible\":false},\"id\":\"2518\",\"type\":\"LinearAxis\"},{\"attributes\":{\"toolbars\":[{\"id\":\"2343\"},{\"id\":\"2389\"},{\"id\":\"2435\"},{\"id\":\"2481\"},{\"id\":\"2527\"}],\"tools\":[{\"id\":\"2342\"},{\"id\":\"2388\"},{\"id\":\"2434\"},{\"id\":\"2480\"},{\"id\":\"2526\"}]},\"id\":\"2614\",\"type\":\"ProxyToolbar\"},{\"attributes\":{},\"id\":\"2403\",\"type\":\"AllLabels\"},{\"attributes\":{\"end_angle\":{\"expr\":{\"id\":\"2530\"}},\"fill_alpha\":{\"value\":0.2},\"fill_color\":{\"field\":\"color\"},\"hatch_alpha\":{\"value\":0.2},\"line_alpha\":{\"value\":0.2},\"line_color\":{\"value\":\"white\"},\"radius\":{\"value\":0.4},\"start_angle\":{\"expr\":{\"id\":\"2529\"}},\"x\":{\"value\":0},\"y\":{\"value\":1}},\"id\":\"2535\",\"type\":\"Wedge\"},{\"attributes\":{},\"id\":\"2544\",\"type\":\"AllLabels\"},{\"attributes\":{},\"id\":\"2575\",\"type\":\"Selection\"},{\"attributes\":{},\"id\":\"2448\",\"type\":\"BasicTickFormatter\"},{\"attributes\":{\"axis\":{\"id\":\"2522\"},\"coordinates\":null,\"dimension\":1,\"grid_line_color\":null,\"group\":null,\"ticker\":null},\"id\":\"2525\",\"type\":\"Grid\"},{\"attributes\":{},\"id\":\"2406\",\"type\":\"AllLabels\"},{\"attributes\":{},\"id\":\"2454\",\"type\":\"Selection\"},{\"attributes\":{},\"id\":\"2562\",\"type\":\"UnionRenderers\"},{\"attributes\":{\"coordinates\":null,\"group\":null,\"text\":\"Cases by Agency: MANHATTAN\"},\"id\":\"2416\",\"type\":\"Title\"},{\"attributes\":{\"field\":\"angle\"},\"id\":\"2484\",\"type\":\"CumSum\"},{\"attributes\":{\"coordinates\":null,\"formatter\":{\"id\":\"2448\"},\"group\":null,\"major_label_policy\":{\"id\":\"2449\"},\"ticker\":{\"id\":\"2431\"},\"visible\":false},\"id\":\"2430\",\"type\":\"LinearAxis\"},{\"attributes\":{},\"id\":\"2449\",\"type\":\"AllLabels\"},{\"attributes\":{\"below\":[{\"id\":\"2426\"}],\"center\":[{\"id\":\"2429\"},{\"id\":\"2433\"},{\"id\":\"2455\"},{\"id\":\"2459\"}],\"height\":350,\"left\":[{\"id\":\"2430\"}],\"renderers\":[{\"id\":\"2444\"}],\"sizing_mode\":\"scale_both\",\"title\":{\"id\":\"2416\"},\"toolbar\":{\"id\":\"2435\"},\"toolbar_location\":null,\"x_range\":{\"id\":\"2418\"},\"x_scale\":{\"id\":\"2422\"},\"y_range\":{\"id\":\"2420\"},\"y_scale\":{\"id\":\"2424\"}},\"id\":\"2415\",\"subtype\":\"Figure\",\"type\":\"Plot\"},{\"attributes\":{\"start\":-0.5},\"id\":\"2510\",\"type\":\"Range1d\"},{\"attributes\":{},\"id\":\"2477\",\"type\":\"BasicTicker\"},{\"attributes\":{\"end_angle\":{\"expr\":{\"id\":\"2484\"}},\"fill_color\":{\"field\":\"color\"},\"line_color\":{\"value\":\"white\"},\"radius\":{\"value\":0.4},\"start_angle\":{\"expr\":{\"id\":\"2483\"}},\"x\":{\"value\":0},\"y\":{\"value\":1}},\"id\":\"2487\",\"type\":\"Wedge\"},{\"attributes\":{},\"id\":\"2407\",\"type\":\"UnionRenderers\"},{\"attributes\":{},\"id\":\"2545\",\"type\":\"UnionRenderers\"},{\"attributes\":{},\"id\":\"2427\",\"type\":\"BasicTicker\"},{\"attributes\":{},\"id\":\"2451\",\"type\":\"BasicTickFormatter\"},{\"attributes\":{},\"id\":\"2546\",\"type\":\"Selection\"},{\"attributes\":{},\"id\":\"2452\",\"type\":\"AllLabels\"},{\"attributes\":{},\"id\":\"2422\",\"type\":\"LinearScale\"},{\"attributes\":{\"axis\":{\"id\":\"2476\"},\"coordinates\":null,\"dimension\":1,\"grid_line_color\":null,\"group\":null,\"ticker\":null},\"id\":\"2479\",\"type\":\"Grid\"},{\"attributes\":{},\"id\":\"2516\",\"type\":\"LinearScale\"},{\"attributes\":{\"axis\":{\"id\":\"2426\"},\"coordinates\":null,\"grid_line_color\":null,\"group\":null,\"ticker\":null},\"id\":\"2429\",\"type\":\"Grid\"},{\"attributes\":{\"coordinates\":null,\"formatter\":{\"id\":\"2497\"},\"group\":null,\"major_label_policy\":{\"id\":\"2498\"},\"ticker\":{\"id\":\"2473\"},\"visible\":false},\"id\":\"2472\",\"type\":\"LinearAxis\"},{\"attributes\":{},\"id\":\"2470\",\"type\":\"LinearScale\"},{\"attributes\":{\"end_angle\":{\"expr\":{\"id\":\"2530\"}},\"fill_alpha\":{\"value\":0.1},\"fill_color\":{\"field\":\"color\"},\"hatch_alpha\":{\"value\":0.1},\"line_alpha\":{\"value\":0.1},\"line_color\":{\"value\":\"white\"},\"radius\":{\"value\":0.4},\"start_angle\":{\"expr\":{\"id\":\"2529\"}},\"x\":{\"value\":0},\"y\":{\"value\":1}},\"id\":\"2534\",\"type\":\"Wedge\"},{\"attributes\":{\"field\":\"angle\",\"include_zero\":true},\"id\":\"2529\",\"type\":\"CumSum\"},{\"attributes\":{},\"id\":\"2514\",\"type\":\"LinearScale\"},{\"attributes\":{\"axis\":{\"id\":\"2518\"},\"coordinates\":null,\"grid_line_color\":null,\"group\":null,\"ticker\":null},\"id\":\"2521\",\"type\":\"Grid\"},{\"attributes\":{\"field\":\"angle\"},\"id\":\"2438\",\"type\":\"CumSum\"},{\"attributes\":{\"coordinates\":null,\"group\":null,\"text\":\"Cases by Agency: QUEENS\"},\"id\":\"2462\",\"type\":\"Title\"},{\"attributes\":{\"coordinates\":null,\"formatter\":{\"id\":\"2540\"},\"group\":null,\"major_label_policy\":{\"id\":\"2541\"},\"ticker\":{\"id\":\"2523\"},\"visible\":false},\"id\":\"2522\",\"type\":\"LinearAxis\"},{\"attributes\":{},\"id\":\"2586\",\"type\":\"UnionRenderers\"},{\"attributes\":{\"coordinates\":null,\"formatter\":{\"id\":\"2494\"},\"group\":null,\"major_label_policy\":{\"id\":\"2495\"},\"ticker\":{\"id\":\"2477\"},\"visible\":false},\"id\":\"2476\",\"type\":\"LinearAxis\"},{\"attributes\":{},\"id\":\"2519\",\"type\":\"BasicTicker\"},{\"attributes\":{\"field\":\"angle\",\"include_zero\":true},\"id\":\"2345\",\"type\":\"CumSum\"},{\"attributes\":{\"below\":[{\"id\":\"2472\"}],\"center\":[{\"id\":\"2475\"},{\"id\":\"2479\"},{\"id\":\"2501\"},{\"id\":\"2505\"}],\"height\":350,\"left\":[{\"id\":\"2476\"}],\"renderers\":[{\"id\":\"2490\"}],\"sizing_mode\":\"scale_both\",\"title\":{\"id\":\"2462\"},\"toolbar\":{\"id\":\"2481\"},\"toolbar_location\":null,\"x_range\":{\"id\":\"2464\"},\"x_scale\":{\"id\":\"2468\"},\"y_range\":{\"id\":\"2466\"},\"y_scale\":{\"id\":\"2470\"}},\"id\":\"2461\",\"subtype\":\"Figure\",\"type\":\"Plot\"},{\"attributes\":{\"field\":\"angle\",\"include_zero\":true},\"id\":\"2549\",\"type\":\"CumSum\"},{\"attributes\":{},\"id\":\"2512\",\"type\":\"DataRange1d\"},{\"attributes\":{},\"id\":\"2453\",\"type\":\"UnionRenderers\"},{\"attributes\":{},\"id\":\"2587\",\"type\":\"Selection\"},{\"attributes\":{\"callback\":null,\"tooltips\":\"@Agency: @pct\"},\"id\":\"2526\",\"type\":\"HoverTool\"},{\"attributes\":{},\"id\":\"2473\",\"type\":\"BasicTicker\"},{\"attributes\":{\"field\":\"angle\",\"include_zero\":true},\"id\":\"2483\",\"type\":\"CumSum\"},{\"attributes\":{\"data\":{\"Agency\":[\"DCA\",\"DEP\",\"DHS\",\"DOB\",\"DOE\",\"DOHMH\",\"DOT\",\"DPR\",\"DSNY\",\"HPD\",\"NYPD\",\"OTI\"],\"angle\":{\"__ndarray__\":\"VVuD2jCWhD+h9ucglyzSPwuRK+iT34U/53wMww5kxT81uoqxB7qAPwSr3u/boLw/H9I5Hnnd7z+IeB2ZvK/QPw4ib+b0VgBALDIkEb272T9JMQOSU9j/PwAAAAAAAAAA\",\"dtype\":\"float64\",\"order\":\"little\",\"shape\":[12]},\"color\":[\"#3182bd\",\"#6baed6\",\"#9ecae1\",\"#c6dbef\",\"#e6550d\",\"#fd8d3c\",\"#fdae6b\",\"#fdd0a2\",\"#31a354\",\"#74c476\",\"#a1d99b\",\"#c7e9c0\"],\"index\":[0,1,2,3,4,5,6,7,8,9,10,11],\"label_vals\":[\"\",\"\",\"\",\"\",\"\",\"\",\"               15.85\",\"\",\"               32.51\",\"                 6.4\",\"               31.68\",\"\"],\"pct\":{\"__ndarray__\":\"exSuR+F6xD8UrkfhehQSQMP1KFyPwsU/SOF6FK5HBUCkcD0K16PAP3sUrkfhevw/MzMzMzOzL0CamZmZmZkQQOF6FK5HQUBAmpmZmZmZGUCuR+F6FK4/QAAAAAAAAAAA\",\"dtype\":\"float64\",\"order\":\"little\",\"shape\":[12]},\"value\":{\"__ndarray__\":\"AAAAAAAAUkAAAAAAACifQAAAAAAAAFNAAAAAAABUkkAAAAAAAABNQAAAAAAAgIhAAAAAAABXu0AAAAAAAKicQAAAAAAACcxAAAAAAAAQpkAAAAAAAFLLQAAAAAAAAPA/\",\"dtype\":\"float64\",\"order\":\"little\",\"shape\":[12]}},\"selected\":{\"id\":\"2611\"},\"selection_policy\":{\"id\":\"2610\"}},\"id\":\"2550\",\"type\":\"ColumnDataSource\"},{\"attributes\":{\"data\":{\"Agency\":[\"DCA\",\"DEP\",\"DHS\",\"DOB\",\"DOE\",\"DOHMH\",\"DOT\",\"DPR\",\"DSNY\",\"HPD\",\"NYPD\",\"OTI\"],\"angle\":{\"__ndarray__\":\"NbqKsQe6kD9lFAYZKvTFP49sWI7U7sE/7a0oYb3Dzz+/xtP19ih3P89/VjTwhsg/RYH77GAY2j9ZzqnWjDWxPzd4gFNaet4/v79c98Yo8z82qlusYuIKQFRbg9owlkQ/\",\"dtype\":\"float64\",\"order\":\"little\",\"shape\":[12]},\"color\":[\"#3182bd\",\"#6baed6\",\"#9ecae1\",\"#c6dbef\",\"#e6550d\",\"#fd8d3c\",\"#fdae6b\",\"#fdd0a2\",\"#31a354\",\"#74c476\",\"#a1d99b\",\"#c7e9c0\"],\"index\":[0,1,2,3,4,5,6,7,8,9,10,11],\"pct\":{\"__ndarray__\":\"pHA9Ctej0D/Xo3A9CtcFQNejcD0K1wFAmpmZmZmZD0AK16NwPQq3P2ZmZmZmZghA9ihcj8L1GUAfhetRuB7xP1K4HoXrUR5Aj8L1KFwPM0AfhetRuL5KQHsUrkfheoQ/\",\"dtype\":\"float64\",\"order\":\"little\",\"shape\":[12]},\"value\":{\"__ndarray__\":\"AAAAAABgfUAAAAAAAISzQAAAAAAA7q9AAAAAAAA5vEAAAAAAAMBjQAAAAAAAyrVAAAAAAIA1x0AAAAAAAICeQAAAAACAF8tAAAAAAOAI4UAAAAAAgOf3QAAAAAAAAChA\",\"dtype\":\"float64\",\"order\":\"little\",\"shape\":[12]}},\"selected\":{\"id\":\"2454\"},\"selection_policy\":{\"id\":\"2453\"}},\"id\":\"2439\",\"type\":\"ColumnDataSource\"},{\"attributes\":{\"field\":\"angle\"},\"id\":\"2530\",\"type\":\"CumSum\"},{\"attributes\":{\"field\":\"angle\",\"include_zero\":true},\"id\":\"2503\",\"type\":\"CumSum\"},{\"attributes\":{},\"id\":\"2468\",\"type\":\"LinearScale\"},{\"attributes\":{\"axis\":{\"id\":\"2472\"},\"coordinates\":null,\"grid_line_color\":null,\"group\":null,\"ticker\":null},\"id\":\"2475\",\"type\":\"Grid\"},{\"attributes\":{\"angle\":{\"expr\":{\"id\":\"2411\"}},\"coordinates\":null,\"group\":null,\"source\":{\"id\":\"2412\"},\"text\":{\"field\":\"label_vals\"},\"x\":{\"value\":0},\"y\":{\"value\":1}},\"id\":\"2413\",\"type\":\"LabelSet\"},{\"attributes\":{\"coordinates\":null,\"group\":null,\"items\":[{\"id\":\"2548\"}]},\"id\":\"2547\",\"type\":\"Legend\"},{\"attributes\":{\"end_angle\":{\"expr\":{\"id\":\"2484\"}},\"fill_alpha\":{\"value\":0.1},\"fill_color\":{\"field\":\"color\"},\"hatch_alpha\":{\"value\":0.1},\"line_alpha\":{\"value\":0.1},\"line_color\":{\"value\":\"white\"},\"radius\":{\"value\":0.4},\"start_angle\":{\"expr\":{\"id\":\"2483\"}},\"x\":{\"value\":0},\"y\":{\"value\":1}},\"id\":\"2488\",\"type\":\"Wedge\"},{\"attributes\":{\"coordinates\":null,\"data_source\":{\"id\":\"2439\"},\"glyph\":{\"id\":\"2441\"},\"group\":null,\"hover_glyph\":null,\"muted_glyph\":{\"id\":\"2443\"},\"nonselection_glyph\":{\"id\":\"2442\"},\"view\":{\"id\":\"2445\"}},\"id\":\"2444\",\"type\":\"GlyphRenderer\"},{\"attributes\":{},\"id\":\"2466\",\"type\":\"DataRange1d\"},{\"attributes\":{\"source\":{\"id\":\"2531\"}},\"id\":\"2537\",\"type\":\"CDSView\"},{\"attributes\":{\"tools\":[{\"id\":\"2526\"}]},\"id\":\"2527\",\"type\":\"Toolbar\"},{\"attributes\":{\"start\":-0.5},\"id\":\"2464\",\"type\":\"Range1d\"},{\"attributes\":{\"source\":{\"id\":\"2439\"}},\"id\":\"2445\",\"type\":\"CDSView\"},{\"attributes\":{\"data\":{\"Agency\":[\"DCA\",\"DEP\",\"DHS\",\"DOB\",\"DOE\",\"DOHMH\",\"DOT\",\"DPR\",\"DSNY\",\"HPD\",\"NYPD\",\"OTI\"],\"angle\":{\"__ndarray__\":\"VVuD2jCWhD+h9ucglyzSPwuRK+iT34U/53wMww5kxT81uoqxB7qAPwSr3u/boLw/H9I5Hnnd7z+IeB2ZvK/QPw4ib+b0VgBALDIkEb272T9JMQOSU9j/PwAAAAAAAAAA\",\"dtype\":\"float64\",\"order\":\"little\",\"shape\":[12]},\"color\":[\"#3182bd\",\"#6baed6\",\"#9ecae1\",\"#c6dbef\",\"#e6550d\",\"#fd8d3c\",\"#fdae6b\",\"#fdd0a2\",\"#31a354\",\"#74c476\",\"#a1d99b\",\"#c7e9c0\"],\"index\":[0,1,2,3,4,5,6,7,8,9,10,11],\"pct\":{\"__ndarray__\":\"exSuR+F6xD8UrkfhehQSQMP1KFyPwsU/SOF6FK5HBUCkcD0K16PAP3sUrkfhevw/MzMzMzOzL0CamZmZmZkQQOF6FK5HQUBAmpmZmZmZGUCuR+F6FK4/QAAAAAAAAAAA\",\"dtype\":\"float64\",\"order\":\"little\",\"shape\":[12]},\"value\":{\"__ndarray__\":\"AAAAAAAAUkAAAAAAACifQAAAAAAAAFNAAAAAAABUkkAAAAAAAABNQAAAAAAAgIhAAAAAAABXu0AAAAAAAKicQAAAAAAACcxAAAAAAAAQpkAAAAAAAFLLQAAAAAAAAPA/\",\"dtype\":\"float64\",\"order\":\"little\",\"shape\":[12]}},\"selected\":{\"id\":\"2546\"},\"selection_policy\":{\"id\":\"2545\"}},\"id\":\"2531\",\"type\":\"ColumnDataSource\"},{\"attributes\":{\"callback\":null,\"tooltips\":\"@Agency: @pct\"},\"id\":\"2480\",\"type\":\"HoverTool\"},{\"attributes\":{},\"id\":\"2362\",\"type\":\"Selection\"},{\"attributes\":{\"end_angle\":{\"expr\":{\"id\":\"2438\"}},\"fill_alpha\":{\"value\":0.2},\"fill_color\":{\"field\":\"color\"},\"hatch_alpha\":{\"value\":0.2},\"line_alpha\":{\"value\":0.2},\"line_color\":{\"value\":\"white\"},\"radius\":{\"value\":0.4},\"start_angle\":{\"expr\":{\"id\":\"2437\"}},\"x\":{\"value\":0},\"y\":{\"value\":1}},\"id\":\"2443\",\"type\":\"Wedge\"},{\"attributes\":{\"end_angle\":{\"expr\":{\"id\":\"2530\"}},\"fill_color\":{\"field\":\"color\"},\"line_color\":{\"value\":\"white\"},\"radius\":{\"value\":0.4},\"start_angle\":{\"expr\":{\"id\":\"2529\"}},\"x\":{\"value\":0},\"y\":{\"value\":1}},\"id\":\"2533\",\"type\":\"Wedge\"},{\"attributes\":{},\"id\":\"2598\",\"type\":\"UnionRenderers\"},{\"attributes\":{\"label\":{\"field\":\"Agency\"},\"renderers\":[{\"id\":\"2444\"}]},\"id\":\"2456\",\"type\":\"LegendItem\"},{\"attributes\":{},\"id\":\"2599\",\"type\":\"Selection\"},{\"attributes\":{\"coordinates\":null,\"group\":null,\"items\":[{\"id\":\"2456\"}]},\"id\":\"2455\",\"type\":\"Legend\"},{\"attributes\":{},\"id\":\"2402\",\"type\":\"BasicTickFormatter\"},{\"attributes\":{\"end_angle\":{\"expr\":{\"id\":\"2484\"}},\"fill_alpha\":{\"value\":0.2},\"fill_color\":{\"field\":\"color\"},\"hatch_alpha\":{\"value\":0.2},\"line_alpha\":{\"value\":0.2},\"line_color\":{\"value\":\"white\"},\"radius\":{\"value\":0.4},\"start_angle\":{\"expr\":{\"id\":\"2483\"}},\"x\":{\"value\":0},\"y\":{\"value\":1}},\"id\":\"2489\",\"type\":\"Wedge\"},{\"attributes\":{\"coordinates\":null,\"group\":null,\"items\":[{\"id\":\"2502\"}]},\"id\":\"2501\",\"type\":\"Legend\"},{\"attributes\":{\"tools\":[{\"id\":\"2480\"}]},\"id\":\"2481\",\"type\":\"Toolbar\"},{\"attributes\":{\"axis\":{\"id\":\"2430\"},\"coordinates\":null,\"dimension\":1,\"grid_line_color\":null,\"group\":null,\"ticker\":null},\"id\":\"2433\",\"type\":\"Grid\"},{\"attributes\":{\"data\":{\"Agency\":[\"DCA\",\"DEP\",\"DHS\",\"DOB\",\"DOE\",\"DOHMH\",\"DOT\",\"DPR\",\"DSNY\",\"HPD\",\"NYPD\",\"OTI\"],\"angle\":{\"__ndarray__\":\"3N5MEt7ijj9N+91tYSfFP0oLcMvKTZM/Vdu5so7ayD/c3kwS3uJePwBDA1CCBrs/Bin53ioV4z9l1rj5hWjAP50pOuoqY+s/iP14FdSs4T+sqkztdTINQAAAAAAAAAAA\",\"dtype\":\"float64\",\"order\":\"little\",\"shape\":[12]},\"color\":[\"#3182bd\",\"#6baed6\",\"#9ecae1\",\"#c6dbef\",\"#e6550d\",\"#fd8d3c\",\"#fdae6b\",\"#fdd0a2\",\"#31a354\",\"#74c476\",\"#a1d99b\",\"#c7e9c0\"],\"index\":[0,1,2,3,4,5,6,7,8,9,10,11],\"pct\":{\"__ndarray__\":\"uB6F61G4zj8K16NwPQoFQDMzMzMzM9M/uB6F61G4CEC4HoXrUbieP+F6FK5H4fo/exSuR+H6IkBSuB6F61EAQD0K16NwPStAFK5H4XqUIUAK16NwPQpNQAAAAAAAAAAA\",\"dtype\":\"float64\",\"order\":\"little\",\"shape\":[12]},\"value\":{\"__ndarray__\":\"AAAAAADggUAAAAAAAAS4QAAAAAAAoIVAAAAAAAAuvEAAAAAAAIBPQAAAAAAAuq5AAAAAAACi1UAAAAAAAKCyQAAAAACAEd9AAAAAAMAL1EAAAAAAcI4AQQAAAAAAAAhA\",\"dtype\":\"float64\",\"order\":\"little\",\"shape\":[12]}},\"selected\":{\"id\":\"2500\"},\"selection_policy\":{\"id\":\"2499\"}},\"id\":\"2485\",\"type\":\"ColumnDataSource\"},{\"attributes\":{\"coordinates\":null,\"data_source\":{\"id\":\"2531\"},\"glyph\":{\"id\":\"2533\"},\"group\":null,\"hover_glyph\":null,\"muted_glyph\":{\"id\":\"2535\"},\"nonselection_glyph\":{\"id\":\"2534\"},\"view\":{\"id\":\"2537\"}},\"id\":\"2536\",\"type\":\"GlyphRenderer\"},{\"attributes\":{\"label\":{\"field\":\"Agency\"},\"renderers\":[{\"id\":\"2536\"}]},\"id\":\"2548\",\"type\":\"LegendItem\"},{\"attributes\":{\"callback\":null,\"tooltips\":\"@Agency: @pct\"},\"id\":\"2434\",\"type\":\"HoverTool\"},{\"attributes\":{},\"id\":\"2540\",\"type\":\"BasicTickFormatter\"},{\"attributes\":{\"angle\":{\"expr\":{\"id\":\"2457\"}},\"coordinates\":null,\"group\":null,\"source\":{\"id\":\"2458\"},\"text\":{\"field\":\"label_vals\"},\"x\":{\"value\":0},\"y\":{\"value\":1}},\"id\":\"2459\",\"type\":\"LabelSet\"},{\"attributes\":{\"source\":{\"id\":\"2485\"}},\"id\":\"2491\",\"type\":\"CDSView\"},{\"attributes\":{\"data\":{\"Agency\":[\"DCA\",\"DEP\",\"DHS\",\"DOB\",\"DOE\",\"DOHMH\",\"DOT\",\"DPR\",\"DSNY\",\"HPD\",\"NYPD\",\"OTI\"],\"angle\":{\"__ndarray__\":\"3N5MEt7ijj9N+91tYSfFP0oLcMvKTZM/Vdu5so7ayD/c3kwS3uJePwBDA1CCBrs/Bin53ioV4z9l1rj5hWjAP50pOuoqY+s/iP14FdSs4T+sqkztdTINQAAAAAAAAAAA\",\"dtype\":\"float64\",\"order\":\"little\",\"shape\":[12]},\"color\":[\"#3182bd\",\"#6baed6\",\"#9ecae1\",\"#c6dbef\",\"#e6550d\",\"#fd8d3c\",\"#fdae6b\",\"#fdd0a2\",\"#31a354\",\"#74c476\",\"#a1d99b\",\"#c7e9c0\"],\"index\":[0,1,2,3,4,5,6,7,8,9,10,11],\"label_vals\":[\"\",\"\",\"\",\"\",\"\",\"\",\"                9.49\",\"\",\"               13.62\",\"                8.79\",\"               58.08\",\"\"],\"pct\":{\"__ndarray__\":\"uB6F61G4zj8K16NwPQoFQDMzMzMzM9M/uB6F61G4CEC4HoXrUbieP+F6FK5H4fo/exSuR+H6IkBSuB6F61EAQD0K16NwPStAFK5H4XqUIUAK16NwPQpNQAAAAAAAAAAA\",\"dtype\":\"float64\",\"order\":\"little\",\"shape\":[12]},\"value\":{\"__ndarray__\":\"AAAAAADggUAAAAAAAAS4QAAAAAAAoIVAAAAAAAAuvEAAAAAAAIBPQAAAAAAAuq5AAAAAAACi1UAAAAAAAKCyQAAAAACAEd9AAAAAAMAL1EAAAAAAcI4AQQAAAAAAAAhA\",\"dtype\":\"float64\",\"order\":\"little\",\"shape\":[12]}},\"selected\":{\"id\":\"2599\"},\"selection_policy\":{\"id\":\"2598\"}},\"id\":\"2504\",\"type\":\"ColumnDataSource\"},{\"attributes\":{\"end_angle\":{\"expr\":{\"id\":\"2438\"}},\"fill_alpha\":{\"value\":0.1},\"fill_color\":{\"field\":\"color\"},\"hatch_alpha\":{\"value\":0.1},\"line_alpha\":{\"value\":0.1},\"line_color\":{\"value\":\"white\"},\"radius\":{\"value\":0.4},\"start_angle\":{\"expr\":{\"id\":\"2437\"}},\"x\":{\"value\":0},\"y\":{\"value\":1}},\"id\":\"2442\",\"type\":\"Wedge\"},{\"attributes\":{},\"id\":\"2610\",\"type\":\"UnionRenderers\"},{\"attributes\":{\"start\":-0.5},\"id\":\"2418\",\"type\":\"Range1d\"},{\"attributes\":{\"coordinates\":null,\"data_source\":{\"id\":\"2485\"},\"glyph\":{\"id\":\"2487\"},\"group\":null,\"hover_glyph\":null,\"muted_glyph\":{\"id\":\"2489\"},\"nonselection_glyph\":{\"id\":\"2488\"},\"view\":{\"id\":\"2491\"}},\"id\":\"2490\",\"type\":\"GlyphRenderer\"},{\"attributes\":{\"below\":[{\"id\":\"2518\"}],\"center\":[{\"id\":\"2521\"},{\"id\":\"2525\"},{\"id\":\"2547\"},{\"id\":\"2551\"}],\"height\":350,\"left\":[{\"id\":\"2522\"}],\"renderers\":[{\"id\":\"2536\"}],\"sizing_mode\":\"scale_both\",\"title\":{\"id\":\"2508\"},\"toolbar\":{\"id\":\"2527\"},\"toolbar_location\":null,\"x_range\":{\"id\":\"2510\"},\"x_scale\":{\"id\":\"2514\"},\"y_range\":{\"id\":\"2512\"},\"y_scale\":{\"id\":\"2516\"}},\"id\":\"2507\",\"subtype\":\"Figure\",\"type\":\"Plot\"},{\"attributes\":{\"tools\":[{\"id\":\"2342\"}]},\"id\":\"2343\",\"type\":\"Toolbar\"},{\"attributes\":{},\"id\":\"2611\",\"type\":\"Selection\"},{\"attributes\":{},\"id\":\"2420\",\"type\":\"DataRange1d\"},{\"attributes\":{\"end_angle\":{\"expr\":{\"id\":\"2346\"}},\"fill_color\":{\"field\":\"color\"},\"line_color\":{\"value\":\"white\"},\"radius\":{\"value\":0.4},\"start_angle\":{\"expr\":{\"id\":\"2345\"}},\"x\":{\"value\":0},\"y\":{\"value\":1}},\"id\":\"2349\",\"type\":\"Wedge\"},{\"attributes\":{\"end_angle\":{\"expr\":{\"id\":\"2438\"}},\"fill_color\":{\"field\":\"color\"},\"line_color\":{\"value\":\"white\"},\"radius\":{\"value\":0.4},\"start_angle\":{\"expr\":{\"id\":\"2437\"}},\"x\":{\"value\":0},\"y\":{\"value\":1}},\"id\":\"2441\",\"type\":\"Wedge\"},{\"attributes\":{\"children\":[[{\"id\":\"2323\"},0,0],[{\"id\":\"2369\"},0,1],[{\"id\":\"2415\"},1,0],[{\"id\":\"2461\"},1,1],[{\"id\":\"2507\"},2,0]]},\"id\":\"2613\",\"type\":\"GridBox\"},{\"attributes\":{},\"id\":\"2563\",\"type\":\"Selection\"},{\"attributes\":{\"label\":{\"field\":\"Agency\"},\"renderers\":[{\"id\":\"2490\"}]},\"id\":\"2502\",\"type\":\"LegendItem\"},{\"attributes\":{},\"id\":\"2424\",\"type\":\"LinearScale\"},{\"attributes\":{},\"id\":\"2359\",\"type\":\"BasicTickFormatter\"},{\"attributes\":{\"coordinates\":null,\"data_source\":{\"id\":\"2393\"},\"glyph\":{\"id\":\"2395\"},\"group\":null,\"hover_glyph\":null,\"muted_glyph\":{\"id\":\"2397\"},\"nonselection_glyph\":{\"id\":\"2396\"},\"view\":{\"id\":\"2399\"}},\"id\":\"2398\",\"type\":\"GlyphRenderer\"},{\"attributes\":{\"source\":{\"id\":\"2347\"}},\"id\":\"2353\",\"type\":\"CDSView\"},{\"attributes\":{\"tools\":[{\"id\":\"2388\"}]},\"id\":\"2389\",\"type\":\"Toolbar\"},{\"attributes\":{},\"id\":\"2357\",\"type\":\"AllLabels\"},{\"attributes\":{\"source\":{\"id\":\"2393\"}},\"id\":\"2399\",\"type\":\"CDSView\"},{\"attributes\":{\"field\":\"angle\"},\"id\":\"2346\",\"type\":\"CumSum\"},{\"attributes\":{\"axis\":{\"id\":\"2338\"},\"coordinates\":null,\"dimension\":1,\"grid_line_color\":null,\"group\":null,\"ticker\":null},\"id\":\"2341\",\"type\":\"Grid\"},{\"attributes\":{\"coordinates\":null,\"formatter\":{\"id\":\"2359\"},\"group\":null,\"major_label_policy\":{\"id\":\"2360\"},\"ticker\":{\"id\":\"2335\"},\"visible\":false},\"id\":\"2334\",\"type\":\"LinearAxis\"},{\"attributes\":{\"data\":{\"Agency\":[\"DCA\",\"DEP\",\"DHS\",\"DOB\",\"DOE\",\"DOHMH\",\"DOT\",\"DPR\",\"DSNY\",\"HPD\",\"NYPD\",\"OTI\"],\"angle\":{\"__ndarray__\":\"NbqKsQe6kD9lFAYZKvTFP49sWI7U7sE/7a0oYb3Dzz+/xtP19ih3P89/VjTwhsg/RYH77GAY2j9ZzqnWjDWxPzd4gFNaet4/v79c98Yo8z82qlusYuIKQFRbg9owlkQ/\",\"dtype\":\"float64\",\"order\":\"little\",\"shape\":[12]},\"color\":[\"#3182bd\",\"#6baed6\",\"#9ecae1\",\"#c6dbef\",\"#e6550d\",\"#fd8d3c\",\"#fdae6b\",\"#fdd0a2\",\"#31a354\",\"#74c476\",\"#a1d99b\",\"#c7e9c0\"],\"index\":[0,1,2,3,4,5,6,7,8,9,10,11],\"label_vals\":[\"\",\"\",\"\",\"\",\"\",\"\",\"                6.49\",\"\",\"                7.58\",\"               19.06\",\"               53.49\",\"\"],\"pct\":{\"__ndarray__\":\"pHA9Ctej0D/Xo3A9CtcFQNejcD0K1wFAmpmZmZmZD0AK16NwPQq3P2ZmZmZmZghA9ihcj8L1GUAfhetRuB7xP1K4HoXrUR5Aj8L1KFwPM0AfhetRuL5KQHsUrkfheoQ/\",\"dtype\":\"float64\",\"order\":\"little\",\"shape\":[12]},\"value\":{\"__ndarray__\":\"AAAAAABgfUAAAAAAAISzQAAAAAAA7q9AAAAAAAA5vEAAAAAAAMBjQAAAAAAAyrVAAAAAAIA1x0AAAAAAAICeQAAAAACAF8tAAAAAAOAI4UAAAAAAgOf3QAAAAAAAAChA\",\"dtype\":\"float64\",\"order\":\"little\",\"shape\":[12]}},\"selected\":{\"id\":\"2587\"},\"selection_policy\":{\"id\":\"2586\"}},\"id\":\"2458\",\"type\":\"ColumnDataSource\"},{\"attributes\":{\"coordinates\":null,\"formatter\":{\"id\":\"2356\"},\"group\":null,\"major_label_policy\":{\"id\":\"2357\"},\"ticker\":{\"id\":\"2339\"},\"visible\":false},\"id\":\"2338\",\"type\":\"LinearAxis\"},{\"attributes\":{},\"id\":\"2494\",\"type\":\"BasicTickFormatter\"},{\"attributes\":{},\"id\":\"2495\",\"type\":\"AllLabels\"},{\"attributes\":{\"callback\":null,\"tooltips\":\"@Agency: @pct\"},\"id\":\"2342\",\"type\":\"HoverTool\"},{\"attributes\":{},\"id\":\"2361\",\"type\":\"UnionRenderers\"},{\"attributes\":{\"coordinates\":null,\"group\":null,\"items\":[{\"id\":\"2364\"}]},\"id\":\"2363\",\"type\":\"Legend\"},{\"attributes\":{},\"id\":\"2356\",\"type\":\"BasicTickFormatter\"},{\"attributes\":{},\"id\":\"2497\",\"type\":\"BasicTickFormatter\"},{\"attributes\":{\"coordinates\":null,\"group\":null,\"text\":\"Cases by Agency: BRONX\"},\"id\":\"2324\",\"type\":\"Title\"},{\"attributes\":{\"start\":-0.5},\"id\":\"2372\",\"type\":\"Range1d\"},{\"attributes\":{},\"id\":\"2498\",\"type\":\"AllLabels\"},{\"attributes\":{\"below\":[{\"id\":\"2380\"}],\"center\":[{\"id\":\"2383\"},{\"id\":\"2387\"},{\"id\":\"2409\"},{\"id\":\"2413\"}],\"height\":350,\"left\":[{\"id\":\"2384\"}],\"renderers\":[{\"id\":\"2398\"}],\"sizing_mode\":\"scale_both\",\"title\":{\"id\":\"2370\"},\"toolbar\":{\"id\":\"2389\"},\"toolbar_location\":null,\"x_range\":{\"id\":\"2372\"},\"x_scale\":{\"id\":\"2376\"},\"y_range\":{\"id\":\"2374\"},\"y_scale\":{\"id\":\"2378\"}},\"id\":\"2369\",\"subtype\":\"Figure\",\"type\":\"Plot\"},{\"attributes\":{\"angle\":{\"expr\":{\"id\":\"2365\"}},\"coordinates\":null,\"group\":null,\"source\":{\"id\":\"2366\"},\"text\":{\"field\":\"label_vals\"},\"x\":{\"value\":0},\"y\":{\"value\":1}},\"id\":\"2367\",\"type\":\"LabelSet\"},{\"attributes\":{},\"id\":\"2339\",\"type\":\"BasicTicker\"},{\"attributes\":{\"data\":{\"Agency\":[\"DCA\",\"DEP\",\"DHS\",\"DOB\",\"DOE\",\"DOHMH\",\"DOT\",\"DPR\",\"DSNY\",\"HPD\",\"NYPD\",\"OTI\"],\"angle\":{\"__ndarray__\":\"IaLKedHhhT+DNAiwWcrDP9PU3K5MmKQ/4yXCazWJzz89P0sGc+RePwhx4v3+EMM/Own/fYvL2z/m+Kifow2/P7mfC2RUCew/KUETxTFS8D+q1A2sQdQJQAAAAAAAAAAA\",\"dtype\":\"float64\",\"order\":\"little\",\"shape\":[12]},\"color\":[\"#3182bd\",\"#6baed6\",\"#9ecae1\",\"#c6dbef\",\"#e6550d\",\"#fd8d3c\",\"#fdae6b\",\"#fdd0a2\",\"#31a354\",\"#74c476\",\"#a1d99b\",\"#c7e9c0\"],\"index\":[0,1,2,3,4,5,6,7,8,9,10,11],\"label_vals\":[\"\",\"\",\"\",\"\",\"\",\"\",\"                6.91\",\"\",\"               13.94\",\"               16.23\",\"               51.37\",\"\"],\"pct\":{\"__ndarray__\":\"w/UoXI/CxT+uR+F6FK4DQHsUrkfheuQ/XI/C9ShcD0C4HoXrUbieP/YoXI/C9QJApHA9CtejG0DhehSuR+H+P+F6FK5H4StAexSuR+E6MECPwvUoXK9JQAAAAAAAAAAA\",\"dtype\":\"float64\",\"order\":\"little\",\"shape\":[12]},\"value\":{\"__ndarray__\":\"AAAAAABQgEAAAAAAAM28QAAAAAAAFJ5AAAAAAIDsxkAAAAAAAABaQAAAAAAApbtAAAAAAEAx1EAAAAAAAJy2QAAAAAAAXuRAAAAAAMC050AAAAAA6MICQQAAAAAAABRA\",\"dtype\":\"float64\",\"order\":\"little\",\"shape\":[12]}},\"selected\":{\"id\":\"2575\"},\"selection_policy\":{\"id\":\"2574\"}},\"id\":\"2412\",\"type\":\"ColumnDataSource\"},{\"attributes\":{\"below\":[{\"id\":\"2334\"}],\"center\":[{\"id\":\"2337\"},{\"id\":\"2341\"},{\"id\":\"2363\"},{\"id\":\"2367\"}],\"height\":350,\"left\":[{\"id\":\"2338\"}],\"renderers\":[{\"id\":\"2352\"}],\"sizing_mode\":\"scale_both\",\"title\":{\"id\":\"2324\"},\"toolbar\":{\"id\":\"2343\"},\"toolbar_location\":null,\"x_range\":{\"id\":\"2326\"},\"x_scale\":{\"id\":\"2330\"},\"y_range\":{\"id\":\"2328\"},\"y_scale\":{\"id\":\"2332\"}},\"id\":\"2323\",\"subtype\":\"Figure\",\"type\":\"Plot\"},{\"attributes\":{\"axis\":{\"id\":\"2380\"},\"coordinates\":null,\"grid_line_color\":null,\"group\":null,\"ticker\":null},\"id\":\"2383\",\"type\":\"Grid\"},{\"attributes\":{\"field\":\"angle\",\"include_zero\":true},\"id\":\"2457\",\"type\":\"CumSum\"},{\"attributes\":{\"coordinates\":null,\"formatter\":{\"id\":\"2402\"},\"group\":null,\"major_label_policy\":{\"id\":\"2403\"},\"ticker\":{\"id\":\"2385\"},\"visible\":false},\"id\":\"2384\",\"type\":\"LinearAxis\"},{\"attributes\":{},\"id\":\"2376\",\"type\":\"LinearScale\"},{\"attributes\":{\"end_angle\":{\"expr\":{\"id\":\"2392\"}},\"fill_alpha\":{\"value\":0.2},\"fill_color\":{\"field\":\"color\"},\"hatch_alpha\":{\"value\":0.2},\"line_alpha\":{\"value\":0.2},\"line_color\":{\"value\":\"white\"},\"radius\":{\"value\":0.4},\"start_angle\":{\"expr\":{\"id\":\"2391\"}},\"x\":{\"value\":0},\"y\":{\"value\":1}},\"id\":\"2397\",\"type\":\"Wedge\"},{\"attributes\":{\"coordinates\":null,\"group\":null,\"text\":\"Cases by Agency: BROOKLYN\"},\"id\":\"2370\",\"type\":\"Title\"},{\"attributes\":{\"angle\":{\"expr\":{\"id\":\"2549\"}},\"coordinates\":null,\"group\":null,\"source\":{\"id\":\"2550\"},\"text\":{\"field\":\"label_vals\"},\"x\":{\"value\":0},\"y\":{\"value\":1}},\"id\":\"2551\",\"type\":\"LabelSet\"},{\"attributes\":{\"axis\":{\"id\":\"2334\"},\"coordinates\":null,\"grid_line_color\":null,\"group\":null,\"ticker\":null},\"id\":\"2337\",\"type\":\"Grid\"},{\"attributes\":{\"end_angle\":{\"expr\":{\"id\":\"2392\"}},\"fill_alpha\":{\"value\":0.1},\"fill_color\":{\"field\":\"color\"},\"hatch_alpha\":{\"value\":0.1},\"line_alpha\":{\"value\":0.1},\"line_color\":{\"value\":\"white\"},\"radius\":{\"value\":0.4},\"start_angle\":{\"expr\":{\"id\":\"2391\"}},\"x\":{\"value\":0},\"y\":{\"value\":1}},\"id\":\"2396\",\"type\":\"Wedge\"},{\"attributes\":{},\"id\":\"2499\",\"type\":\"UnionRenderers\"},{\"attributes\":{},\"id\":\"2330\",\"type\":\"LinearScale\"},{\"attributes\":{\"end_angle\":{\"expr\":{\"id\":\"2392\"}},\"fill_color\":{\"field\":\"color\"},\"line_color\":{\"value\":\"white\"},\"radius\":{\"value\":0.4},\"start_angle\":{\"expr\":{\"id\":\"2391\"}},\"x\":{\"value\":0},\"y\":{\"value\":1}},\"id\":\"2395\",\"type\":\"Wedge\"},{\"attributes\":{\"angle\":{\"expr\":{\"id\":\"2503\"}},\"coordinates\":null,\"group\":null,\"source\":{\"id\":\"2504\"},\"text\":{\"field\":\"label_vals\"},\"x\":{\"value\":0},\"y\":{\"value\":1}},\"id\":\"2505\",\"type\":\"LabelSet\"},{\"attributes\":{},\"id\":\"2500\",\"type\":\"Selection\"},{\"attributes\":{\"coordinates\":null,\"group\":null,\"items\":[{\"id\":\"2410\"}]},\"id\":\"2409\",\"type\":\"Legend\"},{\"attributes\":{\"start\":-0.5},\"id\":\"2326\",\"type\":\"Range1d\"},{\"attributes\":{\"data\":{\"Agency\":[\"DCA\",\"DEP\",\"DHS\",\"DOB\",\"DOE\",\"DOHMH\",\"DOT\",\"DPR\",\"DSNY\",\"HPD\",\"NYPD\",\"OTI\"],\"angle\":{\"__ndarray__\":\"6Ondtj6XhD9bhLkf4Qm2P9zeTBLe4n4/fHZMyA2Cuz/c3kwS3uJeP0oLcMvKTbM/nOqUYxvM1T+gIXE79k+sPyxI8EtERtU/8UVVpNHA+D8zTmEwT8ENQAAAAAAAAAAA\",\"dtype\":\"float64\",\"order\":\"little\",\"shape\":[12]},\"color\":[\"#3182bd\",\"#6baed6\",\"#9ecae1\",\"#c6dbef\",\"#e6550d\",\"#fd8d3c\",\"#fdae6b\",\"#fdd0a2\",\"#31a354\",\"#74c476\",\"#a1d99b\",\"#c7e9c0\"],\"index\":[0,1,2,3,4,5,6,7,8,9,10,11],\"label_vals\":[\"\",\"\",\"\",\"\",\"\",\"\",\"                5.42\",\"\",\"                5.29\",\"               24.62\",\"               59.19\",\"\"],\"pct\":{\"__ndarray__\":\"exSuR+F6xD/sUbgehev1P7gehetRuL4/XI/C9Shc+z+4HoXrUbiePzMzMzMzM/M/rkfhehSuFUApXI/C9SjsPylcj8L1KBVAH4XrUbieOEC4HoXrUZhNQAAAAAAAAAAA\",\"dtype\":\"float64\",\"order\":\"little\",\"shape\":[12]},\"value\":{\"__ndarray__\":\"AAAAAAAweEAAAAAAAKypQAAAAAAAIHJAAAAAAAACsEAAAAAAAMBUQAAAAAAAiKZAAAAAAABwyUAAAAAAAICgQAAAAAAAy8hAAAAAAGDf7EAAAAAA6FkBQQAAAAAAAABA\",\"dtype\":\"float64\",\"order\":\"little\",\"shape\":[12]}},\"selected\":{\"id\":\"2563\"},\"selection_policy\":{\"id\":\"2562\"}},\"id\":\"2366\",\"type\":\"ColumnDataSource\"},{\"attributes\":{},\"id\":\"2328\",\"type\":\"DataRange1d\"},{\"attributes\":{},\"id\":\"2381\",\"type\":\"BasicTicker\"},{\"attributes\":{\"field\":\"angle\",\"include_zero\":true},\"id\":\"2411\",\"type\":\"CumSum\"},{\"attributes\":{\"axis\":{\"id\":\"2384\"},\"coordinates\":null,\"dimension\":1,\"grid_line_color\":null,\"group\":null,\"ticker\":null},\"id\":\"2387\",\"type\":\"Grid\"},{\"attributes\":{},\"id\":\"2385\",\"type\":\"BasicTicker\"},{\"attributes\":{},\"id\":\"2360\",\"type\":\"AllLabels\"},{\"attributes\":{\"data\":{\"Agency\":[\"DCA\",\"DEP\",\"DHS\",\"DOB\",\"DOE\",\"DOHMH\",\"DOT\",\"DPR\",\"DSNY\",\"HPD\",\"NYPD\",\"OTI\"],\"angle\":{\"__ndarray__\":\"6Ondtj6XhD9bhLkf4Qm2P9zeTBLe4n4/fHZMyA2Cuz/c3kwS3uJeP0oLcMvKTbM/nOqUYxvM1T+gIXE79k+sPyxI8EtERtU/8UVVpNHA+D8zTmEwT8ENQAAAAAAAAAAA\",\"dtype\":\"float64\",\"order\":\"little\",\"shape\":[12]},\"color\":[\"#3182bd\",\"#6baed6\",\"#9ecae1\",\"#c6dbef\",\"#e6550d\",\"#fd8d3c\",\"#fdae6b\",\"#fdd0a2\",\"#31a354\",\"#74c476\",\"#a1d99b\",\"#c7e9c0\"],\"index\":[0,1,2,3,4,5,6,7,8,9,10,11],\"pct\":{\"__ndarray__\":\"exSuR+F6xD/sUbgehev1P7gehetRuL4/XI/C9Shc+z+4HoXrUbiePzMzMzMzM/M/rkfhehSuFUApXI/C9SjsPylcj8L1KBVAH4XrUbieOEC4HoXrUZhNQAAAAAAAAAAA\",\"dtype\":\"float64\",\"order\":\"little\",\"shape\":[12]},\"value\":{\"__ndarray__\":\"AAAAAAAweEAAAAAAAKypQAAAAAAAIHJAAAAAAAACsEAAAAAAAMBUQAAAAAAAiKZAAAAAAABwyUAAAAAAAICgQAAAAAAAy8hAAAAAAGDf7EAAAAAA6FkBQQAAAAAAAABA\",\"dtype\":\"float64\",\"order\":\"little\",\"shape\":[12]}},\"selected\":{\"id\":\"2362\"},\"selection_policy\":{\"id\":\"2361\"}},\"id\":\"2347\",\"type\":\"ColumnDataSource\"},{\"attributes\":{\"label\":{\"field\":\"Agency\"},\"renderers\":[{\"id\":\"2398\"}]},\"id\":\"2410\",\"type\":\"LegendItem\"},{\"attributes\":{\"label\":{\"field\":\"Agency\"},\"renderers\":[{\"id\":\"2352\"}]},\"id\":\"2364\",\"type\":\"LegendItem\"},{\"attributes\":{\"field\":\"angle\"},\"id\":\"2392\",\"type\":\"CumSum\"},{\"attributes\":{\"callback\":null,\"tooltips\":\"@Agency: @pct\"},\"id\":\"2388\",\"type\":\"HoverTool\"},{\"attributes\":{\"field\":\"angle\",\"include_zero\":true},\"id\":\"2365\",\"type\":\"CumSum\"},{\"attributes\":{},\"id\":\"2374\",\"type\":\"DataRange1d\"},{\"attributes\":{\"coordinates\":null,\"data_source\":{\"id\":\"2347\"},\"glyph\":{\"id\":\"2349\"},\"group\":null,\"hover_glyph\":null,\"muted_glyph\":{\"id\":\"2351\"},\"nonselection_glyph\":{\"id\":\"2350\"},\"view\":{\"id\":\"2353\"}},\"id\":\"2352\",\"type\":\"GlyphRenderer\"},{\"attributes\":{\"coordinates\":null,\"formatter\":{\"id\":\"2405\"},\"group\":null,\"major_label_policy\":{\"id\":\"2406\"},\"ticker\":{\"id\":\"2381\"},\"visible\":false},\"id\":\"2380\",\"type\":\"LinearAxis\"},{\"attributes\":{},\"id\":\"2378\",\"type\":\"LinearScale\"},{\"attributes\":{\"end_angle\":{\"expr\":{\"id\":\"2346\"}},\"fill_alpha\":{\"value\":0.2},\"fill_color\":{\"field\":\"color\"},\"hatch_alpha\":{\"value\":0.2},\"line_alpha\":{\"value\":0.2},\"line_color\":{\"value\":\"white\"},\"radius\":{\"value\":0.4},\"start_angle\":{\"expr\":{\"id\":\"2345\"}},\"x\":{\"value\":0},\"y\":{\"value\":1}},\"id\":\"2351\",\"type\":\"Wedge\"},{\"attributes\":{\"field\":\"angle\",\"include_zero\":true},\"id\":\"2391\",\"type\":\"CumSum\"},{\"attributes\":{},\"id\":\"2332\",\"type\":\"LinearScale\"},{\"attributes\":{\"end_angle\":{\"expr\":{\"id\":\"2346\"}},\"fill_alpha\":{\"value\":0.1},\"fill_color\":{\"field\":\"color\"},\"hatch_alpha\":{\"value\":0.1},\"line_alpha\":{\"value\":0.1},\"line_color\":{\"value\":\"white\"},\"radius\":{\"value\":0.4},\"start_angle\":{\"expr\":{\"id\":\"2345\"}},\"x\":{\"value\":0},\"y\":{\"value\":1}},\"id\":\"2350\",\"type\":\"Wedge\"},{\"attributes\":{\"data\":{\"Agency\":[\"DCA\",\"DEP\",\"DHS\",\"DOB\",\"DOE\",\"DOHMH\",\"DOT\",\"DPR\",\"DSNY\",\"HPD\",\"NYPD\",\"OTI\"],\"angle\":{\"__ndarray__\":\"IaLKedHhhT+DNAiwWcrDP9PU3K5MmKQ/4yXCazWJzz89P0sGc+RePwhx4v3+EMM/Own/fYvL2z/m+Kifow2/P7mfC2RUCew/KUETxTFS8D+q1A2sQdQJQAAAAAAAAAAA\",\"dtype\":\"float64\",\"order\":\"little\",\"shape\":[12]},\"color\":[\"#3182bd\",\"#6baed6\",\"#9ecae1\",\"#c6dbef\",\"#e6550d\",\"#fd8d3c\",\"#fdae6b\",\"#fdd0a2\",\"#31a354\",\"#74c476\",\"#a1d99b\",\"#c7e9c0\"],\"index\":[0,1,2,3,4,5,6,7,8,9,10,11],\"pct\":{\"__ndarray__\":\"w/UoXI/CxT+uR+F6FK4DQHsUrkfheuQ/XI/C9ShcD0C4HoXrUbieP/YoXI/C9QJApHA9CtejG0DhehSuR+H+P+F6FK5H4StAexSuR+E6MECPwvUoXK9JQAAAAAAAAAAA\",\"dtype\":\"float64\",\"order\":\"little\",\"shape\":[12]},\"value\":{\"__ndarray__\":\"AAAAAABQgEAAAAAAAM28QAAAAAAAFJ5AAAAAAIDsxkAAAAAAAABaQAAAAAAApbtAAAAAAEAx1EAAAAAAAJy2QAAAAAAAXuRAAAAAAMC050AAAAAA6MICQQAAAAAAABRA\",\"dtype\":\"float64\",\"order\":\"little\",\"shape\":[12]}},\"selected\":{\"id\":\"2408\"},\"selection_policy\":{\"id\":\"2407\"}},\"id\":\"2393\",\"type\":\"ColumnDataSource\"},{\"attributes\":{},\"id\":\"2335\",\"type\":\"BasicTicker\"}],\"root_ids\":[\"2616\"]},\"title\":\"Bokeh Application\",\"version\":\"2.4.3\"}};\n  const render_items = [{\"docid\":\"add17523-f145-46e5-8425-d3c85939e385\",\"root_ids\":[\"2616\"],\"roots\":{\"2616\":\"4e3ce6fe-880a-4164-aeb0-14058be9493a\"}}];\n  root.Bokeh.embed.embed_items_notebook(docs_json, render_items);\n  }\n  if (root.Bokeh !== undefined) {\n    embed_document(root);\n  } else {\n    let attempts = 0;\n    const timer = setInterval(function(root) {\n      if (root.Bokeh !== undefined) {\n        clearInterval(timer);\n        embed_document(root);\n      } else {\n        attempts++;\n        if (attempts > 100) {\n          clearInterval(timer);\n          console.log(\"Bokeh: ERROR: Unable to run BokehJS code because BokehJS library is missing\");\n        }\n      }\n    }, 10, root)\n  }\n})(window);",
      "application/vnd.bokehjs_exec.v0+json": ""
     },
     "metadata": {
      "application/vnd.bokehjs_exec.v0+json": {
       "id": "2616"
      }
     },
     "output_type": "display_data"
    }
   ],
   "source": [
    "plots=list()\n",
    "for borough in size_df.index:\n",
    "    plots.append(create_bokeh_pi(size_df,borough))\n",
    "grid = gridplot(plots,sizing_mode=\"scale_both\",merge_tools=True,ncols=2)\n",
    "show(grid)"
   ]
  },
  {
   "cell_type": "markdown",
   "metadata": {},
   "source": [
    "<br><br><br><br><br><br>\n",
    "<span style=\"color:green;font-size:60px\">Interactive charting</span>\n",
    "<br><br>"
   ]
  },
  {
   "cell_type": "markdown",
   "metadata": {},
   "source": [
    "<li>bokeh graphs are interactive</li>\n",
    "<li>passive interaction (the graph does not change with user input) (e.g., the piechart above)</li>\n",
    "<li>active interaction (the graph changes with user input)</li>"
   ]
  },
  {
   "cell_type": "markdown",
   "metadata": {},
   "source": [
    "<br><br><br><br>\n",
    "<span style=\"color:blue;font-size:x-large\">distribution of processing time</span>\n",
    "<li>We've looked at mean processing times over months and days</li>\n",
    "<li>Let's get a sense of the distribution of processing times</li>"
   ]
  },
  {
   "cell_type": "markdown",
   "metadata": {},
   "source": [
    "<br><br><br><br>\n",
    "<span style=\"color:blue;font-size:large\">Histogram of processing times</h2>\n",
    "<li>We'll only keep data for which the processing duration is greater than .5 and less than 1 day </li>\n",
    "<li>Why? No particular reason other than graph aesthetics!</li>\n",
    "<li>And divide the data into ten bins</li>\n",
    "<li>and use <a href=\"https://numpy.org/doc/stable/reference/generated/numpy.histogram.html\">np.histogram</a> to create the histogram</li>"
   ]
  },
  {
   "cell_type": "code",
   "execution_count": 23,
   "metadata": {},
   "outputs": [
    {
     "name": "stdout",
     "output_type": "stream",
     "text": [
      "<class 'pandas.core.frame.DataFrame'>\n",
      "RangeIndex: 1000000 entries, 0 to 999999\n",
      "Data columns (total 8 columns):\n",
      " #   Column           Non-Null Count    Dtype         \n",
      "---  ------           --------------    -----         \n",
      " 0   Created Date     1000000 non-null  datetime64[ns]\n",
      " 1   Closed Date      1000000 non-null  datetime64[ns]\n",
      " 2   Agency           1000000 non-null  object        \n",
      " 3   Incident Zip     1000000 non-null  int64         \n",
      " 4   Borough          1000000 non-null  object        \n",
      " 5   Latitude         1000000 non-null  float64       \n",
      " 6   Longitude        1000000 non-null  float64       \n",
      " 7   processing_days  1000000 non-null  float64       \n",
      "dtypes: datetime64[ns](2), float64(3), int64(1), object(2)\n",
      "memory usage: 61.0+ MB\n"
     ]
    }
   ],
   "source": [
    "#Load the data\n",
    "import pandas as pd\n",
    "import numpy as np\n",
    "df = pd.read_csv(\"../class-datasets/nyc_311_clean.csv\",header=0, nrows=1000000)\n",
    "df['Created Date'] = pd.to_datetime(df[\"Created Date\"],format=\"%Y-%m-%d %H:%M:%S\")\n",
    "df['Closed Date'] = pd.to_datetime(df[\"Closed Date\"],format=\"%Y-%m-%d %H:%M:%S\")\n",
    "\n",
    "df.info()"
   ]
  },
  {
   "cell_type": "code",
   "execution_count": 24,
   "metadata": {},
   "outputs": [],
   "source": [
    "import numpy as np\n",
    "import pandas as pd\n",
    "df2 = df[(df['processing_days']>0.5) & (df['processing_days']<1)]\n",
    "nbins=10\n",
    "histogram,boundaries = np.histogram(df2['processing_days'],bins=nbins)\n",
    "hist_df = pd.DataFrame({'cases': histogram, \n",
    "                       'left': boundaries[:-1]*24*60, \n",
    "                       'right': boundaries[1:]*24*60})"
   ]
  },
  {
   "cell_type": "code",
   "execution_count": 25,
   "metadata": {},
   "outputs": [
    {
     "data": {
      "text/plain": [
       "array([0.5000463 , 0.55004051, 0.60003472, 0.65002894, 0.70002315,\n",
       "       0.75001736, 0.80001157, 0.85000579, 0.9       , 0.94999421,\n",
       "       0.99998843])"
      ]
     },
     "execution_count": 25,
     "metadata": {},
     "output_type": "execute_result"
    }
   ],
   "source": [
    "boundaries"
   ]
  },
  {
   "cell_type": "code",
   "execution_count": 26,
   "metadata": {},
   "outputs": [
    {
     "data": {
      "text/plain": [
       "array([3218, 3166, 2919, 2848, 3306, 3451, 3853, 4299, 4605, 4477])"
      ]
     },
     "execution_count": 26,
     "metadata": {},
     "output_type": "execute_result"
    }
   ],
   "source": [
    "histogram"
   ]
  },
  {
   "cell_type": "code",
   "execution_count": 27,
   "metadata": {},
   "outputs": [
    {
     "data": {
      "text/html": [
       "<div>\n",
       "<style scoped>\n",
       "    .dataframe tbody tr th:only-of-type {\n",
       "        vertical-align: middle;\n",
       "    }\n",
       "\n",
       "    .dataframe tbody tr th {\n",
       "        vertical-align: top;\n",
       "    }\n",
       "\n",
       "    .dataframe thead th {\n",
       "        text-align: right;\n",
       "    }\n",
       "</style>\n",
       "<table border=\"1\" class=\"dataframe\">\n",
       "  <thead>\n",
       "    <tr style=\"text-align: right;\">\n",
       "      <th></th>\n",
       "      <th>cases</th>\n",
       "      <th>left</th>\n",
       "      <th>right</th>\n",
       "    </tr>\n",
       "  </thead>\n",
       "  <tbody>\n",
       "    <tr>\n",
       "      <th>0</th>\n",
       "      <td>3218</td>\n",
       "      <td>720.066667</td>\n",
       "      <td>792.058333</td>\n",
       "    </tr>\n",
       "    <tr>\n",
       "      <th>1</th>\n",
       "      <td>3166</td>\n",
       "      <td>792.058333</td>\n",
       "      <td>864.050000</td>\n",
       "    </tr>\n",
       "    <tr>\n",
       "      <th>2</th>\n",
       "      <td>2919</td>\n",
       "      <td>864.050000</td>\n",
       "      <td>936.041667</td>\n",
       "    </tr>\n",
       "    <tr>\n",
       "      <th>3</th>\n",
       "      <td>2848</td>\n",
       "      <td>936.041667</td>\n",
       "      <td>1008.033333</td>\n",
       "    </tr>\n",
       "    <tr>\n",
       "      <th>4</th>\n",
       "      <td>3306</td>\n",
       "      <td>1008.033333</td>\n",
       "      <td>1080.025000</td>\n",
       "    </tr>\n",
       "    <tr>\n",
       "      <th>5</th>\n",
       "      <td>3451</td>\n",
       "      <td>1080.025000</td>\n",
       "      <td>1152.016667</td>\n",
       "    </tr>\n",
       "    <tr>\n",
       "      <th>6</th>\n",
       "      <td>3853</td>\n",
       "      <td>1152.016667</td>\n",
       "      <td>1224.008333</td>\n",
       "    </tr>\n",
       "    <tr>\n",
       "      <th>7</th>\n",
       "      <td>4299</td>\n",
       "      <td>1224.008333</td>\n",
       "      <td>1296.000000</td>\n",
       "    </tr>\n",
       "    <tr>\n",
       "      <th>8</th>\n",
       "      <td>4605</td>\n",
       "      <td>1296.000000</td>\n",
       "      <td>1367.991667</td>\n",
       "    </tr>\n",
       "    <tr>\n",
       "      <th>9</th>\n",
       "      <td>4477</td>\n",
       "      <td>1367.991667</td>\n",
       "      <td>1439.983333</td>\n",
       "    </tr>\n",
       "  </tbody>\n",
       "</table>\n",
       "</div>"
      ],
      "text/plain": [
       "   cases         left        right\n",
       "0   3218   720.066667   792.058333\n",
       "1   3166   792.058333   864.050000\n",
       "2   2919   864.050000   936.041667\n",
       "3   2848   936.041667  1008.033333\n",
       "4   3306  1008.033333  1080.025000\n",
       "5   3451  1080.025000  1152.016667\n",
       "6   3853  1152.016667  1224.008333\n",
       "7   4299  1224.008333  1296.000000\n",
       "8   4605  1296.000000  1367.991667\n",
       "9   4477  1367.991667  1439.983333"
      ]
     },
     "execution_count": 27,
     "metadata": {},
     "output_type": "execute_result"
    }
   ],
   "source": [
    "hist_df"
   ]
  },
  {
   "cell_type": "markdown",
   "metadata": {},
   "source": [
    "<br><br><br>\n",
    "<span style=\"color:blue;font-size:x-large\">Creating an interactive bokeh bar chart</span>\n",
    "<li>We'll convert the dataframe into a ColumnDataSource object</li>\n",
    "<li>Create a <span style=\"color:blue\">tooltips</span> dictionary (for the data that will be shown when hovering)</li>\n",
    "<li>Center the bar chart to the median bar size</li>\n",
    "<li>Use a <a href=\"https://docs.bokeh.org/en/latest/docs/reference/models/glyphs/quad.html\">quad glyph</a> to construct each bar. Quad = Quadrilateral</li>"
   ]
  },
  {
   "cell_type": "code",
   "execution_count": 28,
   "metadata": {},
   "outputs": [
    {
     "data": {
      "text/html": [
       "<div class=\"bk-root\">\n",
       "        <a href=\"https://bokeh.org\" target=\"_blank\" class=\"bk-logo bk-logo-small bk-logo-notebook\"></a>\n",
       "        <span id=\"3056\">Loading BokehJS ...</span>\n",
       "    </div>\n"
      ]
     },
     "metadata": {},
     "output_type": "display_data"
    },
    {
     "data": {
      "application/javascript": "(function(root) {\n  function now() {\n    return new Date();\n  }\n\n  const force = true;\n\n  if (typeof root._bokeh_onload_callbacks === \"undefined\" || force === true) {\n    root._bokeh_onload_callbacks = [];\n    root._bokeh_is_loading = undefined;\n  }\n\nconst JS_MIME_TYPE = 'application/javascript';\n  const HTML_MIME_TYPE = 'text/html';\n  const EXEC_MIME_TYPE = 'application/vnd.bokehjs_exec.v0+json';\n  const CLASS_NAME = 'output_bokeh rendered_html';\n\n  /**\n   * Render data to the DOM node\n   */\n  function render(props, node) {\n    const script = document.createElement(\"script\");\n    node.appendChild(script);\n  }\n\n  /**\n   * Handle when an output is cleared or removed\n   */\n  function handleClearOutput(event, handle) {\n    const cell = handle.cell;\n\n    const id = cell.output_area._bokeh_element_id;\n    const server_id = cell.output_area._bokeh_server_id;\n    // Clean up Bokeh references\n    if (id != null && id in Bokeh.index) {\n      Bokeh.index[id].model.document.clear();\n      delete Bokeh.index[id];\n    }\n\n    if (server_id !== undefined) {\n      // Clean up Bokeh references\n      const cmd_clean = \"from bokeh.io.state import curstate; print(curstate().uuid_to_server['\" + server_id + \"'].get_sessions()[0].document.roots[0]._id)\";\n      cell.notebook.kernel.execute(cmd_clean, {\n        iopub: {\n          output: function(msg) {\n            const id = msg.content.text.trim();\n            if (id in Bokeh.index) {\n              Bokeh.index[id].model.document.clear();\n              delete Bokeh.index[id];\n            }\n          }\n        }\n      });\n      // Destroy server and session\n      const cmd_destroy = \"import bokeh.io.notebook as ion; ion.destroy_server('\" + server_id + \"')\";\n      cell.notebook.kernel.execute(cmd_destroy);\n    }\n  }\n\n  /**\n   * Handle when a new output is added\n   */\n  function handleAddOutput(event, handle) {\n    const output_area = handle.output_area;\n    const output = handle.output;\n\n    // limit handleAddOutput to display_data with EXEC_MIME_TYPE content only\n    if ((output.output_type != \"display_data\") || (!Object.prototype.hasOwnProperty.call(output.data, EXEC_MIME_TYPE))) {\n      return\n    }\n\n    const toinsert = output_area.element.find(\".\" + CLASS_NAME.split(' ')[0]);\n\n    if (output.metadata[EXEC_MIME_TYPE][\"id\"] !== undefined) {\n      toinsert[toinsert.length - 1].firstChild.textContent = output.data[JS_MIME_TYPE];\n      // store reference to embed id on output_area\n      output_area._bokeh_element_id = output.metadata[EXEC_MIME_TYPE][\"id\"];\n    }\n    if (output.metadata[EXEC_MIME_TYPE][\"server_id\"] !== undefined) {\n      const bk_div = document.createElement(\"div\");\n      bk_div.innerHTML = output.data[HTML_MIME_TYPE];\n      const script_attrs = bk_div.children[0].attributes;\n      for (let i = 0; i < script_attrs.length; i++) {\n        toinsert[toinsert.length - 1].firstChild.setAttribute(script_attrs[i].name, script_attrs[i].value);\n        toinsert[toinsert.length - 1].firstChild.textContent = bk_div.children[0].textContent\n      }\n      // store reference to server id on output_area\n      output_area._bokeh_server_id = output.metadata[EXEC_MIME_TYPE][\"server_id\"];\n    }\n  }\n\n  function register_renderer(events, OutputArea) {\n\n    function append_mime(data, metadata, element) {\n      // create a DOM node to render to\n      const toinsert = this.create_output_subarea(\n        metadata,\n        CLASS_NAME,\n        EXEC_MIME_TYPE\n      );\n      this.keyboard_manager.register_events(toinsert);\n      // Render to node\n      const props = {data: data, metadata: metadata[EXEC_MIME_TYPE]};\n      render(props, toinsert[toinsert.length - 1]);\n      element.append(toinsert);\n      return toinsert\n    }\n\n    /* Handle when an output is cleared or removed */\n    events.on('clear_output.CodeCell', handleClearOutput);\n    events.on('delete.Cell', handleClearOutput);\n\n    /* Handle when a new output is added */\n    events.on('output_added.OutputArea', handleAddOutput);\n\n    /**\n     * Register the mime type and append_mime function with output_area\n     */\n    OutputArea.prototype.register_mime_type(EXEC_MIME_TYPE, append_mime, {\n      /* Is output safe? */\n      safe: true,\n      /* Index of renderer in `output_area.display_order` */\n      index: 0\n    });\n  }\n\n  // register the mime type if in Jupyter Notebook environment and previously unregistered\n  if (root.Jupyter !== undefined) {\n    const events = require('base/js/events');\n    const OutputArea = require('notebook/js/outputarea').OutputArea;\n\n    if (OutputArea.prototype.mime_types().indexOf(EXEC_MIME_TYPE) == -1) {\n      register_renderer(events, OutputArea);\n    }\n  }\n  if (typeof (root._bokeh_timeout) === \"undefined\" || force === true) {\n    root._bokeh_timeout = Date.now() + 5000;\n    root._bokeh_failed_load = false;\n  }\n\n  const NB_LOAD_WARNING = {'data': {'text/html':\n     \"<div style='background-color: #fdd'>\\n\"+\n     \"<p>\\n\"+\n     \"BokehJS does not appear to have successfully loaded. If loading BokehJS from CDN, this \\n\"+\n     \"may be due to a slow or bad network connection. Possible fixes:\\n\"+\n     \"</p>\\n\"+\n     \"<ul>\\n\"+\n     \"<li>re-rerun `output_notebook()` to attempt to load from CDN again, or</li>\\n\"+\n     \"<li>use INLINE resources instead, as so:</li>\\n\"+\n     \"</ul>\\n\"+\n     \"<code>\\n\"+\n     \"from bokeh.resources import INLINE\\n\"+\n     \"output_notebook(resources=INLINE)\\n\"+\n     \"</code>\\n\"+\n     \"</div>\"}};\n\n  function display_loaded() {\n    const el = document.getElementById(\"3056\");\n    if (el != null) {\n      el.textContent = \"BokehJS is loading...\";\n    }\n    if (root.Bokeh !== undefined) {\n      if (el != null) {\n        el.textContent = \"BokehJS \" + root.Bokeh.version + \" successfully loaded.\";\n      }\n    } else if (Date.now() < root._bokeh_timeout) {\n      setTimeout(display_loaded, 100)\n    }\n  }\n\n  function run_callbacks() {\n    try {\n      root._bokeh_onload_callbacks.forEach(function(callback) {\n        if (callback != null)\n          callback();\n      });\n    } finally {\n      delete root._bokeh_onload_callbacks\n    }\n    console.debug(\"Bokeh: all callbacks have finished\");\n  }\n\n  function load_libs(css_urls, js_urls, callback) {\n    if (css_urls == null) css_urls = [];\n    if (js_urls == null) js_urls = [];\n\n    root._bokeh_onload_callbacks.push(callback);\n    if (root._bokeh_is_loading > 0) {\n      console.debug(\"Bokeh: BokehJS is being loaded, scheduling callback at\", now());\n      return null;\n    }\n    if (js_urls == null || js_urls.length === 0) {\n      run_callbacks();\n      return null;\n    }\n    console.debug(\"Bokeh: BokehJS not loaded, scheduling load and callback at\", now());\n    root._bokeh_is_loading = css_urls.length + js_urls.length;\n\n    function on_load() {\n      root._bokeh_is_loading--;\n      if (root._bokeh_is_loading === 0) {\n        console.debug(\"Bokeh: all BokehJS libraries/stylesheets loaded\");\n        run_callbacks()\n      }\n    }\n\n    function on_error(url) {\n      console.error(\"failed to load \" + url);\n    }\n\n    for (let i = 0; i < css_urls.length; i++) {\n      const url = css_urls[i];\n      const element = document.createElement(\"link\");\n      element.onload = on_load;\n      element.onerror = on_error.bind(null, url);\n      element.rel = \"stylesheet\";\n      element.type = \"text/css\";\n      element.href = url;\n      console.debug(\"Bokeh: injecting link tag for BokehJS stylesheet: \", url);\n      document.body.appendChild(element);\n    }\n\n    for (let i = 0; i < js_urls.length; i++) {\n      const url = js_urls[i];\n      const element = document.createElement('script');\n      element.onload = on_load;\n      element.onerror = on_error.bind(null, url);\n      element.async = false;\n      element.src = url;\n      console.debug(\"Bokeh: injecting script tag for BokehJS library: \", url);\n      document.head.appendChild(element);\n    }\n  };\n\n  function inject_raw_css(css) {\n    const element = document.createElement(\"style\");\n    element.appendChild(document.createTextNode(css));\n    document.body.appendChild(element);\n  }\n\n  const js_urls = [\"https://cdn.bokeh.org/bokeh/release/bokeh-2.4.3.min.js\", \"https://cdn.bokeh.org/bokeh/release/bokeh-gl-2.4.3.min.js\", \"https://cdn.bokeh.org/bokeh/release/bokeh-widgets-2.4.3.min.js\", \"https://cdn.bokeh.org/bokeh/release/bokeh-tables-2.4.3.min.js\", \"https://cdn.bokeh.org/bokeh/release/bokeh-mathjax-2.4.3.min.js\"];\n  const css_urls = [];\n\n  const inline_js = [    function(Bokeh) {\n      Bokeh.set_log_level(\"info\");\n    },\nfunction(Bokeh) {\n    }\n  ];\n\n  function run_inline_js() {\n    if (root.Bokeh !== undefined || force === true) {\n          for (let i = 0; i < inline_js.length; i++) {\n      inline_js[i].call(root, root.Bokeh);\n    }\nif (force === true) {\n        display_loaded();\n      }} else if (Date.now() < root._bokeh_timeout) {\n      setTimeout(run_inline_js, 100);\n    } else if (!root._bokeh_failed_load) {\n      console.log(\"Bokeh: BokehJS failed to load within specified timeout.\");\n      root._bokeh_failed_load = true;\n    } else if (force !== true) {\n      const cell = $(document.getElementById(\"3056\")).parents('.cell').data().cell;\n      cell.output_area.append_execute_result(NB_LOAD_WARNING)\n    }\n  }\n\n  if (root._bokeh_is_loading === 0) {\n    console.debug(\"Bokeh: BokehJS loaded, going straight to plotting\");\n    run_inline_js();\n  } else {\n    load_libs(css_urls, js_urls, function() {\n      console.debug(\"Bokeh: BokehJS plotting callback run at\", now());\n      run_inline_js();\n    });\n  }\n}(window));",
      "application/vnd.bokehjs_load.v0+json": ""
     },
     "metadata": {},
     "output_type": "display_data"
    }
   ],
   "source": [
    "from bokeh.io import output_notebook, show\n",
    "from bokeh.plotting import figure\n",
    "from bokeh.models import ColumnDataSource\n",
    "\n",
    "output_notebook()"
   ]
  },
  {
   "cell_type": "code",
   "execution_count": 29,
   "metadata": {},
   "outputs": [
    {
     "data": {
      "text/html": [
       "\n",
       "  <div class=\"bk-root\" id=\"4cc158db-a94b-42e4-94ec-0f3b07449b32\" data-root-id=\"3058\"></div>\n"
      ]
     },
     "metadata": {},
     "output_type": "display_data"
    },
    {
     "data": {
      "application/javascript": "(function(root) {\n  function embed_document(root) {\n  const docs_json = {\"2ee663a4-1445-4052-9e97-5e802893c721\":{\"defs\":[],\"roots\":{\"references\":[{\"attributes\":{\"below\":[{\"id\":\"3069\"}],\"center\":[{\"id\":\"3072\"},{\"id\":\"3076\"}],\"left\":[{\"id\":\"3073\"}],\"renderers\":[{\"id\":\"3098\"}],\"title\":{\"id\":\"3059\"},\"toolbar\":{\"id\":\"3085\"},\"x_range\":{\"id\":\"3061\"},\"x_scale\":{\"id\":\"3065\"},\"y_range\":{\"id\":\"3063\"},\"y_scale\":{\"id\":\"3067\"}},\"id\":\"3058\",\"subtype\":\"Figure\",\"type\":\"Plot\"},{\"attributes\":{\"overlay\":{\"id\":\"3083\"}},\"id\":\"3079\",\"type\":\"BoxZoomTool\"},{\"attributes\":{},\"id\":\"3080\",\"type\":\"SaveTool\"},{\"attributes\":{},\"id\":\"3081\",\"type\":\"ResetTool\"},{\"attributes\":{\"coordinates\":null,\"group\":null,\"text\":\"Histogram of cases by processing times\"},\"id\":\"3059\",\"type\":\"Title\"},{\"attributes\":{\"axis_label\":\"time buckets\",\"coordinates\":null,\"formatter\":{\"id\":\"3269\"},\"group\":null,\"major_label_policy\":{\"id\":\"3270\"},\"ticker\":{\"id\":\"3070\"}},\"id\":\"3069\",\"type\":\"LinearAxis\"},{\"attributes\":{},\"id\":\"3067\",\"type\":\"LinearScale\"},{\"attributes\":{\"bottom_units\":\"screen\",\"coordinates\":null,\"fill_alpha\":0.5,\"fill_color\":\"lightgrey\",\"group\":null,\"left_units\":\"screen\",\"level\":\"overlay\",\"line_alpha\":1.0,\"line_color\":\"black\",\"line_dash\":[4,4],\"line_width\":2,\"right_units\":\"screen\",\"syncable\":false,\"top_units\":\"screen\"},\"id\":\"3083\",\"type\":\"BoxAnnotation\"},{\"attributes\":{},\"id\":\"3271\",\"type\":\"UnionRenderers\"},{\"attributes\":{\"source\":{\"id\":\"3057\"}},\"id\":\"3099\",\"type\":\"CDSView\"},{\"attributes\":{\"bottom\":{\"value\":3378.5},\"fill_color\":{\"value\":\"orange\"},\"left\":{\"field\":\"left\"},\"right\":{\"field\":\"right\"},\"top\":{\"field\":\"cases\"}},\"id\":\"3096\",\"type\":\"Quad\"},{\"attributes\":{},\"id\":\"3272\",\"type\":\"Selection\"},{\"attributes\":{},\"id\":\"3061\",\"type\":\"DataRange1d\"},{\"attributes\":{\"callback\":null,\"tooltips\":[[\"number of cases\",\"@cases\"],[\"left (minutes)\",\"@left{s}\"],[\"right (minutes)\",\"@right{s}\"]]},\"id\":\"3084\",\"type\":\"HoverTool\"},{\"attributes\":{\"data\":{\"cases\":[3218,3166,2919,2848,3306,3451,3853,4299,4605,4477],\"index\":[0,1,2,3,4,5,6,7,8,9],\"left\":{\"__ndarray__\":\"iYiIiIiAhkB4d3d3d8CIQGZmZmZmAItAVFVVVVVAjUBERERERICPQJqZmZkZ4JBAEREREREAkkCJiIiICCCTQAAAAAAAQJRAeHd3d/dflUA=\",\"dtype\":\"float64\",\"order\":\"little\",\"shape\":[10]},\"right\":{\"__ndarray__\":\"eHd3d3fAiEBmZmZmZgCLQFRVVVVVQI1ARERERESAj0CamZmZGeCQQBERERERAJJAiYiIiAggk0AAAAAAAECUQHh3d3f3X5VA8O7u7u5/lkA=\",\"dtype\":\"float64\",\"order\":\"little\",\"shape\":[10]}},\"selected\":{\"id\":\"3272\"},\"selection_policy\":{\"id\":\"3271\"}},\"id\":\"3057\",\"type\":\"ColumnDataSource\"},{\"attributes\":{\"bottom\":{\"value\":3378.5},\"fill_alpha\":{\"value\":0.1},\"fill_color\":{\"value\":\"red\"},\"hatch_alpha\":{\"value\":0.1},\"left\":{\"field\":\"left\"},\"line_alpha\":{\"value\":0.1},\"right\":{\"field\":\"right\"},\"top\":{\"field\":\"cases\"}},\"id\":\"3095\",\"type\":\"Quad\"},{\"attributes\":{\"bottom\":{\"value\":3378.5},\"fill_alpha\":{\"value\":0.95},\"fill_color\":{\"value\":\"red\"},\"left\":{\"field\":\"left\"},\"right\":{\"field\":\"right\"},\"top\":{\"field\":\"cases\"}},\"id\":\"3094\",\"type\":\"Quad\"},{\"attributes\":{},\"id\":\"3070\",\"type\":\"BasicTicker\"},{\"attributes\":{\"bottom\":{\"value\":3378.5},\"fill_alpha\":{\"value\":0.2},\"fill_color\":{\"value\":\"red\"},\"hatch_alpha\":{\"value\":0.2},\"left\":{\"field\":\"left\"},\"line_alpha\":{\"value\":0.2},\"right\":{\"field\":\"right\"},\"top\":{\"field\":\"cases\"}},\"id\":\"3097\",\"type\":\"Quad\"},{\"attributes\":{},\"id\":\"3063\",\"type\":\"DataRange1d\"},{\"attributes\":{\"axis\":{\"id\":\"3069\"},\"coordinates\":null,\"group\":null,\"ticker\":null},\"id\":\"3072\",\"type\":\"Grid\"},{\"attributes\":{},\"id\":\"3078\",\"type\":\"WheelZoomTool\"},{\"attributes\":{},\"id\":\"3266\",\"type\":\"BasicTickFormatter\"},{\"attributes\":{\"coordinates\":null,\"data_source\":{\"id\":\"3057\"},\"glyph\":{\"id\":\"3094\"},\"group\":null,\"hover_glyph\":{\"id\":\"3096\"},\"muted_glyph\":{\"id\":\"3097\"},\"nonselection_glyph\":{\"id\":\"3095\"},\"view\":{\"id\":\"3099\"}},\"id\":\"3098\",\"type\":\"GlyphRenderer\"},{\"attributes\":{\"tools\":[{\"id\":\"3077\"},{\"id\":\"3078\"},{\"id\":\"3079\"},{\"id\":\"3080\"},{\"id\":\"3081\"},{\"id\":\"3082\"},{\"id\":\"3084\"}]},\"id\":\"3085\",\"type\":\"Toolbar\"},{\"attributes\":{},\"id\":\"3065\",\"type\":\"LinearScale\"},{\"attributes\":{},\"id\":\"3267\",\"type\":\"AllLabels\"},{\"attributes\":{\"axis_label\":\"number of cases\",\"coordinates\":null,\"formatter\":{\"id\":\"3266\"},\"group\":null,\"major_label_policy\":{\"id\":\"3267\"},\"ticker\":{\"id\":\"3074\"}},\"id\":\"3073\",\"type\":\"LinearAxis\"},{\"attributes\":{\"axis\":{\"id\":\"3073\"},\"coordinates\":null,\"dimension\":1,\"group\":null,\"ticker\":null},\"id\":\"3076\",\"type\":\"Grid\"},{\"attributes\":{},\"id\":\"3269\",\"type\":\"BasicTickFormatter\"},{\"attributes\":{},\"id\":\"3074\",\"type\":\"BasicTicker\"},{\"attributes\":{},\"id\":\"3270\",\"type\":\"AllLabels\"},{\"attributes\":{},\"id\":\"3082\",\"type\":\"HelpTool\"},{\"attributes\":{},\"id\":\"3077\",\"type\":\"PanTool\"}],\"root_ids\":[\"3058\"]},\"title\":\"Bokeh Application\",\"version\":\"2.4.3\"}};\n  const render_items = [{\"docid\":\"2ee663a4-1445-4052-9e97-5e802893c721\",\"root_ids\":[\"3058\"],\"roots\":{\"3058\":\"4cc158db-a94b-42e4-94ec-0f3b07449b32\"}}];\n  root.Bokeh.embed.embed_items_notebook(docs_json, render_items);\n  }\n  if (root.Bokeh !== undefined) {\n    embed_document(root);\n  } else {\n    let attempts = 0;\n    const timer = setInterval(function(root) {\n      if (root.Bokeh !== undefined) {\n        clearInterval(timer);\n        embed_document(root);\n      } else {\n        attempts++;\n        if (attempts > 100) {\n          clearInterval(timer);\n          console.log(\"Bokeh: ERROR: Unable to run BokehJS code because BokehJS library is missing\");\n        }\n      }\n    }, 10, root)\n  }\n})(window);",
      "application/vnd.bokehjs_exec.v0+json": ""
     },
     "metadata": {
      "application/vnd.bokehjs_exec.v0+json": {
       "id": "3058"
      }
     },
     "output_type": "display_data"
    }
   ],
   "source": [
    "#Place the data into a ColumnDataSource object\n",
    "src = ColumnDataSource(hist_df)\n",
    "\n",
    "#create the tooltips \n",
    "#whatever you put in here will be shown when hovering\n",
    "#the @ tells bokeh to use data from the columns of the columndatasource\n",
    "#formatting goes in curly braces\n",
    "tooltips = [\n",
    "    (\"number of cases\", \"@cases\"),\n",
    "    (\"left (minutes)\", \"@left{s}\"),\n",
    "    (\"right (minutes)\", \"@right{s}\"),\n",
    "]\n",
    "\n",
    "\"\"\"\n",
    "tooltips = {\n",
    "    \"number of cases\": \"@cases\",\n",
    "    \"left (minutes)\": \"@left{s}\",\n",
    "    \"right (minutes)\": \"@right{s}\",\n",
    "}\n",
    "\"\"\"\n",
    "#get the median for centering the x-axis\n",
    "import statistics\n",
    "median = statistics.median(src.data['cases'])\n",
    "\n",
    "#Create the figure\n",
    "p = figure(plot_height = 600, plot_width = 600, \n",
    "           title = 'Histogram of cases by processing times',\n",
    "          x_axis_label = 'time buckets', \n",
    "           y_axis_label = 'number of cases',tooltips=tooltips)\n",
    "\n",
    "# Add a quad glyph (https://docs.bokeh.org/en/latest/docs/reference/models/glyphs/quad.html)\n",
    "#we'll use the source argument to attach the columndatasource to the chart\n",
    "r = p.quad(bottom=median, #location of the x-axis\n",
    "           top='cases',  #the data that will determine the height of the bar\n",
    "           left='left', #CDS column for the left value of the bar\n",
    "           right='right', #CDS column for the right value of the bar\n",
    "           source=src,  #The ColumnDataSource (CDS)\n",
    "           fill_color='red', \n",
    "           line_color='black',\n",
    "           fill_alpha = 0.95,\n",
    "           hover_fill_alpha = 1.0, \n",
    "           hover_fill_color = 'orange')\n",
    "\n",
    "\n",
    "\n",
    "# Show the plot\n",
    "show(p)"
   ]
  },
  {
   "cell_type": "code",
   "execution_count": 30,
   "metadata": {},
   "outputs": [
    {
     "data": {
      "text/plain": [
       "(Figure(id='3058', ...), GlyphRenderer(id='3098', ...))"
      ]
     },
     "execution_count": 30,
     "metadata": {},
     "output_type": "execute_result"
    }
   ],
   "source": [
    "p,r"
   ]
  },
  {
   "cell_type": "markdown",
   "metadata": {},
   "source": [
    "<br><br><br>\n",
    "<span style=\"color:blue;font-size:x-large\">let's functionalize this</span>\n",
    "<li>the function will return p (the plot)</li>\n",
    "<li>and the \"glyphrenderer\" object</li>\n",
    "<li>the glyphrenderer contains the data used by p</li>\n",
    "<li>updating the data will result in the graph being updated which will be useful later</li>"
   ]
  },
  {
   "cell_type": "markdown",
   "metadata": {},
   "source": [
    "<br><br><br>\n",
    "<span style=\"color:green;font-size:xx-large\">Active interactions</span>\n",
    "<li>active interactions allow the user to delve into the data by selecting parameters</li>\n",
    "<li>example, the user may want to bin by Agency (or Borough)</li>\n",
    "<li>or select bin sizes rather than rely on our 500 minute window</li>\n",
    "<li>or select periods of time and see how the histogram changes</li>"
   ]
  },
  {
   "cell_type": "markdown",
   "metadata": {},
   "source": [
    "<li>In this example, we'll let the user:</li>\n",
    "<ol>\n",
    "    <li>select an agency from a list of agencies</li>\n",
    "    <li>show binned processing time only for that agency</li>\n",
    "</ol>\n",
    "<li>the graph will change with each change in agency selection</li>"
   ]
  },
  {
   "cell_type": "markdown",
   "metadata": {},
   "source": [
    "<br><br><br>\n",
    "<span style=\"color:blue;font-size:x-large\">JavaScript callbacks</span>\n",
    "<li>changes to a page in a browser are made using JavaScript</li>\n",
    "<li>we can include javascript widgets directly in the chart using bokeh's callback feature</li>\n",
    "<li>the complication is that we can't call python functions from javascript</li>\n",
    "<li>nor can we refer to a dataframe from JavaScript because there is no json equivalent</li>\n",
    "<li>ColumnDataSource objects are fine though because they can be converted into JSON objects and arrays</li>\n",
    "<li>And these json objects/arrays can be passed to a javascript function</li>"
   ]
  },
  {
   "cell_type": "markdown",
   "metadata": {},
   "source": [
    "<b>Note:</b> While JavaScript is a full fledged language in its own right, we'll just use enough to make our graph interactive while keeping the process simple!"
   ]
  },
  {
   "cell_type": "markdown",
   "metadata": {},
   "source": [
    "<br><br><br>\n",
    "<span style=\"color:blue;font-size:x-large\">columndatasource</span>\n",
    "<li>each user selection (agency/bin size) requires data in a columndatasource object</li>\n",
    "<li>so we need a function that creates this columndatasource given an agency and a bin size</li>\n"
   ]
  },
  {
   "cell_type": "markdown",
   "metadata": {},
   "source": [
    "<br><br><br>\n",
    "<span style=\"color:blue;font-size:x-large\">dataframe for columndatasource</span>\n",
    "<li>Create a dataframe that will be converted into a bokeh ColumnDataSource object</li>\n",
    "<li>Each row corresponds to a bucket of the histogram</li>\n",
    "<li>Columns correspond to agencies</li>\n",
    "<li>Plus two additional columns for the left and right bin values for each bin</li>"
   ]
  },
  {
   "cell_type": "code",
   "execution_count": 31,
   "metadata": {},
   "outputs": [],
   "source": [
    "#Create a dataframe for conversion to ColumnDataSource\n",
    "#Upper and lower define the processing time bounds (aesthetic reasons!)\n",
    "\n",
    "def prepareDataForCDS(df,upper=1,lower=0.5,nbins=10):\n",
    "    df = df[(df['processing_days']<upper) & (df['processing_days']>lower)]\n",
    "    agencies = df['Agency'].unique()\n",
    "    \n",
    "    #get a common set of bins for all agencies\n",
    "\n",
    "    hist,bounds = np.histogram(df['processing_days'],bins=nbins)\n",
    "    left = bounds[:-1]\n",
    "    right = bounds[1:]\n",
    "    \n",
    "    #construct the initial dataframe with bin boundaries\n",
    "    #the index for this df is 0,1,..,nbins-1\n",
    "    #Initially, all it contains is columns for the left and right values\n",
    "    #We'll add each agency column to this data frame\n",
    "    final_df = pd.DataFrame({'left':left*24*60,'right':right*24*60})\n",
    "\n",
    "\n",
    "    #for each agency, compute the number of cases in each bin\n",
    "    #and concat this into final_df with the agency name as the column name\n",
    "    #note that the index will be 0,1,...,nbins-1 therefore concat will use indices\n",
    "    for agency in agencies:\n",
    "        #print(final_df.info())\n",
    "        a_df = df[df['Agency']==agency]\n",
    "        hist,bounds = np.histogram(a_df['processing_days'],bins=nbins)\n",
    "        hist_df = pd.DataFrame({agency: hist})\n",
    "        final_df = pd.concat([final_df,hist_df],axis=1)\n",
    "        \n",
    "    return final_df\n",
    "\n"
   ]
  },
  {
   "cell_type": "code",
   "execution_count": 32,
   "metadata": {},
   "outputs": [
    {
     "data": {
      "text/html": [
       "<div>\n",
       "<style scoped>\n",
       "    .dataframe tbody tr th:only-of-type {\n",
       "        vertical-align: middle;\n",
       "    }\n",
       "\n",
       "    .dataframe tbody tr th {\n",
       "        vertical-align: top;\n",
       "    }\n",
       "\n",
       "    .dataframe thead th {\n",
       "        text-align: right;\n",
       "    }\n",
       "</style>\n",
       "<table border=\"1\" class=\"dataframe\">\n",
       "  <thead>\n",
       "    <tr style=\"text-align: right;\">\n",
       "      <th></th>\n",
       "      <th>left</th>\n",
       "      <th>right</th>\n",
       "      <th>DHS</th>\n",
       "      <th>DOT</th>\n",
       "      <th>HPD</th>\n",
       "      <th>DSNY</th>\n",
       "      <th>NYPD</th>\n",
       "      <th>DEP</th>\n",
       "      <th>DOB</th>\n",
       "      <th>DPR</th>\n",
       "      <th>DCA</th>\n",
       "      <th>DOHMH</th>\n",
       "      <th>DOE</th>\n",
       "      <th>OTI</th>\n",
       "      <th>TLC</th>\n",
       "    </tr>\n",
       "  </thead>\n",
       "  <tbody>\n",
       "    <tr>\n",
       "      <th>0</th>\n",
       "      <td>720.066667</td>\n",
       "      <td>792.058333</td>\n",
       "      <td>125</td>\n",
       "      <td>476</td>\n",
       "      <td>809</td>\n",
       "      <td>135</td>\n",
       "      <td>729</td>\n",
       "      <td>282</td>\n",
       "      <td>464</td>\n",
       "      <td>35</td>\n",
       "      <td>29</td>\n",
       "      <td>138</td>\n",
       "      <td>1</td>\n",
       "      <td>1</td>\n",
       "      <td>0</td>\n",
       "    </tr>\n",
       "    <tr>\n",
       "      <th>1</th>\n",
       "      <td>792.058333</td>\n",
       "      <td>864.050000</td>\n",
       "      <td>119</td>\n",
       "      <td>553</td>\n",
       "      <td>769</td>\n",
       "      <td>194</td>\n",
       "      <td>512</td>\n",
       "      <td>292</td>\n",
       "      <td>474</td>\n",
       "      <td>49</td>\n",
       "      <td>44</td>\n",
       "      <td>158</td>\n",
       "      <td>1</td>\n",
       "      <td>1</td>\n",
       "      <td>0</td>\n",
       "    </tr>\n",
       "    <tr>\n",
       "      <th>2</th>\n",
       "      <td>864.050000</td>\n",
       "      <td>936.041667</td>\n",
       "      <td>105</td>\n",
       "      <td>649</td>\n",
       "      <td>728</td>\n",
       "      <td>244</td>\n",
       "      <td>297</td>\n",
       "      <td>319</td>\n",
       "      <td>307</td>\n",
       "      <td>90</td>\n",
       "      <td>60</td>\n",
       "      <td>116</td>\n",
       "      <td>5</td>\n",
       "      <td>0</td>\n",
       "      <td>0</td>\n",
       "    </tr>\n",
       "    <tr>\n",
       "      <th>3</th>\n",
       "      <td>936.041667</td>\n",
       "      <td>1008.033333</td>\n",
       "      <td>84</td>\n",
       "      <td>650</td>\n",
       "      <td>839</td>\n",
       "      <td>328</td>\n",
       "      <td>157</td>\n",
       "      <td>366</td>\n",
       "      <td>121</td>\n",
       "      <td>108</td>\n",
       "      <td>67</td>\n",
       "      <td>129</td>\n",
       "      <td>5</td>\n",
       "      <td>0</td>\n",
       "      <td>0</td>\n",
       "    </tr>\n",
       "    <tr>\n",
       "      <th>4</th>\n",
       "      <td>1008.033333</td>\n",
       "      <td>1080.025000</td>\n",
       "      <td>126</td>\n",
       "      <td>848</td>\n",
       "      <td>935</td>\n",
       "      <td>469</td>\n",
       "      <td>147</td>\n",
       "      <td>334</td>\n",
       "      <td>46</td>\n",
       "      <td>158</td>\n",
       "      <td>97</td>\n",
       "      <td>129</td>\n",
       "      <td>2</td>\n",
       "      <td>0</td>\n",
       "      <td>0</td>\n",
       "    </tr>\n",
       "    <tr>\n",
       "      <th>5</th>\n",
       "      <td>1080.025000</td>\n",
       "      <td>1152.016667</td>\n",
       "      <td>103</td>\n",
       "      <td>968</td>\n",
       "      <td>985</td>\n",
       "      <td>592</td>\n",
       "      <td>79</td>\n",
       "      <td>334</td>\n",
       "      <td>8</td>\n",
       "      <td>126</td>\n",
       "      <td>133</td>\n",
       "      <td>115</td>\n",
       "      <td>7</td>\n",
       "      <td>0</td>\n",
       "      <td>1</td>\n",
       "    </tr>\n",
       "    <tr>\n",
       "      <th>6</th>\n",
       "      <td>1152.016667</td>\n",
       "      <td>1224.008333</td>\n",
       "      <td>80</td>\n",
       "      <td>1023</td>\n",
       "      <td>1175</td>\n",
       "      <td>709</td>\n",
       "      <td>97</td>\n",
       "      <td>431</td>\n",
       "      <td>7</td>\n",
       "      <td>114</td>\n",
       "      <td>117</td>\n",
       "      <td>87</td>\n",
       "      <td>6</td>\n",
       "      <td>1</td>\n",
       "      <td>0</td>\n",
       "    </tr>\n",
       "    <tr>\n",
       "      <th>7</th>\n",
       "      <td>1224.008333</td>\n",
       "      <td>1296.000000</td>\n",
       "      <td>74</td>\n",
       "      <td>1081</td>\n",
       "      <td>1385</td>\n",
       "      <td>808</td>\n",
       "      <td>178</td>\n",
       "      <td>409</td>\n",
       "      <td>7</td>\n",
       "      <td>130</td>\n",
       "      <td>133</td>\n",
       "      <td>86</td>\n",
       "      <td>10</td>\n",
       "      <td>1</td>\n",
       "      <td>0</td>\n",
       "    </tr>\n",
       "    <tr>\n",
       "      <th>8</th>\n",
       "      <td>1296.000000</td>\n",
       "      <td>1367.991667</td>\n",
       "      <td>53</td>\n",
       "      <td>1168</td>\n",
       "      <td>1505</td>\n",
       "      <td>960</td>\n",
       "      <td>65</td>\n",
       "      <td>437</td>\n",
       "      <td>28</td>\n",
       "      <td>156</td>\n",
       "      <td>130</td>\n",
       "      <td>96</td>\n",
       "      <td>5</td>\n",
       "      <td>0</td>\n",
       "      <td>0</td>\n",
       "    </tr>\n",
       "    <tr>\n",
       "      <th>9</th>\n",
       "      <td>1367.991667</td>\n",
       "      <td>1439.983333</td>\n",
       "      <td>56</td>\n",
       "      <td>960</td>\n",
       "      <td>1710</td>\n",
       "      <td>951</td>\n",
       "      <td>80</td>\n",
       "      <td>356</td>\n",
       "      <td>27</td>\n",
       "      <td>155</td>\n",
       "      <td>112</td>\n",
       "      <td>71</td>\n",
       "      <td>4</td>\n",
       "      <td>2</td>\n",
       "      <td>0</td>\n",
       "    </tr>\n",
       "  </tbody>\n",
       "</table>\n",
       "</div>"
      ],
      "text/plain": [
       "          left        right  DHS   DOT   HPD  DSNY  NYPD  DEP  DOB  DPR  DCA  \\\n",
       "0   720.066667   792.058333  125   476   809   135   729  282  464   35   29   \n",
       "1   792.058333   864.050000  119   553   769   194   512  292  474   49   44   \n",
       "2   864.050000   936.041667  105   649   728   244   297  319  307   90   60   \n",
       "3   936.041667  1008.033333   84   650   839   328   157  366  121  108   67   \n",
       "4  1008.033333  1080.025000  126   848   935   469   147  334   46  158   97   \n",
       "5  1080.025000  1152.016667  103   968   985   592    79  334    8  126  133   \n",
       "6  1152.016667  1224.008333   80  1023  1175   709    97  431    7  114  117   \n",
       "7  1224.008333  1296.000000   74  1081  1385   808   178  409    7  130  133   \n",
       "8  1296.000000  1367.991667   53  1168  1505   960    65  437   28  156  130   \n",
       "9  1367.991667  1439.983333   56   960  1710   951    80  356   27  155  112   \n",
       "\n",
       "   DOHMH  DOE  OTI  TLC  \n",
       "0    138    1    1    0  \n",
       "1    158    1    1    0  \n",
       "2    116    5    0    0  \n",
       "3    129    5    0    0  \n",
       "4    129    2    0    0  \n",
       "5    115    7    0    1  \n",
       "6     87    6    1    0  \n",
       "7     86   10    1    0  \n",
       "8     96    5    0    0  \n",
       "9     71    4    2    0  "
      ]
     },
     "execution_count": 32,
     "metadata": {},
     "output_type": "execute_result"
    }
   ],
   "source": [
    "prepareDataForCDS(df,upper=1,lower=0.5,nbins=10)"
   ]
  },
  {
   "cell_type": "markdown",
   "metadata": {},
   "source": [
    "<br><br><br>\n",
    "<span style=\"color:blue;font-size:x-large\">Interactivity</span>\n",
    "<li>Requires a dropdown box to get the user selection</li>\n",
    "<li>Requires JavaScript code to change the underlying data when the user selects a new agency</li>\n",
    "<li>The way this works is as follows:</li>\n",
    "<ul>\n",
    "    <li>Specify a column that contains the data to be displayed</li>\n",
    "    <li>display this column</li>\n",
    "    <li>when the user selects a new column, copy the contents of the new column into the display column</li>\n",
    "    <li>and tell the graph to reflect the changed values</li>\n",
    "</ul>\n",
    "<li>We'll add a new column <span style=\"color:blue\">display</span> for storing data to be displayed</li>\n",
    "<li>We'll use the <span style=\"color:green\">dropdown</span> widget to display the selectable list of agencies. Many more <a href=\"https://docs.bokeh.org/en/latest/docs/user_guide/interaction/widgets.html\">widgets are available</a></li>"
   ]
  },
  {
   "cell_type": "code",
   "execution_count": 33,
   "metadata": {
    "scrolled": true
   },
   "outputs": [
    {
     "data": {
      "text/html": [
       "\n",
       "  <div class=\"bk-root\" id=\"8943c8ec-73e0-4419-97c8-741314560697\" data-root-id=\"3369\"></div>\n"
      ]
     },
     "metadata": {},
     "output_type": "display_data"
    },
    {
     "data": {
      "application/javascript": "(function(root) {\n  function embed_document(root) {\n  const docs_json = {\"a508b63a-2f94-47d7-afbf-692b73945080\":{\"defs\":[],\"roots\":{\"references\":[{\"attributes\":{\"children\":[{\"id\":\"3325\"},{\"id\":\"3368\"}]},\"id\":\"3369\",\"type\":\"Row\"},{\"attributes\":{},\"id\":\"3348\",\"type\":\"ResetTool\"},{\"attributes\":{\"bottom\":{\"value\":0},\"fill_color\":{\"value\":\"navy\"},\"left\":{\"field\":\"left\"},\"right\":{\"field\":\"right\"},\"top\":{\"field\":\"display\"}},\"id\":\"3363\",\"type\":\"Quad\"},{\"attributes\":{\"bottom\":{\"value\":0},\"fill_alpha\":{\"value\":0.2},\"fill_color\":{\"value\":\"red\"},\"hatch_alpha\":{\"value\":0.2},\"left\":{\"field\":\"left\"},\"line_alpha\":{\"value\":0.2},\"right\":{\"field\":\"right\"},\"top\":{\"field\":\"display\"}},\"id\":\"3364\",\"type\":\"Quad\"},{\"attributes\":{},\"id\":\"3546\",\"type\":\"BasicTickFormatter\"},{\"attributes\":{\"data\":{\"DCA\":[29,44,60,67,97,133,117,133,130,112],\"DEP\":[282,292,319,366,334,334,431,409,437,356],\"DHS\":[125,119,105,84,126,103,80,74,53,56],\"DOB\":[464,474,307,121,46,8,7,7,28,27],\"DOE\":[1,1,5,5,2,7,6,10,5,4],\"DOHMH\":[138,158,116,129,129,115,87,86,96,71],\"DOT\":[476,553,649,650,848,968,1023,1081,1168,960],\"DPR\":[35,49,90,108,158,126,114,130,156,155],\"DSNY\":[135,194,244,328,469,592,709,808,960,951],\"HPD\":[809,769,728,839,935,985,1175,1385,1505,1710],\"NYPD\":[729,512,297,157,147,79,97,178,65,80],\"OTI\":[1,1,0,0,0,0,1,1,0,2],\"TLC\":[0,0,0,0,0,1,0,0,0,0],\"display\":[476,553,649,650,848,968,1023,1081,1168,960],\"index\":[0,1,2,3,4,5,6,7,8,9],\"left\":{\"__ndarray__\":\"iYiIiIiAhkB4d3d3d8CIQGZmZmZmAItAVFVVVVVAjUBERERERICPQJqZmZkZ4JBAEREREREAkkCJiIiICCCTQAAAAAAAQJRAeHd3d/dflUA=\",\"dtype\":\"float64\",\"order\":\"little\",\"shape\":[10]},\"right\":{\"__ndarray__\":\"eHd3d3fAiEBmZmZmZgCLQFRVVVVVQI1ARERERESAj0CamZmZGeCQQBERERERAJJAiYiIiAggk0AAAAAAAECUQHh3d3f3X5VA8O7u7u5/lkA=\",\"dtype\":\"float64\",\"order\":\"little\",\"shape\":[10]}},\"selected\":{\"id\":\"3552\"},\"selection_policy\":{\"id\":\"3551\"}},\"id\":\"3324\",\"type\":\"ColumnDataSource\"},{\"attributes\":{\"source\":{\"id\":\"3324\"}},\"id\":\"3366\",\"type\":\"CDSView\"},{\"attributes\":{},\"id\":\"3547\",\"type\":\"AllLabels\"},{\"attributes\":{\"bottom\":{\"value\":0},\"fill_alpha\":{\"value\":0.1},\"fill_color\":{\"value\":\"red\"},\"hatch_alpha\":{\"value\":0.1},\"left\":{\"field\":\"left\"},\"line_alpha\":{\"value\":0.1},\"right\":{\"field\":\"right\"},\"top\":{\"field\":\"display\"}},\"id\":\"3362\",\"type\":\"Quad\"},{\"attributes\":{},\"id\":\"3344\",\"type\":\"PanTool\"},{\"attributes\":{\"coordinates\":null,\"data_source\":{\"id\":\"3324\"},\"glyph\":{\"id\":\"3361\"},\"group\":null,\"hover_glyph\":{\"id\":\"3363\"},\"muted_glyph\":{\"id\":\"3364\"},\"nonselection_glyph\":{\"id\":\"3362\"},\"view\":{\"id\":\"3366\"}},\"id\":\"3365\",\"type\":\"GlyphRenderer\"},{\"attributes\":{},\"id\":\"3328\",\"type\":\"DataRange1d\"},{\"attributes\":{},\"id\":\"3549\",\"type\":\"BasicTickFormatter\"},{\"attributes\":{},\"id\":\"3550\",\"type\":\"AllLabels\"},{\"attributes\":{},\"id\":\"3345\",\"type\":\"WheelZoomTool\"},{\"attributes\":{\"axis_label\":\"number of cases\",\"coordinates\":null,\"formatter\":{\"id\":\"3546\"},\"group\":null,\"major_label_policy\":{\"id\":\"3547\"},\"ticker\":{\"id\":\"3341\"}},\"id\":\"3340\",\"type\":\"LinearAxis\"},{\"attributes\":{\"bottom\":{\"value\":0},\"fill_alpha\":{\"value\":0.75},\"fill_color\":{\"value\":\"red\"},\"left\":{\"field\":\"left\"},\"right\":{\"field\":\"right\"},\"top\":{\"field\":\"display\"}},\"id\":\"3361\",\"type\":\"Quad\"},{\"attributes\":{\"axis\":{\"id\":\"3340\"},\"coordinates\":null,\"dimension\":1,\"group\":null,\"ticker\":null},\"id\":\"3343\",\"type\":\"Grid\"},{\"attributes\":{\"axis_label\":\"time buckets\",\"coordinates\":null,\"formatter\":{\"id\":\"3549\"},\"group\":null,\"major_label_policy\":{\"id\":\"3550\"},\"ticker\":{\"id\":\"3337\"}},\"id\":\"3336\",\"type\":\"LinearAxis\"},{\"attributes\":{\"callback\":null,\"tooltips\":[[\"number of cases\",\"@display\"],[\"left (minutes)\",\"@left{s}\"],[\"right (minutes)\",\"@right{s}\"]]},\"id\":\"3351\",\"type\":\"HoverTool\"},{\"attributes\":{\"coordinates\":null,\"group\":null,\"text\":\"Histogram of cases by processing times\"},\"id\":\"3326\",\"type\":\"Title\"},{\"attributes\":{},\"id\":\"3330\",\"type\":\"DataRange1d\"},{\"attributes\":{\"button_type\":\"primary\",\"icon\":null,\"js_event_callbacks\":{\"menu_item_click\":[{\"id\":\"3367\"}]},\"label\":\"select agency\",\"menu\":[[\"Agency NYPD\",\"NYPD\"],[\"Agency DOT\",\"DOT\"],[\"Agency DEP\",\"DEP\"],[\"Agency DOB\",\"DOB\"],[\"Agency HPD\",\"HPD\"],[\"Agency DPR\",\"DPR\"],[\"Agency DHS\",\"DHS\"],[\"Agency DSNY\",\"DSNY\"],[\"Agency DOHMH\",\"DOHMH\"],[\"Agency DOE\",\"DOE\"],[\"Agency DCA\",\"DCA\"],[\"Agency OTI\",\"OTI\"],[\"Agency TLC\",\"TLC\"]]},\"id\":\"3368\",\"type\":\"Dropdown\"},{\"attributes\":{\"axis\":{\"id\":\"3336\"},\"coordinates\":null,\"group\":null,\"ticker\":null},\"id\":\"3339\",\"type\":\"Grid\"},{\"attributes\":{},\"id\":\"3334\",\"type\":\"LinearScale\"},{\"attributes\":{},\"id\":\"3341\",\"type\":\"BasicTicker\"},{\"attributes\":{\"overlay\":{\"id\":\"3350\"}},\"id\":\"3346\",\"type\":\"BoxZoomTool\"},{\"attributes\":{},\"id\":\"3347\",\"type\":\"SaveTool\"},{\"attributes\":{\"tools\":[{\"id\":\"3344\"},{\"id\":\"3345\"},{\"id\":\"3346\"},{\"id\":\"3347\"},{\"id\":\"3348\"},{\"id\":\"3349\"},{\"id\":\"3351\"}]},\"id\":\"3352\",\"type\":\"Toolbar\"},{\"attributes\":{},\"id\":\"3551\",\"type\":\"UnionRenderers\"},{\"attributes\":{},\"id\":\"3337\",\"type\":\"BasicTicker\"},{\"attributes\":{},\"id\":\"3552\",\"type\":\"Selection\"},{\"attributes\":{},\"id\":\"3332\",\"type\":\"LinearScale\"},{\"attributes\":{\"bottom_units\":\"screen\",\"coordinates\":null,\"fill_alpha\":0.5,\"fill_color\":\"lightgrey\",\"group\":null,\"left_units\":\"screen\",\"level\":\"overlay\",\"line_alpha\":1.0,\"line_color\":\"black\",\"line_dash\":[4,4],\"line_width\":2,\"right_units\":\"screen\",\"syncable\":false,\"top_units\":\"screen\"},\"id\":\"3350\",\"type\":\"BoxAnnotation\"},{\"attributes\":{\"args\":{\"srce\":{\"id\":\"3324\"}},\"code\":\"\\n        // widget. this.item is the selected value\\n        // We can print it on the JavaScript console\\n        // Chrome windows/linux: Ctrl - Shift - J\\n        // Chrome mac: Cmd - Option - J\\n        // Safari: Option - Cmd - C\\n        \\n        //console.log logs (prints) in the JavaScript console\\n        console.log(' changed selected option', this.item);\\n\\n        //data is the variable containing all the data\\n        //source was passed in as an argument\\n        let data = srce.data;\\n\\n        // allocate the selected column to the field for the y values\\n        data['display'] = data[this.item];\\n\\n        // register the change \\n        srce.change.emit();\\n\"},\"id\":\"3367\",\"type\":\"CustomJS\"},{\"attributes\":{\"below\":[{\"id\":\"3336\"}],\"center\":[{\"id\":\"3339\"},{\"id\":\"3343\"}],\"height\":300,\"left\":[{\"id\":\"3340\"}],\"renderers\":[{\"id\":\"3365\"}],\"title\":{\"id\":\"3326\"},\"toolbar\":{\"id\":\"3352\"},\"x_range\":{\"id\":\"3328\"},\"x_scale\":{\"id\":\"3332\"},\"y_range\":{\"id\":\"3330\"},\"y_scale\":{\"id\":\"3334\"}},\"id\":\"3325\",\"subtype\":\"Figure\",\"type\":\"Plot\"},{\"attributes\":{},\"id\":\"3349\",\"type\":\"HelpTool\"}],\"root_ids\":[\"3369\"]},\"title\":\"Bokeh Application\",\"version\":\"2.4.3\"}};\n  const render_items = [{\"docid\":\"a508b63a-2f94-47d7-afbf-692b73945080\",\"root_ids\":[\"3369\"],\"roots\":{\"3369\":\"8943c8ec-73e0-4419-97c8-741314560697\"}}];\n  root.Bokeh.embed.embed_items_notebook(docs_json, render_items);\n  }\n  if (root.Bokeh !== undefined) {\n    embed_document(root);\n  } else {\n    let attempts = 0;\n    const timer = setInterval(function(root) {\n      if (root.Bokeh !== undefined) {\n        clearInterval(timer);\n        embed_document(root);\n      } else {\n        attempts++;\n        if (attempts > 100) {\n          clearInterval(timer);\n          console.log(\"Bokeh: ERROR: Unable to run BokehJS code because BokehJS library is missing\");\n        }\n      }\n    }, 10, root)\n  }\n})(window);",
      "application/vnd.bokehjs_exec.v0+json": ""
     },
     "metadata": {
      "application/vnd.bokehjs_exec.v0+json": {
       "id": "3369"
      }
     },
     "output_type": "display_data"
    }
   ],
   "source": [
    "#row will allow placing the graph and the widget side by side\n",
    "from bokeh.layouts import row\n",
    "\n",
    "#import the dropdown widget along with CustomJS, bokeh's JavaScript library\n",
    "from bokeh.models import CustomJS, ColumnDataSource, Dropdown\n",
    "\n",
    "list_of_agencies=df['Agency'].unique()\n",
    "\n",
    "#Get the dataframe\n",
    "interactive_df = prepareDataForCDS(df)\n",
    "\n",
    "#add a new column to the object called 'display'\n",
    "#when the user selects a new agency, we'll copy that agency's data into this column\n",
    "#the histogram will display whatever is in this column\n",
    "\n",
    "#Arbitrarly pick an agency and copy it into this column\n",
    "\n",
    "interactive_df['display'] = interactive_df['DOT']\n",
    "\n",
    "#create a ColumnDataSource object.\n",
    "#This is the source for the graph\n",
    "source = ColumnDataSource(interactive_df)\n",
    "\n",
    "#construct the graph (but don't \"show\" it)\n",
    "#note that the display column is \"display\" not \"cases\" as before\n",
    "\n",
    "tooltips = [\n",
    "    (\"number of cases\", \"@display\"),\n",
    "    (\"left (minutes)\", \"@left{s}\"),\n",
    "    (\"right (minutes)\", \"@right{s}\"),\n",
    "]\n",
    "    \n",
    "p = figure(plot_height = 300, plot_width = 600, \n",
    "           title = 'Histogram of cases by processing times',\n",
    "          x_axis_label = 'time buckets', \n",
    "           y_axis_label = 'number of cases',tooltips=tooltips)\n",
    "\n",
    "p.quad(bottom=0,\n",
    "       top='display', left='left', right='right',source=source,\n",
    "       fill_color='red', line_color='black',fill_alpha = 0.75,\n",
    "       hover_fill_alpha = 1.0, hover_fill_color = 'navy')\n",
    "\n",
    "#Create a javascript callback as a call to CustomJS\n",
    "#arguments are the data (the source)\n",
    "#and a string containing the JavaScript code\n",
    "\n",
    "#this.item is the selected value (returned by the dropdown widget)\n",
    "#\"this\" is a javascript identifier that self identifies an object (the dropdown widget)\n",
    "#'item' is the value selected in the dropdown\n",
    "#Note that different widgets may use this.value or this.some_other_name for a widget value\n",
    "#create a variable that holds the data in source\n",
    "#replace the display column in the data by the column for the selected agency\n",
    "#register the change (emit it!)\n",
    "jscallback = CustomJS(args={'srce':source},code=\"\"\"\n",
    "        // widget. this.item is the selected value\n",
    "        // We can print it on the JavaScript console\n",
    "        // Chrome windows/linux: Ctrl - Shift - J\n",
    "        // Chrome mac: Cmd - Option - J\n",
    "        // Safari: Option - Cmd - C\n",
    "        \n",
    "        //console.log logs (prints) in the JavaScript console\n",
    "        console.log(' changed selected option', this.item);\n",
    "\n",
    "        //data is the variable containing all the data\n",
    "        //source was passed in as an argument\n",
    "        let data = srce.data;\n",
    "\n",
    "        // allocate the selected column to the field for the y values\n",
    "        data['display'] = data[this.item];\n",
    "\n",
    "        // register the change \n",
    "        srce.change.emit();\n",
    "\"\"\")\n",
    "\n",
    "#Create the dropdown widget\n",
    "#the widget contains a menu in the form of a list of tuples\n",
    "#(long name, value to be returned)\n",
    "#the widget has a callback argument. Use the jscallback as the value of this argument\n",
    "\n",
    "menu = [(\"Agency \" + x,x) for x in list_of_agencies]\n",
    "\n",
    "dropdown = Dropdown(label=\"select agency\", button_type=\"primary\", menu=menu)\n",
    "\n",
    "#Note that jscallback must be defined before the button!\n",
    "dropdown.js_on_event(\"menu_item_click\", jscallback)\n",
    "\n",
    "#construct a row object containing the plot and the widget\n",
    "layout = row(p,dropdown)\n",
    "\n",
    "#show it!\n",
    "show(layout)\n",
    "\n",
    "\n",
    "\n"
   ]
  },
  {
   "cell_type": "code",
   "execution_count": null,
   "metadata": {},
   "outputs": [],
   "source": []
  }
 ],
 "metadata": {
  "kernelspec": {
   "display_name": "base",
   "language": "python",
   "name": "python3"
  },
  "language_info": {
   "codemirror_mode": {
    "name": "ipython",
    "version": 3
   },
   "file_extension": ".py",
   "mimetype": "text/x-python",
   "name": "python",
   "nbconvert_exporter": "python",
   "pygments_lexer": "ipython3",
   "version": "3.9.12"
  },
  "toc": {
   "base_numbering": 1,
   "nav_menu": {},
   "number_sections": true,
   "sideBar": true,
   "skip_h1_title": false,
   "title_cell": "Table of Contents",
   "title_sidebar": "Contents",
   "toc_cell": false,
   "toc_position": {},
   "toc_section_display": true,
   "toc_window_display": false
  },
  "vscode": {
   "interpreter": {
    "hash": "81d5b4a19a276010183013345b38f7d9b6c479ab07551a9ca40dd13abdbac5b2"
   }
  }
 },
 "nbformat": 4,
 "nbformat_minor": 2
}
