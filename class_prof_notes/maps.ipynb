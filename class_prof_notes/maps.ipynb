{
 "cells": [
  {
   "cell_type": "markdown",
   "metadata": {},
   "source": [
    "<br><br><br>\n",
    "<span style=\"color:red;font-size:60px\">Map Visualizations</span>\n",
    "<br><br><br>\n",
    "Map visualization involves representing data content on geographical maps\n",
    "<li>A <span style=\"color:blue\">base map</span> provides the underlying geography of the area being depicted</li>\n",
    "<li>A process known as <span style=\"color:blue\">layering</span> adds descriptors on top of the geography</li>\n",
    "<li>Descriptor layers may be:</li>\n",
    "<ul>\n",
    "    <li><span style=\"color:blue\">Marker layers</span>: icons or other descriptors that \"mark\" features on the map</li>\n",
    "<li><span style=\"color:blue\">heatmap layers</span>: visualization of variation in some underlying value across a geographical region. The variation is depicted by the color and density of pixels</li>\n",
    "<li><span style=\"color:blue\">Choropeth layers</span>: visualization of variation in some underlying value across a geographical region. The variation is depicted by the color (and opacity) of regions on the map</li>\n"
   ]
  },
  {
   "cell_type": "markdown",
   "metadata": {},
   "source": [
    "<br><br><br>\n",
    "<span style=\"color:green;font-size:xx-large\">Mapping tools in Python</span>\n",
    "<br><br>\n",
    "<li><a href=\"https://www.tableau.com\">tableau</a>: a popular commercial data visualization tool. Has a python API. Visualizations are hosted on tableau</li>\n",
    "<li><a href=\"https://plotly.com\">plotly</a>: another popular commercial data visualization tool with a python API. Visualizations are hosted on plotly</li>\n",
    "<li><a href=\"https://cloud.google.com/maps-platform\">google maps</a>: google! maps are hosted on google</li>\n",
    "<li><span style=\"color:blue\">native python libraries</span>: maps are hosted and owned by you. More flexible. Might need a bit more coding though! </li>"
   ]
  },
  {
   "cell_type": "markdown",
   "metadata": {},
   "source": [
    "<br><br><br>\n",
    "<span style=\"color:blue;font-size:x-large\">What we'll use</span>\n",
    "<li><a href=\"https://geojson.org\">GeoJson</a> a format for encoding geographic data structures</li>\n",
    "<li><a href=\"https://leafletjs.com\">leaflet.js</a> a JavaScript library for interactive maps</li>\n",
    "<li><a href=\"https://python-visualization.github.io/folium/\">folium</a> a python library that enables leaflet in python</li>\n",
    "<li><a href=\"https://www.openstreetmap.org/#map=5/38.007/-95.844\">Open Street maps</a> open source maps with a <a href=\"https://pypi.org/project/osmapi/\">python api</a>. Open Street Maps will be our base map</li>\n"
   ]
  },
  {
   "cell_type": "markdown",
   "metadata": {},
   "source": [
    "<br><br><br>\n",
    "<span style=\"color:blue;font-size:x-large\">GeoJSON</span>\n",
    "<li>A format for encoding geographical data in a JSON like structure\n",
    "<li>Easy to read\n",
    "<li>Easy to create\n",
    "<li>Easy to exchange (everyone understands it)\n",
    "<li>Fast becoming the standard for sharing geographical data\n",
    "<li>(Basically, JSON is taking over the world!)\n",
    "<li>Another common geographical data structure is <a href=\"https://en.wikipedia.org/wiki/Shapefile\">shapefile</a>. However, shapefiles are harder to manipulate and are making their way out. Tools for converting shapefiles to geojson are available (cf. <a href=\"https://www.statsilk.com/maps/convert-esri-shapefile-map-geojson-format\">this</a>) so we won't bother with that format</li>"
   ]
  },
  {
   "cell_type": "markdown",
   "metadata": {},
   "source": [
    "<br><br><br>\n",
    "<span style=\"color:blue;font-size:x-large\">folium maps</span>\n",
    "<li>python library for interfacing with leaflet.js</li>\n",
    "<li>uses open street maps as a base map</li>\n",
    "<li>many <a href=\"https://python-visualization.github.io/folium/plugins.html\">readymade plugins</a> that create leaflet maps</li>\n",
    "<li><a href=\"https://python-visualization.github.io/folium/\">documentation</a></li>\n",
    "<li><a href=\"https://nbviewer.org/github/python-visualization/folium/tree/main/examples/\">Many examples </a> (think of a map, look for an example, massage your data into the right format, and go!) </li>\n"
   ]
  },
  {
   "cell_type": "markdown",
   "metadata": {},
   "source": [
    "<br><br><br>\n",
    "<span style=\"color:blue;font-size:x-large\">OpenStreet Maps</span>\n",
    "<li>open source, collaborative map</li>\n",
    "<li>no API keys necessary. No fees. With google, fees kick in after a bit</li>\n",
    "<li>with openstreet, you own the map you create </li>\n",
    "<li>with google maps, google owns your map. Not a good option for private datasets</li>\n",
    "<li>openstreet maps work with leaflet.js, a javascript library for opensource mapping</li>\n",
    "<li>leaflet is more flexible than google maps and supports geojson natively</li>"
   ]
  },
  {
   "cell_type": "markdown",
   "metadata": {},
   "source": [
    "<br><br><br>\n",
    "<span style=\"color:blue;font-size:x-large\">Install folium</span>"
   ]
  },
  {
   "cell_type": "code",
   "execution_count": null,
   "metadata": {},
   "outputs": [],
   "source": [
    "import folium\n",
    "folium.__version__"
   ]
  },
  {
   "cell_type": "code",
   "execution_count": null,
   "metadata": {},
   "outputs": [],
   "source": [
    "!pip install folium --upgrade"
   ]
  },
  {
   "cell_type": "code",
   "execution_count": null,
   "metadata": {},
   "outputs": [],
   "source": [
    "!pip install folium==0.12.1.post1"
   ]
  },
  {
   "cell_type": "code",
   "execution_count": null,
   "metadata": {},
   "outputs": [],
   "source": [
    "import folium\n",
    "folium.__version__"
   ]
  },
  {
   "cell_type": "markdown",
   "metadata": {},
   "source": [
    "<br><br><br>\n",
    "<span style=\"color:green;font-size:xx-large\">Geojson</span>\n",
    "<li><b>A format for encoding geographic data structures</b></li>\n",
    "<li>Geojson supports three geometry types: <span style=\"color:red\">Point</span>, <span style=\"color:red\">LineString</span>, <span style=\"color:red\">Polygon</span></li>\n",
    "<li>Each geometry type is contained in a <span style=\"color:red\">Feature</span> object</li>\n",
    "<li>All the features on a map are contained in a <span style=\"color:red\">FeatureCollection</span> object</li>\n"
   ]
  },
  {
   "cell_type": "markdown",
   "metadata": {},
   "source": [
    "\n",
    "\n",
    "<li>Each geodata entry contains three keys:</li>\n",
    "<ul>\n",
    "    <li><span style=\"color:blue\">type</span>: Typically, the value of this key is either <span style=\"color:green\">Feature collection</span> (a list of features) or <span style=\"color:green\">Feature</span> (a single feature). Since Columbia is a single geodata object on our map, it is of type Feature</li>\n",
    "    <li><span style=\"color:blue\">geometry</span>: Describes the type of object (Point, Line, Polygon, PolyLine), and the coordinates so that it can be placed on the map</li>\n",
    "    <li><li><span style=\"color:blue\">properties</span>: Any properties associated with the feature. Properties are usually used to provide content for popup boxes, text content, etc. that needs to show up on the map; or other information that the geojson needs to retain, perhaps for the programmer. You can give any names to the keys of this dictionary</li>\n",
    "    \n",
    "<pre>\n",
    "{\"type\": \"Feature\",\n",
    "  \"geometry\": {\"type\":\"Point\", \"coordinates\": [-73.9626, 40.8075]},\n",
    "  \"properties\": {\"description\":\"Columbia University\"}\n",
    "}\n",
    "</pre>"
   ]
  },
  {
   "cell_type": "markdown",
   "metadata": {},
   "source": [
    "<span style=\"color:blue;font-size:x-large\">Feature</span>\n",
    "<br>\n",
    "A feature contains:\n",
    "<ul>\n",
    "    <li><span style=\"color:blue\">geometry</span>: the type of geometry (Point, LineString, Polygon) and the coordinates (a JSON array containing longitudes and latitudes)</li>\n",
    "    <li><span style=\"color:blue\">properties</span>: anything that describes the feature (name, address, age, income, whatever is important and can be worth displaying on the map)</li>"
   ]
  },
  {
   "cell_type": "code",
   "execution_count": null,
   "metadata": {},
   "outputs": [],
   "source": [
    "columbia_feature ={\"type\": \"Feature\",\n",
    "                   \"geometry\": {\"type\":\"Point\", \"coordinates\": [-73.9626, 40.8075]},\n",
    "                   \"properties\": {\"description\":\"Columbia University\"}}\n"
   ]
  },
  {
   "cell_type": "code",
   "execution_count": null,
   "metadata": {},
   "outputs": [],
   "source": [
    "columbia_feature"
   ]
  },
  {
   "cell_type": "markdown",
   "metadata": {},
   "source": [
    "<span style=\"color:blue;font-size:x-large\">Point</span>\n",
    "<li>A point is specified by a [longitude,latitude] pair in an JSON array</li>\n",
    "<li>Note that Geojson uses JSON-like data structures (Geojson is a JSON data object)</li>\n",
    "<li>Each Point object is contained in a geometry object</li>\n",
    "<li>And the geometry is contained in a Feature object</li>\n",
    "<li>"
   ]
  },
  {
   "cell_type": "code",
   "execution_count": null,
   "metadata": {},
   "outputs": [],
   "source": [
    "columbia_point = [-73.9626, 40.8075]\n",
    "nyu_point = [-73.9965, 40.7295]"
   ]
  },
  {
   "cell_type": "code",
   "execution_count": null,
   "metadata": {},
   "outputs": [],
   "source": []
  },
  {
   "cell_type": "markdown",
   "metadata": {},
   "source": [
    "<span style=\"color:blue;font-size:x-large\">LineString</span>\n",
    "<li>A LineString is specified by an array of [longitude,latitude] pairs</li>\n",
    "<li>Each succesive pair of points forms a line segment</li>"
   ]
  },
  {
   "cell_type": "code",
   "execution_count": null,
   "metadata": {},
   "outputs": [],
   "source": [
    "travel_route = [[-73.9626, 40.8075],[-73.9680,40.7489],[-73.9965, 40.7295]]"
   ]
  },
  {
   "cell_type": "markdown",
   "metadata": {},
   "source": [
    "<span style=\"color:blue;font-size:x-large\">Polygon</span>\n",
    "<li>A <span style=\"color:red\">closed</span> LineString. In a Polygon, the first [longitude,latitude] pair and the last (longitude, latitude) pair are identical</li>\n",
    "<li>Polygons can be disjoint (coordinates are in a list of lists, one list for each polygon</li>\n"
   ]
  },
  {
   "cell_type": "code",
   "execution_count": null,
   "metadata": {},
   "outputs": [],
   "source": [
    "central_park_coordinates = [\n",
    "                               [\n",
    "                                   [-73.9732585597,40.7647613157],[-73.9822190042,40.7686179131],\n",
    "                                   [-73.9585078996,40.8002103312],[-73.9495474551,40.7963555678],\n",
    "                                   [-73.9732585597,40.7647613157]\n",
    "                               ]\n",
    "                           ]"
   ]
  },
  {
   "cell_type": "markdown",
   "metadata": {},
   "source": [
    "<span style=\"color:blue;font-size:x-large\">FeatureCollection</span>\n",
    "<br>\n",
    "A FeatureCollection is a list of features that need to be layered onto the map</li> "
   ]
  },
  {
   "cell_type": "code",
   "execution_count": null,
   "metadata": {},
   "outputs": [],
   "source": [
    "example_geojson = { \"type\" : \"FeatureCollection\",\n",
    "                   \"features\": [\n",
    "                                   columbia_feature,\n",
    "                                   {\"type\": \"Feature\",\n",
    "                                       \"geometry\": {\"type\":\"Point\", \"coordinates\": nyu_point},\n",
    "                                        \"properties\": {\"description\":\"New York University\"}\n",
    "                                   },\n",
    "                                   {\"type\": \"Feature\",\n",
    "                                       \"geometry\": {\"type\":\"LineString\",\n",
    "                                                \"coordinates\": travel_route\n",
    "                                        },\n",
    "                                        \"properties\": {\n",
    "                                            \"description\":\"via United Nations\",\n",
    "                                    }\n",
    "                                   },\n",
    "                                   {\"type\": \"Feature\",\n",
    "                                       \"geometry\": {\"type\":\"Polygon\",\n",
    "                                               \"coordinates\": central_park_coordinates\n",
    "                                               },\n",
    "                                        \"properties\": {\n",
    "                                                \"description\":\"Central Park\"\n",
    "                                    }\n",
    "                                   },\n",
    "\n",
    "           ]\n",
    "          }\n",
    "\n"
   ]
  },
  {
   "cell_type": "markdown",
   "metadata": {},
   "source": [
    "<br><br><br>\n",
    "<span style=\"color:green;font-size:xx-large\">Layer these object onto a folium map</span>\n",
    "<br><br>\n",
    "<li>Set up the base map with a call to folium.Map</li>\n",
    "<ul>\n",
    "    <li>location specifies the coordinates of the map center</li>\n",
    "    <li>zoom_start, how much you want to zoom into the map</li>\n",
    "    <li>folium maps are interactive, you can zoom and pan through the world</li>\n",
    "</ul>\n",
    "<li>Then add the geojson object as a layer to the map</li>\n",
    "<li>Finally, display the map</li>"
   ]
  },
  {
   "cell_type": "code",
   "execution_count": null,
   "metadata": {
    "scrolled": false
   },
   "outputs": [],
   "source": [
    "import folium\n",
    "m = folium.Map(location=[40.7589, -73.9851],zoom_start=12)\n",
    "m"
   ]
  },
  {
   "cell_type": "code",
   "execution_count": null,
   "metadata": {
    "scrolled": true
   },
   "outputs": [],
   "source": [
    "import folium\n",
    "m = folium.Map(location=[40.7589, -73.9851],zoom_start=12)\n",
    "folium.features.GeoJson(example_geojson).add_to(m)\n",
    "m.save(\"my_first_map.html\")\n",
    "m"
   ]
  },
  {
   "cell_type": "markdown",
   "metadata": {},
   "source": [
    "<br><br>\n",
    "<span style=\"color:blue;font-size:x-large\">Adding additional layers</span>\n",
    "<li>Let's change the color of the icons and add a symbol</li>\n",
    "<li>we'll look for the symbol at <a href=\"https://fontawesome.com/icons?d=gallery\">font-awesome</a></li>\n",
    "<li>help is always available!</li>"
   ]
  },
  {
   "cell_type": "code",
   "execution_count": null,
   "metadata": {},
   "outputs": [],
   "source": [
    "help(folium.Icon)"
   ]
  },
  {
   "cell_type": "markdown",
   "metadata": {},
   "source": [
    "We will:\n",
    "<li>Add marker objects to modify the marker icon and add \"pop up\" text</li>\n",
    "<li>Change the icon for the universities to a more academic looking one</li>\n",
    "<li>Color it green</li>\n",
    "<li>Add popups for Central Park and the route line</li>"
   ]
  },
  {
   "cell_type": "markdown",
   "metadata": {},
   "source": [
    "<br><br>\n",
    "<span style=\"color:blue;font-size:x-large\">adding a marker</span>\n",
    "<li>Easy. Create a marker object. Layer it on to the map!</li>\n",
    "<li>Icons are defined by folium.Icon</li>\n",
    "<li>Icons can be included in a folium.Market object</li>\n",
    "<li>folium markers contain coordinates and things with coordinates can be added to the map</li>\n",
    "<li><b>Be Aware!</b> Folium coordinates are in the (latitude,longitude) format while geojson uses (longitude,latitude). Make sure you get the ordering right!</li>"
   ]
  },
  {
   "cell_type": "code",
   "execution_count": null,
   "metadata": {},
   "outputs": [],
   "source": [
    "\n",
    "example_geojson['features'][0][\"geometry\"][\"coordinates\"]"
   ]
  },
  {
   "cell_type": "code",
   "execution_count": null,
   "metadata": {},
   "outputs": [],
   "source": [
    "#Adding a marker\n",
    "\n",
    "#First make the map layer\n",
    "m = folium.Map(location=[40.7589, -73.9851],zoom_start=10)\n",
    "\n",
    "#Let's just add the Columbia marker for starters\n",
    "#Columbia's geojson data\n",
    "#data = example_geojson['features'][0]\n",
    "data = {\"type\": \"Feature\",\n",
    "               \"geometry\": {\"type\":\"Point\", \"coordinates\": [-73.9626, 40.8075]},\n",
    "                \"properties\": {\"description\":\"Columbia University\"}\n",
    "                }\n",
    "\n",
    "#Start by defining an Icon object\n",
    "icon = folium.Icon(color=\"green\",\n",
    "                   prefix=\"fa\", #Use font-awesome icons\n",
    "                  icon=\"graduation-cap\" #Use the \"graduation cap icon from fa\"\n",
    "                  )\n",
    "\n",
    "#Get necessary data out of the geojson object\n",
    "text = data[\"properties\"][\"description\"] #The description (\"Columbia University\")\n",
    "lat = data[\"geometry\"][\"coordinates\"][1] #Latitude\n",
    "lon = data[\"geometry\"][\"coordinates\"][0] #Longitude\n",
    "\n",
    "#Create a marker object\n",
    "marker = folium.Marker( [lat,lon],\n",
    "                      popup = text, #text when the marker is clicked\n",
    "                        icon = icon) #The icon object\n",
    "\n",
    "#layer the marker to the map\n",
    "marker.add_to(m)\n",
    "\n",
    "\n",
    "\n",
    "m"
   ]
  },
  {
   "cell_type": "markdown",
   "metadata": {},
   "source": [
    "<br><br>\n",
    "<span style=\"color:blue;font-size:x-large\">Adding markers and popups for all objects</span>\n",
    "<li>Since different objects have different marker objects, we will add each object individually rather than adding the entire geojson collection of objects </li>"
   ]
  },
  {
   "cell_type": "code",
   "execution_count": null,
   "metadata": {},
   "outputs": [],
   "source": [
    "example_geojson = { \"type\" : \"FeatureCollection\",\n",
    "                   \"features\": [\n",
    "                                   columbia_feature,\n",
    "                                   {\"type\": \"Feature\",\n",
    "                                       \"geometry\": {\"type\":\"Point\", \"coordinates\": nyu_point},\n",
    "                                        \"properties\": {\"description\":\"New York University\"}\n",
    "                                   },\n",
    "                                   {\"type\": \"Feature\",\n",
    "                                       \"geometry\": {\"type\":\"LineString\",\n",
    "                                                \"coordinates\": travel_route\n",
    "                                        },\n",
    "                                        \"properties\": {\n",
    "                                            \"description\":\"via United Nations\",\n",
    "                                    }\n",
    "                                   },\n",
    "                                   {\"type\": \"Feature\",\n",
    "                                       \"geometry\": {\"type\":\"Polygon\",\n",
    "                                               \"coordinates\": central_park_coordinates\n",
    "                                               },\n",
    "                                        \"properties\": {\n",
    "                                                \"description\":\"Central Park\"\n",
    "                                    }\n",
    "                                   },\n",
    "\n",
    "           ]\n",
    "          }\n",
    "\n"
   ]
  },
  {
   "cell_type": "code",
   "execution_count": null,
   "metadata": {
    "scrolled": false
   },
   "outputs": [],
   "source": [
    "import folium\n",
    "m = folium.Map(location=[40.7589, -73.9851],zoom_start=10)\n",
    "for data in example_geojson['features']:\n",
    "\n",
    "    text = data[\"properties\"][\"description\"]\n",
    "    feature_type = data['geometry']['type']\n",
    "\n",
    "    \n",
    "    #We'll treat points differently from polygons and lines\n",
    "    #For points, we'll create a marker object \n",
    "    if feature_type == \"Point\":\n",
    "        #Get the latitude and longitude\n",
    "        lat = data[\"geometry\"][\"coordinates\"][1]\n",
    "        lon = data[\"geometry\"][\"coordinates\"][0]\n",
    "\n",
    "\n",
    "        #Define the Icon object\n",
    "        icon = folium.Icon(color=\"green\",\n",
    "                   prefix=\"fa\", #Use font-awesome icons\n",
    "                  icon=\"graduation-cap\" #Use the \"graduation cap icon from fa\"\n",
    "                  )\n",
    "        \n",
    "        #Create the marker\n",
    "        marker = folium.Marker( [lat,lon],\n",
    "                      popup = text, #text when the marker is clicked\n",
    "                        icon = icon) #The icon object\n",
    "\n",
    "        #Add the marker to the map\n",
    "        marker.add_to(m)\n",
    "        \n",
    "\n",
    "    #For polygons and lines we won't do anything special  \n",
    "    #Just add the entire geojson for the object as a child of m (i.e., layer it in) \n",
    "    #and do the same for the popup\n",
    "    elif feature_type == \"Polygon\" or feature_type == \"LineString\":\n",
    "        m.add_child(folium.GeoJson(data,name=text). #Layer on the feature\n",
    "                    add_child(folium.Popup(text)))  #Layer on the text (description) as a popup  \n",
    "    else:\n",
    "        continue\n",
    "    \n",
    "\n",
    "m"
   ]
  },
  {
   "cell_type": "markdown",
   "metadata": {},
   "source": [
    "<li><a href=\"https://python-visualization.github.io/folium/modules.html#folium.vector_layers.PolyLine\">folium.PolyLine</a></li>"
   ]
  },
  {
   "cell_type": "markdown",
   "metadata": {},
   "source": [
    "<br><br><br>\n",
    "<span style=\"color:green;font-size:xx-large\">Take home exercise</span>\n",
    "<li>A visitor to the United States has a round trip planned that will take them around the country visiting a number of tourist attractions (masked and safely distanced!). They land at JFK, travel to several locations, and end up back at JFK for their flight home. Your job is to map their route around the country in a folium map</li>\n",
    "<li>The stops along the way are contained in the list <span style=\"color:blue\">travel_data</span>. Each stop has the coordinates, the name of the place, and an icon (from font awesome) included</li>\n",
    "<li>The coordinates for JFK Airport are missing. Your first task is to find the coordinates for the <span style=\"color:blue\">JFK</span> and find an <a href=\"https://fontawesome.com/icons?d=gallery&p=1&m=free\">icon</a> suitable for JFK airport (look for an airplane icon that works!)</li>\n",
    "<li>Google maps is your best bet for coordinates. They will show up in the url and you can copy them from there</li>\n",
    "<li>Then, create a map object and decide on an appropriate map center and zoom level</li>\n",
    "<li>The tourist's trip has two parts. In the first part, they go west and in the second part, east. Your map should show their trip in the form of a thick line that is red when they go west and blue when they go east (since the lines are of a different color, you can't use a Polygon object!)</li>\n",
    "<li>For the line, use <a href=\"https://python-visualization.github.io/folium/modules.html#folium.vector_layers.PolyLine\">folium.PolyLine</a>. Thickness and density are adjustable using the <span style=\"color:blue\">weight</span> and <span style=\"color:blue\">opacity</span> arguments (play around with the values). Color is adjustable using the <span style=\"color:blue\">color</span> argument</li>"
   ]
  },
  {
   "cell_type": "code",
   "execution_count": null,
   "metadata": {},
   "outputs": [],
   "source": [
    "travel_data = [{\"coordinates\": [],\"location\":\"JFK Airport, Queens, NY\",\"icon\":'plane'},\n",
    "    {'coordinates':[41.8825003,-87.6255357],\"location\":\"The Bean, Chicago, IL\",\"icon\":\"building\"},\n",
    "    {'coordinates':[39.6655381,-105.2074056],\"location\":\"Red Rocks Park, Denver, CO\",\"icon\":\"tree\"},\n",
    "    {'coordinates':[37.8199286,-122.4804491],\"location\":\"Golden Gate Bridge, San Franciso, CA\",\"icon\":\"road\"},\n",
    "    {'coordinates':[36.0910984,-113.404922],\"location\":\"Grand Canyon National Park, AZ\",\"icon\":\"tree\"},\n",
    "    {'coordinates':[32.7787249,-96.8086447],\"location\":\"JFK Memorial Plaza, Dallas, TX\",\"icon\":\"building\"},\n",
    "    {'coordinates':[33.7552312,-84.3733384],\"location\":\"MLK Birthplace National Park, Atlanta, GA\",\"icon\":\"building\"},\n",
    "    ]\n",
    "\n"
   ]
  },
  {
   "cell_type": "markdown",
   "metadata": {},
   "source": [
    "<span style=\"color:blue\">STEP 1: Get coordinates for JFK and an icon for the airport</span><br>\n",
    "<li>replace the two MISSING values in travel_data</li>\n",
    "<li>Easy way: Search JFK airport in Google Maps and then take a close look at the url!</li>"
   ]
  },
  {
   "cell_type": "code",
   "execution_count": null,
   "metadata": {},
   "outputs": [],
   "source": []
  },
  {
   "cell_type": "markdown",
   "metadata": {},
   "source": [
    "<span style=\"color:blue\">STEP 2: Create the base map and center it in approximately the center of the united states (Lebanon, KS)</span><br>\n",
    "Adjust the zoom level so that the whole of the US shows up in the pane"
   ]
  },
  {
   "cell_type": "code",
   "execution_count": null,
   "metadata": {},
   "outputs": [],
   "source": [
    "import folium\n",
    "m = folium.Map(location=[39.809072,-98.5599327],zoom_start=4)\n",
    "m"
   ]
  },
  {
   "cell_type": "markdown",
   "metadata": {},
   "source": [
    "<span style=\"color:blue\">STEP 3: Add the marker layer. Drop markers, with the appropriate icon, for each site the tourist plans to visit</span>"
   ]
  },
  {
   "cell_type": "code",
   "execution_count": null,
   "metadata": {},
   "outputs": [],
   "source": [
    "#Create markers (in a for loop)\n",
    "#Add each marker to the map m\n",
    "for point in travel_data:\n",
    "    lat = #Extract latitude from travel data\n",
    "    lon = #Extract longitude from travel data\n",
    "    text = #Extract location from travel data\n",
    "    icon = folium.Icon(color=\"green\",\n",
    "                   prefix=\"fa\", #Use font-awesome icons\n",
    "                  icon=point['icon'] \n",
    "                  )\n",
    "        \n",
    "        #Create the marker\n",
    "    marker = #Create a folium.marker object\n",
    "    marker.add_to(m)   \n",
    "m\n"
   ]
  },
  {
   "cell_type": "markdown",
   "metadata": {},
   "source": [
    "<span style=\"color:blue\">STEP 4: Generate coordinates for a line segment in the polyline. You'll need coordinates for (JFK, The Bean), then for (The Bean, Red Rocks Park), etc. A PolyLine is composed of multiple line segments.</span>\n",
    "<li>Use a \"for i in range(len(travel_data)-1)\" loop</li>\n",
    "<li>Each segment will go from the location in i to the location in i+1</li>\n",
    "<li>For the last segment, construct the coordinates from the last element of travel_data to the first elementt</li>\n",
    "<li>append each segment to a list (let's call it \"points\") </li>"
   ]
  },
  {
   "cell_type": "code",
   "execution_count": null,
   "metadata": {},
   "outputs": [],
   "source": [
    "segments = list()\n",
    "for i in range(len(travel_data)-1):\n",
    "    p1 = #first point for a line segment\n",
    "    p2 = #second point for a line segment\n",
    "    segments.append([p1,p2])\n",
    "segments.append(#append the last segment)\n",
    "segments"
   ]
  },
  {
   "cell_type": "markdown",
   "metadata": {},
   "source": [
    "<span style=\"color:blue\">STEP 5: Split the points list into two lists, west_points and east_points. In west_points, the longitude of the 2nd coordinate is less than the longitude of the first coordinate (going west). In east_points, it is the other way round</span>\n"
   ]
  },
  {
   "cell_type": "code",
   "execution_count": null,
   "metadata": {},
   "outputs": [],
   "source": [
    "east_points = list()\n",
    "west_points = list()\n",
    "for segment in segments:\n",
    "    #add each segment to either east_points or west_points"
   ]
  },
  {
   "cell_type": "code",
   "execution_count": null,
   "metadata": {},
   "outputs": [],
   "source": [
    "east_points"
   ]
  },
  {
   "cell_type": "markdown",
   "metadata": {},
   "source": [
    "<span style=\"color:blue\">STEP 6: Layer the two polylines (one using west_points and one using east_points) onto the map</span>\n",
    "<li>Thick red line going West</li>\n",
    "<li>Thick blue line going East</li>"
   ]
  },
  {
   "cell_type": "code",
   "execution_count": null,
   "metadata": {},
   "outputs": [],
   "source": [
    "l_e = #Create a folium.PolyLine object for east_points. color red, weight 8\n",
    "l_w = #Create a folium.PolyLine object for west_points. color green, weight 8\n",
    "l_e.add_to(m)\n",
    "l_w.add_to(m)\n",
    "m"
   ]
  },
  {
   "cell_type": "markdown",
   "metadata": {},
   "source": [
    "<br><br><br><br><br>\n",
    "<span style=\"color:green;font-size:50px\">Choropleth maps</span>\n",
    "<li>A choropleth map (from Greek χῶρος (\"area/region\") + πλῆθος (\"multitude\")) is a thematic map in which areas are shaded or patterned in proportion to the measurement of the statistical variable being displayed on the map, such as population density or per-capita income. </li>\n",
    "<li><a href=\"https://en.wikipedia.org/wiki/Choropleth_map\">https://en.wikipedia.org/wiki/Choropleth_map</a></li>\n",
    "<li>We'll construct a choropleth map showing the density of cases by zipcode for the NYC 311 data</li>\n",
    "\n",
    "<li>NYC zip code data is available in geojson format  <a href=\"https://jsspina.carto.com/tables/nyc_zip_code_tabulation_areas_polygons/public/map\">here</a> and many other places (google!) </li>\n",
    "<li>Or use the file uploaded online</li>\n",
    "\n"
   ]
  },
  {
   "cell_type": "markdown",
   "metadata": {},
   "source": [
    "<br><br><br>\n",
    "<span style=\"color:blue;font-size:xx-large\">Constructing a choropleth map</span>\n",
    "<li>Find a geojson file that contains the polygons for the area your map needs to cover. For example, if your map data is by zipcode in New York City, you'll need to find a geojson file that contains polygons for all zipcodes in the city</li>\n",
    "<li>Construct a dataframe that includes a column that identifies the polygons. The df should have as many rows as their are polygons. For example, if your map is by zipcode in NYC, then there should be one line per zipcode in your dataframe, each row should contain the zipcode as a field (so that it can mapped to the zipcodes in the geojson file)</li>\n",
    "<li>One dataframe column should contain the data (numeric data) that you want to use to color the map zones</li>"
   ]
  },
  {
   "cell_type": "markdown",
   "metadata": {},
   "source": [
    "<br><br><br>\n",
    "<span style=\"color:blue;font-size:xx-large\">Example: NYC 311 data</span>\n",
    "<li>New York City publishes data on every complaint made to its 311 complaint hotline</li>\n",
    "<li>Data can be downloaded <a href=\"https://data.cityofnewyork.us/Social-Services/311-Service-Requests-from-2010-to-Present/7ahn-ypff\">here</a></li>\n",
    "<li>The file <b>nyc_311.csv</b> contains an extract of the data since January 2010. The data also includes processing time for each complaint (time taken to resolve the complaint).</li>\n",
    "<li>Read the data into a dataframe and convert Created Date and Closed Date into datetime objects</li>"
   ]
  },
  {
   "cell_type": "code",
   "execution_count": null,
   "metadata": {},
   "outputs": [],
   "source": [
    "import pandas as pd\n",
    "df = pd.read_csv(\"nyc_311_clean.csv\")\n",
    "df['Created Date'] = pd.to_datetime(df['Created Date'],format=\"%Y-%m-%d %H:%M:%S\")\n",
    "df['Closed Date'] = pd.to_datetime(df['Closed Date'],format=\"%Y-%m-%d %H:%M:%S\")\n",
    "df.info(show_counts=True)"
   ]
  },
  {
   "cell_type": "code",
   "execution_count": null,
   "metadata": {},
   "outputs": [],
   "source": [
    "df"
   ]
  },
  {
   "cell_type": "markdown",
   "metadata": {},
   "source": [
    "<br><br><br>\n",
    "<span style=\"color:blue;font-size:x-large\">The geojson file</span>\n",
    "<li>nyc_geojson_by_zip.json</li>\n",
    "<li><i>Source</i>: <a href=\"https://data.beta.nyc/en/dataset/nyc-zip-code-tabulation-areas/resource/6df127b1-6d04-4bb7-b983-07402a2c3f90?inner_span=True\">https://data.beta.nyc/en/dataset/nyc-zip-code-tabulation-areas/resource/6df127b1-6d04-4bb7-b983-07402a2c3f90?inner_span=True</a></li>\n",
    "<li>folium.Choropleth loads a choropleth map on top of the base map (no data yet!)</li>"
   ]
  },
  {
   "cell_type": "code",
   "execution_count": null,
   "metadata": {},
   "outputs": [],
   "source": [
    "!head nyc_geojson_by_zip.json"
   ]
  },
  {
   "cell_type": "code",
   "execution_count": null,
   "metadata": {
    "scrolled": false
   },
   "outputs": [],
   "source": [
    "import folium\n",
    "m = folium.Map(location=[40.7589, -73.9851],zoom_start=10)\n",
    "c=folium.Choropleth(geo_data=\"nyc_geojson_by_zip.json\",fill_color=\"green\").add_to(m) #Layer on the zipcode boundaries\n",
    "m"
   ]
  },
  {
   "cell_type": "markdown",
   "metadata": {},
   "source": [
    "<br><br><br>\n",
    "<span style=\"color:blue;font-size:x-large\">The data</span>\n",
    "<li>A choropleth map assigns colors to each zone in the map based on some data content value</li>\n",
    "<li>We'll count the number of complaints in each zipcode and use that number to color the zones</li>\n",
    "<li>First step: Generate the number of complaints in each zip code!</li>\n",
    "<li>Easy: use groupby</li>\n"
   ]
  },
  {
   "cell_type": "markdown",
   "metadata": {},
   "source": [
    "<br><br><br>\n",
    "<span style=\"color:blue;font-size:x-large\">Create a dataframe that contains two columns zipcode and counts</span>\n",
    "<li>We'll do this by moving the index in counts into a column</li>\n",
    "<li>And will rename that column to \"zipcodes\"</li>\n",
    "<li>And the column containing counts (with the default name 0) as sizes</li>\n",
    "<li><a href=\"https://pandas.pydata.org/docs/reference/api/pandas.DataFrame.reset_index.html\">df.reset_index()</a> moves the index into a column</li>\n",
    "<li><a href=\"https://pandas.pydata.org/docs/reference/api/pandas.DataFrame.rename.html\">df.rename</a> renames a column (or columns)</li>\n",
    "<li>Make sure zipcodes column is of type str</li>\n",
    "<li>And sizes column is of type \"int\"</li>"
   ]
  },
  {
   "cell_type": "code",
   "execution_count": null,
   "metadata": {},
   "outputs": [],
   "source": [
    "sizes = df.groupby(\"Incident Zip\").size()\n",
    "sizes = sizes.reset_index().rename(columns={\"Incident Zip\":\"zipcodes\",0:\"sizes\"})\n",
    "sizes['sizes'] = sizes['sizes'].astype('int')\n",
    "sizes['zipcodes'] = sizes['zipcodes'].astype('str')\n",
    "sizes.info()"
   ]
  },
  {
   "cell_type": "markdown",
   "metadata": {},
   "source": [
    "<br><br><br>\n",
    "<span style=\"color:blue;font-size:x-large\">The Choropleth Map</span>\n",
    "<br><br>\n",
    "Needs to know:\n",
    "<li>the name of the dataframe that contains the data</li>\n",
    "<li>the columns of the dataframe that we want to use</li>\n",
    "<li>the first column must map to the zones (folium.Choropleth will use this to connect to the geojson zones)</li>\n",
    "<li>the second column must be a number and will be used to color the zone</li>\n",
    "<li>the key_on attribute maps values in the first column of the dataframe to the the associated value in the geojson object</li>\n",
    "<li>the fill_color attribute uses a custom color palette  to color the zones based on the values in the second column of the dataframe</li>\n"
   ]
  },
  {
   "cell_type": "code",
   "execution_count": null,
   "metadata": {},
   "outputs": [],
   "source": [
    "import folium\n",
    "m=folium.Map(location = [40.7589,-73.9851],zoom_start=10)\n",
    "c = folium.Choropleth(geo_data=\"nyc_geojson_by_zip.json\",#  \"nyu-2451-34509-geojson.json\",   #\"nyc_geojson_by_zip.json\",\n",
    "                      data=sizes, #the data frame from which the data is drawn\n",
    "                     columns=['zipcodes','sizes'], #The columns (column 0 is for geographical data, col 1 the statistic)\n",
    "                      key_on='feature.properties.postalCode', #Will map to column 0 of sizes\n",
    "                      fill_color='YlOrRd', #the color scheme\n",
    "                      legend_name=\"Distribution of Incidents\", #the name for the legend\n",
    "                     highlight=True) #When hovering over a zip, it will be highlighted\n",
    "c.add_to(m)\n",
    "m\n",
    "           "
   ]
  },
  {
   "cell_type": "markdown",
   "metadata": {},
   "source": [
    "<br><br><br>\n",
    "<span style=\"color:blue;font-size:x-large\">Adding content information to the hover tool</span>\n",
    "<li>currently, a zone is highlighted when the mouse hovers over it</li>\n",
    "<li>it would be helpful to show the zipcode and the value as well</li>\n",
    "<li>any feature property in the geojson can be displayed in the tooltip using folium.features.GeoJsonTooltip</li>\n",
    "<li>For example, the postalCode is displayed below</li>"
   ]
  },
  {
   "cell_type": "code",
   "execution_count": null,
   "metadata": {},
   "outputs": [],
   "source": [
    "\n",
    "\n",
    "c.geojson.add_child(\n",
    "    folium.features.GeoJsonTooltip(['postalCode'],labels=False)\n",
    ")\n",
    "\n",
    "m"
   ]
  },
  {
   "cell_type": "code",
   "execution_count": null,
   "metadata": {},
   "outputs": [],
   "source": []
  },
  {
   "cell_type": "markdown",
   "metadata": {},
   "source": [
    "<br><br><br>\n",
    "<span style=\"color:blue;font-size:x-large\">Displaying postal code, size, and borough</span>\n",
    "<li>we'll need to modify the geojson so that it contains a property with the text string we want to display</li>\n",
    "<li>currently, we're giving the "
   ]
  },
  {
   "cell_type": "code",
   "execution_count": null,
   "metadata": {},
   "outputs": [],
   "source": [
    "f = open(\"nyc_geojson_by_zip.json\",'r')\n",
    "content = f.read()\n",
    "import json\n",
    "geojson_data = json.loads(content)\n",
    "for feature in geojson_data['features']:\n",
    "    zipcode = feature['properties']['postalCode']\n",
    "    try:\n",
    "        size = str(sizes.set_index('zipcodes').loc[zipcode]['sizes'])\n",
    "    except:\n",
    "        size = \"?\"\n",
    "    post_office = feature['properties']['PO_NAME']\n",
    "    display_string = zipcode + \"; \"  + post_office + \"; \" +  size \n",
    "    feature['properties']['display'] = display_string"
   ]
  },
  {
   "cell_type": "code",
   "execution_count": null,
   "metadata": {
    "code_folding": [
     3
    ]
   },
   "outputs": [],
   "source": [
    "m=folium.Map(location = [40.7589,-73.9851],zoom_start=10)\n",
    "c = folium.Choropleth(geo_data=geojson_data,\n",
    "                      data=sizes, #the data frame from which the data is drawn\n",
    "                     columns=['zipcodes','sizes'], #The columns (column 0 is for geographical data, col 1 the statistic)\n",
    "                      key_on='feature.properties.postalCode', #Will map to column 0 of sizes\n",
    "                      fill_color='YlOrRd', #the color scheme\n",
    "                      legend_name=\"Distribution of Incidents\", #the name for the legend\n",
    "                     highlight=True) #When hovering over a zip, it will be highlighted\n",
    "c.add_to(m)\n",
    "c.geojson.add_child(\n",
    "    folium.features.GeoJsonTooltip(['display'],labels=False)\n",
    ")\n",
    "m"
   ]
  },
  {
   "cell_type": "markdown",
   "metadata": {},
   "source": [
    "<br><br><br><br><br>\n",
    "<span style=\"color:green;font-size:50px\">Heat Maps</span>\n",
    "<br><br>\n",
    "<li>A heatmap shows the density of a piece of data at a location</li>\n",
    "<li>The density is based on either the number of cases, or some weighted value (sum) of the cases</li>\n",
    "<li>The density is then displayed on the map by a combination of color and opacity at each pixel</li>\n",
    "<li>Luckily, folium has an object that takes care of all the details for us!</li>"
   ]
  },
  {
   "cell_type": "markdown",
   "metadata": {},
   "source": [
    "<br><br><br><br><br>\n",
    "<span style=\"color:blue;font-size:x-large\">Example: Heatmap that shows the density of DOE cases in NYC</span>\n",
    "<li>Select the subset of the data where the Agency is DOE</li>\n",
    "<li>extract the latitude and longitude pairs for each entry in the subset and put this in a list</li>\n",
    "<li>give this as an attribute to the folium plugin - HeatMap</li>"
   ]
  },
  {
   "cell_type": "code",
   "execution_count": null,
   "metadata": {},
   "outputs": [],
   "source": [
    "df.Agency.unique()"
   ]
  },
  {
   "cell_type": "code",
   "execution_count": null,
   "metadata": {},
   "outputs": [],
   "source": [
    "from folium import plugins\n",
    "from folium.plugins import HeatMap\n",
    "\n",
    "\n",
    "m=folium.Map(location = [40.7589,-73.9851],zoom_start=12)\n",
    "\n",
    "#heat_df = df[((df[\"Agency\"] == \"DSNY\") & (df.Borough == \"MANHATTAN\") & (df[\"Incident Zip\"] == \"10027\"))]\n",
    "heat_df = df[df[\"Agency\"]==\"DOE\"]\n",
    "heat_data = list(zip(heat_df.Latitude,heat_df.Longitude))\n",
    "HeatMap(heat_data).add_to(m)\n",
    "\n",
    "\n",
    "\n",
    "\n",
    "# Display the map\n",
    "m.save(\"heatmap.html\")\n",
    "m"
   ]
  },
  {
   "cell_type": "markdown",
   "metadata": {},
   "source": [
    "<br><br><br><br><br>\n",
    "<span style=\"color:blue;font-size:x-large\">A time-lapse heatmap</span>\n",
    "<li>time lapse heatmaps show how the density shifts over time</li>\n",
    "<li>For example, how do DOE complaints vary month over month (data timeframe: Jan 2010 to January 2023)</li>\n",
    "<li>Folium plugin <span style=\"color:blue\">HeatMapWithTime</span> is a ready-to-go plugin</li>\n",
    "\n"
   ]
  },
  {
   "cell_type": "markdown",
   "metadata": {},
   "source": [
    "<br><br><br><br><br>\n",
    "<span style=\"color:blue;font-size:large\">Preparing data for a time-lapse heatmap</h4>\n",
    "<li>Create a column in the dataframe that represents the different time units (we'll use months in the format yyyymm)</li>\n",
    "<li>Next create a list of lists</li>\n",
    "<ul><li>each sublist corresponds to one unit of time</li>\n",
    "    <li>each sublist contains the coordinates (and, optionally, weights) of each point in a time unit in the format [latitude,longitude]</li>\n",
    "    <li><b>Important</b>: the sublist must be ordered by time!</li>\n",
    "    </ul>\n",
    "    "
   ]
  },
  {
   "cell_type": "markdown",
   "metadata": {},
   "source": [
    "<b>Digression: strptime and strftime</b>\n",
    "<li>strptime is a time formatting standard used by multiple programming languages</li>\n",
    "<li><a href=\"https://pubs.opengroup.org/onlinepubs/007904875/functions/strptime.html\">https://pubs.opengroup.org/onlinepubs/007904875/functions/strptime.html</a></li>\n",
    "<li>strptime converts a string to a datetime object</li>\n",
    "<li>strftime converts a datetime object to a string</li>"
   ]
  },
  {
   "cell_type": "code",
   "execution_count": null,
   "metadata": {},
   "outputs": [],
   "source": [
    "df['yyyymm'] = df['Created Date'].dt.strftime('%Y%m') #Extract yyyymm from the pd.datetime Created Date\n",
    "\n",
    "#Creating the lists of lists\n",
    "yyyymm_list = list()\n",
    "df2 = df[df.Agency == \"DOE\"] #Extract the dataframe for Agency DOE (Department of Education)\n",
    "df2.set_index(\"yyyymm\",inplace=True)\n",
    "months = sorted(df2.index.unique()) #This ensures that the months are in time order \n",
    "\n",
    "#Create the list of lists\n",
    "for yyyymm in months: #cycle through the (sorted) months\n",
    "    print(yyyymm)\n",
    "    mini_df = df2.loc[yyyymm] #Extract data for that month\n",
    "    latlon = list([list(x) for x in zip(mini_df.Latitude,mini_df.Longitude)]) #Extract latitude and longitude\n",
    "    yyyymm_list.append(latlon) #append sublist to the list of lists\n",
    "\n"
   ]
  },
  {
   "cell_type": "code",
   "execution_count": null,
   "metadata": {},
   "outputs": [],
   "source": [
    "yyyymm_list"
   ]
  },
  {
   "cell_type": "code",
   "execution_count": null,
   "metadata": {},
   "outputs": [],
   "source": [
    "#Digression python zip function\n",
    "#Given two lists, the zip function meshes them together\n",
    "#Example:\n",
    "\n",
    "x = [\"a\",\"b\",\"c\",\"d\"]\n",
    "y = [1,2,3,4]\n",
    "list(zip(x,y))"
   ]
  },
  {
   "cell_type": "code",
   "execution_count": null,
   "metadata": {},
   "outputs": [],
   "source": [
    "#A requirement of the HeatMapWithTime plugin is that the latitude and longitude pairs must be in lists, not tuples\n",
    "#We need to convert the (latitude,longitude) tuples into lists\n",
    "[list(a) for a in zip(x,y)]"
   ]
  },
  {
   "cell_type": "markdown",
   "metadata": {},
   "source": [
    "<br><br><br><br><br>\n",
    "<span style=\"color:blue;font-size:large\">The heat map</span>\n",
    "<li>the list of lists is the data argument to HeatMapWithTime</li>\n",
    "<li>Add a radius to increase (or decrease) the \"heat\" density around a point</li>\n",
    "<li>The \"index\" argument adds a label to the time slider</li>\n",
    "<li>As with any other map, you can layer in more elements. The principal of LaGuardia High, for example, may be interested in DOE related complaints close to their school and we can drop a marker to help them out!</li>"
   ]
  },
  {
   "cell_type": "code",
   "execution_count": null,
   "metadata": {
    "scrolled": false
   },
   "outputs": [],
   "source": [
    "from folium.plugins import HeatMapWithTime\n",
    "m=folium.Map(location = [40.7589,-73.9851],zoom_start=12)\n",
    "\n",
    "hm = HeatMapWithTime(data=yyyymm_list,index=months,radius=20)\n",
    "marker = folium.Marker(location=(40.7741265,-73.9854925),popup=\"LaGuardia High School\")\n",
    "\n",
    "hm.add_to(m)\n",
    "marker.add_to(m)\n",
    "m.save(\"heatmap.html\")\n",
    "m"
   ]
  }
 ],
 "metadata": {
  "kernelspec": {
   "display_name": "Python 3 (ipykernel)",
   "language": "python",
   "name": "python3"
  },
  "language_info": {
   "codemirror_mode": {
    "name": "ipython",
    "version": 3
   },
   "file_extension": ".py",
   "mimetype": "text/x-python",
   "name": "python",
   "nbconvert_exporter": "python",
   "pygments_lexer": "ipython3",
   "version": "3.9.7"
  },
  "toc": {
   "base_numbering": 1,
   "nav_menu": {},
   "number_sections": true,
   "sideBar": true,
   "skip_h1_title": false,
   "title_cell": "Table of Contents",
   "title_sidebar": "Contents",
   "toc_cell": false,
   "toc_position": {},
   "toc_section_display": true,
   "toc_window_display": false
  }
 },
 "nbformat": 4,
 "nbformat_minor": 4
}
