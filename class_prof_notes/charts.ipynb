{
 "cells": [
  {
   "cell_type": "markdown",
   "metadata": {},
   "source": [
    "<br><br><br><br>\n",
    "<span style=\"color:red;font-size:60px\">Charts and graphs</span>\n",
    "<br><br>\n",
    "<li><span style=\"color:green\">matplotlib </span>Python's integrated plotting library</li>\n",
    "<li><span style=\"color:green\">bokeh </span>Interactive plotting library</li>\n"
   ]
  },
  {
   "cell_type": "markdown",
   "metadata": {},
   "source": [
    "<br><br><br><br>\n",
    "<span style=\"color:blue;font-size:large\">matplotlib</span>\n",
    "<li><a href=\"https://matplotlib.org\">https://matplotlib.org</a></li>\n",
    "<li>easy to use and tight coupling with pandas</li>\n"
   ]
  },
  {
   "cell_type": "markdown",
   "metadata": {},
   "source": [
    "<br><br><br><br>\n",
    "<span style=\"color:blue;font-size:large\">bokeh</span>\n",
    "<li><a href=\"https://docs.bokeh.org/en/latest/\">https://docs.bokeh.org/en/latest/</a></li>\n",
    "<li>interactive plotting, growing mapping functionality, presentation ready graphs</li>\n",
    "<li>requires a bit more work</li>\n"
   ]
  },
  {
   "cell_type": "markdown",
   "metadata": {},
   "source": [
    "<br><br><br><br>\n",
    "<span style=\"color:blue;font-size:large\">What kinds of visuals are possible</span>\n",
    "<li>Tons and tons</li>\n",
    "<li>Best approach: think of how you want to show your data or results and then google till you find the right way to do it</li>\n",
    "<li><b>Almost anything is possible!</b></li>"
   ]
  },
  {
   "cell_type": "markdown",
   "metadata": {},
   "source": [
    "<br><br><br><br>\n",
    "<span style=\"color:green;font-size:xx-large\">setup</span>\n",
    "<br><br>\n",
    "<li><b>Important</b>: We will use version 2.4.3 rather than the latest (3.0.3). The latter has bugs working with Jupyter notebooks (set to be fixed in version 3.1)</li>\n",
    "<li>!pip install bokeh</li>\n",
    "<li>OR</li>\n",
    "<li>!conda install --yes bokeh</li>\n",
    "<li>matplotlib comes pre-installed with anaconda</li>\n",
    "<li>In the notebook, select \"File --> Trust notebook\" from the menubar. Your graphs will be available when you reopen the notebook"
   ]
  },
  {
   "cell_type": "code",
   "execution_count": null,
   "metadata": {},
   "outputs": [],
   "source": [
    "!pip install bokeh==2.4.3"
   ]
  },
  {
   "cell_type": "code",
   "execution_count": null,
   "metadata": {},
   "outputs": [],
   "source": [
    "import bokeh\n",
    "bokeh.__version__"
   ]
  },
  {
   "cell_type": "markdown",
   "metadata": {},
   "source": [
    "<br><br><br><br>\n",
    "<span style=\"color:green;font-size:50px\">Interactive charts with bokeh</span>\n",
    "<br><br>"
   ]
  },
  {
   "cell_type": "markdown",
   "metadata": {},
   "source": [
    "<br><br><br><br>\n",
    "<span style=\"color:blue;font-size:large\">bokeh</span>\n",
    "<li>import libraries</li>\n",
    "<li>run output_notebook() to display charts inline</li>\n",
    "<li>output_notebook() should say \"BokehJS 2.4.3 successfully loaded.\" (or something went wrong!)</li>"
   ]
  },
  {
   "cell_type": "code",
   "execution_count": null,
   "metadata": {},
   "outputs": [],
   "source": [
    "#output_notebook for inline charts in a notebook\n",
    "#show to show a chart\n",
    "from bokeh.io import output_notebook, show \n",
    "from bokeh.plotting import figure"
   ]
  },
  {
   "cell_type": "code",
   "execution_count": null,
   "metadata": {},
   "outputs": [],
   "source": [
    "output_notebook()"
   ]
  },
  {
   "cell_type": "markdown",
   "metadata": {},
   "source": [
    "<br><br><br><br>\n",
    "<span style=\"color:blue;font-size:large\">Construct a figure</span>\n",
    "<li>specify labels</li>\n",
    "<li>specify legend</li>\n",
    "<li>give a title</li>"
   ]
  },
  {
   "cell_type": "markdown",
   "metadata": {},
   "source": [
    "<br><br><br><br>\n",
    "<span style=\"color:blue;font-size:large\">A simple single line plot</span>\n",
    "<li>first create a figure object</li>\n",
    "<li>create a line object in the figure object</li>\n",
    "<li>the line object must contain both axes! Bokeh does not make good use of pandas series</li>\n",
    "<li>then show the figure\n"
   ]
  },
  {
   "cell_type": "markdown",
   "metadata": {},
   "source": [
    "<h3 style=\"color:blue\">The data</h3>\n",
    "<li>The NYC 311 data subset that we used for maps</li>"
   ]
  },
  {
   "cell_type": "code",
   "execution_count": null,
   "metadata": {},
   "outputs": [],
   "source": [
    "import pandas as pd\n",
    "df = pd.read_csv(\"../Modules/visualization libraries/nyc_311_clean.csv\")\n",
    "df['Created Date'] = pd.to_datetime(df['Created Date'],format=\"%Y-%m-%d %H:%M:%S\")\n",
    "df['Closed Date'] = pd.to_datetime(df['Closed Date'],format=\"%Y-%m-%d %H:%M:%S\")\n",
    "df.info(show_counts=True)"
   ]
  },
  {
   "cell_type": "markdown",
   "metadata": {},
   "source": [
    "<h3>Calculate mean processing time by month and day of week</h3>\n",
    "<li>Pandas <b>Grouper</b> constructs a groupby instruction for groupby</li>\n",
    "<li>Useful when dealing with timeseries data</li>\n",
    "<li>https://pandas.pydata.org/docs/reference/api/pandas.Grouper.html</li>"
   ]
  },
  {
   "cell_type": "code",
   "execution_count": null,
   "metadata": {},
   "outputs": [],
   "source": [
    "import pandas as pd\n",
    "\n",
    "month_groups = df.groupby(pd.Grouper(freq='M',key=\"Created Date\"))\n",
    "months_mean = month_groups.mean(numeric_only=True)['processing_days']\n"
   ]
  },
  {
   "cell_type": "code",
   "execution_count": null,
   "metadata": {},
   "outputs": [],
   "source": [
    "months_mean"
   ]
  },
  {
   "cell_type": "code",
   "execution_count": null,
   "metadata": {},
   "outputs": [],
   "source": [
    "day_of_week_groups = df.groupby(df[\"Created Date\"].dt.dayofweek)\n",
    "day_of_week_mean = day_of_week_groups.mean(numeric_only=True)['processing_days']\n",
    "day_of_week_mean"
   ]
  },
  {
   "cell_type": "markdown",
   "metadata": {},
   "source": [
    "<h3>Graph month means and day of week means</h3>"
   ]
  },
  {
   "cell_type": "code",
   "execution_count": null,
   "metadata": {},
   "outputs": [],
   "source": [
    "p = figure(title=\"Monthly Processing Time Averages\", x_axis_label='Month', y_axis_label='Processing Time')\n",
    "p.line(months_mean.index,months_mean,line_width=8,line_color=\"red\")\n",
    "show(p)"
   ]
  },
  {
   "cell_type": "markdown",
   "metadata": {},
   "source": [
    "<li>bokeh treats ticks as discrete points and doesn't automatically draw a continuous line</li>\n",
    "<li>we need three steps for a basic graph rather than one (more complicated than matplotlib)</li>\n",
    "<li>but we get some nice interactive features along with the graph</li>\n",
    "<li>we'll need to do some more customization</li>"
   ]
  },
  {
   "cell_type": "markdown",
   "metadata": {},
   "source": [
    "<li>bokeh can handle time nicely. Convert x-axis into time</li>\n",
    "<li>tell bokeh that the x-axis is of datetime type. bokeh will assume it is continuous</li>\n",
    "<li>add gizmos to make the graph look nice</li>"
   ]
  },
  {
   "cell_type": "code",
   "execution_count": null,
   "metadata": {},
   "outputs": [],
   "source": [
    "months_mean.index"
   ]
  },
  {
   "cell_type": "code",
   "execution_count": null,
   "metadata": {},
   "outputs": [],
   "source": [
    "import pandas as pd\n",
    "p = figure(title=\"Mean Processing Time (monthly)\",plot_width=600, plot_height=400,\n",
    "          x_axis_label = \"months\",y_axis_label = \"time\",x_axis_type=\"datetime\")\n",
    "\n",
    "p.line(months_mean.index,#pd.to_datetime(months_mean.index,format=\"%Y%m\"), \n",
    "       months_mean,\n",
    "       legend_label=\"monthly mean\",\n",
    "      line_color = \"red\",\n",
    "      line_width = 8)\n",
    "\n",
    "show(p)"
   ]
  },
  {
   "cell_type": "markdown",
   "metadata": {},
   "source": [
    "<br><br><br><br>\n",
    "<span style=\"color:blue;font-size:large\">tools</span>\n",
    "<li>bokeh provides a number of interactive tools</li>\n",
    "<li>in the above two graphs, we let it pick the tools (defaults), but we can control the tools list</li>\n",
    "<li><a href=\"https://docs.bokeh.org/en/latest/docs/user_guide/tools.html\">tool configuration</a>"
   ]
  },
  {
   "cell_type": "code",
   "execution_count": null,
   "metadata": {},
   "outputs": [],
   "source": [
    "import pandas as pd\n",
    "p = figure(title=\"Mean Processing Time (monthly)\",plot_width=600, plot_height=400,\n",
    "          x_axis_label = \"months\",y_axis_label = \"time\",x_axis_type=\"datetime\",\n",
    "          tools=\"pan,box_zoom, crosshair,reset, save\")\n",
    "\n",
    "p.line(pd.to_datetime(months_mean.index,format=\"%Y%m\"), \n",
    "       months_mean,\n",
    "       legend_label=\"monthly mean\",\n",
    "      line_color = \"red\",\n",
    "      line_width = 8)\n",
    "\n",
    "show(p)\n",
    "\n"
   ]
  },
  {
   "cell_type": "markdown",
   "metadata": {},
   "source": [
    "<br><br><br><br>\n",
    "<span style=\"color:blue;font-size:large\">The bar chart</span>\n",
    "<li><a href=\"https://docs.bokeh.org/en/latest/docs/reference/models/glyphs/vbar.html\">vbar</a> for vertical bars (hbar for horizontal bars)</li>\n",
    "<li>x axis labels need to be of type string</li>\n",
    "<li>We can convert the day numbers to str or just create the label list</li>\n"
   ]
  },
  {
   "cell_type": "code",
   "execution_count": null,
   "metadata": {},
   "outputs": [],
   "source": [
    "day_of_week_mean"
   ]
  },
  {
   "cell_type": "code",
   "execution_count": null,
   "metadata": {
    "scrolled": true
   },
   "outputs": [],
   "source": [
    "number_labels = [str(day) for day in day_of_week_mean.index] #But we'll use text_labels\n",
    "text_labels = [\"Monday\",\"Tuesday\",\"Wednesday\",\"Thursday\",\"Friday\",\"Saturday\",\"Sunday\"]\n",
    "value = day_of_week_mean\n",
    "\n",
    "p = figure(x_range=text_labels, y_range=(0, 25),plot_width=600, plot_height=300)\n",
    "\n",
    "p.vbar(x=text_labels, top=value , width=0.5, color = \"green\",legend_label=\"means\")\n",
    "\n",
    "show(p)\n"
   ]
  },
  {
   "cell_type": "markdown",
   "metadata": {},
   "source": [
    "<br><br><br><br>\n",
    "<span style=\"color:blue;font-size:large\">Grid plots in bokeh</span>\n",
    "<li>define each figure separately</li>\n",
    "<li>use gridplot to create a grid</li>\n",
    "<li>gridplot takes a matrix of plots as its input</li>"
   ]
  },
  {
   "cell_type": "code",
   "execution_count": null,
   "metadata": {},
   "outputs": [],
   "source": [
    "from bokeh.io import output_notebook, show\n",
    "from bokeh.layouts import gridplot\n",
    "from bokeh.plotting import figure\n",
    "import pandas as pd\n",
    "\n",
    "\n",
    "p1 = figure(title=\"Mean Processing Time (monthly)\",plot_width=600, plot_height=400,\n",
    "          x_axis_label = \"months\",y_axis_label = \"time\",x_axis_type=\"datetime\",\n",
    "          tools=\"pan,box_zoom, crosshair,reset, save\")\n",
    "\n",
    "p1.line(pd.to_datetime(months_mean.index,format=\"%Y%m\"), \n",
    "       months_mean,\n",
    "       legend_label=\"monthly mean\",\n",
    "      line_color = \"red\",\n",
    "      line_width = 8)\n",
    "\n",
    "\n",
    "\n",
    "text_labels = [\"Monday\",\"Tuesday\",\"Wednesday\",\"Thursday\",\"Friday\",\"Saturday\",\"Sunday\"]\n",
    "values = day_of_week_mean\n",
    "\n",
    "p2 = figure(x_range=text_labels, y_range=(0, 25),plot_width=600, plot_height=400)\n",
    "\n",
    "p2.vbar(x=text_labels, top=values , width=0.5, color = \"cyan\",legend_label=\"means\")\n",
    "\n",
    "\n",
    "\n",
    "\n",
    "grid = gridplot([[p1,p2]],sizing_mode=\"scale_both\",merge_tools=True)\n",
    "\n",
    "\n",
    "\n",
    "show(grid)\n",
    "\n",
    "\n",
    "\n"
   ]
  },
  {
   "cell_type": "markdown",
   "metadata": {},
   "source": [
    "<h2>Pie charts</h2>\n",
    "<span style=\"color:blue;font-size:large\">Breakdown of complaints by Borough</span>\n",
    "<li>We might be interested in seeing if there are differences in complaint percent across boroughs</li>\n",
    "<li>Let's make a set of 5 piecharts, one for each borough, that shows the relative number of complaints by agency</li>"
   ]
  },
  {
   "cell_type": "markdown",
   "metadata": {},
   "source": [
    "<li>roup the data by borough and then, within each borough, by agency, and get the size of each group</li>\n"
   ]
  },
  {
   "cell_type": "code",
   "execution_count": null,
   "metadata": {},
   "outputs": [],
   "source": [
    "df.groupby(['Borough','Agency']).size()"
   ]
  },
  {
   "cell_type": "markdown",
   "metadata": {},
   "source": [
    "<li>this gives us a series with a two-layered index</li>\n",
    "<li>the <a href=\"https://pandas.pydata.org/docs/reference/api/pandas.DataFrame.unstack.html\">unstack</a> function takes a two layered index and converts it into a dataframe</li>\n",
    "<li>the outer index is the index of the new dataframe</li>\n",
    "<li>the inner index becomes the columns of the new dataframe</li>\n",
    "<li>We need to remove the agencies with a NaN in the data (FDNY)</li>"
   ]
  },
  {
   "cell_type": "code",
   "execution_count": null,
   "metadata": {},
   "outputs": [],
   "source": [
    "df.groupby(['Borough','Agency']).size().unstack()"
   ]
  },
  {
   "cell_type": "code",
   "execution_count": null,
   "metadata": {},
   "outputs": [],
   "source": [
    "#dropna(axis=1) drops any column that has a nan in it\n",
    "size_df = df.groupby(['Borough','Agency']).size().unstack().dropna(axis=1)\n",
    "size_df"
   ]
  },
  {
   "cell_type": "markdown",
   "metadata": {},
   "source": [
    "<li>each row of the df will correspond to one piechart and we will have 5 piecharts in all</li>"
   ]
  },
  {
   "cell_type": "markdown",
   "metadata": {},
   "source": [
    "<br><br><br><br>\n",
    "<span style=\"color:blue;font-size:large\">The pie chart</span>\n",
    "<li>Drawing a piechart involves specifying each slice of the pie</li>\n",
    "<li>The <span style=\"color:blue\">color</span> of the slices is defined by importing a <a href=\"https://docs.bokeh.org/en/latest/docs/reference/palettes.html\">color palette</a></li>\n",
    "<li>We need to use a <a href=\"https://docs.bokeh.org/en/latest/docs/user_guide/data.html\">ColumnDataSource</a> object to store the data:</li>\n",
    "<ul>\n",
    "    <li>The data repository for a bokeh chart</li>\n",
    "    <li>Bokeh can directly reference named columns in this source</li>\n",
    "    <li>Think of it as a dedicated table that bokeh understands</li>\n",
    "</ul>\n",
    "<li><a href=\"https://docs.bokeh.org/en/latest/docs/user_guide/annotations.html\">LabelSet</a>: the set of labels that we want to display. For the piechart, these will be the fraction of cases that are associated with an agency</li>\n",
    "\n"
   ]
  },
  {
   "cell_type": "code",
   "execution_count": null,
   "metadata": {
    "scrolled": true
   },
   "outputs": [],
   "source": [
    "from math import pi #Need this - a pie chart is a circle\n",
    "import pandas as pd\n",
    "import numpy as np\n",
    "from bokeh.palettes import Category20c #The color palette\n",
    "from bokeh.models import LabelSet, ColumnDataSource\n",
    "from bokeh.transform import cumsum #a bokeh function that cumulatively sums the angle column in a column data source\n",
    "\n",
    "borough = \"BRONX\"\n",
    "\n",
    "#Create a dataframe with an Agency column and a value column for the borough\n",
    "data = size_df.loc[borough].reset_index(name='value')\n",
    "\n",
    "#We'll restrict the size of the string for Agencies. One Agency is way too long!\n",
    "data['Agency'] = data['Agency'].str.slice(0,8)\n",
    "\n",
    "#Calculate a percent column (the fraction of cases for each agency)\n",
    "data['pct'] = (data['value']/sum(data['value'])*100).round(2)\n",
    "\n",
    "#Calculate an angle column (the fraction of 360 degrees for each slice)\n",
    "#Note that data['pct'].sum() should be approx 100.0\n",
    "#The angle is calculated in radians. 360degrees = 2*pi (approx 6.28)\n",
    "data['angle'] = data['pct']/(data['pct'].sum()) * 2*pi\n",
    "\n",
    "#Specify the color palette\n",
    "#Category20c[len(data)] returns the necessary number of colors from the 20C palette\n",
    "data['color'] = Category20c[len(data)]\n",
    "\n",
    "#Define a figure object\n",
    "#tooltips maps to the ColumnDataSource object\n",
    "#We haven't created it yet but Agency will map to the Agency column and pct to the pct\n",
    "#And we'll see NYPD; 50.18 when we hover over the NYPD slice in the piechart\n",
    "p = figure(plot_height=500, title=\"Cases by Agency: \" + borough, \n",
    "        tools=\"hover\", tooltips=\"@Agency: @pct\",x_range=(-0.5, 1.0))\n",
    "\n",
    "#Add the definition of each wedge\n",
    "#Each wedge, starting with 0 degrees, will be at the sum of the angles upto that wedge\n",
    "\n",
    "p.wedge(x=0, y=1, radius=0.4, #x,y specifies the location of the center of the pie\n",
    "        start_angle=cumsum('angle', include_zero=True), end_angle=cumsum('angle'), #the start and end angle of each slice\n",
    "        line_color=\"white\", fill_color='color', legend_field='Agency', source=data) #source is our data (can be a df or a CDS)\n",
    "\n",
    "#Since there are way too many small slices, we'll only label slices with pct > 5\n",
    "data[\"label_vals\"] = np.where(data[\"pct\"]>=5,data[\"pct\"],0)                              \n",
    "data[\"label_vals\"]=data[\"label_vals\"].astype(str).str.pad(35, side = \"left\") #pad will move the labels out toward the circumference\n",
    "data[\"label_vals\"]=data[\"label_vals\"].apply(lambda x: \"\" if x.strip()==\"0.0\" else x)\n",
    "\n",
    "#LabelSet is the set of labels. Either a value or nothing\n",
    "labels = LabelSet(x=0, y=1, text='label_vals',\n",
    "        angle=cumsum('angle', include_zero=True), source=ColumnDataSource(data), render_mode='canvas')\n",
    "\n",
    "#Add the labels\n",
    "p.add_layout(labels)\n",
    "\n",
    "\n",
    "p.axis.axis_label=None #Piechart. No axes\n",
    "p.axis.visible=False #We don't want to see the axes\n",
    "p.grid.grid_line_color = None #If you want grid lines, specify a color\n",
    "\n",
    "#Show the chart\n",
    "show(p)\n",
    "\n"
   ]
  },
  {
   "cell_type": "markdown",
   "metadata": {},
   "source": [
    "<br><br><br><br>\n",
    "<span style=\"color:blue;font-size:large\">Grid plots in bokeh</span>\n",
    "<li>define each figure separately</li>\n",
    "<li>use gridplot to create a grid</li>\n",
    "<li>gridplot takes a matrix of plots as its input</li>"
   ]
  },
  {
   "cell_type": "markdown",
   "metadata": {},
   "source": [
    "<br><br><br><br>\n",
    "<span style=\"color:blue;font-size:large\">Piecharts for all boroughs in a grid</span>\n",
    "<li>pyplot has a \"grid\" feature</li>\n",
    "<li>create grid specifications</li>\n",
    "<li>add charts to each grid cell (they could be of different types)</li>\n",
    "<li>We'll write a function that creates a piechart for each borough</li>"
   ]
  },
  {
   "cell_type": "code",
   "execution_count": null,
   "metadata": {},
   "outputs": [],
   "source": [
    "def create_bokeh_pi(df,row):\n",
    "    from math import pi #Need this - a pie chart is a circle\n",
    "    import pandas as pd\n",
    "\n",
    "    from bokeh.palettes import Category20c #The color palette\n",
    "    from bokeh.models import LabelSet, ColumnDataSource\n",
    "    from bokeh.transform import cumsum #a bokeh function that cumulatively sums the angle column in a column data source\n",
    "    borough = row\n",
    "\n",
    "    #Create a dataframe with an Agency column and a value column for the borough\n",
    "    data = size_df.loc[borough].reset_index(name='value')\n",
    "\n",
    "    #We'll restrict the size of the string for Agencies. One Agency is way too long!\n",
    "    data['Agency'] = data['Agency'].str.slice(0,8)\n",
    "\n",
    "    #Calculate a percent column (the fraction of cases for each agency)\n",
    "    data['pct'] = (data['value']/sum(data['value'])*100).round(2)\n",
    "\n",
    "    #Calculate an angel column (the fraction of 360 degrees for each slice)\n",
    "    data['angle'] = data['pct']/(data['pct'].sum()) * 2*pi\n",
    "\n",
    "    #Specify the color palette\n",
    "    data['color'] = Category20c[len(data)]\n",
    "\n",
    "    #Define a figure object\n",
    "    p = figure(plot_height=350, title=\"Cases by Agency: \" + borough, \n",
    "            tools=\"hover\", tooltips=\"@Agency: @pct\",x_range=(-0.5, 1.0))\n",
    "\n",
    "    #Add the definition of each wedge\n",
    "    #Each wedge, starting with 0 degrees, will be at the sum of the angles upto that wedge\n",
    "\n",
    "    p.wedge(x=0, y=1, radius=0.4, #x,y specifies the location of the center of the pie\n",
    "            start_angle=cumsum('angle', include_zero=True), end_angle=cumsum('angle'), #the start and end angle of each slice\n",
    "            line_color=\"white\", fill_color='color', legend_field='Agency', source=data,) #source is our data (can be a df or a CDS)\n",
    "            \n",
    "    #Since there are way too many small slices, we'll only label slices with pct > 5\n",
    "    data[\"label_vals\"] = np.where(data[\"pct\"]>5,data[\"pct\"],0)                              \n",
    "    data[\"label_vals\"]=data[\"label_vals\"].astype(str).str.pad(20, side = \"left\") #pad will move the labels out toward the circumference\n",
    "    data[\"label_vals\"]=data[\"label_vals\"].apply(lambda x: \"\" if x.strip()==\"0.0\" else x)\n",
    "\n",
    "    #LabelSet is the set of labels. Either a value or nothing\n",
    "    labels = LabelSet(x=0, y=1, text='label_vals',\n",
    "            angle=cumsum('angle', include_zero=True), source=ColumnDataSource(data), render_mode='canvas')\n",
    "\n",
    "    #Add the labels\n",
    "    p.add_layout(labels)\n",
    "\n",
    "\n",
    "    p.axis.axis_label=None #Piechart. No axes\n",
    "    p.axis.visible=False #We don't want to see the axes\n",
    "    p.grid.grid_line_color = None #If you want grid lines, specify a color\n",
    "\n",
    "    #Show the chart\n",
    "    return p\n",
    "\n"
   ]
  },
  {
   "cell_type": "code",
   "execution_count": null,
   "metadata": {},
   "outputs": [],
   "source": [
    "plots=list()\n",
    "for borough in size_df.index:\n",
    "    plots.append(create_bokeh_pi(size_df,borough))\n",
    "grid = gridplot(plots,sizing_mode=\"scale_both\",merge_tools=True,ncols=2)\n",
    "show(grid)"
   ]
  },
  {
   "cell_type": "markdown",
   "metadata": {},
   "source": [
    "<br><br><br><br><br><br>\n",
    "<span style=\"color:green;font-size:60px\">Interactive charting</span>\n",
    "<br><br>"
   ]
  },
  {
   "cell_type": "markdown",
   "metadata": {},
   "source": [
    "<li>bokeh graphs are interactive</li>\n",
    "<li>passive interaction (the graph does not change with user input) (e.g., the piechart above)</li>\n",
    "<li>active interaction (the graph changes with user input)</li>"
   ]
  },
  {
   "cell_type": "markdown",
   "metadata": {},
   "source": [
    "<br><br><br><br>\n",
    "<span style=\"color:blue;font-size:x-large\">distribution of processing time</span>\n",
    "<li>We've looked at mean processing times over months and days</li>\n",
    "<li>Let's get a sense of the distribution of processing times</li>"
   ]
  },
  {
   "cell_type": "markdown",
   "metadata": {},
   "source": [
    "<br><br><br><br>\n",
    "<span style=\"color:blue;font-size:large\">Histogram of processing times</h2>\n",
    "<li>We'll only keep data for which the processing duration is greater than .5 and less than 1 day </li>\n",
    "<li>Why? No particular reason other than graph aesthetics!</li>\n",
    "<li>And divide the data into ten bins</li>\n",
    "<li>and use <a href=\"https://numpy.org/doc/stable/reference/generated/numpy.histogram.html\">np.histogram</a> to create the histogram</li>"
   ]
  },
  {
   "cell_type": "code",
   "execution_count": null,
   "metadata": {},
   "outputs": [],
   "source": [
    "#Load the data\n",
    "import pandas as pd\n",
    "import numpy as np\n",
    "df = pd.read_csv(\"../Modules/visualization libraries/nyc_311_clean.csv\",header=0)\n",
    "df['Created Date'] = pd.to_datetime(df[\"Created Date\"],format=\"%Y-%m-%d %H:%M:%S\")\n",
    "df['Closed Date'] = pd.to_datetime(df[\"Closed Date\"],format=\"%Y-%m-%d %H:%M:%S\")\n",
    "\n",
    "df.info()"
   ]
  },
  {
   "cell_type": "code",
   "execution_count": null,
   "metadata": {},
   "outputs": [],
   "source": [
    "import numpy as np\n",
    "import pandas as pd\n",
    "df2 = df[(df['processing_days']>0.5) & (df['processing_days']<1)]\n",
    "nbins=10\n",
    "histogram,boundaries = np.histogram(df2['processing_days'],bins=nbins)\n",
    "hist_df = pd.DataFrame({'cases': histogram, \n",
    "                       'left': boundaries[:-1]*24*60, \n",
    "                       'right': boundaries[1:]*24*60})"
   ]
  },
  {
   "cell_type": "code",
   "execution_count": null,
   "metadata": {},
   "outputs": [],
   "source": [
    "boundaries"
   ]
  },
  {
   "cell_type": "code",
   "execution_count": null,
   "metadata": {},
   "outputs": [],
   "source": [
    "histogram"
   ]
  },
  {
   "cell_type": "code",
   "execution_count": null,
   "metadata": {},
   "outputs": [],
   "source": [
    "hist_df"
   ]
  },
  {
   "cell_type": "markdown",
   "metadata": {},
   "source": [
    "<br><br><br>\n",
    "<span style=\"color:blue;font-size:x-large\">Creating an interactive bokeh bar chart</span>\n",
    "<li>We'll convert the dataframe into a ColumnDataSource object</li>\n",
    "<li>Create a <span style=\"color:blue\">tooltips</span> dictionary (for the data that will be shown when hovering)</li>\n",
    "<li>Center the bar chart to the median bar size</li>\n",
    "<li>Use a <a href=\"https://docs.bokeh.org/en/latest/docs/reference/models/glyphs/quad.html\">quad glyph</a> to construct each bar. Quad = Quadrilateral</li>"
   ]
  },
  {
   "cell_type": "code",
   "execution_count": null,
   "metadata": {},
   "outputs": [],
   "source": [
    "from bokeh.io import output_notebook, show\n",
    "from bokeh.plotting import figure\n",
    "from bokeh.models import ColumnDataSource\n",
    "\n",
    "output_notebook()"
   ]
  },
  {
   "cell_type": "code",
   "execution_count": null,
   "metadata": {},
   "outputs": [],
   "source": [
    "#Place the data into a ColumnDataSource object\n",
    "src = ColumnDataSource(hist_df)\n",
    "\n",
    "#create the tooltips \n",
    "#whatever you put in here will be shown when hovering\n",
    "#the @ tells bokeh to use data from the columns of the columndatasource\n",
    "#formatting goes in curly braces\n",
    "tooltips = [\n",
    "    (\"number of cases\", \"@cases\"),\n",
    "    (\"left (minutes)\", \"@left{s}\"),\n",
    "    (\"right (minutes)\", \"@right{s}\"),\n",
    "]\n",
    "\n",
    "\"\"\"\n",
    "tooltips = {\n",
    "    \"number of cases\": \"@cases\",\n",
    "    \"left (minutes)\": \"@left{s}\",\n",
    "    \"right (minutes)\": \"@right{s}\",\n",
    "}\n",
    "\"\"\"\n",
    "#get the median for centering the x-axis\n",
    "import statistics\n",
    "median = statistics.median(src.data['cases'])\n",
    "\n",
    "#Create the figure\n",
    "p = figure(plot_height = 600, plot_width = 600, \n",
    "           title = 'Histogram of cases by processing times',\n",
    "          x_axis_label = 'time buckets', \n",
    "           y_axis_label = 'number of cases',tooltips=tooltips)\n",
    "\n",
    "# Add a quad glyph (https://docs.bokeh.org/en/latest/docs/reference/models/glyphs/quad.html)\n",
    "#we'll use the source argument to attach the columndatasource to the chart\n",
    "r = p.quad(bottom=median, #location of the x-axis\n",
    "           top='cases',  #the data that will determine the height of the bar\n",
    "           left='left', #CDS column for the left value of the bar\n",
    "           right='right', #CDS column for the right value of the bar\n",
    "           source=src,  #The ColumnDataSource (CDS)\n",
    "           fill_color='red', \n",
    "           line_color='black',\n",
    "           fill_alpha = 0.95,\n",
    "           hover_fill_alpha = 1.0, \n",
    "           hover_fill_color = 'orange')\n",
    "\n",
    "\n",
    "\n",
    "# Show the plot\n",
    "show(p)"
   ]
  },
  {
   "cell_type": "code",
   "execution_count": null,
   "metadata": {},
   "outputs": [],
   "source": [
    "p,r"
   ]
  },
  {
   "cell_type": "markdown",
   "metadata": {},
   "source": [
    "<br><br><br>\n",
    "<span style=\"color:blue;font-size:x-large\">let's functionalize this</span>\n",
    "<li>the function will return p (the plot)</li>\n",
    "<li>and the \"glyphrenderer\" object</li>\n",
    "<li>the glyphrenderer contains the data used by p</li>\n",
    "<li>updating the data will result in the graph being updated which will be useful later</li>"
   ]
  },
  {
   "cell_type": "markdown",
   "metadata": {},
   "source": [
    "<br><br><br>\n",
    "<span style=\"color:green;font-size:xx-large\">Active interactions</span>\n",
    "<li>active interactions allow the user to delve into the data by selecting parameters</li>\n",
    "<li>example, the user may want to bin by Agency (or Borough)</li>\n",
    "<li>or select bin sizes rather than rely on our 500 minute window</li>\n",
    "<li>or select periods of time and see how the histogram changes</li>"
   ]
  },
  {
   "cell_type": "markdown",
   "metadata": {},
   "source": [
    "<li>In this example, we'll let the user:</li>\n",
    "<ol>\n",
    "    <li>select an agency from a list of agencies</li>\n",
    "    <li>show binned processing time only for that agency</li>\n",
    "</ol>\n",
    "<li>the graph will change with each change in agency selection</li>"
   ]
  },
  {
   "cell_type": "markdown",
   "metadata": {},
   "source": [
    "<br><br><br>\n",
    "<span style=\"color:blue;font-size:x-large\">JavaScript callbacks</span>\n",
    "<li>changes to a page in a browser are made using JavaScript</li>\n",
    "<li>we can include javascript widgets directly in the chart using bokeh's callback feature</li>\n",
    "<li>the complication is that we can't call python functions from javascript</li>\n",
    "<li>nor can we refer to a dataframe from JavaScript because there is no json equivalent</li>\n",
    "<li>ColumnDataSource objects are fine though because they can be converted into JSON objects and arrays</li>\n",
    "<li>And these json objects/arrays can be passed to a javascript function</li>"
   ]
  },
  {
   "cell_type": "markdown",
   "metadata": {},
   "source": [
    "<b>Note:</b> While JavaScript is a full fledged language in its own right, we'll just use enough to make our graph interactive while keeping the process simple!"
   ]
  },
  {
   "cell_type": "markdown",
   "metadata": {},
   "source": [
    "<br><br><br>\n",
    "<span style=\"color:blue;font-size:x-large\">columndatasource</span>\n",
    "<li>each user selection (agency/bin size) requires data in a columndatasource object</li>\n",
    "<li>so we need a function that creates this columndatasource given an agency and a bin size</li>\n"
   ]
  },
  {
   "cell_type": "markdown",
   "metadata": {},
   "source": [
    "<br><br><br>\n",
    "<span style=\"color:blue;font-size:x-large\">dataframe for columndatasource</span>\n",
    "<li>Create a dataframe that will be converted into a bokeh ColumnDataSource object</li>\n",
    "<li>Each row corresponds to a bucket of the histogram</li>\n",
    "<li>Columns correspond to agencies</li>\n",
    "<li>Plus two additional columns for the left and right bin values for each bin</li>"
   ]
  },
  {
   "cell_type": "code",
   "execution_count": null,
   "metadata": {},
   "outputs": [],
   "source": [
    "#Create a dataframe for conversion to ColumnDataSource\n",
    "#Upper and lower define the processing time bounds (aesthetic reasons!)\n",
    "\n",
    "def prepareDataForCDS(df,upper=1,lower=0.5,nbins=10):\n",
    "    df = df[(df['processing_days']<upper) & (df['processing_days']>lower)]\n",
    "    agencies = df['Agency'].unique()\n",
    "    \n",
    "    #get a common set of bins for all agencies\n",
    "\n",
    "    hist,bounds = np.histogram(df['processing_days'],bins=nbins)\n",
    "    left = bounds[:-1]\n",
    "    right = bounds[1:]\n",
    "    \n",
    "    #construct the initial dataframe with bin boundaries\n",
    "    #the index for this df is 0,1,..,nbins-1\n",
    "    #Initially, all it contains is columns for the left and right values\n",
    "    #We'll add each agency column to this data frame\n",
    "    final_df = pd.DataFrame({'left':left*24*60,'right':right*24*60})\n",
    "\n",
    "\n",
    "    #for each agency, compute the number of cases in each bin\n",
    "    #and concat this into final_df with the agency name as the column name\n",
    "    #note that the index will be 0,1,...,nbins-1 therefore concat will use indices\n",
    "    for agency in agencies:\n",
    "        #print(final_df.info())\n",
    "        a_df = df[df['Agency']==agency]\n",
    "        hist,bounds = np.histogram(a_df['processing_days'],bins=nbins)\n",
    "        hist_df = pd.DataFrame({agency: hist})\n",
    "        final_df = pd.concat([final_df,hist_df],axis=1)\n",
    "        \n",
    "    return final_df\n",
    "\n"
   ]
  },
  {
   "cell_type": "code",
   "execution_count": null,
   "metadata": {},
   "outputs": [],
   "source": [
    "prepareDataForCDS(df,upper=1,lower=0.5,nbins=10)"
   ]
  },
  {
   "cell_type": "markdown",
   "metadata": {},
   "source": [
    "<br><br><br>\n",
    "<span style=\"color:blue;font-size:x-large\">Interactivity</span>\n",
    "<li>Requires a dropdown box to get the user selection</li>\n",
    "<li>Requires JavaScript code to change the underlying data when the user selects a new agency</li>\n",
    "<li>The way this works is as follows:</li>\n",
    "<ul>\n",
    "    <li>Specify a column that contains the data to be displayed</li>\n",
    "    <li>display this column</li>\n",
    "    <li>when the user selects a new column, copy the contents of the new column into the display column</li>\n",
    "    <li>and tell the graph to reflect the changed values</li>\n",
    "</ul>\n",
    "<li>We'll add a new column <span style=\"color:blue\">display</span> for storing data to be displayed</li>\n",
    "<li>We'll use the <span style=\"color:green\">dropdown</span> widget to display the selectable list of agencies. Many more <a href=\"https://docs.bokeh.org/en/latest/docs/user_guide/interaction/widgets.html\">widgets are available</a></li>"
   ]
  },
  {
   "cell_type": "code",
   "execution_count": null,
   "metadata": {
    "scrolled": true
   },
   "outputs": [],
   "source": [
    "#row will allow placing the graph and the widget side by side\n",
    "from bokeh.layouts import row\n",
    "\n",
    "#import the dropdown widget along with CustomJS, bokeh's JavaScript library\n",
    "from bokeh.models import CustomJS, ColumnDataSource, Dropdown\n",
    "\n",
    "list_of_agencies=df['Agency'].unique()\n",
    "\n",
    "#Get the dataframe\n",
    "interactive_df = prepareDataForCDS(df)\n",
    "\n",
    "#add a new column to the object called 'display'\n",
    "#when the user selects a new agency, we'll copy that agency's data into this column\n",
    "#the histogram will display whatever is in this column\n",
    "\n",
    "#Arbitrarly pick an agency and copy it into this column\n",
    "\n",
    "interactive_df['display'] = interactive_df['DOT']\n",
    "\n",
    "#create a ColumnDataSource object.\n",
    "#This is the source for the graph\n",
    "source = ColumnDataSource(interactive_df)\n",
    "\n",
    "#construct the graph (but don't \"show\" it)\n",
    "#note that the display column is \"display\" not \"cases\" as before\n",
    "\n",
    "tooltips = [\n",
    "    (\"number of cases\", \"@display\"),\n",
    "    (\"left (minutes)\", \"@left{s}\"),\n",
    "    (\"right (minutes)\", \"@right{s}\"),\n",
    "]\n",
    "    \n",
    "p = figure(plot_height = 300, plot_width = 600, \n",
    "           title = 'Histogram of cases by processing times',\n",
    "          x_axis_label = 'time buckets', \n",
    "           y_axis_label = 'number of cases',tooltips=tooltips)\n",
    "\n",
    "p.quad(bottom=0,\n",
    "       top='display', left='left', right='right',source=source,\n",
    "       fill_color='red', line_color='black',fill_alpha = 0.75,\n",
    "       hover_fill_alpha = 1.0, hover_fill_color = 'navy')\n",
    "\n",
    "#Create a javascript callback as a call to CustomJS\n",
    "#arguments are the data (the source)\n",
    "#and a string containing the JavaScript code\n",
    "\n",
    "#this.item is the selected value (returned by the dropdown widget)\n",
    "#\"this\" is a javascript identifier that self identifies an object (the dropdown widget)\n",
    "#'item' is the value selected in the dropdown\n",
    "#Note that different widgets may use this.value or this.some_other_name for a widget value\n",
    "#create a variable that holds the data in source\n",
    "#replace the display column in the data by the column for the selected agency\n",
    "#register the change (emit it!)\n",
    "jscallback = CustomJS(args={'srce':source},code=\"\"\"\n",
    "        // widget. this.item is the selected value\n",
    "        // We can print it on the JavaScript console\n",
    "        // Chrome windows/linux: Ctrl - Shift - J\n",
    "        // Chrome mac: Cmd - Option - J\n",
    "        // Safari: Option - Cmd - C\n",
    "        \n",
    "        //console.log logs (prints) in the JavaScript console\n",
    "        console.log(' changed selected option', this.item);\n",
    "\n",
    "        //data is the variable containing all the data\n",
    "        //source was passed in as an argument\n",
    "        var data = srce.data;\n",
    "\n",
    "        // allocate the selected column to the field for the y values\n",
    "        data['display'] = data[this.item];\n",
    "\n",
    "        // register the change \n",
    "        srce.change.emit();\n",
    "\"\"\")\n",
    "\n",
    "#Create the dropdown widget\n",
    "#the widget contains a menu in the form of a list of tuples\n",
    "#(long name, value to be returned)\n",
    "#the widget has a callback argument. Use the jscallback as the value of this argument\n",
    "\n",
    "menu = [(\"Agency \" + x,x) for x in list_of_agencies]\n",
    "\n",
    "dropdown = Dropdown(label=\"select agency\", button_type=\"primary\", menu=menu)\n",
    "\n",
    "#Note that jscallback must be defined before the button!\n",
    "dropdown.js_on_event(\"menu_item_click\", jscallback)\n",
    "\n",
    "#construct a row object containing the plot and the widget\n",
    "layout = row(p,dropdown)\n",
    "\n",
    "#show it!\n",
    "show(layout)\n",
    "\n",
    "\n",
    "\n"
   ]
  },
  {
   "cell_type": "code",
   "execution_count": null,
   "metadata": {},
   "outputs": [],
   "source": []
  }
 ],
 "metadata": {
  "kernelspec": {
   "display_name": "Python 3 (ipykernel)",
   "language": "python",
   "name": "python3"
  },
  "language_info": {
   "codemirror_mode": {
    "name": "ipython",
    "version": 3
   },
   "file_extension": ".py",
   "mimetype": "text/x-python",
   "name": "python",
   "nbconvert_exporter": "python",
   "pygments_lexer": "ipython3",
   "version": "3.9.7"
  },
  "toc": {
   "base_numbering": 1,
   "nav_menu": {},
   "number_sections": true,
   "sideBar": true,
   "skip_h1_title": false,
   "title_cell": "Table of Contents",
   "title_sidebar": "Contents",
   "toc_cell": false,
   "toc_position": {},
   "toc_section_display": true,
   "toc_window_display": false
  }
 },
 "nbformat": 4,
 "nbformat_minor": 2
}
