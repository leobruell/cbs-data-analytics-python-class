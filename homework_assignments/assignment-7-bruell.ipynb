{
 "cells": [
  {
   "cell_type": "markdown",
   "metadata": {},
   "source": [
    "<h1 style=\"color:red;\">Credit rating assignment</h1>\n",
    "<p></p>\n",
    "In this assignment, we'll work our way through a simple ML exercise. Machine learning is an iterative process that starts with feature engineering (making the features ready for ML), works it way through various models and hyperparameter tuning exercises, until we find a model that seems to work well for us. "
   ]
  },
  {
   "attachments": {},
   "cell_type": "markdown",
   "metadata": {},
   "source": [
    "<h3 style=\"color:green;\">The problem: Rating creditworthiness of loan applicants</h3>\n",
    "\n",
    "When banks issue loans to individuals, they have two goals that conflict with each other:\n",
    "<ol>\n",
    "    <li>Give as many loans as possible (fees, interest, all add to revenue)</li>\n",
    "    <li>Try not to give loans to individuals who won't pay it back (lose money on the loan, collection costs, etc.)</li>\n",
    "</ol>\n",
    "    \n",
    "<li>A typical machine learning program in this space tries to find a suitable tradeoff between finding many good loans and not calling a bad loan good</li>\n",
    "\n",
    "<li>In this assignment, we'll try to build a \"good\" model that finds a good tradeoff between these two objectives</li>\n",
    "\n",
    "<li>In machine learning terms, the proportion of times we get our guess right (i.e., we call a bad loan a bad loan and a good loan a good loan divided by the total number of cases) is called <span style=\"color:blue\">accuracy</span></li>\n",
    "\n",
    "<li>The proportion of actual good loans that we identify as good loans is known as <span style=\"color:blue\">recall</span></li>\n",
    "\n",
    "<li>The probability that if a loan is called good it actually is good is called <span style=\"color:blue\">precision</span></li>\n",
    "\n",
    "<li>The precision recall tradeoff is measured through a score called <span style=\"color:blue\">f1 score</span></li>\n",
    "\n",
    "<li>An important part of running an ML model is trying to figure out \"which metric is right for you\"</li>\n",
    "\n",
    "\n",
    "    \n",
    "    \n",
    "<ol>\n",
    "    <li>We'll try the SGD classifier, tune hyperparameters using grid search, and examine the results</li>\n",
    "    <li>then, set up the data for a random forest classifier, run a grid search, and examine the results</li>\n",
    "        <li>finally, run a couple of gradient booster models</li>\n",
    "    <li>draw precision recall curves and roc curves for the two classifiers and compare the results</li>\n",
    "    <li>note that grid search is a computing intensive activity. I've simplified the search to a few options but even those can take a long while (less than 15 minutes on my laptop but could be a couple of hours if you have an older machine)</li>\n",
    "</ol>"
   ]
  },
  {
   "cell_type": "markdown",
   "metadata": {},
   "source": [
    "<h3 style=\"color:green;\">The models</h3>\n",
    "<p></p>\n",
    "<li><b>Model 1 SGD Classifier</b>: Vanilla version with max_iter set to 1000</li>\n",
    "<li><b>Model 2 SGD Classifier round 2</b>: SGD Classifier with positive cases assigned a higher weight. One issue with our data is that positive cases are vastly outnumbered by negative cases (in other words, a model that says all cases are negative will have a pretty good accuracy). By overweighting positive cases in our model, we increase the efficacy of the model in finding an actual good solution</li>\n",
    "<li><b>Model 3 SGD Classifier round 3</b>: Best SGD Classifier model after grid search</li>\n",
    "<li><b>Model 4 Random Forest Classifier round 1</b>: Random Forest Classifier with base parameters (see below)</li>\n",
    "<li><b>Model 5 Random Forest Classifier round 2</b>: Best model from grid search</li>\n",
    "<li><b>Model 6 Gradient Booster Classfier</b></li>\n",
    "<li><b>Model 7 Gradient Booster Classifier (2nd model)</b></li>"
   ]
  },
  {
   "cell_type": "code",
   "execution_count": null,
   "metadata": {},
   "outputs": [],
   "source": []
  },
  {
   "cell_type": "markdown",
   "metadata": {},
   "source": [
    "For each model, collect model metrics in the following dataframe results_df. After each model run, replace the 0.0 with the appropriate metric value\n"
   ]
  },
  {
   "cell_type": "code",
   "execution_count": 1,
   "metadata": {},
   "outputs": [
    {
     "data": {
      "text/html": [
       "<div>\n",
       "<style scoped>\n",
       "    .dataframe tbody tr th:only-of-type {\n",
       "        vertical-align: middle;\n",
       "    }\n",
       "\n",
       "    .dataframe tbody tr th {\n",
       "        vertical-align: top;\n",
       "    }\n",
       "\n",
       "    .dataframe thead th {\n",
       "        text-align: right;\n",
       "    }\n",
       "</style>\n",
       "<table border=\"1\" class=\"dataframe\">\n",
       "  <thead>\n",
       "    <tr style=\"text-align: right;\">\n",
       "      <th></th>\n",
       "      <th>accuracy</th>\n",
       "      <th>precision</th>\n",
       "      <th>recall</th>\n",
       "      <th>f1_score</th>\n",
       "      <th>AUC</th>\n",
       "      <th>AP</th>\n",
       "    </tr>\n",
       "    <tr>\n",
       "      <th>Model</th>\n",
       "      <th></th>\n",
       "      <th></th>\n",
       "      <th></th>\n",
       "      <th></th>\n",
       "      <th></th>\n",
       "      <th></th>\n",
       "    </tr>\n",
       "  </thead>\n",
       "  <tbody>\n",
       "    <tr>\n",
       "      <th>1</th>\n",
       "      <td>0.0</td>\n",
       "      <td>0.0</td>\n",
       "      <td>0.0</td>\n",
       "      <td>0.0</td>\n",
       "      <td>0.0</td>\n",
       "      <td>0.0</td>\n",
       "    </tr>\n",
       "    <tr>\n",
       "      <th>2</th>\n",
       "      <td>0.0</td>\n",
       "      <td>0.0</td>\n",
       "      <td>0.0</td>\n",
       "      <td>0.0</td>\n",
       "      <td>0.0</td>\n",
       "      <td>0.0</td>\n",
       "    </tr>\n",
       "    <tr>\n",
       "      <th>3</th>\n",
       "      <td>0.0</td>\n",
       "      <td>0.0</td>\n",
       "      <td>0.0</td>\n",
       "      <td>0.0</td>\n",
       "      <td>0.0</td>\n",
       "      <td>0.0</td>\n",
       "    </tr>\n",
       "    <tr>\n",
       "      <th>4</th>\n",
       "      <td>0.0</td>\n",
       "      <td>0.0</td>\n",
       "      <td>0.0</td>\n",
       "      <td>0.0</td>\n",
       "      <td>0.0</td>\n",
       "      <td>0.0</td>\n",
       "    </tr>\n",
       "    <tr>\n",
       "      <th>5</th>\n",
       "      <td>0.0</td>\n",
       "      <td>0.0</td>\n",
       "      <td>0.0</td>\n",
       "      <td>0.0</td>\n",
       "      <td>0.0</td>\n",
       "      <td>0.0</td>\n",
       "    </tr>\n",
       "    <tr>\n",
       "      <th>6</th>\n",
       "      <td>0.0</td>\n",
       "      <td>0.0</td>\n",
       "      <td>0.0</td>\n",
       "      <td>0.0</td>\n",
       "      <td>0.0</td>\n",
       "      <td>0.0</td>\n",
       "    </tr>\n",
       "    <tr>\n",
       "      <th>7</th>\n",
       "      <td>0.0</td>\n",
       "      <td>0.0</td>\n",
       "      <td>0.0</td>\n",
       "      <td>0.0</td>\n",
       "      <td>0.0</td>\n",
       "      <td>0.0</td>\n",
       "    </tr>\n",
       "  </tbody>\n",
       "</table>\n",
       "</div>"
      ],
      "text/plain": [
       "       accuracy  precision  recall  f1_score  AUC   AP\n",
       "Model                                                 \n",
       "1           0.0        0.0     0.0       0.0  0.0  0.0\n",
       "2           0.0        0.0     0.0       0.0  0.0  0.0\n",
       "3           0.0        0.0     0.0       0.0  0.0  0.0\n",
       "4           0.0        0.0     0.0       0.0  0.0  0.0\n",
       "5           0.0        0.0     0.0       0.0  0.0  0.0\n",
       "6           0.0        0.0     0.0       0.0  0.0  0.0\n",
       "7           0.0        0.0     0.0       0.0  0.0  0.0"
      ]
     },
     "execution_count": 1,
     "metadata": {},
     "output_type": "execute_result"
    }
   ],
   "source": [
    "import pandas as pd\n",
    "import numpy as np\n",
    "results_df = pd.DataFrame(np.zeros(shape=(7,6)))\n",
    "results_df.index=[1,2,3,4,5,6,7]\n",
    "results_df.columns = [\"accuracy\",\"precision\",\"recall\",\"f1_score\",\"AUC\",\"AP\"]\n",
    "results_df.index.rename(\"Model\",inplace=True)\n",
    "results_df"
   ]
  },
  {
   "cell_type": "markdown",
   "metadata": {},
   "source": [
    "<h3 style=\"color:green;\">The data</h3>\n",
    "<p></p>\n",
    "<li>A curated extract from the popular Lending club loan data. The data is in the file loan_data_small.csv</li>\n",
    "<li>The dataset contains information about loan applications. Very basic information about the applicant and the status of the loan</li>\n",
    "<li>The goal of the ML exercise is to build a model that uses information about the loan to predict whether a loan is a \"good\" one (i.e., it will be paid back) or a \"bad\" one (the money is unrecoverable)</li>\n",
    "<li>Note that we're only using a fraction of the data. If you're interested, I can share the curated extract on a larger fraction which gives better results (but can crash your machine!)</li>"
   ]
  },
  {
   "cell_type": "markdown",
   "metadata": {},
   "source": [
    "<h1 style=\"color:red;font-size:xx-large\">Data preparation and feature engineering</h1>\n"
   ]
  },
  {
   "cell_type": "markdown",
   "metadata": {},
   "source": [
    "<h3 style=\"color:green;\">Build a binary target</h3>\n",
    "\n",
    "<li>For the purposes of this analysis, drop rows that contain any NaN values</li>\n",
    "<li><b>Target</b>: For the classifier, classify any loans that have a loan_status value of \"Charged Off\",\"Default\", or \"Does not meet the credit policy. Status:Charged Off\" as a bad loan and give these loans a target value of 1 (we're predicting bad loans)</li>\n",
    "<li><b>Input features</b>: create the input feature dataframe (i.e., drop any columns that are not an independent variable). The input variables we're interested in are \"int_rate\", \"grade\", \"home_ownership\",\"annual_income\", \"loan_amt\", and \"purpose\"</li>\n",
    "<p></p>\n",
    "<li>The data should look like:</li>\n",
    "<pre>\n",
    "<class 'pandas.core.frame.DataFrame'>\n",
    "RangeIndex: 565167 entries, 0 to 565166\n",
    "Data columns (total 7 columns):\n",
    " #   Column          Non-Null Count   Dtype  \n",
    "---  ------          --------------   -----  \n",
    " 0   Unnamed: 0.1    565167 non-null  int64  \n",
    " 1   int_rate        565167 non-null  float64\n",
    " 2   grade           565167 non-null  object \n",
    " 3   home_ownership  565167 non-null  object \n",
    " 4   annual_inc      565167 non-null  float64\n",
    " 5   loan_amnt       565167 non-null  int64  \n",
    " 6   purpose         565167 non-null  object \n",
    "dtypes: float64(2), int64(2), object(3)\n",
    "memory usage: 30.2+ MB\n",
    "Out[108]:\n",
    "0         False\n",
    "1          True\n",
    "2         False\n",
    "3         False\n",
    "4          True\n",
    "          ...  \n",
    "565162    False\n",
    "565163    False\n",
    "565164    False\n",
    "565165     True\n",
    "565166    False\n",
    "Name: loan_status, Length: 565167, dtype: bool\n",
    "\n",
    "</pre>"
   ]
  },
  {
   "cell_type": "code",
   "execution_count": 3,
   "metadata": {},
   "outputs": [
    {
     "name": "stdout",
     "output_type": "stream",
     "text": [
      "<class 'pandas.core.frame.DataFrame'>\n",
      "RangeIndex: 565167 entries, 0 to 565166\n",
      "Data columns (total 7 columns):\n",
      " #   Column          Non-Null Count   Dtype  \n",
      "---  ------          --------------   -----  \n",
      " 0   Unnamed: 0.1    565167 non-null  int64  \n",
      " 1   int_rate        565167 non-null  float64\n",
      " 2   grade           565167 non-null  object \n",
      " 3   home_ownership  565167 non-null  object \n",
      " 4   annual_inc      565167 non-null  float64\n",
      " 5   loan_amnt       565167 non-null  int64  \n",
      " 6   purpose         565167 non-null  object \n",
      "dtypes: float64(2), int64(2), object(3)\n",
      "memory usage: 30.2+ MB\n"
     ]
    },
    {
     "data": {
      "text/plain": [
       "0         False\n",
       "1          True\n",
       "2         False\n",
       "3         False\n",
       "4          True\n",
       "          ...  \n",
       "565162    False\n",
       "565163    False\n",
       "565164    False\n",
       "565165     True\n",
       "565166    False\n",
       "Name: loan_status, Length: 565167, dtype: bool"
      ]
     },
     "execution_count": 3,
     "metadata": {},
     "output_type": "execute_result"
    }
   ],
   "source": [
    "#read the file\n",
    "import pandas as pd\n",
    "import numpy as np\n",
    "import matplotlib.pyplot as plt\n",
    "df = pd.read_csv(\"../class-datasets/loan_data_small.csv\")\n",
    "\n",
    "#Drop rows with NaN values\n",
    "df = df.dropna()\n",
    "\n",
    "\n",
    "\n",
    "#Prepare the y (target) variable\n",
    "#The target variable should be 1 if loan_status is \"Charged Off\",\"Default\", or \"Does not meet the credit policy. Status:Charged Off\"\n",
    "#And 0 otherwise\n",
    "#(Hint: Create a boolean mask series)\n",
    "\n",
    "y = (df.loan_status == \"Charged Off\") | (df.loan_status == \"Default\") | (df.loan_status == \"Does not meet the credit policy. Status:Charged Off\")\n",
    "\n",
    "#remove unwanted input features \"Unnamed: 0\" and \"loan_status\"\n",
    "df = df.drop(['Unnamed: 0', 'loan_status'], axis=1)\n",
    "\n",
    "#Examine the df and the target\n",
    "df.info()\n",
    "\n",
    "y"
   ]
  },
  {
   "cell_type": "code",
   "execution_count": 4,
   "metadata": {},
   "outputs": [
    {
     "data": {
      "text/html": [
       "<div>\n",
       "<style scoped>\n",
       "    .dataframe tbody tr th:only-of-type {\n",
       "        vertical-align: middle;\n",
       "    }\n",
       "\n",
       "    .dataframe tbody tr th {\n",
       "        vertical-align: top;\n",
       "    }\n",
       "\n",
       "    .dataframe thead th {\n",
       "        text-align: right;\n",
       "    }\n",
       "</style>\n",
       "<table border=\"1\" class=\"dataframe\">\n",
       "  <thead>\n",
       "    <tr style=\"text-align: right;\">\n",
       "      <th></th>\n",
       "      <th>Unnamed: 0.1</th>\n",
       "      <th>int_rate</th>\n",
       "      <th>grade</th>\n",
       "      <th>home_ownership</th>\n",
       "      <th>annual_inc</th>\n",
       "      <th>loan_amnt</th>\n",
       "      <th>purpose</th>\n",
       "    </tr>\n",
       "  </thead>\n",
       "  <tbody>\n",
       "    <tr>\n",
       "      <th>0</th>\n",
       "      <td>1131156</td>\n",
       "      <td>15.61</td>\n",
       "      <td>D</td>\n",
       "      <td>OWN</td>\n",
       "      <td>20000.0</td>\n",
       "      <td>9200</td>\n",
       "      <td>debt_consolidation</td>\n",
       "    </tr>\n",
       "    <tr>\n",
       "      <th>1</th>\n",
       "      <td>1526956</td>\n",
       "      <td>12.62</td>\n",
       "      <td>C</td>\n",
       "      <td>OWN</td>\n",
       "      <td>35000.0</td>\n",
       "      <td>6000</td>\n",
       "      <td>car</td>\n",
       "    </tr>\n",
       "    <tr>\n",
       "      <th>2</th>\n",
       "      <td>150283</td>\n",
       "      <td>14.47</td>\n",
       "      <td>C</td>\n",
       "      <td>RENT</td>\n",
       "      <td>75000.0</td>\n",
       "      <td>11000</td>\n",
       "      <td>other</td>\n",
       "    </tr>\n",
       "    <tr>\n",
       "      <th>3</th>\n",
       "      <td>1480461</td>\n",
       "      <td>11.99</td>\n",
       "      <td>B</td>\n",
       "      <td>RENT</td>\n",
       "      <td>45000.0</td>\n",
       "      <td>8500</td>\n",
       "      <td>other</td>\n",
       "    </tr>\n",
       "    <tr>\n",
       "      <th>4</th>\n",
       "      <td>2188054</td>\n",
       "      <td>21.45</td>\n",
       "      <td>D</td>\n",
       "      <td>MORTGAGE</td>\n",
       "      <td>55000.0</td>\n",
       "      <td>20000</td>\n",
       "      <td>debt_consolidation</td>\n",
       "    </tr>\n",
       "  </tbody>\n",
       "</table>\n",
       "</div>"
      ],
      "text/plain": [
       "   Unnamed: 0.1  int_rate grade home_ownership  annual_inc  loan_amnt  \\\n",
       "0       1131156     15.61     D            OWN     20000.0       9200   \n",
       "1       1526956     12.62     C            OWN     35000.0       6000   \n",
       "2        150283     14.47     C           RENT     75000.0      11000   \n",
       "3       1480461     11.99     B           RENT     45000.0       8500   \n",
       "4       2188054     21.45     D       MORTGAGE     55000.0      20000   \n",
       "\n",
       "              purpose  \n",
       "0  debt_consolidation  \n",
       "1                 car  \n",
       "2               other  \n",
       "3               other  \n",
       "4  debt_consolidation  "
      ]
     },
     "execution_count": 4,
     "metadata": {},
     "output_type": "execute_result"
    }
   ],
   "source": [
    "df.head()"
   ]
  },
  {
   "cell_type": "markdown",
   "metadata": {},
   "source": [
    "<h3 style=\"color:green;\">Label Encoding</h3>\n",
    "<li>Since we're using regression as our underlying algorithm, all values need to be numerical. ML Models generally deal with numerical data</li>\n",
    "<li>But, <span style=\"color:blue\">grade</span>, <span style=\"color:blue\">purpose</span>, and <span style=\"color:blue\">home_ownership</span> are not</li>\n",
    "</li>\n",
    "<li>sklearn's <a href=\"https://scikit-learn.org/stable/modules/generated/sklearn.preprocessing.LabelEncoder.html\">LabelEncoder</a> assigns numerical values to categorical data</li>\n",
    "<li>LabelEncoder replaces each categorical string value with an integer - 0, 1, 2, ...</li>\n",
    "<li>After label encoding, df.info() should return:</li>\n",
    "<pre>\n",
    "<class 'pandas.core.frame.DataFrame'>\n",
    "RangeIndex: 565167 entries, 0 to 565166\n",
    "Data columns (total 7 columns):\n",
    " #   Column          Non-Null Count   Dtype  \n",
    "---  ------          --------------   -----  \n",
    " 0   Unnamed: 0.1    565167 non-null  int64  \n",
    " 1   int_rate        565167 non-null  float64\n",
    " 2   grade           565167 non-null  int64  \n",
    " 3   home_ownership  565167 non-null  int64  \n",
    " 4   annual_inc      565167 non-null  float64\n",
    " 5   loan_amnt       565167 non-null  int64  \n",
    " 6   purpose         565167 non-null  int64  \n",
    "dtypes: float64(2), int64(5)\n",
    "memory usage: 30.2 MB\n",
    "</pre>"
   ]
  },
  {
   "cell_type": "code",
   "execution_count": 5,
   "metadata": {},
   "outputs": [],
   "source": [
    "#replace grade, purpose, and home_ownership by label encoded versions\n",
    "\n",
    "\n",
    "from sklearn.preprocessing import LabelEncoder\n",
    "df.grade = LabelEncoder().fit_transform(df.grade)\n",
    "df.purpose = LabelEncoder().fit_transform(df.purpose)\n",
    "df.home_ownership = LabelEncoder().fit_transform(df.home_ownership)\n",
    "\n"
   ]
  },
  {
   "cell_type": "markdown",
   "metadata": {},
   "source": [
    "<h3 style=\"color:green;\">One-hot encoding</h3>\n",
    "\n",
    "<p></p>\n",
    "<li>In regression, the assumption is that values associated with a feature are ordered</li>\n",
    "<li>But, this is not necessarily so for the label encoded categorical values</li>\n",
    "<li>The way to deal with this in regression is to create dummy variables, one for each category, that take the value 1 if the category is present in the row and 0 otherwise</li>\n",
    "<li>In ML, a procedure known as <a href=\"https://en.wikipedia.org/wiki/One-hot\">one-hot encoding</a> is used to do this conversion</li>\n",
    "<li>One hot encoding is the process of converting a single column of categorical (integer) data with k categories into k-1 columns of 0 or 1 values</li>\n",
    "<li>for example, the array with three possible categories [1,2,3,2,1] will be converted into the matrix:</li>\n",
    "\n",
    "$$\\begin{bmatrix} 0 & 0 \\\\ 1 & 0 \\\\ 0 & 1 \\\\ 1 & 0 \\\\ 0 & 0 \\end{bmatrix}$$\n",
    "\n",
    "<li>1's are replaced by (0, 0); 2's by (1, 0); and 3's by (0, 1). Note that category 1 is implicitly coded</li>\n",
    "<li><b>Documentation</b>: <a href=\"https://scikit-learn.org/stable/modules/generated/sklearn.preprocessing.OneHotEncoder.html\">https://scikit-learn.org/stable/modules/generated/sklearn.preprocessing.OneHotEncoder.html</a>"
   ]
  },
  {
   "cell_type": "markdown",
   "metadata": {},
   "source": [
    "<h3 style=\"color:green;\">Scaling</h3>\n",
    "\n",
    "<p></p>\n",
    "<li>Non-categorical independent variables need to be scaled so that they follow the same underlying distribution</li>\n",
    "<li>We will normalize them so that the mean is 0 and standard deviation is 1 using sklearn's StandardScaler feature transformer</li>\n",
    "<li><a href=\"https://scikit-learn.org/stable/modules/generated/sklearn.preprocessing.StandardScaler.html\">https://scikit-learn.org/stable/modules/generated/sklearn.preprocessing.StandardScaler.html</a></li>"
   ]
  },
  {
   "cell_type": "markdown",
   "metadata": {},
   "source": [
    "<li>All feature transformations can be encapsulated in the sklearn <a href=\"https://scikit-learn.org/stable/modules/generated/sklearn.compose.make_column_transformer.html\">make_column_transformer</a> object</li>\n",
    "<li>Use <span style=\"color:blue\">make_column_transformer</span> to encapsulate both the one-hot coding as well as standard scaling. Note that the one-hot encoded columns are not scaled!</li>"
   ]
  },
  {
   "cell_type": "code",
   "execution_count": 6,
   "metadata": {},
   "outputs": [
    {
     "data": {
      "text/plain": [
       "(565167, 26)"
      ]
     },
     "execution_count": 6,
     "metadata": {},
     "output_type": "execute_result"
    }
   ],
   "source": [
    "\n",
    "from sklearn.preprocessing import StandardScaler, OneHotEncoder\n",
    "from sklearn.compose import ColumnTransformer, make_column_transformer\n",
    "\n",
    "#Make a column transformer object that scales (using StandardScaler) the two non-categorical columns\n",
    "# and one hot encodes (using OneHotEncoder) the three categorical columns\n",
    "# Using make_column_transformer \n",
    "preprocess = make_column_transformer(\n",
    "    (StandardScaler(),['int_rate', 'annual_inc'], ),\n",
    "    (OneHotEncoder(categories=\"auto\",drop=\"first\"),['grade', 'home_ownership','purpose'], )\n",
    ")\n",
    "\n",
    "#Generate the independent variable df\n",
    "X = preprocess.fit_transform(df)\n",
    "X.shape\n",
    "#Should return (565167, 26)"
   ]
  },
  {
   "cell_type": "markdown",
   "metadata": {},
   "source": [
    "<h3 style=\"color:green;\">Train/Test split</h3>\n",
    "\n",
    "<li><a href=\"https://scikit-learn.org/stable/modules/generated/sklearn.model_selection.train_test_split.html\">https://scikit-learn.org/stable/modules/generated/sklearn.model_selection.train_test_split.html</a></li>\n",
    "<li>split the data into 70% training and 30% testing</li>\n",
    "<li>make sure the x and y datasets are aligned</li>\n",
    "<li>use random_state=42 to get the same split as in my code </li>\n",
    "<li>x and y training data shapes: (395616, 26) (395616,)</li>\n",
    "<li>x and y testing data shapes: (169551, 26) (169551,)</li>"
   ]
  },
  {
   "cell_type": "code",
   "execution_count": 7,
   "metadata": {},
   "outputs": [
    {
     "name": "stdout",
     "output_type": "stream",
     "text": [
      "(395616, 26) (395616,)\n",
      "(169551, 26) (169551,)\n"
     ]
    },
    {
     "data": {
      "text/plain": [
       "'\\nShould return:\\n(395616, 26) (395616,)\\n(169551, 26) (169551,)\\n'"
      ]
     },
     "execution_count": 7,
     "metadata": {},
     "output_type": "execute_result"
    }
   ],
   "source": [
    "from sklearn.model_selection import train_test_split\n",
    "#Get x_train, x_test, y_train, y_test\n",
    "x_train, x_test, y_train, y_test = train_test_split(X, y, test_size=.3, random_state=42)\n",
    "\n",
    "#And check the shape\n",
    "print(x_train.shape,y_train.shape)\n",
    "print(x_test.shape,y_test.shape)\n",
    "\n",
    "\"\"\"\n",
    "Should return:\n",
    "(395616, 26) (395616,)\n",
    "(169551, 26) (169551,)\n",
    "\"\"\""
   ]
  },
  {
   "cell_type": "markdown",
   "metadata": {},
   "source": [
    "<h1 style=\"color:green\">The models</h1>\n",
    "<li>For each model, do the following</li>\n",
    "<ol>\n",
    "    <li>Fit a classifier to the training data</li>\n",
    "    <li>calculate the metrics</li>\n",
    "    <ul>\n",
    "        <li>training accuracy</li>\n",
    "        <li>testing accuracy</li>\n",
    "        <li>precision on test dataset</li>\n",
    "        <li>recall on test dataset</li>\n",
    "        <li>f1 score on test dataset</li>\n",
    "        <li>area under the curve on test dataset</li>\n",
    "        <li>average precision on the test dataset</li>\n",
    "    </ul>\n",
    "    <li>Write up a brief (pointwise) interpretation of the results\n",
    "</ol>\n",
    "<li>Chart the various metrics</li>\n"
   ]
  },
  {
   "cell_type": "markdown",
   "metadata": {},
   "source": [
    "<h1 style=\"color:red;font-size:xx-large\">Build Model 1</h1>\n"
   ]
  },
  {
   "cell_type": "markdown",
   "metadata": {},
   "source": [
    "<h3 style=\"color:green;\">Build the model on the training data set</h3>\n",
    "\n",
    "<li>set random_state to 42 (if you want to get the same results that I got) and max_iter to 1000</li>\n",
    "<li>set the loss function to \"log_loss\" (\"log\" if using sklearn 1.0.x or on colab)</li>"
   ]
  },
  {
   "cell_type": "code",
   "execution_count": 8,
   "metadata": {},
   "outputs": [
    {
     "name": "stdout",
     "output_type": "stream",
     "text": [
      "0.8845243872846397\n",
      "0.8842000342079964\n"
     ]
    },
    {
     "data": {
      "text/plain": [
       "'\\nYou should get:\\n0.8846634109843889\\n0.8843828700508991\\n'"
      ]
     },
     "execution_count": 8,
     "metadata": {},
     "output_type": "execute_result"
    }
   ],
   "source": [
    "from sklearn.linear_model import SGDClassifier\n",
    "model_1 = SGDClassifier(loss='log_loss', max_iter=1000, random_state=42)\n",
    "model_1.fit(x_train,y_train) #change if you used different variable names\n",
    "\n",
    "print(model_1.score(x_train,y_train))\n",
    "print(model_1.score(x_test,y_test))\n",
    "\"\"\"\n",
    "You should get:\n",
    "0.8846634109843889\n",
    "0.8843828700508991\n",
    "\"\"\""
   ]
  },
  {
   "cell_type": "markdown",
   "metadata": {},
   "source": [
    "\n",
    "<h3 style=\"color:green;\">Model 1 metrics</h3>\n",
    "<li>Report the following on the <b>test</b> data:</li>\n",
    "<ul>\n",
    "<li>the confusion matrix</li>\n",
    "<li>the accuracy, precision, recall, f1-score, AUC, and AP </li>\n",
    "</ul>\n"
   ]
  },
  {
   "cell_type": "code",
   "execution_count": 9,
   "metadata": {},
   "outputs": [
    {
     "name": "stdout",
     "output_type": "stream",
     "text": [
      "Confusion Matrix: \n",
      " [[149914     35]\n",
      " [ 19599      3]]\n",
      "Training accuracy:  0.8845243872846397\n",
      "Testing  accuracy:  0.8842000342079964\n",
      "Precision:  0.07894736842105263\n",
      "Recall:  0.00015304560759106213\n",
      "F1-Score:  0.00030549898167006107\n",
      "AUC:  0.6919801407783887\n",
      "Average Precision:  0.1156056207754037\n"
     ]
    },
    {
     "data": {
      "text/plain": [
       "'\\n\\nYou should see:\\n\\nConfusion Matrix: \\n [[149948      1]\\n [ 19602      0]]\\nTraining accuracy:  0.8846634109843889\\nTesting  accuracy:  0.8843828700508991\\nPrecision:  0.0\\nRecall:  0.0\\nF1-Score:  0.0\\nAUC:  0.692962177388246\\nAverage Precision:  0.11561123201868465\\n'"
      ]
     },
     "execution_count": 9,
     "metadata": {},
     "output_type": "execute_result"
    }
   ],
   "source": [
    "from sklearn.metrics import confusion_matrix\n",
    "from sklearn.metrics import f1_score,recall_score,precision_score\n",
    "from sklearn.metrics import average_precision_score,roc_auc_score\n",
    "\n",
    "def get_scores(model, p=True):\n",
    "    predictions = model.predict(x_test)\n",
    "    cfm = confusion_matrix(y_test, predictions)\n",
    "    accuracy_training = model.score(x_train, y_train)\n",
    "    accuracy_testing = model.score(x_test, y_test)\n",
    "    precision = precision_score(y_test, predictions)\n",
    "    recall = recall_score(y_test, predictions)\n",
    "    f1 = f1_score(y_test, predictions)\n",
    "    auc = roc_auc_score(y_test, model.predict_proba(x_test)[:, 1])\n",
    "    ap = average_precision_score(y_test, predictions)\n",
    "    if p==True:\n",
    "        print(\"Confusion Matrix: \\n\",cfm)\n",
    "        print(\"Training accuracy: \",accuracy_training)\n",
    "        print(\"Testing  accuracy: \",accuracy_testing)\n",
    "        print(\"Precision: \",precision)\n",
    "        print(\"Recall: \",recall)\n",
    "        print(\"F1-Score: \",f1)\n",
    "        print(\"AUC: \",auc)\n",
    "        print(\"Average Precision: \",ap)\n",
    "        return\n",
    "    return [accuracy_testing,precision, recall, f1, auc, ap]\n",
    "\n",
    "get_scores(model_1)\n",
    "\"\"\"\n",
    "\n",
    "You should see:\n",
    "\n",
    "Confusion Matrix: \n",
    " [[149948      1]\n",
    " [ 19602      0]]\n",
    "Training accuracy:  0.8846634109843889\n",
    "Testing  accuracy:  0.8843828700508991\n",
    "Precision:  0.0\n",
    "Recall:  0.0\n",
    "F1-Score:  0.0\n",
    "AUC:  0.692962177388246\n",
    "Average Precision:  0.11561123201868465\n",
    "\"\"\""
   ]
  },
  {
   "attachments": {},
   "cell_type": "markdown",
   "metadata": {},
   "source": [
    "<h3 style=\"color:green;\">Interpret the results</h3>\n",
    "<li>In a few bullet points, write your interpreation of the results. Why are we seeing what we are seeing? Is it useful? Why is the AUC not 0.5?</li>\n",
    "\n",
    "<h4>Interpretation</h4>\n",
    "<li> The model is predicting basically every loan will be safe. Consequently, we see that Recall and Precision are almost 0. </li>\n",
    "<li>Accuracy is still high as only about 11% of the loans are bad. This means that predicting every value will be safe will result in approximately 89% accuracy</li>\n",
    "<li>AUC is above .5 for the same reason. The model is predicting results above a random chance level.</li>\n",
    "\n"
   ]
  },
  {
   "cell_type": "markdown",
   "metadata": {},
   "source": [
    "<h3 style=\"color:green;\">Update results_df</h3>\n"
   ]
  },
  {
   "cell_type": "code",
   "execution_count": 26,
   "metadata": {},
   "outputs": [
    {
     "data": {
      "text/html": [
       "<div>\n",
       "<style scoped>\n",
       "    .dataframe tbody tr th:only-of-type {\n",
       "        vertical-align: middle;\n",
       "    }\n",
       "\n",
       "    .dataframe tbody tr th {\n",
       "        vertical-align: top;\n",
       "    }\n",
       "\n",
       "    .dataframe thead th {\n",
       "        text-align: right;\n",
       "    }\n",
       "</style>\n",
       "<table border=\"1\" class=\"dataframe\">\n",
       "  <thead>\n",
       "    <tr style=\"text-align: right;\">\n",
       "      <th></th>\n",
       "      <th>accuracy</th>\n",
       "      <th>precision</th>\n",
       "      <th>recall</th>\n",
       "      <th>f1_score</th>\n",
       "      <th>AUC</th>\n",
       "      <th>AP</th>\n",
       "    </tr>\n",
       "    <tr>\n",
       "      <th>Model</th>\n",
       "      <th></th>\n",
       "      <th></th>\n",
       "      <th></th>\n",
       "      <th></th>\n",
       "      <th></th>\n",
       "      <th></th>\n",
       "    </tr>\n",
       "  </thead>\n",
       "  <tbody>\n",
       "    <tr>\n",
       "      <th>1</th>\n",
       "      <td>0.8842</td>\n",
       "      <td>0.078947</td>\n",
       "      <td>0.000153</td>\n",
       "      <td>0.000305</td>\n",
       "      <td>0.69198</td>\n",
       "      <td>0.115606</td>\n",
       "    </tr>\n",
       "    <tr>\n",
       "      <th>2</th>\n",
       "      <td>0.0000</td>\n",
       "      <td>0.000000</td>\n",
       "      <td>0.000000</td>\n",
       "      <td>0.000000</td>\n",
       "      <td>0.00000</td>\n",
       "      <td>0.000000</td>\n",
       "    </tr>\n",
       "    <tr>\n",
       "      <th>3</th>\n",
       "      <td>0.0000</td>\n",
       "      <td>0.000000</td>\n",
       "      <td>0.000000</td>\n",
       "      <td>0.000000</td>\n",
       "      <td>0.00000</td>\n",
       "      <td>0.000000</td>\n",
       "    </tr>\n",
       "    <tr>\n",
       "      <th>4</th>\n",
       "      <td>0.0000</td>\n",
       "      <td>0.000000</td>\n",
       "      <td>0.000000</td>\n",
       "      <td>0.000000</td>\n",
       "      <td>0.00000</td>\n",
       "      <td>0.000000</td>\n",
       "    </tr>\n",
       "    <tr>\n",
       "      <th>5</th>\n",
       "      <td>0.0000</td>\n",
       "      <td>0.000000</td>\n",
       "      <td>0.000000</td>\n",
       "      <td>0.000000</td>\n",
       "      <td>0.00000</td>\n",
       "      <td>0.000000</td>\n",
       "    </tr>\n",
       "    <tr>\n",
       "      <th>6</th>\n",
       "      <td>0.0000</td>\n",
       "      <td>0.000000</td>\n",
       "      <td>0.000000</td>\n",
       "      <td>0.000000</td>\n",
       "      <td>0.00000</td>\n",
       "      <td>0.000000</td>\n",
       "    </tr>\n",
       "    <tr>\n",
       "      <th>7</th>\n",
       "      <td>0.0000</td>\n",
       "      <td>0.000000</td>\n",
       "      <td>0.000000</td>\n",
       "      <td>0.000000</td>\n",
       "      <td>0.00000</td>\n",
       "      <td>0.000000</td>\n",
       "    </tr>\n",
       "  </tbody>\n",
       "</table>\n",
       "</div>"
      ],
      "text/plain": [
       "       accuracy  precision    recall  f1_score      AUC        AP\n",
       "Model                                                            \n",
       "1        0.8842   0.078947  0.000153  0.000305  0.69198  0.115606\n",
       "2        0.0000   0.000000  0.000000  0.000000  0.00000  0.000000\n",
       "3        0.0000   0.000000  0.000000  0.000000  0.00000  0.000000\n",
       "4        0.0000   0.000000  0.000000  0.000000  0.00000  0.000000\n",
       "5        0.0000   0.000000  0.000000  0.000000  0.00000  0.000000\n",
       "6        0.0000   0.000000  0.000000  0.000000  0.00000  0.000000\n",
       "7        0.0000   0.000000  0.000000  0.000000  0.00000  0.000000"
      ]
     },
     "execution_count": 26,
     "metadata": {},
     "output_type": "execute_result"
    }
   ],
   "source": [
    "\n",
    "results_df.loc[1] = get_scores(model_1, p=False)\n",
    "\n",
    "\n",
    "\n",
    "results_df"
   ]
  },
  {
   "cell_type": "markdown",
   "metadata": {},
   "source": [
    "<h1 style=\"color:red;font-size:xx-large\">Build Model 2</h1>\n"
   ]
  },
  {
   "cell_type": "markdown",
   "metadata": {},
   "source": [
    "\n",
    "<li>sklearn's ML models can be given a <span style=\"color:blue\">class_weight</span> parameter</li>\n",
    "<li>weights can be given explicitly or implicitly</li>\n",
    "<li>note that by increasing the weight of the true cases, our model is more likely to find true positives</li>\n",
    "<li>and by decreasing the weight of the true cases, our model is more likely to find true negatives</li>\n",
    "<li>In Model 2, increase the weight of positives by a factor of 9 to balance the positives and negatives</li>"
   ]
  },
  {
   "cell_type": "markdown",
   "metadata": {},
   "source": [
    "<h3 style=\"color:green\">Build model 2 and report metrics</h3>"
   ]
  },
  {
   "cell_type": "code",
   "execution_count": 11,
   "metadata": {},
   "outputs": [
    {
     "name": "stdout",
     "output_type": "stream",
     "text": [
      "Confusion Matrix: \n",
      " [[79991 69958]\n",
      " [ 5146 14456]]\n",
      "Training accuracy:  0.5571412683005743\n",
      "Testing  accuracy:  0.5570418340204423\n",
      "Precision:  0.17125121425355982\n",
      "Recall:  0.7374757677787981\n",
      "F1-Score:  0.2779572373481003\n",
      "AUC:  0.6938190900016709\n",
      "Average Precision:  0.1566443706365479\n"
     ]
    }
   ],
   "source": [
    "model_2 = SGDClassifier(loss='log_loss', max_iter=1000, random_state=42, class_weight={1:9})\n",
    "model_2.fit(x_train,y_train) #change if you used different variable names\n",
    "\n",
    "get_scores(model_2)\n"
   ]
  },
  {
   "attachments": {},
   "cell_type": "markdown",
   "metadata": {},
   "source": [
    "<h3 style=\"color:green;\">Interpret the results</h3>\n",
    "\n",
    "\n",
    "<h4>Interpretation</h4>\n",
    "<li> Above, we see that the accuracy has gone down to 55%. This makes sense as the weighting is now more balanced so the model can't make the same prediction for all values.</li>\n",
    "<li> However, recall is considerably higher in the new model. The model is correctly classifying about 73% of the bad loans.</li>\n",
    "<li>AUC score is about the same as model 1. </li>"
   ]
  },
  {
   "cell_type": "markdown",
   "metadata": {},
   "source": [
    "<h3 style=\"color:green;\">Update results_df</h3>"
   ]
  },
  {
   "cell_type": "code",
   "execution_count": 27,
   "metadata": {},
   "outputs": [
    {
     "data": {
      "text/html": [
       "<div>\n",
       "<style scoped>\n",
       "    .dataframe tbody tr th:only-of-type {\n",
       "        vertical-align: middle;\n",
       "    }\n",
       "\n",
       "    .dataframe tbody tr th {\n",
       "        vertical-align: top;\n",
       "    }\n",
       "\n",
       "    .dataframe thead th {\n",
       "        text-align: right;\n",
       "    }\n",
       "</style>\n",
       "<table border=\"1\" class=\"dataframe\">\n",
       "  <thead>\n",
       "    <tr style=\"text-align: right;\">\n",
       "      <th></th>\n",
       "      <th>accuracy</th>\n",
       "      <th>precision</th>\n",
       "      <th>recall</th>\n",
       "      <th>f1_score</th>\n",
       "      <th>AUC</th>\n",
       "      <th>AP</th>\n",
       "    </tr>\n",
       "    <tr>\n",
       "      <th>Model</th>\n",
       "      <th></th>\n",
       "      <th></th>\n",
       "      <th></th>\n",
       "      <th></th>\n",
       "      <th></th>\n",
       "      <th></th>\n",
       "    </tr>\n",
       "  </thead>\n",
       "  <tbody>\n",
       "    <tr>\n",
       "      <th>1</th>\n",
       "      <td>0.884200</td>\n",
       "      <td>0.078947</td>\n",
       "      <td>0.000153</td>\n",
       "      <td>0.000305</td>\n",
       "      <td>0.691980</td>\n",
       "      <td>0.115606</td>\n",
       "    </tr>\n",
       "    <tr>\n",
       "      <th>2</th>\n",
       "      <td>0.557042</td>\n",
       "      <td>0.171251</td>\n",
       "      <td>0.737476</td>\n",
       "      <td>0.277957</td>\n",
       "      <td>0.693819</td>\n",
       "      <td>0.156644</td>\n",
       "    </tr>\n",
       "    <tr>\n",
       "      <th>3</th>\n",
       "      <td>0.000000</td>\n",
       "      <td>0.000000</td>\n",
       "      <td>0.000000</td>\n",
       "      <td>0.000000</td>\n",
       "      <td>0.000000</td>\n",
       "      <td>0.000000</td>\n",
       "    </tr>\n",
       "    <tr>\n",
       "      <th>4</th>\n",
       "      <td>0.000000</td>\n",
       "      <td>0.000000</td>\n",
       "      <td>0.000000</td>\n",
       "      <td>0.000000</td>\n",
       "      <td>0.000000</td>\n",
       "      <td>0.000000</td>\n",
       "    </tr>\n",
       "    <tr>\n",
       "      <th>5</th>\n",
       "      <td>0.000000</td>\n",
       "      <td>0.000000</td>\n",
       "      <td>0.000000</td>\n",
       "      <td>0.000000</td>\n",
       "      <td>0.000000</td>\n",
       "      <td>0.000000</td>\n",
       "    </tr>\n",
       "    <tr>\n",
       "      <th>6</th>\n",
       "      <td>0.000000</td>\n",
       "      <td>0.000000</td>\n",
       "      <td>0.000000</td>\n",
       "      <td>0.000000</td>\n",
       "      <td>0.000000</td>\n",
       "      <td>0.000000</td>\n",
       "    </tr>\n",
       "    <tr>\n",
       "      <th>7</th>\n",
       "      <td>0.000000</td>\n",
       "      <td>0.000000</td>\n",
       "      <td>0.000000</td>\n",
       "      <td>0.000000</td>\n",
       "      <td>0.000000</td>\n",
       "      <td>0.000000</td>\n",
       "    </tr>\n",
       "  </tbody>\n",
       "</table>\n",
       "</div>"
      ],
      "text/plain": [
       "       accuracy  precision    recall  f1_score       AUC        AP\n",
       "Model                                                             \n",
       "1      0.884200   0.078947  0.000153  0.000305  0.691980  0.115606\n",
       "2      0.557042   0.171251  0.737476  0.277957  0.693819  0.156644\n",
       "3      0.000000   0.000000  0.000000  0.000000  0.000000  0.000000\n",
       "4      0.000000   0.000000  0.000000  0.000000  0.000000  0.000000\n",
       "5      0.000000   0.000000  0.000000  0.000000  0.000000  0.000000\n",
       "6      0.000000   0.000000  0.000000  0.000000  0.000000  0.000000\n",
       "7      0.000000   0.000000  0.000000  0.000000  0.000000  0.000000"
      ]
     },
     "execution_count": 27,
     "metadata": {},
     "output_type": "execute_result"
    }
   ],
   "source": [
    "\n",
    "results_df.loc[2] = get_scores(model_2, p=False)\n",
    "results_df"
   ]
  },
  {
   "cell_type": "markdown",
   "metadata": {},
   "source": [
    "<h1 style=\"color:red;font-size:xx-large\">Build Model 3</h1>"
   ]
  },
  {
   "cell_type": "markdown",
   "metadata": {},
   "source": [
    "<h3 style=\"color:green;\">Tune hyperparameters using grid search</h3>\n",
    "<li><span style=\"color:blue\">parameters</span> versus <span style=\"color:blue\">hyperparameters</span></li>\n",
    "<ul>\n",
    "    <li><span style=\"color:blue\">parameters</span>: the parameters that are necessary for the model to make predictions. For example, the coefficients of the linear equation estimated by the SGD classifier are parameters of the model. Parameters are estimated by the algorithm and from the data</li>\n",
    "    <li><span style=\"color:blue\">hyperparameters</span>: parameters that are external to the model and cannot be estimated from the data. For example, in an SGD classifier, parameters like the loss function, the regularization parameter, stopping rules, etc. are hyper parameters</li>\n",
    "    </ul>\n",
    "<li>In ML, hyperparameters are often set intuitively and then <span style=\"color:red\">tuned</span> using a grid search</li>\n",
    "<li>In a grid search, various combinations of hyperparameters are tried and <span style=\"color:blue\">k-fold cross validation</span> is used to test the efficacy of the parameter combination</li>\n",
    "<li>the best combination is then selected as a candidate model</li>"
   ]
  },
  {
   "cell_type": "markdown",
   "metadata": {},
   "source": [
    "<h3 style=\"color:green;\">The <span style=\"color:blue\">scoring</span> parameter</h3>\n",
    "<li>since our data is imbalaced, we should look for the model with the best f1 score (precision/recall tradeoff)</li>\n",
    "<li>set the scoring parameter for GridSearchCV so that it maximizes the f1 score</li>\n",
    "<li>Though we should be using a much wider range of parameters, I've reduced them so that it runs fairly quickly</li>\n",
    "<li>This takes about 30 seconds on my machine. Could take longer on your machine</li>"
   ]
  },
  {
   "cell_type": "code",
   "execution_count": 16,
   "metadata": {},
   "outputs": [
    {
     "name": "stdout",
     "output_type": "stream",
     "text": [
      "CPU times: user 3.58 s, sys: 1.18 s, total: 4.76 s\n",
      "Wall time: 1min 11s\n"
     ]
    },
    {
     "data": {
      "text/plain": [
       "(0.28544402381805095,\n",
       " {'alpha': 0.001,\n",
       "  'class_weight': 'balanced',\n",
       "  'l1_ratio': 0.01,\n",
       "  'loss': 'log_loss',\n",
       "  'penalty': 'elasticnet'})"
      ]
     },
     "execution_count": 16,
     "metadata": {},
     "output_type": "execute_result"
    }
   ],
   "source": [
    "%%time\n",
    "from sklearn.model_selection import GridSearchCV\n",
    "from sklearn.linear_model import SGDClassifier\n",
    "#Set up the hyperparameter options in param_grid\n",
    "param_grid = {\n",
    "    'loss': ['log_loss'],\n",
    "    'penalty': ['elasticnet'],\n",
    "    'alpha': [.001,.01,.1, .5],\n",
    "    'l1_ratio': [0.01, 1],\n",
    "    'class_weight': [{1:3},{1:5},'balanced',{1:9},{1:15}]\n",
    "}\n",
    "\n",
    "\n",
    "model_3_gs = GridSearchCV(SGDClassifier(),param_grid,cv=3,scoring='f1',n_jobs=-1)\n",
    "model_3_gs.fit(x_train, y_train)"
   ]
  },
  {
   "cell_type": "markdown",
   "metadata": {},
   "source": [
    "<h3 style=\"color:green;\">Get the best model parameters</h3>\n"
   ]
  },
  {
   "cell_type": "code",
   "execution_count": 17,
   "metadata": {},
   "outputs": [
    {
     "data": {
      "text/plain": [
       "(0.28544402381805095,\n",
       " {'alpha': 0.001,\n",
       "  'class_weight': 'balanced',\n",
       "  'l1_ratio': 0.01,\n",
       "  'loss': 'log_loss',\n",
       "  'penalty': 'elasticnet'})"
      ]
     },
     "execution_count": 17,
     "metadata": {},
     "output_type": "execute_result"
    }
   ],
   "source": [
    "model_3_gs.best_score_, model_3_gs.best_params_\n"
   ]
  },
  {
   "cell_type": "markdown",
   "metadata": {},
   "source": [
    "<h3 style=\"color:green;\">Run the best model and report metrics</h3>\n",
    "<li>Run the classifier using the best parameters</li>\n",
    "\n",
    "\n",
    "\n",
    "\n"
   ]
  },
  {
   "cell_type": "code",
   "execution_count": 29,
   "metadata": {},
   "outputs": [
    {
     "name": "stdout",
     "output_type": "stream",
     "text": [
      "Confusion Matrix: \n",
      " [[93882 56067]\n",
      " [ 6970 12632]]\n",
      "Training accuracy:  0.6289760778128286\n",
      "Testing  accuracy:  0.6282121603529321\n",
      "Precision:  0.18387458332726822\n",
      "Recall:  0.6444240383634323\n",
      "F1-Score:  0.2861122750591726\n",
      "AUC:  0.6863429607286761\n",
      "Average Precision:  0.15960177654118377\n"
     ]
    }
   ],
   "source": [
    "model_3 = SGDClassifier(alpha = 0.001,\n",
    "  class_weight ='balanced',\n",
    "  l1_ratio =0.01,\n",
    "  loss = 'log_loss',\n",
    "  penalty = 'elasticnet')\n",
    "model_3.fit(x_train,y_train) #change if you used different variable names\n",
    "\n",
    "get_scores(model_3)\n"
   ]
  },
  {
   "attachments": {},
   "cell_type": "markdown",
   "metadata": {},
   "source": [
    "<h3 style=\"color:green;\">Interpret the results</h3>\n",
    "\n",
    "\n",
    "<h4>Interpretation</h4>\n",
    "<li>This model improves accuracy, precision, and f1_score (which, of course, is the scoring parameter used in the grid).</li>\n",
    "<li>However, recall is reduced from 73% to 64%.</li>\n",
    "<li>AUC Score is marginally lower.</li>\n"
   ]
  },
  {
   "cell_type": "markdown",
   "metadata": {},
   "source": [
    "<h3 style=\"color:green;\">Update results_df</h3>"
   ]
  },
  {
   "cell_type": "code",
   "execution_count": 30,
   "metadata": {},
   "outputs": [
    {
     "data": {
      "text/html": [
       "<div>\n",
       "<style scoped>\n",
       "    .dataframe tbody tr th:only-of-type {\n",
       "        vertical-align: middle;\n",
       "    }\n",
       "\n",
       "    .dataframe tbody tr th {\n",
       "        vertical-align: top;\n",
       "    }\n",
       "\n",
       "    .dataframe thead th {\n",
       "        text-align: right;\n",
       "    }\n",
       "</style>\n",
       "<table border=\"1\" class=\"dataframe\">\n",
       "  <thead>\n",
       "    <tr style=\"text-align: right;\">\n",
       "      <th></th>\n",
       "      <th>accuracy</th>\n",
       "      <th>precision</th>\n",
       "      <th>recall</th>\n",
       "      <th>f1_score</th>\n",
       "      <th>AUC</th>\n",
       "      <th>AP</th>\n",
       "    </tr>\n",
       "    <tr>\n",
       "      <th>Model</th>\n",
       "      <th></th>\n",
       "      <th></th>\n",
       "      <th></th>\n",
       "      <th></th>\n",
       "      <th></th>\n",
       "      <th></th>\n",
       "    </tr>\n",
       "  </thead>\n",
       "  <tbody>\n",
       "    <tr>\n",
       "      <th>1</th>\n",
       "      <td>0.884200</td>\n",
       "      <td>0.078947</td>\n",
       "      <td>0.000153</td>\n",
       "      <td>0.000305</td>\n",
       "      <td>0.691980</td>\n",
       "      <td>0.115606</td>\n",
       "    </tr>\n",
       "    <tr>\n",
       "      <th>2</th>\n",
       "      <td>0.557042</td>\n",
       "      <td>0.171251</td>\n",
       "      <td>0.737476</td>\n",
       "      <td>0.277957</td>\n",
       "      <td>0.693819</td>\n",
       "      <td>0.156644</td>\n",
       "    </tr>\n",
       "    <tr>\n",
       "      <th>3</th>\n",
       "      <td>0.628212</td>\n",
       "      <td>0.183875</td>\n",
       "      <td>0.644424</td>\n",
       "      <td>0.286112</td>\n",
       "      <td>0.686343</td>\n",
       "      <td>0.159602</td>\n",
       "    </tr>\n",
       "    <tr>\n",
       "      <th>4</th>\n",
       "      <td>0.000000</td>\n",
       "      <td>0.000000</td>\n",
       "      <td>0.000000</td>\n",
       "      <td>0.000000</td>\n",
       "      <td>0.000000</td>\n",
       "      <td>0.000000</td>\n",
       "    </tr>\n",
       "    <tr>\n",
       "      <th>5</th>\n",
       "      <td>0.000000</td>\n",
       "      <td>0.000000</td>\n",
       "      <td>0.000000</td>\n",
       "      <td>0.000000</td>\n",
       "      <td>0.000000</td>\n",
       "      <td>0.000000</td>\n",
       "    </tr>\n",
       "    <tr>\n",
       "      <th>6</th>\n",
       "      <td>0.000000</td>\n",
       "      <td>0.000000</td>\n",
       "      <td>0.000000</td>\n",
       "      <td>0.000000</td>\n",
       "      <td>0.000000</td>\n",
       "      <td>0.000000</td>\n",
       "    </tr>\n",
       "    <tr>\n",
       "      <th>7</th>\n",
       "      <td>0.000000</td>\n",
       "      <td>0.000000</td>\n",
       "      <td>0.000000</td>\n",
       "      <td>0.000000</td>\n",
       "      <td>0.000000</td>\n",
       "      <td>0.000000</td>\n",
       "    </tr>\n",
       "  </tbody>\n",
       "</table>\n",
       "</div>"
      ],
      "text/plain": [
       "       accuracy  precision    recall  f1_score       AUC        AP\n",
       "Model                                                             \n",
       "1      0.884200   0.078947  0.000153  0.000305  0.691980  0.115606\n",
       "2      0.557042   0.171251  0.737476  0.277957  0.693819  0.156644\n",
       "3      0.628212   0.183875  0.644424  0.286112  0.686343  0.159602\n",
       "4      0.000000   0.000000  0.000000  0.000000  0.000000  0.000000\n",
       "5      0.000000   0.000000  0.000000  0.000000  0.000000  0.000000\n",
       "6      0.000000   0.000000  0.000000  0.000000  0.000000  0.000000\n",
       "7      0.000000   0.000000  0.000000  0.000000  0.000000  0.000000"
      ]
     },
     "execution_count": 30,
     "metadata": {},
     "output_type": "execute_result"
    }
   ],
   "source": [
    "\n",
    "\n",
    "results_df.loc[3] = get_scores(model_3, p=False)\n",
    "\n",
    "\n",
    "results_df "
   ]
  },
  {
   "cell_type": "markdown",
   "metadata": {},
   "source": [
    "<h1 style=\"color:red;font-size:xx-large\">Build Model 4</h1>"
   ]
  },
  {
   "cell_type": "markdown",
   "metadata": {},
   "source": [
    "<h3 style=\"color:green;\">Random Forest Classifier</h3>\n",
    "<li>We need to improve recall and precision so perhaps a non-linear classifier will help</li>"
   ]
  },
  {
   "cell_type": "markdown",
   "metadata": {},
   "source": [
    "<h3 style=\"color:green;\">Build, fit, and report metrics</h3>\n",
    "\n",
    "<li>Run this with the following parameters (these are our base parameters)</li>\n",
    "<li>random_state=42,n_estimators=30,max_depth=6,min_samples_leaf=2000,min_samples_split=4000,class_weight={1:5}</li>\n"
   ]
  },
  {
   "cell_type": "code",
   "execution_count": 31,
   "metadata": {},
   "outputs": [
    {
     "data": {
      "text/html": [
       "<style>#sk-container-id-1 {color: black;background-color: white;}#sk-container-id-1 pre{padding: 0;}#sk-container-id-1 div.sk-toggleable {background-color: white;}#sk-container-id-1 label.sk-toggleable__label {cursor: pointer;display: block;width: 100%;margin-bottom: 0;padding: 0.3em;box-sizing: border-box;text-align: center;}#sk-container-id-1 label.sk-toggleable__label-arrow:before {content: \"▸\";float: left;margin-right: 0.25em;color: #696969;}#sk-container-id-1 label.sk-toggleable__label-arrow:hover:before {color: black;}#sk-container-id-1 div.sk-estimator:hover label.sk-toggleable__label-arrow:before {color: black;}#sk-container-id-1 div.sk-toggleable__content {max-height: 0;max-width: 0;overflow: hidden;text-align: left;background-color: #f0f8ff;}#sk-container-id-1 div.sk-toggleable__content pre {margin: 0.2em;color: black;border-radius: 0.25em;background-color: #f0f8ff;}#sk-container-id-1 input.sk-toggleable__control:checked~div.sk-toggleable__content {max-height: 200px;max-width: 100%;overflow: auto;}#sk-container-id-1 input.sk-toggleable__control:checked~label.sk-toggleable__label-arrow:before {content: \"▾\";}#sk-container-id-1 div.sk-estimator input.sk-toggleable__control:checked~label.sk-toggleable__label {background-color: #d4ebff;}#sk-container-id-1 div.sk-label input.sk-toggleable__control:checked~label.sk-toggleable__label {background-color: #d4ebff;}#sk-container-id-1 input.sk-hidden--visually {border: 0;clip: rect(1px 1px 1px 1px);clip: rect(1px, 1px, 1px, 1px);height: 1px;margin: -1px;overflow: hidden;padding: 0;position: absolute;width: 1px;}#sk-container-id-1 div.sk-estimator {font-family: monospace;background-color: #f0f8ff;border: 1px dotted black;border-radius: 0.25em;box-sizing: border-box;margin-bottom: 0.5em;}#sk-container-id-1 div.sk-estimator:hover {background-color: #d4ebff;}#sk-container-id-1 div.sk-parallel-item::after {content: \"\";width: 100%;border-bottom: 1px solid gray;flex-grow: 1;}#sk-container-id-1 div.sk-label:hover label.sk-toggleable__label {background-color: #d4ebff;}#sk-container-id-1 div.sk-serial::before {content: \"\";position: absolute;border-left: 1px solid gray;box-sizing: border-box;top: 0;bottom: 0;left: 50%;z-index: 0;}#sk-container-id-1 div.sk-serial {display: flex;flex-direction: column;align-items: center;background-color: white;padding-right: 0.2em;padding-left: 0.2em;position: relative;}#sk-container-id-1 div.sk-item {position: relative;z-index: 1;}#sk-container-id-1 div.sk-parallel {display: flex;align-items: stretch;justify-content: center;background-color: white;position: relative;}#sk-container-id-1 div.sk-item::before, #sk-container-id-1 div.sk-parallel-item::before {content: \"\";position: absolute;border-left: 1px solid gray;box-sizing: border-box;top: 0;bottom: 0;left: 50%;z-index: -1;}#sk-container-id-1 div.sk-parallel-item {display: flex;flex-direction: column;z-index: 1;position: relative;background-color: white;}#sk-container-id-1 div.sk-parallel-item:first-child::after {align-self: flex-end;width: 50%;}#sk-container-id-1 div.sk-parallel-item:last-child::after {align-self: flex-start;width: 50%;}#sk-container-id-1 div.sk-parallel-item:only-child::after {width: 0;}#sk-container-id-1 div.sk-dashed-wrapped {border: 1px dashed gray;margin: 0 0.4em 0.5em 0.4em;box-sizing: border-box;padding-bottom: 0.4em;background-color: white;}#sk-container-id-1 div.sk-label label {font-family: monospace;font-weight: bold;display: inline-block;line-height: 1.2em;}#sk-container-id-1 div.sk-label-container {text-align: center;}#sk-container-id-1 div.sk-container {/* jupyter's `normalize.less` sets `[hidden] { display: none; }` but bootstrap.min.css set `[hidden] { display: none !important; }` so we also need the `!important` here to be able to override the default hidden behavior on the sphinx rendered scikit-learn.org. See: https://github.com/scikit-learn/scikit-learn/issues/21755 */display: inline-block !important;position: relative;}#sk-container-id-1 div.sk-text-repr-fallback {display: none;}</style><div id=\"sk-container-id-1\" class=\"sk-top-container\"><div class=\"sk-text-repr-fallback\"><pre>RandomForestClassifier(class_weight={1: 5}, max_depth=6, min_samples_leaf=2000,\n",
       "                       min_samples_split=4000, n_estimators=30,\n",
       "                       random_state=42)</pre><b>In a Jupyter environment, please rerun this cell to show the HTML representation or trust the notebook. <br />On GitHub, the HTML representation is unable to render, please try loading this page with nbviewer.org.</b></div><div class=\"sk-container\" hidden><div class=\"sk-item\"><div class=\"sk-estimator sk-toggleable\"><input class=\"sk-toggleable__control sk-hidden--visually\" id=\"sk-estimator-id-1\" type=\"checkbox\" checked><label for=\"sk-estimator-id-1\" class=\"sk-toggleable__label sk-toggleable__label-arrow\">RandomForestClassifier</label><div class=\"sk-toggleable__content\"><pre>RandomForestClassifier(class_weight={1: 5}, max_depth=6, min_samples_leaf=2000,\n",
       "                       min_samples_split=4000, n_estimators=30,\n",
       "                       random_state=42)</pre></div></div></div></div></div>"
      ],
      "text/plain": [
       "RandomForestClassifier(class_weight={1: 5}, max_depth=6, min_samples_leaf=2000,\n",
       "                       min_samples_split=4000, n_estimators=30,\n",
       "                       random_state=42)"
      ]
     },
     "execution_count": 31,
     "metadata": {},
     "output_type": "execute_result"
    }
   ],
   "source": [
    "from sklearn.ensemble import RandomForestClassifier\n",
    "model_4 = RandomForestClassifier(random_state=42,n_estimators=30,max_depth=6,min_samples_leaf=2000,min_samples_split=4000,class_weight={1:5})\n",
    "model_4.fit(x_train,y_train)\n"
   ]
  },
  {
   "cell_type": "code",
   "execution_count": 32,
   "metadata": {},
   "outputs": [
    {
     "name": "stdout",
     "output_type": "stream",
     "text": [
      "Confusion Matrix: \n",
      " [[132351  17598]\n",
      " [ 13506   6096]]\n",
      "Training accuracy:  0.81824294265146\n",
      "Testing  accuracy:  0.816550772333988\n",
      "Precision:  0.2572803241326918\n",
      "Recall:  0.31098867462503826\n",
      "F1-Score:  0.28159645232815966\n",
      "AUC:  0.6928528398019439\n",
      "Average Precision:  0.1596687152105522\n"
     ]
    }
   ],
   "source": [
    "get_scores(model_4)"
   ]
  },
  {
   "attachments": {},
   "cell_type": "markdown",
   "metadata": {},
   "source": [
    "<h3 style=\"color:green;\">Interpreting model 4 results</h3>\n",
    "<p></p>\n",
    "\n",
    "<h4>Interpretation</h4>\n",
    "<li>This model improves precision to 25% while reducing recall to 31%.</li>\n",
    "<li>However, F1 score is slightly worse. </li>\n",
    "<li>Accuracy improves as well.</li>"
   ]
  },
  {
   "cell_type": "markdown",
   "metadata": {},
   "source": [
    "<h3 style=\"color:green;\">Update results_df</h3>"
   ]
  },
  {
   "cell_type": "code",
   "execution_count": 37,
   "metadata": {},
   "outputs": [
    {
     "data": {
      "text/html": [
       "<div>\n",
       "<style scoped>\n",
       "    .dataframe tbody tr th:only-of-type {\n",
       "        vertical-align: middle;\n",
       "    }\n",
       "\n",
       "    .dataframe tbody tr th {\n",
       "        vertical-align: top;\n",
       "    }\n",
       "\n",
       "    .dataframe thead th {\n",
       "        text-align: right;\n",
       "    }\n",
       "</style>\n",
       "<table border=\"1\" class=\"dataframe\">\n",
       "  <thead>\n",
       "    <tr style=\"text-align: right;\">\n",
       "      <th></th>\n",
       "      <th>accuracy</th>\n",
       "      <th>precision</th>\n",
       "      <th>recall</th>\n",
       "      <th>f1_score</th>\n",
       "      <th>AUC</th>\n",
       "      <th>AP</th>\n",
       "    </tr>\n",
       "    <tr>\n",
       "      <th>Model</th>\n",
       "      <th></th>\n",
       "      <th></th>\n",
       "      <th></th>\n",
       "      <th></th>\n",
       "      <th></th>\n",
       "      <th></th>\n",
       "    </tr>\n",
       "  </thead>\n",
       "  <tbody>\n",
       "    <tr>\n",
       "      <th>1</th>\n",
       "      <td>0.884200</td>\n",
       "      <td>0.078947</td>\n",
       "      <td>0.000153</td>\n",
       "      <td>0.000305</td>\n",
       "      <td>0.691980</td>\n",
       "      <td>0.115606</td>\n",
       "    </tr>\n",
       "    <tr>\n",
       "      <th>2</th>\n",
       "      <td>0.557042</td>\n",
       "      <td>0.171251</td>\n",
       "      <td>0.737476</td>\n",
       "      <td>0.277957</td>\n",
       "      <td>0.693819</td>\n",
       "      <td>0.156644</td>\n",
       "    </tr>\n",
       "    <tr>\n",
       "      <th>3</th>\n",
       "      <td>0.628212</td>\n",
       "      <td>0.183875</td>\n",
       "      <td>0.644424</td>\n",
       "      <td>0.286112</td>\n",
       "      <td>0.686343</td>\n",
       "      <td>0.159602</td>\n",
       "    </tr>\n",
       "    <tr>\n",
       "      <th>4</th>\n",
       "      <td>0.816551</td>\n",
       "      <td>0.257280</td>\n",
       "      <td>0.310989</td>\n",
       "      <td>0.281596</td>\n",
       "      <td>0.692853</td>\n",
       "      <td>0.159669</td>\n",
       "    </tr>\n",
       "    <tr>\n",
       "      <th>5</th>\n",
       "      <td>0.000000</td>\n",
       "      <td>0.000000</td>\n",
       "      <td>0.000000</td>\n",
       "      <td>0.000000</td>\n",
       "      <td>0.000000</td>\n",
       "      <td>0.000000</td>\n",
       "    </tr>\n",
       "    <tr>\n",
       "      <th>6</th>\n",
       "      <td>0.000000</td>\n",
       "      <td>0.000000</td>\n",
       "      <td>0.000000</td>\n",
       "      <td>0.000000</td>\n",
       "      <td>0.000000</td>\n",
       "      <td>0.000000</td>\n",
       "    </tr>\n",
       "    <tr>\n",
       "      <th>7</th>\n",
       "      <td>0.000000</td>\n",
       "      <td>0.000000</td>\n",
       "      <td>0.000000</td>\n",
       "      <td>0.000000</td>\n",
       "      <td>0.000000</td>\n",
       "      <td>0.000000</td>\n",
       "    </tr>\n",
       "  </tbody>\n",
       "</table>\n",
       "</div>"
      ],
      "text/plain": [
       "       accuracy  precision    recall  f1_score       AUC        AP\n",
       "Model                                                             \n",
       "1      0.884200   0.078947  0.000153  0.000305  0.691980  0.115606\n",
       "2      0.557042   0.171251  0.737476  0.277957  0.693819  0.156644\n",
       "3      0.628212   0.183875  0.644424  0.286112  0.686343  0.159602\n",
       "4      0.816551   0.257280  0.310989  0.281596  0.692853  0.159669\n",
       "5      0.000000   0.000000  0.000000  0.000000  0.000000  0.000000\n",
       "6      0.000000   0.000000  0.000000  0.000000  0.000000  0.000000\n",
       "7      0.000000   0.000000  0.000000  0.000000  0.000000  0.000000"
      ]
     },
     "execution_count": 37,
     "metadata": {},
     "output_type": "execute_result"
    }
   ],
   "source": [
    "results_df.loc[4] = get_scores(model_4, p=False)\n",
    "\n",
    "\n",
    "\n",
    "\n",
    "results_df"
   ]
  },
  {
   "cell_type": "markdown",
   "metadata": {},
   "source": [
    "<h1 style=\"color:red;font-size:xx-large\">Build Model 5</h1>"
   ]
  },
  {
   "cell_type": "markdown",
   "metadata": {},
   "source": [
    "<h3 style=\"color:green;\">Random Forest Grid Search</h3>\n",
    "<p></p>\n",
    "\n",
    "\n",
    "<li>Run the best model</li>\n",
    "<li>Note that this will take a while, perhaps even a couple of hours (25 minutes on my laptop). Let it run. Get some coffee or whatever beverage you like. Then come back in a while to check out the results!</li>\n",
    "<li>If you want to speed it up, remove the 500 option from n_estimators (n_estimators is the number of trees generated and is the single most expensive part of the grid search)</li>\n"
   ]
  },
  {
   "cell_type": "code",
   "execution_count": 43,
   "metadata": {},
   "outputs": [
    {
     "name": "stdout",
     "output_type": "stream",
     "text": [
      "CPU times: user 48min 48s, sys: 736 ms, total: 48min 49s\n",
      "Wall time: 3h 53min 43s\n"
     ]
    },
    {
     "data": {
      "text/html": [
       "<style>#sk-container-id-4 {color: black;background-color: white;}#sk-container-id-4 pre{padding: 0;}#sk-container-id-4 div.sk-toggleable {background-color: white;}#sk-container-id-4 label.sk-toggleable__label {cursor: pointer;display: block;width: 100%;margin-bottom: 0;padding: 0.3em;box-sizing: border-box;text-align: center;}#sk-container-id-4 label.sk-toggleable__label-arrow:before {content: \"▸\";float: left;margin-right: 0.25em;color: #696969;}#sk-container-id-4 label.sk-toggleable__label-arrow:hover:before {color: black;}#sk-container-id-4 div.sk-estimator:hover label.sk-toggleable__label-arrow:before {color: black;}#sk-container-id-4 div.sk-toggleable__content {max-height: 0;max-width: 0;overflow: hidden;text-align: left;background-color: #f0f8ff;}#sk-container-id-4 div.sk-toggleable__content pre {margin: 0.2em;color: black;border-radius: 0.25em;background-color: #f0f8ff;}#sk-container-id-4 input.sk-toggleable__control:checked~div.sk-toggleable__content {max-height: 200px;max-width: 100%;overflow: auto;}#sk-container-id-4 input.sk-toggleable__control:checked~label.sk-toggleable__label-arrow:before {content: \"▾\";}#sk-container-id-4 div.sk-estimator input.sk-toggleable__control:checked~label.sk-toggleable__label {background-color: #d4ebff;}#sk-container-id-4 div.sk-label input.sk-toggleable__control:checked~label.sk-toggleable__label {background-color: #d4ebff;}#sk-container-id-4 input.sk-hidden--visually {border: 0;clip: rect(1px 1px 1px 1px);clip: rect(1px, 1px, 1px, 1px);height: 1px;margin: -1px;overflow: hidden;padding: 0;position: absolute;width: 1px;}#sk-container-id-4 div.sk-estimator {font-family: monospace;background-color: #f0f8ff;border: 1px dotted black;border-radius: 0.25em;box-sizing: border-box;margin-bottom: 0.5em;}#sk-container-id-4 div.sk-estimator:hover {background-color: #d4ebff;}#sk-container-id-4 div.sk-parallel-item::after {content: \"\";width: 100%;border-bottom: 1px solid gray;flex-grow: 1;}#sk-container-id-4 div.sk-label:hover label.sk-toggleable__label {background-color: #d4ebff;}#sk-container-id-4 div.sk-serial::before {content: \"\";position: absolute;border-left: 1px solid gray;box-sizing: border-box;top: 0;bottom: 0;left: 50%;z-index: 0;}#sk-container-id-4 div.sk-serial {display: flex;flex-direction: column;align-items: center;background-color: white;padding-right: 0.2em;padding-left: 0.2em;position: relative;}#sk-container-id-4 div.sk-item {position: relative;z-index: 1;}#sk-container-id-4 div.sk-parallel {display: flex;align-items: stretch;justify-content: center;background-color: white;position: relative;}#sk-container-id-4 div.sk-item::before, #sk-container-id-4 div.sk-parallel-item::before {content: \"\";position: absolute;border-left: 1px solid gray;box-sizing: border-box;top: 0;bottom: 0;left: 50%;z-index: -1;}#sk-container-id-4 div.sk-parallel-item {display: flex;flex-direction: column;z-index: 1;position: relative;background-color: white;}#sk-container-id-4 div.sk-parallel-item:first-child::after {align-self: flex-end;width: 50%;}#sk-container-id-4 div.sk-parallel-item:last-child::after {align-self: flex-start;width: 50%;}#sk-container-id-4 div.sk-parallel-item:only-child::after {width: 0;}#sk-container-id-4 div.sk-dashed-wrapped {border: 1px dashed gray;margin: 0 0.4em 0.5em 0.4em;box-sizing: border-box;padding-bottom: 0.4em;background-color: white;}#sk-container-id-4 div.sk-label label {font-family: monospace;font-weight: bold;display: inline-block;line-height: 1.2em;}#sk-container-id-4 div.sk-label-container {text-align: center;}#sk-container-id-4 div.sk-container {/* jupyter's `normalize.less` sets `[hidden] { display: none; }` but bootstrap.min.css set `[hidden] { display: none !important; }` so we also need the `!important` here to be able to override the default hidden behavior on the sphinx rendered scikit-learn.org. See: https://github.com/scikit-learn/scikit-learn/issues/21755 */display: inline-block !important;position: relative;}#sk-container-id-4 div.sk-text-repr-fallback {display: none;}</style><div id=\"sk-container-id-4\" class=\"sk-top-container\"><div class=\"sk-text-repr-fallback\"><pre>GridSearchCV(cv=5, estimator=RandomForestClassifier(random_state=42), n_jobs=-1,\n",
       "             param_grid={&#x27;class_weight&#x27;: [{1: 6}], &#x27;min_samples_leaf&#x27;: (10, 20),\n",
       "                         &#x27;min_samples_split&#x27;: (100, 200),\n",
       "                         &#x27;n_estimators&#x27;: (800,)},\n",
       "             scoring=&#x27;f1&#x27;)</pre><b>In a Jupyter environment, please rerun this cell to show the HTML representation or trust the notebook. <br />On GitHub, the HTML representation is unable to render, please try loading this page with nbviewer.org.</b></div><div class=\"sk-container\" hidden><div class=\"sk-item sk-dashed-wrapped\"><div class=\"sk-label-container\"><div class=\"sk-label sk-toggleable\"><input class=\"sk-toggleable__control sk-hidden--visually\" id=\"sk-estimator-id-4\" type=\"checkbox\" ><label for=\"sk-estimator-id-4\" class=\"sk-toggleable__label sk-toggleable__label-arrow\">GridSearchCV</label><div class=\"sk-toggleable__content\"><pre>GridSearchCV(cv=5, estimator=RandomForestClassifier(random_state=42), n_jobs=-1,\n",
       "             param_grid={&#x27;class_weight&#x27;: [{1: 6}], &#x27;min_samples_leaf&#x27;: (10, 20),\n",
       "                         &#x27;min_samples_split&#x27;: (100, 200),\n",
       "                         &#x27;n_estimators&#x27;: (800,)},\n",
       "             scoring=&#x27;f1&#x27;)</pre></div></div></div><div class=\"sk-parallel\"><div class=\"sk-parallel-item\"><div class=\"sk-item\"><div class=\"sk-label-container\"><div class=\"sk-label sk-toggleable\"><input class=\"sk-toggleable__control sk-hidden--visually\" id=\"sk-estimator-id-5\" type=\"checkbox\" ><label for=\"sk-estimator-id-5\" class=\"sk-toggleable__label sk-toggleable__label-arrow\">estimator: RandomForestClassifier</label><div class=\"sk-toggleable__content\"><pre>RandomForestClassifier(random_state=42)</pre></div></div></div><div class=\"sk-serial\"><div class=\"sk-item\"><div class=\"sk-estimator sk-toggleable\"><input class=\"sk-toggleable__control sk-hidden--visually\" id=\"sk-estimator-id-6\" type=\"checkbox\" ><label for=\"sk-estimator-id-6\" class=\"sk-toggleable__label sk-toggleable__label-arrow\">RandomForestClassifier</label><div class=\"sk-toggleable__content\"><pre>RandomForestClassifier(random_state=42)</pre></div></div></div></div></div></div></div></div></div></div>"
      ],
      "text/plain": [
       "GridSearchCV(cv=5, estimator=RandomForestClassifier(random_state=42), n_jobs=-1,\n",
       "             param_grid={'class_weight': [{1: 6}], 'min_samples_leaf': (10, 20),\n",
       "                         'min_samples_split': (100, 200),\n",
       "                         'n_estimators': (800,)},\n",
       "             scoring='f1')"
      ]
     },
     "execution_count": 43,
     "metadata": {},
     "output_type": "execute_result"
    }
   ],
   "source": [
    "%%time\n",
    "from sklearn.ensemble import RandomForestClassifier\n",
    "\n",
    "\n",
    "from sklearn.model_selection import GridSearchCV\n",
    "from sklearn.metrics import average_precision_score,make_scorer\n",
    "parameters = {\n",
    "     'n_estimators':(800,), #the number of trees\n",
    "     'min_samples_split': (100, 200),\n",
    "    'class_weight': [{1:6}],\n",
    "     'min_samples_leaf': (10,20) #\n",
    "}\n",
    "gs_clf = GridSearchCV(RandomForestClassifier(random_state=42),parameters,cv=5,n_jobs=-1,\n",
    "                      scoring='f1')\n",
    "gs_clf.fit(x_train, np.ravel(y_train))\n"
   ]
  },
  {
   "cell_type": "markdown",
   "metadata": {},
   "source": [
    "<h3 style=\"color:green;\">Get the best model parameters</h3>\n"
   ]
  },
  {
   "cell_type": "code",
   "execution_count": 46,
   "metadata": {},
   "outputs": [
    {
     "data": {
      "text/plain": [
       "(0.331162244496855,\n",
       " {'class_weight': {1: 6},\n",
       "  'min_samples_leaf': 10,\n",
       "  'min_samples_split': 100,\n",
       "  'n_estimators': 800})"
      ]
     },
     "execution_count": 46,
     "metadata": {},
     "output_type": "execute_result"
    }
   ],
   "source": [
    "gs_clf.best_score_, gs_clf.best_params_"
   ]
  },
  {
   "cell_type": "markdown",
   "metadata": {},
   "source": [
    "<h3 style=\"color:green;\">Run the best model and get metrics</h3>\n"
   ]
  },
  {
   "cell_type": "code",
   "execution_count": 47,
   "metadata": {},
   "outputs": [
    {
     "data": {
      "text/html": [
       "<style>#sk-container-id-5 {color: black;background-color: white;}#sk-container-id-5 pre{padding: 0;}#sk-container-id-5 div.sk-toggleable {background-color: white;}#sk-container-id-5 label.sk-toggleable__label {cursor: pointer;display: block;width: 100%;margin-bottom: 0;padding: 0.3em;box-sizing: border-box;text-align: center;}#sk-container-id-5 label.sk-toggleable__label-arrow:before {content: \"▸\";float: left;margin-right: 0.25em;color: #696969;}#sk-container-id-5 label.sk-toggleable__label-arrow:hover:before {color: black;}#sk-container-id-5 div.sk-estimator:hover label.sk-toggleable__label-arrow:before {color: black;}#sk-container-id-5 div.sk-toggleable__content {max-height: 0;max-width: 0;overflow: hidden;text-align: left;background-color: #f0f8ff;}#sk-container-id-5 div.sk-toggleable__content pre {margin: 0.2em;color: black;border-radius: 0.25em;background-color: #f0f8ff;}#sk-container-id-5 input.sk-toggleable__control:checked~div.sk-toggleable__content {max-height: 200px;max-width: 100%;overflow: auto;}#sk-container-id-5 input.sk-toggleable__control:checked~label.sk-toggleable__label-arrow:before {content: \"▾\";}#sk-container-id-5 div.sk-estimator input.sk-toggleable__control:checked~label.sk-toggleable__label {background-color: #d4ebff;}#sk-container-id-5 div.sk-label input.sk-toggleable__control:checked~label.sk-toggleable__label {background-color: #d4ebff;}#sk-container-id-5 input.sk-hidden--visually {border: 0;clip: rect(1px 1px 1px 1px);clip: rect(1px, 1px, 1px, 1px);height: 1px;margin: -1px;overflow: hidden;padding: 0;position: absolute;width: 1px;}#sk-container-id-5 div.sk-estimator {font-family: monospace;background-color: #f0f8ff;border: 1px dotted black;border-radius: 0.25em;box-sizing: border-box;margin-bottom: 0.5em;}#sk-container-id-5 div.sk-estimator:hover {background-color: #d4ebff;}#sk-container-id-5 div.sk-parallel-item::after {content: \"\";width: 100%;border-bottom: 1px solid gray;flex-grow: 1;}#sk-container-id-5 div.sk-label:hover label.sk-toggleable__label {background-color: #d4ebff;}#sk-container-id-5 div.sk-serial::before {content: \"\";position: absolute;border-left: 1px solid gray;box-sizing: border-box;top: 0;bottom: 0;left: 50%;z-index: 0;}#sk-container-id-5 div.sk-serial {display: flex;flex-direction: column;align-items: center;background-color: white;padding-right: 0.2em;padding-left: 0.2em;position: relative;}#sk-container-id-5 div.sk-item {position: relative;z-index: 1;}#sk-container-id-5 div.sk-parallel {display: flex;align-items: stretch;justify-content: center;background-color: white;position: relative;}#sk-container-id-5 div.sk-item::before, #sk-container-id-5 div.sk-parallel-item::before {content: \"\";position: absolute;border-left: 1px solid gray;box-sizing: border-box;top: 0;bottom: 0;left: 50%;z-index: -1;}#sk-container-id-5 div.sk-parallel-item {display: flex;flex-direction: column;z-index: 1;position: relative;background-color: white;}#sk-container-id-5 div.sk-parallel-item:first-child::after {align-self: flex-end;width: 50%;}#sk-container-id-5 div.sk-parallel-item:last-child::after {align-self: flex-start;width: 50%;}#sk-container-id-5 div.sk-parallel-item:only-child::after {width: 0;}#sk-container-id-5 div.sk-dashed-wrapped {border: 1px dashed gray;margin: 0 0.4em 0.5em 0.4em;box-sizing: border-box;padding-bottom: 0.4em;background-color: white;}#sk-container-id-5 div.sk-label label {font-family: monospace;font-weight: bold;display: inline-block;line-height: 1.2em;}#sk-container-id-5 div.sk-label-container {text-align: center;}#sk-container-id-5 div.sk-container {/* jupyter's `normalize.less` sets `[hidden] { display: none; }` but bootstrap.min.css set `[hidden] { display: none !important; }` so we also need the `!important` here to be able to override the default hidden behavior on the sphinx rendered scikit-learn.org. See: https://github.com/scikit-learn/scikit-learn/issues/21755 */display: inline-block !important;position: relative;}#sk-container-id-5 div.sk-text-repr-fallback {display: none;}</style><div id=\"sk-container-id-5\" class=\"sk-top-container\"><div class=\"sk-text-repr-fallback\"><pre>RandomForestClassifier(class_weight={1: 6}, min_samples_leaf=10,\n",
       "                       min_samples_split=100, n_estimators=800,\n",
       "                       random_state=42)</pre><b>In a Jupyter environment, please rerun this cell to show the HTML representation or trust the notebook. <br />On GitHub, the HTML representation is unable to render, please try loading this page with nbviewer.org.</b></div><div class=\"sk-container\" hidden><div class=\"sk-item\"><div class=\"sk-estimator sk-toggleable\"><input class=\"sk-toggleable__control sk-hidden--visually\" id=\"sk-estimator-id-7\" type=\"checkbox\" checked><label for=\"sk-estimator-id-7\" class=\"sk-toggleable__label sk-toggleable__label-arrow\">RandomForestClassifier</label><div class=\"sk-toggleable__content\"><pre>RandomForestClassifier(class_weight={1: 6}, min_samples_leaf=10,\n",
       "                       min_samples_split=100, n_estimators=800,\n",
       "                       random_state=42)</pre></div></div></div></div></div>"
      ],
      "text/plain": [
       "RandomForestClassifier(class_weight={1: 6}, min_samples_leaf=10,\n",
       "                       min_samples_split=100, n_estimators=800,\n",
       "                       random_state=42)"
      ]
     },
     "execution_count": 47,
     "metadata": {},
     "output_type": "execute_result"
    }
   ],
   "source": [
    "\n",
    "model_5 = RandomForestClassifier(random_state=42,n_estimators=800,min_samples_leaf=10,min_samples_split=100,class_weight={1:6})\n",
    "model_5.fit(x_train,y_train)\n"
   ]
  },
  {
   "cell_type": "code",
   "execution_count": 48,
   "metadata": {},
   "outputs": [
    {
     "name": "stdout",
     "output_type": "stream",
     "text": [
      "Confusion Matrix: \n",
      " [[119522  30427]\n",
      " [  9796   9806]]\n",
      "Training accuracy:  0.7819248968696918\n",
      "Testing  accuracy:  0.7627675448685056\n",
      "Precision:  0.24373027117043222\n",
      "Recall:  0.5002550760126517\n",
      "F1-Score:  0.32776802874571737\n",
      "AUC:  0.7309289440285697\n",
      "Average Precision:  0.17970343168821004\n"
     ]
    }
   ],
   "source": [
    "get_scores(model_5)"
   ]
  },
  {
   "attachments": {},
   "cell_type": "markdown",
   "metadata": {},
   "source": [
    "<h3 style=\"color:green;\">Interpreting model 5 results</h3>\n",
    "\n",
    "<p>\n",
    "    </p>\n",
    "<h4>Interpretation</h4>\n",
    "<li>Model 5 has the highest f1 score and AUC score so far. </li>\n",
    "<li>Compared to model 4, model 5 increases recall while only seeing a minimal decline in precision.</li>\n",
    "<li>Accuracy, however, is slightly lower.</li>"
   ]
  },
  {
   "cell_type": "markdown",
   "metadata": {},
   "source": [
    "<h3 style=\"color:green;\">Update results df</h3>\n"
   ]
  },
  {
   "cell_type": "code",
   "execution_count": 49,
   "metadata": {},
   "outputs": [
    {
     "data": {
      "text/html": [
       "<div>\n",
       "<style scoped>\n",
       "    .dataframe tbody tr th:only-of-type {\n",
       "        vertical-align: middle;\n",
       "    }\n",
       "\n",
       "    .dataframe tbody tr th {\n",
       "        vertical-align: top;\n",
       "    }\n",
       "\n",
       "    .dataframe thead th {\n",
       "        text-align: right;\n",
       "    }\n",
       "</style>\n",
       "<table border=\"1\" class=\"dataframe\">\n",
       "  <thead>\n",
       "    <tr style=\"text-align: right;\">\n",
       "      <th></th>\n",
       "      <th>accuracy</th>\n",
       "      <th>precision</th>\n",
       "      <th>recall</th>\n",
       "      <th>f1_score</th>\n",
       "      <th>AUC</th>\n",
       "      <th>AP</th>\n",
       "    </tr>\n",
       "    <tr>\n",
       "      <th>Model</th>\n",
       "      <th></th>\n",
       "      <th></th>\n",
       "      <th></th>\n",
       "      <th></th>\n",
       "      <th></th>\n",
       "      <th></th>\n",
       "    </tr>\n",
       "  </thead>\n",
       "  <tbody>\n",
       "    <tr>\n",
       "      <th>1</th>\n",
       "      <td>0.884200</td>\n",
       "      <td>0.078947</td>\n",
       "      <td>0.000153</td>\n",
       "      <td>0.000305</td>\n",
       "      <td>0.691980</td>\n",
       "      <td>0.115606</td>\n",
       "    </tr>\n",
       "    <tr>\n",
       "      <th>2</th>\n",
       "      <td>0.557042</td>\n",
       "      <td>0.171251</td>\n",
       "      <td>0.737476</td>\n",
       "      <td>0.277957</td>\n",
       "      <td>0.693819</td>\n",
       "      <td>0.156644</td>\n",
       "    </tr>\n",
       "    <tr>\n",
       "      <th>3</th>\n",
       "      <td>0.628212</td>\n",
       "      <td>0.183875</td>\n",
       "      <td>0.644424</td>\n",
       "      <td>0.286112</td>\n",
       "      <td>0.686343</td>\n",
       "      <td>0.159602</td>\n",
       "    </tr>\n",
       "    <tr>\n",
       "      <th>4</th>\n",
       "      <td>0.816551</td>\n",
       "      <td>0.257280</td>\n",
       "      <td>0.310989</td>\n",
       "      <td>0.281596</td>\n",
       "      <td>0.692853</td>\n",
       "      <td>0.159669</td>\n",
       "    </tr>\n",
       "    <tr>\n",
       "      <th>5</th>\n",
       "      <td>0.762768</td>\n",
       "      <td>0.243730</td>\n",
       "      <td>0.500255</td>\n",
       "      <td>0.327768</td>\n",
       "      <td>0.730929</td>\n",
       "      <td>0.179703</td>\n",
       "    </tr>\n",
       "    <tr>\n",
       "      <th>6</th>\n",
       "      <td>0.802107</td>\n",
       "      <td>0.268801</td>\n",
       "      <td>0.413733</td>\n",
       "      <td>0.325879</td>\n",
       "      <td>0.748559</td>\n",
       "      <td>0.178991</td>\n",
       "    </tr>\n",
       "    <tr>\n",
       "      <th>7</th>\n",
       "      <td>0.755147</td>\n",
       "      <td>0.244037</td>\n",
       "      <td>0.532905</td>\n",
       "      <td>0.334770</td>\n",
       "      <td>0.748230</td>\n",
       "      <td>0.184050</td>\n",
       "    </tr>\n",
       "  </tbody>\n",
       "</table>\n",
       "</div>"
      ],
      "text/plain": [
       "       accuracy  precision    recall  f1_score       AUC        AP\n",
       "Model                                                             \n",
       "1      0.884200   0.078947  0.000153  0.000305  0.691980  0.115606\n",
       "2      0.557042   0.171251  0.737476  0.277957  0.693819  0.156644\n",
       "3      0.628212   0.183875  0.644424  0.286112  0.686343  0.159602\n",
       "4      0.816551   0.257280  0.310989  0.281596  0.692853  0.159669\n",
       "5      0.762768   0.243730  0.500255  0.327768  0.730929  0.179703\n",
       "6      0.802107   0.268801  0.413733  0.325879  0.748559  0.178991\n",
       "7      0.755147   0.244037  0.532905  0.334770  0.748230  0.184050"
      ]
     },
     "execution_count": 49,
     "metadata": {},
     "output_type": "execute_result"
    }
   ],
   "source": [
    "\n",
    "results_df.loc[5] = get_scores(model_5, p=False)\n",
    "\n",
    "\n",
    "\n",
    "results_df"
   ]
  },
  {
   "cell_type": "markdown",
   "metadata": {},
   "source": [
    "<h1 style=\"color:red;font-size:xx-large\">Build Model 6</h1>"
   ]
  },
  {
   "cell_type": "markdown",
   "metadata": {},
   "source": [
    "<li>Gradient Boosting Classifier</li>\n",
    "<li>Grid search on GBC can take several days so let's just skip to the best models (I ran a 2-day reduced version)!</li>\n",
    "<li>Sklearn's gradient boosting classifier uses a sample weight vector to correct for imbalances in the data</li>\n"
   ]
  },
  {
   "cell_type": "code",
   "execution_count": 34,
   "metadata": {},
   "outputs": [
    {
     "data": {
      "text/html": [
       "<style>#sk-container-id-2 {color: black;background-color: white;}#sk-container-id-2 pre{padding: 0;}#sk-container-id-2 div.sk-toggleable {background-color: white;}#sk-container-id-2 label.sk-toggleable__label {cursor: pointer;display: block;width: 100%;margin-bottom: 0;padding: 0.3em;box-sizing: border-box;text-align: center;}#sk-container-id-2 label.sk-toggleable__label-arrow:before {content: \"▸\";float: left;margin-right: 0.25em;color: #696969;}#sk-container-id-2 label.sk-toggleable__label-arrow:hover:before {color: black;}#sk-container-id-2 div.sk-estimator:hover label.sk-toggleable__label-arrow:before {color: black;}#sk-container-id-2 div.sk-toggleable__content {max-height: 0;max-width: 0;overflow: hidden;text-align: left;background-color: #f0f8ff;}#sk-container-id-2 div.sk-toggleable__content pre {margin: 0.2em;color: black;border-radius: 0.25em;background-color: #f0f8ff;}#sk-container-id-2 input.sk-toggleable__control:checked~div.sk-toggleable__content {max-height: 200px;max-width: 100%;overflow: auto;}#sk-container-id-2 input.sk-toggleable__control:checked~label.sk-toggleable__label-arrow:before {content: \"▾\";}#sk-container-id-2 div.sk-estimator input.sk-toggleable__control:checked~label.sk-toggleable__label {background-color: #d4ebff;}#sk-container-id-2 div.sk-label input.sk-toggleable__control:checked~label.sk-toggleable__label {background-color: #d4ebff;}#sk-container-id-2 input.sk-hidden--visually {border: 0;clip: rect(1px 1px 1px 1px);clip: rect(1px, 1px, 1px, 1px);height: 1px;margin: -1px;overflow: hidden;padding: 0;position: absolute;width: 1px;}#sk-container-id-2 div.sk-estimator {font-family: monospace;background-color: #f0f8ff;border: 1px dotted black;border-radius: 0.25em;box-sizing: border-box;margin-bottom: 0.5em;}#sk-container-id-2 div.sk-estimator:hover {background-color: #d4ebff;}#sk-container-id-2 div.sk-parallel-item::after {content: \"\";width: 100%;border-bottom: 1px solid gray;flex-grow: 1;}#sk-container-id-2 div.sk-label:hover label.sk-toggleable__label {background-color: #d4ebff;}#sk-container-id-2 div.sk-serial::before {content: \"\";position: absolute;border-left: 1px solid gray;box-sizing: border-box;top: 0;bottom: 0;left: 50%;z-index: 0;}#sk-container-id-2 div.sk-serial {display: flex;flex-direction: column;align-items: center;background-color: white;padding-right: 0.2em;padding-left: 0.2em;position: relative;}#sk-container-id-2 div.sk-item {position: relative;z-index: 1;}#sk-container-id-2 div.sk-parallel {display: flex;align-items: stretch;justify-content: center;background-color: white;position: relative;}#sk-container-id-2 div.sk-item::before, #sk-container-id-2 div.sk-parallel-item::before {content: \"\";position: absolute;border-left: 1px solid gray;box-sizing: border-box;top: 0;bottom: 0;left: 50%;z-index: -1;}#sk-container-id-2 div.sk-parallel-item {display: flex;flex-direction: column;z-index: 1;position: relative;background-color: white;}#sk-container-id-2 div.sk-parallel-item:first-child::after {align-self: flex-end;width: 50%;}#sk-container-id-2 div.sk-parallel-item:last-child::after {align-self: flex-start;width: 50%;}#sk-container-id-2 div.sk-parallel-item:only-child::after {width: 0;}#sk-container-id-2 div.sk-dashed-wrapped {border: 1px dashed gray;margin: 0 0.4em 0.5em 0.4em;box-sizing: border-box;padding-bottom: 0.4em;background-color: white;}#sk-container-id-2 div.sk-label label {font-family: monospace;font-weight: bold;display: inline-block;line-height: 1.2em;}#sk-container-id-2 div.sk-label-container {text-align: center;}#sk-container-id-2 div.sk-container {/* jupyter's `normalize.less` sets `[hidden] { display: none; }` but bootstrap.min.css set `[hidden] { display: none !important; }` so we also need the `!important` here to be able to override the default hidden behavior on the sphinx rendered scikit-learn.org. See: https://github.com/scikit-learn/scikit-learn/issues/21755 */display: inline-block !important;position: relative;}#sk-container-id-2 div.sk-text-repr-fallback {display: none;}</style><div id=\"sk-container-id-2\" class=\"sk-top-container\"><div class=\"sk-text-repr-fallback\"><pre>GradientBoostingClassifier(max_depth=8, min_samples_leaf=100,\n",
       "                           min_samples_split=100, n_estimators=400,\n",
       "                           subsample=0.6)</pre><b>In a Jupyter environment, please rerun this cell to show the HTML representation or trust the notebook. <br />On GitHub, the HTML representation is unable to render, please try loading this page with nbviewer.org.</b></div><div class=\"sk-container\" hidden><div class=\"sk-item\"><div class=\"sk-estimator sk-toggleable\"><input class=\"sk-toggleable__control sk-hidden--visually\" id=\"sk-estimator-id-2\" type=\"checkbox\" checked><label for=\"sk-estimator-id-2\" class=\"sk-toggleable__label sk-toggleable__label-arrow\">GradientBoostingClassifier</label><div class=\"sk-toggleable__content\"><pre>GradientBoostingClassifier(max_depth=8, min_samples_leaf=100,\n",
       "                           min_samples_split=100, n_estimators=400,\n",
       "                           subsample=0.6)</pre></div></div></div></div></div>"
      ],
      "text/plain": [
       "GradientBoostingClassifier(max_depth=8, min_samples_leaf=100,\n",
       "                           min_samples_split=100, n_estimators=400,\n",
       "                           subsample=0.6)"
      ]
     },
     "execution_count": 34,
     "metadata": {},
     "output_type": "execute_result"
    }
   ],
   "source": [
    "from sklearn.ensemble import GradientBoostingClassifier\n",
    "\n",
    "#sample_weight is a vector that indicates the weight of each \n",
    "#case in the training sample\n",
    "#If you're interested, try values from 1 to 10 instead of 4\n",
    "sample_weight = np.array([4 if i == 1 else 1 for i in y_train])\n",
    "\n",
    "\n",
    "model_6 = GradientBoostingClassifier(min_samples_split=100,\n",
    "                                     max_depth=8,\n",
    "                                 min_samples_leaf=100,\n",
    "                                 n_estimators=400,\n",
    "                                 subsample=0.6)\n",
    "\n",
    "\n",
    "model_6.fit(x_train,y_train,sample_weight=sample_weight)\n",
    "\n"
   ]
  },
  {
   "cell_type": "code",
   "execution_count": 35,
   "metadata": {},
   "outputs": [
    {
     "name": "stdout",
     "output_type": "stream",
     "text": [
      "Confusion Matrix: \n",
      " [[127888  22061]\n",
      " [ 11492   8110]]\n",
      "Training accuracy:  0.8167288481760091\n",
      "Testing  accuracy:  0.8021067407446727\n",
      "Precision:  0.2688011666832389\n",
      "Recall:  0.4137332925211713\n",
      "F1-Score:  0.3258794928977558\n",
      "AUC:  0.748559037672033\n",
      "Average Precision:  0.17899100806855378\n"
     ]
    }
   ],
   "source": [
    "#Calculate and print metrics\n",
    "\n",
    "get_scores(model_6)"
   ]
  },
  {
   "attachments": {},
   "cell_type": "markdown",
   "metadata": {},
   "source": [
    "<h3 style=\"color:green;\">Interpreting model 6 results</h3>\n",
    "\n",
    "<p>\n",
    "    </p>\n",
    "<h4>Interpretation</h4>\n",
    "<li>Model 6 has the highest AUC score of any of the models so far.</li>\n",
    "<li>Model 6 also high the highest precision, but this causes a large drop in recall.</li>"
   ]
  },
  {
   "cell_type": "markdown",
   "metadata": {},
   "source": [
    "<h3 style=\"color:green;\">Update results df</h3>\n"
   ]
  },
  {
   "cell_type": "code",
   "execution_count": 9,
   "metadata": {},
   "outputs": [
    {
     "data": {
      "text/html": [
       "<div>\n",
       "<style scoped>\n",
       "    .dataframe tbody tr th:only-of-type {\n",
       "        vertical-align: middle;\n",
       "    }\n",
       "\n",
       "    .dataframe tbody tr th {\n",
       "        vertical-align: top;\n",
       "    }\n",
       "\n",
       "    .dataframe thead th {\n",
       "        text-align: right;\n",
       "    }\n",
       "</style>\n",
       "<table border=\"1\" class=\"dataframe\">\n",
       "  <thead>\n",
       "    <tr style=\"text-align: right;\">\n",
       "      <th></th>\n",
       "      <th>accuracy</th>\n",
       "      <th>precision</th>\n",
       "      <th>recall</th>\n",
       "      <th>f1_score</th>\n",
       "      <th>AUC</th>\n",
       "      <th>AP</th>\n",
       "    </tr>\n",
       "  </thead>\n",
       "  <tbody>\n",
       "    <tr>\n",
       "      <th>1</th>\n",
       "      <td>0.884200</td>\n",
       "      <td>0.078947</td>\n",
       "      <td>0.000153</td>\n",
       "      <td>0.000305</td>\n",
       "      <td>0.691980</td>\n",
       "      <td>0.115606</td>\n",
       "    </tr>\n",
       "    <tr>\n",
       "      <th>2</th>\n",
       "      <td>0.557042</td>\n",
       "      <td>0.171251</td>\n",
       "      <td>0.737476</td>\n",
       "      <td>0.277957</td>\n",
       "      <td>0.693819</td>\n",
       "      <td>0.156644</td>\n",
       "    </tr>\n",
       "    <tr>\n",
       "      <th>3</th>\n",
       "      <td>0.628212</td>\n",
       "      <td>0.183875</td>\n",
       "      <td>0.644424</td>\n",
       "      <td>0.286112</td>\n",
       "      <td>0.686343</td>\n",
       "      <td>0.159602</td>\n",
       "    </tr>\n",
       "    <tr>\n",
       "      <th>4</th>\n",
       "      <td>0.816551</td>\n",
       "      <td>0.257280</td>\n",
       "      <td>0.310989</td>\n",
       "      <td>0.281596</td>\n",
       "      <td>0.692853</td>\n",
       "      <td>0.159669</td>\n",
       "    </tr>\n",
       "    <tr>\n",
       "      <th>5</th>\n",
       "      <td>0.762768</td>\n",
       "      <td>0.243730</td>\n",
       "      <td>0.500255</td>\n",
       "      <td>0.327768</td>\n",
       "      <td>0.730929</td>\n",
       "      <td>0.179703</td>\n",
       "    </tr>\n",
       "    <tr>\n",
       "      <th>6</th>\n",
       "      <td>0.802107</td>\n",
       "      <td>0.268801</td>\n",
       "      <td>0.413733</td>\n",
       "      <td>0.325879</td>\n",
       "      <td>0.748559</td>\n",
       "      <td>0.178991</td>\n",
       "    </tr>\n",
       "    <tr>\n",
       "      <th>7</th>\n",
       "      <td>0.755147</td>\n",
       "      <td>0.244037</td>\n",
       "      <td>0.532905</td>\n",
       "      <td>0.334770</td>\n",
       "      <td>0.748230</td>\n",
       "      <td>0.184050</td>\n",
       "    </tr>\n",
       "  </tbody>\n",
       "</table>\n",
       "</div>"
      ],
      "text/plain": [
       "   accuracy  precision    recall  f1_score       AUC        AP\n",
       "1  0.884200   0.078947  0.000153  0.000305  0.691980  0.115606\n",
       "2  0.557042   0.171251  0.737476  0.277957  0.693819  0.156644\n",
       "3  0.628212   0.183875  0.644424  0.286112  0.686343  0.159602\n",
       "4  0.816551   0.257280  0.310989  0.281596  0.692853  0.159669\n",
       "5  0.762768   0.243730  0.500255  0.327768  0.730929  0.179703\n",
       "6  0.802107   0.268801  0.413733  0.325879  0.748559  0.178991\n",
       "7  0.755147   0.244037  0.532905  0.334770  0.748230  0.184050"
      ]
     },
     "execution_count": 9,
     "metadata": {},
     "output_type": "execute_result"
    }
   ],
   "source": [
    "results_df.loc[6] = get_scores(model_6, p=False)\n",
    "\n",
    "results_df"
   ]
  },
  {
   "cell_type": "markdown",
   "metadata": {},
   "source": [
    "<h1 style=\"color:red;font-size:xx-large\">Build Model 7</h1>"
   ]
  },
  {
   "cell_type": "markdown",
   "metadata": {},
   "source": [
    "<li>Same parameters but up the sample weight to 5</li>"
   ]
  },
  {
   "cell_type": "code",
   "execution_count": 39,
   "metadata": {},
   "outputs": [
    {
     "data": {
      "text/html": [
       "<style>#sk-container-id-3 {color: black;background-color: white;}#sk-container-id-3 pre{padding: 0;}#sk-container-id-3 div.sk-toggleable {background-color: white;}#sk-container-id-3 label.sk-toggleable__label {cursor: pointer;display: block;width: 100%;margin-bottom: 0;padding: 0.3em;box-sizing: border-box;text-align: center;}#sk-container-id-3 label.sk-toggleable__label-arrow:before {content: \"▸\";float: left;margin-right: 0.25em;color: #696969;}#sk-container-id-3 label.sk-toggleable__label-arrow:hover:before {color: black;}#sk-container-id-3 div.sk-estimator:hover label.sk-toggleable__label-arrow:before {color: black;}#sk-container-id-3 div.sk-toggleable__content {max-height: 0;max-width: 0;overflow: hidden;text-align: left;background-color: #f0f8ff;}#sk-container-id-3 div.sk-toggleable__content pre {margin: 0.2em;color: black;border-radius: 0.25em;background-color: #f0f8ff;}#sk-container-id-3 input.sk-toggleable__control:checked~div.sk-toggleable__content {max-height: 200px;max-width: 100%;overflow: auto;}#sk-container-id-3 input.sk-toggleable__control:checked~label.sk-toggleable__label-arrow:before {content: \"▾\";}#sk-container-id-3 div.sk-estimator input.sk-toggleable__control:checked~label.sk-toggleable__label {background-color: #d4ebff;}#sk-container-id-3 div.sk-label input.sk-toggleable__control:checked~label.sk-toggleable__label {background-color: #d4ebff;}#sk-container-id-3 input.sk-hidden--visually {border: 0;clip: rect(1px 1px 1px 1px);clip: rect(1px, 1px, 1px, 1px);height: 1px;margin: -1px;overflow: hidden;padding: 0;position: absolute;width: 1px;}#sk-container-id-3 div.sk-estimator {font-family: monospace;background-color: #f0f8ff;border: 1px dotted black;border-radius: 0.25em;box-sizing: border-box;margin-bottom: 0.5em;}#sk-container-id-3 div.sk-estimator:hover {background-color: #d4ebff;}#sk-container-id-3 div.sk-parallel-item::after {content: \"\";width: 100%;border-bottom: 1px solid gray;flex-grow: 1;}#sk-container-id-3 div.sk-label:hover label.sk-toggleable__label {background-color: #d4ebff;}#sk-container-id-3 div.sk-serial::before {content: \"\";position: absolute;border-left: 1px solid gray;box-sizing: border-box;top: 0;bottom: 0;left: 50%;z-index: 0;}#sk-container-id-3 div.sk-serial {display: flex;flex-direction: column;align-items: center;background-color: white;padding-right: 0.2em;padding-left: 0.2em;position: relative;}#sk-container-id-3 div.sk-item {position: relative;z-index: 1;}#sk-container-id-3 div.sk-parallel {display: flex;align-items: stretch;justify-content: center;background-color: white;position: relative;}#sk-container-id-3 div.sk-item::before, #sk-container-id-3 div.sk-parallel-item::before {content: \"\";position: absolute;border-left: 1px solid gray;box-sizing: border-box;top: 0;bottom: 0;left: 50%;z-index: -1;}#sk-container-id-3 div.sk-parallel-item {display: flex;flex-direction: column;z-index: 1;position: relative;background-color: white;}#sk-container-id-3 div.sk-parallel-item:first-child::after {align-self: flex-end;width: 50%;}#sk-container-id-3 div.sk-parallel-item:last-child::after {align-self: flex-start;width: 50%;}#sk-container-id-3 div.sk-parallel-item:only-child::after {width: 0;}#sk-container-id-3 div.sk-dashed-wrapped {border: 1px dashed gray;margin: 0 0.4em 0.5em 0.4em;box-sizing: border-box;padding-bottom: 0.4em;background-color: white;}#sk-container-id-3 div.sk-label label {font-family: monospace;font-weight: bold;display: inline-block;line-height: 1.2em;}#sk-container-id-3 div.sk-label-container {text-align: center;}#sk-container-id-3 div.sk-container {/* jupyter's `normalize.less` sets `[hidden] { display: none; }` but bootstrap.min.css set `[hidden] { display: none !important; }` so we also need the `!important` here to be able to override the default hidden behavior on the sphinx rendered scikit-learn.org. See: https://github.com/scikit-learn/scikit-learn/issues/21755 */display: inline-block !important;position: relative;}#sk-container-id-3 div.sk-text-repr-fallback {display: none;}</style><div id=\"sk-container-id-3\" class=\"sk-top-container\"><div class=\"sk-text-repr-fallback\"><pre>GradientBoostingClassifier(max_depth=8, min_samples_leaf=100,\n",
       "                           min_samples_split=100, n_estimators=400,\n",
       "                           subsample=0.6)</pre><b>In a Jupyter environment, please rerun this cell to show the HTML representation or trust the notebook. <br />On GitHub, the HTML representation is unable to render, please try loading this page with nbviewer.org.</b></div><div class=\"sk-container\" hidden><div class=\"sk-item\"><div class=\"sk-estimator sk-toggleable\"><input class=\"sk-toggleable__control sk-hidden--visually\" id=\"sk-estimator-id-3\" type=\"checkbox\" checked><label for=\"sk-estimator-id-3\" class=\"sk-toggleable__label sk-toggleable__label-arrow\">GradientBoostingClassifier</label><div class=\"sk-toggleable__content\"><pre>GradientBoostingClassifier(max_depth=8, min_samples_leaf=100,\n",
       "                           min_samples_split=100, n_estimators=400,\n",
       "                           subsample=0.6)</pre></div></div></div></div></div>"
      ],
      "text/plain": [
       "GradientBoostingClassifier(max_depth=8, min_samples_leaf=100,\n",
       "                           min_samples_split=100, n_estimators=400,\n",
       "                           subsample=0.6)"
      ]
     },
     "execution_count": 39,
     "metadata": {},
     "output_type": "execute_result"
    }
   ],
   "source": [
    "from sklearn.ensemble import GradientBoostingClassifier\n",
    "\n",
    "#sample_weight is a vector that indicates the weight of each \n",
    "#case in the training sample\n",
    "#If you're interested, try values from 1 to 10 instead of 4\n",
    "sample_weight = np.array([5 if i == 1 else 1 for i in y_train])\n",
    "\n",
    "\n",
    "model_7 = GradientBoostingClassifier(min_samples_split=100,\n",
    "                                     max_depth=8,\n",
    "                                 min_samples_leaf=100,\n",
    "                                 n_estimators=400,\n",
    "                                 subsample=0.6)\n",
    "model_7.fit(x_train,y_train,sample_weight=sample_weight)\n"
   ]
  },
  {
   "cell_type": "code",
   "execution_count": 40,
   "metadata": {},
   "outputs": [
    {
     "name": "stdout",
     "output_type": "stream",
     "text": [
      "Confusion Matrix: \n",
      " [[117590  32359]\n",
      " [  9156  10446]]\n",
      "Training accuracy:  0.7715815336083475\n",
      "Testing  accuracy:  0.7551474187707533\n",
      "Precision:  0.2440369115757505\n",
      "Recall:  0.5329048056320783\n",
      "F1-Score:  0.33477013796529237\n",
      "AUC:  0.7482298957328246\n",
      "Average Precision:  0.1840498938212104\n"
     ]
    }
   ],
   "source": [
    "#Calculate and print metrics\n",
    "get_scores(model_7)\n"
   ]
  },
  {
   "attachments": {},
   "cell_type": "markdown",
   "metadata": {},
   "source": [
    "<h3 style=\"color:green;\">Interpreting model 7 results</h3>\n",
    "\n",
    "<p>\n",
    "    </p>\n",
    "<h4>Interpretation</h4>\n",
    "<li>Model 7 has the highest f1 score and AP score of all the models.</li>\n",
    "<li>Compared to model 6, model 7 has higher recall with only slightly lower precision</li>\n"
   ]
  },
  {
   "cell_type": "markdown",
   "metadata": {},
   "source": [
    "<h3 style=\"color:green;\">Update results df</h3>\n"
   ]
  },
  {
   "cell_type": "code",
   "execution_count": null,
   "metadata": {},
   "outputs": [],
   "source": [
    "results_df.loc[7] = get_scores(model_7, p=False)"
   ]
  },
  {
   "cell_type": "code",
   "execution_count": 40,
   "metadata": {},
   "outputs": [
    {
     "data": {
      "text/html": [
       "<div>\n",
       "<style scoped>\n",
       "    .dataframe tbody tr th:only-of-type {\n",
       "        vertical-align: middle;\n",
       "    }\n",
       "\n",
       "    .dataframe tbody tr th {\n",
       "        vertical-align: top;\n",
       "    }\n",
       "\n",
       "    .dataframe thead th {\n",
       "        text-align: right;\n",
       "    }\n",
       "</style>\n",
       "<table border=\"1\" class=\"dataframe\">\n",
       "  <thead>\n",
       "    <tr style=\"text-align: right;\">\n",
       "      <th></th>\n",
       "      <th>accuracy</th>\n",
       "      <th>precision</th>\n",
       "      <th>recall</th>\n",
       "      <th>f1_score</th>\n",
       "      <th>AUC</th>\n",
       "      <th>AP</th>\n",
       "      <th>model</th>\n",
       "    </tr>\n",
       "  </thead>\n",
       "  <tbody>\n",
       "    <tr>\n",
       "      <th>1</th>\n",
       "      <td>0.884200</td>\n",
       "      <td>0.078947</td>\n",
       "      <td>0.000153</td>\n",
       "      <td>0.000305</td>\n",
       "      <td>0.691980</td>\n",
       "      <td>0.115606</td>\n",
       "      <td>1</td>\n",
       "    </tr>\n",
       "    <tr>\n",
       "      <th>2</th>\n",
       "      <td>0.557042</td>\n",
       "      <td>0.171251</td>\n",
       "      <td>0.737476</td>\n",
       "      <td>0.277957</td>\n",
       "      <td>0.693819</td>\n",
       "      <td>0.156644</td>\n",
       "      <td>2</td>\n",
       "    </tr>\n",
       "    <tr>\n",
       "      <th>3</th>\n",
       "      <td>0.628212</td>\n",
       "      <td>0.183875</td>\n",
       "      <td>0.644424</td>\n",
       "      <td>0.286112</td>\n",
       "      <td>0.686343</td>\n",
       "      <td>0.159602</td>\n",
       "      <td>3</td>\n",
       "    </tr>\n",
       "    <tr>\n",
       "      <th>4</th>\n",
       "      <td>0.816551</td>\n",
       "      <td>0.257280</td>\n",
       "      <td>0.310989</td>\n",
       "      <td>0.281596</td>\n",
       "      <td>0.692853</td>\n",
       "      <td>0.159669</td>\n",
       "      <td>4</td>\n",
       "    </tr>\n",
       "    <tr>\n",
       "      <th>5</th>\n",
       "      <td>0.762768</td>\n",
       "      <td>0.243730</td>\n",
       "      <td>0.500255</td>\n",
       "      <td>0.327768</td>\n",
       "      <td>0.730929</td>\n",
       "      <td>0.179703</td>\n",
       "      <td>5</td>\n",
       "    </tr>\n",
       "    <tr>\n",
       "      <th>6</th>\n",
       "      <td>0.802107</td>\n",
       "      <td>0.268801</td>\n",
       "      <td>0.413733</td>\n",
       "      <td>0.325879</td>\n",
       "      <td>0.748559</td>\n",
       "      <td>0.178991</td>\n",
       "      <td>6</td>\n",
       "    </tr>\n",
       "    <tr>\n",
       "      <th>7</th>\n",
       "      <td>0.755147</td>\n",
       "      <td>0.244037</td>\n",
       "      <td>0.532905</td>\n",
       "      <td>0.334770</td>\n",
       "      <td>0.748230</td>\n",
       "      <td>0.184050</td>\n",
       "      <td>7</td>\n",
       "    </tr>\n",
       "  </tbody>\n",
       "</table>\n",
       "</div>"
      ],
      "text/plain": [
       "   accuracy  precision    recall  f1_score       AUC        AP  model\n",
       "1  0.884200   0.078947  0.000153  0.000305  0.691980  0.115606      1\n",
       "2  0.557042   0.171251  0.737476  0.277957  0.693819  0.156644      2\n",
       "3  0.628212   0.183875  0.644424  0.286112  0.686343  0.159602      3\n",
       "4  0.816551   0.257280  0.310989  0.281596  0.692853  0.159669      4\n",
       "5  0.762768   0.243730  0.500255  0.327768  0.730929  0.179703      5\n",
       "6  0.802107   0.268801  0.413733  0.325879  0.748559  0.178991      6\n",
       "7  0.755147   0.244037  0.532905  0.334770  0.748230  0.184050      7"
      ]
     },
     "execution_count": 40,
     "metadata": {},
     "output_type": "execute_result"
    }
   ],
   "source": [
    "results_df"
   ]
  },
  {
   "cell_type": "markdown",
   "metadata": {},
   "source": [
    "<h3 style=\"color:red;font-size:xx-large\">Model comparison</h3>\n",
    "<li>Draw a graph that shows the changes to accuracy, precision, recall, and f1 score</li>\n",
    "<li>The x-axis contains the five models you have created</li>\n",
    "<li>Use bokeh for the charts</li>"
   ]
  },
  {
   "cell_type": "code",
   "execution_count": 6,
   "metadata": {},
   "outputs": [
    {
     "data": {
      "text/html": [
       "<div class=\"bk-root\">\n",
       "        <a href=\"https://bokeh.org\" target=\"_blank\" class=\"bk-logo bk-logo-small bk-logo-notebook\"></a>\n",
       "        <span id=\"1002\">Loading BokehJS ...</span>\n",
       "    </div>\n"
      ]
     },
     "metadata": {},
     "output_type": "display_data"
    },
    {
     "data": {
      "application/javascript": "(function(root) {\n  function now() {\n    return new Date();\n  }\n\n  const force = true;\n\n  if (typeof root._bokeh_onload_callbacks === \"undefined\" || force === true) {\n    root._bokeh_onload_callbacks = [];\n    root._bokeh_is_loading = undefined;\n  }\n\nconst JS_MIME_TYPE = 'application/javascript';\n  const HTML_MIME_TYPE = 'text/html';\n  const EXEC_MIME_TYPE = 'application/vnd.bokehjs_exec.v0+json';\n  const CLASS_NAME = 'output_bokeh rendered_html';\n\n  /**\n   * Render data to the DOM node\n   */\n  function render(props, node) {\n    const script = document.createElement(\"script\");\n    node.appendChild(script);\n  }\n\n  /**\n   * Handle when an output is cleared or removed\n   */\n  function handleClearOutput(event, handle) {\n    const cell = handle.cell;\n\n    const id = cell.output_area._bokeh_element_id;\n    const server_id = cell.output_area._bokeh_server_id;\n    // Clean up Bokeh references\n    if (id != null && id in Bokeh.index) {\n      Bokeh.index[id].model.document.clear();\n      delete Bokeh.index[id];\n    }\n\n    if (server_id !== undefined) {\n      // Clean up Bokeh references\n      const cmd_clean = \"from bokeh.io.state import curstate; print(curstate().uuid_to_server['\" + server_id + \"'].get_sessions()[0].document.roots[0]._id)\";\n      cell.notebook.kernel.execute(cmd_clean, {\n        iopub: {\n          output: function(msg) {\n            const id = msg.content.text.trim();\n            if (id in Bokeh.index) {\n              Bokeh.index[id].model.document.clear();\n              delete Bokeh.index[id];\n            }\n          }\n        }\n      });\n      // Destroy server and session\n      const cmd_destroy = \"import bokeh.io.notebook as ion; ion.destroy_server('\" + server_id + \"')\";\n      cell.notebook.kernel.execute(cmd_destroy);\n    }\n  }\n\n  /**\n   * Handle when a new output is added\n   */\n  function handleAddOutput(event, handle) {\n    const output_area = handle.output_area;\n    const output = handle.output;\n\n    // limit handleAddOutput to display_data with EXEC_MIME_TYPE content only\n    if ((output.output_type != \"display_data\") || (!Object.prototype.hasOwnProperty.call(output.data, EXEC_MIME_TYPE))) {\n      return\n    }\n\n    const toinsert = output_area.element.find(\".\" + CLASS_NAME.split(' ')[0]);\n\n    if (output.metadata[EXEC_MIME_TYPE][\"id\"] !== undefined) {\n      toinsert[toinsert.length - 1].firstChild.textContent = output.data[JS_MIME_TYPE];\n      // store reference to embed id on output_area\n      output_area._bokeh_element_id = output.metadata[EXEC_MIME_TYPE][\"id\"];\n    }\n    if (output.metadata[EXEC_MIME_TYPE][\"server_id\"] !== undefined) {\n      const bk_div = document.createElement(\"div\");\n      bk_div.innerHTML = output.data[HTML_MIME_TYPE];\n      const script_attrs = bk_div.children[0].attributes;\n      for (let i = 0; i < script_attrs.length; i++) {\n        toinsert[toinsert.length - 1].firstChild.setAttribute(script_attrs[i].name, script_attrs[i].value);\n        toinsert[toinsert.length - 1].firstChild.textContent = bk_div.children[0].textContent\n      }\n      // store reference to server id on output_area\n      output_area._bokeh_server_id = output.metadata[EXEC_MIME_TYPE][\"server_id\"];\n    }\n  }\n\n  function register_renderer(events, OutputArea) {\n\n    function append_mime(data, metadata, element) {\n      // create a DOM node to render to\n      const toinsert = this.create_output_subarea(\n        metadata,\n        CLASS_NAME,\n        EXEC_MIME_TYPE\n      );\n      this.keyboard_manager.register_events(toinsert);\n      // Render to node\n      const props = {data: data, metadata: metadata[EXEC_MIME_TYPE]};\n      render(props, toinsert[toinsert.length - 1]);\n      element.append(toinsert);\n      return toinsert\n    }\n\n    /* Handle when an output is cleared or removed */\n    events.on('clear_output.CodeCell', handleClearOutput);\n    events.on('delete.Cell', handleClearOutput);\n\n    /* Handle when a new output is added */\n    events.on('output_added.OutputArea', handleAddOutput);\n\n    /**\n     * Register the mime type and append_mime function with output_area\n     */\n    OutputArea.prototype.register_mime_type(EXEC_MIME_TYPE, append_mime, {\n      /* Is output safe? */\n      safe: true,\n      /* Index of renderer in `output_area.display_order` */\n      index: 0\n    });\n  }\n\n  // register the mime type if in Jupyter Notebook environment and previously unregistered\n  if (root.Jupyter !== undefined) {\n    const events = require('base/js/events');\n    const OutputArea = require('notebook/js/outputarea').OutputArea;\n\n    if (OutputArea.prototype.mime_types().indexOf(EXEC_MIME_TYPE) == -1) {\n      register_renderer(events, OutputArea);\n    }\n  }\n  if (typeof (root._bokeh_timeout) === \"undefined\" || force === true) {\n    root._bokeh_timeout = Date.now() + 5000;\n    root._bokeh_failed_load = false;\n  }\n\n  const NB_LOAD_WARNING = {'data': {'text/html':\n     \"<div style='background-color: #fdd'>\\n\"+\n     \"<p>\\n\"+\n     \"BokehJS does not appear to have successfully loaded. If loading BokehJS from CDN, this \\n\"+\n     \"may be due to a slow or bad network connection. Possible fixes:\\n\"+\n     \"</p>\\n\"+\n     \"<ul>\\n\"+\n     \"<li>re-rerun `output_notebook()` to attempt to load from CDN again, or</li>\\n\"+\n     \"<li>use INLINE resources instead, as so:</li>\\n\"+\n     \"</ul>\\n\"+\n     \"<code>\\n\"+\n     \"from bokeh.resources import INLINE\\n\"+\n     \"output_notebook(resources=INLINE)\\n\"+\n     \"</code>\\n\"+\n     \"</div>\"}};\n\n  function display_loaded() {\n    const el = document.getElementById(\"1002\");\n    if (el != null) {\n      el.textContent = \"BokehJS is loading...\";\n    }\n    if (root.Bokeh !== undefined) {\n      if (el != null) {\n        el.textContent = \"BokehJS \" + root.Bokeh.version + \" successfully loaded.\";\n      }\n    } else if (Date.now() < root._bokeh_timeout) {\n      setTimeout(display_loaded, 100)\n    }\n  }\n\n  function run_callbacks() {\n    try {\n      root._bokeh_onload_callbacks.forEach(function(callback) {\n        if (callback != null)\n          callback();\n      });\n    } finally {\n      delete root._bokeh_onload_callbacks\n    }\n    console.debug(\"Bokeh: all callbacks have finished\");\n  }\n\n  function load_libs(css_urls, js_urls, callback) {\n    if (css_urls == null) css_urls = [];\n    if (js_urls == null) js_urls = [];\n\n    root._bokeh_onload_callbacks.push(callback);\n    if (root._bokeh_is_loading > 0) {\n      console.debug(\"Bokeh: BokehJS is being loaded, scheduling callback at\", now());\n      return null;\n    }\n    if (js_urls == null || js_urls.length === 0) {\n      run_callbacks();\n      return null;\n    }\n    console.debug(\"Bokeh: BokehJS not loaded, scheduling load and callback at\", now());\n    root._bokeh_is_loading = css_urls.length + js_urls.length;\n\n    function on_load() {\n      root._bokeh_is_loading--;\n      if (root._bokeh_is_loading === 0) {\n        console.debug(\"Bokeh: all BokehJS libraries/stylesheets loaded\");\n        run_callbacks()\n      }\n    }\n\n    function on_error(url) {\n      console.error(\"failed to load \" + url);\n    }\n\n    for (let i = 0; i < css_urls.length; i++) {\n      const url = css_urls[i];\n      const element = document.createElement(\"link\");\n      element.onload = on_load;\n      element.onerror = on_error.bind(null, url);\n      element.rel = \"stylesheet\";\n      element.type = \"text/css\";\n      element.href = url;\n      console.debug(\"Bokeh: injecting link tag for BokehJS stylesheet: \", url);\n      document.body.appendChild(element);\n    }\n\n    for (let i = 0; i < js_urls.length; i++) {\n      const url = js_urls[i];\n      const element = document.createElement('script');\n      element.onload = on_load;\n      element.onerror = on_error.bind(null, url);\n      element.async = false;\n      element.src = url;\n      console.debug(\"Bokeh: injecting script tag for BokehJS library: \", url);\n      document.head.appendChild(element);\n    }\n  };\n\n  function inject_raw_css(css) {\n    const element = document.createElement(\"style\");\n    element.appendChild(document.createTextNode(css));\n    document.body.appendChild(element);\n  }\n\n  const js_urls = [\"https://cdn.bokeh.org/bokeh/release/bokeh-2.4.3.min.js\", \"https://cdn.bokeh.org/bokeh/release/bokeh-gl-2.4.3.min.js\", \"https://cdn.bokeh.org/bokeh/release/bokeh-widgets-2.4.3.min.js\", \"https://cdn.bokeh.org/bokeh/release/bokeh-tables-2.4.3.min.js\", \"https://cdn.bokeh.org/bokeh/release/bokeh-mathjax-2.4.3.min.js\"];\n  const css_urls = [];\n\n  const inline_js = [    function(Bokeh) {\n      Bokeh.set_log_level(\"info\");\n    },\nfunction(Bokeh) {\n    }\n  ];\n\n  function run_inline_js() {\n    if (root.Bokeh !== undefined || force === true) {\n          for (let i = 0; i < inline_js.length; i++) {\n      inline_js[i].call(root, root.Bokeh);\n    }\nif (force === true) {\n        display_loaded();\n      }} else if (Date.now() < root._bokeh_timeout) {\n      setTimeout(run_inline_js, 100);\n    } else if (!root._bokeh_failed_load) {\n      console.log(\"Bokeh: BokehJS failed to load within specified timeout.\");\n      root._bokeh_failed_load = true;\n    } else if (force !== true) {\n      const cell = $(document.getElementById(\"1002\")).parents('.cell').data().cell;\n      cell.output_area.append_execute_result(NB_LOAD_WARNING)\n    }\n  }\n\n  if (root._bokeh_is_loading === 0) {\n    console.debug(\"Bokeh: BokehJS loaded, going straight to plotting\");\n    run_inline_js();\n  } else {\n    load_libs(css_urls, js_urls, function() {\n      console.debug(\"Bokeh: BokehJS plotting callback run at\", now());\n      run_inline_js();\n    });\n  }\n}(window));",
      "application/vnd.bokehjs_load.v0+json": ""
     },
     "metadata": {},
     "output_type": "display_data"
    }
   ],
   "source": [
    "from bokeh.io import output_notebook, show\n",
    "from bokeh.plotting import figure\n",
    "from bokeh.layouts import gridplot\n",
    "from bokeh.models import ColumnDataSource, LabelSet, HoverTool\n",
    "output_notebook()"
   ]
  },
  {
   "cell_type": "code",
   "execution_count": 14,
   "metadata": {},
   "outputs": [],
   "source": [
    "results_df['model'] = [1,2,3,4,5,6,7]"
   ]
  },
  {
   "cell_type": "code",
   "execution_count": 15,
   "metadata": {},
   "outputs": [
    {
     "data": {
      "text/html": [
       "<div>\n",
       "<style scoped>\n",
       "    .dataframe tbody tr th:only-of-type {\n",
       "        vertical-align: middle;\n",
       "    }\n",
       "\n",
       "    .dataframe tbody tr th {\n",
       "        vertical-align: top;\n",
       "    }\n",
       "\n",
       "    .dataframe thead th {\n",
       "        text-align: right;\n",
       "    }\n",
       "</style>\n",
       "<table border=\"1\" class=\"dataframe\">\n",
       "  <thead>\n",
       "    <tr style=\"text-align: right;\">\n",
       "      <th></th>\n",
       "      <th>accuracy</th>\n",
       "      <th>precision</th>\n",
       "      <th>recall</th>\n",
       "      <th>f1_score</th>\n",
       "      <th>AUC</th>\n",
       "      <th>AP</th>\n",
       "      <th>model</th>\n",
       "    </tr>\n",
       "  </thead>\n",
       "  <tbody>\n",
       "    <tr>\n",
       "      <th>1</th>\n",
       "      <td>0.884200</td>\n",
       "      <td>0.078947</td>\n",
       "      <td>0.000153</td>\n",
       "      <td>0.000305</td>\n",
       "      <td>0.691980</td>\n",
       "      <td>0.115606</td>\n",
       "      <td>1</td>\n",
       "    </tr>\n",
       "    <tr>\n",
       "      <th>2</th>\n",
       "      <td>0.557042</td>\n",
       "      <td>0.171251</td>\n",
       "      <td>0.737476</td>\n",
       "      <td>0.277957</td>\n",
       "      <td>0.693819</td>\n",
       "      <td>0.156644</td>\n",
       "      <td>2</td>\n",
       "    </tr>\n",
       "    <tr>\n",
       "      <th>3</th>\n",
       "      <td>0.628212</td>\n",
       "      <td>0.183875</td>\n",
       "      <td>0.644424</td>\n",
       "      <td>0.286112</td>\n",
       "      <td>0.686343</td>\n",
       "      <td>0.159602</td>\n",
       "      <td>3</td>\n",
       "    </tr>\n",
       "    <tr>\n",
       "      <th>4</th>\n",
       "      <td>0.816551</td>\n",
       "      <td>0.257280</td>\n",
       "      <td>0.310989</td>\n",
       "      <td>0.281596</td>\n",
       "      <td>0.692853</td>\n",
       "      <td>0.159669</td>\n",
       "      <td>4</td>\n",
       "    </tr>\n",
       "    <tr>\n",
       "      <th>5</th>\n",
       "      <td>0.762768</td>\n",
       "      <td>0.243730</td>\n",
       "      <td>0.500255</td>\n",
       "      <td>0.327768</td>\n",
       "      <td>0.730929</td>\n",
       "      <td>0.179703</td>\n",
       "      <td>5</td>\n",
       "    </tr>\n",
       "    <tr>\n",
       "      <th>6</th>\n",
       "      <td>0.802107</td>\n",
       "      <td>0.268801</td>\n",
       "      <td>0.413733</td>\n",
       "      <td>0.325879</td>\n",
       "      <td>0.748559</td>\n",
       "      <td>0.178991</td>\n",
       "      <td>6</td>\n",
       "    </tr>\n",
       "    <tr>\n",
       "      <th>7</th>\n",
       "      <td>0.755147</td>\n",
       "      <td>0.244037</td>\n",
       "      <td>0.532905</td>\n",
       "      <td>0.334770</td>\n",
       "      <td>0.748230</td>\n",
       "      <td>0.184050</td>\n",
       "      <td>7</td>\n",
       "    </tr>\n",
       "  </tbody>\n",
       "</table>\n",
       "</div>"
      ],
      "text/plain": [
       "   accuracy  precision    recall  f1_score       AUC        AP  model\n",
       "1  0.884200   0.078947  0.000153  0.000305  0.691980  0.115606      1\n",
       "2  0.557042   0.171251  0.737476  0.277957  0.693819  0.156644      2\n",
       "3  0.628212   0.183875  0.644424  0.286112  0.686343  0.159602      3\n",
       "4  0.816551   0.257280  0.310989  0.281596  0.692853  0.159669      4\n",
       "5  0.762768   0.243730  0.500255  0.327768  0.730929  0.179703      5\n",
       "6  0.802107   0.268801  0.413733  0.325879  0.748559  0.178991      6\n",
       "7  0.755147   0.244037  0.532905  0.334770  0.748230  0.184050      7"
      ]
     },
     "execution_count": 15,
     "metadata": {},
     "output_type": "execute_result"
    }
   ],
   "source": [
    "results_df"
   ]
  },
  {
   "cell_type": "code",
   "execution_count": 38,
   "metadata": {},
   "outputs": [
    {
     "data": {
      "text/html": [
       "\n",
       "  <div class=\"bk-root\" id=\"d6190afb-ffea-4222-a962-63cbbe2111c3\" data-root-id=\"7132\"></div>\n"
      ]
     },
     "metadata": {},
     "output_type": "display_data"
    },
    {
     "data": {
      "application/javascript": "(function(root) {\n  function embed_document(root) {\n  const docs_json = {\"c9685a1f-5de6-4617-98f1-4f7c62518ac9\":{\"defs\":[],\"roots\":{\"references\":[{\"attributes\":{\"children\":[{\"id\":\"7131\"},{\"id\":\"7129\"}],\"sizing_mode\":\"scale_both\"},\"id\":\"7132\",\"type\":\"Column\"},{\"attributes\":{\"end\":7.5,\"start\":0.5},\"id\":\"7047\",\"type\":\"Range1d\"},{\"attributes\":{\"tools\":[{\"id\":\"6981\"},{\"id\":\"6982\"},{\"id\":\"6983\"},{\"id\":\"6984\"},{\"id\":\"6985\"},{\"id\":\"6986\"},{\"id\":\"6988\"}]},\"id\":\"6989\",\"type\":\"Toolbar\"},{\"attributes\":{\"axis_label\":\"Precision Score\",\"coordinates\":null,\"formatter\":{\"id\":\"7098\"},\"group\":null,\"major_label_policy\":{\"id\":\"7099\"},\"ticker\":{\"id\":\"6978\"}},\"id\":\"6977\",\"type\":\"LinearAxis\"},{\"attributes\":{\"coordinates\":null,\"group\":null,\"text\":\"Recall Comparison\"},\"id\":\"7004\",\"type\":\"Title\"},{\"attributes\":{\"fill_alpha\":{\"value\":0.1},\"fill_color\":{\"value\":\"red\"},\"hatch_alpha\":{\"value\":0.1},\"hatch_color\":{\"value\":\"red\"},\"line_alpha\":{\"value\":0.1},\"top\":{\"field\":\"precision\"},\"width\":{\"value\":0.6},\"x\":{\"field\":\"model\"}},\"id\":\"6999\",\"type\":\"VBar\"},{\"attributes\":{},\"id\":\"7012\",\"type\":\"LinearScale\"},{\"attributes\":{\"overlay\":{\"id\":\"6987\"}},\"id\":\"6983\",\"type\":\"BoxZoomTool\"},{\"attributes\":{},\"id\":\"7010\",\"type\":\"LinearScale\"},{\"attributes\":{},\"id\":\"7098\",\"type\":\"BasicTickFormatter\"},{\"attributes\":{},\"id\":\"6982\",\"type\":\"WheelZoomTool\"},{\"attributes\":{\"axis\":{\"id\":\"7014\"},\"coordinates\":null,\"grid_line_color\":null,\"group\":null,\"ticker\":null},\"id\":\"7017\",\"type\":\"Grid\"},{\"attributes\":{\"callback\":null,\"tooltips\":[[\"precision\",\"@precision\"]]},\"id\":\"6988\",\"type\":\"HoverTool\"},{\"attributes\":{\"axis_label\":\"Model\",\"coordinates\":null,\"formatter\":{\"id\":\"7101\"},\"group\":null,\"major_label_policy\":{\"id\":\"7102\"},\"ticker\":{\"id\":\"6974\"}},\"id\":\"6973\",\"type\":\"LinearAxis\"},{\"attributes\":{\"axis_label\":\"Model\",\"coordinates\":null,\"formatter\":{\"id\":\"7112\"},\"group\":null,\"major_label_policy\":{\"id\":\"7113\"},\"ticker\":{\"id\":\"7015\"}},\"id\":\"7014\",\"type\":\"LinearAxis\"},{\"attributes\":{},\"id\":\"7099\",\"type\":\"AllLabels\"},{\"attributes\":{\"callback\":null,\"tooltips\":[[\"recall\",\"@recall\"]]},\"id\":\"7029\",\"type\":\"HoverTool\"},{\"attributes\":{},\"id\":\"7023\",\"type\":\"WheelZoomTool\"},{\"attributes\":{\"axis\":{\"id\":\"6973\"},\"coordinates\":null,\"grid_line_color\":null,\"group\":null,\"ticker\":null},\"id\":\"6976\",\"type\":\"Grid\"},{\"attributes\":{\"bottom_units\":\"screen\",\"coordinates\":null,\"fill_alpha\":0.5,\"fill_color\":\"lightgrey\",\"group\":null,\"left_units\":\"screen\",\"level\":\"overlay\",\"line_alpha\":1.0,\"line_color\":\"black\",\"line_dash\":[4,4],\"line_width\":2,\"right_units\":\"screen\",\"syncable\":false,\"top_units\":\"screen\"},\"id\":\"6987\",\"type\":\"BoxAnnotation\"},{\"attributes\":{},\"id\":\"6969\",\"type\":\"LinearScale\"},{\"attributes\":{},\"id\":\"7101\",\"type\":\"BasicTickFormatter\"},{\"attributes\":{},\"id\":\"6971\",\"type\":\"LinearScale\"},{\"attributes\":{\"axis_label\":\"Recall Score\",\"coordinates\":null,\"formatter\":{\"id\":\"7109\"},\"group\":null,\"major_label_policy\":{\"id\":\"7110\"},\"ticker\":{\"id\":\"7019\"}},\"id\":\"7018\",\"type\":\"LinearAxis\"},{\"attributes\":{\"axis\":{\"id\":\"7018\"},\"coordinates\":null,\"dimension\":1,\"group\":null,\"ticker\":null},\"id\":\"7021\",\"type\":\"Grid\"},{\"attributes\":{},\"id\":\"7109\",\"type\":\"BasicTickFormatter\"},{\"attributes\":{\"below\":[{\"id\":\"7055\"}],\"center\":[{\"id\":\"7058\"},{\"id\":\"7062\"}],\"height\":300,\"left\":[{\"id\":\"7059\"}],\"renderers\":[{\"id\":\"7083\"}],\"sizing_mode\":\"scale_both\",\"title\":{\"id\":\"7045\"},\"toolbar\":{\"id\":\"7071\"},\"toolbar_location\":null,\"width\":500,\"x_range\":{\"id\":\"7047\"},\"x_scale\":{\"id\":\"7051\"},\"y_range\":{\"id\":\"7049\"},\"y_scale\":{\"id\":\"7053\"}},\"id\":\"7044\",\"subtype\":\"Figure\",\"type\":\"Plot\"},{\"attributes\":{},\"id\":\"7102\",\"type\":\"AllLabels\"},{\"attributes\":{},\"id\":\"7019\",\"type\":\"BasicTicker\"},{\"attributes\":{},\"id\":\"6981\",\"type\":\"PanTool\"},{\"attributes\":{},\"id\":\"6984\",\"type\":\"SaveTool\"},{\"attributes\":{},\"id\":\"7110\",\"type\":\"AllLabels\"},{\"attributes\":{},\"id\":\"7027\",\"type\":\"HelpTool\"},{\"attributes\":{\"coordinates\":null,\"group\":null,\"text\":\"Precision Comparison\"},\"id\":\"6963\",\"type\":\"Title\"},{\"attributes\":{},\"id\":\"6985\",\"type\":\"ResetTool\"},{\"attributes\":{},\"id\":\"7022\",\"type\":\"PanTool\"},{\"attributes\":{\"overlay\":{\"id\":\"7028\"}},\"id\":\"7024\",\"type\":\"BoxZoomTool\"},{\"attributes\":{\"fill_alpha\":{\"value\":0.2},\"fill_color\":{\"value\":\"red\"},\"hatch_alpha\":{\"value\":0.2},\"hatch_color\":{\"value\":\"red\"},\"line_alpha\":{\"value\":0.2},\"top\":{\"field\":\"recall\"},\"width\":{\"value\":0.6},\"x\":{\"field\":\"model\"}},\"id\":\"7041\",\"type\":\"VBar\"},{\"attributes\":{},\"id\":\"7112\",\"type\":\"BasicTickFormatter\"},{\"attributes\":{\"coordinates\":null,\"data_source\":{\"id\":\"6920\"},\"glyph\":{\"id\":\"7039\"},\"group\":null,\"hover_glyph\":null,\"muted_glyph\":{\"id\":\"7041\"},\"nonselection_glyph\":{\"id\":\"7040\"},\"view\":{\"id\":\"7043\"}},\"id\":\"7042\",\"type\":\"GlyphRenderer\"},{\"attributes\":{},\"id\":\"6967\",\"type\":\"Range1d\"},{\"attributes\":{},\"id\":\"7113\",\"type\":\"AllLabels\"},{\"attributes\":{\"axis\":{\"id\":\"6977\"},\"coordinates\":null,\"dimension\":1,\"group\":null,\"ticker\":null},\"id\":\"6980\",\"type\":\"Grid\"},{\"attributes\":{\"axis_label\":\"F1 Score\",\"coordinates\":null,\"formatter\":{\"id\":\"7120\"},\"group\":null,\"major_label_policy\":{\"id\":\"7121\"},\"ticker\":{\"id\":\"7060\"}},\"id\":\"7059\",\"type\":\"LinearAxis\"},{\"attributes\":{},\"id\":\"6978\",\"type\":\"BasicTicker\"},{\"attributes\":{\"fill_color\":{\"value\":\"red\"},\"hatch_color\":{\"value\":\"red\"},\"top\":{\"field\":\"recall\"},\"width\":{\"value\":0.6},\"x\":{\"field\":\"model\"}},\"id\":\"7039\",\"type\":\"VBar\"},{\"attributes\":{\"end\":7.5,\"start\":0.5},\"id\":\"6965\",\"type\":\"Range1d\"},{\"attributes\":{},\"id\":\"7025\",\"type\":\"SaveTool\"},{\"attributes\":{},\"id\":\"7026\",\"type\":\"ResetTool\"},{\"attributes\":{},\"id\":\"6944\",\"type\":\"ResetTool\"},{\"attributes\":{},\"id\":\"6986\",\"type\":\"HelpTool\"},{\"attributes\":{\"bottom_units\":\"screen\",\"coordinates\":null,\"fill_alpha\":0.5,\"fill_color\":\"lightgrey\",\"group\":null,\"left_units\":\"screen\",\"level\":\"overlay\",\"line_alpha\":1.0,\"line_color\":\"black\",\"line_dash\":[4,4],\"line_width\":2,\"right_units\":\"screen\",\"syncable\":false,\"top_units\":\"screen\"},\"id\":\"7028\",\"type\":\"BoxAnnotation\"},{\"attributes\":{\"source\":{\"id\":\"6920\"}},\"id\":\"7043\",\"type\":\"CDSView\"},{\"attributes\":{},\"id\":\"7053\",\"type\":\"LinearScale\"},{\"attributes\":{},\"id\":\"7060\",\"type\":\"BasicTicker\"},{\"attributes\":{},\"id\":\"6945\",\"type\":\"HelpTool\"},{\"attributes\":{},\"id\":\"7049\",\"type\":\"Range1d\"},{\"attributes\":{\"coordinates\":null,\"group\":null,\"text\":\"F1 Score Comparison\"},\"id\":\"7045\",\"type\":\"Title\"},{\"attributes\":{\"fill_color\":{\"value\":\"red\"},\"hatch_color\":{\"value\":\"red\"},\"top\":{\"field\":\"precision\"},\"width\":{\"value\":0.6},\"x\":{\"field\":\"model\"}},\"id\":\"6998\",\"type\":\"VBar\"},{\"attributes\":{},\"id\":\"7051\",\"type\":\"LinearScale\"},{\"attributes\":{\"axis\":{\"id\":\"7059\"},\"coordinates\":null,\"dimension\":1,\"group\":null,\"ticker\":null},\"id\":\"7062\",\"type\":\"Grid\"},{\"attributes\":{\"source\":{\"id\":\"6920\"}},\"id\":\"7002\",\"type\":\"CDSView\"},{\"attributes\":{\"fill_alpha\":{\"value\":0.2},\"fill_color\":{\"value\":\"red\"},\"hatch_alpha\":{\"value\":0.2},\"hatch_color\":{\"value\":\"red\"},\"line_alpha\":{\"value\":0.2},\"top\":{\"field\":\"accuracy\"},\"width\":{\"value\":0.6},\"x\":{\"field\":\"model\"}},\"id\":\"6959\",\"type\":\"VBar\"},{\"attributes\":{\"fill_color\":{\"value\":\"red\"},\"hatch_color\":{\"value\":\"red\"},\"top\":{\"field\":\"f1_score\"},\"width\":{\"value\":0.6},\"x\":{\"field\":\"model\"}},\"id\":\"7080\",\"type\":\"VBar\"},{\"attributes\":{\"fill_alpha\":{\"value\":0.1},\"fill_color\":{\"value\":\"red\"},\"hatch_alpha\":{\"value\":0.1},\"hatch_color\":{\"value\":\"red\"},\"line_alpha\":{\"value\":0.1},\"top\":{\"field\":\"recall\"},\"width\":{\"value\":0.6},\"x\":{\"field\":\"model\"}},\"id\":\"7040\",\"type\":\"VBar\"},{\"attributes\":{\"source\":{\"id\":\"6920\"}},\"id\":\"6961\",\"type\":\"CDSView\"},{\"attributes\":{\"bottom_units\":\"screen\",\"coordinates\":null,\"fill_alpha\":0.5,\"fill_color\":\"lightgrey\",\"group\":null,\"left_units\":\"screen\",\"level\":\"overlay\",\"line_alpha\":1.0,\"line_color\":\"black\",\"line_dash\":[4,4],\"line_width\":2,\"right_units\":\"screen\",\"syncable\":false,\"top_units\":\"screen\"},\"id\":\"6946\",\"type\":\"BoxAnnotation\"},{\"attributes\":{},\"id\":\"7056\",\"type\":\"BasicTicker\"},{\"attributes\":{\"fill_alpha\":{\"value\":0.1},\"fill_color\":{\"value\":\"red\"},\"hatch_alpha\":{\"value\":0.1},\"hatch_color\":{\"value\":\"red\"},\"line_alpha\":{\"value\":0.1},\"top\":{\"field\":\"accuracy\"},\"width\":{\"value\":0.6},\"x\":{\"field\":\"model\"}},\"id\":\"6958\",\"type\":\"VBar\"},{\"attributes\":{\"fill_alpha\":{\"value\":0.2},\"fill_color\":{\"value\":\"red\"},\"hatch_alpha\":{\"value\":0.2},\"hatch_color\":{\"value\":\"red\"},\"line_alpha\":{\"value\":0.2},\"top\":{\"field\":\"precision\"},\"width\":{\"value\":0.6},\"x\":{\"field\":\"model\"}},\"id\":\"7000\",\"type\":\"VBar\"},{\"attributes\":{},\"id\":\"6943\",\"type\":\"SaveTool\"},{\"attributes\":{\"coordinates\":null,\"data_source\":{\"id\":\"6920\"},\"glyph\":{\"id\":\"6998\"},\"group\":null,\"hover_glyph\":null,\"muted_glyph\":{\"id\":\"7000\"},\"nonselection_glyph\":{\"id\":\"6999\"},\"view\":{\"id\":\"7002\"}},\"id\":\"7001\",\"type\":\"GlyphRenderer\"},{\"attributes\":{\"below\":[{\"id\":\"7014\"}],\"center\":[{\"id\":\"7017\"},{\"id\":\"7021\"}],\"height\":300,\"left\":[{\"id\":\"7018\"}],\"renderers\":[{\"id\":\"7042\"}],\"sizing_mode\":\"scale_both\",\"title\":{\"id\":\"7004\"},\"toolbar\":{\"id\":\"7030\"},\"toolbar_location\":null,\"width\":500,\"x_range\":{\"id\":\"7006\"},\"x_scale\":{\"id\":\"7010\"},\"y_range\":{\"id\":\"7008\"},\"y_scale\":{\"id\":\"7012\"}},\"id\":\"7003\",\"subtype\":\"Figure\",\"type\":\"Plot\"},{\"attributes\":{},\"id\":\"7015\",\"type\":\"BasicTicker\"},{\"attributes\":{\"end\":7.5,\"start\":0.5},\"id\":\"7006\",\"type\":\"Range1d\"},{\"attributes\":{},\"id\":\"7008\",\"type\":\"Range1d\"},{\"attributes\":{\"axis\":{\"id\":\"7055\"},\"coordinates\":null,\"grid_line_color\":null,\"group\":null,\"ticker\":null},\"id\":\"7058\",\"type\":\"Grid\"},{\"attributes\":{},\"id\":\"6974\",\"type\":\"BasicTicker\"},{\"attributes\":{\"below\":[{\"id\":\"6973\"}],\"center\":[{\"id\":\"6976\"},{\"id\":\"6980\"}],\"height\":300,\"left\":[{\"id\":\"6977\"}],\"renderers\":[{\"id\":\"7001\"}],\"sizing_mode\":\"scale_both\",\"title\":{\"id\":\"6963\"},\"toolbar\":{\"id\":\"6989\"},\"toolbar_location\":null,\"width\":500,\"x_range\":{\"id\":\"6965\"},\"x_scale\":{\"id\":\"6969\"},\"y_range\":{\"id\":\"6967\"},\"y_scale\":{\"id\":\"6971\"}},\"id\":\"6962\",\"subtype\":\"Figure\",\"type\":\"Plot\"},{\"attributes\":{\"coordinates\":null,\"data_source\":{\"id\":\"6920\"},\"glyph\":{\"id\":\"6957\"},\"group\":null,\"hover_glyph\":null,\"muted_glyph\":{\"id\":\"6959\"},\"nonselection_glyph\":{\"id\":\"6958\"},\"view\":{\"id\":\"6961\"}},\"id\":\"6960\",\"type\":\"GlyphRenderer\"},{\"attributes\":{\"tools\":[{\"id\":\"7022\"},{\"id\":\"7023\"},{\"id\":\"7024\"},{\"id\":\"7025\"},{\"id\":\"7026\"},{\"id\":\"7027\"},{\"id\":\"7029\"}]},\"id\":\"7030\",\"type\":\"Toolbar\"},{\"attributes\":{\"axis_label\":\"Model\",\"coordinates\":null,\"formatter\":{\"id\":\"7123\"},\"group\":null,\"major_label_policy\":{\"id\":\"7124\"},\"ticker\":{\"id\":\"7056\"}},\"id\":\"7055\",\"type\":\"LinearAxis\"},{\"attributes\":{\"callback\":null,\"tooltips\":[[\"f1_score\",\"@f1_score\"]]},\"id\":\"7070\",\"type\":\"HoverTool\"},{\"attributes\":{},\"id\":\"7090\",\"type\":\"BasicTickFormatter\"},{\"attributes\":{},\"id\":\"7064\",\"type\":\"WheelZoomTool\"},{\"attributes\":{},\"id\":\"7068\",\"type\":\"HelpTool\"},{\"attributes\":{},\"id\":\"7063\",\"type\":\"PanTool\"},{\"attributes\":{},\"id\":\"7091\",\"type\":\"AllLabels\"},{\"attributes\":{\"overlay\":{\"id\":\"7069\"}},\"id\":\"7065\",\"type\":\"BoxZoomTool\"},{\"attributes\":{},\"id\":\"7066\",\"type\":\"SaveTool\"},{\"attributes\":{},\"id\":\"7067\",\"type\":\"ResetTool\"},{\"attributes\":{\"bottom_units\":\"screen\",\"coordinates\":null,\"fill_alpha\":0.5,\"fill_color\":\"lightgrey\",\"group\":null,\"left_units\":\"screen\",\"level\":\"overlay\",\"line_alpha\":1.0,\"line_color\":\"black\",\"line_dash\":[4,4],\"line_width\":2,\"right_units\":\"screen\",\"syncable\":false,\"top_units\":\"screen\"},\"id\":\"7069\",\"type\":\"BoxAnnotation\"},{\"attributes\":{},\"id\":\"6941\",\"type\":\"WheelZoomTool\"},{\"attributes\":{\"callback\":null,\"tooltips\":[[\"accuracy\",\"@accuracy\"]]},\"id\":\"6947\",\"type\":\"HoverTool\"},{\"attributes\":{},\"id\":\"7092\",\"type\":\"UnionRenderers\"},{\"attributes\":{\"fill_alpha\":{\"value\":0.1},\"fill_color\":{\"value\":\"red\"},\"hatch_alpha\":{\"value\":0.1},\"hatch_color\":{\"value\":\"red\"},\"line_alpha\":{\"value\":0.1},\"top\":{\"field\":\"f1_score\"},\"width\":{\"value\":0.6},\"x\":{\"field\":\"model\"}},\"id\":\"7081\",\"type\":\"VBar\"},{\"attributes\":{\"tools\":[{\"id\":\"7063\"},{\"id\":\"7064\"},{\"id\":\"7065\"},{\"id\":\"7066\"},{\"id\":\"7067\"},{\"id\":\"7068\"},{\"id\":\"7070\"}]},\"id\":\"7071\",\"type\":\"Toolbar\"},{\"attributes\":{},\"id\":\"7093\",\"type\":\"Selection\"},{\"attributes\":{},\"id\":\"7120\",\"type\":\"BasicTickFormatter\"},{\"attributes\":{},\"id\":\"6937\",\"type\":\"BasicTicker\"},{\"attributes\":{},\"id\":\"6933\",\"type\":\"BasicTicker\"},{\"attributes\":{},\"id\":\"7121\",\"type\":\"AllLabels\"},{\"attributes\":{\"coordinates\":null,\"group\":null,\"text\":\"Accuracy Comparison\"},\"id\":\"6922\",\"type\":\"Title\"},{\"attributes\":{\"source\":{\"id\":\"6920\"}},\"id\":\"7084\",\"type\":\"CDSView\"},{\"attributes\":{\"axis\":{\"id\":\"6932\"},\"coordinates\":null,\"grid_line_color\":null,\"group\":null,\"ticker\":null},\"id\":\"6935\",\"type\":\"Grid\"},{\"attributes\":{\"end\":7.5,\"start\":0.5},\"id\":\"6924\",\"type\":\"Range1d\"},{\"attributes\":{},\"id\":\"7123\",\"type\":\"BasicTickFormatter\"},{\"attributes\":{\"toolbars\":[{\"id\":\"6948\"},{\"id\":\"6989\"},{\"id\":\"7030\"},{\"id\":\"7071\"}],\"tools\":[{\"id\":\"6940\"},{\"id\":\"6941\"},{\"id\":\"6942\"},{\"id\":\"6943\"},{\"id\":\"6944\"},{\"id\":\"6945\"},{\"id\":\"6947\"},{\"id\":\"6981\"},{\"id\":\"6982\"},{\"id\":\"6983\"},{\"id\":\"6984\"},{\"id\":\"6985\"},{\"id\":\"6986\"},{\"id\":\"6988\"},{\"id\":\"7022\"},{\"id\":\"7023\"},{\"id\":\"7024\"},{\"id\":\"7025\"},{\"id\":\"7026\"},{\"id\":\"7027\"},{\"id\":\"7029\"},{\"id\":\"7063\"},{\"id\":\"7064\"},{\"id\":\"7065\"},{\"id\":\"7066\"},{\"id\":\"7067\"},{\"id\":\"7068\"},{\"id\":\"7070\"}]},\"id\":\"7130\",\"type\":\"ProxyToolbar\"},{\"attributes\":{},\"id\":\"6930\",\"type\":\"LinearScale\"},{\"attributes\":{\"fill_alpha\":{\"value\":0.2},\"fill_color\":{\"value\":\"red\"},\"hatch_alpha\":{\"value\":0.2},\"hatch_color\":{\"value\":\"red\"},\"line_alpha\":{\"value\":0.2},\"top\":{\"field\":\"f1_score\"},\"width\":{\"value\":0.6},\"x\":{\"field\":\"model\"}},\"id\":\"7082\",\"type\":\"VBar\"},{\"attributes\":{\"coordinates\":null,\"data_source\":{\"id\":\"6920\"},\"glyph\":{\"id\":\"7080\"},\"group\":null,\"hover_glyph\":null,\"muted_glyph\":{\"id\":\"7082\"},\"nonselection_glyph\":{\"id\":\"7081\"},\"view\":{\"id\":\"7084\"}},\"id\":\"7083\",\"type\":\"GlyphRenderer\"},{\"attributes\":{},\"id\":\"7124\",\"type\":\"AllLabels\"},{\"attributes\":{},\"id\":\"6926\",\"type\":\"Range1d\"},{\"attributes\":{\"fill_color\":{\"value\":\"red\"},\"hatch_color\":{\"value\":\"red\"},\"top\":{\"field\":\"accuracy\"},\"width\":{\"value\":0.6},\"x\":{\"field\":\"model\"}},\"id\":\"6957\",\"type\":\"VBar\"},{\"attributes\":{},\"id\":\"7088\",\"type\":\"AllLabels\"},{\"attributes\":{\"children\":[[{\"id\":\"6921\"},0,0],[{\"id\":\"6962\"},0,1],[{\"id\":\"7003\"},1,0],[{\"id\":\"7044\"},1,1]]},\"id\":\"7129\",\"type\":\"GridBox\"},{\"attributes\":{\"overlay\":{\"id\":\"6946\"}},\"id\":\"6942\",\"type\":\"BoxZoomTool\"},{\"attributes\":{\"tools\":[{\"id\":\"6940\"},{\"id\":\"6941\"},{\"id\":\"6942\"},{\"id\":\"6943\"},{\"id\":\"6944\"},{\"id\":\"6945\"},{\"id\":\"6947\"}]},\"id\":\"6948\",\"type\":\"Toolbar\"},{\"attributes\":{\"toolbar\":{\"id\":\"7130\"},\"toolbar_location\":\"above\"},\"id\":\"7131\",\"type\":\"ToolbarBox\"},{\"attributes\":{\"axis_label\":\"Accuracy Score\",\"coordinates\":null,\"formatter\":{\"id\":\"7087\"},\"group\":null,\"major_label_policy\":{\"id\":\"7088\"},\"ticker\":{\"id\":\"6937\"}},\"id\":\"6936\",\"type\":\"LinearAxis\"},{\"attributes\":{},\"id\":\"7087\",\"type\":\"BasicTickFormatter\"},{\"attributes\":{\"axis\":{\"id\":\"6936\"},\"coordinates\":null,\"dimension\":1,\"group\":null,\"ticker\":null},\"id\":\"6939\",\"type\":\"Grid\"},{\"attributes\":{},\"id\":\"6940\",\"type\":\"PanTool\"},{\"attributes\":{\"data\":{\"AP\":{\"__ndarray__\":\"sNF2eFSYvT/YRH447AzEP4FeUL3UbcQ/RgcDQwZwxD/wNwqlhQDHP39c92Yt6cY/9K1lafKOxz8=\",\"dtype\":\"float64\",\"order\":\"little\",\"shape\":[7]},\"AUC\":{\"__ndarray__\":\"Lf1DibMk5j+buZwXxDPmP1lsRYOF9uU/gXv8t9kr5j9BrskYxWPnP9KmPRUy9Oc/rPuB0n/x5z8=\",\"dtype\":\"float64\",\"order\":\"little\",\"shape\":[7]},\"accuracy\":{\"__ndarray__\":\"IXTB3l1L7D+j5HNlSdPhP49KdWNQGuQ/LlbWFS8h6j9cInV7l2joP97IbMHbquk/Oe9o6yoq6D8=\",\"dtype\":\"float64\",\"order\":\"little\",\"shape\":[7]},\"f1_score\":{\"__ndarray__\":\"P7GeImwFND+0LgYnDcrRP1pAF9ypT9I/BdJaIK0F0j+ayAjBJvrUPw21G6k129Q/8ECPut9s1T8=\",\"dtype\":\"float64\",\"order\":\"little\",\"shape\":[7]},\"index\":[1,2,3,4,5,6,7],\"model\":[1,2,3,4,5,6,7],\"precision\":{\"__ndarray__\":\"XEN5DeU1tD8nRk9Oj+vFPzJm+swzicc/3XeD5Ed30D+jcdyzjTLPP3X+Ac8JNNE/ZQoe/Zk8zz8=\",\"dtype\":\"float64\",\"order\":\"little\",\"shape\":[7]},\"recall\":{\"__ndarray__\":\"mrBAwlsPJD9LegbIZpnnP8DeMCkfn+Q/Gji8Cj3n0z8TPOTuFgLgP+5EKTSbeto/vUUCYY4N4T8=\",\"dtype\":\"float64\",\"order\":\"little\",\"shape\":[7]}},\"selected\":{\"id\":\"7093\"},\"selection_policy\":{\"id\":\"7092\"}},\"id\":\"6920\",\"type\":\"ColumnDataSource\"},{\"attributes\":{\"below\":[{\"id\":\"6932\"}],\"center\":[{\"id\":\"6935\"},{\"id\":\"6939\"}],\"height\":300,\"left\":[{\"id\":\"6936\"}],\"renderers\":[{\"id\":\"6960\"}],\"sizing_mode\":\"scale_both\",\"title\":{\"id\":\"6922\"},\"toolbar\":{\"id\":\"6948\"},\"toolbar_location\":null,\"width\":500,\"x_range\":{\"id\":\"6924\"},\"x_scale\":{\"id\":\"6928\"},\"y_range\":{\"id\":\"6926\"},\"y_scale\":{\"id\":\"6930\"}},\"id\":\"6921\",\"subtype\":\"Figure\",\"type\":\"Plot\"},{\"attributes\":{},\"id\":\"6928\",\"type\":\"LinearScale\"},{\"attributes\":{\"axis_label\":\"Model\",\"coordinates\":null,\"formatter\":{\"id\":\"7090\"},\"group\":null,\"major_label_policy\":{\"id\":\"7091\"},\"ticker\":{\"id\":\"6933\"}},\"id\":\"6932\",\"type\":\"LinearAxis\"}],\"root_ids\":[\"7132\"]},\"title\":\"Bokeh Application\",\"version\":\"2.4.3\"}};\n  const render_items = [{\"docid\":\"c9685a1f-5de6-4617-98f1-4f7c62518ac9\",\"root_ids\":[\"7132\"],\"roots\":{\"7132\":\"d6190afb-ffea-4222-a962-63cbbe2111c3\"}}];\n  root.Bokeh.embed.embed_items_notebook(docs_json, render_items);\n  }\n  if (root.Bokeh !== undefined) {\n    embed_document(root);\n  } else {\n    let attempts = 0;\n    const timer = setInterval(function(root) {\n      if (root.Bokeh !== undefined) {\n        clearInterval(timer);\n        embed_document(root);\n      } else {\n        attempts++;\n        if (attempts > 100) {\n          clearInterval(timer);\n          console.log(\"Bokeh: ERROR: Unable to run BokehJS code because BokehJS library is missing\");\n        }\n      }\n    }, 10, root)\n  }\n})(window);",
      "application/vnd.bokehjs_exec.v0+json": ""
     },
     "metadata": {
      "application/vnd.bokehjs_exec.v0+json": {
       "id": "7132"
      }
     },
     "output_type": "display_data"
    }
   ],
   "source": [
    "#CHART \n",
    "cdata = ColumnDataSource(data=results_df)\n",
    "\n",
    "tooltips_1 = [\n",
    "    (\"accuracy\", \"@accuracy\")\n",
    "]\n",
    "tooltips_2 = [\n",
    "    (\"precision\", \"@precision\")\n",
    "]\n",
    "\n",
    "tooltips_3 = [\n",
    "    (\"recall\", \"@recall\")\n",
    "]\n",
    "\n",
    "tooltips_4 = [\n",
    "    (\"f1_score\", \"@f1_score\")\n",
    "]\n",
    "\n",
    "\n",
    "p = figure(plot_height = 300, plot_width = 500, x_range=(0.5,7.5), y_range=(0, 1),\n",
    "           title = 'Accuracy Comparison',\n",
    "          x_axis_label = 'Model', \n",
    "           y_axis_label = 'Accuracy Score',tooltips=tooltips_1)\n",
    "p.vbar(x='model', top='accuracy', source=cdata, width=0.6, color = \"red\", line_color='black')\n",
    "p.xgrid.grid_line_color = None\n",
    "\n",
    "p2 = figure(plot_height = 300, plot_width = 500, x_range=(0.5,7.5), y_range=(0, 1),\n",
    "           title = 'Precision Comparison',\n",
    "          x_axis_label = 'Model', \n",
    "           y_axis_label = 'Precision Score',tooltips=tooltips_2)\n",
    "p2.vbar(x='model', top='precision', source=cdata, width=0.6, color = \"red\", line_color='black')\n",
    "p2.xgrid.grid_line_color = None\n",
    "\n",
    "p3 = figure(plot_height = 300, plot_width = 500, x_range=(0.5,7.5), y_range=(0, 1),\n",
    "           title = 'Recall Comparison',\n",
    "          x_axis_label = 'Model', \n",
    "           y_axis_label = 'Recall Score',tooltips=tooltips_3)\n",
    "p3.vbar(x='model', top='recall', source=cdata, width=0.6, color = \"red\", line_color='black')\n",
    "p3.xgrid.grid_line_color = None\n",
    "\n",
    "p4 = figure(plot_height = 300, plot_width = 500, x_range=(0.5,7.5), y_range=(0, 1),\n",
    "           title = 'F1 Score Comparison',\n",
    "          x_axis_label = 'Model', \n",
    "           y_axis_label = 'F1 Score',tooltips=tooltips_4)\n",
    "p4.vbar(x='model', top='f1_score', source=cdata, width=0.6, color = \"red\", line_color='black')\n",
    "p4.xgrid.grid_line_color = None\n",
    "\n",
    "grid = gridplot([[p,p2],[p3,p4]],sizing_mode=\"scale_both\",merge_tools=True)\n",
    "show(grid)\n",
    "\n"
   ]
  },
  {
   "attachments": {},
   "cell_type": "markdown",
   "metadata": {},
   "source": [
    "<h3 style=\"color:green;\">Interpret the chart</h3>\n",
    "<li>What can you say about the changes in precision and recall?</li>\n",
    "\n",
    "In general, we see that there is a trade-off between precision and recall, with the exception of Model 1 which was quite low for both. Model 2 has the highest recall rate (73.7%), but the second lowest precision rate. Conversely, Model 6 has the highest precision rate, but the third lowest recall rate. "
   ]
  },
  {
   "cell_type": "markdown",
   "metadata": {},
   "source": [
    "<h3 style=\"color:green;\">Chart AUC and AP</h3>\n"
   ]
  },
  {
   "cell_type": "code",
   "execution_count": 39,
   "metadata": {},
   "outputs": [
    {
     "data": {
      "text/html": [
       "\n",
       "  <div class=\"bk-root\" id=\"4aa70c9f-25ed-4f08-b2c9-c3936e222dea\" data-root-id=\"7750\"></div>\n"
      ]
     },
     "metadata": {},
     "output_type": "display_data"
    },
    {
     "data": {
      "application/javascript": "(function(root) {\n  function embed_document(root) {\n  const docs_json = {\"b301af0d-44de-4bbc-b119-e166696ea753\":{\"defs\":[],\"roots\":{\"references\":[{\"attributes\":{\"children\":[{\"id\":\"7749\"},{\"id\":\"7747\"}],\"sizing_mode\":\"scale_both\"},\"id\":\"7750\",\"type\":\"Column\"},{\"attributes\":{},\"id\":\"7707\",\"type\":\"ResetTool\"},{\"attributes\":{\"callback\":null,\"tooltips\":[[\"ap\",\"@AP\"]]},\"id\":\"7710\",\"type\":\"HoverTool\"},{\"attributes\":{\"fill_alpha\":{\"value\":0.1},\"fill_color\":{\"value\":\"red\"},\"hatch_alpha\":{\"value\":0.1},\"hatch_color\":{\"value\":\"red\"},\"line_alpha\":{\"value\":0.1},\"top\":{\"field\":\"AUC\"},\"width\":{\"value\":0.6},\"x\":{\"field\":\"model\"}},\"id\":\"7680\",\"type\":\"VBar\"},{\"attributes\":{},\"id\":\"7704\",\"type\":\"WheelZoomTool\"},{\"attributes\":{\"fill_alpha\":{\"value\":0.1},\"fill_color\":{\"value\":\"red\"},\"hatch_alpha\":{\"value\":0.1},\"hatch_color\":{\"value\":\"red\"},\"line_alpha\":{\"value\":0.1},\"top\":{\"field\":\"AP\"},\"width\":{\"value\":0.6},\"x\":{\"field\":\"model\"}},\"id\":\"7721\",\"type\":\"VBar\"},{\"attributes\":{\"below\":[{\"id\":\"7654\"}],\"center\":[{\"id\":\"7657\"},{\"id\":\"7661\"}],\"height\":300,\"left\":[{\"id\":\"7658\"}],\"renderers\":[{\"id\":\"7682\"}],\"sizing_mode\":\"scale_both\",\"title\":{\"id\":\"7644\"},\"toolbar\":{\"id\":\"7670\"},\"toolbar_location\":null,\"width\":500,\"x_range\":{\"id\":\"7646\"},\"x_scale\":{\"id\":\"7650\"},\"y_range\":{\"id\":\"7648\"},\"y_scale\":{\"id\":\"7652\"}},\"id\":\"7643\",\"subtype\":\"Figure\",\"type\":\"Plot\"},{\"attributes\":{\"tools\":[{\"id\":\"7703\"},{\"id\":\"7704\"},{\"id\":\"7705\"},{\"id\":\"7706\"},{\"id\":\"7707\"},{\"id\":\"7708\"},{\"id\":\"7710\"}]},\"id\":\"7711\",\"type\":\"Toolbar\"},{\"attributes\":{\"bottom_units\":\"screen\",\"coordinates\":null,\"fill_alpha\":0.5,\"fill_color\":\"lightgrey\",\"group\":null,\"left_units\":\"screen\",\"level\":\"overlay\",\"line_alpha\":1.0,\"line_color\":\"black\",\"line_dash\":[4,4],\"line_width\":2,\"right_units\":\"screen\",\"syncable\":false,\"top_units\":\"screen\"},\"id\":\"7709\",\"type\":\"BoxAnnotation\"},{\"attributes\":{},\"id\":\"7648\",\"type\":\"Range1d\"},{\"attributes\":{},\"id\":\"7700\",\"type\":\"BasicTicker\"},{\"attributes\":{},\"id\":\"7731\",\"type\":\"AllLabels\"},{\"attributes\":{},\"id\":\"7696\",\"type\":\"BasicTicker\"},{\"attributes\":{\"axis\":{\"id\":\"7658\"},\"coordinates\":null,\"dimension\":1,\"group\":null,\"ticker\":null},\"id\":\"7661\",\"type\":\"Grid\"},{\"attributes\":{\"axis_label\":\"Model\",\"coordinates\":null,\"formatter\":{\"id\":\"7741\"},\"group\":null,\"major_label_policy\":{\"id\":\"7742\"},\"ticker\":{\"id\":\"7696\"}},\"id\":\"7695\",\"type\":\"LinearAxis\"},{\"attributes\":{},\"id\":\"7730\",\"type\":\"BasicTickFormatter\"},{\"attributes\":{\"axis_label\":\"AUC Score\",\"coordinates\":null,\"formatter\":{\"id\":\"7727\"},\"group\":null,\"major_label_policy\":{\"id\":\"7728\"},\"ticker\":{\"id\":\"7659\"}},\"id\":\"7658\",\"type\":\"LinearAxis\"},{\"attributes\":{\"axis\":{\"id\":\"7699\"},\"coordinates\":null,\"dimension\":1,\"group\":null,\"ticker\":null},\"id\":\"7702\",\"type\":\"Grid\"},{\"attributes\":{},\"id\":\"7650\",\"type\":\"LinearScale\"},{\"attributes\":{},\"id\":\"7689\",\"type\":\"Range1d\"},{\"attributes\":{},\"id\":\"7092\",\"type\":\"UnionRenderers\"},{\"attributes\":{},\"id\":\"7662\",\"type\":\"PanTool\"},{\"attributes\":{\"fill_color\":{\"value\":\"red\"},\"hatch_color\":{\"value\":\"red\"},\"top\":{\"field\":\"AUC\"},\"width\":{\"value\":0.6},\"x\":{\"field\":\"model\"}},\"id\":\"7679\",\"type\":\"VBar\"},{\"attributes\":{\"bottom_units\":\"screen\",\"coordinates\":null,\"fill_alpha\":0.5,\"fill_color\":\"lightgrey\",\"group\":null,\"left_units\":\"screen\",\"level\":\"overlay\",\"line_alpha\":1.0,\"line_color\":\"black\",\"line_dash\":[4,4],\"line_width\":2,\"right_units\":\"screen\",\"syncable\":false,\"top_units\":\"screen\"},\"id\":\"7668\",\"type\":\"BoxAnnotation\"},{\"attributes\":{\"axis\":{\"id\":\"7654\"},\"coordinates\":null,\"grid_line_color\":null,\"group\":null,\"ticker\":null},\"id\":\"7657\",\"type\":\"Grid\"},{\"attributes\":{},\"id\":\"7728\",\"type\":\"AllLabels\"},{\"attributes\":{},\"id\":\"7093\",\"type\":\"Selection\"},{\"attributes\":{\"fill_alpha\":{\"value\":0.2},\"fill_color\":{\"value\":\"red\"},\"hatch_alpha\":{\"value\":0.2},\"hatch_color\":{\"value\":\"red\"},\"line_alpha\":{\"value\":0.2},\"top\":{\"field\":\"AP\"},\"width\":{\"value\":0.6},\"x\":{\"field\":\"model\"}},\"id\":\"7722\",\"type\":\"VBar\"},{\"attributes\":{},\"id\":\"7693\",\"type\":\"LinearScale\"},{\"attributes\":{\"coordinates\":null,\"group\":null,\"text\":\"AP Score Comparison\"},\"id\":\"7685\",\"type\":\"Title\"},{\"attributes\":{\"below\":[{\"id\":\"7695\"}],\"center\":[{\"id\":\"7698\"},{\"id\":\"7702\"}],\"height\":300,\"left\":[{\"id\":\"7699\"}],\"renderers\":[{\"id\":\"7723\"}],\"sizing_mode\":\"scale_both\",\"title\":{\"id\":\"7685\"},\"toolbar\":{\"id\":\"7711\"},\"toolbar_location\":null,\"width\":500,\"x_range\":{\"id\":\"7687\"},\"x_scale\":{\"id\":\"7691\"},\"y_range\":{\"id\":\"7689\"},\"y_scale\":{\"id\":\"7693\"}},\"id\":\"7684\",\"subtype\":\"Figure\",\"type\":\"Plot\"},{\"attributes\":{\"end\":7.5,\"start\":0.5},\"id\":\"7687\",\"type\":\"Range1d\"},{\"attributes\":{},\"id\":\"7708\",\"type\":\"HelpTool\"},{\"attributes\":{\"data\":{\"AP\":{\"__ndarray__\":\"sNF2eFSYvT/YRH447AzEP4FeUL3UbcQ/RgcDQwZwxD/wNwqlhQDHP39c92Yt6cY/9K1lafKOxz8=\",\"dtype\":\"float64\",\"order\":\"little\",\"shape\":[7]},\"AUC\":{\"__ndarray__\":\"Lf1DibMk5j+buZwXxDPmP1lsRYOF9uU/gXv8t9kr5j9BrskYxWPnP9KmPRUy9Oc/rPuB0n/x5z8=\",\"dtype\":\"float64\",\"order\":\"little\",\"shape\":[7]},\"accuracy\":{\"__ndarray__\":\"IXTB3l1L7D+j5HNlSdPhP49KdWNQGuQ/LlbWFS8h6j9cInV7l2joP97IbMHbquk/Oe9o6yoq6D8=\",\"dtype\":\"float64\",\"order\":\"little\",\"shape\":[7]},\"f1_score\":{\"__ndarray__\":\"P7GeImwFND+0LgYnDcrRP1pAF9ypT9I/BdJaIK0F0j+ayAjBJvrUPw21G6k129Q/8ECPut9s1T8=\",\"dtype\":\"float64\",\"order\":\"little\",\"shape\":[7]},\"index\":[1,2,3,4,5,6,7],\"model\":[1,2,3,4,5,6,7],\"precision\":{\"__ndarray__\":\"XEN5DeU1tD8nRk9Oj+vFPzJm+swzicc/3XeD5Ed30D+jcdyzjTLPP3X+Ac8JNNE/ZQoe/Zk8zz8=\",\"dtype\":\"float64\",\"order\":\"little\",\"shape\":[7]},\"recall\":{\"__ndarray__\":\"mrBAwlsPJD9LegbIZpnnP8DeMCkfn+Q/Gji8Cj3n0z8TPOTuFgLgP+5EKTSbeto/vUUCYY4N4T8=\",\"dtype\":\"float64\",\"order\":\"little\",\"shape\":[7]}},\"selected\":{\"id\":\"7093\"},\"selection_policy\":{\"id\":\"7092\"}},\"id\":\"6920\",\"type\":\"ColumnDataSource\"},{\"attributes\":{\"source\":{\"id\":\"6920\"}},\"id\":\"7683\",\"type\":\"CDSView\"},{\"attributes\":{\"overlay\":{\"id\":\"7668\"}},\"id\":\"7664\",\"type\":\"BoxZoomTool\"},{\"attributes\":{\"overlay\":{\"id\":\"7709\"}},\"id\":\"7705\",\"type\":\"BoxZoomTool\"},{\"attributes\":{},\"id\":\"7691\",\"type\":\"LinearScale\"},{\"attributes\":{\"axis_label\":\"Model\",\"coordinates\":null,\"formatter\":{\"id\":\"7730\"},\"group\":null,\"major_label_policy\":{\"id\":\"7731\"},\"ticker\":{\"id\":\"7655\"}},\"id\":\"7654\",\"type\":\"LinearAxis\"},{\"attributes\":{\"callback\":null,\"tooltips\":[[\"auc\",\"@AUC\"]]},\"id\":\"7669\",\"type\":\"HoverTool\"},{\"attributes\":{},\"id\":\"7666\",\"type\":\"ResetTool\"},{\"attributes\":{},\"id\":\"7738\",\"type\":\"BasicTickFormatter\"},{\"attributes\":{},\"id\":\"7706\",\"type\":\"SaveTool\"},{\"attributes\":{\"end\":7.5,\"start\":0.5},\"id\":\"7646\",\"type\":\"Range1d\"},{\"attributes\":{},\"id\":\"7663\",\"type\":\"WheelZoomTool\"},{\"attributes\":{},\"id\":\"7655\",\"type\":\"BasicTicker\"},{\"attributes\":{},\"id\":\"7739\",\"type\":\"AllLabels\"},{\"attributes\":{},\"id\":\"7667\",\"type\":\"HelpTool\"},{\"attributes\":{\"coordinates\":null,\"group\":null,\"text\":\"AUC Score Comparison\"},\"id\":\"7644\",\"type\":\"Title\"},{\"attributes\":{},\"id\":\"7652\",\"type\":\"LinearScale\"},{\"attributes\":{\"source\":{\"id\":\"6920\"}},\"id\":\"7724\",\"type\":\"CDSView\"},{\"attributes\":{\"fill_color\":{\"value\":\"red\"},\"hatch_color\":{\"value\":\"red\"},\"top\":{\"field\":\"AP\"},\"width\":{\"value\":0.6},\"x\":{\"field\":\"model\"}},\"id\":\"7720\",\"type\":\"VBar\"},{\"attributes\":{},\"id\":\"7659\",\"type\":\"BasicTicker\"},{\"attributes\":{},\"id\":\"7741\",\"type\":\"BasicTickFormatter\"},{\"attributes\":{\"tools\":[{\"id\":\"7662\"},{\"id\":\"7663\"},{\"id\":\"7664\"},{\"id\":\"7665\"},{\"id\":\"7666\"},{\"id\":\"7667\"},{\"id\":\"7669\"}]},\"id\":\"7670\",\"type\":\"Toolbar\"},{\"attributes\":{\"children\":[[{\"id\":\"7643\"},0,0],[{\"id\":\"7684\"},0,1]]},\"id\":\"7747\",\"type\":\"GridBox\"},{\"attributes\":{\"coordinates\":null,\"data_source\":{\"id\":\"6920\"},\"glyph\":{\"id\":\"7679\"},\"group\":null,\"hover_glyph\":null,\"muted_glyph\":{\"id\":\"7681\"},\"nonselection_glyph\":{\"id\":\"7680\"},\"view\":{\"id\":\"7683\"}},\"id\":\"7682\",\"type\":\"GlyphRenderer\"},{\"attributes\":{\"fill_alpha\":{\"value\":0.2},\"fill_color\":{\"value\":\"red\"},\"hatch_alpha\":{\"value\":0.2},\"hatch_color\":{\"value\":\"red\"},\"line_alpha\":{\"value\":0.2},\"top\":{\"field\":\"AUC\"},\"width\":{\"value\":0.6},\"x\":{\"field\":\"model\"}},\"id\":\"7681\",\"type\":\"VBar\"},{\"attributes\":{\"toolbar\":{\"id\":\"7748\"},\"toolbar_location\":\"above\"},\"id\":\"7749\",\"type\":\"ToolbarBox\"},{\"attributes\":{\"coordinates\":null,\"data_source\":{\"id\":\"6920\"},\"glyph\":{\"id\":\"7720\"},\"group\":null,\"hover_glyph\":null,\"muted_glyph\":{\"id\":\"7722\"},\"nonselection_glyph\":{\"id\":\"7721\"},\"view\":{\"id\":\"7724\"}},\"id\":\"7723\",\"type\":\"GlyphRenderer\"},{\"attributes\":{},\"id\":\"7665\",\"type\":\"SaveTool\"},{\"attributes\":{},\"id\":\"7742\",\"type\":\"AllLabels\"},{\"attributes\":{\"axis_label\":\"AP Score\",\"coordinates\":null,\"formatter\":{\"id\":\"7738\"},\"group\":null,\"major_label_policy\":{\"id\":\"7739\"},\"ticker\":{\"id\":\"7700\"}},\"id\":\"7699\",\"type\":\"LinearAxis\"},{\"attributes\":{\"toolbars\":[{\"id\":\"7670\"},{\"id\":\"7711\"}],\"tools\":[{\"id\":\"7662\"},{\"id\":\"7663\"},{\"id\":\"7664\"},{\"id\":\"7665\"},{\"id\":\"7666\"},{\"id\":\"7667\"},{\"id\":\"7669\"},{\"id\":\"7703\"},{\"id\":\"7704\"},{\"id\":\"7705\"},{\"id\":\"7706\"},{\"id\":\"7707\"},{\"id\":\"7708\"},{\"id\":\"7710\"}]},\"id\":\"7748\",\"type\":\"ProxyToolbar\"},{\"attributes\":{},\"id\":\"7727\",\"type\":\"BasicTickFormatter\"},{\"attributes\":{\"axis\":{\"id\":\"7695\"},\"coordinates\":null,\"grid_line_color\":null,\"group\":null,\"ticker\":null},\"id\":\"7698\",\"type\":\"Grid\"},{\"attributes\":{},\"id\":\"7703\",\"type\":\"PanTool\"}],\"root_ids\":[\"7750\"]},\"title\":\"Bokeh Application\",\"version\":\"2.4.3\"}};\n  const render_items = [{\"docid\":\"b301af0d-44de-4bbc-b119-e166696ea753\",\"root_ids\":[\"7750\"],\"roots\":{\"7750\":\"4aa70c9f-25ed-4f08-b2c9-c3936e222dea\"}}];\n  root.Bokeh.embed.embed_items_notebook(docs_json, render_items);\n  }\n  if (root.Bokeh !== undefined) {\n    embed_document(root);\n  } else {\n    let attempts = 0;\n    const timer = setInterval(function(root) {\n      if (root.Bokeh !== undefined) {\n        clearInterval(timer);\n        embed_document(root);\n      } else {\n        attempts++;\n        if (attempts > 100) {\n          clearInterval(timer);\n          console.log(\"Bokeh: ERROR: Unable to run BokehJS code because BokehJS library is missing\");\n        }\n      }\n    }, 10, root)\n  }\n})(window);",
      "application/vnd.bokehjs_exec.v0+json": ""
     },
     "metadata": {
      "application/vnd.bokehjs_exec.v0+json": {
       "id": "7750"
      }
     },
     "output_type": "display_data"
    }
   ],
   "source": [
    "#CHART\n",
    "\n",
    "tooltips_3 = [\n",
    "    (\"auc\", \"@AUC\")\n",
    "]\n",
    "\n",
    "tooltips_4 = [\n",
    "    (\"ap\", \"@AP\")\n",
    "]\n",
    "p3 = figure(plot_height = 300, plot_width = 500, x_range=(0.5,7.5), y_range=(0, 1),\n",
    "           title = 'AUC Score Comparison',\n",
    "          x_axis_label = 'Model', \n",
    "           y_axis_label = 'AUC Score',tooltips=tooltips_3)\n",
    "p3.vbar(x='model', top='AUC', source=cdata, width=0.6, color = \"red\", line_color='black')\n",
    "p3.xgrid.grid_line_color = None\n",
    "\n",
    "p4 = figure(plot_height = 300, plot_width = 500, x_range=(0.5,7.5), y_range=(0, 1),\n",
    "           title = 'AP Score Comparison',\n",
    "          x_axis_label = 'Model', \n",
    "           y_axis_label = 'AP Score',tooltips=tooltips_4)\n",
    "p4.vbar(x='model', top='AP', source=cdata, width=0.6, color = \"red\", line_color='black')\n",
    "p4.xgrid.grid_line_color = None\n",
    "\n",
    "grid = gridplot([[p3,p4]],sizing_mode=\"scale_both\",merge_tools=True)\n",
    "show(grid)\n"
   ]
  },
  {
   "attachments": {},
   "cell_type": "markdown",
   "metadata": {},
   "source": [
    "<h3 style=\"color:green;\">Interpret the AUC/AP chart</h3>\n",
    "<li>The AUC on the first 4 models is pretty much the same. What does that mean?</li>\n",
    "\n",
    "This means that the area under ROC curve is about the same for the first four models. Each model may have a different tradeoff between false positive and true positive results, but the overall area under the curve is the same. \n",
    "\n",
    "<li>The average precision improves steadily but almost entirely by getting better at recall than at precision. What does that mean?</li>\n",
    "\n",
    "This means that the better models improve recall easier than precision. In other words, the models classify more positive cases correctly without adding in a higher percentage of false positives which would reduce precision.     \n",
    "\n",
    "<li>Finally, what can you do to get better results? </li>\n",
    "\n",
    "I could get better results by trying different models and hyperparameters. I could run a grid search that tries different options on some of the existing models, and I could also try other models. Additionally, I could think more about what metrics are most important for the problem, and select a model that optimizes those metrics. \n",
    "    "
   ]
  }
 ],
 "metadata": {
  "kernelspec": {
   "display_name": "Python 3 (ipykernel)",
   "language": "python",
   "name": "python3"
  },
  "language_info": {
   "codemirror_mode": {
    "name": "ipython",
    "version": 3
   },
   "file_extension": ".py",
   "mimetype": "text/x-python",
   "name": "python",
   "nbconvert_exporter": "python",
   "pygments_lexer": "ipython3",
   "version": "3.9.12"
  },
  "toc": {
   "base_numbering": 1,
   "nav_menu": {},
   "number_sections": true,
   "sideBar": true,
   "skip_h1_title": false,
   "title_cell": "Table of Contents",
   "title_sidebar": "Contents",
   "toc_cell": false,
   "toc_position": {},
   "toc_section_display": true,
   "toc_window_display": false
  }
 },
 "nbformat": 4,
 "nbformat_minor": 4
}
