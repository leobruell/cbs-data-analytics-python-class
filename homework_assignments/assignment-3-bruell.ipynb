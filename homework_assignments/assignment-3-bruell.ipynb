{
 "cells": [
  {
   "cell_type": "markdown",
   "metadata": {},
   "source": [
    "<h1>Home Assignment injunctions!</h1>\n",
    "<li>No Loops. Use only elementwise operations</li>\n",
    "<li>Your code should work for any data in the provided format. Data values (example, customer ids, product ids, number of customers, etc.) should NEVER appear in your code!</li>"
   ]
  },
  {
   "cell_type": "markdown",
   "metadata": {},
   "source": [
    "<h1>Problem 1:</h1>\n",
    "Write a function that reads timeseries pricing data from a file into a pandas dataframe and then groups the data as follows:\n",
    "<li>The arguments to the function are the filename and a threshold number\n",
    "<li>The function reads the data in the file and creates a new column \"pct_change\" with the one day percent change\n",
    "<li>Then groups the data into four categories:\n",
    "<ul>\n",
    "<li>\"High+\" if the percent change is greater than the threshold \n",
    "<li>\"Low+\" if the percent change is zero or positive and less than or equal to the threshold% \n",
    "<li>\"Low-\" if the percent change is negative but greater than or equal to -1 * the threshold\n",
    "<li>\"High-\" if the percent change is less than -1 * the threshold\n",
    "</ul>\n",
    "<li>The function should return a dataframe that contains three columns (count, mean, stdev) and four index values (High+, High-, Low+, Low-)\n",
    "    <p><b>Note: </b>we have to deal with nan percent changes. Make sure that you don't count a NaN in any of the four categories! (see https://pandas.pydata.org/docs/reference/api/pandas.isna.html)  <p>\n",
    "For the sample data your function should return a dataframe with the following values for a threshold of 1.0:\n",
    "\n",
    "<pre>\n",
    "        count\tmean\tstdev\n",
    "High+\t870\t2.162834\t1.301745\n",
    "High-\t666\t-2.291770\t1.370657\n",
    "Low+\t870\t0.463122\t0.284869\n",
    "Low-\t883\t-0.445557\t0.276355\n",
    "\n",
    "</pre>\n",
    "\n",
    "    "
   ]
  },
  {
   "cell_type": "markdown",
   "metadata": {},
   "source": [
    "<h3>read_csv</h3>\n",
    "The pandas <a href=\"https://pandas.pydata.org/pandas-docs/stable/reference/api/pandas.read_csv.html\">read_csv</a> function reads data from a delimited file into a pandas dataframe.\n",
    "\n"
   ]
  },
  {
   "cell_type": "markdown",
   "metadata": {},
   "source": [
    "<h2>Sample data</h2>\n",
    "Use the attached AAPL.csv file"
   ]
  },
  {
   "cell_type": "code",
   "execution_count": 4,
   "metadata": {},
   "outputs": [],
   "source": [
    "import pandas as pd\n",
    "import numpy as np"
   ]
  },
  {
   "cell_type": "code",
   "execution_count": 5,
   "metadata": {},
   "outputs": [],
   "source": [
    "def change_groups(datafile,threshold):\n",
    "    #Your code goes here\n",
    "    df = pd.read_csv('../class-datasets/AAPL.csv')\n",
    "    df['pct_change'] = df.iloc[:,1].rolling(2).apply(lambda x: (x.iloc[1] - x.iloc[0]) * 100 / x.iloc[0])\n",
    "    df = df.dropna()\n",
    "    def make_categories(row):\n",
    "        if row['pct_change'] > threshold:\n",
    "            return 'High+'\n",
    "        elif row['pct_change'] >= 0:\n",
    "            return 'Low+'\n",
    "        elif row['pct_change'] >= (-1*threshold):\n",
    "            return 'Low-'\n",
    "        else:\n",
    "            return 'High-'\n",
    "    df['cat'] = df.apply(make_categories,axis=1)\n",
    "    return df.groupby('cat')['pct_change'].agg(['count','mean','std'])\n"
   ]
  },
  {
   "cell_type": "code",
   "execution_count": 6,
   "metadata": {},
   "outputs": [
    {
     "data": {
      "text/html": [
       "<div>\n",
       "<style scoped>\n",
       "    .dataframe tbody tr th:only-of-type {\n",
       "        vertical-align: middle;\n",
       "    }\n",
       "\n",
       "    .dataframe tbody tr th {\n",
       "        vertical-align: top;\n",
       "    }\n",
       "\n",
       "    .dataframe thead th {\n",
       "        text-align: right;\n",
       "    }\n",
       "</style>\n",
       "<table border=\"1\" class=\"dataframe\">\n",
       "  <thead>\n",
       "    <tr style=\"text-align: right;\">\n",
       "      <th></th>\n",
       "      <th>count</th>\n",
       "      <th>mean</th>\n",
       "      <th>std</th>\n",
       "    </tr>\n",
       "    <tr>\n",
       "      <th>cat</th>\n",
       "      <th></th>\n",
       "      <th></th>\n",
       "      <th></th>\n",
       "    </tr>\n",
       "  </thead>\n",
       "  <tbody>\n",
       "    <tr>\n",
       "      <th>High+</th>\n",
       "      <td>870</td>\n",
       "      <td>2.162834</td>\n",
       "      <td>1.301745</td>\n",
       "    </tr>\n",
       "    <tr>\n",
       "      <th>High-</th>\n",
       "      <td>666</td>\n",
       "      <td>-2.291770</td>\n",
       "      <td>1.370657</td>\n",
       "    </tr>\n",
       "    <tr>\n",
       "      <th>Low+</th>\n",
       "      <td>870</td>\n",
       "      <td>0.463122</td>\n",
       "      <td>0.284869</td>\n",
       "    </tr>\n",
       "    <tr>\n",
       "      <th>Low-</th>\n",
       "      <td>883</td>\n",
       "      <td>-0.445557</td>\n",
       "      <td>0.276355</td>\n",
       "    </tr>\n",
       "  </tbody>\n",
       "</table>\n",
       "</div>"
      ],
      "text/plain": [
       "       count      mean       std\n",
       "cat                             \n",
       "High+    870  2.162834  1.301745\n",
       "High-    666 -2.291770  1.370657\n",
       "Low+     870  0.463122  0.284869\n",
       "Low-     883 -0.445557  0.276355"
      ]
     },
     "execution_count": 6,
     "metadata": {},
     "output_type": "execute_result"
    }
   ],
   "source": [
    "#Test your code\n",
    "change_groups(\"AAPL.csv\",1.0)"
   ]
  },
  {
   "cell_type": "markdown",
   "metadata": {},
   "source": [
    "<h1>Problem 2</h1>\n",
    "A manufacturer has data on orders from customers and product prices in two dataframes (see below). They want to use this data to answer the following questions:\n",
    "<ol>\n",
    "    <li>Which customer is responsible for the most revenue</li>\n",
    "    <li>Which customer is responsible for the highest profit</li>\n",
    "    <li>Which product is responsible for the highest (dollar) profit</li>\n",
    "    <li>Which customer and product combination is responsible for the most orders</li>\n",
    "</ol>\n",
    "<p>\n",
    "Obviously, your code should work for any actual data values and pandas dataframes of any length!\n",
    "<p>For the data below: your answers should be:\n",
    "    \n",
    "<pre>\n",
    "Customer with most profit: 005\n",
    "Customer with most revenue: 007\n",
    "Product with most profit: 011\n",
    "Customer 001 with product 010 with 4 orders is the most ordered customer product pair\n",
    "</pre>\n"
   ]
  },
  {
   "cell_type": "markdown",
   "metadata": {},
   "source": [
    "<h2>Useful functions:</h2>\n",
    "<li><a href=\"https://pandas.pydata.org/pandas-docs/stable/reference/api/pandas.DataFrame.sort_values.html\">pd.sort_values</a> </li>\n",
    "<li><a href=\"https://pandas.pydata.org/pandas-docs/stable/reference/api/pandas.DataFrame.join.html\">pandas dataframe join</a> the last example on the linked page is probably what you need here!</li>\n",
    "<li><a href=\"https://pandas.pydata.org/pandas-docs/stable/reference/api/pandas.DataFrame.groupby.html\">pd.groupby</a></li>"
   ]
  },
  {
   "cell_type": "code",
   "execution_count": 7,
   "metadata": {},
   "outputs": [],
   "source": [
    "import pandas as pd\n",
    "import numpy as np\n",
    "order_data = pd.DataFrame([[\"001\",\"010\",24],\n",
    "                           [\"007\",\"012\",35],\n",
    "                           [\"001\",\"011\",15],\n",
    "                           [\"005\",\"010\",30],\n",
    "                           [\"007\",\"011\",17],\n",
    "                           [\"005\",\"011\",81],\n",
    "                           [\"001\",\"010\",32],\n",
    "                           [\"007\",\"012\",89],\n",
    "                           [\"001\",\"010\",16],\n",
    "                           [\"001\",\"010\",33]],columns=[\"customer\",\"product\",\"amount\"])\n",
    "products = pd.DataFrame([['010',22.3,17.2],\n",
    "                        ['011',11.7,5.5],\n",
    "                        ['012',62.5,61.4]],columns=['product','price','cost'])                     "
   ]
  },
  {
   "cell_type": "code",
   "execution_count": 8,
   "metadata": {},
   "outputs": [
    {
     "data": {
      "text/plain": [
       "\"Customer with most revenue: 007\\n        Customer with most profit: 005\\n        Product with most profit: 011\\n        Customer/Product most orders: ('001', '010')\""
      ]
     },
     "execution_count": 8,
     "metadata": {},
     "output_type": "execute_result"
    }
   ],
   "source": [
    "#Your code goes here\n",
    "def get_answers_prob_2(order_data, products):\n",
    "    #Question 1\n",
    "    answer_1 = order_data.groupby('customer')['amount'].sum().sort_values(ascending=False).index[0]\n",
    "    #Question 2\n",
    "    products['profit_per_item'] = products['price'] - products['cost']\n",
    "    all_data = order_data.merge(products, on='product')\n",
    "    all_data['profit_per_order'] = all_data['amount'] * all_data['profit_per_item']\n",
    "    answer_2 = all_data.groupby('customer')['profit_per_order'].sum().sort_values(ascending=False).index[0]\n",
    "    #Question 3\n",
    "    answer_3 = all_data.groupby('product')['profit_per_order'].sum().sort_values(ascending=False).index[0]\n",
    "    #Question 4\n",
    "    answer_4 = all_data.groupby(['customer','product'])['amount'].count().sort_values(ascending=False).index[0]\n",
    "    return '''Customer with most revenue: {}\n",
    "        Customer with most profit: {}\n",
    "        Product with most profit: {}\n",
    "        Customer/Product most orders: {}'''.format(answer_1,answer_2,answer_3,answer_4)\n",
    "get_answers_prob_2(order_data,products)\n",
    "    \n"
   ]
  },
  {
   "cell_type": "markdown",
   "metadata": {},
   "source": [
    "<h1>Problem 3</h1>\n",
    "In this problem you'll get some practice getting and combining data from the St. Louis Federal Reserve (FRED). Get the following data from FRED (01/01/2010 to 12/31/2022):\n",
    "\n",
    "<pre>\n",
    "\"TB3MS\" #3 month t-bill market yield \n",
    "\"DGS10\" #10 year constant maturity government bond market yield\n",
    "\"NB000334Q\" #Real GDP index quarterly (index = 100 at 2012)\n",
    "\"CPIAUCSL\" #Consumer price index for all urban consumers seasonally adjusted\n",
    "</pre>\n",
    "\n",
    "Since these data items have different frequencies (some are daily, some monthly, some quarterly), make separate data reader calls for each. For GDP and the CPI, use percent changes quarter over quarter rather than the absolute values\n",
    "\n",
    "Then, as a proxy for the stock market, get data for the ticker SPY,the S&P ETF, from tiingo. You will need to create an account and get an API Key (https://www.tiingo.com/). Use the adjusted close. Resample the data to the business quarter and calculate a quarter over quarter percent change.\n",
    "\n",
    "Align all the data to the end of the business quarter (i.e., use the value on the last day of each quarter).\n",
    "\n",
    "For the ETF, calculate one day percent changes and shift the data back by one quarter (we're interested in the correlation between macroeconomic data in one quarter and the performance of the S&P in the next quarter). For example, if the percentage change on 3/31 is 5% and on 6/30 is 2.5%, we want to align the percent change on 6/30 with the the macroeconomic data as of 3/31. So we need to replace the data on 3/31 by 2.5%\n",
    "\n",
    "Using the pandas join function, join all the data into one dataframe with the quarter end date as the index\n",
    "\n",
    "Generate the correlation matrix. This is what you should get:\n",
    "\n",
    "<pre>\n",
    "\tTB3MS\tDGS10\tNB000334Q\tCPIAUCSL\tSPY\n",
    "TB3MS\t1.000000\t0.409817\t0.070356\t-0.001078\t-0.078983\n",
    "DGS10\t0.409817\t1.000000\t0.060454\t0.038290\t-0.329595\n",
    "NB000334Q\t0.070356\t0.060454\t1.000000\t0.089625\t-0.009725\n",
    "CPIAUCSL\t-0.001078\t0.038290\t0.089625\t1.000000\t-0.393822\n",
    "SPY\t-0.078983\t-0.329595\t-0.009725\t-0.393822\t1.000000\n",
    "\n",
    "</pre>\n",
    "\n",
    "<h3>Notes:</h3>\n",
    "\n",
    "1. In the shift function, positive numbers will shift forward while negative numbers will shift backward\n",
    "2. tiingo returns datetime index values while fred returns date index values. You can convert datetime to date using:\n",
    "\n",
    "    df.index = df.index.date\n",
    "    \n",
    "where spy is the dateframe with datetime values as index\n",
    "    \n",
    "3. To rename a column, use df.rename(columns={\"old_name\":\"new_name\"})"
   ]
  },
  {
   "cell_type": "code",
   "execution_count": 9,
   "metadata": {},
   "outputs": [],
   "source": [
    "#Your code goes here\n",
    "import pandas as pd\n",
    "from pandas_datareader import data as pdr\n",
    "import datetime as dt\n",
    "from TiingoApiKey import tiingo_api_key"
   ]
  },
  {
   "cell_type": "code",
   "execution_count": 10,
   "metadata": {},
   "outputs": [
    {
     "name": "stderr",
     "output_type": "stream",
     "text": [
      "/tmp/ipykernel_45865/59906019.py:6: FutureWarning: In a future version of pandas all arguments of concat except for the argument 'objs' will be keyword-only.\n",
      "  stocks = pdr.DataReader('SPY','tiingo',dt.datetime(2010,1,1), dt.datetime(2022,12,31), api_key=tiingo_api_key)\n"
     ]
    }
   ],
   "source": [
    "#Your code goes here\n",
    "t_bill = pdr.DataReader('TB3MS','fred', dt.datetime(2010,1,1), dt.datetime(2022,12,31))\n",
    "gov_bond = pdr.DataReader('DGS10','fred', dt.datetime(2010,1,1), dt.datetime(2022,12,31))\n",
    "gdp = pdr.DataReader('NB000334Q','fred', dt.datetime(2010,1,1), dt.datetime(2022,12,31))\n",
    "cpi = pdr.DataReader('CPIAUCSL','fred', dt.datetime(2010,1,1), dt.datetime(2022,12,31))\n",
    "stocks = pdr.DataReader('SPY','tiingo',dt.datetime(2010,1,1), dt.datetime(2022,12,31), api_key=tiingo_api_key)\n"
   ]
  },
  {
   "cell_type": "code",
   "execution_count": 11,
   "metadata": {},
   "outputs": [],
   "source": [
    "gdp = gdp.resample('Q').last().pct_change()\n",
    "cpi = cpi.resample('Q').last().pct_change()\n",
    "t_bill = t_bill.resample('Q').last()\n",
    "gov_bond = gov_bond.resample('Q').last()"
   ]
  },
  {
   "cell_type": "code",
   "execution_count": 12,
   "metadata": {},
   "outputs": [],
   "source": [
    "stocks = stocks.droplevel(level=0)"
   ]
  },
  {
   "cell_type": "code",
   "execution_count": 13,
   "metadata": {},
   "outputs": [],
   "source": [
    "stocks.index = stocks.index.date\n",
    "stocks.index = pd.to_datetime(stocks.index)"
   ]
  },
  {
   "cell_type": "code",
   "execution_count": 14,
   "metadata": {},
   "outputs": [],
   "source": [
    "sandp = pd.DataFrame(stocks.adjClose.resample('Q').last().pct_change().shift(-1))\n",
    "sandp.columns = ['SPY']"
   ]
  },
  {
   "cell_type": "code",
   "execution_count": 15,
   "metadata": {},
   "outputs": [],
   "source": [
    "all_data = t_bill.join([gov_bond, gdp, cpi, sandp])"
   ]
  },
  {
   "cell_type": "code",
   "execution_count": 16,
   "metadata": {},
   "outputs": [
    {
     "data": {
      "text/html": [
       "<div>\n",
       "<style scoped>\n",
       "    .dataframe tbody tr th:only-of-type {\n",
       "        vertical-align: middle;\n",
       "    }\n",
       "\n",
       "    .dataframe tbody tr th {\n",
       "        vertical-align: top;\n",
       "    }\n",
       "\n",
       "    .dataframe thead th {\n",
       "        text-align: right;\n",
       "    }\n",
       "</style>\n",
       "<table border=\"1\" class=\"dataframe\">\n",
       "  <thead>\n",
       "    <tr style=\"text-align: right;\">\n",
       "      <th></th>\n",
       "      <th>TB3MS</th>\n",
       "      <th>DGS10</th>\n",
       "      <th>NB000334Q</th>\n",
       "      <th>CPIAUCSL</th>\n",
       "      <th>SPY</th>\n",
       "    </tr>\n",
       "  </thead>\n",
       "  <tbody>\n",
       "    <tr>\n",
       "      <th>TB3MS</th>\n",
       "      <td>1.000000</td>\n",
       "      <td>0.409817</td>\n",
       "      <td>0.070356</td>\n",
       "      <td>0.049515</td>\n",
       "      <td>-0.078983</td>\n",
       "    </tr>\n",
       "    <tr>\n",
       "      <th>DGS10</th>\n",
       "      <td>0.409817</td>\n",
       "      <td>1.000000</td>\n",
       "      <td>0.060454</td>\n",
       "      <td>0.060827</td>\n",
       "      <td>-0.329595</td>\n",
       "    </tr>\n",
       "    <tr>\n",
       "      <th>NB000334Q</th>\n",
       "      <td>0.070356</td>\n",
       "      <td>0.060454</td>\n",
       "      <td>1.000000</td>\n",
       "      <td>0.162621</td>\n",
       "      <td>-0.009725</td>\n",
       "    </tr>\n",
       "    <tr>\n",
       "      <th>CPIAUCSL</th>\n",
       "      <td>0.049515</td>\n",
       "      <td>0.060827</td>\n",
       "      <td>0.162621</td>\n",
       "      <td>1.000000</td>\n",
       "      <td>-0.398769</td>\n",
       "    </tr>\n",
       "    <tr>\n",
       "      <th>SPY</th>\n",
       "      <td>-0.078983</td>\n",
       "      <td>-0.329595</td>\n",
       "      <td>-0.009725</td>\n",
       "      <td>-0.398769</td>\n",
       "      <td>1.000000</td>\n",
       "    </tr>\n",
       "  </tbody>\n",
       "</table>\n",
       "</div>"
      ],
      "text/plain": [
       "              TB3MS     DGS10  NB000334Q  CPIAUCSL       SPY\n",
       "TB3MS      1.000000  0.409817   0.070356  0.049515 -0.078983\n",
       "DGS10      0.409817  1.000000   0.060454  0.060827 -0.329595\n",
       "NB000334Q  0.070356  0.060454   1.000000  0.162621 -0.009725\n",
       "CPIAUCSL   0.049515  0.060827   0.162621  1.000000 -0.398769\n",
       "SPY       -0.078983 -0.329595  -0.009725 -0.398769  1.000000"
      ]
     },
     "execution_count": 16,
     "metadata": {},
     "output_type": "execute_result"
    }
   ],
   "source": [
    "all_data.corr()"
   ]
  }
 ],
 "metadata": {
  "kernelspec": {
   "display_name": "base",
   "language": "python",
   "name": "python3"
  },
  "language_info": {
   "codemirror_mode": {
    "name": "ipython",
    "version": 3
   },
   "file_extension": ".py",
   "mimetype": "text/x-python",
   "name": "python",
   "nbconvert_exporter": "python",
   "pygments_lexer": "ipython3",
   "version": "3.9.12"
  },
  "toc": {
   "base_numbering": 1,
   "nav_menu": {},
   "number_sections": true,
   "sideBar": true,
   "skip_h1_title": false,
   "title_cell": "Table of Contents",
   "title_sidebar": "Contents",
   "toc_cell": false,
   "toc_position": {},
   "toc_section_display": true,
   "toc_window_display": false
  },
  "vscode": {
   "interpreter": {
    "hash": "81d5b4a19a276010183013345b38f7d9b6c479ab07551a9ca40dd13abdbac5b2"
   }
  }
 },
 "nbformat": 4,
 "nbformat_minor": 2
}
