{
 "cells": [
  {
   "cell_type": "markdown",
   "metadata": {},
   "source": [
    "<h1>Charts with bokeh assignment</h1>\n",
    "Download the nyc taxi data for 2016 January (see below) and prepare the following charts:\n",
    "\n",
    "<ol>\n",
    "    <li>A bokeh bar chart with day of the week (Monday, Tuesday, ...) on the x-axis and the average duration of rides on the y-axis. Make sure that the hover tool is activated and that it shows the average duration when the cursor hovers over it</li>\n",
    "    <li>A bokeh interactive chart with a slider containing the hour of the day (0,1,...23) and the average number of rides for each hour for each day of the week. I.e., the chart should contain days of the week on the x-axis and the mean number of rides on the y-axis for a particular hour of the day. Moving the slider (e.g., from 10 to 11) should replace the chart for 1000 hrs by the chart for 1100 hrs). Don't forget the tooltip</li>\n",
    "    <ul><li><a href=\"https://docs.bokeh.org/en/latest/docs/gallery/slider.html\">sliders</a></li>\n",
    "        <li><a href=\"https://docs.bokeh.org/en/latest/docs/reference/models/glyphs/vbar.html\">vbar</a></li>\n",
    "        <li>note that column names must be strings for converting a data frame into a column data source</li>\n",
    "    </ul>\n",
    "    <li>A piechart that shows how much of the total payment comes from each day of the week. The pie should have seven slices, one for each day, and the size of each slice depends on the fraction it contributes to the total. Again, don't forget the tooltip</li>\n",
    "    \n",
    "</ol>\n",
    "<li>For the purposes of this exercise, remove any taxi rides that are less than 5 minute in duration</li>"
   ]
  },
  {
   "cell_type": "markdown",
   "metadata": {},
   "source": [
    "<h2>NYC taxi data</h2>\n",
    "<li>NYC taxi trip data is collected and made available (yellow, green, and black cabs)</li>\n",
    "<li>We'll use data from January 2022</li>\n",
    "<li><a href=\"https://d37ci6vzurychx.cloudfront.net/trip-data/yellow_tripdata_2022-01.parquet\"</a></li>\n",
    "<li>Use pandas <span style=\"color:blue\">read_parquet</span> function to import the data</li>\n",
    "<li>Apache Parquet is a column data source format for data storage. It's main advantage over csv files is that each column retains its data type (csv converts everything to strings)</li>\n",
    "<li>After running pd.read_parquet, try df.info() to see the data type of each column</li>\n"
   ]
  },
  {
   "cell_type": "code",
   "execution_count": 313,
   "metadata": {},
   "outputs": [
    {
     "data": {
      "text/html": [
       "<div class=\"bk-root\">\n",
       "        <a href=\"https://bokeh.org\" target=\"_blank\" class=\"bk-logo bk-logo-small bk-logo-notebook\"></a>\n",
       "        <span id=\"38697\">Loading BokehJS ...</span>\n",
       "    </div>\n"
      ]
     },
     "metadata": {},
     "output_type": "display_data"
    },
    {
     "data": {
      "application/javascript": "(function(root) {\n  function now() {\n    return new Date();\n  }\n\n  const force = true;\n\n  if (typeof root._bokeh_onload_callbacks === \"undefined\" || force === true) {\n    root._bokeh_onload_callbacks = [];\n    root._bokeh_is_loading = undefined;\n  }\n\nconst JS_MIME_TYPE = 'application/javascript';\n  const HTML_MIME_TYPE = 'text/html';\n  const EXEC_MIME_TYPE = 'application/vnd.bokehjs_exec.v0+json';\n  const CLASS_NAME = 'output_bokeh rendered_html';\n\n  /**\n   * Render data to the DOM node\n   */\n  function render(props, node) {\n    const script = document.createElement(\"script\");\n    node.appendChild(script);\n  }\n\n  /**\n   * Handle when an output is cleared or removed\n   */\n  function handleClearOutput(event, handle) {\n    const cell = handle.cell;\n\n    const id = cell.output_area._bokeh_element_id;\n    const server_id = cell.output_area._bokeh_server_id;\n    // Clean up Bokeh references\n    if (id != null && id in Bokeh.index) {\n      Bokeh.index[id].model.document.clear();\n      delete Bokeh.index[id];\n    }\n\n    if (server_id !== undefined) {\n      // Clean up Bokeh references\n      const cmd_clean = \"from bokeh.io.state import curstate; print(curstate().uuid_to_server['\" + server_id + \"'].get_sessions()[0].document.roots[0]._id)\";\n      cell.notebook.kernel.execute(cmd_clean, {\n        iopub: {\n          output: function(msg) {\n            const id = msg.content.text.trim();\n            if (id in Bokeh.index) {\n              Bokeh.index[id].model.document.clear();\n              delete Bokeh.index[id];\n            }\n          }\n        }\n      });\n      // Destroy server and session\n      const cmd_destroy = \"import bokeh.io.notebook as ion; ion.destroy_server('\" + server_id + \"')\";\n      cell.notebook.kernel.execute(cmd_destroy);\n    }\n  }\n\n  /**\n   * Handle when a new output is added\n   */\n  function handleAddOutput(event, handle) {\n    const output_area = handle.output_area;\n    const output = handle.output;\n\n    // limit handleAddOutput to display_data with EXEC_MIME_TYPE content only\n    if ((output.output_type != \"display_data\") || (!Object.prototype.hasOwnProperty.call(output.data, EXEC_MIME_TYPE))) {\n      return\n    }\n\n    const toinsert = output_area.element.find(\".\" + CLASS_NAME.split(' ')[0]);\n\n    if (output.metadata[EXEC_MIME_TYPE][\"id\"] !== undefined) {\n      toinsert[toinsert.length - 1].firstChild.textContent = output.data[JS_MIME_TYPE];\n      // store reference to embed id on output_area\n      output_area._bokeh_element_id = output.metadata[EXEC_MIME_TYPE][\"id\"];\n    }\n    if (output.metadata[EXEC_MIME_TYPE][\"server_id\"] !== undefined) {\n      const bk_div = document.createElement(\"div\");\n      bk_div.innerHTML = output.data[HTML_MIME_TYPE];\n      const script_attrs = bk_div.children[0].attributes;\n      for (let i = 0; i < script_attrs.length; i++) {\n        toinsert[toinsert.length - 1].firstChild.setAttribute(script_attrs[i].name, script_attrs[i].value);\n        toinsert[toinsert.length - 1].firstChild.textContent = bk_div.children[0].textContent\n      }\n      // store reference to server id on output_area\n      output_area._bokeh_server_id = output.metadata[EXEC_MIME_TYPE][\"server_id\"];\n    }\n  }\n\n  function register_renderer(events, OutputArea) {\n\n    function append_mime(data, metadata, element) {\n      // create a DOM node to render to\n      const toinsert = this.create_output_subarea(\n        metadata,\n        CLASS_NAME,\n        EXEC_MIME_TYPE\n      );\n      this.keyboard_manager.register_events(toinsert);\n      // Render to node\n      const props = {data: data, metadata: metadata[EXEC_MIME_TYPE]};\n      render(props, toinsert[toinsert.length - 1]);\n      element.append(toinsert);\n      return toinsert\n    }\n\n    /* Handle when an output is cleared or removed */\n    events.on('clear_output.CodeCell', handleClearOutput);\n    events.on('delete.Cell', handleClearOutput);\n\n    /* Handle when a new output is added */\n    events.on('output_added.OutputArea', handleAddOutput);\n\n    /**\n     * Register the mime type and append_mime function with output_area\n     */\n    OutputArea.prototype.register_mime_type(EXEC_MIME_TYPE, append_mime, {\n      /* Is output safe? */\n      safe: true,\n      /* Index of renderer in `output_area.display_order` */\n      index: 0\n    });\n  }\n\n  // register the mime type if in Jupyter Notebook environment and previously unregistered\n  if (root.Jupyter !== undefined) {\n    const events = require('base/js/events');\n    const OutputArea = require('notebook/js/outputarea').OutputArea;\n\n    if (OutputArea.prototype.mime_types().indexOf(EXEC_MIME_TYPE) == -1) {\n      register_renderer(events, OutputArea);\n    }\n  }\n  if (typeof (root._bokeh_timeout) === \"undefined\" || force === true) {\n    root._bokeh_timeout = Date.now() + 5000;\n    root._bokeh_failed_load = false;\n  }\n\n  const NB_LOAD_WARNING = {'data': {'text/html':\n     \"<div style='background-color: #fdd'>\\n\"+\n     \"<p>\\n\"+\n     \"BokehJS does not appear to have successfully loaded. If loading BokehJS from CDN, this \\n\"+\n     \"may be due to a slow or bad network connection. Possible fixes:\\n\"+\n     \"</p>\\n\"+\n     \"<ul>\\n\"+\n     \"<li>re-rerun `output_notebook()` to attempt to load from CDN again, or</li>\\n\"+\n     \"<li>use INLINE resources instead, as so:</li>\\n\"+\n     \"</ul>\\n\"+\n     \"<code>\\n\"+\n     \"from bokeh.resources import INLINE\\n\"+\n     \"output_notebook(resources=INLINE)\\n\"+\n     \"</code>\\n\"+\n     \"</div>\"}};\n\n  function display_loaded() {\n    const el = document.getElementById(\"38697\");\n    if (el != null) {\n      el.textContent = \"BokehJS is loading...\";\n    }\n    if (root.Bokeh !== undefined) {\n      if (el != null) {\n        el.textContent = \"BokehJS \" + root.Bokeh.version + \" successfully loaded.\";\n      }\n    } else if (Date.now() < root._bokeh_timeout) {\n      setTimeout(display_loaded, 100)\n    }\n  }\n\n  function run_callbacks() {\n    try {\n      root._bokeh_onload_callbacks.forEach(function(callback) {\n        if (callback != null)\n          callback();\n      });\n    } finally {\n      delete root._bokeh_onload_callbacks\n    }\n    console.debug(\"Bokeh: all callbacks have finished\");\n  }\n\n  function load_libs(css_urls, js_urls, callback) {\n    if (css_urls == null) css_urls = [];\n    if (js_urls == null) js_urls = [];\n\n    root._bokeh_onload_callbacks.push(callback);\n    if (root._bokeh_is_loading > 0) {\n      console.debug(\"Bokeh: BokehJS is being loaded, scheduling callback at\", now());\n      return null;\n    }\n    if (js_urls == null || js_urls.length === 0) {\n      run_callbacks();\n      return null;\n    }\n    console.debug(\"Bokeh: BokehJS not loaded, scheduling load and callback at\", now());\n    root._bokeh_is_loading = css_urls.length + js_urls.length;\n\n    function on_load() {\n      root._bokeh_is_loading--;\n      if (root._bokeh_is_loading === 0) {\n        console.debug(\"Bokeh: all BokehJS libraries/stylesheets loaded\");\n        run_callbacks()\n      }\n    }\n\n    function on_error(url) {\n      console.error(\"failed to load \" + url);\n    }\n\n    for (let i = 0; i < css_urls.length; i++) {\n      const url = css_urls[i];\n      const element = document.createElement(\"link\");\n      element.onload = on_load;\n      element.onerror = on_error.bind(null, url);\n      element.rel = \"stylesheet\";\n      element.type = \"text/css\";\n      element.href = url;\n      console.debug(\"Bokeh: injecting link tag for BokehJS stylesheet: \", url);\n      document.body.appendChild(element);\n    }\n\n    for (let i = 0; i < js_urls.length; i++) {\n      const url = js_urls[i];\n      const element = document.createElement('script');\n      element.onload = on_load;\n      element.onerror = on_error.bind(null, url);\n      element.async = false;\n      element.src = url;\n      console.debug(\"Bokeh: injecting script tag for BokehJS library: \", url);\n      document.head.appendChild(element);\n    }\n  };\n\n  function inject_raw_css(css) {\n    const element = document.createElement(\"style\");\n    element.appendChild(document.createTextNode(css));\n    document.body.appendChild(element);\n  }\n\n  const js_urls = [\"https://cdn.bokeh.org/bokeh/release/bokeh-2.4.3.min.js\", \"https://cdn.bokeh.org/bokeh/release/bokeh-gl-2.4.3.min.js\", \"https://cdn.bokeh.org/bokeh/release/bokeh-widgets-2.4.3.min.js\", \"https://cdn.bokeh.org/bokeh/release/bokeh-tables-2.4.3.min.js\", \"https://cdn.bokeh.org/bokeh/release/bokeh-mathjax-2.4.3.min.js\"];\n  const css_urls = [];\n\n  const inline_js = [    function(Bokeh) {\n      Bokeh.set_log_level(\"info\");\n    },\nfunction(Bokeh) {\n    }\n  ];\n\n  function run_inline_js() {\n    if (root.Bokeh !== undefined || force === true) {\n          for (let i = 0; i < inline_js.length; i++) {\n      inline_js[i].call(root, root.Bokeh);\n    }\nif (force === true) {\n        display_loaded();\n      }} else if (Date.now() < root._bokeh_timeout) {\n      setTimeout(run_inline_js, 100);\n    } else if (!root._bokeh_failed_load) {\n      console.log(\"Bokeh: BokehJS failed to load within specified timeout.\");\n      root._bokeh_failed_load = true;\n    } else if (force !== true) {\n      const cell = $(document.getElementById(\"38697\")).parents('.cell').data().cell;\n      cell.output_area.append_execute_result(NB_LOAD_WARNING)\n    }\n  }\n\n  if (root._bokeh_is_loading === 0) {\n    console.debug(\"Bokeh: BokehJS loaded, going straight to plotting\");\n    run_inline_js();\n  } else {\n    load_libs(css_urls, js_urls, function() {\n      console.debug(\"Bokeh: BokehJS plotting callback run at\", now());\n      run_inline_js();\n    });\n  }\n}(window));",
      "application/vnd.bokehjs_load.v0+json": ""
     },
     "metadata": {},
     "output_type": "display_data"
    }
   ],
   "source": [
    "from bokeh.io import output_notebook, show\n",
    "from bokeh.plotting import figure\n",
    "\n",
    "output_notebook()"
   ]
  },
  {
   "cell_type": "code",
   "execution_count": 314,
   "metadata": {},
   "outputs": [
    {
     "name": "stdout",
     "output_type": "stream",
     "text": [
      "<class 'pandas.core.frame.DataFrame'>\n",
      "RangeIndex: 2463931 entries, 0 to 2463930\n",
      "Data columns (total 19 columns):\n",
      " #   Column                 Dtype         \n",
      "---  ------                 -----         \n",
      " 0   VendorID               int64         \n",
      " 1   tpep_pickup_datetime   datetime64[ns]\n",
      " 2   tpep_dropoff_datetime  datetime64[ns]\n",
      " 3   passenger_count        float64       \n",
      " 4   trip_distance          float64       \n",
      " 5   RatecodeID             float64       \n",
      " 6   store_and_fwd_flag     object        \n",
      " 7   PULocationID           int64         \n",
      " 8   DOLocationID           int64         \n",
      " 9   payment_type           int64         \n",
      " 10  fare_amount            float64       \n",
      " 11  extra                  float64       \n",
      " 12  mta_tax                float64       \n",
      " 13  tip_amount             float64       \n",
      " 14  tolls_amount           float64       \n",
      " 15  improvement_surcharge  float64       \n",
      " 16  total_amount           float64       \n",
      " 17  congestion_surcharge   float64       \n",
      " 18  airport_fee            float64       \n",
      "dtypes: datetime64[ns](2), float64(12), int64(4), object(1)\n",
      "memory usage: 357.2+ MB\n"
     ]
    }
   ],
   "source": [
    "import pandas as pd\n",
    "import numpy as np\n",
    "import matplotlib.pyplot as plt\n",
    "import datetime as dt\n",
    "%matplotlib inline\n",
    "\n",
    "datasource = \"../class-datasets/yellow_tripdata_2022-01.parquet\"\n",
    "df = pd.read_parquet(datasource)\n",
    "df.info()"
   ]
  },
  {
   "cell_type": "markdown",
   "metadata": {},
   "source": [
    "<span style=\"color:blue\">Start with a small subset of the data</span>\n",
    "<br>\n",
    "<li>After you've completed the assignment with the subset, you can try using all the data</li>"
   ]
  },
  {
   "cell_type": "code",
   "execution_count": 315,
   "metadata": {},
   "outputs": [],
   "source": [
    "# df = df.sample(frac=0.2)\n",
    "# df.info()"
   ]
  },
  {
   "cell_type": "markdown",
   "metadata": {},
   "source": [
    "<h3>Get the pickup hour (e.g., 11:20 corresponds to 11, 15:30pm corresponds to 15, etc.)</h3>"
   ]
  },
  {
   "cell_type": "code",
   "execution_count": 316,
   "metadata": {},
   "outputs": [],
   "source": [
    "df['pickup_hour'] = df.tpep_pickup_datetime.dt.hour"
   ]
  },
  {
   "cell_type": "markdown",
   "metadata": {},
   "source": [
    "<h3>Get the day of week (0-Monday, 1-Tuesday, ...)</h3>"
   ]
  },
  {
   "cell_type": "code",
   "execution_count": 317,
   "metadata": {},
   "outputs": [],
   "source": [
    "df['day_of_week'] = df.tpep_pickup_datetime.dt.weekday"
   ]
  },
  {
   "cell_type": "markdown",
   "metadata": {},
   "source": [
    "<h3>Get the taxi ride duration in minutes</h3>\n",
    "<li>I've done this for you</li>"
   ]
  },
  {
   "cell_type": "code",
   "execution_count": 318,
   "metadata": {},
   "outputs": [],
   "source": [
    "df['duration'] = (df.tpep_dropoff_datetime - df.tpep_pickup_datetime)/np.timedelta64(1, 's')/60.0"
   ]
  },
  {
   "cell_type": "markdown",
   "metadata": {},
   "source": [
    "<h3>Remove rides of 5 minutes or less and save in df</h3>"
   ]
  },
  {
   "cell_type": "code",
   "execution_count": 319,
   "metadata": {},
   "outputs": [],
   "source": [
    "df = df[df.duration > 5 ]"
   ]
  },
  {
   "cell_type": "markdown",
   "metadata": {},
   "source": [
    "<h1>PROBLEM 1: Average duration by day of week bar chart</h1>"
   ]
  },
  {
   "cell_type": "markdown",
   "metadata": {},
   "source": [
    "<h3>group the data by day of week</h3>"
   ]
  },
  {
   "cell_type": "code",
   "execution_count": 320,
   "metadata": {},
   "outputs": [],
   "source": [
    "day_of_week_group = df.groupby('day_of_week')"
   ]
  },
  {
   "cell_type": "markdown",
   "metadata": {},
   "source": [
    "<h3>Get the mean ride duration for each group</h3>\n",
    "<li>And make a df out of it</li>\n",
    "<li>day_of_week_mean has the day of week as the index</li>\n",
    "<li>the dataframe will have seven rows with indexes 0,1,2,..7</li>\n",
    "<li>add a new column with values Monday, Tuesday, Wedensday,...,Sunday</li>"
   ]
  },
  {
   "cell_type": "code",
   "execution_count": 321,
   "metadata": {},
   "outputs": [],
   "source": [
    "day_of_week_mean = day_of_week_group.duration.mean()\n",
    "day_of_week_mean_df = pd.DataFrame(day_of_week_mean)"
   ]
  },
  {
   "cell_type": "code",
   "execution_count": 322,
   "metadata": {},
   "outputs": [],
   "source": [
    "day_of_week_mean_df['weekday'] = ['Monday', 'Tuesday', 'Wednesday', 'Thursday', 'Friday', 'Saturday', 'Sunday']"
   ]
  },
  {
   "cell_type": "markdown",
   "metadata": {},
   "source": [
    "<h3>Make a column data source object from this dataframe</h3>"
   ]
  },
  {
   "cell_type": "code",
   "execution_count": 323,
   "metadata": {},
   "outputs": [],
   "source": [
    "from bokeh.models import ColumnDataSource\n",
    "cdata = ColumnDataSource(data=day_of_week_mean_df)"
   ]
  },
  {
   "cell_type": "markdown",
   "metadata": {},
   "source": [
    "<h3>Draw the vertical bar chart</h3>\n",
    "<li>You must include tooltips that show the duration when hovering over a bar</li>\n"
   ]
  },
  {
   "cell_type": "code",
   "execution_count": 324,
   "metadata": {},
   "outputs": [
    {
     "data": {
      "text/html": [
       "\n",
       "  <div class=\"bk-root\" id=\"bdadf7b7-650f-46d9-96ca-6dda532e549f\" data-root-id=\"38699\"></div>\n"
      ]
     },
     "metadata": {},
     "output_type": "display_data"
    },
    {
     "data": {
      "application/javascript": "(function(root) {\n  function embed_document(root) {\n  const docs_json = {\"f84a2728-8186-45a3-85ba-f5ee5bcec2a0\":{\"defs\":[],\"roots\":{\"references\":[{\"attributes\":{\"below\":[{\"id\":\"38710\"}],\"center\":[{\"id\":\"38712\"},{\"id\":\"38716\"}],\"left\":[{\"id\":\"38713\"}],\"renderers\":[{\"id\":\"38738\"}],\"title\":{\"id\":\"38700\"},\"toolbar\":{\"id\":\"38725\"},\"x_range\":{\"id\":\"38702\"},\"x_scale\":{\"id\":\"38706\"},\"y_range\":{\"id\":\"38704\"},\"y_scale\":{\"id\":\"38708\"}},\"id\":\"38699\",\"subtype\":\"Figure\",\"type\":\"Plot\"},{\"attributes\":{\"factors\":[\"Monday\",\"Tuesday\",\"Wednesday\",\"Thursday\",\"Friday\",\"Saturday\",\"Sunday\"]},\"id\":\"38702\",\"type\":\"FactorRange\"},{\"attributes\":{},\"id\":\"38717\",\"type\":\"PanTool\"},{\"attributes\":{\"end\":18},\"id\":\"38704\",\"type\":\"Range1d\"},{\"attributes\":{},\"id\":\"38722\",\"type\":\"HelpTool\"},{\"attributes\":{},\"id\":\"39537\",\"type\":\"CategoricalTickFormatter\"},{\"attributes\":{\"axis_label\":\"Day of Week\",\"coordinates\":null,\"formatter\":{\"id\":\"39537\"},\"group\":null,\"major_label_policy\":{\"id\":\"39538\"},\"ticker\":{\"id\":\"38711\"}},\"id\":\"38710\",\"type\":\"CategoricalAxis\"},{\"attributes\":{\"overlay\":{\"id\":\"38723\"}},\"id\":\"38719\",\"type\":\"BoxZoomTool\"},{\"attributes\":{},\"id\":\"38721\",\"type\":\"ResetTool\"},{\"attributes\":{},\"id\":\"39538\",\"type\":\"AllLabels\"},{\"attributes\":{},\"id\":\"39539\",\"type\":\"UnionRenderers\"},{\"attributes\":{\"coordinates\":null,\"data_source\":{\"id\":\"38698\"},\"glyph\":{\"id\":\"38734\"},\"group\":null,\"hover_glyph\":{\"id\":\"38736\"},\"muted_glyph\":{\"id\":\"38737\"},\"nonselection_glyph\":{\"id\":\"38735\"},\"view\":{\"id\":\"38739\"}},\"id\":\"38738\",\"type\":\"GlyphRenderer\"},{\"attributes\":{\"tools\":[{\"id\":\"38717\"},{\"id\":\"38718\"},{\"id\":\"38719\"},{\"id\":\"38720\"},{\"id\":\"38721\"},{\"id\":\"38722\"},{\"id\":\"38724\"}]},\"id\":\"38725\",\"type\":\"Toolbar\"},{\"attributes\":{},\"id\":\"39540\",\"type\":\"Selection\"},{\"attributes\":{\"bottom_units\":\"screen\",\"coordinates\":null,\"fill_alpha\":0.5,\"fill_color\":\"lightgrey\",\"group\":null,\"left_units\":\"screen\",\"level\":\"overlay\",\"line_alpha\":1.0,\"line_color\":\"black\",\"line_dash\":[4,4],\"line_width\":2,\"right_units\":\"screen\",\"syncable\":false,\"top_units\":\"screen\"},\"id\":\"38723\",\"type\":\"BoxAnnotation\"},{\"attributes\":{\"fill_color\":{\"value\":\"red\"},\"hatch_color\":{\"value\":\"red\"},\"top\":{\"field\":\"duration\"},\"width\":{\"value\":0.6},\"x\":{\"field\":\"weekday\"}},\"id\":\"38734\",\"type\":\"VBar\"},{\"attributes\":{},\"id\":\"38718\",\"type\":\"WheelZoomTool\"},{\"attributes\":{},\"id\":\"38714\",\"type\":\"BasicTicker\"},{\"attributes\":{\"fill_alpha\":{\"value\":0.1},\"fill_color\":{\"value\":\"red\"},\"hatch_alpha\":{\"value\":0.1},\"hatch_color\":{\"value\":\"red\"},\"line_alpha\":{\"value\":0.1},\"top\":{\"field\":\"duration\"},\"width\":{\"value\":0.6},\"x\":{\"field\":\"weekday\"}},\"id\":\"38735\",\"type\":\"VBar\"},{\"attributes\":{},\"id\":\"38720\",\"type\":\"SaveTool\"},{\"attributes\":{},\"id\":\"39535\",\"type\":\"AllLabels\"},{\"attributes\":{\"fill_color\":{\"value\":\"blue\"},\"hatch_color\":{\"value\":\"red\"},\"top\":{\"field\":\"duration\"},\"width\":{\"value\":0.6},\"x\":{\"field\":\"weekday\"}},\"id\":\"38736\",\"type\":\"VBar\"},{\"attributes\":{\"callback\":null,\"tooltips\":[[\"avg_duration\",\"@duration\"]]},\"id\":\"38724\",\"type\":\"HoverTool\"},{\"attributes\":{\"axis\":{\"id\":\"38713\"},\"coordinates\":null,\"dimension\":1,\"group\":null,\"ticker\":null},\"id\":\"38716\",\"type\":\"Grid\"},{\"attributes\":{},\"id\":\"38711\",\"type\":\"CategoricalTicker\"},{\"attributes\":{},\"id\":\"39534\",\"type\":\"BasicTickFormatter\"},{\"attributes\":{\"axis_label\":\"Duration (minutes)\",\"coordinates\":null,\"formatter\":{\"id\":\"39534\"},\"group\":null,\"major_label_policy\":{\"id\":\"39535\"},\"ticker\":{\"id\":\"38714\"}},\"id\":\"38713\",\"type\":\"LinearAxis\"},{\"attributes\":{\"fill_alpha\":{\"value\":0.2},\"fill_color\":{\"value\":\"red\"},\"hatch_alpha\":{\"value\":0.2},\"hatch_color\":{\"value\":\"red\"},\"line_alpha\":{\"value\":0.2},\"top\":{\"field\":\"duration\"},\"width\":{\"value\":0.6},\"x\":{\"field\":\"weekday\"}},\"id\":\"38737\",\"type\":\"VBar\"},{\"attributes\":{},\"id\":\"38708\",\"type\":\"LinearScale\"},{\"attributes\":{\"axis\":{\"id\":\"38710\"},\"coordinates\":null,\"grid_line_color\":null,\"group\":null,\"ticker\":null},\"id\":\"38712\",\"type\":\"Grid\"},{\"attributes\":{},\"id\":\"38706\",\"type\":\"CategoricalScale\"},{\"attributes\":{\"data\":{\"day_of_week\":[0,1,2,3,4,5,6],\"duration\":{\"__ndarray__\":\"OPNlOpkjMECONi8X4tsvQOogxVC4yC9AtWiMIhdlMEDUsNUqaukwQJtyPOdmOTBAmrACK5GLMEA=\",\"dtype\":\"float64\",\"order\":\"little\",\"shape\":[7]},\"weekday\":[\"Monday\",\"Tuesday\",\"Wednesday\",\"Thursday\",\"Friday\",\"Saturday\",\"Sunday\"]},\"selected\":{\"id\":\"39540\"},\"selection_policy\":{\"id\":\"39539\"}},\"id\":\"38698\",\"type\":\"ColumnDataSource\"},{\"attributes\":{\"source\":{\"id\":\"38698\"}},\"id\":\"38739\",\"type\":\"CDSView\"},{\"attributes\":{\"coordinates\":null,\"group\":null,\"text\":\"Average Trip Duration by Day\"},\"id\":\"38700\",\"type\":\"Title\"}],\"root_ids\":[\"38699\"]},\"title\":\"Bokeh Application\",\"version\":\"2.4.3\"}};\n  const render_items = [{\"docid\":\"f84a2728-8186-45a3-85ba-f5ee5bcec2a0\",\"root_ids\":[\"38699\"],\"roots\":{\"38699\":\"bdadf7b7-650f-46d9-96ca-6dda532e549f\"}}];\n  root.Bokeh.embed.embed_items_notebook(docs_json, render_items);\n  }\n  if (root.Bokeh !== undefined) {\n    embed_document(root);\n  } else {\n    let attempts = 0;\n    const timer = setInterval(function(root) {\n      if (root.Bokeh !== undefined) {\n        clearInterval(timer);\n        embed_document(root);\n      } else {\n        attempts++;\n        if (attempts > 100) {\n          clearInterval(timer);\n          console.log(\"Bokeh: ERROR: Unable to run BokehJS code because BokehJS library is missing\");\n        }\n      }\n    }, 10, root)\n  }\n})(window);",
      "application/vnd.bokehjs_exec.v0+json": ""
     },
     "metadata": {
      "application/vnd.bokehjs_exec.v0+json": {
       "id": "38699"
      }
     },
     "output_type": "display_data"
    }
   ],
   "source": [
    "text_labels = day_of_week_mean_df.weekday\n",
    "values = day_of_week_mean_df.duration\n",
    "\n",
    "tooltips = [\n",
    "    (\"avg_duration\", \"@duration\")\n",
    "]\n",
    "\n",
    "\n",
    "p = figure(plot_height = 600, plot_width = 600, x_range=text_labels, y_range=(0, 18),\n",
    "           title = 'Average Trip Duration by Day',\n",
    "          x_axis_label = 'Day of Week', \n",
    "           y_axis_label = 'Duration (minutes)',tooltips=tooltips)\n",
    "\n",
    "\n",
    "\n",
    "p.vbar(x='weekday', top='duration', source=cdata, width=0.6, color = \"red\", hover_fill_color = 'blue', line_color='black')\n",
    "\n",
    "p.xgrid.grid_line_color = None\n",
    "p.y_range.start = 0    \n",
    "show(p)"
   ]
  },
  {
   "cell_type": "markdown",
   "metadata": {},
   "source": [
    "<h1>PROBLEM 2: Interactive chart with slider</h1>\n",
    "<li>In this second problem, construct an interactive chart that shows the taxi duration by day of week while varying the pickup_hour</li>\n",
    "<li>Each chart will have day of the week on the x-axis and the number of trips as the height of the bars for a single pickup_hour</li>\n",
    "<li>Construct a slider that slides from 0 to 23 with the graph for all 24 pickup_hours</li>\n",
    "<li>"
   ]
  },
  {
   "cell_type": "markdown",
   "metadata": {},
   "source": [
    "<h3>Group the data by day of week and, within day of week by pickup_hour</h3>"
   ]
  },
  {
   "cell_type": "code",
   "execution_count": 325,
   "metadata": {},
   "outputs": [
    {
     "data": {
      "text/html": [
       "<div>\n",
       "<style scoped>\n",
       "    .dataframe tbody tr th:only-of-type {\n",
       "        vertical-align: middle;\n",
       "    }\n",
       "\n",
       "    .dataframe tbody tr th {\n",
       "        vertical-align: top;\n",
       "    }\n",
       "\n",
       "    .dataframe thead th {\n",
       "        text-align: right;\n",
       "    }\n",
       "</style>\n",
       "<table border=\"1\" class=\"dataframe\">\n",
       "  <thead>\n",
       "    <tr style=\"text-align: right;\">\n",
       "      <th></th>\n",
       "      <th>VendorID</th>\n",
       "      <th>tpep_pickup_datetime</th>\n",
       "      <th>tpep_dropoff_datetime</th>\n",
       "      <th>passenger_count</th>\n",
       "      <th>trip_distance</th>\n",
       "      <th>RatecodeID</th>\n",
       "      <th>store_and_fwd_flag</th>\n",
       "      <th>PULocationID</th>\n",
       "      <th>DOLocationID</th>\n",
       "      <th>payment_type</th>\n",
       "      <th>...</th>\n",
       "      <th>mta_tax</th>\n",
       "      <th>tip_amount</th>\n",
       "      <th>tolls_amount</th>\n",
       "      <th>improvement_surcharge</th>\n",
       "      <th>total_amount</th>\n",
       "      <th>congestion_surcharge</th>\n",
       "      <th>airport_fee</th>\n",
       "      <th>pickup_hour</th>\n",
       "      <th>day_of_week</th>\n",
       "      <th>duration</th>\n",
       "    </tr>\n",
       "  </thead>\n",
       "  <tbody>\n",
       "    <tr>\n",
       "      <th>0</th>\n",
       "      <td>1</td>\n",
       "      <td>2022-01-01 00:35:40</td>\n",
       "      <td>2022-01-01 00:53:29</td>\n",
       "      <td>2.0</td>\n",
       "      <td>3.80</td>\n",
       "      <td>1.0</td>\n",
       "      <td>N</td>\n",
       "      <td>142</td>\n",
       "      <td>236</td>\n",
       "      <td>1</td>\n",
       "      <td>...</td>\n",
       "      <td>0.5</td>\n",
       "      <td>3.65</td>\n",
       "      <td>0.0</td>\n",
       "      <td>0.3</td>\n",
       "      <td>21.95</td>\n",
       "      <td>2.5</td>\n",
       "      <td>0.0</td>\n",
       "      <td>0</td>\n",
       "      <td>5</td>\n",
       "      <td>17.816667</td>\n",
       "    </tr>\n",
       "    <tr>\n",
       "      <th>1</th>\n",
       "      <td>1</td>\n",
       "      <td>2022-01-01 00:33:43</td>\n",
       "      <td>2022-01-01 00:42:07</td>\n",
       "      <td>1.0</td>\n",
       "      <td>2.10</td>\n",
       "      <td>1.0</td>\n",
       "      <td>N</td>\n",
       "      <td>236</td>\n",
       "      <td>42</td>\n",
       "      <td>1</td>\n",
       "      <td>...</td>\n",
       "      <td>0.5</td>\n",
       "      <td>4.00</td>\n",
       "      <td>0.0</td>\n",
       "      <td>0.3</td>\n",
       "      <td>13.30</td>\n",
       "      <td>0.0</td>\n",
       "      <td>0.0</td>\n",
       "      <td>0</td>\n",
       "      <td>5</td>\n",
       "      <td>8.400000</td>\n",
       "    </tr>\n",
       "    <tr>\n",
       "      <th>2</th>\n",
       "      <td>2</td>\n",
       "      <td>2022-01-01 00:53:21</td>\n",
       "      <td>2022-01-01 01:02:19</td>\n",
       "      <td>1.0</td>\n",
       "      <td>0.97</td>\n",
       "      <td>1.0</td>\n",
       "      <td>N</td>\n",
       "      <td>166</td>\n",
       "      <td>166</td>\n",
       "      <td>1</td>\n",
       "      <td>...</td>\n",
       "      <td>0.5</td>\n",
       "      <td>1.76</td>\n",
       "      <td>0.0</td>\n",
       "      <td>0.3</td>\n",
       "      <td>10.56</td>\n",
       "      <td>0.0</td>\n",
       "      <td>0.0</td>\n",
       "      <td>0</td>\n",
       "      <td>5</td>\n",
       "      <td>8.966667</td>\n",
       "    </tr>\n",
       "    <tr>\n",
       "      <th>3</th>\n",
       "      <td>2</td>\n",
       "      <td>2022-01-01 00:25:21</td>\n",
       "      <td>2022-01-01 00:35:23</td>\n",
       "      <td>1.0</td>\n",
       "      <td>1.09</td>\n",
       "      <td>1.0</td>\n",
       "      <td>N</td>\n",
       "      <td>114</td>\n",
       "      <td>68</td>\n",
       "      <td>2</td>\n",
       "      <td>...</td>\n",
       "      <td>0.5</td>\n",
       "      <td>0.00</td>\n",
       "      <td>0.0</td>\n",
       "      <td>0.3</td>\n",
       "      <td>11.80</td>\n",
       "      <td>2.5</td>\n",
       "      <td>0.0</td>\n",
       "      <td>0</td>\n",
       "      <td>5</td>\n",
       "      <td>10.033333</td>\n",
       "    </tr>\n",
       "    <tr>\n",
       "      <th>4</th>\n",
       "      <td>2</td>\n",
       "      <td>2022-01-01 00:36:48</td>\n",
       "      <td>2022-01-01 01:14:20</td>\n",
       "      <td>1.0</td>\n",
       "      <td>4.30</td>\n",
       "      <td>1.0</td>\n",
       "      <td>N</td>\n",
       "      <td>68</td>\n",
       "      <td>163</td>\n",
       "      <td>1</td>\n",
       "      <td>...</td>\n",
       "      <td>0.5</td>\n",
       "      <td>3.00</td>\n",
       "      <td>0.0</td>\n",
       "      <td>0.3</td>\n",
       "      <td>30.30</td>\n",
       "      <td>2.5</td>\n",
       "      <td>0.0</td>\n",
       "      <td>0</td>\n",
       "      <td>5</td>\n",
       "      <td>37.533333</td>\n",
       "    </tr>\n",
       "  </tbody>\n",
       "</table>\n",
       "<p>5 rows × 22 columns</p>\n",
       "</div>"
      ],
      "text/plain": [
       "   VendorID tpep_pickup_datetime tpep_dropoff_datetime  passenger_count  \\\n",
       "0         1  2022-01-01 00:35:40   2022-01-01 00:53:29              2.0   \n",
       "1         1  2022-01-01 00:33:43   2022-01-01 00:42:07              1.0   \n",
       "2         2  2022-01-01 00:53:21   2022-01-01 01:02:19              1.0   \n",
       "3         2  2022-01-01 00:25:21   2022-01-01 00:35:23              1.0   \n",
       "4         2  2022-01-01 00:36:48   2022-01-01 01:14:20              1.0   \n",
       "\n",
       "   trip_distance  RatecodeID store_and_fwd_flag  PULocationID  DOLocationID  \\\n",
       "0           3.80         1.0                  N           142           236   \n",
       "1           2.10         1.0                  N           236            42   \n",
       "2           0.97         1.0                  N           166           166   \n",
       "3           1.09         1.0                  N           114            68   \n",
       "4           4.30         1.0                  N            68           163   \n",
       "\n",
       "   payment_type  ...  mta_tax  tip_amount  tolls_amount  \\\n",
       "0             1  ...      0.5        3.65           0.0   \n",
       "1             1  ...      0.5        4.00           0.0   \n",
       "2             1  ...      0.5        1.76           0.0   \n",
       "3             2  ...      0.5        0.00           0.0   \n",
       "4             1  ...      0.5        3.00           0.0   \n",
       "\n",
       "   improvement_surcharge  total_amount  congestion_surcharge  airport_fee  \\\n",
       "0                    0.3         21.95                   2.5          0.0   \n",
       "1                    0.3         13.30                   0.0          0.0   \n",
       "2                    0.3         10.56                   0.0          0.0   \n",
       "3                    0.3         11.80                   2.5          0.0   \n",
       "4                    0.3         30.30                   2.5          0.0   \n",
       "\n",
       "   pickup_hour  day_of_week   duration  \n",
       "0            0            5  17.816667  \n",
       "1            0            5   8.400000  \n",
       "2            0            5   8.966667  \n",
       "3            0            5  10.033333  \n",
       "4            0            5  37.533333  \n",
       "\n",
       "[5 rows x 22 columns]"
      ]
     },
     "execution_count": 325,
     "metadata": {},
     "output_type": "execute_result"
    }
   ],
   "source": [
    "df.head()"
   ]
  },
  {
   "cell_type": "code",
   "execution_count": 326,
   "metadata": {},
   "outputs": [
    {
     "data": {
      "text/plain": [
       "<pandas.core.groupby.generic.DataFrameGroupBy object at 0x7fdd5afb0b50>"
      ]
     },
     "execution_count": 326,
     "metadata": {},
     "output_type": "execute_result"
    }
   ],
   "source": [
    "df.groupby(['day_of_week', 'pickup_hour'])"
   ]
  },
  {
   "cell_type": "code",
   "execution_count": 327,
   "metadata": {},
   "outputs": [],
   "source": [
    "hour_group = df.groupby(['day_of_week', 'pickup_hour'])"
   ]
  },
  {
   "cell_type": "markdown",
   "metadata": {},
   "source": [
    "<h3>Get the size of each group and unstack so that rows are weekdays (0, 1,...,7) and cols are hours (0,1,...23)</h3>\n",
    "<li>Then add an additional column (24) as a copy of column 0. Col 24 will be the display column</li>\n",
    "<li>Finally, convert all column names into str (since pickup_hour is an int and column data source objects need str column names)</li>\n",
    "<li>size_df should like like (col names should be strings):</li>\n",
    "<li>Note that your numbers may be different if you're using a random subset of the data</li>\n",
    "\n",
    "<pre>\n",
    "\t0\t1\t2\t3\t4\t5\t6\t7\t8\t9\t...\t16\t17\t18\t19\t20\t21\t22\t23\t24\tdayname\n",
    "day_of_week\t\t\t\t\t\t\t\t\t\t\t\t\t\t\t\t\t\t\t\t\t\n",
    "0\t22368\t14049\t9421\t6574\t7225\t10072\t24590\t44526\t56618\t55145\t...\t55280\t65609\t75620\t69939\t62390\t57315\t50615\t34107\t22368\tMonday\n",
    "1\t24205\t13229\t7721\t5290\t5876\t10479\t30027\t61182\t75061\t68852\t...\t54956\t66460\t81502\t77315\t74094\t73728\t64593\t43512\t24205\tTuesday\n",
    "2\t26920\t14924\t9213\t6438\t6578\t10100\t29918\t61453\t75718\t70062\t...\t54682\t68361\t84792\t84012\t80136\t79127\t72063\t51758\t26920\tWednesday\n",
    "3\t30990\t17882\t11170\t7297\t7084\t10549\t30728\t62179\t75545\t70178\t...\t55160\t68506\t86230\t87825\t84255\t84989\t79568\t63830\t30990\tThursday\n",
    "4\t64946\t51398\t39164\t29309\t22635\t17846\t33878\t64460\t78808\t74686\t...\t69599\t85201\t103036\t104992\t92350\t89919\t94841\t91173\t64946\tFriday\n",
    "5\t81272\t67218\t52933\t38654\t23787\t11349\t13148\t18395\t27400\t40364\t...\t66030\t73453\t81384\t83086\t70752\t69776\t78014\t80825\t81272\tSaturday\n",
    "6\t77206\t66788\t56481\t42242\t25799\t11053\t10810\t14220\t22050\t33439\t...\t73734\t75534\t78610\t67409\t58393\t55413\t50860\t39138\t77206\tSunday\n",
    "</pre>"
   ]
  },
  {
   "cell_type": "code",
   "execution_count": 328,
   "metadata": {},
   "outputs": [],
   "source": [
    "size_df = hour_group.size().unstack()\n",
    "size_df[24] = size_df[0]"
   ]
  },
  {
   "cell_type": "code",
   "execution_count": 329,
   "metadata": {},
   "outputs": [],
   "source": [
    "size_df.columns = size_df.columns.astype(str)"
   ]
  },
  {
   "cell_type": "code",
   "execution_count": 330,
   "metadata": {},
   "outputs": [],
   "source": [
    "size_df['weekday'] = ['Monday', 'Tuesday', 'Wednesday','Thursday','Friday','Saturday','Sunday']"
   ]
  },
  {
   "cell_type": "markdown",
   "metadata": {},
   "source": [
    "<h3>Draw the interactive chart by filling in the code below</h3>\n",
    "<li>Mostly done :)</li>"
   ]
  },
  {
   "cell_type": "code",
   "execution_count": 331,
   "metadata": {},
   "outputs": [
    {
     "data": {
      "text/html": [
       "\n",
       "  <div class=\"bk-root\" id=\"b561df66-06e8-4fd0-8047-81ba399b7088\" data-root-id=\"39636\"></div>\n"
      ]
     },
     "metadata": {},
     "output_type": "display_data"
    },
    {
     "data": {
      "application/javascript": "(function(root) {\n  function embed_document(root) {\n  const docs_json = {\"e10f8e22-7590-4708-9d3f-c7f1dea8b3ba\":{\"defs\":[],\"roots\":{\"references\":[{\"attributes\":{\"children\":[{\"id\":\"39593\"},{\"id\":\"39634\"}]},\"id\":\"39636\",\"type\":\"Row\"},{\"attributes\":{},\"id\":\"39600\",\"type\":\"CategoricalScale\"},{\"attributes\":{\"fill_color\":{\"value\":\"red\"},\"hatch_color\":{\"value\":\"red\"},\"top\":{\"field\":\"24\"},\"width\":{\"value\":0.6},\"x\":{\"field\":\"weekday\"}},\"id\":\"39628\",\"type\":\"VBar\"},{\"attributes\":{\"axis\":{\"id\":\"39604\"},\"coordinates\":null,\"grid_line_color\":null,\"group\":null,\"ticker\":null},\"id\":\"39606\",\"type\":\"Grid\"},{\"attributes\":{\"data\":{\"0\":[4886,3180,3307,4180,6099,15265,12312],\"1\":[2468,1426,1524,2146,3287,13138,10213],\"10\":[16682,15526,16143,15605,14194,10494,11718],\"11\":[17154,15762,16675,16065,14985,13299,14925],\"12\":[18810,16467,17183,16997,16115,15725,18254],\"13\":[19398,16743,17555,17838,17309,17216,19323],\"14\":[22415,18828,19753,20509,20105,17914,21187],\"15\":[24747,20545,20928,21814,21629,19185,21661],\"16\":[22942,18800,19521,20171,20534,20491,21133],\"17\":[23643,20351,21316,22430,22450,20507,20012],\"18\":[23033,20526,21366,23100,23182,20422,18837],\"19\":[17871,15561,17043,18840,21746,19537,15366],\"2\":[1277,815,910,1201,1939,9689,7515],\"20\":[13681,11815,12994,14692,15539,15447,12978],\"21\":[11913,11402,12485,14346,14158,15184,11432],\"22\":[10479,10059,11633,13715,15226,15896,10231],\"23\":[6999,5999,7314,9479,13933,14885,7571],\"24\":[4886,3180,3307,4180,6099,15265,12312],\"3\":[1000,551,553,769,1178,6254,4948],\"4\":[1056,550,670,707,956,3312,2834],\"5\":[1928,1351,1546,1514,1549,1692,1464],\"6\":[5444,4740,4594,4653,4270,2355,2352],\"7\":[11681,11014,10829,11036,9583,3455,3464],\"8\":[16269,15225,15721,15613,13247,4638,4873],\"9\":[16478,15409,15664,15648,13263,7409,7475],\"day_of_week\":[0,1,2,3,4,5,6],\"weekday\":[\"Monday\",\"Tuesday\",\"Wednesday\",\"Thursday\",\"Friday\",\"Saturday\",\"Sunday\"]},\"selected\":{\"id\":\"40447\"},\"selection_policy\":{\"id\":\"40446\"}},\"id\":\"39592\",\"type\":\"ColumnDataSource\"},{\"attributes\":{},\"id\":\"40445\",\"type\":\"AllLabels\"},{\"attributes\":{\"bottom_units\":\"screen\",\"coordinates\":null,\"fill_alpha\":0.5,\"fill_color\":\"lightgrey\",\"group\":null,\"left_units\":\"screen\",\"level\":\"overlay\",\"line_alpha\":1.0,\"line_color\":\"black\",\"line_dash\":[4,4],\"line_width\":2,\"right_units\":\"screen\",\"syncable\":false,\"top_units\":\"screen\"},\"id\":\"39617\",\"type\":\"BoxAnnotation\"},{\"attributes\":{},\"id\":\"39616\",\"type\":\"HelpTool\"},{\"attributes\":{},\"id\":\"39614\",\"type\":\"SaveTool\"},{\"attributes\":{},\"id\":\"40444\",\"type\":\"CategoricalTickFormatter\"},{\"attributes\":{\"below\":[{\"id\":\"39604\"}],\"center\":[{\"id\":\"39606\"},{\"id\":\"39610\"}],\"height\":400,\"left\":[{\"id\":\"39607\"}],\"renderers\":[{\"id\":\"39632\"}],\"title\":{\"id\":\"39594\"},\"toolbar\":{\"id\":\"39619\"},\"x_range\":{\"id\":\"39596\"},\"x_scale\":{\"id\":\"39600\"},\"y_range\":{\"id\":\"39598\"},\"y_scale\":{\"id\":\"39602\"}},\"id\":\"39593\",\"subtype\":\"Figure\",\"type\":\"Plot\"},{\"attributes\":{},\"id\":\"39608\",\"type\":\"BasicTicker\"},{\"attributes\":{},\"id\":\"40441\",\"type\":\"BasicTickFormatter\"},{\"attributes\":{\"end\":23,\"js_property_callbacks\":{\"change:value\":[{\"id\":\"39635\"}]},\"start\":0,\"title\":\"Hour of Day\",\"value\":0},\"id\":\"39634\",\"type\":\"Slider\"},{\"attributes\":{\"axis_label\":\"size\",\"coordinates\":null,\"formatter\":{\"id\":\"40441\"},\"group\":null,\"major_label_policy\":{\"id\":\"40442\"},\"ticker\":{\"id\":\"39608\"}},\"id\":\"39607\",\"type\":\"LinearAxis\"},{\"attributes\":{\"coordinates\":null,\"data_source\":{\"id\":\"39592\"},\"glyph\":{\"id\":\"39628\"},\"group\":null,\"hover_glyph\":{\"id\":\"39630\"},\"muted_glyph\":{\"id\":\"39631\"},\"nonselection_glyph\":{\"id\":\"39629\"},\"view\":{\"id\":\"39633\"}},\"id\":\"39632\",\"type\":\"GlyphRenderer\"},{\"attributes\":{\"fill_color\":{\"value\":\"blue\"},\"hatch_color\":{\"value\":\"red\"},\"top\":{\"field\":\"24\"},\"width\":{\"value\":0.6},\"x\":{\"field\":\"weekday\"}},\"id\":\"39630\",\"type\":\"VBar\"},{\"attributes\":{\"args\":{\"slider\":{\"id\":\"39634\"},\"source\":{\"id\":\"39592\"}},\"code\":\"\\n        // widget. this.item is the selected value\\n        // We can print it on the JavaScript console\\n        // Chrome windows/linux: Ctrl - Shift - J\\n        // Chrom mac: Cmd - Option - J\\n        // Safari: Option - Cmd - C\\n        \\n        console.log(' changed selected option', slider.value);\\n\\n        //data is the variable containing all the data\\n        var data = source.data;\\n        var col = this.value\\n        console.log(' changed selected option', data[col]);\\n        // allocate the selected column to the field for the y values\\n        data['24'] = data[col];\\n\\n        // register the change \\n        source.change.emit();\\n\"},\"id\":\"39635\",\"type\":\"CustomJS\"},{\"attributes\":{\"callback\":null,\"tooltips\":[[\"number of cases\",\"@24\"]]},\"id\":\"39618\",\"type\":\"HoverTool\"},{\"attributes\":{},\"id\":\"39605\",\"type\":\"CategoricalTicker\"},{\"attributes\":{\"source\":{\"id\":\"39592\"}},\"id\":\"39633\",\"type\":\"CDSView\"},{\"attributes\":{\"tools\":[{\"id\":\"39611\"},{\"id\":\"39612\"},{\"id\":\"39613\"},{\"id\":\"39614\"},{\"id\":\"39615\"},{\"id\":\"39616\"},{\"id\":\"39618\"}]},\"id\":\"39619\",\"type\":\"Toolbar\"},{\"attributes\":{\"start\":0},\"id\":\"39598\",\"type\":\"DataRange1d\"},{\"attributes\":{\"overlay\":{\"id\":\"39617\"}},\"id\":\"39613\",\"type\":\"BoxZoomTool\"},{\"attributes\":{\"fill_alpha\":{\"value\":0.1},\"fill_color\":{\"value\":\"red\"},\"hatch_alpha\":{\"value\":0.1},\"hatch_color\":{\"value\":\"red\"},\"line_alpha\":{\"value\":0.1},\"top\":{\"field\":\"24\"},\"width\":{\"value\":0.6},\"x\":{\"field\":\"weekday\"}},\"id\":\"39629\",\"type\":\"VBar\"},{\"attributes\":{\"axis\":{\"id\":\"39607\"},\"coordinates\":null,\"dimension\":1,\"group\":null,\"ticker\":null},\"id\":\"39610\",\"type\":\"Grid\"},{\"attributes\":{},\"id\":\"39615\",\"type\":\"ResetTool\"},{\"attributes\":{\"factors\":[\"Monday\",\"Tuesday\",\"Wednesday\",\"Thursday\",\"Friday\",\"Saturday\",\"Sunday\"]},\"id\":\"39596\",\"type\":\"FactorRange\"},{\"attributes\":{},\"id\":\"39611\",\"type\":\"PanTool\"},{\"attributes\":{\"fill_alpha\":{\"value\":0.2},\"fill_color\":{\"value\":\"red\"},\"hatch_alpha\":{\"value\":0.2},\"hatch_color\":{\"value\":\"red\"},\"line_alpha\":{\"value\":0.2},\"top\":{\"field\":\"24\"},\"width\":{\"value\":0.6},\"x\":{\"field\":\"weekday\"}},\"id\":\"39631\",\"type\":\"VBar\"},{\"attributes\":{},\"id\":\"40442\",\"type\":\"AllLabels\"},{\"attributes\":{},\"id\":\"40447\",\"type\":\"Selection\"},{\"attributes\":{},\"id\":\"40446\",\"type\":\"UnionRenderers\"},{\"attributes\":{},\"id\":\"39602\",\"type\":\"LinearScale\"},{\"attributes\":{},\"id\":\"39612\",\"type\":\"WheelZoomTool\"},{\"attributes\":{\"coordinates\":null,\"group\":null,\"text\":\"Chart\"},\"id\":\"39594\",\"type\":\"Title\"},{\"attributes\":{\"axis_label\":\"day of week\",\"coordinates\":null,\"formatter\":{\"id\":\"40444\"},\"group\":null,\"major_label_policy\":{\"id\":\"40445\"},\"ticker\":{\"id\":\"39605\"}},\"id\":\"39604\",\"type\":\"CategoricalAxis\"}],\"root_ids\":[\"39636\"]},\"title\":\"Bokeh Application\",\"version\":\"2.4.3\"}};\n  const render_items = [{\"docid\":\"e10f8e22-7590-4708-9d3f-c7f1dea8b3ba\",\"root_ids\":[\"39636\"],\"roots\":{\"39636\":\"b561df66-06e8-4fd0-8047-81ba399b7088\"}}];\n  root.Bokeh.embed.embed_items_notebook(docs_json, render_items);\n  }\n  if (root.Bokeh !== undefined) {\n    embed_document(root);\n  } else {\n    let attempts = 0;\n    const timer = setInterval(function(root) {\n      if (root.Bokeh !== undefined) {\n        clearInterval(timer);\n        embed_document(root);\n      } else {\n        attempts++;\n        if (attempts > 100) {\n          clearInterval(timer);\n          console.log(\"Bokeh: ERROR: Unable to run BokehJS code because BokehJS library is missing\");\n        }\n      }\n    }, 10, root)\n  }\n})(window);",
      "application/vnd.bokehjs_exec.v0+json": ""
     },
     "metadata": {
      "application/vnd.bokehjs_exec.v0+json": {
       "id": "39636"
      }
     },
     "output_type": "display_data"
    }
   ],
   "source": [
    "from bokeh.layouts import column, row\n",
    "from bokeh.models import CustomJS, Slider\n",
    "from bokeh.plotting import ColumnDataSource, figure, show, output_notebook\n",
    "\n",
    "source = ColumnDataSource(size_df)\n",
    "\n",
    "tooltips = [\n",
    "    (\"number of cases\", \"@24\")\n",
    "]\n",
    "p = figure(x_range=size_df.weekday, plot_height=400, plot_width = 600, \n",
    "           x_axis_label = \"day of week\",\n",
    "           y_axis_label = \"size\",\n",
    "           title=\"Chart\",tooltips=tooltips)\n",
    "\n",
    "p.vbar(x='weekday', top='24', source=source, width=0.6, color = \"red\", hover_fill_color = 'blue', line_color='black',\n",
    "hover_fill_alpha = 1.0)\n",
    "\n",
    "p.xgrid.grid_line_color = None\n",
    "p.y_range.start = 0    \n",
    "\n",
    "slider = Slider(start=0, end=23, value=0, step=1, title=\"Hour of Day\")\n",
    "\n",
    "jscallback = CustomJS(args={'source':source,'slider':slider},code=\"\"\"\n",
    "        // widget. this.item is the selected value\n",
    "        // We can print it on the JavaScript console\n",
    "        // Chrome windows/linux: Ctrl - Shift - J\n",
    "        // Chrom mac: Cmd - Option - J\n",
    "        // Safari: Option - Cmd - C\n",
    "        \n",
    "        console.log(' changed selected option', slider.value);\n",
    "\n",
    "        //data is the variable containing all the data\n",
    "        var data = source.data;\n",
    "        var col = this.value\n",
    "        console.log(' changed selected option', data[col]);\n",
    "        // allocate the selected column to the field for the y values\n",
    "        data['24'] = data[col];\n",
    "\n",
    "        // register the change \n",
    "        source.change.emit();\n",
    "\"\"\")\n",
    "\n",
    "slider.js_on_change(\"value\", jscallback)\n",
    "\n",
    "layout = row(p,slider)\n",
    "show(layout)"
   ]
  },
  {
   "cell_type": "markdown",
   "metadata": {},
   "source": [
    "<h1>PROBLEM 3: Piechart</h1>\n",
    "<li>Use the total_amount column</li>\n",
    "<li>Use the grouped by day of week data</li>\n",
    "<li>Sum the total amount for each group and then compute the fractional amount for each day</li>\n",
    "<li>Using the class notebook piechart as a guide, construct the piechart for distribution of total amount collected by day of week</li>"
   ]
  },
  {
   "cell_type": "code",
   "execution_count": 332,
   "metadata": {},
   "outputs": [
    {
     "data": {
      "text/html": [
       "\n",
       "  <div class=\"bk-root\" id=\"b0167462-a743-45f1-9612-06b93f4ec10a\" data-root-id=\"40499\"></div>\n"
      ]
     },
     "metadata": {},
     "output_type": "display_data"
    },
    {
     "data": {
      "application/javascript": "(function(root) {\n  function embed_document(root) {\n  const docs_json = {\"a5d4cd54-f70a-4192-9d78-fd62366f4d19\":{\"defs\":[],\"roots\":{\"references\":[{\"attributes\":{\"below\":[{\"id\":\"40510\"}],\"center\":[{\"id\":\"40513\"},{\"id\":\"40517\"},{\"id\":\"40539\"},{\"id\":\"40543\"}],\"height\":500,\"left\":[{\"id\":\"40514\"}],\"renderers\":[{\"id\":\"40528\"}],\"title\":{\"id\":\"40500\"},\"toolbar\":{\"id\":\"40519\"},\"x_range\":{\"id\":\"40502\"},\"x_scale\":{\"id\":\"40506\"},\"y_range\":{\"id\":\"40504\"},\"y_scale\":{\"id\":\"40508\"}},\"id\":\"40499\",\"subtype\":\"Figure\",\"type\":\"Plot\"},{\"attributes\":{\"callback\":null,\"tooltips\":\"@day_of_week: @frac_amount\"},\"id\":\"40518\",\"type\":\"HoverTool\"},{\"attributes\":{\"axis\":{\"id\":\"40514\"},\"coordinates\":null,\"dimension\":1,\"grid_line_color\":null,\"group\":null,\"ticker\":null},\"id\":\"40517\",\"type\":\"Grid\"},{\"attributes\":{\"field\":\"angle\",\"include_zero\":true},\"id\":\"40541\",\"type\":\"CumSum\"},{\"attributes\":{\"data\":{\"angle\":{\"__ndarray__\":\"RVQCb0l57z/jS2VJ+NnpPwVRi5XXouo/WhOwF9Vc7D/NCaT7FeLuP0XLKlzHoew/Jo+v5A457T8=\",\"dtype\":\"float64\",\"order\":\"little\",\"shape\":[7]},\"color\":[\"#3182bd\",\"#6baed6\",\"#9ecae1\",\"#c6dbef\",\"#e6550d\",\"#fd8d3c\",\"#fdae6b\"],\"day_of_week\":[0,1,2,3,4,5,6],\"frac_amount\":{\"__ndarray__\":\"R8NMmW0JxD8VG59mIXXAP6MMIX0C9cA/BRH7s2MOwj8SZ5+rK6nDP/0CWzZIOsI/7Zn97Jaawj8=\",\"dtype\":\"float64\",\"order\":\"little\",\"shape\":[7]},\"label_vals\":[\"                        15.65\",\"                        12.86\",\"                        13.25\",\"                        14.11\",\"                        15.36\",\"                        14.24\",\"                        14.53\"],\"total_amount\":{\"__ndarray__\":\"9ihcP8WrWUEzMzPD0RVVQexRuC6ouVVBUrgeZSgiV0EzMzNDcjBZQexRuH5kWldBw/Uo3MfVV0E=\",\"dtype\":\"float64\",\"order\":\"little\",\"shape\":[7]}},\"selected\":{\"id\":\"41367\"},\"selection_policy\":{\"id\":\"41366\"}},\"id\":\"40542\",\"type\":\"ColumnDataSource\"},{\"attributes\":{},\"id\":\"40515\",\"type\":\"BasicTicker\"},{\"attributes\":{\"end_angle\":{\"expr\":{\"id\":\"40522\"}},\"fill_alpha\":{\"value\":0.1},\"fill_color\":{\"field\":\"color\"},\"hatch_alpha\":{\"value\":0.1},\"line_alpha\":{\"value\":0.1},\"line_color\":{\"value\":\"white\"},\"radius\":{\"value\":0.4},\"start_angle\":{\"expr\":{\"id\":\"40521\"}},\"x\":{\"value\":0},\"y\":{\"value\":1}},\"id\":\"40526\",\"type\":\"Wedge\"},{\"attributes\":{},\"id\":\"40504\",\"type\":\"DataRange1d\"},{\"attributes\":{\"angle\":{\"expr\":{\"id\":\"40541\"}},\"coordinates\":null,\"group\":null,\"source\":{\"id\":\"40542\"},\"text\":{\"field\":\"label_vals\"},\"x\":{\"value\":0},\"y\":{\"value\":1}},\"id\":\"40543\",\"type\":\"LabelSet\"},{\"attributes\":{},\"id\":\"40533\",\"type\":\"AllLabels\"},{\"attributes\":{},\"id\":\"40506\",\"type\":\"LinearScale\"},{\"attributes\":{\"data\":{\"angle\":{\"__ndarray__\":\"RVQCb0l57z/jS2VJ+NnpPwVRi5XXouo/WhOwF9Vc7D/NCaT7FeLuP0XLKlzHoew/Jo+v5A457T8=\",\"dtype\":\"float64\",\"order\":\"little\",\"shape\":[7]},\"color\":[\"#3182bd\",\"#6baed6\",\"#9ecae1\",\"#c6dbef\",\"#e6550d\",\"#fd8d3c\",\"#fdae6b\"],\"day_of_week\":[0,1,2,3,4,5,6],\"frac_amount\":{\"__ndarray__\":\"R8NMmW0JxD8VG59mIXXAP6MMIX0C9cA/BRH7s2MOwj8SZ5+rK6nDP/0CWzZIOsI/7Zn97Jaawj8=\",\"dtype\":\"float64\",\"order\":\"little\",\"shape\":[7]},\"total_amount\":{\"__ndarray__\":\"9ihcP8WrWUEzMzPD0RVVQexRuC6ouVVBUrgeZSgiV0EzMzNDcjBZQexRuH5kWldBw/Uo3MfVV0E=\",\"dtype\":\"float64\",\"order\":\"little\",\"shape\":[7]}},\"selected\":{\"id\":\"40538\"},\"selection_policy\":{\"id\":\"40537\"}},\"id\":\"40523\",\"type\":\"ColumnDataSource\"},{\"attributes\":{},\"id\":\"40511\",\"type\":\"BasicTicker\"},{\"attributes\":{\"start\":-0.5},\"id\":\"40502\",\"type\":\"Range1d\"},{\"attributes\":{},\"id\":\"40536\",\"type\":\"AllLabels\"},{\"attributes\":{\"field\":\"angle\"},\"id\":\"40522\",\"type\":\"CumSum\"},{\"attributes\":{\"source\":{\"id\":\"40523\"}},\"id\":\"40529\",\"type\":\"CDSView\"},{\"attributes\":{\"coordinates\":null,\"group\":null,\"text\":\"Payment Distribution by Day of Week\"},\"id\":\"40500\",\"type\":\"Title\"},{\"attributes\":{},\"id\":\"41367\",\"type\":\"Selection\"},{\"attributes\":{},\"id\":\"40508\",\"type\":\"LinearScale\"},{\"attributes\":{\"field\":\"angle\",\"include_zero\":true},\"id\":\"40521\",\"type\":\"CumSum\"},{\"attributes\":{\"coordinates\":null,\"group\":null,\"items\":[{\"id\":\"40540\"}]},\"id\":\"40539\",\"type\":\"Legend\"},{\"attributes\":{\"label\":{\"field\":\"day_of_week\"},\"renderers\":[{\"id\":\"40528\"}]},\"id\":\"40540\",\"type\":\"LegendItem\"},{\"attributes\":{\"coordinates\":null,\"data_source\":{\"id\":\"40523\"},\"glyph\":{\"id\":\"40525\"},\"group\":null,\"hover_glyph\":null,\"muted_glyph\":{\"id\":\"40527\"},\"nonselection_glyph\":{\"id\":\"40526\"},\"view\":{\"id\":\"40529\"}},\"id\":\"40528\",\"type\":\"GlyphRenderer\"},{\"attributes\":{},\"id\":\"41366\",\"type\":\"UnionRenderers\"},{\"attributes\":{\"end_angle\":{\"expr\":{\"id\":\"40522\"}},\"fill_color\":{\"field\":\"color\"},\"line_color\":{\"value\":\"white\"},\"radius\":{\"value\":0.4},\"start_angle\":{\"expr\":{\"id\":\"40521\"}},\"x\":{\"value\":0},\"y\":{\"value\":1}},\"id\":\"40525\",\"type\":\"Wedge\"},{\"attributes\":{\"tools\":[{\"id\":\"40518\"}]},\"id\":\"40519\",\"type\":\"Toolbar\"},{\"attributes\":{},\"id\":\"40538\",\"type\":\"Selection\"},{\"attributes\":{},\"id\":\"40532\",\"type\":\"BasicTickFormatter\"},{\"attributes\":{\"coordinates\":null,\"formatter\":{\"id\":\"40532\"},\"group\":null,\"major_label_policy\":{\"id\":\"40533\"},\"ticker\":{\"id\":\"40515\"},\"visible\":false},\"id\":\"40514\",\"type\":\"LinearAxis\"},{\"attributes\":{\"axis\":{\"id\":\"40510\"},\"coordinates\":null,\"grid_line_color\":null,\"group\":null,\"ticker\":null},\"id\":\"40513\",\"type\":\"Grid\"},{\"attributes\":{\"end_angle\":{\"expr\":{\"id\":\"40522\"}},\"fill_alpha\":{\"value\":0.2},\"fill_color\":{\"field\":\"color\"},\"hatch_alpha\":{\"value\":0.2},\"line_alpha\":{\"value\":0.2},\"line_color\":{\"value\":\"white\"},\"radius\":{\"value\":0.4},\"start_angle\":{\"expr\":{\"id\":\"40521\"}},\"x\":{\"value\":0},\"y\":{\"value\":1}},\"id\":\"40527\",\"type\":\"Wedge\"},{\"attributes\":{},\"id\":\"40535\",\"type\":\"BasicTickFormatter\"},{\"attributes\":{},\"id\":\"40537\",\"type\":\"UnionRenderers\"},{\"attributes\":{\"coordinates\":null,\"formatter\":{\"id\":\"40535\"},\"group\":null,\"major_label_policy\":{\"id\":\"40536\"},\"ticker\":{\"id\":\"40511\"},\"visible\":false},\"id\":\"40510\",\"type\":\"LinearAxis\"}],\"root_ids\":[\"40499\"]},\"title\":\"Bokeh Application\",\"version\":\"2.4.3\"}};\n  const render_items = [{\"docid\":\"a5d4cd54-f70a-4192-9d78-fd62366f4d19\",\"root_ids\":[\"40499\"],\"roots\":{\"40499\":\"b0167462-a743-45f1-9612-06b93f4ec10a\"}}];\n  root.Bokeh.embed.embed_items_notebook(docs_json, render_items);\n  }\n  if (root.Bokeh !== undefined) {\n    embed_document(root);\n  } else {\n    let attempts = 0;\n    const timer = setInterval(function(root) {\n      if (root.Bokeh !== undefined) {\n        clearInterval(timer);\n        embed_document(root);\n      } else {\n        attempts++;\n        if (attempts > 100) {\n          clearInterval(timer);\n          console.log(\"Bokeh: ERROR: Unable to run BokehJS code because BokehJS library is missing\");\n        }\n      }\n    }, 10, root)\n  }\n})(window);",
      "application/vnd.bokehjs_exec.v0+json": ""
     },
     "metadata": {
      "application/vnd.bokehjs_exec.v0+json": {
       "id": "40499"
      }
     },
     "output_type": "display_data"
    }
   ],
   "source": [
    "from math import pi \n",
    "import pandas as pd\n",
    "import numpy as np\n",
    "from bokeh.palettes import Category20c #The color palette\n",
    "from bokeh.models import LabelSet, ColumnDataSource\n",
    "from bokeh.transform import cumsum #a bokeh function that cumulatively sums the angle column in a column amount_by_day source\n",
    "\n",
    "#Make the df and create pct column\n",
    "amount_by_day = pd.DataFrame(df.groupby('day_of_week')['total_amount'].sum())\n",
    "amount_by_day['frac_amount'] = amount_by_day.total_amount / amount_by_day.total_amount.sum()\n",
    "amount_by_day['angle'] = amount_by_day['frac_amount']/(amount_by_day['frac_amount'].sum()) * 2*pi\n",
    "\n",
    "#Specify the color palette\n",
    "amount_by_day['color'] = Category20c[len(amount_by_day)]\n",
    "\n",
    "#Define a figure object\n",
    "p = figure(plot_height=500, title=\"Payment Distribution by Day of Week\", \n",
    "        tools=\"hover\", tooltips=\"@day_of_week: @frac_amount\",x_range=(-0.5, 1.0))\n",
    "\n",
    "#Add the definition of each wedge\n",
    "#Each wedge, starting with 0 degrees, will be at the sum of the angles upto that wedge\n",
    "p.wedge(x=0, y=1, radius=0.4, #x,y specifies the location of the center of the pie\n",
    "        start_angle=cumsum('angle', include_zero=True), end_angle=cumsum('angle'), #the start and end angle of each slice\n",
    "        line_color=\"white\", fill_color='color', legend_field='day_of_week', source=amount_by_day) #source is our amount_by_day (can be a df or a CDS)\n",
    "\n",
    "#Make the label values column                             \n",
    "amount_by_day[\"label_vals\"]=(amount_by_day[\"frac_amount\"] * 100).round(2).astype(str).str.pad(29, side = \"left\") #pad will move the labels out toward the circumference\n",
    "amount_by_day[\"label_vals\"]=amount_by_day[\"label_vals\"].apply(lambda x: \"\" if x.strip()==\"0.0\" else x)\n",
    "\n",
    "#LabelSet is the set of labels. Either a value or nothing\n",
    "labels = LabelSet(x=0, y=1, text='label_vals',\n",
    "        angle=cumsum('angle', include_zero=True), source=ColumnDataSource(amount_by_day), render_mode='canvas')\n",
    "\n",
    "#Add the labels\n",
    "p.add_layout(labels)\n",
    "\n",
    "p.axis.axis_label=None #Piechart. No axes\n",
    "p.axis.visible=False #We don't want to see the axes\n",
    "p.grid.grid_line_color = None #If you want grid lines, specify a color\n",
    "\n",
    "#Show the chart\n",
    "show(p)"
   ]
  }
 ],
 "metadata": {
  "kernelspec": {
   "display_name": "base",
   "language": "python",
   "name": "python3"
  },
  "language_info": {
   "codemirror_mode": {
    "name": "ipython",
    "version": 3
   },
   "file_extension": ".py",
   "mimetype": "text/x-python",
   "name": "python",
   "nbconvert_exporter": "python",
   "pygments_lexer": "ipython3",
   "version": "3.9.12"
  },
  "toc": {
   "base_numbering": 1,
   "nav_menu": {},
   "number_sections": true,
   "sideBar": true,
   "skip_h1_title": false,
   "title_cell": "Table of Contents",
   "title_sidebar": "Contents",
   "toc_cell": false,
   "toc_position": {},
   "toc_section_display": true,
   "toc_window_display": false
  },
  "vscode": {
   "interpreter": {
    "hash": "81d5b4a19a276010183013345b38f7d9b6c479ab07551a9ca40dd13abdbac5b2"
   }
  }
 },
 "nbformat": 4,
 "nbformat_minor": 2
}
