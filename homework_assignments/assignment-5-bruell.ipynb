{
 "cells": [
  {
   "cell_type": "markdown",
   "metadata": {},
   "source": [
    "<h1>Charts with bokeh assignment</h1>\n",
    "Download the nyc taxi data for 2016 January (see below) and prepare the following charts:\n",
    "\n",
    "<ol>\n",
    "    <li>A bokeh bar chart with day of the week (Monday, Tuesday, ...) on the x-axis and the average duration of rides on the y-axis. Make sure that the hover tool is activated and that it shows the average duration when the cursor hovers over it</li>\n",
    "    <li>A bokeh interactive chart with a slider containing the hour of the day (0,1,...23) and the average number of rides for each hour for each day of the week. I.e., the chart should contain days of the week on the x-axis and the mean number of rides on the y-axis for a particular hour of the day. Moving the slider (e.g., from 10 to 11) should replace the chart for 1000 hrs by the chart for 1100 hrs). Don't forget the tooltip</li>\n",
    "    <ul><li><a href=\"https://docs.bokeh.org/en/latest/docs/gallery/slider.html\">sliders</a></li>\n",
    "        <li><a href=\"https://docs.bokeh.org/en/latest/docs/reference/models/glyphs/vbar.html\">vbar</a></li>\n",
    "        <li>note that column names must be strings for converting a data frame into a column data source</li>\n",
    "    </ul>\n",
    "    <li>A piechart that shows how much of the total payment comes from each day of the week. The pie should have seven slices, one for each day, and the size of each slice depends on the fraction it contributes to the total. Again, don't forget the tooltip</li>\n",
    "    \n",
    "</ol>\n",
    "<li>For the purposes of this exercise, remove any taxi rides that are less than 5 minute in duration</li>"
   ]
  },
  {
   "cell_type": "markdown",
   "metadata": {},
   "source": [
    "<h2>NYC taxi data</h2>\n",
    "<li>NYC taxi trip data is collected and made available (yellow, green, and black cabs)</li>\n",
    "<li>We'll use data from January 2022</li>\n",
    "<li><a href=\"https://d37ci6vzurychx.cloudfront.net/trip-data/yellow_tripdata_2022-01.parquet\"</a></li>\n",
    "<li>Use pandas <span style=\"color:blue\">read_parquet</span> function to import the data</li>\n",
    "<li>Apache Parquet is a column data source format for data storage. It's main advantage over csv files is that each column retains its data type (csv converts everything to strings)</li>\n",
    "<li>After running pd.read_parquet, try df.info() to see the data type of each column</li>\n"
   ]
  },
  {
   "cell_type": "code",
   "execution_count": 129,
   "metadata": {},
   "outputs": [
    {
     "data": {
      "text/html": [
       "<div class=\"bk-root\">\n",
       "        <a href=\"https://bokeh.org\" target=\"_blank\" class=\"bk-logo bk-logo-small bk-logo-notebook\"></a>\n",
       "        <span id=\"3135\">Loading BokehJS ...</span>\n",
       "    </div>\n"
      ]
     },
     "metadata": {},
     "output_type": "display_data"
    },
    {
     "data": {
      "application/javascript": "(function(root) {\n  function now() {\n    return new Date();\n  }\n\n  const force = true;\n\n  if (typeof root._bokeh_onload_callbacks === \"undefined\" || force === true) {\n    root._bokeh_onload_callbacks = [];\n    root._bokeh_is_loading = undefined;\n  }\n\nconst JS_MIME_TYPE = 'application/javascript';\n  const HTML_MIME_TYPE = 'text/html';\n  const EXEC_MIME_TYPE = 'application/vnd.bokehjs_exec.v0+json';\n  const CLASS_NAME = 'output_bokeh rendered_html';\n\n  /**\n   * Render data to the DOM node\n   */\n  function render(props, node) {\n    const script = document.createElement(\"script\");\n    node.appendChild(script);\n  }\n\n  /**\n   * Handle when an output is cleared or removed\n   */\n  function handleClearOutput(event, handle) {\n    const cell = handle.cell;\n\n    const id = cell.output_area._bokeh_element_id;\n    const server_id = cell.output_area._bokeh_server_id;\n    // Clean up Bokeh references\n    if (id != null && id in Bokeh.index) {\n      Bokeh.index[id].model.document.clear();\n      delete Bokeh.index[id];\n    }\n\n    if (server_id !== undefined) {\n      // Clean up Bokeh references\n      const cmd_clean = \"from bokeh.io.state import curstate; print(curstate().uuid_to_server['\" + server_id + \"'].get_sessions()[0].document.roots[0]._id)\";\n      cell.notebook.kernel.execute(cmd_clean, {\n        iopub: {\n          output: function(msg) {\n            const id = msg.content.text.trim();\n            if (id in Bokeh.index) {\n              Bokeh.index[id].model.document.clear();\n              delete Bokeh.index[id];\n            }\n          }\n        }\n      });\n      // Destroy server and session\n      const cmd_destroy = \"import bokeh.io.notebook as ion; ion.destroy_server('\" + server_id + \"')\";\n      cell.notebook.kernel.execute(cmd_destroy);\n    }\n  }\n\n  /**\n   * Handle when a new output is added\n   */\n  function handleAddOutput(event, handle) {\n    const output_area = handle.output_area;\n    const output = handle.output;\n\n    // limit handleAddOutput to display_data with EXEC_MIME_TYPE content only\n    if ((output.output_type != \"display_data\") || (!Object.prototype.hasOwnProperty.call(output.data, EXEC_MIME_TYPE))) {\n      return\n    }\n\n    const toinsert = output_area.element.find(\".\" + CLASS_NAME.split(' ')[0]);\n\n    if (output.metadata[EXEC_MIME_TYPE][\"id\"] !== undefined) {\n      toinsert[toinsert.length - 1].firstChild.textContent = output.data[JS_MIME_TYPE];\n      // store reference to embed id on output_area\n      output_area._bokeh_element_id = output.metadata[EXEC_MIME_TYPE][\"id\"];\n    }\n    if (output.metadata[EXEC_MIME_TYPE][\"server_id\"] !== undefined) {\n      const bk_div = document.createElement(\"div\");\n      bk_div.innerHTML = output.data[HTML_MIME_TYPE];\n      const script_attrs = bk_div.children[0].attributes;\n      for (let i = 0; i < script_attrs.length; i++) {\n        toinsert[toinsert.length - 1].firstChild.setAttribute(script_attrs[i].name, script_attrs[i].value);\n        toinsert[toinsert.length - 1].firstChild.textContent = bk_div.children[0].textContent\n      }\n      // store reference to server id on output_area\n      output_area._bokeh_server_id = output.metadata[EXEC_MIME_TYPE][\"server_id\"];\n    }\n  }\n\n  function register_renderer(events, OutputArea) {\n\n    function append_mime(data, metadata, element) {\n      // create a DOM node to render to\n      const toinsert = this.create_output_subarea(\n        metadata,\n        CLASS_NAME,\n        EXEC_MIME_TYPE\n      );\n      this.keyboard_manager.register_events(toinsert);\n      // Render to node\n      const props = {data: data, metadata: metadata[EXEC_MIME_TYPE]};\n      render(props, toinsert[toinsert.length - 1]);\n      element.append(toinsert);\n      return toinsert\n    }\n\n    /* Handle when an output is cleared or removed */\n    events.on('clear_output.CodeCell', handleClearOutput);\n    events.on('delete.Cell', handleClearOutput);\n\n    /* Handle when a new output is added */\n    events.on('output_added.OutputArea', handleAddOutput);\n\n    /**\n     * Register the mime type and append_mime function with output_area\n     */\n    OutputArea.prototype.register_mime_type(EXEC_MIME_TYPE, append_mime, {\n      /* Is output safe? */\n      safe: true,\n      /* Index of renderer in `output_area.display_order` */\n      index: 0\n    });\n  }\n\n  // register the mime type if in Jupyter Notebook environment and previously unregistered\n  if (root.Jupyter !== undefined) {\n    const events = require('base/js/events');\n    const OutputArea = require('notebook/js/outputarea').OutputArea;\n\n    if (OutputArea.prototype.mime_types().indexOf(EXEC_MIME_TYPE) == -1) {\n      register_renderer(events, OutputArea);\n    }\n  }\n  if (typeof (root._bokeh_timeout) === \"undefined\" || force === true) {\n    root._bokeh_timeout = Date.now() + 5000;\n    root._bokeh_failed_load = false;\n  }\n\n  const NB_LOAD_WARNING = {'data': {'text/html':\n     \"<div style='background-color: #fdd'>\\n\"+\n     \"<p>\\n\"+\n     \"BokehJS does not appear to have successfully loaded. If loading BokehJS from CDN, this \\n\"+\n     \"may be due to a slow or bad network connection. Possible fixes:\\n\"+\n     \"</p>\\n\"+\n     \"<ul>\\n\"+\n     \"<li>re-rerun `output_notebook()` to attempt to load from CDN again, or</li>\\n\"+\n     \"<li>use INLINE resources instead, as so:</li>\\n\"+\n     \"</ul>\\n\"+\n     \"<code>\\n\"+\n     \"from bokeh.resources import INLINE\\n\"+\n     \"output_notebook(resources=INLINE)\\n\"+\n     \"</code>\\n\"+\n     \"</div>\"}};\n\n  function display_loaded() {\n    const el = document.getElementById(\"3135\");\n    if (el != null) {\n      el.textContent = \"BokehJS is loading...\";\n    }\n    if (root.Bokeh !== undefined) {\n      if (el != null) {\n        el.textContent = \"BokehJS \" + root.Bokeh.version + \" successfully loaded.\";\n      }\n    } else if (Date.now() < root._bokeh_timeout) {\n      setTimeout(display_loaded, 100)\n    }\n  }\n\n  function run_callbacks() {\n    try {\n      root._bokeh_onload_callbacks.forEach(function(callback) {\n        if (callback != null)\n          callback();\n      });\n    } finally {\n      delete root._bokeh_onload_callbacks\n    }\n    console.debug(\"Bokeh: all callbacks have finished\");\n  }\n\n  function load_libs(css_urls, js_urls, callback) {\n    if (css_urls == null) css_urls = [];\n    if (js_urls == null) js_urls = [];\n\n    root._bokeh_onload_callbacks.push(callback);\n    if (root._bokeh_is_loading > 0) {\n      console.debug(\"Bokeh: BokehJS is being loaded, scheduling callback at\", now());\n      return null;\n    }\n    if (js_urls == null || js_urls.length === 0) {\n      run_callbacks();\n      return null;\n    }\n    console.debug(\"Bokeh: BokehJS not loaded, scheduling load and callback at\", now());\n    root._bokeh_is_loading = css_urls.length + js_urls.length;\n\n    function on_load() {\n      root._bokeh_is_loading--;\n      if (root._bokeh_is_loading === 0) {\n        console.debug(\"Bokeh: all BokehJS libraries/stylesheets loaded\");\n        run_callbacks()\n      }\n    }\n\n    function on_error(url) {\n      console.error(\"failed to load \" + url);\n    }\n\n    for (let i = 0; i < css_urls.length; i++) {\n      const url = css_urls[i];\n      const element = document.createElement(\"link\");\n      element.onload = on_load;\n      element.onerror = on_error.bind(null, url);\n      element.rel = \"stylesheet\";\n      element.type = \"text/css\";\n      element.href = url;\n      console.debug(\"Bokeh: injecting link tag for BokehJS stylesheet: \", url);\n      document.body.appendChild(element);\n    }\n\n    for (let i = 0; i < js_urls.length; i++) {\n      const url = js_urls[i];\n      const element = document.createElement('script');\n      element.onload = on_load;\n      element.onerror = on_error.bind(null, url);\n      element.async = false;\n      element.src = url;\n      console.debug(\"Bokeh: injecting script tag for BokehJS library: \", url);\n      document.head.appendChild(element);\n    }\n  };\n\n  function inject_raw_css(css) {\n    const element = document.createElement(\"style\");\n    element.appendChild(document.createTextNode(css));\n    document.body.appendChild(element);\n  }\n\n  const js_urls = [\"https://cdn.bokeh.org/bokeh/release/bokeh-2.4.3.min.js\", \"https://cdn.bokeh.org/bokeh/release/bokeh-gl-2.4.3.min.js\", \"https://cdn.bokeh.org/bokeh/release/bokeh-widgets-2.4.3.min.js\", \"https://cdn.bokeh.org/bokeh/release/bokeh-tables-2.4.3.min.js\", \"https://cdn.bokeh.org/bokeh/release/bokeh-mathjax-2.4.3.min.js\"];\n  const css_urls = [];\n\n  const inline_js = [    function(Bokeh) {\n      Bokeh.set_log_level(\"info\");\n    },\nfunction(Bokeh) {\n    }\n  ];\n\n  function run_inline_js() {\n    if (root.Bokeh !== undefined || force === true) {\n          for (let i = 0; i < inline_js.length; i++) {\n      inline_js[i].call(root, root.Bokeh);\n    }\nif (force === true) {\n        display_loaded();\n      }} else if (Date.now() < root._bokeh_timeout) {\n      setTimeout(run_inline_js, 100);\n    } else if (!root._bokeh_failed_load) {\n      console.log(\"Bokeh: BokehJS failed to load within specified timeout.\");\n      root._bokeh_failed_load = true;\n    } else if (force !== true) {\n      const cell = $(document.getElementById(\"3135\")).parents('.cell').data().cell;\n      cell.output_area.append_execute_result(NB_LOAD_WARNING)\n    }\n  }\n\n  if (root._bokeh_is_loading === 0) {\n    console.debug(\"Bokeh: BokehJS loaded, going straight to plotting\");\n    run_inline_js();\n  } else {\n    load_libs(css_urls, js_urls, function() {\n      console.debug(\"Bokeh: BokehJS plotting callback run at\", now());\n      run_inline_js();\n    });\n  }\n}(window));",
      "application/vnd.bokehjs_load.v0+json": ""
     },
     "metadata": {},
     "output_type": "display_data"
    }
   ],
   "source": [
    "from bokeh.io import output_notebook, show\n",
    "from bokeh.plotting import figure\n",
    "\n",
    "output_notebook()"
   ]
  },
  {
   "cell_type": "code",
   "execution_count": 130,
   "metadata": {},
   "outputs": [
    {
     "name": "stdout",
     "output_type": "stream",
     "text": [
      "<class 'pandas.core.frame.DataFrame'>\n",
      "RangeIndex: 2463931 entries, 0 to 2463930\n",
      "Data columns (total 19 columns):\n",
      " #   Column                 Dtype         \n",
      "---  ------                 -----         \n",
      " 0   VendorID               int64         \n",
      " 1   tpep_pickup_datetime   datetime64[ns]\n",
      " 2   tpep_dropoff_datetime  datetime64[ns]\n",
      " 3   passenger_count        float64       \n",
      " 4   trip_distance          float64       \n",
      " 5   RatecodeID             float64       \n",
      " 6   store_and_fwd_flag     object        \n",
      " 7   PULocationID           int64         \n",
      " 8   DOLocationID           int64         \n",
      " 9   payment_type           int64         \n",
      " 10  fare_amount            float64       \n",
      " 11  extra                  float64       \n",
      " 12  mta_tax                float64       \n",
      " 13  tip_amount             float64       \n",
      " 14  tolls_amount           float64       \n",
      " 15  improvement_surcharge  float64       \n",
      " 16  total_amount           float64       \n",
      " 17  congestion_surcharge   float64       \n",
      " 18  airport_fee            float64       \n",
      "dtypes: datetime64[ns](2), float64(12), int64(4), object(1)\n",
      "memory usage: 357.2+ MB\n"
     ]
    }
   ],
   "source": [
    "import pandas as pd\n",
    "import numpy as np\n",
    "import matplotlib.pyplot as plt\n",
    "import datetime as dt\n",
    "%matplotlib inline\n",
    "\n",
    "datasource = \"../class-datasets/yellow_tripdata_2022-01.parquet\"\n",
    "df = pd.read_parquet(datasource)\n",
    "df.info()"
   ]
  },
  {
   "cell_type": "markdown",
   "metadata": {},
   "source": [
    "<span style=\"color:blue\">Start with a small subset of the data</span>\n",
    "<br>\n",
    "<li>After you've completed the assignment with the subset, you can try using all the data</li>"
   ]
  },
  {
   "cell_type": "code",
   "execution_count": 131,
   "metadata": {},
   "outputs": [
    {
     "name": "stdout",
     "output_type": "stream",
     "text": [
      "<class 'pandas.core.frame.DataFrame'>\n",
      "Int64Index: 492786 entries, 251537 to 1495341\n",
      "Data columns (total 19 columns):\n",
      " #   Column                 Non-Null Count   Dtype         \n",
      "---  ------                 --------------   -----         \n",
      " 0   VendorID               492786 non-null  int64         \n",
      " 1   tpep_pickup_datetime   492786 non-null  datetime64[ns]\n",
      " 2   tpep_dropoff_datetime  492786 non-null  datetime64[ns]\n",
      " 3   passenger_count        478532 non-null  float64       \n",
      " 4   trip_distance          492786 non-null  float64       \n",
      " 5   RatecodeID             478532 non-null  float64       \n",
      " 6   store_and_fwd_flag     478532 non-null  object        \n",
      " 7   PULocationID           492786 non-null  int64         \n",
      " 8   DOLocationID           492786 non-null  int64         \n",
      " 9   payment_type           492786 non-null  int64         \n",
      " 10  fare_amount            492786 non-null  float64       \n",
      " 11  extra                  492786 non-null  float64       \n",
      " 12  mta_tax                492786 non-null  float64       \n",
      " 13  tip_amount             492786 non-null  float64       \n",
      " 14  tolls_amount           492786 non-null  float64       \n",
      " 15  improvement_surcharge  492786 non-null  float64       \n",
      " 16  total_amount           492786 non-null  float64       \n",
      " 17  congestion_surcharge   478532 non-null  float64       \n",
      " 18  airport_fee            478532 non-null  float64       \n",
      "dtypes: datetime64[ns](2), float64(12), int64(4), object(1)\n",
      "memory usage: 75.2+ MB\n"
     ]
    }
   ],
   "source": [
    "df = df.sample(frac=0.2)\n",
    "df.info()"
   ]
  },
  {
   "cell_type": "markdown",
   "metadata": {},
   "source": [
    "<h3>Get the pickup hour (e.g., 11:20 corresponds to 11, 15:30pm corresponds to 15, etc.)</h3>"
   ]
  },
  {
   "cell_type": "code",
   "execution_count": 132,
   "metadata": {},
   "outputs": [],
   "source": [
    "df['pickup_hour'] = df.tpep_pickup_datetime.dt.hour"
   ]
  },
  {
   "cell_type": "markdown",
   "metadata": {},
   "source": [
    "<h3>Get the day of week (0-Monday, 1-Tuesday, ...)</h3>"
   ]
  },
  {
   "cell_type": "code",
   "execution_count": 133,
   "metadata": {},
   "outputs": [],
   "source": [
    "df['day_of_week'] = df.tpep_pickup_datetime.dt.weekday"
   ]
  },
  {
   "cell_type": "markdown",
   "metadata": {},
   "source": [
    "<h3>Get the taxi ride duration in minutes</h3>\n",
    "<li>I've done this for you</li>"
   ]
  },
  {
   "cell_type": "code",
   "execution_count": 134,
   "metadata": {},
   "outputs": [],
   "source": [
    "df['duration'] = (df.tpep_dropoff_datetime - df.tpep_pickup_datetime)/np.timedelta64(1, 's')/60.0"
   ]
  },
  {
   "cell_type": "markdown",
   "metadata": {},
   "source": [
    "<h3>Remove rides of 5 minutes or less and save in df</h3>"
   ]
  },
  {
   "cell_type": "code",
   "execution_count": 135,
   "metadata": {},
   "outputs": [],
   "source": [
    "df = df[df.duration > 5 ]"
   ]
  },
  {
   "cell_type": "markdown",
   "metadata": {},
   "source": [
    "<h1>PROBLEM 1: Average duration by day of week bar chart</h1>"
   ]
  },
  {
   "cell_type": "markdown",
   "metadata": {},
   "source": [
    "<h3>group the data by day of week</h3>"
   ]
  },
  {
   "cell_type": "code",
   "execution_count": 136,
   "metadata": {},
   "outputs": [],
   "source": [
    "day_of_week_group = df.groupby('day_of_week')"
   ]
  },
  {
   "cell_type": "markdown",
   "metadata": {},
   "source": [
    "<h3>Get the mean ride duration for each group</h3>\n",
    "<li>And make a df out of it</li>\n",
    "<li>day_of_week_mean has the day of week as the index</li>\n",
    "<li>the dataframe will have seven rows with indexes 0,1,2,..7</li>\n",
    "<li>add a new column with values Monday, Tuesday, Wedensday,...,Sunday</li>"
   ]
  },
  {
   "cell_type": "code",
   "execution_count": 137,
   "metadata": {},
   "outputs": [],
   "source": [
    "day_of_week_mean = day_of_week_group.duration.mean()\n",
    "day_of_week_mean_df = pd.DataFrame(day_of_week_mean)"
   ]
  },
  {
   "cell_type": "code",
   "execution_count": 138,
   "metadata": {},
   "outputs": [],
   "source": [
    "day_of_week_mean_df['weekday'] = ['Monday', 'Tuesday', 'Wednesday', 'Thursday', 'Friday', 'Saturday', 'Sunday']"
   ]
  },
  {
   "cell_type": "code",
   "execution_count": 139,
   "metadata": {},
   "outputs": [
    {
     "data": {
      "text/html": [
       "<div>\n",
       "<style scoped>\n",
       "    .dataframe tbody tr th:only-of-type {\n",
       "        vertical-align: middle;\n",
       "    }\n",
       "\n",
       "    .dataframe tbody tr th {\n",
       "        vertical-align: top;\n",
       "    }\n",
       "\n",
       "    .dataframe thead th {\n",
       "        text-align: right;\n",
       "    }\n",
       "</style>\n",
       "<table border=\"1\" class=\"dataframe\">\n",
       "  <thead>\n",
       "    <tr style=\"text-align: right;\">\n",
       "      <th></th>\n",
       "      <th>duration</th>\n",
       "      <th>weekday</th>\n",
       "    </tr>\n",
       "    <tr>\n",
       "      <th>day_of_week</th>\n",
       "      <th></th>\n",
       "      <th></th>\n",
       "    </tr>\n",
       "  </thead>\n",
       "  <tbody>\n",
       "    <tr>\n",
       "      <th>0</th>\n",
       "      <td>16.206104</td>\n",
       "      <td>Monday</td>\n",
       "    </tr>\n",
       "    <tr>\n",
       "      <th>1</th>\n",
       "      <td>15.686343</td>\n",
       "      <td>Tuesday</td>\n",
       "    </tr>\n",
       "    <tr>\n",
       "      <th>2</th>\n",
       "      <td>15.823277</td>\n",
       "      <td>Wednesday</td>\n",
       "    </tr>\n",
       "    <tr>\n",
       "      <th>3</th>\n",
       "      <td>16.364606</td>\n",
       "      <td>Thursday</td>\n",
       "    </tr>\n",
       "    <tr>\n",
       "      <th>4</th>\n",
       "      <td>16.849433</td>\n",
       "      <td>Friday</td>\n",
       "    </tr>\n",
       "    <tr>\n",
       "      <th>5</th>\n",
       "      <td>16.187999</td>\n",
       "      <td>Saturday</td>\n",
       "    </tr>\n",
       "    <tr>\n",
       "      <th>6</th>\n",
       "      <td>16.878551</td>\n",
       "      <td>Sunday</td>\n",
       "    </tr>\n",
       "  </tbody>\n",
       "</table>\n",
       "</div>"
      ],
      "text/plain": [
       "              duration    weekday\n",
       "day_of_week                      \n",
       "0            16.206104     Monday\n",
       "1            15.686343    Tuesday\n",
       "2            15.823277  Wednesday\n",
       "3            16.364606   Thursday\n",
       "4            16.849433     Friday\n",
       "5            16.187999   Saturday\n",
       "6            16.878551     Sunday"
      ]
     },
     "execution_count": 139,
     "metadata": {},
     "output_type": "execute_result"
    }
   ],
   "source": [
    "day_of_week_mean_df"
   ]
  },
  {
   "cell_type": "markdown",
   "metadata": {},
   "source": [
    "<h3>Make a column data source object from this dataframe</h3>"
   ]
  },
  {
   "cell_type": "code",
   "execution_count": 140,
   "metadata": {},
   "outputs": [
    {
     "data": {
      "text/html": [
       "<div>\n",
       "<style scoped>\n",
       "    .dataframe tbody tr th:only-of-type {\n",
       "        vertical-align: middle;\n",
       "    }\n",
       "\n",
       "    .dataframe tbody tr th {\n",
       "        vertical-align: top;\n",
       "    }\n",
       "\n",
       "    .dataframe thead th {\n",
       "        text-align: right;\n",
       "    }\n",
       "</style>\n",
       "<table border=\"1\" class=\"dataframe\">\n",
       "  <thead>\n",
       "    <tr style=\"text-align: right;\">\n",
       "      <th></th>\n",
       "      <th>duration</th>\n",
       "      <th>weekday</th>\n",
       "    </tr>\n",
       "    <tr>\n",
       "      <th>day_of_week</th>\n",
       "      <th></th>\n",
       "      <th></th>\n",
       "    </tr>\n",
       "  </thead>\n",
       "  <tbody>\n",
       "    <tr>\n",
       "      <th>0</th>\n",
       "      <td>16.206104</td>\n",
       "      <td>Monday</td>\n",
       "    </tr>\n",
       "    <tr>\n",
       "      <th>1</th>\n",
       "      <td>15.686343</td>\n",
       "      <td>Tuesday</td>\n",
       "    </tr>\n",
       "    <tr>\n",
       "      <th>2</th>\n",
       "      <td>15.823277</td>\n",
       "      <td>Wednesday</td>\n",
       "    </tr>\n",
       "    <tr>\n",
       "      <th>3</th>\n",
       "      <td>16.364606</td>\n",
       "      <td>Thursday</td>\n",
       "    </tr>\n",
       "    <tr>\n",
       "      <th>4</th>\n",
       "      <td>16.849433</td>\n",
       "      <td>Friday</td>\n",
       "    </tr>\n",
       "    <tr>\n",
       "      <th>5</th>\n",
       "      <td>16.187999</td>\n",
       "      <td>Saturday</td>\n",
       "    </tr>\n",
       "    <tr>\n",
       "      <th>6</th>\n",
       "      <td>16.878551</td>\n",
       "      <td>Sunday</td>\n",
       "    </tr>\n",
       "  </tbody>\n",
       "</table>\n",
       "</div>"
      ],
      "text/plain": [
       "              duration    weekday\n",
       "day_of_week                      \n",
       "0            16.206104     Monday\n",
       "1            15.686343    Tuesday\n",
       "2            15.823277  Wednesday\n",
       "3            16.364606   Thursday\n",
       "4            16.849433     Friday\n",
       "5            16.187999   Saturday\n",
       "6            16.878551     Sunday"
      ]
     },
     "execution_count": 140,
     "metadata": {},
     "output_type": "execute_result"
    }
   ],
   "source": [
    "day_of_week_mean_df"
   ]
  },
  {
   "cell_type": "code",
   "execution_count": 148,
   "metadata": {},
   "outputs": [
    {
     "data": {
      "text/html": [
       "<div>\n",
       "<style scoped>\n",
       "    .dataframe tbody tr th:only-of-type {\n",
       "        vertical-align: middle;\n",
       "    }\n",
       "\n",
       "    .dataframe tbody tr th {\n",
       "        vertical-align: top;\n",
       "    }\n",
       "\n",
       "    .dataframe thead th {\n",
       "        text-align: right;\n",
       "    }\n",
       "</style>\n",
       "<table border=\"1\" class=\"dataframe\">\n",
       "  <thead>\n",
       "    <tr style=\"text-align: right;\">\n",
       "      <th></th>\n",
       "      <th>duration</th>\n",
       "      <th>weekday</th>\n",
       "    </tr>\n",
       "    <tr>\n",
       "      <th>day_of_week</th>\n",
       "      <th></th>\n",
       "      <th></th>\n",
       "    </tr>\n",
       "  </thead>\n",
       "  <tbody>\n",
       "    <tr>\n",
       "      <th>0</th>\n",
       "      <td>16.206104</td>\n",
       "      <td>Monday</td>\n",
       "    </tr>\n",
       "    <tr>\n",
       "      <th>1</th>\n",
       "      <td>15.686343</td>\n",
       "      <td>Tuesday</td>\n",
       "    </tr>\n",
       "    <tr>\n",
       "      <th>2</th>\n",
       "      <td>15.823277</td>\n",
       "      <td>Wednesday</td>\n",
       "    </tr>\n",
       "    <tr>\n",
       "      <th>3</th>\n",
       "      <td>16.364606</td>\n",
       "      <td>Thursday</td>\n",
       "    </tr>\n",
       "    <tr>\n",
       "      <th>4</th>\n",
       "      <td>16.849433</td>\n",
       "      <td>Friday</td>\n",
       "    </tr>\n",
       "    <tr>\n",
       "      <th>5</th>\n",
       "      <td>16.187999</td>\n",
       "      <td>Saturday</td>\n",
       "    </tr>\n",
       "    <tr>\n",
       "      <th>6</th>\n",
       "      <td>16.878551</td>\n",
       "      <td>Sunday</td>\n",
       "    </tr>\n",
       "  </tbody>\n",
       "</table>\n",
       "</div>"
      ],
      "text/plain": [
       "              duration    weekday\n",
       "day_of_week                      \n",
       "0            16.206104     Monday\n",
       "1            15.686343    Tuesday\n",
       "2            15.823277  Wednesday\n",
       "3            16.364606   Thursday\n",
       "4            16.849433     Friday\n",
       "5            16.187999   Saturday\n",
       "6            16.878551     Sunday"
      ]
     },
     "execution_count": 148,
     "metadata": {},
     "output_type": "execute_result"
    }
   ],
   "source": [
    "day_of_week_mean_df"
   ]
  },
  {
   "cell_type": "code",
   "execution_count": 149,
   "metadata": {},
   "outputs": [],
   "source": [
    "from bokeh.models import ColumnDataSource\n",
    "cdata = ColumnDataSource(data=day_of_week_mean_df)"
   ]
  },
  {
   "cell_type": "code",
   "execution_count": 150,
   "metadata": {},
   "outputs": [
    {
     "name": "stdout",
     "output_type": "stream",
     "text": [
      "ColumnDataSource(id='3138', ...)\n"
     ]
    }
   ],
   "source": [
    "print(cdata)"
   ]
  },
  {
   "cell_type": "markdown",
   "metadata": {},
   "source": [
    "<h3>Draw the vertical bar chart</h3>\n",
    "<li>You must include tooltips that show the duration when hovering over a bar</li>\n"
   ]
  },
  {
   "cell_type": "code",
   "execution_count": 158,
   "metadata": {},
   "outputs": [
    {
     "data": {
      "text/html": [
       "\n",
       "  <div class=\"bk-root\" id=\"e87da7b1-635f-4868-b0d6-72422de3200e\" data-root-id=\"3876\"></div>\n"
      ]
     },
     "metadata": {},
     "output_type": "display_data"
    },
    {
     "data": {
      "application/javascript": "(function(root) {\n  function embed_document(root) {\n  const docs_json = {\"81c03a1c-692e-47d2-b785-c2bc0679b987\":{\"defs\":[],\"roots\":{\"references\":[{\"attributes\":{\"below\":[{\"id\":\"3887\"}],\"center\":[{\"id\":\"3889\"},{\"id\":\"3893\"}],\"left\":[{\"id\":\"3890\"}],\"renderers\":[{\"id\":\"3914\"}],\"title\":{\"id\":\"3877\"},\"toolbar\":{\"id\":\"3902\"},\"x_range\":{\"id\":\"3879\"},\"x_scale\":{\"id\":\"3883\"},\"y_range\":{\"id\":\"3881\"},\"y_scale\":{\"id\":\"3885\"}},\"id\":\"3876\",\"subtype\":\"Figure\",\"type\":\"Plot\"},{\"attributes\":{\"source\":{\"id\":\"3138\"}},\"id\":\"3915\",\"type\":\"CDSView\"},{\"attributes\":{\"fill_alpha\":{\"value\":0.1},\"fill_color\":{\"value\":\"red\"},\"hatch_alpha\":{\"value\":0.1},\"hatch_color\":{\"value\":\"red\"},\"line_alpha\":{\"value\":0.1},\"line_color\":{\"value\":\"red\"},\"top\":{\"field\":\"duration\"},\"width\":{\"value\":0.7},\"x\":{\"field\":\"weekday\"}},\"id\":\"3912\",\"type\":\"VBar\"},{\"attributes\":{},\"id\":\"3891\",\"type\":\"BasicTicker\"},{\"attributes\":{\"fill_color\":{\"value\":\"red\"},\"hatch_color\":{\"value\":\"red\"},\"line_color\":{\"value\":\"red\"},\"top\":{\"field\":\"duration\"},\"width\":{\"value\":0.7},\"x\":{\"field\":\"weekday\"}},\"id\":\"3911\",\"type\":\"VBar\"},{\"attributes\":{\"end\":20},\"id\":\"3881\",\"type\":\"Range1d\"},{\"attributes\":{},\"id\":\"4071\",\"type\":\"CategoricalTickFormatter\"},{\"attributes\":{\"axis_label\":\"Duration (minutes)\",\"coordinates\":null,\"formatter\":{\"id\":\"4068\"},\"group\":null,\"major_label_policy\":{\"id\":\"4069\"},\"ticker\":{\"id\":\"3891\"}},\"id\":\"3890\",\"type\":\"LinearAxis\"},{\"attributes\":{\"coordinates\":null,\"data_source\":{\"id\":\"3138\"},\"glyph\":{\"id\":\"3911\"},\"group\":null,\"hover_glyph\":null,\"muted_glyph\":{\"id\":\"3913\"},\"nonselection_glyph\":{\"id\":\"3912\"},\"view\":{\"id\":\"3915\"}},\"id\":\"3914\",\"type\":\"GlyphRenderer\"},{\"attributes\":{\"coordinates\":null,\"group\":null,\"text\":\"Average Trip Duration by Day\"},\"id\":\"3877\",\"type\":\"Title\"},{\"attributes\":{\"tools\":[{\"id\":\"3894\"},{\"id\":\"3895\"},{\"id\":\"3896\"},{\"id\":\"3897\"},{\"id\":\"3898\"},{\"id\":\"3899\"},{\"id\":\"3901\"}]},\"id\":\"3902\",\"type\":\"Toolbar\"},{\"attributes\":{},\"id\":\"4074\",\"type\":\"Selection\"},{\"attributes\":{\"factors\":[\"Monday\",\"Tuesday\",\"Wednesday\",\"Thursday\",\"Friday\",\"Saturday\",\"Sunday\"]},\"id\":\"3879\",\"type\":\"FactorRange\"},{\"attributes\":{},\"id\":\"4073\",\"type\":\"UnionRenderers\"},{\"attributes\":{},\"id\":\"4072\",\"type\":\"AllLabels\"},{\"attributes\":{},\"id\":\"4068\",\"type\":\"BasicTickFormatter\"},{\"attributes\":{\"axis_label\":\"Day of Week\",\"coordinates\":null,\"formatter\":{\"id\":\"4071\"},\"group\":null,\"major_label_policy\":{\"id\":\"4072\"},\"ticker\":{\"id\":\"3888\"}},\"id\":\"3887\",\"type\":\"CategoricalAxis\"},{\"attributes\":{\"axis\":{\"id\":\"3890\"},\"coordinates\":null,\"dimension\":1,\"group\":null,\"ticker\":null},\"id\":\"3893\",\"type\":\"Grid\"},{\"attributes\":{},\"id\":\"3885\",\"type\":\"LinearScale\"},{\"attributes\":{\"bottom_units\":\"screen\",\"coordinates\":null,\"fill_alpha\":0.5,\"fill_color\":\"lightgrey\",\"group\":null,\"left_units\":\"screen\",\"level\":\"overlay\",\"line_alpha\":1.0,\"line_color\":\"black\",\"line_dash\":[4,4],\"line_width\":2,\"right_units\":\"screen\",\"syncable\":false,\"top_units\":\"screen\"},\"id\":\"3900\",\"type\":\"BoxAnnotation\"},{\"attributes\":{\"fill_alpha\":{\"value\":0.2},\"fill_color\":{\"value\":\"red\"},\"hatch_alpha\":{\"value\":0.2},\"hatch_color\":{\"value\":\"red\"},\"line_alpha\":{\"value\":0.2},\"line_color\":{\"value\":\"red\"},\"top\":{\"field\":\"duration\"},\"width\":{\"value\":0.7},\"x\":{\"field\":\"weekday\"}},\"id\":\"3913\",\"type\":\"VBar\"},{\"attributes\":{},\"id\":\"3888\",\"type\":\"CategoricalTicker\"},{\"attributes\":{\"axis\":{\"id\":\"3887\"},\"coordinates\":null,\"grid_line_color\":null,\"group\":null,\"ticker\":null},\"id\":\"3889\",\"type\":\"Grid\"},{\"attributes\":{},\"id\":\"3895\",\"type\":\"WheelZoomTool\"},{\"attributes\":{},\"id\":\"3883\",\"type\":\"CategoricalScale\"},{\"attributes\":{\"overlay\":{\"id\":\"3900\"}},\"id\":\"3896\",\"type\":\"BoxZoomTool\"},{\"attributes\":{\"data\":{\"day_of_week\":[0,1,2,3,4,5,6],\"duration\":{\"__ndarray__\":\"yZCKO8M0MECKCURnaF8vQOx43JKEpS9A+Mtty1ZdMEDGk4N3dNkwQOzOr64gMDBAQGWpuujgMEA=\",\"dtype\":\"float64\",\"order\":\"little\",\"shape\":[7]},\"weekday\":[\"Monday\",\"Tuesday\",\"Wednesday\",\"Thursday\",\"Friday\",\"Saturday\",\"Sunday\"]},\"selected\":{\"id\":\"4074\"},\"selection_policy\":{\"id\":\"4073\"}},\"id\":\"3138\",\"type\":\"ColumnDataSource\"},{\"attributes\":{},\"id\":\"3894\",\"type\":\"PanTool\"},{\"attributes\":{},\"id\":\"4069\",\"type\":\"AllLabels\"},{\"attributes\":{},\"id\":\"3897\",\"type\":\"SaveTool\"},{\"attributes\":{},\"id\":\"3899\",\"type\":\"HelpTool\"},{\"attributes\":{\"callback\":null,\"tooltips\":[[\"avg_duration\",\"@duration\"]]},\"id\":\"3901\",\"type\":\"HoverTool\"},{\"attributes\":{},\"id\":\"3898\",\"type\":\"ResetTool\"}],\"root_ids\":[\"3876\"]},\"title\":\"Bokeh Application\",\"version\":\"2.4.3\"}};\n  const render_items = [{\"docid\":\"81c03a1c-692e-47d2-b785-c2bc0679b987\",\"root_ids\":[\"3876\"],\"roots\":{\"3876\":\"e87da7b1-635f-4868-b0d6-72422de3200e\"}}];\n  root.Bokeh.embed.embed_items_notebook(docs_json, render_items);\n  }\n  if (root.Bokeh !== undefined) {\n    embed_document(root);\n  } else {\n    let attempts = 0;\n    const timer = setInterval(function(root) {\n      if (root.Bokeh !== undefined) {\n        clearInterval(timer);\n        embed_document(root);\n      } else {\n        attempts++;\n        if (attempts > 100) {\n          clearInterval(timer);\n          console.log(\"Bokeh: ERROR: Unable to run BokehJS code because BokehJS library is missing\");\n        }\n      }\n    }, 10, root)\n  }\n})(window);",
      "application/vnd.bokehjs_exec.v0+json": ""
     },
     "metadata": {
      "application/vnd.bokehjs_exec.v0+json": {
       "id": "3876"
      }
     },
     "output_type": "display_data"
    }
   ],
   "source": [
    "text_labels = day_of_week_mean_df.weekday\n",
    "values = day_of_week_mean_df.duration\n",
    "\n",
    "tooltips = [\n",
    "    (\"avg_duration\", \"@duration\")\n",
    "]\n",
    "\n",
    "\n",
    "p = figure(plot_height = 600, plot_width = 600, x_range=text_labels, y_range=(0, 20),\n",
    "           title = 'Average Trip Duration by Day',\n",
    "          x_axis_label = 'Day of Week', \n",
    "           y_axis_label = 'Duration (minutes)',tooltips=tooltips)\n",
    "\n",
    "\n",
    "\n",
    "p.vbar(x='weekday', top='duration', source=cdata, width=0.7, color = \"red\")\n",
    "\n",
    "p.xgrid.grid_line_color = None\n",
    "p.y_range.start = 0    \n",
    "show(p)"
   ]
  },
  {
   "cell_type": "markdown",
   "metadata": {},
   "source": [
    "<h1>PROBLEM 2: Interactive chart with slider</h1>\n",
    "<li>In this second problem, construct an interactive chart that shows the taxi duration by day of week while varying the pickup_hour</li>\n",
    "<li>Each chart will have day of the week on the x-axis and the number of trips as the height of the bars for a single pickup_hour</li>\n",
    "<li>Construct a slider that slides from 0 to 23 with the graph for all 24 pickup_hours</li>\n",
    "<li>"
   ]
  },
  {
   "cell_type": "markdown",
   "metadata": {},
   "source": [
    "<h3>Group the data by day of week and, within day of week by pickup_hour</h3>"
   ]
  },
  {
   "cell_type": "code",
   "execution_count": null,
   "metadata": {},
   "outputs": [],
   "source": [
    "hour_group = "
   ]
  },
  {
   "cell_type": "markdown",
   "metadata": {},
   "source": [
    "<h3>Get the size of each group and unstack so that rows are weekdays (0, 1,...,7) and cols are hours (0,1,...23)</h3>\n",
    "<li>Then add an additional column (24) as a copy of column 0. Col 24 will be the display column</li>\n",
    "<li>Finally, convert all column names into str (since pickup_hour is an int and column data source objects need str column names)</li>\n",
    "<li>size_df should like like (col names should be strings):</li>\n",
    "<li>Note that your numbers may be different if you're using a random subset of the data</li>\n",
    "\n",
    "<pre>\n",
    "\t0\t1\t2\t3\t4\t5\t6\t7\t8\t9\t...\t16\t17\t18\t19\t20\t21\t22\t23\t24\tdayname\n",
    "day_of_week\t\t\t\t\t\t\t\t\t\t\t\t\t\t\t\t\t\t\t\t\t\n",
    "0\t22368\t14049\t9421\t6574\t7225\t10072\t24590\t44526\t56618\t55145\t...\t55280\t65609\t75620\t69939\t62390\t57315\t50615\t34107\t22368\tMonday\n",
    "1\t24205\t13229\t7721\t5290\t5876\t10479\t30027\t61182\t75061\t68852\t...\t54956\t66460\t81502\t77315\t74094\t73728\t64593\t43512\t24205\tTuesday\n",
    "2\t26920\t14924\t9213\t6438\t6578\t10100\t29918\t61453\t75718\t70062\t...\t54682\t68361\t84792\t84012\t80136\t79127\t72063\t51758\t26920\tWednesday\n",
    "3\t30990\t17882\t11170\t7297\t7084\t10549\t30728\t62179\t75545\t70178\t...\t55160\t68506\t86230\t87825\t84255\t84989\t79568\t63830\t30990\tThursday\n",
    "4\t64946\t51398\t39164\t29309\t22635\t17846\t33878\t64460\t78808\t74686\t...\t69599\t85201\t103036\t104992\t92350\t89919\t94841\t91173\t64946\tFriday\n",
    "5\t81272\t67218\t52933\t38654\t23787\t11349\t13148\t18395\t27400\t40364\t...\t66030\t73453\t81384\t83086\t70752\t69776\t78014\t80825\t81272\tSaturday\n",
    "6\t77206\t66788\t56481\t42242\t25799\t11053\t10810\t14220\t22050\t33439\t...\t73734\t75534\t78610\t67409\t58393\t55413\t50860\t39138\t77206\tSunday\n",
    "</pre>"
   ]
  },
  {
   "cell_type": "code",
   "execution_count": null,
   "metadata": {},
   "outputs": [],
   "source": [
    "size_df ="
   ]
  },
  {
   "cell_type": "markdown",
   "metadata": {},
   "source": [
    "<h3>Draw the interactive chart by filling in the code below</h3>\n",
    "<li>Mostly done :)</li>"
   ]
  },
  {
   "cell_type": "code",
   "execution_count": null,
   "metadata": {},
   "outputs": [],
   "source": [
    "from bokeh.layouts import column, row\n",
    "from bokeh.models import CustomJS, Slider\n",
    "from bokeh.plotting import ColumnDataSource, figure, show, output_notebook\n",
    "\n",
    "source = ColumnDataSource(size_df)\n",
    "source = ColumnDataSource(size_df)\n",
    "\n",
    "tooltips = \n",
    "\n",
    "p = figure(x_range=source.data['dayname'], plot_height=400, \n",
    "           x_axis_label = \"day of week\",\n",
    "           y_axis_label = \"size\",\n",
    "           title=\"Chart\",tooltips=tooltips)\n",
    "p.vbar(#FILL THIS IN)\n",
    "\n",
    "p.xgrid.grid_line_color = None\n",
    "p.y_range.start = 0    \n",
    "\n",
    "slider = #FILL THIS IN (https://docs.bokeh.org/en/latest/docs/gallery/slider.html)\n",
    "\n",
    "jscallback = CustomJS(args={'source':source,'slider':slider},code=\"\"\"\n",
    "        // widget. this.item is the selected value\n",
    "        // We can print it on the JavaScript console\n",
    "        // Chrome windows/linux: Ctrl - Shift - J\n",
    "        // Chrom mac: Cmd - Option - J\n",
    "        // Safari: Option - Cmd - C\n",
    "        \n",
    "        console.log(' changed selected option', slider.value);\n",
    "\n",
    "        //data is the variable containing all the data\n",
    "        var data = source.data;\n",
    "        var col = this.value\n",
    "        console.log(' changed selected option', data[col]);\n",
    "        // allocate the selected column to the field for the y values\n",
    "        data['24'] = data[col];\n",
    "\n",
    "        // register the change \n",
    "        source.change.emit();\n",
    "\"\"\")\n",
    "\n",
    "slider.js_on_change(\"value\", jscallback)\n",
    "\n",
    "layout = row(p,slider)\n",
    "show(layout)"
   ]
  },
  {
   "cell_type": "code",
   "execution_count": null,
   "metadata": {},
   "outputs": [],
   "source": []
  },
  {
   "cell_type": "code",
   "execution_count": null,
   "metadata": {},
   "outputs": [],
   "source": []
  },
  {
   "cell_type": "code",
   "execution_count": null,
   "metadata": {},
   "outputs": [],
   "source": []
  },
  {
   "cell_type": "code",
   "execution_count": null,
   "metadata": {},
   "outputs": [],
   "source": []
  },
  {
   "cell_type": "code",
   "execution_count": null,
   "metadata": {},
   "outputs": [],
   "source": []
  },
  {
   "cell_type": "markdown",
   "metadata": {},
   "source": [
    "<h1>PROBLEM 3: Piechart</h1>\n",
    "<li>Use the total_amount column</li>\n",
    "<li>Use the grouped by day of week data</li>\n",
    "<li>Sum the total amount for each group and then compute the fractional amount for each day</li>\n",
    "<li>Using the class notebook piechart as a guide, construct the piechart for distribution of total amount collected by day of week</li>"
   ]
  },
  {
   "cell_type": "code",
   "execution_count": null,
   "metadata": {},
   "outputs": [],
   "source": []
  }
 ],
 "metadata": {
  "kernelspec": {
   "display_name": "base",
   "language": "python",
   "name": "python3"
  },
  "language_info": {
   "codemirror_mode": {
    "name": "ipython",
    "version": 3
   },
   "file_extension": ".py",
   "mimetype": "text/x-python",
   "name": "python",
   "nbconvert_exporter": "python",
   "pygments_lexer": "ipython3",
   "version": "3.9.12"
  },
  "toc": {
   "base_numbering": 1,
   "nav_menu": {},
   "number_sections": true,
   "sideBar": true,
   "skip_h1_title": false,
   "title_cell": "Table of Contents",
   "title_sidebar": "Contents",
   "toc_cell": false,
   "toc_position": {},
   "toc_section_display": true,
   "toc_window_display": false
  },
  "vscode": {
   "interpreter": {
    "hash": "81d5b4a19a276010183013345b38f7d9b6c479ab07551a9ca40dd13abdbac5b2"
   }
  }
 },
 "nbformat": 4,
 "nbformat_minor": 2
}
