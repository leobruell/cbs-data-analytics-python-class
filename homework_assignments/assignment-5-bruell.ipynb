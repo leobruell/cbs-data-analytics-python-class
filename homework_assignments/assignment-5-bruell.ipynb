{
 "cells": [
  {
   "cell_type": "markdown",
   "metadata": {},
   "source": [
    "<h1>Charts with bokeh assignment</h1>\n",
    "Download the nyc taxi data for 2016 January (see below) and prepare the following charts:\n",
    "\n",
    "<ol>\n",
    "    <li>A bokeh bar chart with day of the week (Monday, Tuesday, ...) on the x-axis and the average duration of rides on the y-axis. Make sure that the hover tool is activated and that it shows the average duration when the cursor hovers over it</li>\n",
    "    <li>A bokeh interactive chart with a slider containing the hour of the day (0,1,...23) and the average number of rides for each hour for each day of the week. I.e., the chart should contain days of the week on the x-axis and the mean number of rides on the y-axis for a particular hour of the day. Moving the slider (e.g., from 10 to 11) should replace the chart for 1000 hrs by the chart for 1100 hrs). Don't forget the tooltip</li>\n",
    "    <ul><li><a href=\"https://docs.bokeh.org/en/latest/docs/gallery/slider.html\">sliders</a></li>\n",
    "        <li><a href=\"https://docs.bokeh.org/en/latest/docs/reference/models/glyphs/vbar.html\">vbar</a></li>\n",
    "        <li>note that column names must be strings for converting a data frame into a column data source</li>\n",
    "    </ul>\n",
    "    <li>A piechart that shows how much of the total payment comes from each day of the week. The pie should have seven slices, one for each day, and the size of each slice depends on the fraction it contributes to the total. Again, don't forget the tooltip</li>\n",
    "    \n",
    "</ol>\n",
    "<li>For the purposes of this exercise, remove any taxi rides that are less than 5 minute in duration</li>"
   ]
  },
  {
   "cell_type": "markdown",
   "metadata": {},
   "source": [
    "<h2>NYC taxi data</h2>\n",
    "<li>NYC taxi trip data is collected and made available (yellow, green, and black cabs)</li>\n",
    "<li>We'll use data from January 2022</li>\n",
    "<li><a href=\"https://d37ci6vzurychx.cloudfront.net/trip-data/yellow_tripdata_2022-01.parquet\"</a></li>\n",
    "<li>Use pandas <span style=\"color:blue\">read_parquet</span> function to import the data</li>\n",
    "<li>Apache Parquet is a column data source format for data storage. It's main advantage over csv files is that each column retains its data type (csv converts everything to strings)</li>\n",
    "<li>After running pd.read_parquet, try df.info() to see the data type of each column</li>\n"
   ]
  },
  {
   "cell_type": "code",
   "execution_count": 129,
   "metadata": {},
   "outputs": [
    {
     "data": {
      "text/html": [
       "<div class=\"bk-root\">\n",
       "        <a href=\"https://bokeh.org\" target=\"_blank\" class=\"bk-logo bk-logo-small bk-logo-notebook\"></a>\n",
       "        <span id=\"3135\">Loading BokehJS ...</span>\n",
       "    </div>\n"
      ]
     },
     "metadata": {},
     "output_type": "display_data"
    },
    {
     "data": {
      "application/javascript": "(function(root) {\n  function now() {\n    return new Date();\n  }\n\n  const force = true;\n\n  if (typeof root._bokeh_onload_callbacks === \"undefined\" || force === true) {\n    root._bokeh_onload_callbacks = [];\n    root._bokeh_is_loading = undefined;\n  }\n\nconst JS_MIME_TYPE = 'application/javascript';\n  const HTML_MIME_TYPE = 'text/html';\n  const EXEC_MIME_TYPE = 'application/vnd.bokehjs_exec.v0+json';\n  const CLASS_NAME = 'output_bokeh rendered_html';\n\n  /**\n   * Render data to the DOM node\n   */\n  function render(props, node) {\n    const script = document.createElement(\"script\");\n    node.appendChild(script);\n  }\n\n  /**\n   * Handle when an output is cleared or removed\n   */\n  function handleClearOutput(event, handle) {\n    const cell = handle.cell;\n\n    const id = cell.output_area._bokeh_element_id;\n    const server_id = cell.output_area._bokeh_server_id;\n    // Clean up Bokeh references\n    if (id != null && id in Bokeh.index) {\n      Bokeh.index[id].model.document.clear();\n      delete Bokeh.index[id];\n    }\n\n    if (server_id !== undefined) {\n      // Clean up Bokeh references\n      const cmd_clean = \"from bokeh.io.state import curstate; print(curstate().uuid_to_server['\" + server_id + \"'].get_sessions()[0].document.roots[0]._id)\";\n      cell.notebook.kernel.execute(cmd_clean, {\n        iopub: {\n          output: function(msg) {\n            const id = msg.content.text.trim();\n            if (id in Bokeh.index) {\n              Bokeh.index[id].model.document.clear();\n              delete Bokeh.index[id];\n            }\n          }\n        }\n      });\n      // Destroy server and session\n      const cmd_destroy = \"import bokeh.io.notebook as ion; ion.destroy_server('\" + server_id + \"')\";\n      cell.notebook.kernel.execute(cmd_destroy);\n    }\n  }\n\n  /**\n   * Handle when a new output is added\n   */\n  function handleAddOutput(event, handle) {\n    const output_area = handle.output_area;\n    const output = handle.output;\n\n    // limit handleAddOutput to display_data with EXEC_MIME_TYPE content only\n    if ((output.output_type != \"display_data\") || (!Object.prototype.hasOwnProperty.call(output.data, EXEC_MIME_TYPE))) {\n      return\n    }\n\n    const toinsert = output_area.element.find(\".\" + CLASS_NAME.split(' ')[0]);\n\n    if (output.metadata[EXEC_MIME_TYPE][\"id\"] !== undefined) {\n      toinsert[toinsert.length - 1].firstChild.textContent = output.data[JS_MIME_TYPE];\n      // store reference to embed id on output_area\n      output_area._bokeh_element_id = output.metadata[EXEC_MIME_TYPE][\"id\"];\n    }\n    if (output.metadata[EXEC_MIME_TYPE][\"server_id\"] !== undefined) {\n      const bk_div = document.createElement(\"div\");\n      bk_div.innerHTML = output.data[HTML_MIME_TYPE];\n      const script_attrs = bk_div.children[0].attributes;\n      for (let i = 0; i < script_attrs.length; i++) {\n        toinsert[toinsert.length - 1].firstChild.setAttribute(script_attrs[i].name, script_attrs[i].value);\n        toinsert[toinsert.length - 1].firstChild.textContent = bk_div.children[0].textContent\n      }\n      // store reference to server id on output_area\n      output_area._bokeh_server_id = output.metadata[EXEC_MIME_TYPE][\"server_id\"];\n    }\n  }\n\n  function register_renderer(events, OutputArea) {\n\n    function append_mime(data, metadata, element) {\n      // create a DOM node to render to\n      const toinsert = this.create_output_subarea(\n        metadata,\n        CLASS_NAME,\n        EXEC_MIME_TYPE\n      );\n      this.keyboard_manager.register_events(toinsert);\n      // Render to node\n      const props = {data: data, metadata: metadata[EXEC_MIME_TYPE]};\n      render(props, toinsert[toinsert.length - 1]);\n      element.append(toinsert);\n      return toinsert\n    }\n\n    /* Handle when an output is cleared or removed */\n    events.on('clear_output.CodeCell', handleClearOutput);\n    events.on('delete.Cell', handleClearOutput);\n\n    /* Handle when a new output is added */\n    events.on('output_added.OutputArea', handleAddOutput);\n\n    /**\n     * Register the mime type and append_mime function with output_area\n     */\n    OutputArea.prototype.register_mime_type(EXEC_MIME_TYPE, append_mime, {\n      /* Is output safe? */\n      safe: true,\n      /* Index of renderer in `output_area.display_order` */\n      index: 0\n    });\n  }\n\n  // register the mime type if in Jupyter Notebook environment and previously unregistered\n  if (root.Jupyter !== undefined) {\n    const events = require('base/js/events');\n    const OutputArea = require('notebook/js/outputarea').OutputArea;\n\n    if (OutputArea.prototype.mime_types().indexOf(EXEC_MIME_TYPE) == -1) {\n      register_renderer(events, OutputArea);\n    }\n  }\n  if (typeof (root._bokeh_timeout) === \"undefined\" || force === true) {\n    root._bokeh_timeout = Date.now() + 5000;\n    root._bokeh_failed_load = false;\n  }\n\n  const NB_LOAD_WARNING = {'data': {'text/html':\n     \"<div style='background-color: #fdd'>\\n\"+\n     \"<p>\\n\"+\n     \"BokehJS does not appear to have successfully loaded. If loading BokehJS from CDN, this \\n\"+\n     \"may be due to a slow or bad network connection. Possible fixes:\\n\"+\n     \"</p>\\n\"+\n     \"<ul>\\n\"+\n     \"<li>re-rerun `output_notebook()` to attempt to load from CDN again, or</li>\\n\"+\n     \"<li>use INLINE resources instead, as so:</li>\\n\"+\n     \"</ul>\\n\"+\n     \"<code>\\n\"+\n     \"from bokeh.resources import INLINE\\n\"+\n     \"output_notebook(resources=INLINE)\\n\"+\n     \"</code>\\n\"+\n     \"</div>\"}};\n\n  function display_loaded() {\n    const el = document.getElementById(\"3135\");\n    if (el != null) {\n      el.textContent = \"BokehJS is loading...\";\n    }\n    if (root.Bokeh !== undefined) {\n      if (el != null) {\n        el.textContent = \"BokehJS \" + root.Bokeh.version + \" successfully loaded.\";\n      }\n    } else if (Date.now() < root._bokeh_timeout) {\n      setTimeout(display_loaded, 100)\n    }\n  }\n\n  function run_callbacks() {\n    try {\n      root._bokeh_onload_callbacks.forEach(function(callback) {\n        if (callback != null)\n          callback();\n      });\n    } finally {\n      delete root._bokeh_onload_callbacks\n    }\n    console.debug(\"Bokeh: all callbacks have finished\");\n  }\n\n  function load_libs(css_urls, js_urls, callback) {\n    if (css_urls == null) css_urls = [];\n    if (js_urls == null) js_urls = [];\n\n    root._bokeh_onload_callbacks.push(callback);\n    if (root._bokeh_is_loading > 0) {\n      console.debug(\"Bokeh: BokehJS is being loaded, scheduling callback at\", now());\n      return null;\n    }\n    if (js_urls == null || js_urls.length === 0) {\n      run_callbacks();\n      return null;\n    }\n    console.debug(\"Bokeh: BokehJS not loaded, scheduling load and callback at\", now());\n    root._bokeh_is_loading = css_urls.length + js_urls.length;\n\n    function on_load() {\n      root._bokeh_is_loading--;\n      if (root._bokeh_is_loading === 0) {\n        console.debug(\"Bokeh: all BokehJS libraries/stylesheets loaded\");\n        run_callbacks()\n      }\n    }\n\n    function on_error(url) {\n      console.error(\"failed to load \" + url);\n    }\n\n    for (let i = 0; i < css_urls.length; i++) {\n      const url = css_urls[i];\n      const element = document.createElement(\"link\");\n      element.onload = on_load;\n      element.onerror = on_error.bind(null, url);\n      element.rel = \"stylesheet\";\n      element.type = \"text/css\";\n      element.href = url;\n      console.debug(\"Bokeh: injecting link tag for BokehJS stylesheet: \", url);\n      document.body.appendChild(element);\n    }\n\n    for (let i = 0; i < js_urls.length; i++) {\n      const url = js_urls[i];\n      const element = document.createElement('script');\n      element.onload = on_load;\n      element.onerror = on_error.bind(null, url);\n      element.async = false;\n      element.src = url;\n      console.debug(\"Bokeh: injecting script tag for BokehJS library: \", url);\n      document.head.appendChild(element);\n    }\n  };\n\n  function inject_raw_css(css) {\n    const element = document.createElement(\"style\");\n    element.appendChild(document.createTextNode(css));\n    document.body.appendChild(element);\n  }\n\n  const js_urls = [\"https://cdn.bokeh.org/bokeh/release/bokeh-2.4.3.min.js\", \"https://cdn.bokeh.org/bokeh/release/bokeh-gl-2.4.3.min.js\", \"https://cdn.bokeh.org/bokeh/release/bokeh-widgets-2.4.3.min.js\", \"https://cdn.bokeh.org/bokeh/release/bokeh-tables-2.4.3.min.js\", \"https://cdn.bokeh.org/bokeh/release/bokeh-mathjax-2.4.3.min.js\"];\n  const css_urls = [];\n\n  const inline_js = [    function(Bokeh) {\n      Bokeh.set_log_level(\"info\");\n    },\nfunction(Bokeh) {\n    }\n  ];\n\n  function run_inline_js() {\n    if (root.Bokeh !== undefined || force === true) {\n          for (let i = 0; i < inline_js.length; i++) {\n      inline_js[i].call(root, root.Bokeh);\n    }\nif (force === true) {\n        display_loaded();\n      }} else if (Date.now() < root._bokeh_timeout) {\n      setTimeout(run_inline_js, 100);\n    } else if (!root._bokeh_failed_load) {\n      console.log(\"Bokeh: BokehJS failed to load within specified timeout.\");\n      root._bokeh_failed_load = true;\n    } else if (force !== true) {\n      const cell = $(document.getElementById(\"3135\")).parents('.cell').data().cell;\n      cell.output_area.append_execute_result(NB_LOAD_WARNING)\n    }\n  }\n\n  if (root._bokeh_is_loading === 0) {\n    console.debug(\"Bokeh: BokehJS loaded, going straight to plotting\");\n    run_inline_js();\n  } else {\n    load_libs(css_urls, js_urls, function() {\n      console.debug(\"Bokeh: BokehJS plotting callback run at\", now());\n      run_inline_js();\n    });\n  }\n}(window));",
      "application/vnd.bokehjs_load.v0+json": ""
     },
     "metadata": {},
     "output_type": "display_data"
    }
   ],
   "source": [
    "from bokeh.io import output_notebook, show\n",
    "from bokeh.plotting import figure\n",
    "\n",
    "output_notebook()"
   ]
  },
  {
   "cell_type": "code",
   "execution_count": 130,
   "metadata": {},
   "outputs": [
    {
     "name": "stdout",
     "output_type": "stream",
     "text": [
      "<class 'pandas.core.frame.DataFrame'>\n",
      "RangeIndex: 2463931 entries, 0 to 2463930\n",
      "Data columns (total 19 columns):\n",
      " #   Column                 Dtype         \n",
      "---  ------                 -----         \n",
      " 0   VendorID               int64         \n",
      " 1   tpep_pickup_datetime   datetime64[ns]\n",
      " 2   tpep_dropoff_datetime  datetime64[ns]\n",
      " 3   passenger_count        float64       \n",
      " 4   trip_distance          float64       \n",
      " 5   RatecodeID             float64       \n",
      " 6   store_and_fwd_flag     object        \n",
      " 7   PULocationID           int64         \n",
      " 8   DOLocationID           int64         \n",
      " 9   payment_type           int64         \n",
      " 10  fare_amount            float64       \n",
      " 11  extra                  float64       \n",
      " 12  mta_tax                float64       \n",
      " 13  tip_amount             float64       \n",
      " 14  tolls_amount           float64       \n",
      " 15  improvement_surcharge  float64       \n",
      " 16  total_amount           float64       \n",
      " 17  congestion_surcharge   float64       \n",
      " 18  airport_fee            float64       \n",
      "dtypes: datetime64[ns](2), float64(12), int64(4), object(1)\n",
      "memory usage: 357.2+ MB\n"
     ]
    }
   ],
   "source": [
    "import pandas as pd\n",
    "import numpy as np\n",
    "import matplotlib.pyplot as plt\n",
    "import datetime as dt\n",
    "%matplotlib inline\n",
    "\n",
    "datasource = \"../class-datasets/yellow_tripdata_2022-01.parquet\"\n",
    "df = pd.read_parquet(datasource)\n",
    "df.info()"
   ]
  },
  {
   "cell_type": "markdown",
   "metadata": {},
   "source": [
    "<span style=\"color:blue\">Start with a small subset of the data</span>\n",
    "<br>\n",
    "<li>After you've completed the assignment with the subset, you can try using all the data</li>"
   ]
  },
  {
   "cell_type": "code",
   "execution_count": 131,
   "metadata": {},
   "outputs": [
    {
     "name": "stdout",
     "output_type": "stream",
     "text": [
      "<class 'pandas.core.frame.DataFrame'>\n",
      "Int64Index: 492786 entries, 251537 to 1495341\n",
      "Data columns (total 19 columns):\n",
      " #   Column                 Non-Null Count   Dtype         \n",
      "---  ------                 --------------   -----         \n",
      " 0   VendorID               492786 non-null  int64         \n",
      " 1   tpep_pickup_datetime   492786 non-null  datetime64[ns]\n",
      " 2   tpep_dropoff_datetime  492786 non-null  datetime64[ns]\n",
      " 3   passenger_count        478532 non-null  float64       \n",
      " 4   trip_distance          492786 non-null  float64       \n",
      " 5   RatecodeID             478532 non-null  float64       \n",
      " 6   store_and_fwd_flag     478532 non-null  object        \n",
      " 7   PULocationID           492786 non-null  int64         \n",
      " 8   DOLocationID           492786 non-null  int64         \n",
      " 9   payment_type           492786 non-null  int64         \n",
      " 10  fare_amount            492786 non-null  float64       \n",
      " 11  extra                  492786 non-null  float64       \n",
      " 12  mta_tax                492786 non-null  float64       \n",
      " 13  tip_amount             492786 non-null  float64       \n",
      " 14  tolls_amount           492786 non-null  float64       \n",
      " 15  improvement_surcharge  492786 non-null  float64       \n",
      " 16  total_amount           492786 non-null  float64       \n",
      " 17  congestion_surcharge   478532 non-null  float64       \n",
      " 18  airport_fee            478532 non-null  float64       \n",
      "dtypes: datetime64[ns](2), float64(12), int64(4), object(1)\n",
      "memory usage: 75.2+ MB\n"
     ]
    }
   ],
   "source": [
    "df = df.sample(frac=0.2)\n",
    "df.info()"
   ]
  },
  {
   "cell_type": "markdown",
   "metadata": {},
   "source": [
    "<h3>Get the pickup hour (e.g., 11:20 corresponds to 11, 15:30pm corresponds to 15, etc.)</h3>"
   ]
  },
  {
   "cell_type": "code",
   "execution_count": 132,
   "metadata": {},
   "outputs": [],
   "source": [
    "df['pickup_hour'] = df.tpep_pickup_datetime.dt.hour"
   ]
  },
  {
   "cell_type": "markdown",
   "metadata": {},
   "source": [
    "<h3>Get the day of week (0-Monday, 1-Tuesday, ...)</h3>"
   ]
  },
  {
   "cell_type": "code",
   "execution_count": 133,
   "metadata": {},
   "outputs": [],
   "source": [
    "df['day_of_week'] = df.tpep_pickup_datetime.dt.weekday"
   ]
  },
  {
   "cell_type": "markdown",
   "metadata": {},
   "source": [
    "<h3>Get the taxi ride duration in minutes</h3>\n",
    "<li>I've done this for you</li>"
   ]
  },
  {
   "cell_type": "code",
   "execution_count": 134,
   "metadata": {},
   "outputs": [],
   "source": [
    "df['duration'] = (df.tpep_dropoff_datetime - df.tpep_pickup_datetime)/np.timedelta64(1, 's')/60.0"
   ]
  },
  {
   "cell_type": "markdown",
   "metadata": {},
   "source": [
    "<h3>Remove rides of 5 minutes or less and save in df</h3>"
   ]
  },
  {
   "cell_type": "code",
   "execution_count": 135,
   "metadata": {},
   "outputs": [],
   "source": [
    "df = df[df.duration > 5 ]"
   ]
  },
  {
   "cell_type": "markdown",
   "metadata": {},
   "source": [
    "<h1>PROBLEM 1: Average duration by day of week bar chart</h1>"
   ]
  },
  {
   "cell_type": "markdown",
   "metadata": {},
   "source": [
    "<h3>group the data by day of week</h3>"
   ]
  },
  {
   "cell_type": "code",
   "execution_count": 136,
   "metadata": {},
   "outputs": [],
   "source": [
    "day_of_week_group = df.groupby('day_of_week')"
   ]
  },
  {
   "cell_type": "markdown",
   "metadata": {},
   "source": [
    "<h3>Get the mean ride duration for each group</h3>\n",
    "<li>And make a df out of it</li>\n",
    "<li>day_of_week_mean has the day of week as the index</li>\n",
    "<li>the dataframe will have seven rows with indexes 0,1,2,..7</li>\n",
    "<li>add a new column with values Monday, Tuesday, Wedensday,...,Sunday</li>"
   ]
  },
  {
   "cell_type": "code",
   "execution_count": 137,
   "metadata": {},
   "outputs": [],
   "source": [
    "day_of_week_mean = day_of_week_group.duration.mean()\n",
    "day_of_week_mean_df = pd.DataFrame(day_of_week_mean)"
   ]
  },
  {
   "cell_type": "code",
   "execution_count": 138,
   "metadata": {},
   "outputs": [],
   "source": [
    "day_of_week_mean_df['weekday'] = ['Monday', 'Tuesday', 'Wednesday', 'Thursday', 'Friday', 'Saturday', 'Sunday']"
   ]
  },
  {
   "cell_type": "code",
   "execution_count": 139,
   "metadata": {},
   "outputs": [
    {
     "data": {
      "text/html": [
       "<div>\n",
       "<style scoped>\n",
       "    .dataframe tbody tr th:only-of-type {\n",
       "        vertical-align: middle;\n",
       "    }\n",
       "\n",
       "    .dataframe tbody tr th {\n",
       "        vertical-align: top;\n",
       "    }\n",
       "\n",
       "    .dataframe thead th {\n",
       "        text-align: right;\n",
       "    }\n",
       "</style>\n",
       "<table border=\"1\" class=\"dataframe\">\n",
       "  <thead>\n",
       "    <tr style=\"text-align: right;\">\n",
       "      <th></th>\n",
       "      <th>duration</th>\n",
       "      <th>weekday</th>\n",
       "    </tr>\n",
       "    <tr>\n",
       "      <th>day_of_week</th>\n",
       "      <th></th>\n",
       "      <th></th>\n",
       "    </tr>\n",
       "  </thead>\n",
       "  <tbody>\n",
       "    <tr>\n",
       "      <th>0</th>\n",
       "      <td>16.206104</td>\n",
       "      <td>Monday</td>\n",
       "    </tr>\n",
       "    <tr>\n",
       "      <th>1</th>\n",
       "      <td>15.686343</td>\n",
       "      <td>Tuesday</td>\n",
       "    </tr>\n",
       "    <tr>\n",
       "      <th>2</th>\n",
       "      <td>15.823277</td>\n",
       "      <td>Wednesday</td>\n",
       "    </tr>\n",
       "    <tr>\n",
       "      <th>3</th>\n",
       "      <td>16.364606</td>\n",
       "      <td>Thursday</td>\n",
       "    </tr>\n",
       "    <tr>\n",
       "      <th>4</th>\n",
       "      <td>16.849433</td>\n",
       "      <td>Friday</td>\n",
       "    </tr>\n",
       "    <tr>\n",
       "      <th>5</th>\n",
       "      <td>16.187999</td>\n",
       "      <td>Saturday</td>\n",
       "    </tr>\n",
       "    <tr>\n",
       "      <th>6</th>\n",
       "      <td>16.878551</td>\n",
       "      <td>Sunday</td>\n",
       "    </tr>\n",
       "  </tbody>\n",
       "</table>\n",
       "</div>"
      ],
      "text/plain": [
       "              duration    weekday\n",
       "day_of_week                      \n",
       "0            16.206104     Monday\n",
       "1            15.686343    Tuesday\n",
       "2            15.823277  Wednesday\n",
       "3            16.364606   Thursday\n",
       "4            16.849433     Friday\n",
       "5            16.187999   Saturday\n",
       "6            16.878551     Sunday"
      ]
     },
     "execution_count": 139,
     "metadata": {},
     "output_type": "execute_result"
    }
   ],
   "source": [
    "day_of_week_mean_df"
   ]
  },
  {
   "cell_type": "markdown",
   "metadata": {},
   "source": [
    "<h3>Make a column data source object from this dataframe</h3>"
   ]
  },
  {
   "cell_type": "code",
   "execution_count": 140,
   "metadata": {},
   "outputs": [
    {
     "data": {
      "text/html": [
       "<div>\n",
       "<style scoped>\n",
       "    .dataframe tbody tr th:only-of-type {\n",
       "        vertical-align: middle;\n",
       "    }\n",
       "\n",
       "    .dataframe tbody tr th {\n",
       "        vertical-align: top;\n",
       "    }\n",
       "\n",
       "    .dataframe thead th {\n",
       "        text-align: right;\n",
       "    }\n",
       "</style>\n",
       "<table border=\"1\" class=\"dataframe\">\n",
       "  <thead>\n",
       "    <tr style=\"text-align: right;\">\n",
       "      <th></th>\n",
       "      <th>duration</th>\n",
       "      <th>weekday</th>\n",
       "    </tr>\n",
       "    <tr>\n",
       "      <th>day_of_week</th>\n",
       "      <th></th>\n",
       "      <th></th>\n",
       "    </tr>\n",
       "  </thead>\n",
       "  <tbody>\n",
       "    <tr>\n",
       "      <th>0</th>\n",
       "      <td>16.206104</td>\n",
       "      <td>Monday</td>\n",
       "    </tr>\n",
       "    <tr>\n",
       "      <th>1</th>\n",
       "      <td>15.686343</td>\n",
       "      <td>Tuesday</td>\n",
       "    </tr>\n",
       "    <tr>\n",
       "      <th>2</th>\n",
       "      <td>15.823277</td>\n",
       "      <td>Wednesday</td>\n",
       "    </tr>\n",
       "    <tr>\n",
       "      <th>3</th>\n",
       "      <td>16.364606</td>\n",
       "      <td>Thursday</td>\n",
       "    </tr>\n",
       "    <tr>\n",
       "      <th>4</th>\n",
       "      <td>16.849433</td>\n",
       "      <td>Friday</td>\n",
       "    </tr>\n",
       "    <tr>\n",
       "      <th>5</th>\n",
       "      <td>16.187999</td>\n",
       "      <td>Saturday</td>\n",
       "    </tr>\n",
       "    <tr>\n",
       "      <th>6</th>\n",
       "      <td>16.878551</td>\n",
       "      <td>Sunday</td>\n",
       "    </tr>\n",
       "  </tbody>\n",
       "</table>\n",
       "</div>"
      ],
      "text/plain": [
       "              duration    weekday\n",
       "day_of_week                      \n",
       "0            16.206104     Monday\n",
       "1            15.686343    Tuesday\n",
       "2            15.823277  Wednesday\n",
       "3            16.364606   Thursday\n",
       "4            16.849433     Friday\n",
       "5            16.187999   Saturday\n",
       "6            16.878551     Sunday"
      ]
     },
     "execution_count": 140,
     "metadata": {},
     "output_type": "execute_result"
    }
   ],
   "source": [
    "day_of_week_mean_df"
   ]
  },
  {
   "cell_type": "code",
   "execution_count": 148,
   "metadata": {},
   "outputs": [
    {
     "data": {
      "text/html": [
       "<div>\n",
       "<style scoped>\n",
       "    .dataframe tbody tr th:only-of-type {\n",
       "        vertical-align: middle;\n",
       "    }\n",
       "\n",
       "    .dataframe tbody tr th {\n",
       "        vertical-align: top;\n",
       "    }\n",
       "\n",
       "    .dataframe thead th {\n",
       "        text-align: right;\n",
       "    }\n",
       "</style>\n",
       "<table border=\"1\" class=\"dataframe\">\n",
       "  <thead>\n",
       "    <tr style=\"text-align: right;\">\n",
       "      <th></th>\n",
       "      <th>duration</th>\n",
       "      <th>weekday</th>\n",
       "    </tr>\n",
       "    <tr>\n",
       "      <th>day_of_week</th>\n",
       "      <th></th>\n",
       "      <th></th>\n",
       "    </tr>\n",
       "  </thead>\n",
       "  <tbody>\n",
       "    <tr>\n",
       "      <th>0</th>\n",
       "      <td>16.206104</td>\n",
       "      <td>Monday</td>\n",
       "    </tr>\n",
       "    <tr>\n",
       "      <th>1</th>\n",
       "      <td>15.686343</td>\n",
       "      <td>Tuesday</td>\n",
       "    </tr>\n",
       "    <tr>\n",
       "      <th>2</th>\n",
       "      <td>15.823277</td>\n",
       "      <td>Wednesday</td>\n",
       "    </tr>\n",
       "    <tr>\n",
       "      <th>3</th>\n",
       "      <td>16.364606</td>\n",
       "      <td>Thursday</td>\n",
       "    </tr>\n",
       "    <tr>\n",
       "      <th>4</th>\n",
       "      <td>16.849433</td>\n",
       "      <td>Friday</td>\n",
       "    </tr>\n",
       "    <tr>\n",
       "      <th>5</th>\n",
       "      <td>16.187999</td>\n",
       "      <td>Saturday</td>\n",
       "    </tr>\n",
       "    <tr>\n",
       "      <th>6</th>\n",
       "      <td>16.878551</td>\n",
       "      <td>Sunday</td>\n",
       "    </tr>\n",
       "  </tbody>\n",
       "</table>\n",
       "</div>"
      ],
      "text/plain": [
       "              duration    weekday\n",
       "day_of_week                      \n",
       "0            16.206104     Monday\n",
       "1            15.686343    Tuesday\n",
       "2            15.823277  Wednesday\n",
       "3            16.364606   Thursday\n",
       "4            16.849433     Friday\n",
       "5            16.187999   Saturday\n",
       "6            16.878551     Sunday"
      ]
     },
     "execution_count": 148,
     "metadata": {},
     "output_type": "execute_result"
    }
   ],
   "source": [
    "day_of_week_mean_df"
   ]
  },
  {
   "cell_type": "code",
   "execution_count": 149,
   "metadata": {},
   "outputs": [],
   "source": [
    "from bokeh.models import ColumnDataSource\n",
    "cdata = ColumnDataSource(data=day_of_week_mean_df)"
   ]
  },
  {
   "cell_type": "code",
   "execution_count": 150,
   "metadata": {},
   "outputs": [
    {
     "name": "stdout",
     "output_type": "stream",
     "text": [
      "ColumnDataSource(id='3138', ...)\n"
     ]
    }
   ],
   "source": [
    "print(cdata)"
   ]
  },
  {
   "cell_type": "markdown",
   "metadata": {},
   "source": [
    "<h3>Draw the vertical bar chart</h3>\n",
    "<li>You must include tooltips that show the duration when hovering over a bar</li>\n"
   ]
  },
  {
   "cell_type": "code",
   "execution_count": 159,
   "metadata": {},
   "outputs": [
    {
     "data": {
      "text/html": [
       "\n",
       "  <div class=\"bk-root\" id=\"d09b55f7-a524-4121-8a20-a1f795e73080\" data-root-id=\"4126\"></div>\n"
      ]
     },
     "metadata": {},
     "output_type": "display_data"
    },
    {
     "data": {
      "application/javascript": "(function(root) {\n  function embed_document(root) {\n  const docs_json = {\"5fd4ac03-d8d8-4915-8a05-9a77617666a3\":{\"defs\":[],\"roots\":{\"references\":[{\"attributes\":{\"below\":[{\"id\":\"4137\"}],\"center\":[{\"id\":\"4139\"},{\"id\":\"4143\"}],\"left\":[{\"id\":\"4140\"}],\"renderers\":[{\"id\":\"4164\"}],\"title\":{\"id\":\"4127\"},\"toolbar\":{\"id\":\"4152\"},\"x_range\":{\"id\":\"4129\"},\"x_scale\":{\"id\":\"4133\"},\"y_range\":{\"id\":\"4131\"},\"y_scale\":{\"id\":\"4135\"}},\"id\":\"4126\",\"subtype\":\"Figure\",\"type\":\"Plot\"},{\"attributes\":{\"bottom_units\":\"screen\",\"coordinates\":null,\"fill_alpha\":0.5,\"fill_color\":\"lightgrey\",\"group\":null,\"left_units\":\"screen\",\"level\":\"overlay\",\"line_alpha\":1.0,\"line_color\":\"black\",\"line_dash\":[4,4],\"line_width\":2,\"right_units\":\"screen\",\"syncable\":false,\"top_units\":\"screen\"},\"id\":\"4150\",\"type\":\"BoxAnnotation\"},{\"attributes\":{},\"id\":\"4144\",\"type\":\"PanTool\"},{\"attributes\":{\"fill_color\":{\"value\":\"red\"},\"hatch_color\":{\"value\":\"red\"},\"line_color\":{\"value\":\"red\"},\"top\":{\"field\":\"duration\"},\"width\":{\"value\":0.6},\"x\":{\"field\":\"weekday\"}},\"id\":\"4161\",\"type\":\"VBar\"},{\"attributes\":{},\"id\":\"4138\",\"type\":\"CategoricalTicker\"},{\"attributes\":{},\"id\":\"4135\",\"type\":\"LinearScale\"},{\"attributes\":{},\"id\":\"4133\",\"type\":\"CategoricalScale\"},{\"attributes\":{},\"id\":\"4074\",\"type\":\"Selection\"},{\"attributes\":{\"coordinates\":null,\"group\":null,\"text\":\"Average Trip Duration by Day\"},\"id\":\"4127\",\"type\":\"Title\"},{\"attributes\":{},\"id\":\"4073\",\"type\":\"UnionRenderers\"},{\"attributes\":{\"end\":18},\"id\":\"4131\",\"type\":\"Range1d\"},{\"attributes\":{\"fill_alpha\":{\"value\":0.2},\"fill_color\":{\"value\":\"red\"},\"hatch_alpha\":{\"value\":0.2},\"hatch_color\":{\"value\":\"red\"},\"line_alpha\":{\"value\":0.2},\"line_color\":{\"value\":\"red\"},\"top\":{\"field\":\"duration\"},\"width\":{\"value\":0.6},\"x\":{\"field\":\"weekday\"}},\"id\":\"4163\",\"type\":\"VBar\"},{\"attributes\":{},\"id\":\"4148\",\"type\":\"ResetTool\"},{\"attributes\":{\"tools\":[{\"id\":\"4144\"},{\"id\":\"4145\"},{\"id\":\"4146\"},{\"id\":\"4147\"},{\"id\":\"4148\"},{\"id\":\"4149\"},{\"id\":\"4151\"}]},\"id\":\"4152\",\"type\":\"Toolbar\"},{\"attributes\":{},\"id\":\"4328\",\"type\":\"BasicTickFormatter\"},{\"attributes\":{},\"id\":\"4329\",\"type\":\"AllLabels\"},{\"attributes\":{\"overlay\":{\"id\":\"4150\"}},\"id\":\"4146\",\"type\":\"BoxZoomTool\"},{\"attributes\":{},\"id\":\"4147\",\"type\":\"SaveTool\"},{\"attributes\":{},\"id\":\"4149\",\"type\":\"HelpTool\"},{\"attributes\":{},\"id\":\"4145\",\"type\":\"WheelZoomTool\"},{\"attributes\":{\"source\":{\"id\":\"3138\"}},\"id\":\"4165\",\"type\":\"CDSView\"},{\"attributes\":{},\"id\":\"4331\",\"type\":\"CategoricalTickFormatter\"},{\"attributes\":{\"coordinates\":null,\"data_source\":{\"id\":\"3138\"},\"glyph\":{\"id\":\"4161\"},\"group\":null,\"hover_glyph\":null,\"muted_glyph\":{\"id\":\"4163\"},\"nonselection_glyph\":{\"id\":\"4162\"},\"view\":{\"id\":\"4165\"}},\"id\":\"4164\",\"type\":\"GlyphRenderer\"},{\"attributes\":{\"factors\":[\"Monday\",\"Tuesday\",\"Wednesday\",\"Thursday\",\"Friday\",\"Saturday\",\"Sunday\"]},\"id\":\"4129\",\"type\":\"FactorRange\"},{\"attributes\":{\"axis_label\":\"Duration (minutes)\",\"coordinates\":null,\"formatter\":{\"id\":\"4328\"},\"group\":null,\"major_label_policy\":{\"id\":\"4329\"},\"ticker\":{\"id\":\"4141\"}},\"id\":\"4140\",\"type\":\"LinearAxis\"},{\"attributes\":{},\"id\":\"4332\",\"type\":\"AllLabels\"},{\"attributes\":{},\"id\":\"4141\",\"type\":\"BasicTicker\"},{\"attributes\":{\"callback\":null,\"tooltips\":[[\"avg_duration\",\"@duration\"]]},\"id\":\"4151\",\"type\":\"HoverTool\"},{\"attributes\":{\"axis_label\":\"Day of Week\",\"coordinates\":null,\"formatter\":{\"id\":\"4331\"},\"group\":null,\"major_label_policy\":{\"id\":\"4332\"},\"ticker\":{\"id\":\"4138\"}},\"id\":\"4137\",\"type\":\"CategoricalAxis\"},{\"attributes\":{\"data\":{\"day_of_week\":[0,1,2,3,4,5,6],\"duration\":{\"__ndarray__\":\"yZCKO8M0MECKCURnaF8vQOx43JKEpS9A+Mtty1ZdMEDGk4N3dNkwQOzOr64gMDBAQGWpuujgMEA=\",\"dtype\":\"float64\",\"order\":\"little\",\"shape\":[7]},\"weekday\":[\"Monday\",\"Tuesday\",\"Wednesday\",\"Thursday\",\"Friday\",\"Saturday\",\"Sunday\"]},\"selected\":{\"id\":\"4074\"},\"selection_policy\":{\"id\":\"4073\"}},\"id\":\"3138\",\"type\":\"ColumnDataSource\"},{\"attributes\":{\"fill_alpha\":{\"value\":0.1},\"fill_color\":{\"value\":\"red\"},\"hatch_alpha\":{\"value\":0.1},\"hatch_color\":{\"value\":\"red\"},\"line_alpha\":{\"value\":0.1},\"line_color\":{\"value\":\"red\"},\"top\":{\"field\":\"duration\"},\"width\":{\"value\":0.6},\"x\":{\"field\":\"weekday\"}},\"id\":\"4162\",\"type\":\"VBar\"},{\"attributes\":{\"axis\":{\"id\":\"4140\"},\"coordinates\":null,\"dimension\":1,\"group\":null,\"ticker\":null},\"id\":\"4143\",\"type\":\"Grid\"},{\"attributes\":{\"axis\":{\"id\":\"4137\"},\"coordinates\":null,\"grid_line_color\":null,\"group\":null,\"ticker\":null},\"id\":\"4139\",\"type\":\"Grid\"}],\"root_ids\":[\"4126\"]},\"title\":\"Bokeh Application\",\"version\":\"2.4.3\"}};\n  const render_items = [{\"docid\":\"5fd4ac03-d8d8-4915-8a05-9a77617666a3\",\"root_ids\":[\"4126\"],\"roots\":{\"4126\":\"d09b55f7-a524-4121-8a20-a1f795e73080\"}}];\n  root.Bokeh.embed.embed_items_notebook(docs_json, render_items);\n  }\n  if (root.Bokeh !== undefined) {\n    embed_document(root);\n  } else {\n    let attempts = 0;\n    const timer = setInterval(function(root) {\n      if (root.Bokeh !== undefined) {\n        clearInterval(timer);\n        embed_document(root);\n      } else {\n        attempts++;\n        if (attempts > 100) {\n          clearInterval(timer);\n          console.log(\"Bokeh: ERROR: Unable to run BokehJS code because BokehJS library is missing\");\n        }\n      }\n    }, 10, root)\n  }\n})(window);",
      "application/vnd.bokehjs_exec.v0+json": ""
     },
     "metadata": {
      "application/vnd.bokehjs_exec.v0+json": {
       "id": "4126"
      }
     },
     "output_type": "display_data"
    }
   ],
   "source": [
    "text_labels = day_of_week_mean_df.weekday\n",
    "values = day_of_week_mean_df.duration\n",
    "\n",
    "tooltips = [\n",
    "    (\"avg_duration\", \"@duration\")\n",
    "]\n",
    "\n",
    "\n",
    "p = figure(plot_height = 600, plot_width = 600, x_range=text_labels, y_range=(0, 18),\n",
    "           title = 'Average Trip Duration by Day',\n",
    "          x_axis_label = 'Day of Week', \n",
    "           y_axis_label = 'Duration (minutes)',tooltips=tooltips)\n",
    "\n",
    "\n",
    "\n",
    "p.vbar(x='weekday', top='duration', source=cdata, width=0.6, color = \"red\")\n",
    "\n",
    "p.xgrid.grid_line_color = None\n",
    "p.y_range.start = 0    \n",
    "show(p)"
   ]
  },
  {
   "cell_type": "markdown",
   "metadata": {},
   "source": [
    "<h1>PROBLEM 2: Interactive chart with slider</h1>\n",
    "<li>In this second problem, construct an interactive chart that shows the taxi duration by day of week while varying the pickup_hour</li>\n",
    "<li>Each chart will have day of the week on the x-axis and the number of trips as the height of the bars for a single pickup_hour</li>\n",
    "<li>Construct a slider that slides from 0 to 23 with the graph for all 24 pickup_hours</li>\n",
    "<li>"
   ]
  },
  {
   "cell_type": "markdown",
   "metadata": {},
   "source": [
    "<h3>Group the data by day of week and, within day of week by pickup_hour</h3>"
   ]
  },
  {
   "cell_type": "code",
   "execution_count": 161,
   "metadata": {},
   "outputs": [
    {
     "data": {
      "text/html": [
       "<div>\n",
       "<style scoped>\n",
       "    .dataframe tbody tr th:only-of-type {\n",
       "        vertical-align: middle;\n",
       "    }\n",
       "\n",
       "    .dataframe tbody tr th {\n",
       "        vertical-align: top;\n",
       "    }\n",
       "\n",
       "    .dataframe thead th {\n",
       "        text-align: right;\n",
       "    }\n",
       "</style>\n",
       "<table border=\"1\" class=\"dataframe\">\n",
       "  <thead>\n",
       "    <tr style=\"text-align: right;\">\n",
       "      <th></th>\n",
       "      <th>VendorID</th>\n",
       "      <th>tpep_pickup_datetime</th>\n",
       "      <th>tpep_dropoff_datetime</th>\n",
       "      <th>passenger_count</th>\n",
       "      <th>trip_distance</th>\n",
       "      <th>RatecodeID</th>\n",
       "      <th>store_and_fwd_flag</th>\n",
       "      <th>PULocationID</th>\n",
       "      <th>DOLocationID</th>\n",
       "      <th>payment_type</th>\n",
       "      <th>...</th>\n",
       "      <th>mta_tax</th>\n",
       "      <th>tip_amount</th>\n",
       "      <th>tolls_amount</th>\n",
       "      <th>improvement_surcharge</th>\n",
       "      <th>total_amount</th>\n",
       "      <th>congestion_surcharge</th>\n",
       "      <th>airport_fee</th>\n",
       "      <th>pickup_hour</th>\n",
       "      <th>day_of_week</th>\n",
       "      <th>duration</th>\n",
       "    </tr>\n",
       "  </thead>\n",
       "  <tbody>\n",
       "    <tr>\n",
       "      <th>251537</th>\n",
       "      <td>1</td>\n",
       "      <td>2022-01-04 19:19:30</td>\n",
       "      <td>2022-01-04 19:45:23</td>\n",
       "      <td>1.0</td>\n",
       "      <td>6.10</td>\n",
       "      <td>1.0</td>\n",
       "      <td>N</td>\n",
       "      <td>230</td>\n",
       "      <td>87</td>\n",
       "      <td>1</td>\n",
       "      <td>...</td>\n",
       "      <td>0.5</td>\n",
       "      <td>5.00</td>\n",
       "      <td>0.0</td>\n",
       "      <td>0.3</td>\n",
       "      <td>31.80</td>\n",
       "      <td>2.5</td>\n",
       "      <td>0.0</td>\n",
       "      <td>19</td>\n",
       "      <td>1</td>\n",
       "      <td>25.883333</td>\n",
       "    </tr>\n",
       "    <tr>\n",
       "      <th>324185</th>\n",
       "      <td>1</td>\n",
       "      <td>2022-01-05 19:21:32</td>\n",
       "      <td>2022-01-05 19:30:51</td>\n",
       "      <td>2.0</td>\n",
       "      <td>1.70</td>\n",
       "      <td>1.0</td>\n",
       "      <td>N</td>\n",
       "      <td>48</td>\n",
       "      <td>137</td>\n",
       "      <td>1</td>\n",
       "      <td>...</td>\n",
       "      <td>0.5</td>\n",
       "      <td>2.45</td>\n",
       "      <td>0.0</td>\n",
       "      <td>0.3</td>\n",
       "      <td>14.75</td>\n",
       "      <td>2.5</td>\n",
       "      <td>0.0</td>\n",
       "      <td>19</td>\n",
       "      <td>2</td>\n",
       "      <td>9.316667</td>\n",
       "    </tr>\n",
       "    <tr>\n",
       "      <th>2138097</th>\n",
       "      <td>2</td>\n",
       "      <td>2022-01-28 09:57:13</td>\n",
       "      <td>2022-01-28 10:12:16</td>\n",
       "      <td>1.0</td>\n",
       "      <td>1.91</td>\n",
       "      <td>1.0</td>\n",
       "      <td>N</td>\n",
       "      <td>236</td>\n",
       "      <td>140</td>\n",
       "      <td>1</td>\n",
       "      <td>...</td>\n",
       "      <td>0.5</td>\n",
       "      <td>2.86</td>\n",
       "      <td>0.0</td>\n",
       "      <td>0.3</td>\n",
       "      <td>17.16</td>\n",
       "      <td>2.5</td>\n",
       "      <td>0.0</td>\n",
       "      <td>9</td>\n",
       "      <td>4</td>\n",
       "      <td>15.050000</td>\n",
       "    </tr>\n",
       "    <tr>\n",
       "      <th>1524363</th>\n",
       "      <td>1</td>\n",
       "      <td>2022-01-21 10:29:05</td>\n",
       "      <td>2022-01-21 10:52:00</td>\n",
       "      <td>1.0</td>\n",
       "      <td>1.60</td>\n",
       "      <td>1.0</td>\n",
       "      <td>N</td>\n",
       "      <td>158</td>\n",
       "      <td>79</td>\n",
       "      <td>1</td>\n",
       "      <td>...</td>\n",
       "      <td>0.5</td>\n",
       "      <td>3.55</td>\n",
       "      <td>0.0</td>\n",
       "      <td>0.3</td>\n",
       "      <td>21.35</td>\n",
       "      <td>2.5</td>\n",
       "      <td>0.0</td>\n",
       "      <td>10</td>\n",
       "      <td>4</td>\n",
       "      <td>22.916667</td>\n",
       "    </tr>\n",
       "    <tr>\n",
       "      <th>644049</th>\n",
       "      <td>2</td>\n",
       "      <td>2022-01-10 10:40:40</td>\n",
       "      <td>2022-01-10 10:49:00</td>\n",
       "      <td>6.0</td>\n",
       "      <td>1.18</td>\n",
       "      <td>1.0</td>\n",
       "      <td>N</td>\n",
       "      <td>237</td>\n",
       "      <td>163</td>\n",
       "      <td>1</td>\n",
       "      <td>...</td>\n",
       "      <td>0.5</td>\n",
       "      <td>2.70</td>\n",
       "      <td>0.0</td>\n",
       "      <td>0.3</td>\n",
       "      <td>13.50</td>\n",
       "      <td>2.5</td>\n",
       "      <td>0.0</td>\n",
       "      <td>10</td>\n",
       "      <td>0</td>\n",
       "      <td>8.333333</td>\n",
       "    </tr>\n",
       "  </tbody>\n",
       "</table>\n",
       "<p>5 rows × 22 columns</p>\n",
       "</div>"
      ],
      "text/plain": [
       "         VendorID tpep_pickup_datetime tpep_dropoff_datetime  passenger_count  \\\n",
       "251537          1  2022-01-04 19:19:30   2022-01-04 19:45:23              1.0   \n",
       "324185          1  2022-01-05 19:21:32   2022-01-05 19:30:51              2.0   \n",
       "2138097         2  2022-01-28 09:57:13   2022-01-28 10:12:16              1.0   \n",
       "1524363         1  2022-01-21 10:29:05   2022-01-21 10:52:00              1.0   \n",
       "644049          2  2022-01-10 10:40:40   2022-01-10 10:49:00              6.0   \n",
       "\n",
       "         trip_distance  RatecodeID store_and_fwd_flag  PULocationID  \\\n",
       "251537            6.10         1.0                  N           230   \n",
       "324185            1.70         1.0                  N            48   \n",
       "2138097           1.91         1.0                  N           236   \n",
       "1524363           1.60         1.0                  N           158   \n",
       "644049            1.18         1.0                  N           237   \n",
       "\n",
       "         DOLocationID  payment_type  ...  mta_tax  tip_amount  tolls_amount  \\\n",
       "251537             87             1  ...      0.5        5.00           0.0   \n",
       "324185            137             1  ...      0.5        2.45           0.0   \n",
       "2138097           140             1  ...      0.5        2.86           0.0   \n",
       "1524363            79             1  ...      0.5        3.55           0.0   \n",
       "644049            163             1  ...      0.5        2.70           0.0   \n",
       "\n",
       "         improvement_surcharge  total_amount  congestion_surcharge  \\\n",
       "251537                     0.3         31.80                   2.5   \n",
       "324185                     0.3         14.75                   2.5   \n",
       "2138097                    0.3         17.16                   2.5   \n",
       "1524363                    0.3         21.35                   2.5   \n",
       "644049                     0.3         13.50                   2.5   \n",
       "\n",
       "         airport_fee  pickup_hour  day_of_week   duration  \n",
       "251537           0.0           19            1  25.883333  \n",
       "324185           0.0           19            2   9.316667  \n",
       "2138097          0.0            9            4  15.050000  \n",
       "1524363          0.0           10            4  22.916667  \n",
       "644049           0.0           10            0   8.333333  \n",
       "\n",
       "[5 rows x 22 columns]"
      ]
     },
     "execution_count": 161,
     "metadata": {},
     "output_type": "execute_result"
    }
   ],
   "source": [
    "df.head()"
   ]
  },
  {
   "cell_type": "code",
   "execution_count": 163,
   "metadata": {},
   "outputs": [
    {
     "data": {
      "text/plain": [
       "<pandas.core.groupby.generic.DataFrameGroupBy object at 0x7fdd700d2970>"
      ]
     },
     "execution_count": 163,
     "metadata": {},
     "output_type": "execute_result"
    }
   ],
   "source": [
    "df.groupby(['day_of_week', 'pickup_hour'])"
   ]
  },
  {
   "cell_type": "code",
   "execution_count": 164,
   "metadata": {},
   "outputs": [],
   "source": [
    "hour_group = df.groupby(['day_of_week', 'pickup_hour'])"
   ]
  },
  {
   "cell_type": "markdown",
   "metadata": {},
   "source": [
    "<h3>Get the size of each group and unstack so that rows are weekdays (0, 1,...,7) and cols are hours (0,1,...23)</h3>\n",
    "<li>Then add an additional column (24) as a copy of column 0. Col 24 will be the display column</li>\n",
    "<li>Finally, convert all column names into str (since pickup_hour is an int and column data source objects need str column names)</li>\n",
    "<li>size_df should like like (col names should be strings):</li>\n",
    "<li>Note that your numbers may be different if you're using a random subset of the data</li>\n",
    "\n",
    "<pre>\n",
    "\t0\t1\t2\t3\t4\t5\t6\t7\t8\t9\t...\t16\t17\t18\t19\t20\t21\t22\t23\t24\tdayname\n",
    "day_of_week\t\t\t\t\t\t\t\t\t\t\t\t\t\t\t\t\t\t\t\t\t\n",
    "0\t22368\t14049\t9421\t6574\t7225\t10072\t24590\t44526\t56618\t55145\t...\t55280\t65609\t75620\t69939\t62390\t57315\t50615\t34107\t22368\tMonday\n",
    "1\t24205\t13229\t7721\t5290\t5876\t10479\t30027\t61182\t75061\t68852\t...\t54956\t66460\t81502\t77315\t74094\t73728\t64593\t43512\t24205\tTuesday\n",
    "2\t26920\t14924\t9213\t6438\t6578\t10100\t29918\t61453\t75718\t70062\t...\t54682\t68361\t84792\t84012\t80136\t79127\t72063\t51758\t26920\tWednesday\n",
    "3\t30990\t17882\t11170\t7297\t7084\t10549\t30728\t62179\t75545\t70178\t...\t55160\t68506\t86230\t87825\t84255\t84989\t79568\t63830\t30990\tThursday\n",
    "4\t64946\t51398\t39164\t29309\t22635\t17846\t33878\t64460\t78808\t74686\t...\t69599\t85201\t103036\t104992\t92350\t89919\t94841\t91173\t64946\tFriday\n",
    "5\t81272\t67218\t52933\t38654\t23787\t11349\t13148\t18395\t27400\t40364\t...\t66030\t73453\t81384\t83086\t70752\t69776\t78014\t80825\t81272\tSaturday\n",
    "6\t77206\t66788\t56481\t42242\t25799\t11053\t10810\t14220\t22050\t33439\t...\t73734\t75534\t78610\t67409\t58393\t55413\t50860\t39138\t77206\tSunday\n",
    "</pre>"
   ]
  },
  {
   "cell_type": "code",
   "execution_count": 177,
   "metadata": {},
   "outputs": [],
   "source": [
    "size_df = hour_group.size().unstack()\n",
    "size_df[24] = size_df[0]"
   ]
  },
  {
   "cell_type": "code",
   "execution_count": 178,
   "metadata": {},
   "outputs": [],
   "source": [
    "size_df.columns = size_df.columns.astype(str)"
   ]
  },
  {
   "cell_type": "code",
   "execution_count": 215,
   "metadata": {},
   "outputs": [],
   "source": [
    "size_df['weekday'] = ['Monday', 'Tuesday', 'Wednesday','Thursday','Friday','Saturday','Sunday']"
   ]
  },
  {
   "cell_type": "markdown",
   "metadata": {},
   "source": [
    "<h3>Draw the interactive chart by filling in the code below</h3>\n",
    "<li>Mostly done :)</li>"
   ]
  },
  {
   "cell_type": "code",
   "execution_count": 222,
   "metadata": {},
   "outputs": [
    {
     "data": {
      "text/html": [
       "\n",
       "  <div class=\"bk-root\" id=\"94ea80ed-d3bf-4176-8917-2a4c15898428\" data-root-id=\"13896\"></div>\n"
      ]
     },
     "metadata": {},
     "output_type": "display_data"
    },
    {
     "data": {
      "application/javascript": "(function(root) {\n  function embed_document(root) {\n  const docs_json = {\"f01f9d37-8ac9-435c-a695-2918162c4c24\":{\"defs\":[],\"roots\":{\"references\":[{\"attributes\":{\"children\":[{\"id\":\"13853\"},{\"id\":\"13894\"}]},\"id\":\"13896\",\"type\":\"Row\"},{\"attributes\":{},\"id\":\"13862\",\"type\":\"LinearScale\"},{\"attributes\":{\"axis_label\":\"day of week\",\"coordinates\":null,\"formatter\":{\"id\":\"14316\"},\"group\":null,\"major_label_policy\":{\"id\":\"14317\"},\"ticker\":{\"id\":\"13865\"}},\"id\":\"13864\",\"type\":\"CategoricalAxis\"},{\"attributes\":{},\"id\":\"13875\",\"type\":\"ResetTool\"},{\"attributes\":{\"end\":23,\"js_property_callbacks\":{\"change:value\":[{\"id\":\"13895\"}]},\"start\":0,\"title\":\"Hour of Day\",\"value\":0},\"id\":\"13894\",\"type\":\"Slider\"},{\"attributes\":{},\"id\":\"14318\",\"type\":\"UnionRenderers\"},{\"attributes\":{},\"id\":\"14319\",\"type\":\"Selection\"},{\"attributes\":{},\"id\":\"13876\",\"type\":\"HelpTool\"},{\"attributes\":{\"fill_color\":{\"value\":\"red\"},\"hatch_color\":{\"value\":\"red\"},\"top\":{\"field\":\"24\"},\"width\":{\"value\":0.6},\"x\":{\"field\":\"weekday\"}},\"id\":\"13888\",\"type\":\"VBar\"},{\"attributes\":{\"bottom_units\":\"screen\",\"coordinates\":null,\"fill_alpha\":0.5,\"fill_color\":\"lightgrey\",\"group\":null,\"left_units\":\"screen\",\"level\":\"overlay\",\"line_alpha\":1.0,\"line_color\":\"black\",\"line_dash\":[4,4],\"line_width\":2,\"right_units\":\"screen\",\"syncable\":false,\"top_units\":\"screen\"},\"id\":\"13877\",\"type\":\"BoxAnnotation\"},{\"attributes\":{\"data\":{\"0\":[1014,614,669,839,1262,2973,2466],\"1\":[491,294,277,430,662,2659,2044],\"10\":[3369,3036,3303,3134,2881,2124,2356],\"11\":[3419,3086,3399,3248,3014,2614,2961],\"12\":[3796,3393,3411,3320,3253,3117,3660],\"13\":[3889,3385,3454,3652,3432,3333,3892],\"14\":[4467,3823,3826,4075,4067,3559,4179],\"15\":[4936,4091,4258,4337,4277,3865,4271],\"16\":[4629,3726,3949,4057,4072,4117,4300],\"17\":[4675,4061,4335,4449,4529,4110,3994],\"18\":[4718,4039,4377,4662,4637,4195,3747],\"19\":[3646,3180,3442,3711,4418,3946,3086],\"2\":[240,181,170,254,376,2010,1511],\"20\":[2836,2409,2556,2806,3113,3055,2516],\"21\":[2424,2244,2541,2881,2818,3044,2293],\"22\":[2138,2051,2329,2785,3001,3209,1956],\"23\":[1408,1245,1393,1870,2698,3082,1527],\"24\":[1014,614,669,839,1262,2973,2466],\"3\":[184,120,103,164,228,1238,983],\"4\":[203,106,134,155,205,619,585],\"5\":[395,269,320,298,315,319,332],\"6\":[1062,980,922,900,865,462,485],\"7\":[2280,2197,2060,2208,1914,713,699],\"8\":[3189,3018,3089,3187,2647,911,981],\"9\":[3283,3135,3163,3122,2646,1443,1458],\"day_of_week\":[0,1,2,3,4,5,6],\"weekday\":[\"Monday\",\"Tuesday\",\"Wednesday\",\"Thursday\",\"Friday\",\"Saturday\",\"Sunday\"]},\"selected\":{\"id\":\"14319\"},\"selection_policy\":{\"id\":\"14318\"}},\"id\":\"13852\",\"type\":\"ColumnDataSource\"},{\"attributes\":{},\"id\":\"13874\",\"type\":\"SaveTool\"},{\"attributes\":{\"below\":[{\"id\":\"13864\"}],\"center\":[{\"id\":\"13866\"},{\"id\":\"13870\"}],\"height\":400,\"left\":[{\"id\":\"13867\"}],\"renderers\":[{\"id\":\"13892\"}],\"title\":{\"id\":\"13854\"},\"toolbar\":{\"id\":\"13879\"},\"x_range\":{\"id\":\"13856\"},\"x_scale\":{\"id\":\"13860\"},\"y_range\":{\"id\":\"13858\"},\"y_scale\":{\"id\":\"13862\"}},\"id\":\"13853\",\"subtype\":\"Figure\",\"type\":\"Plot\"},{\"attributes\":{\"overlay\":{\"id\":\"13877\"}},\"id\":\"13873\",\"type\":\"BoxZoomTool\"},{\"attributes\":{\"fill_alpha\":{\"value\":0.2},\"fill_color\":{\"value\":\"red\"},\"hatch_alpha\":{\"value\":0.2},\"hatch_color\":{\"value\":\"red\"},\"line_alpha\":{\"value\":0.2},\"top\":{\"field\":\"24\"},\"width\":{\"value\":0.6},\"x\":{\"field\":\"weekday\"}},\"id\":\"13891\",\"type\":\"VBar\"},{\"attributes\":{},\"id\":\"13868\",\"type\":\"BasicTicker\"},{\"attributes\":{\"args\":{\"slider\":{\"id\":\"13894\"},\"source\":{\"id\":\"13852\"}},\"code\":\"\\n        // widget. this.item is the selected value\\n        // We can print it on the JavaScript console\\n        // Chrome windows/linux: Ctrl - Shift - J\\n        // Chrom mac: Cmd - Option - J\\n        // Safari: Option - Cmd - C\\n        \\n        console.log(' changed selected option', slider.value);\\n\\n        //data is the variable containing all the data\\n        var data = source.data;\\n        var col = this.value\\n        console.log(' changed selected option', data[col]);\\n        // allocate the selected column to the field for the y values\\n        data['24'] = data[col];\\n\\n        // register the change \\n        source.change.emit();\\n\"},\"id\":\"13895\",\"type\":\"CustomJS\"},{\"attributes\":{},\"id\":\"13871\",\"type\":\"PanTool\"},{\"attributes\":{\"start\":0},\"id\":\"13858\",\"type\":\"DataRange1d\"},{\"attributes\":{},\"id\":\"14313\",\"type\":\"BasicTickFormatter\"},{\"attributes\":{\"factors\":[\"Monday\",\"Tuesday\",\"Wednesday\",\"Thursday\",\"Friday\",\"Saturday\",\"Sunday\"]},\"id\":\"13856\",\"type\":\"FactorRange\"},{\"attributes\":{\"tools\":[{\"id\":\"13871\"},{\"id\":\"13872\"},{\"id\":\"13873\"},{\"id\":\"13874\"},{\"id\":\"13875\"},{\"id\":\"13876\"},{\"id\":\"13878\"}]},\"id\":\"13879\",\"type\":\"Toolbar\"},{\"attributes\":{},\"id\":\"14314\",\"type\":\"AllLabels\"},{\"attributes\":{\"callback\":null,\"tooltips\":[[\"number of cases\",\"@24\"]]},\"id\":\"13878\",\"type\":\"HoverTool\"},{\"attributes\":{\"axis\":{\"id\":\"13864\"},\"coordinates\":null,\"grid_line_color\":null,\"group\":null,\"ticker\":null},\"id\":\"13866\",\"type\":\"Grid\"},{\"attributes\":{\"coordinates\":null,\"data_source\":{\"id\":\"13852\"},\"glyph\":{\"id\":\"13888\"},\"group\":null,\"hover_glyph\":{\"id\":\"13890\"},\"muted_glyph\":{\"id\":\"13891\"},\"nonselection_glyph\":{\"id\":\"13889\"},\"view\":{\"id\":\"13893\"}},\"id\":\"13892\",\"type\":\"GlyphRenderer\"},{\"attributes\":{},\"id\":\"14316\",\"type\":\"CategoricalTickFormatter\"},{\"attributes\":{\"source\":{\"id\":\"13852\"}},\"id\":\"13893\",\"type\":\"CDSView\"},{\"attributes\":{},\"id\":\"13860\",\"type\":\"CategoricalScale\"},{\"attributes\":{},\"id\":\"13865\",\"type\":\"CategoricalTicker\"},{\"attributes\":{},\"id\":\"14317\",\"type\":\"AllLabels\"},{\"attributes\":{\"fill_color\":{\"value\":\"blue\"},\"hatch_color\":{\"value\":\"red\"},\"top\":{\"field\":\"24\"},\"width\":{\"value\":0.6},\"x\":{\"field\":\"weekday\"}},\"id\":\"13890\",\"type\":\"VBar\"},{\"attributes\":{\"axis\":{\"id\":\"13867\"},\"coordinates\":null,\"dimension\":1,\"group\":null,\"ticker\":null},\"id\":\"13870\",\"type\":\"Grid\"},{\"attributes\":{\"fill_alpha\":{\"value\":0.1},\"fill_color\":{\"value\":\"red\"},\"hatch_alpha\":{\"value\":0.1},\"hatch_color\":{\"value\":\"red\"},\"line_alpha\":{\"value\":0.1},\"top\":{\"field\":\"24\"},\"width\":{\"value\":0.6},\"x\":{\"field\":\"weekday\"}},\"id\":\"13889\",\"type\":\"VBar\"},{\"attributes\":{\"axis_label\":\"size\",\"coordinates\":null,\"formatter\":{\"id\":\"14313\"},\"group\":null,\"major_label_policy\":{\"id\":\"14314\"},\"ticker\":{\"id\":\"13868\"}},\"id\":\"13867\",\"type\":\"LinearAxis\"},{\"attributes\":{},\"id\":\"13872\",\"type\":\"WheelZoomTool\"},{\"attributes\":{\"coordinates\":null,\"group\":null,\"text\":\"Chart\"},\"id\":\"13854\",\"type\":\"Title\"}],\"root_ids\":[\"13896\"]},\"title\":\"Bokeh Application\",\"version\":\"2.4.3\"}};\n  const render_items = [{\"docid\":\"f01f9d37-8ac9-435c-a695-2918162c4c24\",\"root_ids\":[\"13896\"],\"roots\":{\"13896\":\"94ea80ed-d3bf-4176-8917-2a4c15898428\"}}];\n  root.Bokeh.embed.embed_items_notebook(docs_json, render_items);\n  }\n  if (root.Bokeh !== undefined) {\n    embed_document(root);\n  } else {\n    let attempts = 0;\n    const timer = setInterval(function(root) {\n      if (root.Bokeh !== undefined) {\n        clearInterval(timer);\n        embed_document(root);\n      } else {\n        attempts++;\n        if (attempts > 100) {\n          clearInterval(timer);\n          console.log(\"Bokeh: ERROR: Unable to run BokehJS code because BokehJS library is missing\");\n        }\n      }\n    }, 10, root)\n  }\n})(window);",
      "application/vnd.bokehjs_exec.v0+json": ""
     },
     "metadata": {
      "application/vnd.bokehjs_exec.v0+json": {
       "id": "13896"
      }
     },
     "output_type": "display_data"
    }
   ],
   "source": [
    "from bokeh.layouts import column, row\n",
    "from bokeh.models import CustomJS, Slider\n",
    "from bokeh.plotting import ColumnDataSource, figure, show, output_notebook\n",
    "\n",
    "source = ColumnDataSource(size_df)\n",
    "\n",
    "tooltips = [\n",
    "    (\"number of cases\", \"@24\")\n",
    "]\n",
    "p = figure(x_range=size_df.weekday, plot_height=400, plot_width = 600, \n",
    "           x_axis_label = \"day of week\",\n",
    "           y_axis_label = \"size\",\n",
    "           title=\"Chart\",tooltips=tooltips)\n",
    "\n",
    "p.vbar(x='weekday', top='24', source=source, width=0.6, color = \"red\", hover_fill_color = 'blue', line_color='black',\n",
    "hover_fill_alpha = 1.0)\n",
    "\n",
    "p.xgrid.grid_line_color = None\n",
    "p.y_range.start = 0    \n",
    "\n",
    "slider = Slider(start=0, end=23, value=0, step=1, title=\"Hour of Day\")\n",
    "\n",
    "jscallback = CustomJS(args={'source':source,'slider':slider},code=\"\"\"\n",
    "        // widget. this.item is the selected value\n",
    "        // We can print it on the JavaScript console\n",
    "        // Chrome windows/linux: Ctrl - Shift - J\n",
    "        // Chrom mac: Cmd - Option - J\n",
    "        // Safari: Option - Cmd - C\n",
    "        \n",
    "        console.log(' changed selected option', slider.value);\n",
    "\n",
    "        //data is the variable containing all the data\n",
    "        var data = source.data;\n",
    "        var col = this.value\n",
    "        console.log(' changed selected option', data[col]);\n",
    "        // allocate the selected column to the field for the y values\n",
    "        data['24'] = data[col];\n",
    "\n",
    "        // register the change \n",
    "        source.change.emit();\n",
    "\"\"\")\n",
    "\n",
    "slider.js_on_change(\"value\", jscallback)\n",
    "\n",
    "layout = row(p,slider)\n",
    "show(layout)"
   ]
  },
  {
   "cell_type": "markdown",
   "metadata": {},
   "source": [
    "<h1>PROBLEM 3: Piechart</h1>\n",
    "<li>Use the total_amount column</li>\n",
    "<li>Use the grouped by day of week data</li>\n",
    "<li>Sum the total amount for each group and then compute the fractional amount for each day</li>\n",
    "<li>Using the class notebook piechart as a guide, construct the piechart for distribution of total amount collected by day of week</li>"
   ]
  },
  {
   "cell_type": "code",
   "execution_count": null,
   "metadata": {},
   "outputs": [],
   "source": []
  }
 ],
 "metadata": {
  "kernelspec": {
   "display_name": "base",
   "language": "python",
   "name": "python3"
  },
  "language_info": {
   "codemirror_mode": {
    "name": "ipython",
    "version": 3
   },
   "file_extension": ".py",
   "mimetype": "text/x-python",
   "name": "python",
   "nbconvert_exporter": "python",
   "pygments_lexer": "ipython3",
   "version": "3.9.12"
  },
  "toc": {
   "base_numbering": 1,
   "nav_menu": {},
   "number_sections": true,
   "sideBar": true,
   "skip_h1_title": false,
   "title_cell": "Table of Contents",
   "title_sidebar": "Contents",
   "toc_cell": false,
   "toc_position": {},
   "toc_section_display": true,
   "toc_window_display": false
  },
  "vscode": {
   "interpreter": {
    "hash": "81d5b4a19a276010183013345b38f7d9b6c479ab07551a9ca40dd13abdbac5b2"
   }
  }
 },
 "nbformat": 4,
 "nbformat_minor": 2
}
