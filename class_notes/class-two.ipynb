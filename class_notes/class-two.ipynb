{
 "cells": [
  {
   "attachments": {},
   "cell_type": "markdown",
   "metadata": {},
   "source": [
    "# Class Two Notes"
   ]
  },
  {
   "attachments": {},
   "cell_type": "markdown",
   "metadata": {},
   "source": [
    "### Review of Pandas and Numpy"
   ]
  },
  {
   "cell_type": "code",
   "execution_count": 80,
   "metadata": {},
   "outputs": [],
   "source": [
    "import numpy as np\n",
    "import pandas as pd\n",
    "import matplotlib.pyplot as plt\n",
    "pd.options.display.float_format = '{:,.2f}'.format\n"
   ]
  },
  {
   "attachments": {},
   "cell_type": "markdown",
   "metadata": {},
   "source": [
    "### Why we like Numpy\n",
    "- Multi-dimensional arrays\n",
    "- much faster than lists\n",
    "- cool functionality "
   ]
  },
  {
   "cell_type": "code",
   "execution_count": 24,
   "metadata": {},
   "outputs": [
    {
     "data": {
      "text/plain": [
       "'1.21.5'"
      ]
     },
     "execution_count": 24,
     "metadata": {},
     "output_type": "execute_result"
    }
   ],
   "source": [
    "np.__version__"
   ]
  },
  {
   "cell_type": "markdown",
   "metadata": {},
   "source": []
  },
  {
   "cell_type": "code",
   "execution_count": 25,
   "metadata": {},
   "outputs": [
    {
     "data": {
      "text/plain": [
       "'1.5.3'"
      ]
     },
     "execution_count": 25,
     "metadata": {},
     "output_type": "execute_result"
    }
   ],
   "source": [
    "pd.__version__"
   ]
  },
  {
   "cell_type": "code",
   "execution_count": 26,
   "metadata": {},
   "outputs": [],
   "source": [
    "x = np.array([[1, 2, 3],\n",
    "              [4, 5, 6],\n",
    "              [7, 8, 9],\n",
    "              [10, 11, 12]])"
   ]
  },
  {
   "cell_type": "code",
   "execution_count": 27,
   "metadata": {},
   "outputs": [
    {
     "data": {
      "text/plain": [
       "2"
      ]
     },
     "execution_count": 27,
     "metadata": {},
     "output_type": "execute_result"
    }
   ],
   "source": [
    "x[0][1]"
   ]
  },
  {
   "cell_type": "code",
   "execution_count": 28,
   "metadata": {},
   "outputs": [
    {
     "data": {
      "text/plain": [
       "array([[ 5,  6],\n",
       "       [ 8,  9],\n",
       "       [11, 12]])"
      ]
     },
     "execution_count": 28,
     "metadata": {},
     "output_type": "execute_result"
    }
   ],
   "source": [
    "x[1:,1:]"
   ]
  },
  {
   "cell_type": "code",
   "execution_count": 29,
   "metadata": {},
   "outputs": [
    {
     "data": {
      "text/plain": [
       "array([[ 1,  2,  3,  4,  5,  6],\n",
       "       [ 7,  8,  9, 10, 11, 12]])"
      ]
     },
     "execution_count": 29,
     "metadata": {},
     "output_type": "execute_result"
    }
   ],
   "source": [
    "x.reshape(2, 6)"
   ]
  },
  {
   "cell_type": "code",
   "execution_count": 30,
   "metadata": {},
   "outputs": [],
   "source": [
    "big_array = np.arange(10000000)"
   ]
  },
  {
   "cell_type": "code",
   "execution_count": 31,
   "metadata": {},
   "outputs": [
    {
     "data": {
      "text/plain": [
       "array([       1,        2,        3, ...,  9999998,  9999999, 10000000])"
      ]
     },
     "execution_count": 31,
     "metadata": {},
     "output_type": "execute_result"
    }
   ],
   "source": [
    "big_array + 1 #this is fast"
   ]
  },
  {
   "attachments": {},
   "cell_type": "markdown",
   "metadata": {},
   "source": [
    "### List Comprehensions"
   ]
  },
  {
   "cell_type": "code",
   "execution_count": 32,
   "metadata": {},
   "outputs": [],
   "source": [
    "y = np.array([x for x in range(0,10)])"
   ]
  },
  {
   "cell_type": "code",
   "execution_count": 33,
   "metadata": {},
   "outputs": [
    {
     "data": {
      "text/plain": [
       "4.5"
      ]
     },
     "execution_count": 33,
     "metadata": {},
     "output_type": "execute_result"
    }
   ],
   "source": [
    "y.mean()"
   ]
  },
  {
   "cell_type": "code",
   "execution_count": 34,
   "metadata": {},
   "outputs": [
    {
     "data": {
      "text/plain": [
       "2.8722813232690143"
      ]
     },
     "execution_count": 34,
     "metadata": {},
     "output_type": "execute_result"
    }
   ],
   "source": [
    "y.std()"
   ]
  },
  {
   "cell_type": "code",
   "execution_count": 35,
   "metadata": {},
   "outputs": [
    {
     "data": {
      "text/plain": [
       "45"
      ]
     },
     "execution_count": 35,
     "metadata": {},
     "output_type": "execute_result"
    }
   ],
   "source": [
    "y.sum()"
   ]
  },
  {
   "attachments": {},
   "cell_type": "markdown",
   "metadata": {},
   "source": [
    "### Boolean Operations"
   ]
  },
  {
   "cell_type": "code",
   "execution_count": 36,
   "metadata": {},
   "outputs": [
    {
     "data": {
      "text/plain": [
       "array([[ 3,  4,  5,  6,  7],\n",
       "       [ 8,  9, 10, 11, 12]])"
      ]
     },
     "execution_count": 36,
     "metadata": {},
     "output_type": "execute_result"
    }
   ],
   "source": [
    "x[ x > 2].reshape(2, 5)"
   ]
  },
  {
   "cell_type": "code",
   "execution_count": 37,
   "metadata": {},
   "outputs": [
    {
     "data": {
      "text/plain": [
       "12"
      ]
     },
     "execution_count": 37,
     "metadata": {},
     "output_type": "execute_result"
    }
   ],
   "source": [
    "np.count_nonzero(x)"
   ]
  },
  {
   "cell_type": "code",
   "execution_count": 38,
   "metadata": {},
   "outputs": [
    {
     "data": {
      "text/plain": [
       "12"
      ]
     },
     "execution_count": 38,
     "metadata": {},
     "output_type": "execute_result"
    }
   ],
   "source": [
    "np.size(x)"
   ]
  },
  {
   "cell_type": "code",
   "execution_count": 39,
   "metadata": {},
   "outputs": [
    {
     "data": {
      "text/plain": [
       "(4, 3)"
      ]
     },
     "execution_count": 39,
     "metadata": {},
     "output_type": "execute_result"
    }
   ],
   "source": [
    "x.shape"
   ]
  },
  {
   "attachments": {},
   "cell_type": "markdown",
   "metadata": {},
   "source": [
    "\"np.where\" can be used to replace elements in an array"
   ]
  },
  {
   "cell_type": "code",
   "execution_count": 40,
   "metadata": {},
   "outputs": [
    {
     "ename": "NameError",
     "evalue": "name 'salary' is not defined",
     "output_type": "error",
     "traceback": [
      "\u001b[0;31m---------------------------------------------------------------------------\u001b[0m",
      "\u001b[0;31mNameError\u001b[0m                                 Traceback (most recent call last)",
      "\u001b[0;32m/tmp/ipykernel_56641/2694326431.py\u001b[0m in \u001b[0;36m<module>\u001b[0;34m\u001b[0m\n\u001b[0;32m----> 1\u001b[0;31m \u001b[0mnp\u001b[0m\u001b[0;34m.\u001b[0m\u001b[0mwhere\u001b[0m\u001b[0;34m(\u001b[0m\u001b[0msalary\u001b[0m\u001b[0;34m>\u001b[0m\u001b[0;36m350000\u001b[0m\u001b[0;34m,\u001b[0m\u001b[0;34m\"rich\"\u001b[0m\u001b[0;34m,\u001b[0m\u001b[0mnp\u001b[0m\u001b[0;34m.\u001b[0m\u001b[0mwhere\u001b[0m\u001b[0;34m(\u001b[0m\u001b[0msalary\u001b[0m\u001b[0;34m>\u001b[0m\u001b[0;36m100000\u001b[0m\u001b[0;34m,\u001b[0m\u001b[0;34m\"middle\"\u001b[0m\u001b[0;34m,\u001b[0m\u001b[0;34m\"poor\"\u001b[0m\u001b[0;34m)\u001b[0m\u001b[0;34m)\u001b[0m\u001b[0;34m\u001b[0m\u001b[0;34m\u001b[0m\u001b[0m\n\u001b[0m",
      "\u001b[0;31mNameError\u001b[0m: name 'salary' is not defined"
     ]
    }
   ],
   "source": [
    "np.where(salary>350000,\"rich\",np.where(salary>100000,\"middle\",\"poor\"))"
   ]
  },
  {
   "attachments": {},
   "cell_type": "markdown",
   "metadata": {},
   "source": [
    "### Pandas"
   ]
  },
  {
   "attachments": {},
   "cell_type": "markdown",
   "metadata": {},
   "source": [
    "- pandas is cool\n",
    "- can do a lot of stuff"
   ]
  },
  {
   "cell_type": "code",
   "execution_count": 41,
   "metadata": {},
   "outputs": [
    {
     "data": {
      "text/plain": [
       "'1.5.3'"
      ]
     },
     "execution_count": 41,
     "metadata": {},
     "output_type": "execute_result"
    }
   ],
   "source": [
    "pd.__version__"
   ]
  },
  {
   "cell_type": "code",
   "execution_count": 43,
   "metadata": {},
   "outputs": [
    {
     "data": {
      "text/html": [
       "<div>\n",
       "<style scoped>\n",
       "    .dataframe tbody tr th:only-of-type {\n",
       "        vertical-align: middle;\n",
       "    }\n",
       "\n",
       "    .dataframe tbody tr th {\n",
       "        vertical-align: top;\n",
       "    }\n",
       "\n",
       "    .dataframe thead th {\n",
       "        text-align: right;\n",
       "    }\n",
       "</style>\n",
       "<table border=\"1\" class=\"dataframe\">\n",
       "  <thead>\n",
       "    <tr style=\"text-align: right;\">\n",
       "      <th></th>\n",
       "      <th>0</th>\n",
       "      <th>1</th>\n",
       "      <th>2</th>\n",
       "      <th>3</th>\n",
       "    </tr>\n",
       "  </thead>\n",
       "  <tbody>\n",
       "    <tr>\n",
       "      <th>0</th>\n",
       "      <td>Rao</td>\n",
       "      <td>Tucson</td>\n",
       "      <td>33422.12</td>\n",
       "      <td>27127.22</td>\n",
       "    </tr>\n",
       "    <tr>\n",
       "      <th>1</th>\n",
       "      <td>Montalbano</td>\n",
       "      <td>Chicago</td>\n",
       "      <td>45233.27</td>\n",
       "      <td>41322.13</td>\n",
       "    </tr>\n",
       "    <tr>\n",
       "      <th>2</th>\n",
       "      <td>Zhang</td>\n",
       "      <td>Miami</td>\n",
       "      <td>36234.22</td>\n",
       "      <td>39123.45</td>\n",
       "    </tr>\n",
       "    <tr>\n",
       "      <th>3</th>\n",
       "      <td>Brown</td>\n",
       "      <td>New York</td>\n",
       "      <td>57322.83</td>\n",
       "      <td>41486.28</td>\n",
       "    </tr>\n",
       "    <tr>\n",
       "      <th>4</th>\n",
       "      <td>Achebe</td>\n",
       "      <td>Los Angeles</td>\n",
       "      <td>23490.81</td>\n",
       "      <td>22540.36</td>\n",
       "    </tr>\n",
       "  </tbody>\n",
       "</table>\n",
       "</div>"
      ],
      "text/plain": [
       "            0            1         2         3\n",
       "0         Rao       Tucson  33422.12  27127.22\n",
       "1  Montalbano      Chicago  45233.27  41322.13\n",
       "2       Zhang        Miami  36234.22  39123.45\n",
       "3       Brown     New York  57322.83  41486.28\n",
       "4      Achebe  Los Angeles  23490.81  22540.36"
      ]
     },
     "execution_count": 43,
     "metadata": {},
     "output_type": "execute_result"
    }
   ],
   "source": [
    "df = pd.DataFrame([[\"Rao\",\"Tucson\",33422.12,27127.22],\n",
    "                   [\"Montalbano\",\"Chicago\",45233.27,41322.13],\n",
    "                   [\"Zhang\",\"Miami\",36234.22,39123.45],\n",
    "                   [\"Brown\",\"New York\",57322.83,41486.28],\n",
    "                   [\"Achebe\",\"Los Angeles\",23490.81,22540.36]])\n",
    "\n",
    "df"
   ]
  },
  {
   "attachments": {},
   "cell_type": "markdown",
   "metadata": {},
   "source": [
    "Pandas is cool because different columns can have different data types. BUT within the column all rows must have the same type"
   ]
  },
  {
   "cell_type": "code",
   "execution_count": 46,
   "metadata": {},
   "outputs": [],
   "source": [
    "df.columns = [\"Manager\",\"City\",\"Revenue\",\"Expenses\"]"
   ]
  },
  {
   "cell_type": "code",
   "execution_count": 47,
   "metadata": {},
   "outputs": [
    {
     "data": {
      "text/html": [
       "<div>\n",
       "<style scoped>\n",
       "    .dataframe tbody tr th:only-of-type {\n",
       "        vertical-align: middle;\n",
       "    }\n",
       "\n",
       "    .dataframe tbody tr th {\n",
       "        vertical-align: top;\n",
       "    }\n",
       "\n",
       "    .dataframe thead th {\n",
       "        text-align: right;\n",
       "    }\n",
       "</style>\n",
       "<table border=\"1\" class=\"dataframe\">\n",
       "  <thead>\n",
       "    <tr style=\"text-align: right;\">\n",
       "      <th></th>\n",
       "      <th>Manager</th>\n",
       "      <th>City</th>\n",
       "      <th>Revenue</th>\n",
       "      <th>Expenses</th>\n",
       "    </tr>\n",
       "  </thead>\n",
       "  <tbody>\n",
       "    <tr>\n",
       "      <th>0</th>\n",
       "      <td>Rao</td>\n",
       "      <td>Tucson</td>\n",
       "      <td>33422.12</td>\n",
       "      <td>27127.22</td>\n",
       "    </tr>\n",
       "    <tr>\n",
       "      <th>1</th>\n",
       "      <td>Montalbano</td>\n",
       "      <td>Chicago</td>\n",
       "      <td>45233.27</td>\n",
       "      <td>41322.13</td>\n",
       "    </tr>\n",
       "    <tr>\n",
       "      <th>2</th>\n",
       "      <td>Zhang</td>\n",
       "      <td>Miami</td>\n",
       "      <td>36234.22</td>\n",
       "      <td>39123.45</td>\n",
       "    </tr>\n",
       "    <tr>\n",
       "      <th>3</th>\n",
       "      <td>Brown</td>\n",
       "      <td>New York</td>\n",
       "      <td>57322.83</td>\n",
       "      <td>41486.28</td>\n",
       "    </tr>\n",
       "    <tr>\n",
       "      <th>4</th>\n",
       "      <td>Achebe</td>\n",
       "      <td>Los Angeles</td>\n",
       "      <td>23490.81</td>\n",
       "      <td>22540.36</td>\n",
       "    </tr>\n",
       "  </tbody>\n",
       "</table>\n",
       "</div>"
      ],
      "text/plain": [
       "      Manager         City   Revenue  Expenses\n",
       "0         Rao       Tucson  33422.12  27127.22\n",
       "1  Montalbano      Chicago  45233.27  41322.13\n",
       "2       Zhang        Miami  36234.22  39123.45\n",
       "3       Brown     New York  57322.83  41486.28\n",
       "4      Achebe  Los Angeles  23490.81  22540.36"
      ]
     },
     "execution_count": 47,
     "metadata": {},
     "output_type": "execute_result"
    }
   ],
   "source": [
    "df"
   ]
  },
  {
   "cell_type": "code",
   "execution_count": 48,
   "metadata": {},
   "outputs": [
    {
     "data": {
      "text/plain": [
       "0    33422.12\n",
       "1    45233.27\n",
       "2    36234.22\n",
       "3    57322.83\n",
       "4    23490.81\n",
       "Name: Revenue, dtype: float64"
      ]
     },
     "execution_count": 48,
     "metadata": {},
     "output_type": "execute_result"
    }
   ],
   "source": [
    "df['Revenue']"
   ]
  },
  {
   "cell_type": "code",
   "execution_count": 49,
   "metadata": {},
   "outputs": [],
   "source": [
    "df['Profit'] = df['Revenue'] - df['Expenses']"
   ]
  },
  {
   "cell_type": "code",
   "execution_count": 50,
   "metadata": {},
   "outputs": [
    {
     "data": {
      "text/html": [
       "<div>\n",
       "<style scoped>\n",
       "    .dataframe tbody tr th:only-of-type {\n",
       "        vertical-align: middle;\n",
       "    }\n",
       "\n",
       "    .dataframe tbody tr th {\n",
       "        vertical-align: top;\n",
       "    }\n",
       "\n",
       "    .dataframe thead th {\n",
       "        text-align: right;\n",
       "    }\n",
       "</style>\n",
       "<table border=\"1\" class=\"dataframe\">\n",
       "  <thead>\n",
       "    <tr style=\"text-align: right;\">\n",
       "      <th></th>\n",
       "      <th>Manager</th>\n",
       "      <th>City</th>\n",
       "      <th>Revenue</th>\n",
       "      <th>Expenses</th>\n",
       "      <th>Profit</th>\n",
       "    </tr>\n",
       "  </thead>\n",
       "  <tbody>\n",
       "    <tr>\n",
       "      <th>0</th>\n",
       "      <td>Rao</td>\n",
       "      <td>Tucson</td>\n",
       "      <td>33422.12</td>\n",
       "      <td>27127.22</td>\n",
       "      <td>6294.90</td>\n",
       "    </tr>\n",
       "    <tr>\n",
       "      <th>1</th>\n",
       "      <td>Montalbano</td>\n",
       "      <td>Chicago</td>\n",
       "      <td>45233.27</td>\n",
       "      <td>41322.13</td>\n",
       "      <td>3911.14</td>\n",
       "    </tr>\n",
       "    <tr>\n",
       "      <th>2</th>\n",
       "      <td>Zhang</td>\n",
       "      <td>Miami</td>\n",
       "      <td>36234.22</td>\n",
       "      <td>39123.45</td>\n",
       "      <td>-2889.23</td>\n",
       "    </tr>\n",
       "    <tr>\n",
       "      <th>3</th>\n",
       "      <td>Brown</td>\n",
       "      <td>New York</td>\n",
       "      <td>57322.83</td>\n",
       "      <td>41486.28</td>\n",
       "      <td>15836.55</td>\n",
       "    </tr>\n",
       "    <tr>\n",
       "      <th>4</th>\n",
       "      <td>Achebe</td>\n",
       "      <td>Los Angeles</td>\n",
       "      <td>23490.81</td>\n",
       "      <td>22540.36</td>\n",
       "      <td>950.45</td>\n",
       "    </tr>\n",
       "  </tbody>\n",
       "</table>\n",
       "</div>"
      ],
      "text/plain": [
       "      Manager         City   Revenue  Expenses    Profit\n",
       "0         Rao       Tucson  33422.12  27127.22   6294.90\n",
       "1  Montalbano      Chicago  45233.27  41322.13   3911.14\n",
       "2       Zhang        Miami  36234.22  39123.45  -2889.23\n",
       "3       Brown     New York  57322.83  41486.28  15836.55\n",
       "4      Achebe  Los Angeles  23490.81  22540.36    950.45"
      ]
     },
     "execution_count": 50,
     "metadata": {},
     "output_type": "execute_result"
    }
   ],
   "source": [
    "df"
   ]
  },
  {
   "cell_type": "code",
   "execution_count": 52,
   "metadata": {},
   "outputs": [
    {
     "data": {
      "text/plain": [
       "23490.81"
      ]
     },
     "execution_count": 52,
     "metadata": {},
     "output_type": "execute_result"
    }
   ],
   "source": [
    "df['Revenue'].iloc[4]"
   ]
  },
  {
   "cell_type": "code",
   "execution_count": 57,
   "metadata": {},
   "outputs": [
    {
     "data": {
      "text/plain": [
       "'Tucson'"
      ]
     },
     "execution_count": 57,
     "metadata": {},
     "output_type": "execute_result"
    }
   ],
   "source": [
    "df['City'][0]"
   ]
  },
  {
   "cell_type": "code",
   "execution_count": 60,
   "metadata": {},
   "outputs": [],
   "source": [
    "df['profit_bool'] = np.where(df['Profit']>= 0,True,False)"
   ]
  },
  {
   "cell_type": "code",
   "execution_count": 61,
   "metadata": {},
   "outputs": [
    {
     "data": {
      "text/html": [
       "<div>\n",
       "<style scoped>\n",
       "    .dataframe tbody tr th:only-of-type {\n",
       "        vertical-align: middle;\n",
       "    }\n",
       "\n",
       "    .dataframe tbody tr th {\n",
       "        vertical-align: top;\n",
       "    }\n",
       "\n",
       "    .dataframe thead th {\n",
       "        text-align: right;\n",
       "    }\n",
       "</style>\n",
       "<table border=\"1\" class=\"dataframe\">\n",
       "  <thead>\n",
       "    <tr style=\"text-align: right;\">\n",
       "      <th></th>\n",
       "      <th>Manager</th>\n",
       "      <th>City</th>\n",
       "      <th>Revenue</th>\n",
       "      <th>Expenses</th>\n",
       "      <th>Profit</th>\n",
       "      <th>profit_bool</th>\n",
       "    </tr>\n",
       "  </thead>\n",
       "  <tbody>\n",
       "    <tr>\n",
       "      <th>0</th>\n",
       "      <td>Rao</td>\n",
       "      <td>Tucson</td>\n",
       "      <td>33422.12</td>\n",
       "      <td>27127.22</td>\n",
       "      <td>6294.90</td>\n",
       "      <td>True</td>\n",
       "    </tr>\n",
       "    <tr>\n",
       "      <th>1</th>\n",
       "      <td>Montalbano</td>\n",
       "      <td>Chicago</td>\n",
       "      <td>45233.27</td>\n",
       "      <td>41322.13</td>\n",
       "      <td>3911.14</td>\n",
       "      <td>True</td>\n",
       "    </tr>\n",
       "    <tr>\n",
       "      <th>2</th>\n",
       "      <td>Zhang</td>\n",
       "      <td>Miami</td>\n",
       "      <td>36234.22</td>\n",
       "      <td>39123.45</td>\n",
       "      <td>-2889.23</td>\n",
       "      <td>False</td>\n",
       "    </tr>\n",
       "    <tr>\n",
       "      <th>3</th>\n",
       "      <td>Brown</td>\n",
       "      <td>New York</td>\n",
       "      <td>57322.83</td>\n",
       "      <td>41486.28</td>\n",
       "      <td>15836.55</td>\n",
       "      <td>True</td>\n",
       "    </tr>\n",
       "    <tr>\n",
       "      <th>4</th>\n",
       "      <td>Achebe</td>\n",
       "      <td>Los Angeles</td>\n",
       "      <td>23490.81</td>\n",
       "      <td>22540.36</td>\n",
       "      <td>950.45</td>\n",
       "      <td>True</td>\n",
       "    </tr>\n",
       "  </tbody>\n",
       "</table>\n",
       "</div>"
      ],
      "text/plain": [
       "      Manager         City   Revenue  Expenses    Profit  profit_bool\n",
       "0         Rao       Tucson  33422.12  27127.22   6294.90         True\n",
       "1  Montalbano      Chicago  45233.27  41322.13   3911.14         True\n",
       "2       Zhang        Miami  36234.22  39123.45  -2889.23        False\n",
       "3       Brown     New York  57322.83  41486.28  15836.55         True\n",
       "4      Achebe  Los Angeles  23490.81  22540.36    950.45         True"
      ]
     },
     "execution_count": 61,
     "metadata": {},
     "output_type": "execute_result"
    }
   ],
   "source": [
    "df"
   ]
  },
  {
   "cell_type": "code",
   "execution_count": 62,
   "metadata": {},
   "outputs": [
    {
     "data": {
      "text/html": [
       "<div>\n",
       "<style scoped>\n",
       "    .dataframe tbody tr th:only-of-type {\n",
       "        vertical-align: middle;\n",
       "    }\n",
       "\n",
       "    .dataframe tbody tr th {\n",
       "        vertical-align: top;\n",
       "    }\n",
       "\n",
       "    .dataframe thead th {\n",
       "        text-align: right;\n",
       "    }\n",
       "</style>\n",
       "<table border=\"1\" class=\"dataframe\">\n",
       "  <thead>\n",
       "    <tr style=\"text-align: right;\">\n",
       "      <th></th>\n",
       "      <th>Revenue</th>\n",
       "      <th>Expenses</th>\n",
       "    </tr>\n",
       "  </thead>\n",
       "  <tbody>\n",
       "    <tr>\n",
       "      <th>0</th>\n",
       "      <td>33422.12</td>\n",
       "      <td>27127.22</td>\n",
       "    </tr>\n",
       "    <tr>\n",
       "      <th>1</th>\n",
       "      <td>45233.27</td>\n",
       "      <td>41322.13</td>\n",
       "    </tr>\n",
       "    <tr>\n",
       "      <th>2</th>\n",
       "      <td>36234.22</td>\n",
       "      <td>39123.45</td>\n",
       "    </tr>\n",
       "    <tr>\n",
       "      <th>3</th>\n",
       "      <td>57322.83</td>\n",
       "      <td>41486.28</td>\n",
       "    </tr>\n",
       "    <tr>\n",
       "      <th>4</th>\n",
       "      <td>23490.81</td>\n",
       "      <td>22540.36</td>\n",
       "    </tr>\n",
       "  </tbody>\n",
       "</table>\n",
       "</div>"
      ],
      "text/plain": [
       "    Revenue  Expenses\n",
       "0  33422.12  27127.22\n",
       "1  45233.27  41322.13\n",
       "2  36234.22  39123.45\n",
       "3  57322.83  41486.28\n",
       "4  23490.81  22540.36"
      ]
     },
     "execution_count": 62,
     "metadata": {},
     "output_type": "execute_result"
    }
   ],
   "source": [
    "df[['Revenue','Expenses']]"
   ]
  },
  {
   "cell_type": "code",
   "execution_count": 85,
   "metadata": {},
   "outputs": [
    {
     "data": {
      "text/html": [
       "<div>\n",
       "<style scoped>\n",
       "    .dataframe tbody tr th:only-of-type {\n",
       "        vertical-align: middle;\n",
       "    }\n",
       "\n",
       "    .dataframe tbody tr th {\n",
       "        vertical-align: top;\n",
       "    }\n",
       "\n",
       "    .dataframe thead th {\n",
       "        text-align: right;\n",
       "    }\n",
       "</style>\n",
       "<table border=\"1\" class=\"dataframe\">\n",
       "  <thead>\n",
       "    <tr style=\"text-align: right;\">\n",
       "      <th></th>\n",
       "      <th>name</th>\n",
       "      <th>gender</th>\n",
       "      <th>city</th>\n",
       "      <th>salary</th>\n",
       "      <th>bonus</th>\n",
       "    </tr>\n",
       "  </thead>\n",
       "  <tbody>\n",
       "    <tr>\n",
       "      <th>100</th>\n",
       "      <td>Bill</td>\n",
       "      <td>M</td>\n",
       "      <td>New York</td>\n",
       "      <td>455,000.00</td>\n",
       "      <td>232,300.56</td>\n",
       "    </tr>\n",
       "    <tr>\n",
       "      <th>101</th>\n",
       "      <td>Ludovica</td>\n",
       "      <td>F</td>\n",
       "      <td>Catania</td>\n",
       "      <td>722,321.00</td>\n",
       "      <td>478,123.45</td>\n",
       "    </tr>\n",
       "    <tr>\n",
       "      <th>102</th>\n",
       "      <td>Qing</td>\n",
       "      <td>F</td>\n",
       "      <td>Paris</td>\n",
       "      <td>95,223.00</td>\n",
       "      <td>3,891.24</td>\n",
       "    </tr>\n",
       "    <tr>\n",
       "      <th>103</th>\n",
       "      <td>Savitri</td>\n",
       "      <td>F</td>\n",
       "      <td>New York</td>\n",
       "      <td>135,000.00</td>\n",
       "      <td>98,012.36</td>\n",
       "    </tr>\n",
       "    <tr>\n",
       "      <th>104</th>\n",
       "      <td>Giovanni</td>\n",
       "      <td>M</td>\n",
       "      <td>Sydney</td>\n",
       "      <td>132,033.00</td>\n",
       "      <td>52,123.50</td>\n",
       "    </tr>\n",
       "    <tr>\n",
       "      <th>105</th>\n",
       "      <td>Birgit</td>\n",
       "      <td>F</td>\n",
       "      <td>Sydney</td>\n",
       "      <td>700,000.00</td>\n",
       "      <td>0.00</td>\n",
       "    </tr>\n",
       "    <tr>\n",
       "      <th>106</th>\n",
       "      <td>Bercù</td>\n",
       "      <td>F</td>\n",
       "      <td>Paris</td>\n",
       "      <td>832,123.00</td>\n",
       "      <td>321,000.23</td>\n",
       "    </tr>\n",
       "    <tr>\n",
       "      <th>107</th>\n",
       "      <td>Elodie</td>\n",
       "      <td>F</td>\n",
       "      <td>New York</td>\n",
       "      <td>78,123.11</td>\n",
       "      <td>37,345.22</td>\n",
       "    </tr>\n",
       "    <tr>\n",
       "      <th>108</th>\n",
       "      <td>Gurumul</td>\n",
       "      <td>M</td>\n",
       "      <td>Sydney</td>\n",
       "      <td>13,243.32</td>\n",
       "      <td>121,200.00</td>\n",
       "    </tr>\n",
       "    <tr>\n",
       "      <th>109</th>\n",
       "      <td>Kwame</td>\n",
       "      <td>M</td>\n",
       "      <td>Paris</td>\n",
       "      <td>456,122.17</td>\n",
       "      <td>59,621.33</td>\n",
       "    </tr>\n",
       "    <tr>\n",
       "      <th>110</th>\n",
       "      <td>Rosa</td>\n",
       "      <td>F</td>\n",
       "      <td>New York</td>\n",
       "      <td>912,321.22</td>\n",
       "      <td>94,123.50</td>\n",
       "    </tr>\n",
       "    <tr>\n",
       "      <th>111</th>\n",
       "      <td>João</td>\n",
       "      <td>M</td>\n",
       "      <td>Paris</td>\n",
       "      <td>31,123.00</td>\n",
       "      <td>45,123.20</td>\n",
       "    </tr>\n",
       "  </tbody>\n",
       "</table>\n",
       "</div>"
      ],
      "text/plain": [
       "         name gender      city     salary      bonus\n",
       "100      Bill      M  New York 455,000.00 232,300.56\n",
       "101  Ludovica      F   Catania 722,321.00 478,123.45\n",
       "102      Qing      F     Paris  95,223.00   3,891.24\n",
       "103   Savitri      F  New York 135,000.00  98,012.36\n",
       "104  Giovanni      M    Sydney 132,033.00  52,123.50\n",
       "105    Birgit      F    Sydney 700,000.00       0.00\n",
       "106     Bercù      F     Paris 832,123.00 321,000.23\n",
       "107    Elodie      F  New York  78,123.11  37,345.22\n",
       "108   Gurumul      M    Sydney  13,243.32 121,200.00\n",
       "109     Kwame      M     Paris 456,122.17  59,621.33\n",
       "110      Rosa      F  New York 912,321.22  94,123.50\n",
       "111      João      M     Paris  31,123.00  45,123.20"
      ]
     },
     "execution_count": 85,
     "metadata": {},
     "output_type": "execute_result"
    }
   ],
   "source": [
    "emp_id = np.array([100,101,102,103,104,105,106,107,108,109,110,111])\n",
    "names = np.array(['Bill','Ludovica','Qing','Savitri','Giovanni',\"Birgit\",\n",
    "                  \"Bercù\",\"Elodie\",\"Gurumul\",\"Kwame\",\"Rosa\",\"João\"])\n",
    "bonus = np.array([232300.56,478123.45,3891.24,98012.36,52123.50,0,\n",
    "                  321000.23,37345.22,121200,59621.33,94123.5,45123.2])\n",
    "gender = np.array(['M','F','F','F','M','F','F','F',\"M\",\"M\",\"F\",\"M\"])\n",
    "city = np.array([\"New York\",\"Catania\",\"Paris\",\"New York\",\"Sydney\",\"Sydney\",\n",
    "                 \"Paris\",\"New York\",\"Sydney\",\"Paris\",\"New York\",\"Paris\"])\n",
    "salary = np.array([455000,722321,95223,135000,132033,700000,832123,\n",
    "                   78123.11,13243.32,456122.17,912321.22,31123])\n",
    "columns=[\"name\",\"gender\",\"city\",\"salary\",\"bonus\"]\n",
    "\n",
    "#transpose flips a dataframe!\n",
    "df = pd.DataFrame([names,gender,city,salary,bonus]).transpose().set_index(emp_id)\n",
    "\n",
    "\n",
    "df.columns = columns\n",
    "\n",
    "df['salary'] =df['salary'].astype('float64')\n",
    "df['bonus'] =df['bonus'].astype('float64')\n",
    "\n",
    "\n",
    "df\n"
   ]
  },
  {
   "cell_type": "code",
   "execution_count": 77,
   "metadata": {},
   "outputs": [],
   "source": [
    "avg_salary_by_gender = df.groupby('gender')['salary'].agg([np.mean,np.median])"
   ]
  },
  {
   "cell_type": "code",
   "execution_count": 78,
   "metadata": {},
   "outputs": [
    {
     "data": {
      "text/html": [
       "<div>\n",
       "<style scoped>\n",
       "    .dataframe tbody tr th:only-of-type {\n",
       "        vertical-align: middle;\n",
       "    }\n",
       "\n",
       "    .dataframe tbody tr th {\n",
       "        vertical-align: top;\n",
       "    }\n",
       "\n",
       "    .dataframe thead th {\n",
       "        text-align: right;\n",
       "    }\n",
       "</style>\n",
       "<table border=\"1\" class=\"dataframe\">\n",
       "  <thead>\n",
       "    <tr style=\"text-align: right;\">\n",
       "      <th></th>\n",
       "      <th>mean</th>\n",
       "      <th>median</th>\n",
       "    </tr>\n",
       "    <tr>\n",
       "      <th>gender</th>\n",
       "      <th></th>\n",
       "      <th></th>\n",
       "    </tr>\n",
       "  </thead>\n",
       "  <tbody>\n",
       "    <tr>\n",
       "      <th>F</th>\n",
       "      <td>496444.475714</td>\n",
       "      <td>700000.0</td>\n",
       "    </tr>\n",
       "    <tr>\n",
       "      <th>M</th>\n",
       "      <td>217504.298000</td>\n",
       "      <td>132033.0</td>\n",
       "    </tr>\n",
       "  </tbody>\n",
       "</table>\n",
       "</div>"
      ],
      "text/plain": [
       "                 mean    median\n",
       "gender                         \n",
       "F       496444.475714  700000.0\n",
       "M       217504.298000  132033.0"
      ]
     },
     "execution_count": 78,
     "metadata": {},
     "output_type": "execute_result"
    }
   ],
   "source": [
    "avg_salary_by_gender"
   ]
  },
  {
   "cell_type": "code",
   "execution_count": 72,
   "metadata": {},
   "outputs": [
    {
     "name": "stdout",
     "output_type": "stream",
     "text": [
      "<class 'pandas.core.frame.DataFrame'>\n",
      "Int64Index: 12 entries, 100 to 111\n",
      "Data columns (total 5 columns):\n",
      " #   Column  Non-Null Count  Dtype  \n",
      "---  ------  --------------  -----  \n",
      " 0   name    12 non-null     object \n",
      " 1   gender  12 non-null     object \n",
      " 2   city    12 non-null     object \n",
      " 3   salary  12 non-null     float64\n",
      " 4   bonus   12 non-null     float64\n",
      "dtypes: float64(2), object(3)\n",
      "memory usage: 576.0+ bytes\n"
     ]
    }
   ],
   "source": [
    "df.info()"
   ]
  },
  {
   "cell_type": "code",
   "execution_count": 88,
   "metadata": {},
   "outputs": [
    {
     "data": {
      "text/plain": [
       "city      gender\n",
       "Catania   F        722,321.00\n",
       "New York  F        375,148.11\n",
       "          M        455,000.00\n",
       "Paris     F        463,673.00\n",
       "          M        243,622.58\n",
       "Sydney    F        700,000.00\n",
       "          M         72,638.16\n",
       "Name: salary, dtype: float64"
      ]
     },
     "execution_count": 88,
     "metadata": {},
     "output_type": "execute_result"
    }
   ],
   "source": [
    "city_gender_group = df.groupby(['city','gender'])\n",
    "cgg = city_gender_group['salary'].mean() \n",
    "cgg"
   ]
  },
  {
   "attachments": {},
   "cell_type": "markdown",
   "metadata": {},
   "source": [
    "### Apply and Lambda Functions"
   ]
  },
  {
   "cell_type": "code",
   "execution_count": 89,
   "metadata": {},
   "outputs": [
    {
     "data": {
      "text/html": [
       "<div>\n",
       "<style scoped>\n",
       "    .dataframe tbody tr th:only-of-type {\n",
       "        vertical-align: middle;\n",
       "    }\n",
       "\n",
       "    .dataframe tbody tr th {\n",
       "        vertical-align: top;\n",
       "    }\n",
       "\n",
       "    .dataframe thead th {\n",
       "        text-align: right;\n",
       "    }\n",
       "</style>\n",
       "<table border=\"1\" class=\"dataframe\">\n",
       "  <thead>\n",
       "    <tr style=\"text-align: right;\">\n",
       "      <th></th>\n",
       "      <th>name</th>\n",
       "      <th>gender</th>\n",
       "      <th>city</th>\n",
       "      <th>salary</th>\n",
       "      <th>bonus</th>\n",
       "    </tr>\n",
       "  </thead>\n",
       "  <tbody>\n",
       "    <tr>\n",
       "      <th>100</th>\n",
       "      <td>Bill</td>\n",
       "      <td>M</td>\n",
       "      <td>New York</td>\n",
       "      <td>455,000.00</td>\n",
       "      <td>232,300.56</td>\n",
       "    </tr>\n",
       "    <tr>\n",
       "      <th>101</th>\n",
       "      <td>Ludovica</td>\n",
       "      <td>F</td>\n",
       "      <td>Catania</td>\n",
       "      <td>722,321.00</td>\n",
       "      <td>478,123.45</td>\n",
       "    </tr>\n",
       "    <tr>\n",
       "      <th>102</th>\n",
       "      <td>Qing</td>\n",
       "      <td>F</td>\n",
       "      <td>Paris</td>\n",
       "      <td>95,223.00</td>\n",
       "      <td>3,891.24</td>\n",
       "    </tr>\n",
       "    <tr>\n",
       "      <th>103</th>\n",
       "      <td>Savitri</td>\n",
       "      <td>F</td>\n",
       "      <td>New York</td>\n",
       "      <td>135,000.00</td>\n",
       "      <td>98,012.36</td>\n",
       "    </tr>\n",
       "    <tr>\n",
       "      <th>104</th>\n",
       "      <td>Giovanni</td>\n",
       "      <td>M</td>\n",
       "      <td>Sydney</td>\n",
       "      <td>132,033.00</td>\n",
       "      <td>52,123.50</td>\n",
       "    </tr>\n",
       "    <tr>\n",
       "      <th>105</th>\n",
       "      <td>Birgit</td>\n",
       "      <td>F</td>\n",
       "      <td>Sydney</td>\n",
       "      <td>700,000.00</td>\n",
       "      <td>0.00</td>\n",
       "    </tr>\n",
       "    <tr>\n",
       "      <th>106</th>\n",
       "      <td>Bercù</td>\n",
       "      <td>F</td>\n",
       "      <td>Paris</td>\n",
       "      <td>832,123.00</td>\n",
       "      <td>321,000.23</td>\n",
       "    </tr>\n",
       "    <tr>\n",
       "      <th>107</th>\n",
       "      <td>Elodie</td>\n",
       "      <td>F</td>\n",
       "      <td>New York</td>\n",
       "      <td>78,123.11</td>\n",
       "      <td>37,345.22</td>\n",
       "    </tr>\n",
       "    <tr>\n",
       "      <th>108</th>\n",
       "      <td>Gurumul</td>\n",
       "      <td>M</td>\n",
       "      <td>Sydney</td>\n",
       "      <td>13,243.32</td>\n",
       "      <td>121,200.00</td>\n",
       "    </tr>\n",
       "    <tr>\n",
       "      <th>109</th>\n",
       "      <td>Kwame</td>\n",
       "      <td>M</td>\n",
       "      <td>Paris</td>\n",
       "      <td>456,122.17</td>\n",
       "      <td>59,621.33</td>\n",
       "    </tr>\n",
       "    <tr>\n",
       "      <th>110</th>\n",
       "      <td>Rosa</td>\n",
       "      <td>F</td>\n",
       "      <td>New York</td>\n",
       "      <td>912,321.22</td>\n",
       "      <td>94,123.50</td>\n",
       "    </tr>\n",
       "    <tr>\n",
       "      <th>111</th>\n",
       "      <td>João</td>\n",
       "      <td>M</td>\n",
       "      <td>Paris</td>\n",
       "      <td>31,123.00</td>\n",
       "      <td>45,123.20</td>\n",
       "    </tr>\n",
       "  </tbody>\n",
       "</table>\n",
       "</div>"
      ],
      "text/plain": [
       "         name gender      city     salary      bonus\n",
       "100      Bill      M  New York 455,000.00 232,300.56\n",
       "101  Ludovica      F   Catania 722,321.00 478,123.45\n",
       "102      Qing      F     Paris  95,223.00   3,891.24\n",
       "103   Savitri      F  New York 135,000.00  98,012.36\n",
       "104  Giovanni      M    Sydney 132,033.00  52,123.50\n",
       "105    Birgit      F    Sydney 700,000.00       0.00\n",
       "106     Bercù      F     Paris 832,123.00 321,000.23\n",
       "107    Elodie      F  New York  78,123.11  37,345.22\n",
       "108   Gurumul      M    Sydney  13,243.32 121,200.00\n",
       "109     Kwame      M     Paris 456,122.17  59,621.33\n",
       "110      Rosa      F  New York 912,321.22  94,123.50\n",
       "111      João      M     Paris  31,123.00  45,123.20"
      ]
     },
     "execution_count": 89,
     "metadata": {},
     "output_type": "execute_result"
    }
   ],
   "source": [
    "df"
   ]
  },
  {
   "cell_type": "code",
   "execution_count": 90,
   "metadata": {},
   "outputs": [],
   "source": [
    "def ratio_group(df,index,threshold):\n",
    "    try:\n",
    "        if df.loc[index]['bonus']/df.loc[index]['salary'] > threshold:\n",
    "            return \"High Bonus\"\n",
    "    except:\n",
    "        pass\n",
    "    return \"Low Bonus\""
   ]
  },
  {
   "cell_type": "code",
   "execution_count": 96,
   "metadata": {},
   "outputs": [
    {
     "data": {
      "text/plain": [
       "'Low Bonus'"
      ]
     },
     "execution_count": 96,
     "metadata": {},
     "output_type": "execute_result"
    }
   ],
   "source": [
    "ratio_group(df, 110, .5)"
   ]
  },
  {
   "cell_type": "code",
   "execution_count": 122,
   "metadata": {},
   "outputs": [],
   "source": [
    "def ratio_group(df,index,threshold):\n",
    "    try:\n",
    "        if df.loc[index]['bonus']/df.loc[index]['salary'] > threshold:\n",
    "            return \"High Bonus\"\n",
    "    except:\n",
    "        pass\n",
    "    return \"Low Bonus\"\n",
    "\n",
    "groups = df.groupby(lambda x: ratio_group(df,x,0.5))\n"
   ]
  },
  {
   "cell_type": "code",
   "execution_count": 115,
   "metadata": {},
   "outputs": [],
   "source": [
    "df.drop(['bonus_level'], axis=1, inplace=True)"
   ]
  },
  {
   "cell_type": "code",
   "execution_count": 121,
   "metadata": {},
   "outputs": [],
   "source": [
    "df['bonus_level'] = df.apply(lambda row: 'High Bonus' if row['bonus']/row['salary'] > .5 else 'Low Bonus', axis=1)"
   ]
  },
  {
   "cell_type": "code",
   "execution_count": 125,
   "metadata": {},
   "outputs": [
    {
     "data": {
      "text/html": [
       "<div>\n",
       "<style scoped>\n",
       "    .dataframe tbody tr th:only-of-type {\n",
       "        vertical-align: middle;\n",
       "    }\n",
       "\n",
       "    .dataframe tbody tr th {\n",
       "        vertical-align: top;\n",
       "    }\n",
       "\n",
       "    .dataframe thead th {\n",
       "        text-align: right;\n",
       "    }\n",
       "</style>\n",
       "<table border=\"1\" class=\"dataframe\">\n",
       "  <thead>\n",
       "    <tr style=\"text-align: right;\">\n",
       "      <th></th>\n",
       "      <th>name</th>\n",
       "      <th>gender</th>\n",
       "      <th>city</th>\n",
       "      <th>salary</th>\n",
       "      <th>bonus</th>\n",
       "      <th>bonus_level</th>\n",
       "    </tr>\n",
       "  </thead>\n",
       "  <tbody>\n",
       "    <tr>\n",
       "      <th>100</th>\n",
       "      <td>Bill</td>\n",
       "      <td>M</td>\n",
       "      <td>New York</td>\n",
       "      <td>455,000.00</td>\n",
       "      <td>232,300.56</td>\n",
       "      <td>High Bonus</td>\n",
       "    </tr>\n",
       "    <tr>\n",
       "      <th>101</th>\n",
       "      <td>Ludovica</td>\n",
       "      <td>F</td>\n",
       "      <td>Catania</td>\n",
       "      <td>722,321.00</td>\n",
       "      <td>478,123.45</td>\n",
       "      <td>High Bonus</td>\n",
       "    </tr>\n",
       "    <tr>\n",
       "      <th>102</th>\n",
       "      <td>Qing</td>\n",
       "      <td>F</td>\n",
       "      <td>Paris</td>\n",
       "      <td>95,223.00</td>\n",
       "      <td>3,891.24</td>\n",
       "      <td>Low Bonus</td>\n",
       "    </tr>\n",
       "    <tr>\n",
       "      <th>103</th>\n",
       "      <td>Savitri</td>\n",
       "      <td>F</td>\n",
       "      <td>New York</td>\n",
       "      <td>135,000.00</td>\n",
       "      <td>98,012.36</td>\n",
       "      <td>High Bonus</td>\n",
       "    </tr>\n",
       "    <tr>\n",
       "      <th>104</th>\n",
       "      <td>Giovanni</td>\n",
       "      <td>M</td>\n",
       "      <td>Sydney</td>\n",
       "      <td>132,033.00</td>\n",
       "      <td>52,123.50</td>\n",
       "      <td>Low Bonus</td>\n",
       "    </tr>\n",
       "    <tr>\n",
       "      <th>105</th>\n",
       "      <td>Birgit</td>\n",
       "      <td>F</td>\n",
       "      <td>Sydney</td>\n",
       "      <td>700,000.00</td>\n",
       "      <td>0.00</td>\n",
       "      <td>Low Bonus</td>\n",
       "    </tr>\n",
       "    <tr>\n",
       "      <th>106</th>\n",
       "      <td>Bercù</td>\n",
       "      <td>F</td>\n",
       "      <td>Paris</td>\n",
       "      <td>832,123.00</td>\n",
       "      <td>321,000.23</td>\n",
       "      <td>Low Bonus</td>\n",
       "    </tr>\n",
       "    <tr>\n",
       "      <th>107</th>\n",
       "      <td>Elodie</td>\n",
       "      <td>F</td>\n",
       "      <td>New York</td>\n",
       "      <td>78,123.11</td>\n",
       "      <td>37,345.22</td>\n",
       "      <td>Low Bonus</td>\n",
       "    </tr>\n",
       "    <tr>\n",
       "      <th>108</th>\n",
       "      <td>Gurumul</td>\n",
       "      <td>M</td>\n",
       "      <td>Sydney</td>\n",
       "      <td>13,243.32</td>\n",
       "      <td>121,200.00</td>\n",
       "      <td>High Bonus</td>\n",
       "    </tr>\n",
       "    <tr>\n",
       "      <th>109</th>\n",
       "      <td>Kwame</td>\n",
       "      <td>M</td>\n",
       "      <td>Paris</td>\n",
       "      <td>456,122.17</td>\n",
       "      <td>59,621.33</td>\n",
       "      <td>Low Bonus</td>\n",
       "    </tr>\n",
       "    <tr>\n",
       "      <th>110</th>\n",
       "      <td>Rosa</td>\n",
       "      <td>F</td>\n",
       "      <td>New York</td>\n",
       "      <td>912,321.22</td>\n",
       "      <td>94,123.50</td>\n",
       "      <td>Low Bonus</td>\n",
       "    </tr>\n",
       "    <tr>\n",
       "      <th>111</th>\n",
       "      <td>João</td>\n",
       "      <td>M</td>\n",
       "      <td>Paris</td>\n",
       "      <td>31,123.00</td>\n",
       "      <td>45,123.20</td>\n",
       "      <td>High Bonus</td>\n",
       "    </tr>\n",
       "  </tbody>\n",
       "</table>\n",
       "</div>"
      ],
      "text/plain": [
       "         name gender      city     salary      bonus bonus_level\n",
       "100      Bill      M  New York 455,000.00 232,300.56  High Bonus\n",
       "101  Ludovica      F   Catania 722,321.00 478,123.45  High Bonus\n",
       "102      Qing      F     Paris  95,223.00   3,891.24   Low Bonus\n",
       "103   Savitri      F  New York 135,000.00  98,012.36  High Bonus\n",
       "104  Giovanni      M    Sydney 132,033.00  52,123.50   Low Bonus\n",
       "105    Birgit      F    Sydney 700,000.00       0.00   Low Bonus\n",
       "106     Bercù      F     Paris 832,123.00 321,000.23   Low Bonus\n",
       "107    Elodie      F  New York  78,123.11  37,345.22   Low Bonus\n",
       "108   Gurumul      M    Sydney  13,243.32 121,200.00  High Bonus\n",
       "109     Kwame      M     Paris 456,122.17  59,621.33   Low Bonus\n",
       "110      Rosa      F  New York 912,321.22  94,123.50   Low Bonus\n",
       "111      João      M     Paris  31,123.00  45,123.20  High Bonus"
      ]
     },
     "execution_count": 125,
     "metadata": {},
     "output_type": "execute_result"
    }
   ],
   "source": [
    "df"
   ]
  },
  {
   "cell_type": "code",
   "execution_count": 126,
   "metadata": {},
   "outputs": [],
   "source": [
    "df['bonus_level'] = df.apply(lambda row: \"High\" if row['bonus'] > 100000 else 'Medium' if row['bonus'] > 50000 else 'Low', axis=1)"
   ]
  },
  {
   "cell_type": "code",
   "execution_count": 127,
   "metadata": {},
   "outputs": [
    {
     "data": {
      "text/html": [
       "<div>\n",
       "<style scoped>\n",
       "    .dataframe tbody tr th:only-of-type {\n",
       "        vertical-align: middle;\n",
       "    }\n",
       "\n",
       "    .dataframe tbody tr th {\n",
       "        vertical-align: top;\n",
       "    }\n",
       "\n",
       "    .dataframe thead th {\n",
       "        text-align: right;\n",
       "    }\n",
       "</style>\n",
       "<table border=\"1\" class=\"dataframe\">\n",
       "  <thead>\n",
       "    <tr style=\"text-align: right;\">\n",
       "      <th></th>\n",
       "      <th>name</th>\n",
       "      <th>gender</th>\n",
       "      <th>city</th>\n",
       "      <th>salary</th>\n",
       "      <th>bonus</th>\n",
       "      <th>bonus_level</th>\n",
       "    </tr>\n",
       "  </thead>\n",
       "  <tbody>\n",
       "    <tr>\n",
       "      <th>100</th>\n",
       "      <td>Bill</td>\n",
       "      <td>M</td>\n",
       "      <td>New York</td>\n",
       "      <td>455,000.00</td>\n",
       "      <td>232,300.56</td>\n",
       "      <td>High</td>\n",
       "    </tr>\n",
       "    <tr>\n",
       "      <th>101</th>\n",
       "      <td>Ludovica</td>\n",
       "      <td>F</td>\n",
       "      <td>Catania</td>\n",
       "      <td>722,321.00</td>\n",
       "      <td>478,123.45</td>\n",
       "      <td>High</td>\n",
       "    </tr>\n",
       "    <tr>\n",
       "      <th>102</th>\n",
       "      <td>Qing</td>\n",
       "      <td>F</td>\n",
       "      <td>Paris</td>\n",
       "      <td>95,223.00</td>\n",
       "      <td>3,891.24</td>\n",
       "      <td>Low</td>\n",
       "    </tr>\n",
       "    <tr>\n",
       "      <th>103</th>\n",
       "      <td>Savitri</td>\n",
       "      <td>F</td>\n",
       "      <td>New York</td>\n",
       "      <td>135,000.00</td>\n",
       "      <td>98,012.36</td>\n",
       "      <td>Medium</td>\n",
       "    </tr>\n",
       "    <tr>\n",
       "      <th>104</th>\n",
       "      <td>Giovanni</td>\n",
       "      <td>M</td>\n",
       "      <td>Sydney</td>\n",
       "      <td>132,033.00</td>\n",
       "      <td>52,123.50</td>\n",
       "      <td>Medium</td>\n",
       "    </tr>\n",
       "    <tr>\n",
       "      <th>105</th>\n",
       "      <td>Birgit</td>\n",
       "      <td>F</td>\n",
       "      <td>Sydney</td>\n",
       "      <td>700,000.00</td>\n",
       "      <td>0.00</td>\n",
       "      <td>Low</td>\n",
       "    </tr>\n",
       "    <tr>\n",
       "      <th>106</th>\n",
       "      <td>Bercù</td>\n",
       "      <td>F</td>\n",
       "      <td>Paris</td>\n",
       "      <td>832,123.00</td>\n",
       "      <td>321,000.23</td>\n",
       "      <td>High</td>\n",
       "    </tr>\n",
       "    <tr>\n",
       "      <th>107</th>\n",
       "      <td>Elodie</td>\n",
       "      <td>F</td>\n",
       "      <td>New York</td>\n",
       "      <td>78,123.11</td>\n",
       "      <td>37,345.22</td>\n",
       "      <td>Low</td>\n",
       "    </tr>\n",
       "    <tr>\n",
       "      <th>108</th>\n",
       "      <td>Gurumul</td>\n",
       "      <td>M</td>\n",
       "      <td>Sydney</td>\n",
       "      <td>13,243.32</td>\n",
       "      <td>121,200.00</td>\n",
       "      <td>High</td>\n",
       "    </tr>\n",
       "    <tr>\n",
       "      <th>109</th>\n",
       "      <td>Kwame</td>\n",
       "      <td>M</td>\n",
       "      <td>Paris</td>\n",
       "      <td>456,122.17</td>\n",
       "      <td>59,621.33</td>\n",
       "      <td>Medium</td>\n",
       "    </tr>\n",
       "    <tr>\n",
       "      <th>110</th>\n",
       "      <td>Rosa</td>\n",
       "      <td>F</td>\n",
       "      <td>New York</td>\n",
       "      <td>912,321.22</td>\n",
       "      <td>94,123.50</td>\n",
       "      <td>Medium</td>\n",
       "    </tr>\n",
       "    <tr>\n",
       "      <th>111</th>\n",
       "      <td>João</td>\n",
       "      <td>M</td>\n",
       "      <td>Paris</td>\n",
       "      <td>31,123.00</td>\n",
       "      <td>45,123.20</td>\n",
       "      <td>Low</td>\n",
       "    </tr>\n",
       "  </tbody>\n",
       "</table>\n",
       "</div>"
      ],
      "text/plain": [
       "         name gender      city     salary      bonus bonus_level\n",
       "100      Bill      M  New York 455,000.00 232,300.56        High\n",
       "101  Ludovica      F   Catania 722,321.00 478,123.45        High\n",
       "102      Qing      F     Paris  95,223.00   3,891.24         Low\n",
       "103   Savitri      F  New York 135,000.00  98,012.36      Medium\n",
       "104  Giovanni      M    Sydney 132,033.00  52,123.50      Medium\n",
       "105    Birgit      F    Sydney 700,000.00       0.00         Low\n",
       "106     Bercù      F     Paris 832,123.00 321,000.23        High\n",
       "107    Elodie      F  New York  78,123.11  37,345.22         Low\n",
       "108   Gurumul      M    Sydney  13,243.32 121,200.00        High\n",
       "109     Kwame      M     Paris 456,122.17  59,621.33      Medium\n",
       "110      Rosa      F  New York 912,321.22  94,123.50      Medium\n",
       "111      João      M     Paris  31,123.00  45,123.20         Low"
      ]
     },
     "execution_count": 127,
     "metadata": {},
     "output_type": "execute_result"
    }
   ],
   "source": [
    "df"
   ]
  },
  {
   "attachments": {},
   "cell_type": "markdown",
   "metadata": {},
   "source": [
    "### Joins"
   ]
  },
  {
   "cell_type": "code",
   "execution_count": 128,
   "metadata": {},
   "outputs": [
    {
     "data": {
      "text/html": [
       "<div>\n",
       "<style scoped>\n",
       "    .dataframe tbody tr th:only-of-type {\n",
       "        vertical-align: middle;\n",
       "    }\n",
       "\n",
       "    .dataframe tbody tr th {\n",
       "        vertical-align: top;\n",
       "    }\n",
       "\n",
       "    .dataframe thead th {\n",
       "        text-align: right;\n",
       "    }\n",
       "</style>\n",
       "<table border=\"1\" class=\"dataframe\">\n",
       "  <thead>\n",
       "    <tr style=\"text-align: right;\">\n",
       "      <th></th>\n",
       "      <th>LongName</th>\n",
       "      <th>Head</th>\n",
       "    </tr>\n",
       "    <tr>\n",
       "      <th>Id</th>\n",
       "      <th></th>\n",
       "      <th></th>\n",
       "    </tr>\n",
       "  </thead>\n",
       "  <tbody>\n",
       "    <tr>\n",
       "      <th>A1</th>\n",
       "      <td>Accounting</td>\n",
       "      <td>102</td>\n",
       "    </tr>\n",
       "    <tr>\n",
       "      <th>A2</th>\n",
       "      <td>Admin</td>\n",
       "      <td>105</td>\n",
       "    </tr>\n",
       "    <tr>\n",
       "      <th>S1</th>\n",
       "      <td>Sales</td>\n",
       "      <td>108</td>\n",
       "    </tr>\n",
       "    <tr>\n",
       "      <th>Q1</th>\n",
       "      <td>Quant Trading</td>\n",
       "      <td>101</td>\n",
       "    </tr>\n",
       "  </tbody>\n",
       "</table>\n",
       "</div>"
      ],
      "text/plain": [
       "         LongName  Head\n",
       "Id                     \n",
       "A1     Accounting   102\n",
       "A2          Admin   105\n",
       "S1          Sales   108\n",
       "Q1  Quant Trading   101"
      ]
     },
     "execution_count": 128,
     "metadata": {},
     "output_type": "execute_result"
    }
   ],
   "source": [
    "depts = pd.DataFrame([['A1','Accounting',102],['A2','Admin',105],['S1','Sales',108],['Q1','Quant Trading',101]],\n",
    "                     columns=['Id','LongName','Head']).set_index('Id')\n",
    "depts"
   ]
  },
  {
   "cell_type": "code",
   "execution_count": 129,
   "metadata": {},
   "outputs": [],
   "source": [
    "heads = depts.join(df,on='Head') \n"
   ]
  },
  {
   "cell_type": "code",
   "execution_count": 130,
   "metadata": {},
   "outputs": [
    {
     "data": {
      "text/html": [
       "<div>\n",
       "<style scoped>\n",
       "    .dataframe tbody tr th:only-of-type {\n",
       "        vertical-align: middle;\n",
       "    }\n",
       "\n",
       "    .dataframe tbody tr th {\n",
       "        vertical-align: top;\n",
       "    }\n",
       "\n",
       "    .dataframe thead th {\n",
       "        text-align: right;\n",
       "    }\n",
       "</style>\n",
       "<table border=\"1\" class=\"dataframe\">\n",
       "  <thead>\n",
       "    <tr style=\"text-align: right;\">\n",
       "      <th></th>\n",
       "      <th>LongName</th>\n",
       "      <th>Head</th>\n",
       "      <th>name</th>\n",
       "      <th>gender</th>\n",
       "      <th>city</th>\n",
       "      <th>salary</th>\n",
       "      <th>bonus</th>\n",
       "      <th>bonus_level</th>\n",
       "    </tr>\n",
       "    <tr>\n",
       "      <th>Id</th>\n",
       "      <th></th>\n",
       "      <th></th>\n",
       "      <th></th>\n",
       "      <th></th>\n",
       "      <th></th>\n",
       "      <th></th>\n",
       "      <th></th>\n",
       "      <th></th>\n",
       "    </tr>\n",
       "  </thead>\n",
       "  <tbody>\n",
       "    <tr>\n",
       "      <th>A1</th>\n",
       "      <td>Accounting</td>\n",
       "      <td>102</td>\n",
       "      <td>Qing</td>\n",
       "      <td>F</td>\n",
       "      <td>Paris</td>\n",
       "      <td>95,223.00</td>\n",
       "      <td>3,891.24</td>\n",
       "      <td>Low</td>\n",
       "    </tr>\n",
       "    <tr>\n",
       "      <th>A2</th>\n",
       "      <td>Admin</td>\n",
       "      <td>105</td>\n",
       "      <td>Birgit</td>\n",
       "      <td>F</td>\n",
       "      <td>Sydney</td>\n",
       "      <td>700,000.00</td>\n",
       "      <td>0.00</td>\n",
       "      <td>Low</td>\n",
       "    </tr>\n",
       "    <tr>\n",
       "      <th>S1</th>\n",
       "      <td>Sales</td>\n",
       "      <td>108</td>\n",
       "      <td>Gurumul</td>\n",
       "      <td>M</td>\n",
       "      <td>Sydney</td>\n",
       "      <td>13,243.32</td>\n",
       "      <td>121,200.00</td>\n",
       "      <td>High</td>\n",
       "    </tr>\n",
       "    <tr>\n",
       "      <th>Q1</th>\n",
       "      <td>Quant Trading</td>\n",
       "      <td>101</td>\n",
       "      <td>Ludovica</td>\n",
       "      <td>F</td>\n",
       "      <td>Catania</td>\n",
       "      <td>722,321.00</td>\n",
       "      <td>478,123.45</td>\n",
       "      <td>High</td>\n",
       "    </tr>\n",
       "  </tbody>\n",
       "</table>\n",
       "</div>"
      ],
      "text/plain": [
       "         LongName  Head      name gender     city     salary      bonus  \\\n",
       "Id                                                                        \n",
       "A1     Accounting   102      Qing      F    Paris  95,223.00   3,891.24   \n",
       "A2          Admin   105    Birgit      F   Sydney 700,000.00       0.00   \n",
       "S1          Sales   108   Gurumul      M   Sydney  13,243.32 121,200.00   \n",
       "Q1  Quant Trading   101  Ludovica      F  Catania 722,321.00 478,123.45   \n",
       "\n",
       "   bonus_level  \n",
       "Id              \n",
       "A1         Low  \n",
       "A2         Low  \n",
       "S1        High  \n",
       "Q1        High  "
      ]
     },
     "execution_count": 130,
     "metadata": {},
     "output_type": "execute_result"
    }
   ],
   "source": [
    "heads"
   ]
  },
  {
   "attachments": {},
   "cell_type": "markdown",
   "metadata": {},
   "source": [
    "### Reading HTML\n",
    "Pandas actually has a function for retrieving html tables from websites. This can save some time as you don't have to web scrape it."
   ]
  },
  {
   "cell_type": "code",
   "execution_count": 137,
   "metadata": {},
   "outputs": [],
   "source": [
    "df_list = pd.read_html('https://www.x-rates.com/table/?from=USD&amount=1')"
   ]
  },
  {
   "cell_type": "code",
   "execution_count": 142,
   "metadata": {},
   "outputs": [
    {
     "data": {
      "text/html": [
       "<div>\n",
       "<style scoped>\n",
       "    .dataframe tbody tr th:only-of-type {\n",
       "        vertical-align: middle;\n",
       "    }\n",
       "\n",
       "    .dataframe tbody tr th {\n",
       "        vertical-align: top;\n",
       "    }\n",
       "\n",
       "    .dataframe thead th {\n",
       "        text-align: right;\n",
       "    }\n",
       "</style>\n",
       "<table border=\"1\" class=\"dataframe\">\n",
       "  <thead>\n",
       "    <tr style=\"text-align: right;\">\n",
       "      <th></th>\n",
       "      <th>US Dollar</th>\n",
       "      <th>1.00 USD</th>\n",
       "      <th>inv. 1.00 USD</th>\n",
       "    </tr>\n",
       "  </thead>\n",
       "  <tbody>\n",
       "    <tr>\n",
       "      <th>0</th>\n",
       "      <td>Euro</td>\n",
       "      <td>0.92</td>\n",
       "      <td>1.09</td>\n",
       "    </tr>\n",
       "    <tr>\n",
       "      <th>1</th>\n",
       "      <td>British Pound</td>\n",
       "      <td>0.81</td>\n",
       "      <td>1.23</td>\n",
       "    </tr>\n",
       "    <tr>\n",
       "      <th>2</th>\n",
       "      <td>Indian Rupee</td>\n",
       "      <td>81.76</td>\n",
       "      <td>0.01</td>\n",
       "    </tr>\n",
       "    <tr>\n",
       "      <th>3</th>\n",
       "      <td>Australian Dollar</td>\n",
       "      <td>1.42</td>\n",
       "      <td>0.71</td>\n",
       "    </tr>\n",
       "    <tr>\n",
       "      <th>4</th>\n",
       "      <td>Canadian Dollar</td>\n",
       "      <td>1.33</td>\n",
       "      <td>0.75</td>\n",
       "    </tr>\n",
       "    <tr>\n",
       "      <th>5</th>\n",
       "      <td>Singapore Dollar</td>\n",
       "      <td>1.31</td>\n",
       "      <td>0.76</td>\n",
       "    </tr>\n",
       "    <tr>\n",
       "      <th>6</th>\n",
       "      <td>Swiss Franc</td>\n",
       "      <td>0.92</td>\n",
       "      <td>1.09</td>\n",
       "    </tr>\n",
       "    <tr>\n",
       "      <th>7</th>\n",
       "      <td>Malaysian Ringgit</td>\n",
       "      <td>4.27</td>\n",
       "      <td>0.23</td>\n",
       "    </tr>\n",
       "    <tr>\n",
       "      <th>8</th>\n",
       "      <td>Japanese Yen</td>\n",
       "      <td>130.06</td>\n",
       "      <td>0.01</td>\n",
       "    </tr>\n",
       "    <tr>\n",
       "      <th>9</th>\n",
       "      <td>Chinese Yuan Renminbi</td>\n",
       "      <td>6.75</td>\n",
       "      <td>0.15</td>\n",
       "    </tr>\n",
       "  </tbody>\n",
       "</table>\n",
       "</div>"
      ],
      "text/plain": [
       "               US Dollar  1.00 USD  inv. 1.00 USD\n",
       "0                   Euro      0.92           1.09\n",
       "1          British Pound      0.81           1.23\n",
       "2           Indian Rupee     81.76           0.01\n",
       "3      Australian Dollar      1.42           0.71\n",
       "4        Canadian Dollar      1.33           0.75\n",
       "5       Singapore Dollar      1.31           0.76\n",
       "6            Swiss Franc      0.92           1.09\n",
       "7      Malaysian Ringgit      4.27           0.23\n",
       "8           Japanese Yen    130.06           0.01\n",
       "9  Chinese Yuan Renminbi      6.75           0.15"
      ]
     },
     "execution_count": 142,
     "metadata": {},
     "output_type": "execute_result"
    }
   ],
   "source": [
    "df_list[0]"
   ]
  },
  {
   "cell_type": "code",
   "execution_count": 143,
   "metadata": {},
   "outputs": [
    {
     "data": {
      "text/html": [
       "<div>\n",
       "<style scoped>\n",
       "    .dataframe tbody tr th:only-of-type {\n",
       "        vertical-align: middle;\n",
       "    }\n",
       "\n",
       "    .dataframe tbody tr th {\n",
       "        vertical-align: top;\n",
       "    }\n",
       "\n",
       "    .dataframe thead th {\n",
       "        text-align: right;\n",
       "    }\n",
       "</style>\n",
       "<table border=\"1\" class=\"dataframe\">\n",
       "  <thead>\n",
       "    <tr style=\"text-align: right;\">\n",
       "      <th></th>\n",
       "      <th>US Dollar</th>\n",
       "      <th>1.00 USD</th>\n",
       "      <th>inv. 1.00 USD</th>\n",
       "    </tr>\n",
       "  </thead>\n",
       "  <tbody>\n",
       "    <tr>\n",
       "      <th>0</th>\n",
       "      <td>Argentine Peso</td>\n",
       "      <td>186.97</td>\n",
       "      <td>0.01</td>\n",
       "    </tr>\n",
       "    <tr>\n",
       "      <th>1</th>\n",
       "      <td>Australian Dollar</td>\n",
       "      <td>1.42</td>\n",
       "      <td>0.71</td>\n",
       "    </tr>\n",
       "    <tr>\n",
       "      <th>2</th>\n",
       "      <td>Bahraini Dinar</td>\n",
       "      <td>0.38</td>\n",
       "      <td>2.66</td>\n",
       "    </tr>\n",
       "    <tr>\n",
       "      <th>3</th>\n",
       "      <td>Botswana Pula</td>\n",
       "      <td>12.85</td>\n",
       "      <td>0.08</td>\n",
       "    </tr>\n",
       "    <tr>\n",
       "      <th>4</th>\n",
       "      <td>Brazilian Real</td>\n",
       "      <td>5.07</td>\n",
       "      <td>0.20</td>\n",
       "    </tr>\n",
       "    <tr>\n",
       "      <th>5</th>\n",
       "      <td>Bruneian Dollar</td>\n",
       "      <td>1.31</td>\n",
       "      <td>0.76</td>\n",
       "    </tr>\n",
       "    <tr>\n",
       "      <th>6</th>\n",
       "      <td>Bulgarian Lev</td>\n",
       "      <td>1.80</td>\n",
       "      <td>0.56</td>\n",
       "    </tr>\n",
       "    <tr>\n",
       "      <th>7</th>\n",
       "      <td>Canadian Dollar</td>\n",
       "      <td>1.33</td>\n",
       "      <td>0.75</td>\n",
       "    </tr>\n",
       "    <tr>\n",
       "      <th>8</th>\n",
       "      <td>Chilean Peso</td>\n",
       "      <td>796.17</td>\n",
       "      <td>0.00</td>\n",
       "    </tr>\n",
       "    <tr>\n",
       "      <th>9</th>\n",
       "      <td>Chinese Yuan Renminbi</td>\n",
       "      <td>6.75</td>\n",
       "      <td>0.15</td>\n",
       "    </tr>\n",
       "    <tr>\n",
       "      <th>10</th>\n",
       "      <td>Colombian Peso</td>\n",
       "      <td>4,661.00</td>\n",
       "      <td>0.00</td>\n",
       "    </tr>\n",
       "    <tr>\n",
       "      <th>11</th>\n",
       "      <td>Czech Koruna</td>\n",
       "      <td>21.89</td>\n",
       "      <td>0.05</td>\n",
       "    </tr>\n",
       "    <tr>\n",
       "      <th>12</th>\n",
       "      <td>Danish Krone</td>\n",
       "      <td>6.85</td>\n",
       "      <td>0.15</td>\n",
       "    </tr>\n",
       "    <tr>\n",
       "      <th>13</th>\n",
       "      <td>Euro</td>\n",
       "      <td>0.92</td>\n",
       "      <td>1.09</td>\n",
       "    </tr>\n",
       "    <tr>\n",
       "      <th>14</th>\n",
       "      <td>Hong Kong Dollar</td>\n",
       "      <td>7.84</td>\n",
       "      <td>0.13</td>\n",
       "    </tr>\n",
       "    <tr>\n",
       "      <th>15</th>\n",
       "      <td>Hungarian Forint</td>\n",
       "      <td>360.05</td>\n",
       "      <td>0.00</td>\n",
       "    </tr>\n",
       "    <tr>\n",
       "      <th>16</th>\n",
       "      <td>Icelandic Krona</td>\n",
       "      <td>141.08</td>\n",
       "      <td>0.01</td>\n",
       "    </tr>\n",
       "    <tr>\n",
       "      <th>17</th>\n",
       "      <td>Indian Rupee</td>\n",
       "      <td>81.76</td>\n",
       "      <td>0.01</td>\n",
       "    </tr>\n",
       "    <tr>\n",
       "      <th>18</th>\n",
       "      <td>Indonesian Rupiah</td>\n",
       "      <td>14,994.96</td>\n",
       "      <td>0.00</td>\n",
       "    </tr>\n",
       "    <tr>\n",
       "      <th>19</th>\n",
       "      <td>Iranian Rial</td>\n",
       "      <td>42,002.57</td>\n",
       "      <td>0.00</td>\n",
       "    </tr>\n",
       "    <tr>\n",
       "      <th>20</th>\n",
       "      <td>Israeli Shekel</td>\n",
       "      <td>3.46</td>\n",
       "      <td>0.29</td>\n",
       "    </tr>\n",
       "    <tr>\n",
       "      <th>21</th>\n",
       "      <td>Japanese Yen</td>\n",
       "      <td>130.06</td>\n",
       "      <td>0.01</td>\n",
       "    </tr>\n",
       "    <tr>\n",
       "      <th>22</th>\n",
       "      <td>Kazakhstani Tenge</td>\n",
       "      <td>460.47</td>\n",
       "      <td>0.00</td>\n",
       "    </tr>\n",
       "    <tr>\n",
       "      <th>23</th>\n",
       "      <td>South Korean Won</td>\n",
       "      <td>1,233.46</td>\n",
       "      <td>0.00</td>\n",
       "    </tr>\n",
       "    <tr>\n",
       "      <th>24</th>\n",
       "      <td>Kuwaiti Dinar</td>\n",
       "      <td>0.31</td>\n",
       "      <td>3.27</td>\n",
       "    </tr>\n",
       "    <tr>\n",
       "      <th>25</th>\n",
       "      <td>Libyan Dinar</td>\n",
       "      <td>4.76</td>\n",
       "      <td>0.21</td>\n",
       "    </tr>\n",
       "    <tr>\n",
       "      <th>26</th>\n",
       "      <td>Malaysian Ringgit</td>\n",
       "      <td>4.27</td>\n",
       "      <td>0.23</td>\n",
       "    </tr>\n",
       "    <tr>\n",
       "      <th>27</th>\n",
       "      <td>Mauritian Rupee</td>\n",
       "      <td>44.30</td>\n",
       "      <td>0.02</td>\n",
       "    </tr>\n",
       "    <tr>\n",
       "      <th>28</th>\n",
       "      <td>Mexican Peso</td>\n",
       "      <td>18.84</td>\n",
       "      <td>0.05</td>\n",
       "    </tr>\n",
       "    <tr>\n",
       "      <th>29</th>\n",
       "      <td>Nepalese Rupee</td>\n",
       "      <td>130.88</td>\n",
       "      <td>0.01</td>\n",
       "    </tr>\n",
       "    <tr>\n",
       "      <th>30</th>\n",
       "      <td>New Zealand Dollar</td>\n",
       "      <td>1.55</td>\n",
       "      <td>0.64</td>\n",
       "    </tr>\n",
       "    <tr>\n",
       "      <th>31</th>\n",
       "      <td>Norwegian Krone</td>\n",
       "      <td>9.99</td>\n",
       "      <td>0.10</td>\n",
       "    </tr>\n",
       "    <tr>\n",
       "      <th>32</th>\n",
       "      <td>Omani Rial</td>\n",
       "      <td>0.39</td>\n",
       "      <td>2.60</td>\n",
       "    </tr>\n",
       "    <tr>\n",
       "      <th>33</th>\n",
       "      <td>Pakistani Rupee</td>\n",
       "      <td>268.48</td>\n",
       "      <td>0.00</td>\n",
       "    </tr>\n",
       "    <tr>\n",
       "      <th>34</th>\n",
       "      <td>Philippine Peso</td>\n",
       "      <td>54.62</td>\n",
       "      <td>0.02</td>\n",
       "    </tr>\n",
       "    <tr>\n",
       "      <th>35</th>\n",
       "      <td>Polish Zloty</td>\n",
       "      <td>4.33</td>\n",
       "      <td>0.23</td>\n",
       "    </tr>\n",
       "    <tr>\n",
       "      <th>36</th>\n",
       "      <td>Qatari Riyal</td>\n",
       "      <td>3.64</td>\n",
       "      <td>0.27</td>\n",
       "    </tr>\n",
       "    <tr>\n",
       "      <th>37</th>\n",
       "      <td>Romanian New Leu</td>\n",
       "      <td>4.53</td>\n",
       "      <td>0.22</td>\n",
       "    </tr>\n",
       "    <tr>\n",
       "      <th>38</th>\n",
       "      <td>Russian Ruble</td>\n",
       "      <td>70.47</td>\n",
       "      <td>0.01</td>\n",
       "    </tr>\n",
       "    <tr>\n",
       "      <th>39</th>\n",
       "      <td>Saudi Arabian Riyal</td>\n",
       "      <td>3.75</td>\n",
       "      <td>0.27</td>\n",
       "    </tr>\n",
       "    <tr>\n",
       "      <th>40</th>\n",
       "      <td>Singapore Dollar</td>\n",
       "      <td>1.31</td>\n",
       "      <td>0.76</td>\n",
       "    </tr>\n",
       "    <tr>\n",
       "      <th>41</th>\n",
       "      <td>South African Rand</td>\n",
       "      <td>17.42</td>\n",
       "      <td>0.06</td>\n",
       "    </tr>\n",
       "    <tr>\n",
       "      <th>42</th>\n",
       "      <td>Sri Lankan Rupee</td>\n",
       "      <td>367.05</td>\n",
       "      <td>0.00</td>\n",
       "    </tr>\n",
       "    <tr>\n",
       "      <th>43</th>\n",
       "      <td>Swedish Krona</td>\n",
       "      <td>10.46</td>\n",
       "      <td>0.10</td>\n",
       "    </tr>\n",
       "    <tr>\n",
       "      <th>44</th>\n",
       "      <td>Swiss Franc</td>\n",
       "      <td>0.92</td>\n",
       "      <td>1.09</td>\n",
       "    </tr>\n",
       "    <tr>\n",
       "      <th>45</th>\n",
       "      <td>Taiwan New Dollar</td>\n",
       "      <td>30.06</td>\n",
       "      <td>0.03</td>\n",
       "    </tr>\n",
       "    <tr>\n",
       "      <th>46</th>\n",
       "      <td>Thai Baht</td>\n",
       "      <td>32.87</td>\n",
       "      <td>0.03</td>\n",
       "    </tr>\n",
       "    <tr>\n",
       "      <th>47</th>\n",
       "      <td>Trinidadian Dollar</td>\n",
       "      <td>6.79</td>\n",
       "      <td>0.15</td>\n",
       "    </tr>\n",
       "    <tr>\n",
       "      <th>48</th>\n",
       "      <td>Turkish Lira</td>\n",
       "      <td>18.82</td>\n",
       "      <td>0.05</td>\n",
       "    </tr>\n",
       "    <tr>\n",
       "      <th>49</th>\n",
       "      <td>Emirati Dirham</td>\n",
       "      <td>3.67</td>\n",
       "      <td>0.27</td>\n",
       "    </tr>\n",
       "    <tr>\n",
       "      <th>50</th>\n",
       "      <td>British Pound</td>\n",
       "      <td>0.81</td>\n",
       "      <td>1.23</td>\n",
       "    </tr>\n",
       "    <tr>\n",
       "      <th>51</th>\n",
       "      <td>Venezuelan Bolivar</td>\n",
       "      <td>2,222,320.16</td>\n",
       "      <td>0.00</td>\n",
       "    </tr>\n",
       "  </tbody>\n",
       "</table>\n",
       "</div>"
      ],
      "text/plain": [
       "                US Dollar     1.00 USD  inv. 1.00 USD\n",
       "0          Argentine Peso       186.97           0.01\n",
       "1       Australian Dollar         1.42           0.71\n",
       "2          Bahraini Dinar         0.38           2.66\n",
       "3           Botswana Pula        12.85           0.08\n",
       "4          Brazilian Real         5.07           0.20\n",
       "5         Bruneian Dollar         1.31           0.76\n",
       "6           Bulgarian Lev         1.80           0.56\n",
       "7         Canadian Dollar         1.33           0.75\n",
       "8            Chilean Peso       796.17           0.00\n",
       "9   Chinese Yuan Renminbi         6.75           0.15\n",
       "10         Colombian Peso     4,661.00           0.00\n",
       "11           Czech Koruna        21.89           0.05\n",
       "12           Danish Krone         6.85           0.15\n",
       "13                   Euro         0.92           1.09\n",
       "14       Hong Kong Dollar         7.84           0.13\n",
       "15       Hungarian Forint       360.05           0.00\n",
       "16        Icelandic Krona       141.08           0.01\n",
       "17           Indian Rupee        81.76           0.01\n",
       "18      Indonesian Rupiah    14,994.96           0.00\n",
       "19           Iranian Rial    42,002.57           0.00\n",
       "20         Israeli Shekel         3.46           0.29\n",
       "21           Japanese Yen       130.06           0.01\n",
       "22      Kazakhstani Tenge       460.47           0.00\n",
       "23       South Korean Won     1,233.46           0.00\n",
       "24          Kuwaiti Dinar         0.31           3.27\n",
       "25           Libyan Dinar         4.76           0.21\n",
       "26      Malaysian Ringgit         4.27           0.23\n",
       "27        Mauritian Rupee        44.30           0.02\n",
       "28           Mexican Peso        18.84           0.05\n",
       "29         Nepalese Rupee       130.88           0.01\n",
       "30     New Zealand Dollar         1.55           0.64\n",
       "31        Norwegian Krone         9.99           0.10\n",
       "32             Omani Rial         0.39           2.60\n",
       "33        Pakistani Rupee       268.48           0.00\n",
       "34        Philippine Peso        54.62           0.02\n",
       "35           Polish Zloty         4.33           0.23\n",
       "36           Qatari Riyal         3.64           0.27\n",
       "37       Romanian New Leu         4.53           0.22\n",
       "38          Russian Ruble        70.47           0.01\n",
       "39    Saudi Arabian Riyal         3.75           0.27\n",
       "40       Singapore Dollar         1.31           0.76\n",
       "41     South African Rand        17.42           0.06\n",
       "42       Sri Lankan Rupee       367.05           0.00\n",
       "43          Swedish Krona        10.46           0.10\n",
       "44            Swiss Franc         0.92           1.09\n",
       "45      Taiwan New Dollar        30.06           0.03\n",
       "46              Thai Baht        32.87           0.03\n",
       "47     Trinidadian Dollar         6.79           0.15\n",
       "48           Turkish Lira        18.82           0.05\n",
       "49         Emirati Dirham         3.67           0.27\n",
       "50          British Pound         0.81           1.23\n",
       "51     Venezuelan Bolivar 2,222,320.16           0.00"
      ]
     },
     "execution_count": 143,
     "metadata": {},
     "output_type": "execute_result"
    }
   ],
   "source": [
    "df_list[1]"
   ]
  },
  {
   "cell_type": "code",
   "execution_count": null,
   "metadata": {},
   "outputs": [],
   "source": []
  }
 ],
 "metadata": {
  "kernelspec": {
   "display_name": "base",
   "language": "python",
   "name": "python3"
  },
  "language_info": {
   "codemirror_mode": {
    "name": "ipython",
    "version": 3
   },
   "file_extension": ".py",
   "mimetype": "text/x-python",
   "name": "python",
   "nbconvert_exporter": "python",
   "pygments_lexer": "ipython3",
   "version": "3.9.12"
  },
  "orig_nbformat": 4,
  "vscode": {
   "interpreter": {
    "hash": "81d5b4a19a276010183013345b38f7d9b6c479ab07551a9ca40dd13abdbac5b2"
   }
  }
 },
 "nbformat": 4,
 "nbformat_minor": 2
}
