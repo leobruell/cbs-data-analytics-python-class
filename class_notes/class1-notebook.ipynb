{
 "cells": [
  {
   "attachments": {},
   "cell_type": "markdown",
   "metadata": {},
   "source": [
    "# Class 1 Notes"
   ]
  },
  {
   "attachments": {},
   "cell_type": "markdown",
   "metadata": {},
   "source": [
    "## Web Scraping"
   ]
  },
  {
   "attachments": {},
   "cell_type": "markdown",
   "metadata": {},
   "source": [
    "We will use the requests and BeautifulSoup libraries."
   ]
  },
  {
   "cell_type": "code",
   "execution_count": 6,
   "metadata": {},
   "outputs": [],
   "source": [
    "import sys\n",
    "import requests\n",
    "from bs4 import BeautifulSoup"
   ]
  },
  {
   "cell_type": "code",
   "execution_count": 7,
   "metadata": {},
   "outputs": [
    {
     "data": {
      "text/plain": [
       "'/home/leo/anaconda3/bin/python'"
      ]
     },
     "execution_count": 7,
     "metadata": {},
     "output_type": "execute_result"
    }
   ],
   "source": [
    "#The code below checks the Python version.\n",
    "sys.executable"
   ]
  },
  {
   "cell_type": "code",
   "execution_count": 8,
   "metadata": {},
   "outputs": [
    {
     "data": {
      "text/plain": [
       "<Response [200]>"
      ]
     },
     "execution_count": 8,
     "metadata": {},
     "output_type": "execute_result"
    }
   ],
   "source": [
    "url = \"https://thefactfile.org/countries-currencies-symbols/\"\n",
    "requests.get(url) #200 is the good response"
   ]
  },
  {
   "cell_type": "code",
   "execution_count": 9,
   "metadata": {},
   "outputs": [
    {
     "data": {
      "text/plain": [
       "bytes"
      ]
     },
     "execution_count": 9,
     "metadata": {},
     "output_type": "execute_result"
    }
   ],
   "source": [
    "response = requests.get(url)\n",
    "response.status_code\n",
    "type(response.content) #The content comes in as bytes not as a string"
   ]
  },
  {
   "cell_type": "code",
   "execution_count": 10,
   "metadata": {},
   "outputs": [
    {
     "data": {
      "text/plain": [
       "str"
      ]
     },
     "execution_count": 10,
     "metadata": {},
     "output_type": "execute_result"
    }
   ],
   "source": [
    "type(response.text) #This gets it into a string"
   ]
  },
  {
   "cell_type": "code",
   "execution_count": 11,
   "metadata": {},
   "outputs": [],
   "source": [
    "def get_currency_list():\n",
    "    currency_list = []\n",
    "    if response.status_code == 200:\n",
    "        soup = BeautifulSoup(response.text)\n",
    "        soup_tbody = soup.find('tbody',{\"class\":\"row-hover\"}) #The class part is not necessary if there is only one table, but helps if multiple tables on page. \n",
    "        row_list = soup_tbody.find_all('tr') #this returns a list-like element\n",
    "        for row in row_list:\n",
    "            country = row.find_all('td')[1].get_text()\n",
    "            currency = row.find_all('td')[2].get_text()\n",
    "            symbol = row.find_all('td')[3].get_text()\n",
    "            currency_list.append((country.strip(), currency.strip(), symbol.strip())) #The .strip() removes special characters\n",
    "    return currency_list"
   ]
  },
  {
   "cell_type": "code",
   "execution_count": 12,
   "metadata": {},
   "outputs": [],
   "source": [
    "def get_currency_rates(iso_code):\n",
    "    url = \"http://www.xe.com/currencytables/?from=\" + iso_code \n",
    "    x_rate_list = []\n",
    "    response = requests.get(url)\n",
    "    if response.status_code == 200:\n",
    "        soup = BeautifulSoup(response.text)\n",
    "        table_body = soup.find('tbody')\n",
    "        table_rows = table_body.find_all('tr')\n",
    "        for row in table_rows:\n",
    "            cur_code = row.find('th').text\n",
    "            cur_name = row.find_all('td')[0].text\n",
    "            cur_rate = row.find_all('td')[1].text\n",
    "            cur_rate_2 = row.find_all('td')[2].text\n",
    "            x_rate_list.append((cur_code.strip(),cur_name.strip(), cur_rate.strip(), cur_rate_2.strip()))\n",
    "    return x_rate_list"
   ]
  },
  {
   "attachments": {},
   "cell_type": "markdown",
   "metadata": {},
   "source": [
    "### In-class Problem"
   ]
  },
  {
   "cell_type": "code",
   "execution_count": 27,
   "metadata": {},
   "outputs": [],
   "source": [
    "def get_xchange_rate(c1,c2):\n",
    "    url = 'https://www.xe.com/currencyconverter/convert/?Amount=1&From={}&To={}'.format(c1,c2)\n",
    "    response = requests.get(url)\n",
    "    if response.status_code == 200:\n",
    "        soup = BeautifulSoup(response.text)\n",
    "        the_rate = soup.find('p',{\"class\":\"result__BigRate-sc-1bsijpp-1 iGrAod\"}).text.split()[0]\n",
    "        return the_rate\n",
    "    return \"Requests could not connect to the website. Sad.\""
   ]
  },
  {
   "cell_type": "code",
   "execution_count": 29,
   "metadata": {},
   "outputs": [
    {
     "data": {
      "text/plain": [
       "'1.4200702'"
      ]
     },
     "execution_count": 29,
     "metadata": {},
     "output_type": "execute_result"
    }
   ],
   "source": [
    "get_xchange_rate('USD','AUD')"
   ]
  },
  {
   "cell_type": "code",
   "execution_count": 28,
   "metadata": {},
   "outputs": [
    {
     "data": {
      "text/plain": [
       "'Requests could not connect to the website. Sad.'"
      ]
     },
     "execution_count": 28,
     "metadata": {},
     "output_type": "execute_result"
    }
   ],
   "source": [
    "get_xchange_rate('AFNasd','GTQ')"
   ]
  }
 ],
 "metadata": {
  "kernelspec": {
   "display_name": "base",
   "language": "python",
   "name": "python3"
  },
  "language_info": {
   "codemirror_mode": {
    "name": "ipython",
    "version": 3
   },
   "file_extension": ".py",
   "mimetype": "text/x-python",
   "name": "python",
   "nbconvert_exporter": "python",
   "pygments_lexer": "ipython3",
   "version": "3.9.12"
  },
  "orig_nbformat": 4,
  "vscode": {
   "interpreter": {
    "hash": "81d5b4a19a276010183013345b38f7d9b6c479ab07551a9ca40dd13abdbac5b2"
   }
  }
 },
 "nbformat": 4,
 "nbformat_minor": 2
}
